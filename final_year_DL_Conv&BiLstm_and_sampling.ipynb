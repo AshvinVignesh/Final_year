{
  "nbformat": 4,
  "nbformat_minor": 0,
  "metadata": {
    "colab": {
      "provenance": [],
      "gpuType": "T4",
      "authorship_tag": "ABX9TyOcBOiJYPBUUr6uvFubHq7G",
      "include_colab_link": true
    },
    "kernelspec": {
      "name": "python3",
      "display_name": "Python 3"
    },
    "language_info": {
      "name": "python"
    },
    "accelerator": "GPU"
  },
  "cells": [
    {
      "cell_type": "markdown",
      "metadata": {
        "id": "view-in-github",
        "colab_type": "text"
      },
      "source": [
        "<a href=\"https://colab.research.google.com/github/AshvinVignesh/Final_year/blob/main/final_year_DL_Conv%26BiLstm_and_sampling.ipynb\" target=\"_parent\"><img src=\"https://colab.research.google.com/assets/colab-badge.svg\" alt=\"Open In Colab\"/></a>"
      ]
    },
    {
      "cell_type": "code",
      "source": [
        "!pip install imblearn"
      ],
      "metadata": {
        "collapsed": true,
        "colab": {
          "base_uri": "https://localhost:8080/"
        },
        "id": "EIk2auxpSIzu",
        "outputId": "d498cdff-4b76-4236-ac34-ee45e5ae4fdc"
      },
      "execution_count": null,
      "outputs": [
        {
          "output_type": "stream",
          "name": "stdout",
          "text": [
            "Collecting imblearn\n",
            "  Downloading imblearn-0.0-py2.py3-none-any.whl.metadata (355 bytes)\n",
            "Collecting imbalanced-learn (from imblearn)\n",
            "  Downloading imbalanced_learn-0.13.0-py3-none-any.whl.metadata (8.8 kB)\n",
            "Requirement already satisfied: numpy<3,>=1.24.3 in /usr/local/lib/python3.11/dist-packages (from imbalanced-learn->imblearn) (1.26.4)\n",
            "Requirement already satisfied: scipy<2,>=1.10.1 in /usr/local/lib/python3.11/dist-packages (from imbalanced-learn->imblearn) (1.13.1)\n",
            "Requirement already satisfied: scikit-learn<2,>=1.3.2 in /usr/local/lib/python3.11/dist-packages (from imbalanced-learn->imblearn) (1.6.1)\n",
            "Collecting sklearn-compat<1,>=0.1 (from imbalanced-learn->imblearn)\n",
            "  Downloading sklearn_compat-0.1.3-py3-none-any.whl.metadata (18 kB)\n",
            "Requirement already satisfied: joblib<2,>=1.1.1 in /usr/local/lib/python3.11/dist-packages (from imbalanced-learn->imblearn) (1.4.2)\n",
            "Requirement already satisfied: threadpoolctl<4,>=2.0.0 in /usr/local/lib/python3.11/dist-packages (from imbalanced-learn->imblearn) (3.5.0)\n",
            "Downloading imblearn-0.0-py2.py3-none-any.whl (1.9 kB)\n",
            "Downloading imbalanced_learn-0.13.0-py3-none-any.whl (238 kB)\n",
            "\u001b[2K   \u001b[90m━━━━━━━━━━━━━━━━━━━━━━━━━━━━━━━━━━━━━━━━\u001b[0m \u001b[32m238.4/238.4 kB\u001b[0m \u001b[31m4.8 MB/s\u001b[0m eta \u001b[36m0:00:00\u001b[0m\n",
            "\u001b[?25hDownloading sklearn_compat-0.1.3-py3-none-any.whl (18 kB)\n",
            "Installing collected packages: sklearn-compat, imbalanced-learn, imblearn\n",
            "Successfully installed imbalanced-learn-0.13.0 imblearn-0.0 sklearn-compat-0.1.3\n"
          ]
        }
      ]
    },
    {
      "cell_type": "code",
      "execution_count": null,
      "metadata": {
        "id": "lbH9nIR13lUX"
      },
      "outputs": [],
      "source": [
        "import tensorflow as tf\n",
        "from tensorflow.keras.preprocessing.text import Tokenizer\n",
        "from tensorflow.keras.preprocessing.sequence import pad_sequences\n",
        "from tensorflow.keras.models import Sequential\n",
        "from tensorflow.keras.layers import Embedding, LSTM, Dense, Dropout,Input , Layer , Bidirectional ,Reshape,MaxPooling2D, Conv1D, MaxPooling1D,Flatten\n",
        "from tensorflow.keras.optimizers import Adam\n",
        "from tensorflow.keras.utils import to_categorical\n",
        "import tensorflow.keras.backend as K\n"
      ]
    },
    {
      "cell_type": "code",
      "source": [
        "import pandas as pd\n",
        "import gensim\n",
        "import numpy as np\n",
        "from sklearn.model_selection import train_test_split\n",
        "import matplotlib.pyplot as plt\n",
        "from sklearn.metrics import classification_report , f1_score, accuracy_score\n",
        "from sklearn.model_selection import StratifiedKFold\n",
        "from sklearn.preprocessing import LabelEncoder\n",
        "from imblearn.over_sampling import SMOTE\n",
        "from imblearn.under_sampling import RandomUnderSampler\n",
        "from sklearn.utils.class_weight import compute_class_weight"
      ],
      "metadata": {
        "id": "sZZaIzZo4bJG"
      },
      "execution_count": null,
      "outputs": []
    },
    {
      "cell_type": "code",
      "source": [
        "df = pd.read_csv(\"Full_data_aspect_removed_words.csv\")\n",
        "df.head()"
      ],
      "metadata": {
        "colab": {
          "base_uri": "https://localhost:8080/",
          "height": 293
        },
        "id": "ZMSILxB-4biG",
        "outputId": "b4325238-dcc2-43bc-cbbd-91bd06f73899"
      },
      "execution_count": null,
      "outputs": [
        {
          "output_type": "execute_result",
          "data": {
            "text/plain": [
              "                                       original_text  \\\n",
              "0                        இரைச்சல் இல்லாத தெளிவான இசை   \n",
              "1               harris romba naal kalichu super song   \n",
              "2  hukum pondra iraichal padalai ketu kaathu vali...   \n",
              "3           youtube la kuda editing nalla pannuvanga   \n",
              "4                    amaran is also a diwali release   \n",
              "\n",
              "                             sentences_with_pos_tags        lang sentiment  \\\n",
              "0      இரைச்சல்/NOUN இல்லாத/ADJ தெளிவான/ADJ இசை/NOUN       Tamil  POSITIVE   \n",
              "1  harris/PROPN romba/ADV naal/NOUN kalichu/VERB ...  Code-Mixed  POSITIVE   \n",
              "2  hukum/PROPN pondra/ADP iraichal/NOUN padalai/N...  Code-Mixed   NEUTRAL   \n",
              "3  youtube/PROPN la/ADP kuda/ADV editing/NOUN nal...  Code-Mixed   NEUTRAL   \n",
              "4  amaran/PROPN is/AUX also/ADV a/DET diwali/PROP...  Code-Mixed   NEUTRAL   \n",
              "\n",
              "                                          clean_text  Acting  direction  \\\n",
              "0                        இரைச்சல் இல்லாத தெளிவான இசை       0          0   \n",
              "1               harris romba naal kalichu super song       0          0   \n",
              "2  hukum pondra iraichal padalai ketu kaathu vali...       0          0   \n",
              "3              youtube kuda editing nalla pannuvanga       0          0   \n",
              "4                              amaran diwali release       0          0   \n",
              "\n",
              "   Music  VFX  Genre  excitement  ovr_sent  \\\n",
              "0      1    0      0           0         1   \n",
              "1      1    0      0           0         1   \n",
              "2      1    0      0           0         1   \n",
              "3      0    1      0           0         1   \n",
              "4      0    0      0           0         0   \n",
              "\n",
              "                                          stop_words  \n",
              "0                                    இல்லாத, தெளிவான  \n",
              "1                               romba, naal, kalichu  \n",
              "2  pondr, iraichal, ketu, kaathu, valichuruchu, a...  \n",
              "3                                           la, kuda  \n",
              "4                                        is, also, a  "
            ],
            "text/html": [
              "\n",
              "  <div id=\"df-d91b2340-07db-45eb-a477-6365cb047d92\" class=\"colab-df-container\">\n",
              "    <div>\n",
              "<style scoped>\n",
              "    .dataframe tbody tr th:only-of-type {\n",
              "        vertical-align: middle;\n",
              "    }\n",
              "\n",
              "    .dataframe tbody tr th {\n",
              "        vertical-align: top;\n",
              "    }\n",
              "\n",
              "    .dataframe thead th {\n",
              "        text-align: right;\n",
              "    }\n",
              "</style>\n",
              "<table border=\"1\" class=\"dataframe\">\n",
              "  <thead>\n",
              "    <tr style=\"text-align: right;\">\n",
              "      <th></th>\n",
              "      <th>original_text</th>\n",
              "      <th>sentences_with_pos_tags</th>\n",
              "      <th>lang</th>\n",
              "      <th>sentiment</th>\n",
              "      <th>clean_text</th>\n",
              "      <th>Acting</th>\n",
              "      <th>direction</th>\n",
              "      <th>Music</th>\n",
              "      <th>VFX</th>\n",
              "      <th>Genre</th>\n",
              "      <th>excitement</th>\n",
              "      <th>ovr_sent</th>\n",
              "      <th>stop_words</th>\n",
              "    </tr>\n",
              "  </thead>\n",
              "  <tbody>\n",
              "    <tr>\n",
              "      <th>0</th>\n",
              "      <td>இரைச்சல் இல்லாத தெளிவான இசை</td>\n",
              "      <td>இரைச்சல்/NOUN இல்லாத/ADJ தெளிவான/ADJ இசை/NOUN</td>\n",
              "      <td>Tamil</td>\n",
              "      <td>POSITIVE</td>\n",
              "      <td>இரைச்சல் இல்லாத தெளிவான இசை</td>\n",
              "      <td>0</td>\n",
              "      <td>0</td>\n",
              "      <td>1</td>\n",
              "      <td>0</td>\n",
              "      <td>0</td>\n",
              "      <td>0</td>\n",
              "      <td>1</td>\n",
              "      <td>இல்லாத, தெளிவான</td>\n",
              "    </tr>\n",
              "    <tr>\n",
              "      <th>1</th>\n",
              "      <td>harris romba naal kalichu super song</td>\n",
              "      <td>harris/PROPN romba/ADV naal/NOUN kalichu/VERB ...</td>\n",
              "      <td>Code-Mixed</td>\n",
              "      <td>POSITIVE</td>\n",
              "      <td>harris romba naal kalichu super song</td>\n",
              "      <td>0</td>\n",
              "      <td>0</td>\n",
              "      <td>1</td>\n",
              "      <td>0</td>\n",
              "      <td>0</td>\n",
              "      <td>0</td>\n",
              "      <td>1</td>\n",
              "      <td>romba, naal, kalichu</td>\n",
              "    </tr>\n",
              "    <tr>\n",
              "      <th>2</th>\n",
              "      <td>hukum pondra iraichal padalai ketu kaathu vali...</td>\n",
              "      <td>hukum/PROPN pondra/ADP iraichal/NOUN padalai/N...</td>\n",
              "      <td>Code-Mixed</td>\n",
              "      <td>NEUTRAL</td>\n",
              "      <td>hukum pondra iraichal padalai ketu kaathu vali...</td>\n",
              "      <td>0</td>\n",
              "      <td>0</td>\n",
              "      <td>1</td>\n",
              "      <td>0</td>\n",
              "      <td>0</td>\n",
              "      <td>0</td>\n",
              "      <td>1</td>\n",
              "      <td>pondr, iraichal, ketu, kaathu, valichuruchu, a...</td>\n",
              "    </tr>\n",
              "    <tr>\n",
              "      <th>3</th>\n",
              "      <td>youtube la kuda editing nalla pannuvanga</td>\n",
              "      <td>youtube/PROPN la/ADP kuda/ADV editing/NOUN nal...</td>\n",
              "      <td>Code-Mixed</td>\n",
              "      <td>NEUTRAL</td>\n",
              "      <td>youtube kuda editing nalla pannuvanga</td>\n",
              "      <td>0</td>\n",
              "      <td>0</td>\n",
              "      <td>0</td>\n",
              "      <td>1</td>\n",
              "      <td>0</td>\n",
              "      <td>0</td>\n",
              "      <td>1</td>\n",
              "      <td>la, kuda</td>\n",
              "    </tr>\n",
              "    <tr>\n",
              "      <th>4</th>\n",
              "      <td>amaran is also a diwali release</td>\n",
              "      <td>amaran/PROPN is/AUX also/ADV a/DET diwali/PROP...</td>\n",
              "      <td>Code-Mixed</td>\n",
              "      <td>NEUTRAL</td>\n",
              "      <td>amaran diwali release</td>\n",
              "      <td>0</td>\n",
              "      <td>0</td>\n",
              "      <td>0</td>\n",
              "      <td>0</td>\n",
              "      <td>0</td>\n",
              "      <td>0</td>\n",
              "      <td>0</td>\n",
              "      <td>is, also, a</td>\n",
              "    </tr>\n",
              "  </tbody>\n",
              "</table>\n",
              "</div>\n",
              "    <div class=\"colab-df-buttons\">\n",
              "\n",
              "  <div class=\"colab-df-container\">\n",
              "    <button class=\"colab-df-convert\" onclick=\"convertToInteractive('df-d91b2340-07db-45eb-a477-6365cb047d92')\"\n",
              "            title=\"Convert this dataframe to an interactive table.\"\n",
              "            style=\"display:none;\">\n",
              "\n",
              "  <svg xmlns=\"http://www.w3.org/2000/svg\" height=\"24px\" viewBox=\"0 -960 960 960\">\n",
              "    <path d=\"M120-120v-720h720v720H120Zm60-500h600v-160H180v160Zm220 220h160v-160H400v160Zm0 220h160v-160H400v160ZM180-400h160v-160H180v160Zm440 0h160v-160H620v160ZM180-180h160v-160H180v160Zm440 0h160v-160H620v160Z\"/>\n",
              "  </svg>\n",
              "    </button>\n",
              "\n",
              "  <style>\n",
              "    .colab-df-container {\n",
              "      display:flex;\n",
              "      gap: 12px;\n",
              "    }\n",
              "\n",
              "    .colab-df-convert {\n",
              "      background-color: #E8F0FE;\n",
              "      border: none;\n",
              "      border-radius: 50%;\n",
              "      cursor: pointer;\n",
              "      display: none;\n",
              "      fill: #1967D2;\n",
              "      height: 32px;\n",
              "      padding: 0 0 0 0;\n",
              "      width: 32px;\n",
              "    }\n",
              "\n",
              "    .colab-df-convert:hover {\n",
              "      background-color: #E2EBFA;\n",
              "      box-shadow: 0px 1px 2px rgba(60, 64, 67, 0.3), 0px 1px 3px 1px rgba(60, 64, 67, 0.15);\n",
              "      fill: #174EA6;\n",
              "    }\n",
              "\n",
              "    .colab-df-buttons div {\n",
              "      margin-bottom: 4px;\n",
              "    }\n",
              "\n",
              "    [theme=dark] .colab-df-convert {\n",
              "      background-color: #3B4455;\n",
              "      fill: #D2E3FC;\n",
              "    }\n",
              "\n",
              "    [theme=dark] .colab-df-convert:hover {\n",
              "      background-color: #434B5C;\n",
              "      box-shadow: 0px 1px 3px 1px rgba(0, 0, 0, 0.15);\n",
              "      filter: drop-shadow(0px 1px 2px rgba(0, 0, 0, 0.3));\n",
              "      fill: #FFFFFF;\n",
              "    }\n",
              "  </style>\n",
              "\n",
              "    <script>\n",
              "      const buttonEl =\n",
              "        document.querySelector('#df-d91b2340-07db-45eb-a477-6365cb047d92 button.colab-df-convert');\n",
              "      buttonEl.style.display =\n",
              "        google.colab.kernel.accessAllowed ? 'block' : 'none';\n",
              "\n",
              "      async function convertToInteractive(key) {\n",
              "        const element = document.querySelector('#df-d91b2340-07db-45eb-a477-6365cb047d92');\n",
              "        const dataTable =\n",
              "          await google.colab.kernel.invokeFunction('convertToInteractive',\n",
              "                                                    [key], {});\n",
              "        if (!dataTable) return;\n",
              "\n",
              "        const docLinkHtml = 'Like what you see? Visit the ' +\n",
              "          '<a target=\"_blank\" href=https://colab.research.google.com/notebooks/data_table.ipynb>data table notebook</a>'\n",
              "          + ' to learn more about interactive tables.';\n",
              "        element.innerHTML = '';\n",
              "        dataTable['output_type'] = 'display_data';\n",
              "        await google.colab.output.renderOutput(dataTable, element);\n",
              "        const docLink = document.createElement('div');\n",
              "        docLink.innerHTML = docLinkHtml;\n",
              "        element.appendChild(docLink);\n",
              "      }\n",
              "    </script>\n",
              "  </div>\n",
              "\n",
              "\n",
              "<div id=\"df-3f283200-6f9a-41e7-89a1-f54559cd3bfa\">\n",
              "  <button class=\"colab-df-quickchart\" onclick=\"quickchart('df-3f283200-6f9a-41e7-89a1-f54559cd3bfa')\"\n",
              "            title=\"Suggest charts\"\n",
              "            style=\"display:none;\">\n",
              "\n",
              "<svg xmlns=\"http://www.w3.org/2000/svg\" height=\"24px\"viewBox=\"0 0 24 24\"\n",
              "     width=\"24px\">\n",
              "    <g>\n",
              "        <path d=\"M19 3H5c-1.1 0-2 .9-2 2v14c0 1.1.9 2 2 2h14c1.1 0 2-.9 2-2V5c0-1.1-.9-2-2-2zM9 17H7v-7h2v7zm4 0h-2V7h2v10zm4 0h-2v-4h2v4z\"/>\n",
              "    </g>\n",
              "</svg>\n",
              "  </button>\n",
              "\n",
              "<style>\n",
              "  .colab-df-quickchart {\n",
              "      --bg-color: #E8F0FE;\n",
              "      --fill-color: #1967D2;\n",
              "      --hover-bg-color: #E2EBFA;\n",
              "      --hover-fill-color: #174EA6;\n",
              "      --disabled-fill-color: #AAA;\n",
              "      --disabled-bg-color: #DDD;\n",
              "  }\n",
              "\n",
              "  [theme=dark] .colab-df-quickchart {\n",
              "      --bg-color: #3B4455;\n",
              "      --fill-color: #D2E3FC;\n",
              "      --hover-bg-color: #434B5C;\n",
              "      --hover-fill-color: #FFFFFF;\n",
              "      --disabled-bg-color: #3B4455;\n",
              "      --disabled-fill-color: #666;\n",
              "  }\n",
              "\n",
              "  .colab-df-quickchart {\n",
              "    background-color: var(--bg-color);\n",
              "    border: none;\n",
              "    border-radius: 50%;\n",
              "    cursor: pointer;\n",
              "    display: none;\n",
              "    fill: var(--fill-color);\n",
              "    height: 32px;\n",
              "    padding: 0;\n",
              "    width: 32px;\n",
              "  }\n",
              "\n",
              "  .colab-df-quickchart:hover {\n",
              "    background-color: var(--hover-bg-color);\n",
              "    box-shadow: 0 1px 2px rgba(60, 64, 67, 0.3), 0 1px 3px 1px rgba(60, 64, 67, 0.15);\n",
              "    fill: var(--button-hover-fill-color);\n",
              "  }\n",
              "\n",
              "  .colab-df-quickchart-complete:disabled,\n",
              "  .colab-df-quickchart-complete:disabled:hover {\n",
              "    background-color: var(--disabled-bg-color);\n",
              "    fill: var(--disabled-fill-color);\n",
              "    box-shadow: none;\n",
              "  }\n",
              "\n",
              "  .colab-df-spinner {\n",
              "    border: 2px solid var(--fill-color);\n",
              "    border-color: transparent;\n",
              "    border-bottom-color: var(--fill-color);\n",
              "    animation:\n",
              "      spin 1s steps(1) infinite;\n",
              "  }\n",
              "\n",
              "  @keyframes spin {\n",
              "    0% {\n",
              "      border-color: transparent;\n",
              "      border-bottom-color: var(--fill-color);\n",
              "      border-left-color: var(--fill-color);\n",
              "    }\n",
              "    20% {\n",
              "      border-color: transparent;\n",
              "      border-left-color: var(--fill-color);\n",
              "      border-top-color: var(--fill-color);\n",
              "    }\n",
              "    30% {\n",
              "      border-color: transparent;\n",
              "      border-left-color: var(--fill-color);\n",
              "      border-top-color: var(--fill-color);\n",
              "      border-right-color: var(--fill-color);\n",
              "    }\n",
              "    40% {\n",
              "      border-color: transparent;\n",
              "      border-right-color: var(--fill-color);\n",
              "      border-top-color: var(--fill-color);\n",
              "    }\n",
              "    60% {\n",
              "      border-color: transparent;\n",
              "      border-right-color: var(--fill-color);\n",
              "    }\n",
              "    80% {\n",
              "      border-color: transparent;\n",
              "      border-right-color: var(--fill-color);\n",
              "      border-bottom-color: var(--fill-color);\n",
              "    }\n",
              "    90% {\n",
              "      border-color: transparent;\n",
              "      border-bottom-color: var(--fill-color);\n",
              "    }\n",
              "  }\n",
              "</style>\n",
              "\n",
              "  <script>\n",
              "    async function quickchart(key) {\n",
              "      const quickchartButtonEl =\n",
              "        document.querySelector('#' + key + ' button');\n",
              "      quickchartButtonEl.disabled = true;  // To prevent multiple clicks.\n",
              "      quickchartButtonEl.classList.add('colab-df-spinner');\n",
              "      try {\n",
              "        const charts = await google.colab.kernel.invokeFunction(\n",
              "            'suggestCharts', [key], {});\n",
              "      } catch (error) {\n",
              "        console.error('Error during call to suggestCharts:', error);\n",
              "      }\n",
              "      quickchartButtonEl.classList.remove('colab-df-spinner');\n",
              "      quickchartButtonEl.classList.add('colab-df-quickchart-complete');\n",
              "    }\n",
              "    (() => {\n",
              "      let quickchartButtonEl =\n",
              "        document.querySelector('#df-3f283200-6f9a-41e7-89a1-f54559cd3bfa button');\n",
              "      quickchartButtonEl.style.display =\n",
              "        google.colab.kernel.accessAllowed ? 'block' : 'none';\n",
              "    })();\n",
              "  </script>\n",
              "</div>\n",
              "\n",
              "    </div>\n",
              "  </div>\n"
            ],
            "application/vnd.google.colaboratory.intrinsic+json": {
              "type": "dataframe",
              "variable_name": "df",
              "summary": "{\n  \"name\": \"df\",\n  \"rows\": 5121,\n  \"fields\": [\n    {\n      \"column\": \"original_text\",\n      \"properties\": {\n        \"dtype\": \"string\",\n        \"num_unique_values\": 5114,\n        \"samples\": [\n          \"ipl game again ah in movies\",\n          \"thanks gnavel sir other directors should learn how to show my thalaivar beatifully and lovely\",\n          \"if vishal says thev\\u2026.ya paiya it is okay but if vijay na says\"\n        ],\n        \"semantic_type\": \"\",\n        \"description\": \"\"\n      }\n    },\n    {\n      \"column\": \"sentences_with_pos_tags\",\n      \"properties\": {\n        \"dtype\": \"string\",\n        \"num_unique_values\": 5117,\n        \"samples\": [\n          \"ipl/PROPN game/NOUN again/ADV ah/PART in/ADP movies/NOUN\",\n          \"thanks/INTJ gnavel/PROPN sir/NOUN other/ADJ directors/NOUN should/AUX learn/VERB how/ADV to/PART show/VERB my/PRON thalaivar/NOUN beatifully/ADV and/CONJ lovely/ADV\",\n          \"ani/PROPN the/DET rajini/PROPN sir/NOUN movie/NOUN\"\n        ],\n        \"semantic_type\": \"\",\n        \"description\": \"\"\n      }\n    },\n    {\n      \"column\": \"lang\",\n      \"properties\": {\n        \"dtype\": \"category\",\n        \"num_unique_values\": 4,\n        \"samples\": [\n          \"Code-Mixed\",\n          \"english\",\n          \"Tamil\"\n        ],\n        \"semantic_type\": \"\",\n        \"description\": \"\"\n      }\n    },\n    {\n      \"column\": \"sentiment\",\n      \"properties\": {\n        \"dtype\": \"category\",\n        \"num_unique_values\": 3,\n        \"samples\": [\n          \"POSITIVE\",\n          \"NEUTRAL\",\n          \"NEGATIVE\"\n        ],\n        \"semantic_type\": \"\",\n        \"description\": \"\"\n      }\n    },\n    {\n      \"column\": \"clean_text\",\n      \"properties\": {\n        \"dtype\": \"string\",\n        \"num_unique_values\": 5102,\n        \"samples\": [\n          \"finally encounter story perusa onnum illa ott ila parthukulam ellam old age people cast\",\n          \"\\u0ba4\\u0bae\\u0bbf\\u0bb4\\u0bcd\",\n          \"dhoni entry stadium like\"\n        ],\n        \"semantic_type\": \"\",\n        \"description\": \"\"\n      }\n    },\n    {\n      \"column\": \"Acting\",\n      \"properties\": {\n        \"dtype\": \"number\",\n        \"std\": 0,\n        \"min\": -1,\n        \"max\": 1,\n        \"num_unique_values\": 3,\n        \"samples\": [\n          0,\n          1,\n          -1\n        ],\n        \"semantic_type\": \"\",\n        \"description\": \"\"\n      }\n    },\n    {\n      \"column\": \"direction\",\n      \"properties\": {\n        \"dtype\": \"number\",\n        \"std\": 0,\n        \"min\": -1,\n        \"max\": 1,\n        \"num_unique_values\": 3,\n        \"samples\": [\n          0,\n          -1,\n          1\n        ],\n        \"semantic_type\": \"\",\n        \"description\": \"\"\n      }\n    },\n    {\n      \"column\": \"Music\",\n      \"properties\": {\n        \"dtype\": \"number\",\n        \"std\": 0,\n        \"min\": -1,\n        \"max\": 1,\n        \"num_unique_values\": 3,\n        \"samples\": [\n          1,\n          0,\n          -1\n        ],\n        \"semantic_type\": \"\",\n        \"description\": \"\"\n      }\n    },\n    {\n      \"column\": \"VFX\",\n      \"properties\": {\n        \"dtype\": \"number\",\n        \"std\": 0,\n        \"min\": -1,\n        \"max\": 1,\n        \"num_unique_values\": 3,\n        \"samples\": [\n          0,\n          1,\n          -1\n        ],\n        \"semantic_type\": \"\",\n        \"description\": \"\"\n      }\n    },\n    {\n      \"column\": \"Genre\",\n      \"properties\": {\n        \"dtype\": \"number\",\n        \"std\": 0,\n        \"min\": -1,\n        \"max\": 1,\n        \"num_unique_values\": 3,\n        \"samples\": [\n          0,\n          -1,\n          1\n        ],\n        \"semantic_type\": \"\",\n        \"description\": \"\"\n      }\n    },\n    {\n      \"column\": \"excitement\",\n      \"properties\": {\n        \"dtype\": \"number\",\n        \"std\": 0,\n        \"min\": -1,\n        \"max\": 1,\n        \"num_unique_values\": 3,\n        \"samples\": [\n          0,\n          -1,\n          1\n        ],\n        \"semantic_type\": \"\",\n        \"description\": \"\"\n      }\n    },\n    {\n      \"column\": \"ovr_sent\",\n      \"properties\": {\n        \"dtype\": \"number\",\n        \"std\": 0,\n        \"min\": -1,\n        \"max\": 1,\n        \"num_unique_values\": 3,\n        \"samples\": [\n          1,\n          0,\n          -1\n        ],\n        \"semantic_type\": \"\",\n        \"description\": \"\"\n      }\n    },\n    {\n      \"column\": \"stop_words\",\n      \"properties\": {\n        \"dtype\": \"string\",\n        \"num_unique_values\": 4499,\n        \"samples\": [\n          \"\\u0b8e\\u0ba8\\u0bcd\\u0ba4, \\u0b9f\\u0bbe, \\u0b87\\u0bb5\\u0b99\\u0bcd\\u0b95, \\u0b87\\u0bb5\\u0ba9\\u0bc1\\u0b99\\u0bcd\\u0b95\",\n          \"enda, mari\",\n          \"\\u0b86\\u0bb1\\u0bc1, \\u0baa\\u0b9f, \\u0b95\\u0ba4\\u0bc8, panni\"\n        ],\n        \"semantic_type\": \"\",\n        \"description\": \"\"\n      }\n    }\n  ]\n}"
            }
          },
          "metadata": {},
          "execution_count": 25
        }
      ]
    },
    {
      "cell_type": "code",
      "source": [
        "X = df['clean_text']"
      ],
      "metadata": {
        "id": "YRLnSP5C6haA"
      },
      "execution_count": null,
      "outputs": []
    },
    {
      "cell_type": "code",
      "source": [
        "y = df[ ['Acting', 'direction', 'Music', 'Genre', 'excitement', 'ovr_sent']]"
      ],
      "metadata": {
        "id": "28Pv-60N6sn5"
      },
      "execution_count": null,
      "outputs": []
    },
    {
      "cell_type": "code",
      "source": [
        "def prepare_data(df, aspect_column):\n",
        "    \"\"\"Prepare data for a specific aspect\"\"\"\n",
        "    # Encode text to numerical values if needed\n",
        "    # le = LabelEncoder()\n",
        "    # Changed to return a DataFrame instead of a Series\n",
        "    X = df[['clean_text']]\n",
        "    y = df[aspect_column]\n",
        "    return X, y"
      ],
      "metadata": {
        "id": "pghUW1R14hEu"
      },
      "execution_count": null,
      "outputs": []
    },
    {
      "cell_type": "code",
      "source": [
        "X,y = prepare_data(df,'Acting')"
      ],
      "metadata": {
        "id": "xp_iJS8P4rEl"
      },
      "execution_count": null,
      "outputs": []
    },
    {
      "cell_type": "code",
      "source": [
        "embeddings_index = {}\n",
        "f = open('/content/ft_300_fyp_150epoch_window2.txt')\n",
        "for line in f:\n",
        "    values = line.split()\n",
        "    word = values[0] # Since the word is at the 0th index\n",
        "    coefs = np.asarray(values[1:]) # From the 1st position onwards the values are the embedding values\n",
        "    embeddings_index[word] = coefs\n",
        "f.close()"
      ],
      "metadata": {
        "id": "1ASKmPf0BJkX"
      },
      "execution_count": null,
      "outputs": []
    },
    {
      "cell_type": "code",
      "source": [
        "EMBEDDING_DIM =300\n",
        "\n",
        "# words not found in embedding index will be all-zeros."
      ],
      "metadata": {
        "id": "qcdJvGV8BDoY"
      },
      "execution_count": null,
      "outputs": []
    },
    {
      "cell_type": "code",
      "source": [
        "def analyze_all_aspects_dl(df, aspects, sampling_techniques):\n",
        "    results = {}\n",
        "    for aspect in aspects:\n",
        "        print(f\"\\nAnalyzing aspect: {aspect}\")\n",
        "        X, y = prepare_data(df, aspect)\n",
        "        aspect_results = {}\n",
        "        for technique in sampling_techniques:\n",
        "            print(f\"\\nUsing {technique} sampling:\")\n",
        "            mean_score, std_score, reports = train_evaluate_dl_model(X, y, technique)\n",
        "            aspect_results[technique] = {\n",
        "                'mean_accuracy': mean_score,\n",
        "                'std_accuracy': std_score,\n",
        "                'classification_reports': reports\n",
        "            }\n",
        "            print(f\"Mean Accuracy: {mean_score:.4f} (\\u00b1{std_score:.4f})\")\n",
        "        results[aspect] = aspect_results\n",
        "    return results"
      ],
      "metadata": {
        "id": "1Bd_gQUI_Bih"
      },
      "execution_count": null,
      "outputs": []
    },
    {
      "cell_type": "code",
      "source": [
        "def train_evaluate_dl_model(X, y, sampling_strategy='none'):\n",
        "    skf = StratifiedKFold(n_splits=5, shuffle=True, random_state=42)\n",
        "    scores = []\n",
        "    reports = []\n",
        "\n",
        "    # Tokenize and pad sequences\n",
        "    tokenizer = Tokenizer()\n",
        "    tokenizer.fit_on_texts(X['clean_text'])\n",
        "    sequences = tokenizer.texts_to_sequences(X['clean_text'])\n",
        "    padded_sequences = pad_sequences(sequences, maxlen=20)\n",
        "    word_index = tokenizer.word_index\n",
        "    num_words = len(word_index) + 1\n",
        "    embedding_matrix = np.zeros((num_words, EMBEDDING_DIM))\n",
        "    for word, i in word_index.items():\n",
        "        embedding_vector = embeddings_index.get(word)\n",
        "        if embedding_vector is not None:\n",
        "            # Check if the embedding vector has the expected dimension\n",
        "            if len(embedding_vector) == EMBEDDING_DIM:\n",
        "                embedding_matrix[i] = embedding_vector\n",
        "            else:\n",
        "                print(f\"Warning: Embedding for '{word}' has unexpected dimension {len(embedding_vector)}. Skipping.\")\n",
        "    # Encode labels\n",
        "    le = LabelEncoder()\n",
        "    y_encoded = le.fit_transform(y)\n",
        "    target_names = [str(class_label) for class_label in le.classes_]\n",
        "    # Prepare embedding matrix (assuming it's preloaded as `embedding_matrix`)\n",
        "    vocab_size = len(word_index) + 1\n",
        "\n",
        "    for fold, (train_idx, val_idx) in enumerate(skf.split(padded_sequences, y_encoded)):\n",
        "        X_train, X_val = padded_sequences[train_idx], padded_sequences[val_idx]\n",
        "        y_train, y_val = y_encoded[train_idx], y_encoded[val_idx]\n",
        "\n",
        "        # Apply undersampling if required\n",
        "        if sampling_strategy == 'undersample':\n",
        "            sampler = RandomUnderSampler(random_state=42)\n",
        "            X_train_flat = X_train.reshape(X_train.shape[0], -1)\n",
        "            X_train_flat, y_train = sampler.fit_resample(X_train_flat, y_train)\n",
        "            X_train = X_train_flat.reshape(-1, 20)  # Reshape back\n",
        "        elif sampling_strategy == 'oversample':\n",
        "            sampler = SMOTE(random_state=42)\n",
        "            # Flatten `X_train` for SMOTE\n",
        "            X_train_flat = X_train.reshape(X_train.shape[0], -1)\n",
        "            X_train_flat, y_train = sampler.fit_resample(X_train_flat, y_train)\n",
        "            # Reshape back to the original dimensions\n",
        "            X_train = X_train_flat.reshape(-1, 20)\n",
        "\n",
        "        # Define the model\n",
        "        input_layer = tf.keras.layers.Input(shape=(20,))\n",
        "        embedding_layer = tf.keras.layers.Embedding(\n",
        "            vocab_size, 300, weights=[embedding_matrix], input_length=20, trainable=False\n",
        "        )(input_layer)\n",
        "        conv = tf.keras.layers.Conv1D(200, kernel_size=3, activation=\"relu\")(embedding_layer)\n",
        "        bi_lstm = tf.keras.layers.Bidirectional(\n",
        "            tf.keras.layers.LSTM(128, dropout=0.3, recurrent_dropout=0.2, return_sequences=True)\n",
        "        )(conv)\n",
        "        drop = tf.keras.layers.Dropout(0.2)(bi_lstm)\n",
        "        dense = tf.keras.layers.Dense(128, activation='relu')(drop)\n",
        "        flat = tf.keras.layers.Flatten()(dense)\n",
        "        output_layer = tf.keras.layers.Dense(len(le.classes_), activation='softmax')(flat)\n",
        "\n",
        "        model = tf.keras.Model(input_layer, output_layer)\n",
        "        model.compile(optimizer='adam', loss='sparse_categorical_crossentropy', metrics=['accuracy'])\n",
        "\n",
        "        # Train the model\n",
        "        model.fit(\n",
        "            X_train, y_train,\n",
        "            epochs=5,  # You can adjust the number of epochs\n",
        "            batch_size=32,\n",
        "            verbose=0\n",
        "        )\n",
        "\n",
        "        # Evaluate the model\n",
        "        y_pred = model.predict(X_val, verbose=0).argmax(axis=1)\n",
        "        score = accuracy_score(y_val, y_pred)\n",
        "        scores.append(score)\n",
        "\n",
        "        # Generate classification report\n",
        "        report = classification_report(y_val, y_pred, target_names=target_names, output_dict=True)\n",
        "        reports.append(report)\n",
        "\n",
        "        print(f\"\\nFold {fold + 1} Results:\")\n",
        "        print(classification_report(y_val, y_pred, target_names=target_names))\n",
        "\n",
        "    return np.mean(scores), np.std(scores), reports"
      ],
      "metadata": {
        "id": "Q852Mxdm5R51"
      },
      "execution_count": null,
      "outputs": []
    },
    {
      "cell_type": "code",
      "source": [
        "aspects = ['Acting', 'direction', 'Music', 'Genre', 'excitement', 'ovr_sent']\n",
        "sampling_techniques_under = ['undersample']\n",
        "results = analyze_all_aspects_dl(df, aspects, sampling_techniques_under)"
      ],
      "metadata": {
        "colab": {
          "base_uri": "https://localhost:8080/"
        },
        "id": "sLxoMXtmDcmm",
        "outputId": "46cede75-8081-4439-d462-104eb54a5b35",
        "collapsed": true
      },
      "execution_count": null,
      "outputs": [
        {
          "output_type": "stream",
          "name": "stdout",
          "text": [
            "\n",
            "Analyzing aspect: Acting\n",
            "\n",
            "Using undersample sampling:\n"
          ]
        },
        {
          "output_type": "stream",
          "name": "stderr",
          "text": [
            "/usr/local/lib/python3.10/dist-packages/sklearn/utils/deprecation.py:151: FutureWarning: 'force_all_finite' was renamed to 'ensure_all_finite' in 1.6 and will be removed in 1.8.\n",
            "  warnings.warn(\n",
            "/usr/local/lib/python3.10/dist-packages/sklearn/base.py:484: FutureWarning: `BaseEstimator._check_n_features` is deprecated in 1.6 and will be removed in 1.7. Use `sklearn.utils.validation._check_n_features` instead.\n",
            "  warnings.warn(\n",
            "/usr/local/lib/python3.10/dist-packages/sklearn/base.py:493: FutureWarning: `BaseEstimator._check_feature_names` is deprecated in 1.6 and will be removed in 1.7. Use `sklearn.utils.validation._check_feature_names` instead.\n",
            "  warnings.warn(\n",
            "/usr/local/lib/python3.10/dist-packages/keras/src/layers/core/embedding.py:90: UserWarning: Argument `input_length` is deprecated. Just remove it.\n",
            "  warnings.warn(\n"
          ]
        },
        {
          "output_type": "stream",
          "name": "stdout",
          "text": [
            "\n",
            "Fold 1 Results:\n",
            "              precision    recall  f1-score   support\n",
            "\n",
            "          -1       0.05      0.62      0.09        34\n",
            "           0       0.76      0.18      0.29       770\n",
            "           1       0.25      0.46      0.32       221\n",
            "\n",
            "    accuracy                           0.26      1025\n",
            "   macro avg       0.35      0.42      0.23      1025\n",
            "weighted avg       0.63      0.26      0.29      1025\n",
            "\n"
          ]
        },
        {
          "output_type": "stream",
          "name": "stderr",
          "text": [
            "/usr/local/lib/python3.10/dist-packages/sklearn/utils/deprecation.py:151: FutureWarning: 'force_all_finite' was renamed to 'ensure_all_finite' in 1.6 and will be removed in 1.8.\n",
            "  warnings.warn(\n",
            "/usr/local/lib/python3.10/dist-packages/sklearn/base.py:484: FutureWarning: `BaseEstimator._check_n_features` is deprecated in 1.6 and will be removed in 1.7. Use `sklearn.utils.validation._check_n_features` instead.\n",
            "  warnings.warn(\n",
            "/usr/local/lib/python3.10/dist-packages/sklearn/base.py:493: FutureWarning: `BaseEstimator._check_feature_names` is deprecated in 1.6 and will be removed in 1.7. Use `sklearn.utils.validation._check_feature_names` instead.\n",
            "  warnings.warn(\n",
            "/usr/local/lib/python3.10/dist-packages/keras/src/layers/core/embedding.py:90: UserWarning: Argument `input_length` is deprecated. Just remove it.\n",
            "  warnings.warn(\n"
          ]
        },
        {
          "output_type": "stream",
          "name": "stdout",
          "text": [
            "\n",
            "Fold 2 Results:\n",
            "              precision    recall  f1-score   support\n",
            "\n",
            "          -1       0.08      0.55      0.14        33\n",
            "           0       0.75      0.39      0.51       769\n",
            "           1       0.23      0.41      0.30       222\n",
            "\n",
            "    accuracy                           0.40      1024\n",
            "   macro avg       0.35      0.45      0.32      1024\n",
            "weighted avg       0.62      0.40      0.45      1024\n",
            "\n"
          ]
        },
        {
          "output_type": "stream",
          "name": "stderr",
          "text": [
            "/usr/local/lib/python3.10/dist-packages/sklearn/utils/deprecation.py:151: FutureWarning: 'force_all_finite' was renamed to 'ensure_all_finite' in 1.6 and will be removed in 1.8.\n",
            "  warnings.warn(\n",
            "/usr/local/lib/python3.10/dist-packages/sklearn/base.py:484: FutureWarning: `BaseEstimator._check_n_features` is deprecated in 1.6 and will be removed in 1.7. Use `sklearn.utils.validation._check_n_features` instead.\n",
            "  warnings.warn(\n",
            "/usr/local/lib/python3.10/dist-packages/sklearn/base.py:493: FutureWarning: `BaseEstimator._check_feature_names` is deprecated in 1.6 and will be removed in 1.7. Use `sklearn.utils.validation._check_feature_names` instead.\n",
            "  warnings.warn(\n",
            "/usr/local/lib/python3.10/dist-packages/keras/src/layers/core/embedding.py:90: UserWarning: Argument `input_length` is deprecated. Just remove it.\n",
            "  warnings.warn(\n"
          ]
        },
        {
          "output_type": "stream",
          "name": "stdout",
          "text": [
            "\n",
            "Fold 3 Results:\n",
            "              precision    recall  f1-score   support\n",
            "\n",
            "          -1       0.04      0.61      0.08        33\n",
            "           0       0.80      0.24      0.37       769\n",
            "           1       0.29      0.45      0.36       222\n",
            "\n",
            "    accuracy                           0.30      1024\n",
            "   macro avg       0.38      0.43      0.27      1024\n",
            "weighted avg       0.67      0.30      0.36      1024\n",
            "\n"
          ]
        },
        {
          "output_type": "stream",
          "name": "stderr",
          "text": [
            "/usr/local/lib/python3.10/dist-packages/sklearn/utils/deprecation.py:151: FutureWarning: 'force_all_finite' was renamed to 'ensure_all_finite' in 1.6 and will be removed in 1.8.\n",
            "  warnings.warn(\n",
            "/usr/local/lib/python3.10/dist-packages/sklearn/base.py:484: FutureWarning: `BaseEstimator._check_n_features` is deprecated in 1.6 and will be removed in 1.7. Use `sklearn.utils.validation._check_n_features` instead.\n",
            "  warnings.warn(\n",
            "/usr/local/lib/python3.10/dist-packages/sklearn/base.py:493: FutureWarning: `BaseEstimator._check_feature_names` is deprecated in 1.6 and will be removed in 1.7. Use `sklearn.utils.validation._check_feature_names` instead.\n",
            "  warnings.warn(\n",
            "/usr/local/lib/python3.10/dist-packages/keras/src/layers/core/embedding.py:90: UserWarning: Argument `input_length` is deprecated. Just remove it.\n",
            "  warnings.warn(\n"
          ]
        },
        {
          "output_type": "stream",
          "name": "stdout",
          "text": [
            "\n",
            "Fold 4 Results:\n",
            "              precision    recall  f1-score   support\n",
            "\n",
            "          -1       0.06      0.45      0.10        33\n",
            "           0       0.75      0.73      0.74       769\n",
            "           1       0.00      0.00      0.00       222\n",
            "\n",
            "    accuracy                           0.56      1024\n",
            "   macro avg       0.27      0.39      0.28      1024\n",
            "weighted avg       0.56      0.56      0.56      1024\n",
            "\n"
          ]
        },
        {
          "output_type": "stream",
          "name": "stderr",
          "text": [
            "/usr/local/lib/python3.10/dist-packages/sklearn/utils/deprecation.py:151: FutureWarning: 'force_all_finite' was renamed to 'ensure_all_finite' in 1.6 and will be removed in 1.8.\n",
            "  warnings.warn(\n",
            "/usr/local/lib/python3.10/dist-packages/sklearn/base.py:484: FutureWarning: `BaseEstimator._check_n_features` is deprecated in 1.6 and will be removed in 1.7. Use `sklearn.utils.validation._check_n_features` instead.\n",
            "  warnings.warn(\n",
            "/usr/local/lib/python3.10/dist-packages/sklearn/base.py:493: FutureWarning: `BaseEstimator._check_feature_names` is deprecated in 1.6 and will be removed in 1.7. Use `sklearn.utils.validation._check_feature_names` instead.\n",
            "  warnings.warn(\n",
            "/usr/local/lib/python3.10/dist-packages/keras/src/layers/core/embedding.py:90: UserWarning: Argument `input_length` is deprecated. Just remove it.\n",
            "  warnings.warn(\n"
          ]
        },
        {
          "output_type": "stream",
          "name": "stdout",
          "text": [
            "\n",
            "Fold 5 Results:\n",
            "              precision    recall  f1-score   support\n",
            "\n",
            "          -1       0.05      0.47      0.09        34\n",
            "           0       0.82      0.31      0.45       769\n",
            "           1       0.26      0.49      0.34       221\n",
            "\n",
            "    accuracy                           0.35      1024\n",
            "   macro avg       0.38      0.42      0.29      1024\n",
            "weighted avg       0.67      0.35      0.41      1024\n",
            "\n",
            "Mean Accuracy: 0.3740 (±0.1055)\n",
            "\n",
            "Analyzing aspect: direction\n",
            "\n",
            "Using undersample sampling:\n"
          ]
        },
        {
          "output_type": "stream",
          "name": "stderr",
          "text": [
            "/usr/local/lib/python3.10/dist-packages/sklearn/utils/deprecation.py:151: FutureWarning: 'force_all_finite' was renamed to 'ensure_all_finite' in 1.6 and will be removed in 1.8.\n",
            "  warnings.warn(\n",
            "/usr/local/lib/python3.10/dist-packages/sklearn/base.py:484: FutureWarning: `BaseEstimator._check_n_features` is deprecated in 1.6 and will be removed in 1.7. Use `sklearn.utils.validation._check_n_features` instead.\n",
            "  warnings.warn(\n",
            "/usr/local/lib/python3.10/dist-packages/sklearn/base.py:493: FutureWarning: `BaseEstimator._check_feature_names` is deprecated in 1.6 and will be removed in 1.7. Use `sklearn.utils.validation._check_feature_names` instead.\n",
            "  warnings.warn(\n",
            "/usr/local/lib/python3.10/dist-packages/keras/src/layers/core/embedding.py:90: UserWarning: Argument `input_length` is deprecated. Just remove it.\n",
            "  warnings.warn(\n"
          ]
        },
        {
          "output_type": "stream",
          "name": "stdout",
          "text": [
            "\n",
            "Fold 1 Results:\n",
            "              precision    recall  f1-score   support\n",
            "\n",
            "          -1       0.25      0.31      0.28       139\n",
            "           0       0.89      0.27      0.42       824\n",
            "           1       0.07      0.65      0.12        62\n",
            "\n",
            "    accuracy                           0.30      1025\n",
            "   macro avg       0.40      0.41      0.27      1025\n",
            "weighted avg       0.76      0.30      0.38      1025\n",
            "\n"
          ]
        },
        {
          "output_type": "stream",
          "name": "stderr",
          "text": [
            "/usr/local/lib/python3.10/dist-packages/sklearn/utils/deprecation.py:151: FutureWarning: 'force_all_finite' was renamed to 'ensure_all_finite' in 1.6 and will be removed in 1.8.\n",
            "  warnings.warn(\n",
            "/usr/local/lib/python3.10/dist-packages/sklearn/base.py:484: FutureWarning: `BaseEstimator._check_n_features` is deprecated in 1.6 and will be removed in 1.7. Use `sklearn.utils.validation._check_n_features` instead.\n",
            "  warnings.warn(\n",
            "/usr/local/lib/python3.10/dist-packages/sklearn/base.py:493: FutureWarning: `BaseEstimator._check_feature_names` is deprecated in 1.6 and will be removed in 1.7. Use `sklearn.utils.validation._check_feature_names` instead.\n",
            "  warnings.warn(\n",
            "/usr/local/lib/python3.10/dist-packages/keras/src/layers/core/embedding.py:90: UserWarning: Argument `input_length` is deprecated. Just remove it.\n",
            "  warnings.warn(\n"
          ]
        },
        {
          "output_type": "stream",
          "name": "stdout",
          "text": [
            "\n",
            "Fold 2 Results:\n",
            "              precision    recall  f1-score   support\n",
            "\n",
            "          -1       0.24      0.51      0.33       138\n",
            "           0       0.91      0.31      0.46       824\n",
            "           1       0.07      0.50      0.12        62\n",
            "\n",
            "    accuracy                           0.35      1024\n",
            "   macro avg       0.41      0.44      0.30      1024\n",
            "weighted avg       0.77      0.35      0.42      1024\n",
            "\n"
          ]
        },
        {
          "output_type": "stream",
          "name": "stderr",
          "text": [
            "/usr/local/lib/python3.10/dist-packages/sklearn/utils/deprecation.py:151: FutureWarning: 'force_all_finite' was renamed to 'ensure_all_finite' in 1.6 and will be removed in 1.8.\n",
            "  warnings.warn(\n",
            "/usr/local/lib/python3.10/dist-packages/sklearn/base.py:484: FutureWarning: `BaseEstimator._check_n_features` is deprecated in 1.6 and will be removed in 1.7. Use `sklearn.utils.validation._check_n_features` instead.\n",
            "  warnings.warn(\n",
            "/usr/local/lib/python3.10/dist-packages/sklearn/base.py:493: FutureWarning: `BaseEstimator._check_feature_names` is deprecated in 1.6 and will be removed in 1.7. Use `sklearn.utils.validation._check_feature_names` instead.\n",
            "  warnings.warn(\n",
            "/usr/local/lib/python3.10/dist-packages/keras/src/layers/core/embedding.py:90: UserWarning: Argument `input_length` is deprecated. Just remove it.\n",
            "  warnings.warn(\n"
          ]
        },
        {
          "output_type": "stream",
          "name": "stdout",
          "text": [
            "\n",
            "Fold 3 Results:\n",
            "              precision    recall  f1-score   support\n",
            "\n",
            "          -1       0.23      0.62      0.34       139\n",
            "           0       0.87      0.59      0.70       823\n",
            "           1       0.07      0.11      0.09        62\n",
            "\n",
            "    accuracy                           0.56      1024\n",
            "   macro avg       0.39      0.44      0.38      1024\n",
            "weighted avg       0.73      0.56      0.61      1024\n",
            "\n"
          ]
        },
        {
          "output_type": "stream",
          "name": "stderr",
          "text": [
            "/usr/local/lib/python3.10/dist-packages/sklearn/utils/deprecation.py:151: FutureWarning: 'force_all_finite' was renamed to 'ensure_all_finite' in 1.6 and will be removed in 1.8.\n",
            "  warnings.warn(\n",
            "/usr/local/lib/python3.10/dist-packages/sklearn/base.py:484: FutureWarning: `BaseEstimator._check_n_features` is deprecated in 1.6 and will be removed in 1.7. Use `sklearn.utils.validation._check_n_features` instead.\n",
            "  warnings.warn(\n",
            "/usr/local/lib/python3.10/dist-packages/sklearn/base.py:493: FutureWarning: `BaseEstimator._check_feature_names` is deprecated in 1.6 and will be removed in 1.7. Use `sklearn.utils.validation._check_feature_names` instead.\n",
            "  warnings.warn(\n",
            "/usr/local/lib/python3.10/dist-packages/keras/src/layers/core/embedding.py:90: UserWarning: Argument `input_length` is deprecated. Just remove it.\n",
            "  warnings.warn(\n"
          ]
        },
        {
          "output_type": "stream",
          "name": "stdout",
          "text": [
            "\n",
            "Fold 4 Results:\n",
            "              precision    recall  f1-score   support\n",
            "\n",
            "          -1       0.19      0.66      0.30       139\n",
            "           0       0.86      0.54      0.67       823\n",
            "           1       0.05      0.02      0.02        62\n",
            "\n",
            "    accuracy                           0.53      1024\n",
            "   macro avg       0.37      0.41      0.33      1024\n",
            "weighted avg       0.72      0.53      0.58      1024\n",
            "\n"
          ]
        },
        {
          "output_type": "stream",
          "name": "stderr",
          "text": [
            "/usr/local/lib/python3.10/dist-packages/sklearn/utils/deprecation.py:151: FutureWarning: 'force_all_finite' was renamed to 'ensure_all_finite' in 1.6 and will be removed in 1.8.\n",
            "  warnings.warn(\n",
            "/usr/local/lib/python3.10/dist-packages/sklearn/base.py:484: FutureWarning: `BaseEstimator._check_n_features` is deprecated in 1.6 and will be removed in 1.7. Use `sklearn.utils.validation._check_n_features` instead.\n",
            "  warnings.warn(\n",
            "/usr/local/lib/python3.10/dist-packages/sklearn/base.py:493: FutureWarning: `BaseEstimator._check_feature_names` is deprecated in 1.6 and will be removed in 1.7. Use `sklearn.utils.validation._check_feature_names` instead.\n",
            "  warnings.warn(\n",
            "/usr/local/lib/python3.10/dist-packages/keras/src/layers/core/embedding.py:90: UserWarning: Argument `input_length` is deprecated. Just remove it.\n",
            "  warnings.warn(\n"
          ]
        },
        {
          "output_type": "stream",
          "name": "stdout",
          "text": [
            "\n",
            "Fold 5 Results:\n",
            "              precision    recall  f1-score   support\n",
            "\n",
            "          -1       0.22      0.56      0.32       139\n",
            "           0       0.86      0.65      0.74       823\n",
            "           1       0.10      0.08      0.09        62\n",
            "\n",
            "    accuracy                           0.60      1024\n",
            "   macro avg       0.39      0.43      0.38      1024\n",
            "weighted avg       0.73      0.60      0.64      1024\n",
            "\n",
            "Mean Accuracy: 0.4681 (±0.1211)\n",
            "\n",
            "Analyzing aspect: Music\n",
            "\n",
            "Using undersample sampling:\n"
          ]
        },
        {
          "output_type": "stream",
          "name": "stderr",
          "text": [
            "/usr/local/lib/python3.10/dist-packages/sklearn/utils/deprecation.py:151: FutureWarning: 'force_all_finite' was renamed to 'ensure_all_finite' in 1.6 and will be removed in 1.8.\n",
            "  warnings.warn(\n",
            "/usr/local/lib/python3.10/dist-packages/sklearn/base.py:484: FutureWarning: `BaseEstimator._check_n_features` is deprecated in 1.6 and will be removed in 1.7. Use `sklearn.utils.validation._check_n_features` instead.\n",
            "  warnings.warn(\n",
            "/usr/local/lib/python3.10/dist-packages/sklearn/base.py:493: FutureWarning: `BaseEstimator._check_feature_names` is deprecated in 1.6 and will be removed in 1.7. Use `sklearn.utils.validation._check_feature_names` instead.\n",
            "  warnings.warn(\n",
            "/usr/local/lib/python3.10/dist-packages/keras/src/layers/core/embedding.py:90: UserWarning: Argument `input_length` is deprecated. Just remove it.\n",
            "  warnings.warn(\n"
          ]
        },
        {
          "output_type": "stream",
          "name": "stdout",
          "text": [
            "\n",
            "Fold 1 Results:\n",
            "              precision    recall  f1-score   support\n",
            "\n",
            "          -1       0.04      0.32      0.08        22\n",
            "           0       0.92      0.38      0.54       897\n",
            "           1       0.14      0.63      0.22       106\n",
            "\n",
            "    accuracy                           0.41      1025\n",
            "   macro avg       0.37      0.44      0.28      1025\n",
            "weighted avg       0.82      0.41      0.50      1025\n",
            "\n"
          ]
        },
        {
          "output_type": "stream",
          "name": "stderr",
          "text": [
            "/usr/local/lib/python3.10/dist-packages/sklearn/utils/deprecation.py:151: FutureWarning: 'force_all_finite' was renamed to 'ensure_all_finite' in 1.6 and will be removed in 1.8.\n",
            "  warnings.warn(\n",
            "/usr/local/lib/python3.10/dist-packages/sklearn/base.py:484: FutureWarning: `BaseEstimator._check_n_features` is deprecated in 1.6 and will be removed in 1.7. Use `sklearn.utils.validation._check_n_features` instead.\n",
            "  warnings.warn(\n",
            "/usr/local/lib/python3.10/dist-packages/sklearn/base.py:493: FutureWarning: `BaseEstimator._check_feature_names` is deprecated in 1.6 and will be removed in 1.7. Use `sklearn.utils.validation._check_feature_names` instead.\n",
            "  warnings.warn(\n",
            "/usr/local/lib/python3.10/dist-packages/keras/src/layers/core/embedding.py:90: UserWarning: Argument `input_length` is deprecated. Just remove it.\n",
            "  warnings.warn(\n"
          ]
        },
        {
          "output_type": "stream",
          "name": "stdout",
          "text": [
            "\n",
            "Fold 2 Results:\n",
            "              precision    recall  f1-score   support\n",
            "\n",
            "          -1       0.03      0.14      0.04        21\n",
            "           0       0.95      0.30      0.46       897\n",
            "           1       0.13      0.75      0.22       106\n",
            "\n",
            "    accuracy                           0.34      1024\n",
            "   macro avg       0.37      0.40      0.24      1024\n",
            "weighted avg       0.84      0.34      0.42      1024\n",
            "\n"
          ]
        },
        {
          "output_type": "stream",
          "name": "stderr",
          "text": [
            "/usr/local/lib/python3.10/dist-packages/sklearn/utils/deprecation.py:151: FutureWarning: 'force_all_finite' was renamed to 'ensure_all_finite' in 1.6 and will be removed in 1.8.\n",
            "  warnings.warn(\n",
            "/usr/local/lib/python3.10/dist-packages/sklearn/base.py:484: FutureWarning: `BaseEstimator._check_n_features` is deprecated in 1.6 and will be removed in 1.7. Use `sklearn.utils.validation._check_n_features` instead.\n",
            "  warnings.warn(\n",
            "/usr/local/lib/python3.10/dist-packages/sklearn/base.py:493: FutureWarning: `BaseEstimator._check_feature_names` is deprecated in 1.6 and will be removed in 1.7. Use `sklearn.utils.validation._check_feature_names` instead.\n",
            "  warnings.warn(\n",
            "/usr/local/lib/python3.10/dist-packages/keras/src/layers/core/embedding.py:90: UserWarning: Argument `input_length` is deprecated. Just remove it.\n",
            "  warnings.warn(\n"
          ]
        },
        {
          "output_type": "stream",
          "name": "stdout",
          "text": [
            "\n",
            "Fold 3 Results:\n",
            "              precision    recall  f1-score   support\n",
            "\n",
            "          -1       0.03      0.38      0.06        21\n",
            "           0       0.93      0.28      0.42       897\n",
            "           1       0.13      0.65      0.22       106\n",
            "\n",
            "    accuracy                           0.32      1024\n",
            "   macro avg       0.36      0.44      0.24      1024\n",
            "weighted avg       0.83      0.32      0.40      1024\n",
            "\n"
          ]
        },
        {
          "output_type": "stream",
          "name": "stderr",
          "text": [
            "/usr/local/lib/python3.10/dist-packages/sklearn/utils/deprecation.py:151: FutureWarning: 'force_all_finite' was renamed to 'ensure_all_finite' in 1.6 and will be removed in 1.8.\n",
            "  warnings.warn(\n",
            "/usr/local/lib/python3.10/dist-packages/sklearn/base.py:484: FutureWarning: `BaseEstimator._check_n_features` is deprecated in 1.6 and will be removed in 1.7. Use `sklearn.utils.validation._check_n_features` instead.\n",
            "  warnings.warn(\n",
            "/usr/local/lib/python3.10/dist-packages/sklearn/base.py:493: FutureWarning: `BaseEstimator._check_feature_names` is deprecated in 1.6 and will be removed in 1.7. Use `sklearn.utils.validation._check_feature_names` instead.\n",
            "  warnings.warn(\n",
            "/usr/local/lib/python3.10/dist-packages/keras/src/layers/core/embedding.py:90: UserWarning: Argument `input_length` is deprecated. Just remove it.\n",
            "  warnings.warn(\n"
          ]
        },
        {
          "output_type": "stream",
          "name": "stdout",
          "text": [
            "\n",
            "Fold 4 Results:\n",
            "              precision    recall  f1-score   support\n",
            "\n",
            "          -1       0.05      0.52      0.09        21\n",
            "           0       0.95      0.15      0.26       897\n",
            "           1       0.12      0.74      0.21       106\n",
            "\n",
            "    accuracy                           0.22      1024\n",
            "   macro avg       0.37      0.47      0.19      1024\n",
            "weighted avg       0.84      0.22      0.25      1024\n",
            "\n"
          ]
        },
        {
          "output_type": "stream",
          "name": "stderr",
          "text": [
            "/usr/local/lib/python3.10/dist-packages/sklearn/utils/deprecation.py:151: FutureWarning: 'force_all_finite' was renamed to 'ensure_all_finite' in 1.6 and will be removed in 1.8.\n",
            "  warnings.warn(\n",
            "/usr/local/lib/python3.10/dist-packages/sklearn/base.py:484: FutureWarning: `BaseEstimator._check_n_features` is deprecated in 1.6 and will be removed in 1.7. Use `sklearn.utils.validation._check_n_features` instead.\n",
            "  warnings.warn(\n",
            "/usr/local/lib/python3.10/dist-packages/sklearn/base.py:493: FutureWarning: `BaseEstimator._check_feature_names` is deprecated in 1.6 and will be removed in 1.7. Use `sklearn.utils.validation._check_feature_names` instead.\n",
            "  warnings.warn(\n",
            "/usr/local/lib/python3.10/dist-packages/keras/src/layers/core/embedding.py:90: UserWarning: Argument `input_length` is deprecated. Just remove it.\n",
            "  warnings.warn(\n"
          ]
        },
        {
          "output_type": "stream",
          "name": "stdout",
          "text": [
            "\n",
            "Fold 5 Results:\n",
            "              precision    recall  f1-score   support\n",
            "\n",
            "          -1       0.03      0.23      0.06        22\n",
            "           0       0.91      0.59      0.72       896\n",
            "           1       0.14      0.40      0.21       106\n",
            "\n",
            "    accuracy                           0.56      1024\n",
            "   macro avg       0.36      0.41      0.33      1024\n",
            "weighted avg       0.81      0.56      0.65      1024\n",
            "\n",
            "Mean Accuracy: 0.3708 (±0.1137)\n",
            "\n",
            "Analyzing aspect: Genre\n",
            "\n",
            "Using undersample sampling:\n"
          ]
        },
        {
          "output_type": "stream",
          "name": "stderr",
          "text": [
            "/usr/local/lib/python3.10/dist-packages/sklearn/utils/deprecation.py:151: FutureWarning: 'force_all_finite' was renamed to 'ensure_all_finite' in 1.6 and will be removed in 1.8.\n",
            "  warnings.warn(\n",
            "/usr/local/lib/python3.10/dist-packages/sklearn/base.py:484: FutureWarning: `BaseEstimator._check_n_features` is deprecated in 1.6 and will be removed in 1.7. Use `sklearn.utils.validation._check_n_features` instead.\n",
            "  warnings.warn(\n",
            "/usr/local/lib/python3.10/dist-packages/sklearn/base.py:493: FutureWarning: `BaseEstimator._check_feature_names` is deprecated in 1.6 and will be removed in 1.7. Use `sklearn.utils.validation._check_feature_names` instead.\n",
            "  warnings.warn(\n",
            "/usr/local/lib/python3.10/dist-packages/keras/src/layers/core/embedding.py:90: UserWarning: Argument `input_length` is deprecated. Just remove it.\n",
            "  warnings.warn(\n"
          ]
        },
        {
          "output_type": "stream",
          "name": "stdout",
          "text": [
            "\n",
            "Fold 1 Results:\n",
            "              precision    recall  f1-score   support\n",
            "\n",
            "          -1       0.00      0.00      0.00        10\n",
            "           0       1.00      0.03      0.06       975\n",
            "           1       0.03      0.72      0.06        40\n",
            "\n",
            "    accuracy                           0.06      1025\n",
            "   macro avg       0.34      0.25      0.04      1025\n",
            "weighted avg       0.95      0.06      0.06      1025\n",
            "\n"
          ]
        },
        {
          "output_type": "stream",
          "name": "stderr",
          "text": [
            "/usr/local/lib/python3.10/dist-packages/sklearn/utils/deprecation.py:151: FutureWarning: 'force_all_finite' was renamed to 'ensure_all_finite' in 1.6 and will be removed in 1.8.\n",
            "  warnings.warn(\n",
            "/usr/local/lib/python3.10/dist-packages/sklearn/base.py:484: FutureWarning: `BaseEstimator._check_n_features` is deprecated in 1.6 and will be removed in 1.7. Use `sklearn.utils.validation._check_n_features` instead.\n",
            "  warnings.warn(\n",
            "/usr/local/lib/python3.10/dist-packages/sklearn/base.py:493: FutureWarning: `BaseEstimator._check_feature_names` is deprecated in 1.6 and will be removed in 1.7. Use `sklearn.utils.validation._check_feature_names` instead.\n",
            "  warnings.warn(\n",
            "/usr/local/lib/python3.10/dist-packages/keras/src/layers/core/embedding.py:90: UserWarning: Argument `input_length` is deprecated. Just remove it.\n",
            "  warnings.warn(\n"
          ]
        },
        {
          "output_type": "stream",
          "name": "stdout",
          "text": [
            "\n",
            "Fold 2 Results:\n",
            "              precision    recall  f1-score   support\n",
            "\n",
            "          -1       0.05      0.55      0.09        11\n",
            "           0       0.99      0.15      0.26       974\n",
            "           1       0.04      0.72      0.07        39\n",
            "\n",
            "    accuracy                           0.18      1024\n",
            "   macro avg       0.36      0.47      0.14      1024\n",
            "weighted avg       0.94      0.18      0.25      1024\n",
            "\n"
          ]
        },
        {
          "output_type": "stream",
          "name": "stderr",
          "text": [
            "/usr/local/lib/python3.10/dist-packages/sklearn/utils/deprecation.py:151: FutureWarning: 'force_all_finite' was renamed to 'ensure_all_finite' in 1.6 and will be removed in 1.8.\n",
            "  warnings.warn(\n",
            "/usr/local/lib/python3.10/dist-packages/sklearn/base.py:484: FutureWarning: `BaseEstimator._check_n_features` is deprecated in 1.6 and will be removed in 1.7. Use `sklearn.utils.validation._check_n_features` instead.\n",
            "  warnings.warn(\n",
            "/usr/local/lib/python3.10/dist-packages/sklearn/base.py:493: FutureWarning: `BaseEstimator._check_feature_names` is deprecated in 1.6 and will be removed in 1.7. Use `sklearn.utils.validation._check_feature_names` instead.\n",
            "  warnings.warn(\n",
            "/usr/local/lib/python3.10/dist-packages/keras/src/layers/core/embedding.py:90: UserWarning: Argument `input_length` is deprecated. Just remove it.\n",
            "  warnings.warn(\n"
          ]
        },
        {
          "output_type": "stream",
          "name": "stdout",
          "text": [
            "\n",
            "Fold 3 Results:\n",
            "              precision    recall  f1-score   support\n",
            "\n",
            "          -1       0.01      0.09      0.02        11\n",
            "           0       0.96      0.53      0.69       974\n",
            "           1       0.05      0.49      0.09        39\n",
            "\n",
            "    accuracy                           0.53      1024\n",
            "   macro avg       0.34      0.37      0.26      1024\n",
            "weighted avg       0.92      0.53      0.66      1024\n",
            "\n"
          ]
        },
        {
          "output_type": "stream",
          "name": "stderr",
          "text": [
            "/usr/local/lib/python3.10/dist-packages/sklearn/utils/deprecation.py:151: FutureWarning: 'force_all_finite' was renamed to 'ensure_all_finite' in 1.6 and will be removed in 1.8.\n",
            "  warnings.warn(\n",
            "/usr/local/lib/python3.10/dist-packages/sklearn/base.py:484: FutureWarning: `BaseEstimator._check_n_features` is deprecated in 1.6 and will be removed in 1.7. Use `sklearn.utils.validation._check_n_features` instead.\n",
            "  warnings.warn(\n",
            "/usr/local/lib/python3.10/dist-packages/sklearn/base.py:493: FutureWarning: `BaseEstimator._check_feature_names` is deprecated in 1.6 and will be removed in 1.7. Use `sklearn.utils.validation._check_feature_names` instead.\n",
            "  warnings.warn(\n",
            "/usr/local/lib/python3.10/dist-packages/keras/src/layers/core/embedding.py:90: UserWarning: Argument `input_length` is deprecated. Just remove it.\n",
            "  warnings.warn(\n"
          ]
        },
        {
          "output_type": "stream",
          "name": "stdout",
          "text": [
            "\n",
            "Fold 4 Results:\n",
            "              precision    recall  f1-score   support\n",
            "\n",
            "          -1       0.02      0.36      0.03        11\n",
            "           0       0.97      0.42      0.58       974\n",
            "           1       0.04      0.33      0.07        39\n",
            "\n",
            "    accuracy                           0.42      1024\n",
            "   macro avg       0.34      0.37      0.23      1024\n",
            "weighted avg       0.92      0.42      0.56      1024\n",
            "\n"
          ]
        },
        {
          "output_type": "stream",
          "name": "stderr",
          "text": [
            "/usr/local/lib/python3.10/dist-packages/sklearn/utils/deprecation.py:151: FutureWarning: 'force_all_finite' was renamed to 'ensure_all_finite' in 1.6 and will be removed in 1.8.\n",
            "  warnings.warn(\n",
            "/usr/local/lib/python3.10/dist-packages/sklearn/base.py:484: FutureWarning: `BaseEstimator._check_n_features` is deprecated in 1.6 and will be removed in 1.7. Use `sklearn.utils.validation._check_n_features` instead.\n",
            "  warnings.warn(\n",
            "/usr/local/lib/python3.10/dist-packages/sklearn/base.py:493: FutureWarning: `BaseEstimator._check_feature_names` is deprecated in 1.6 and will be removed in 1.7. Use `sklearn.utils.validation._check_feature_names` instead.\n",
            "  warnings.warn(\n",
            "/usr/local/lib/python3.10/dist-packages/keras/src/layers/core/embedding.py:90: UserWarning: Argument `input_length` is deprecated. Just remove it.\n",
            "  warnings.warn(\n"
          ]
        },
        {
          "output_type": "stream",
          "name": "stdout",
          "text": [
            "\n",
            "Fold 5 Results:\n",
            "              precision    recall  f1-score   support\n",
            "\n",
            "          -1       0.01      1.00      0.02        10\n",
            "           0       0.86      0.01      0.01       974\n",
            "           1       0.00      0.00      0.00        40\n",
            "\n",
            "    accuracy                           0.02      1024\n",
            "   macro avg       0.29      0.34      0.01      1024\n",
            "weighted avg       0.82      0.02      0.01      1024\n",
            "\n",
            "Mean Accuracy: 0.2387 (±0.2002)\n",
            "\n",
            "Analyzing aspect: excitement\n",
            "\n",
            "Using undersample sampling:\n"
          ]
        },
        {
          "output_type": "stream",
          "name": "stderr",
          "text": [
            "/usr/local/lib/python3.10/dist-packages/sklearn/utils/deprecation.py:151: FutureWarning: 'force_all_finite' was renamed to 'ensure_all_finite' in 1.6 and will be removed in 1.8.\n",
            "  warnings.warn(\n",
            "/usr/local/lib/python3.10/dist-packages/sklearn/base.py:484: FutureWarning: `BaseEstimator._check_n_features` is deprecated in 1.6 and will be removed in 1.7. Use `sklearn.utils.validation._check_n_features` instead.\n",
            "  warnings.warn(\n",
            "/usr/local/lib/python3.10/dist-packages/sklearn/base.py:493: FutureWarning: `BaseEstimator._check_feature_names` is deprecated in 1.6 and will be removed in 1.7. Use `sklearn.utils.validation._check_feature_names` instead.\n",
            "  warnings.warn(\n",
            "/usr/local/lib/python3.10/dist-packages/keras/src/layers/core/embedding.py:90: UserWarning: Argument `input_length` is deprecated. Just remove it.\n",
            "  warnings.warn(\n"
          ]
        },
        {
          "output_type": "stream",
          "name": "stdout",
          "text": [
            "\n",
            "Fold 1 Results:\n",
            "              precision    recall  f1-score   support\n",
            "\n",
            "          -1       0.22      0.33      0.27       152\n",
            "           0       0.62      0.58      0.60       583\n",
            "           1       0.43      0.37      0.40       290\n",
            "\n",
            "    accuracy                           0.48      1025\n",
            "   macro avg       0.42      0.43      0.42      1025\n",
            "weighted avg       0.50      0.48      0.49      1025\n",
            "\n"
          ]
        },
        {
          "output_type": "stream",
          "name": "stderr",
          "text": [
            "/usr/local/lib/python3.10/dist-packages/sklearn/utils/deprecation.py:151: FutureWarning: 'force_all_finite' was renamed to 'ensure_all_finite' in 1.6 and will be removed in 1.8.\n",
            "  warnings.warn(\n",
            "/usr/local/lib/python3.10/dist-packages/sklearn/base.py:484: FutureWarning: `BaseEstimator._check_n_features` is deprecated in 1.6 and will be removed in 1.7. Use `sklearn.utils.validation._check_n_features` instead.\n",
            "  warnings.warn(\n",
            "/usr/local/lib/python3.10/dist-packages/sklearn/base.py:493: FutureWarning: `BaseEstimator._check_feature_names` is deprecated in 1.6 and will be removed in 1.7. Use `sklearn.utils.validation._check_feature_names` instead.\n",
            "  warnings.warn(\n",
            "/usr/local/lib/python3.10/dist-packages/keras/src/layers/core/embedding.py:90: UserWarning: Argument `input_length` is deprecated. Just remove it.\n",
            "  warnings.warn(\n"
          ]
        },
        {
          "output_type": "stream",
          "name": "stdout",
          "text": [
            "\n",
            "Fold 2 Results:\n",
            "              precision    recall  f1-score   support\n",
            "\n",
            "          -1       0.20      0.47      0.28       152\n",
            "           0       0.63      0.44      0.52       583\n",
            "           1       0.44      0.38      0.41       289\n",
            "\n",
            "    accuracy                           0.43      1024\n",
            "   macro avg       0.42      0.43      0.40      1024\n",
            "weighted avg       0.51      0.43      0.45      1024\n",
            "\n"
          ]
        },
        {
          "output_type": "stream",
          "name": "stderr",
          "text": [
            "/usr/local/lib/python3.10/dist-packages/sklearn/utils/deprecation.py:151: FutureWarning: 'force_all_finite' was renamed to 'ensure_all_finite' in 1.6 and will be removed in 1.8.\n",
            "  warnings.warn(\n",
            "/usr/local/lib/python3.10/dist-packages/sklearn/base.py:484: FutureWarning: `BaseEstimator._check_n_features` is deprecated in 1.6 and will be removed in 1.7. Use `sklearn.utils.validation._check_n_features` instead.\n",
            "  warnings.warn(\n",
            "/usr/local/lib/python3.10/dist-packages/sklearn/base.py:493: FutureWarning: `BaseEstimator._check_feature_names` is deprecated in 1.6 and will be removed in 1.7. Use `sklearn.utils.validation._check_feature_names` instead.\n",
            "  warnings.warn(\n",
            "/usr/local/lib/python3.10/dist-packages/keras/src/layers/core/embedding.py:90: UserWarning: Argument `input_length` is deprecated. Just remove it.\n",
            "  warnings.warn(\n"
          ]
        },
        {
          "output_type": "stream",
          "name": "stdout",
          "text": [
            "\n",
            "Fold 3 Results:\n",
            "              precision    recall  f1-score   support\n",
            "\n",
            "          -1       0.25      0.54      0.34       151\n",
            "           0       0.64      0.39      0.48       583\n",
            "           1       0.37      0.44      0.41       290\n",
            "\n",
            "    accuracy                           0.42      1024\n",
            "   macro avg       0.42      0.45      0.41      1024\n",
            "weighted avg       0.51      0.42      0.44      1024\n",
            "\n"
          ]
        },
        {
          "output_type": "stream",
          "name": "stderr",
          "text": [
            "/usr/local/lib/python3.10/dist-packages/sklearn/utils/deprecation.py:151: FutureWarning: 'force_all_finite' was renamed to 'ensure_all_finite' in 1.6 and will be removed in 1.8.\n",
            "  warnings.warn(\n",
            "/usr/local/lib/python3.10/dist-packages/sklearn/base.py:484: FutureWarning: `BaseEstimator._check_n_features` is deprecated in 1.6 and will be removed in 1.7. Use `sklearn.utils.validation._check_n_features` instead.\n",
            "  warnings.warn(\n",
            "/usr/local/lib/python3.10/dist-packages/sklearn/base.py:493: FutureWarning: `BaseEstimator._check_feature_names` is deprecated in 1.6 and will be removed in 1.7. Use `sklearn.utils.validation._check_feature_names` instead.\n",
            "  warnings.warn(\n",
            "/usr/local/lib/python3.10/dist-packages/keras/src/layers/core/embedding.py:90: UserWarning: Argument `input_length` is deprecated. Just remove it.\n",
            "  warnings.warn(\n"
          ]
        },
        {
          "output_type": "stream",
          "name": "stdout",
          "text": [
            "\n",
            "Fold 4 Results:\n",
            "              precision    recall  f1-score   support\n",
            "\n",
            "          -1       0.27      0.45      0.33       152\n",
            "           0       0.64      0.49      0.56       582\n",
            "           1       0.42      0.45      0.43       290\n",
            "\n",
            "    accuracy                           0.48      1024\n",
            "   macro avg       0.44      0.46      0.44      1024\n",
            "weighted avg       0.52      0.48      0.49      1024\n",
            "\n"
          ]
        },
        {
          "output_type": "stream",
          "name": "stderr",
          "text": [
            "/usr/local/lib/python3.10/dist-packages/sklearn/utils/deprecation.py:151: FutureWarning: 'force_all_finite' was renamed to 'ensure_all_finite' in 1.6 and will be removed in 1.8.\n",
            "  warnings.warn(\n",
            "/usr/local/lib/python3.10/dist-packages/sklearn/base.py:484: FutureWarning: `BaseEstimator._check_n_features` is deprecated in 1.6 and will be removed in 1.7. Use `sklearn.utils.validation._check_n_features` instead.\n",
            "  warnings.warn(\n",
            "/usr/local/lib/python3.10/dist-packages/sklearn/base.py:493: FutureWarning: `BaseEstimator._check_feature_names` is deprecated in 1.6 and will be removed in 1.7. Use `sklearn.utils.validation._check_feature_names` instead.\n",
            "  warnings.warn(\n",
            "/usr/local/lib/python3.10/dist-packages/keras/src/layers/core/embedding.py:90: UserWarning: Argument `input_length` is deprecated. Just remove it.\n",
            "  warnings.warn(\n"
          ]
        },
        {
          "output_type": "stream",
          "name": "stdout",
          "text": [
            "\n",
            "Fold 5 Results:\n",
            "              precision    recall  f1-score   support\n",
            "\n",
            "          -1       0.22      0.53      0.31       152\n",
            "           0       0.66      0.41      0.50       582\n",
            "           1       0.42      0.44      0.43       290\n",
            "\n",
            "    accuracy                           0.43      1024\n",
            "   macro avg       0.44      0.46      0.42      1024\n",
            "weighted avg       0.53      0.43      0.45      1024\n",
            "\n",
            "Mean Accuracy: 0.4497 (±0.0245)\n",
            "\n",
            "Analyzing aspect: ovr_sent\n",
            "\n",
            "Using undersample sampling:\n"
          ]
        },
        {
          "output_type": "stream",
          "name": "stderr",
          "text": [
            "/usr/local/lib/python3.10/dist-packages/sklearn/utils/deprecation.py:151: FutureWarning: 'force_all_finite' was renamed to 'ensure_all_finite' in 1.6 and will be removed in 1.8.\n",
            "  warnings.warn(\n",
            "/usr/local/lib/python3.10/dist-packages/sklearn/base.py:484: FutureWarning: `BaseEstimator._check_n_features` is deprecated in 1.6 and will be removed in 1.7. Use `sklearn.utils.validation._check_n_features` instead.\n",
            "  warnings.warn(\n",
            "/usr/local/lib/python3.10/dist-packages/sklearn/base.py:493: FutureWarning: `BaseEstimator._check_feature_names` is deprecated in 1.6 and will be removed in 1.7. Use `sklearn.utils.validation._check_feature_names` instead.\n",
            "  warnings.warn(\n",
            "/usr/local/lib/python3.10/dist-packages/keras/src/layers/core/embedding.py:90: UserWarning: Argument `input_length` is deprecated. Just remove it.\n",
            "  warnings.warn(\n"
          ]
        },
        {
          "output_type": "stream",
          "name": "stdout",
          "text": [
            "\n",
            "Fold 1 Results:\n",
            "              precision    recall  f1-score   support\n",
            "\n",
            "          -1       0.46      0.34      0.39       344\n",
            "           0       0.25      0.53      0.34       152\n",
            "           1       0.63      0.54      0.58       529\n",
            "\n",
            "    accuracy                           0.47      1025\n",
            "   macro avg       0.45      0.47      0.44      1025\n",
            "weighted avg       0.52      0.47      0.48      1025\n",
            "\n"
          ]
        },
        {
          "output_type": "stream",
          "name": "stderr",
          "text": [
            "/usr/local/lib/python3.10/dist-packages/sklearn/utils/deprecation.py:151: FutureWarning: 'force_all_finite' was renamed to 'ensure_all_finite' in 1.6 and will be removed in 1.8.\n",
            "  warnings.warn(\n",
            "/usr/local/lib/python3.10/dist-packages/sklearn/base.py:484: FutureWarning: `BaseEstimator._check_n_features` is deprecated in 1.6 and will be removed in 1.7. Use `sklearn.utils.validation._check_n_features` instead.\n",
            "  warnings.warn(\n",
            "/usr/local/lib/python3.10/dist-packages/sklearn/base.py:493: FutureWarning: `BaseEstimator._check_feature_names` is deprecated in 1.6 and will be removed in 1.7. Use `sklearn.utils.validation._check_feature_names` instead.\n",
            "  warnings.warn(\n",
            "/usr/local/lib/python3.10/dist-packages/keras/src/layers/core/embedding.py:90: UserWarning: Argument `input_length` is deprecated. Just remove it.\n",
            "  warnings.warn(\n"
          ]
        },
        {
          "output_type": "stream",
          "name": "stdout",
          "text": [
            "\n",
            "Fold 2 Results:\n",
            "              precision    recall  f1-score   support\n",
            "\n",
            "          -1       0.50      0.41      0.45       343\n",
            "           0       0.26      0.59      0.36       152\n",
            "           1       0.66      0.50      0.57       529\n",
            "\n",
            "    accuracy                           0.48      1024\n",
            "   macro avg       0.47      0.50      0.46      1024\n",
            "weighted avg       0.55      0.48      0.50      1024\n",
            "\n"
          ]
        },
        {
          "output_type": "stream",
          "name": "stderr",
          "text": [
            "/usr/local/lib/python3.10/dist-packages/sklearn/utils/deprecation.py:151: FutureWarning: 'force_all_finite' was renamed to 'ensure_all_finite' in 1.6 and will be removed in 1.8.\n",
            "  warnings.warn(\n",
            "/usr/local/lib/python3.10/dist-packages/sklearn/base.py:484: FutureWarning: `BaseEstimator._check_n_features` is deprecated in 1.6 and will be removed in 1.7. Use `sklearn.utils.validation._check_n_features` instead.\n",
            "  warnings.warn(\n",
            "/usr/local/lib/python3.10/dist-packages/sklearn/base.py:493: FutureWarning: `BaseEstimator._check_feature_names` is deprecated in 1.6 and will be removed in 1.7. Use `sklearn.utils.validation._check_feature_names` instead.\n",
            "  warnings.warn(\n",
            "/usr/local/lib/python3.10/dist-packages/keras/src/layers/core/embedding.py:90: UserWarning: Argument `input_length` is deprecated. Just remove it.\n",
            "  warnings.warn(\n"
          ]
        },
        {
          "output_type": "stream",
          "name": "stdout",
          "text": [
            "\n",
            "Fold 3 Results:\n",
            "              precision    recall  f1-score   support\n",
            "\n",
            "          -1       0.49      0.56      0.52       343\n",
            "           0       0.24      0.53      0.33       153\n",
            "           1       0.70      0.38      0.49       528\n",
            "\n",
            "    accuracy                           0.46      1024\n",
            "   macro avg       0.47      0.49      0.45      1024\n",
            "weighted avg       0.56      0.46      0.48      1024\n",
            "\n"
          ]
        },
        {
          "output_type": "stream",
          "name": "stderr",
          "text": [
            "/usr/local/lib/python3.10/dist-packages/sklearn/utils/deprecation.py:151: FutureWarning: 'force_all_finite' was renamed to 'ensure_all_finite' in 1.6 and will be removed in 1.8.\n",
            "  warnings.warn(\n",
            "/usr/local/lib/python3.10/dist-packages/sklearn/base.py:484: FutureWarning: `BaseEstimator._check_n_features` is deprecated in 1.6 and will be removed in 1.7. Use `sklearn.utils.validation._check_n_features` instead.\n",
            "  warnings.warn(\n",
            "/usr/local/lib/python3.10/dist-packages/sklearn/base.py:493: FutureWarning: `BaseEstimator._check_feature_names` is deprecated in 1.6 and will be removed in 1.7. Use `sklearn.utils.validation._check_feature_names` instead.\n",
            "  warnings.warn(\n",
            "/usr/local/lib/python3.10/dist-packages/keras/src/layers/core/embedding.py:90: UserWarning: Argument `input_length` is deprecated. Just remove it.\n",
            "  warnings.warn(\n"
          ]
        },
        {
          "output_type": "stream",
          "name": "stdout",
          "text": [
            "\n",
            "Fold 4 Results:\n",
            "              precision    recall  f1-score   support\n",
            "\n",
            "          -1       0.49      0.49      0.49       344\n",
            "           0       0.28      0.44      0.35       152\n",
            "           1       0.68      0.57      0.62       528\n",
            "\n",
            "    accuracy                           0.53      1024\n",
            "   macro avg       0.49      0.50      0.49      1024\n",
            "weighted avg       0.56      0.53      0.54      1024\n",
            "\n"
          ]
        },
        {
          "output_type": "stream",
          "name": "stderr",
          "text": [
            "/usr/local/lib/python3.10/dist-packages/sklearn/utils/deprecation.py:151: FutureWarning: 'force_all_finite' was renamed to 'ensure_all_finite' in 1.6 and will be removed in 1.8.\n",
            "  warnings.warn(\n",
            "/usr/local/lib/python3.10/dist-packages/sklearn/base.py:484: FutureWarning: `BaseEstimator._check_n_features` is deprecated in 1.6 and will be removed in 1.7. Use `sklearn.utils.validation._check_n_features` instead.\n",
            "  warnings.warn(\n",
            "/usr/local/lib/python3.10/dist-packages/sklearn/base.py:493: FutureWarning: `BaseEstimator._check_feature_names` is deprecated in 1.6 and will be removed in 1.7. Use `sklearn.utils.validation._check_feature_names` instead.\n",
            "  warnings.warn(\n",
            "/usr/local/lib/python3.10/dist-packages/keras/src/layers/core/embedding.py:90: UserWarning: Argument `input_length` is deprecated. Just remove it.\n",
            "  warnings.warn(\n"
          ]
        },
        {
          "output_type": "stream",
          "name": "stdout",
          "text": [
            "\n",
            "Fold 5 Results:\n",
            "              precision    recall  f1-score   support\n",
            "\n",
            "          -1       0.54      0.27      0.36       344\n",
            "           0       0.29      0.36      0.32       152\n",
            "           1       0.58      0.73      0.65       528\n",
            "\n",
            "    accuracy                           0.52      1024\n",
            "   macro avg       0.47      0.45      0.44      1024\n",
            "weighted avg       0.53      0.52      0.50      1024\n",
            "\n",
            "Mean Accuracy: 0.4927 (±0.0258)\n"
          ]
        }
      ]
    },
    {
      "cell_type": "code",
      "source": [
        "sampling_techniques_over = ['oversample']\n",
        "results = analyze_all_aspects_dl(df, aspects, sampling_techniques_over)"
      ],
      "metadata": {
        "colab": {
          "base_uri": "https://localhost:8080/"
        },
        "id": "-Y10yJARG1aG",
        "outputId": "f9510ee5-78d7-427a-b8a7-527d13a1da71",
        "collapsed": true
      },
      "execution_count": null,
      "outputs": [
        {
          "metadata": {
            "tags": null
          },
          "name": "stdout",
          "output_type": "stream",
          "text": [
            "\n",
            "Analyzing aspect: Acting\n",
            "\n",
            "Using oversample sampling:\n"
          ]
        },
        {
          "metadata": {
            "tags": null
          },
          "name": "stderr",
          "output_type": "stream",
          "text": [
            "/usr/local/lib/python3.10/dist-packages/sklearn/base.py:474: FutureWarning: `BaseEstimator._validate_data` is deprecated in 1.6 and will be removed in 1.7. Use `sklearn.utils.validation.validate_data` instead. This function becomes public and is part of the scikit-learn developer API.\n",
            "  warnings.warn(\n",
            "/usr/local/lib/python3.10/dist-packages/sklearn/utils/_tags.py:354: FutureWarning: The SMOTE or classes from which it inherits use `_get_tags` and `_more_tags`. Please define the `__sklearn_tags__` method, or inherit from `sklearn.base.BaseEstimator` and/or other appropriate mixins such as `sklearn.base.TransformerMixin`, `sklearn.base.ClassifierMixin`, `sklearn.base.RegressorMixin`, and `sklearn.base.OutlierMixin`. From scikit-learn 1.7, not defining `__sklearn_tags__` will raise an error.\n",
            "  warnings.warn(\n",
            "/usr/local/lib/python3.10/dist-packages/keras/src/layers/core/embedding.py:90: UserWarning: Argument `input_length` is deprecated. Just remove it.\n",
            "  warnings.warn(\n"
          ]
        },
        {
          "metadata": {
            "tags": null
          },
          "name": "stdout",
          "output_type": "stream",
          "text": [
            "\n",
            "Fold 1 Results:\n",
            "              precision    recall  f1-score   support\n",
            "\n",
            "          -1       0.07      0.26      0.11        34\n",
            "           0       0.80      0.59      0.68       770\n",
            "           1       0.27      0.39      0.32       221\n",
            "\n",
            "    accuracy                           0.54      1025\n",
            "   macro avg       0.38      0.42      0.37      1025\n",
            "weighted avg       0.66      0.54      0.58      1025\n",
            "\n"
          ]
        },
        {
          "metadata": {
            "tags": null
          },
          "name": "stderr",
          "output_type": "stream",
          "text": [
            "/usr/local/lib/python3.10/dist-packages/sklearn/base.py:474: FutureWarning: `BaseEstimator._validate_data` is deprecated in 1.6 and will be removed in 1.7. Use `sklearn.utils.validation.validate_data` instead. This function becomes public and is part of the scikit-learn developer API.\n",
            "  warnings.warn(\n",
            "/usr/local/lib/python3.10/dist-packages/sklearn/utils/_tags.py:354: FutureWarning: The SMOTE or classes from which it inherits use `_get_tags` and `_more_tags`. Please define the `__sklearn_tags__` method, or inherit from `sklearn.base.BaseEstimator` and/or other appropriate mixins such as `sklearn.base.TransformerMixin`, `sklearn.base.ClassifierMixin`, `sklearn.base.RegressorMixin`, and `sklearn.base.OutlierMixin`. From scikit-learn 1.7, not defining `__sklearn_tags__` will raise an error.\n",
            "  warnings.warn(\n",
            "/usr/local/lib/python3.10/dist-packages/keras/src/layers/core/embedding.py:90: UserWarning: Argument `input_length` is deprecated. Just remove it.\n",
            "  warnings.warn(\n"
          ]
        },
        {
          "metadata": {
            "tags": null
          },
          "name": "stdout",
          "output_type": "stream",
          "text": [
            "\n",
            "Fold 2 Results:\n",
            "              precision    recall  f1-score   support\n",
            "\n",
            "          -1       0.06      0.30      0.10        33\n",
            "           0       0.78      0.63      0.70       769\n",
            "           1       0.31      0.32      0.32       222\n",
            "\n",
            "    accuracy                           0.55      1024\n",
            "   macro avg       0.38      0.42      0.37      1024\n",
            "weighted avg       0.66      0.55      0.59      1024\n",
            "\n"
          ]
        },
        {
          "metadata": {
            "tags": null
          },
          "name": "stderr",
          "output_type": "stream",
          "text": [
            "/usr/local/lib/python3.10/dist-packages/sklearn/base.py:474: FutureWarning: `BaseEstimator._validate_data` is deprecated in 1.6 and will be removed in 1.7. Use `sklearn.utils.validation.validate_data` instead. This function becomes public and is part of the scikit-learn developer API.\n",
            "  warnings.warn(\n",
            "/usr/local/lib/python3.10/dist-packages/sklearn/utils/_tags.py:354: FutureWarning: The SMOTE or classes from which it inherits use `_get_tags` and `_more_tags`. Please define the `__sklearn_tags__` method, or inherit from `sklearn.base.BaseEstimator` and/or other appropriate mixins such as `sklearn.base.TransformerMixin`, `sklearn.base.ClassifierMixin`, `sklearn.base.RegressorMixin`, and `sklearn.base.OutlierMixin`. From scikit-learn 1.7, not defining `__sklearn_tags__` will raise an error.\n",
            "  warnings.warn(\n",
            "/usr/local/lib/python3.10/dist-packages/keras/src/layers/core/embedding.py:90: UserWarning: Argument `input_length` is deprecated. Just remove it.\n",
            "  warnings.warn(\n"
          ]
        },
        {
          "metadata": {
            "tags": null
          },
          "name": "stdout",
          "output_type": "stream",
          "text": [
            "\n",
            "Fold 3 Results:\n",
            "              precision    recall  f1-score   support\n",
            "\n",
            "          -1       0.05      0.30      0.08        33\n",
            "           0       0.80      0.48      0.60       769\n",
            "           1       0.27      0.44      0.33       222\n",
            "\n",
            "    accuracy                           0.46      1024\n",
            "   macro avg       0.37      0.41      0.34      1024\n",
            "weighted avg       0.66      0.46      0.52      1024\n",
            "\n"
          ]
        },
        {
          "metadata": {
            "tags": null
          },
          "name": "stderr",
          "output_type": "stream",
          "text": [
            "/usr/local/lib/python3.10/dist-packages/sklearn/base.py:474: FutureWarning: `BaseEstimator._validate_data` is deprecated in 1.6 and will be removed in 1.7. Use `sklearn.utils.validation.validate_data` instead. This function becomes public and is part of the scikit-learn developer API.\n",
            "  warnings.warn(\n",
            "/usr/local/lib/python3.10/dist-packages/sklearn/utils/_tags.py:354: FutureWarning: The SMOTE or classes from which it inherits use `_get_tags` and `_more_tags`. Please define the `__sklearn_tags__` method, or inherit from `sklearn.base.BaseEstimator` and/or other appropriate mixins such as `sklearn.base.TransformerMixin`, `sklearn.base.ClassifierMixin`, `sklearn.base.RegressorMixin`, and `sklearn.base.OutlierMixin`. From scikit-learn 1.7, not defining `__sklearn_tags__` will raise an error.\n",
            "  warnings.warn(\n",
            "/usr/local/lib/python3.10/dist-packages/keras/src/layers/core/embedding.py:90: UserWarning: Argument `input_length` is deprecated. Just remove it.\n",
            "  warnings.warn(\n"
          ]
        },
        {
          "metadata": {
            "tags": null
          },
          "name": "stdout",
          "output_type": "stream",
          "text": [
            "\n",
            "Fold 4 Results:\n",
            "              precision    recall  f1-score   support\n",
            "\n",
            "          -1       0.06      0.30      0.09        33\n",
            "           0       0.80      0.58      0.67       769\n",
            "           1       0.32      0.41      0.36       222\n",
            "\n",
            "    accuracy                           0.53      1024\n",
            "   macro avg       0.39      0.43      0.37      1024\n",
            "weighted avg       0.67      0.53      0.59      1024\n",
            "\n"
          ]
        },
        {
          "metadata": {
            "tags": null
          },
          "name": "stderr",
          "output_type": "stream",
          "text": [
            "/usr/local/lib/python3.10/dist-packages/sklearn/base.py:474: FutureWarning: `BaseEstimator._validate_data` is deprecated in 1.6 and will be removed in 1.7. Use `sklearn.utils.validation.validate_data` instead. This function becomes public and is part of the scikit-learn developer API.\n",
            "  warnings.warn(\n",
            "/usr/local/lib/python3.10/dist-packages/sklearn/utils/_tags.py:354: FutureWarning: The SMOTE or classes from which it inherits use `_get_tags` and `_more_tags`. Please define the `__sklearn_tags__` method, or inherit from `sklearn.base.BaseEstimator` and/or other appropriate mixins such as `sklearn.base.TransformerMixin`, `sklearn.base.ClassifierMixin`, `sklearn.base.RegressorMixin`, and `sklearn.base.OutlierMixin`. From scikit-learn 1.7, not defining `__sklearn_tags__` will raise an error.\n",
            "  warnings.warn(\n",
            "/usr/local/lib/python3.10/dist-packages/keras/src/layers/core/embedding.py:90: UserWarning: Argument `input_length` is deprecated. Just remove it.\n",
            "  warnings.warn(\n"
          ]
        },
        {
          "output_type": "stream",
          "name": "stdout",
          "text": [
            "\n",
            "Fold 5 Results:\n",
            "              precision    recall  f1-score   support\n",
            "\n",
            "          -1       0.05      0.35      0.09        34\n",
            "           0       0.81      0.45      0.58       769\n",
            "           1       0.28      0.44      0.34       221\n",
            "\n",
            "    accuracy                           0.45      1024\n",
            "   macro avg       0.38      0.41      0.34      1024\n",
            "weighted avg       0.67      0.45      0.51      1024\n",
            "\n",
            "Mean Accuracy: 0.5063 (±0.0432)\n",
            "\n",
            "Analyzing aspect: direction\n",
            "\n",
            "Using oversample sampling:\n"
          ]
        },
        {
          "output_type": "stream",
          "name": "stderr",
          "text": [
            "/usr/local/lib/python3.10/dist-packages/sklearn/base.py:474: FutureWarning: `BaseEstimator._validate_data` is deprecated in 1.6 and will be removed in 1.7. Use `sklearn.utils.validation.validate_data` instead. This function becomes public and is part of the scikit-learn developer API.\n",
            "  warnings.warn(\n",
            "/usr/local/lib/python3.10/dist-packages/sklearn/utils/_tags.py:354: FutureWarning: The SMOTE or classes from which it inherits use `_get_tags` and `_more_tags`. Please define the `__sklearn_tags__` method, or inherit from `sklearn.base.BaseEstimator` and/or other appropriate mixins such as `sklearn.base.TransformerMixin`, `sklearn.base.ClassifierMixin`, `sklearn.base.RegressorMixin`, and `sklearn.base.OutlierMixin`. From scikit-learn 1.7, not defining `__sklearn_tags__` will raise an error.\n",
            "  warnings.warn(\n",
            "/usr/local/lib/python3.10/dist-packages/keras/src/layers/core/embedding.py:90: UserWarning: Argument `input_length` is deprecated. Just remove it.\n",
            "  warnings.warn(\n"
          ]
        },
        {
          "output_type": "stream",
          "name": "stdout",
          "text": [
            "\n",
            "Fold 1 Results:\n",
            "              precision    recall  f1-score   support\n",
            "\n",
            "          -1       0.18      0.39      0.25       139\n",
            "           0       0.85      0.50      0.63       824\n",
            "           1       0.05      0.19      0.08        62\n",
            "\n",
            "    accuracy                           0.47      1025\n",
            "   macro avg       0.36      0.36      0.32      1025\n",
            "weighted avg       0.71      0.47      0.55      1025\n",
            "\n"
          ]
        },
        {
          "output_type": "stream",
          "name": "stderr",
          "text": [
            "/usr/local/lib/python3.10/dist-packages/sklearn/base.py:474: FutureWarning: `BaseEstimator._validate_data` is deprecated in 1.6 and will be removed in 1.7. Use `sklearn.utils.validation.validate_data` instead. This function becomes public and is part of the scikit-learn developer API.\n",
            "  warnings.warn(\n",
            "/usr/local/lib/python3.10/dist-packages/sklearn/utils/_tags.py:354: FutureWarning: The SMOTE or classes from which it inherits use `_get_tags` and `_more_tags`. Please define the `__sklearn_tags__` method, or inherit from `sklearn.base.BaseEstimator` and/or other appropriate mixins such as `sklearn.base.TransformerMixin`, `sklearn.base.ClassifierMixin`, `sklearn.base.RegressorMixin`, and `sklearn.base.OutlierMixin`. From scikit-learn 1.7, not defining `__sklearn_tags__` will raise an error.\n",
            "  warnings.warn(\n",
            "/usr/local/lib/python3.10/dist-packages/keras/src/layers/core/embedding.py:90: UserWarning: Argument `input_length` is deprecated. Just remove it.\n",
            "  warnings.warn(\n"
          ]
        },
        {
          "output_type": "stream",
          "name": "stdout",
          "text": [
            "\n",
            "Fold 2 Results:\n",
            "              precision    recall  f1-score   support\n",
            "\n",
            "          -1       0.25      0.51      0.33       138\n",
            "           0       0.88      0.53      0.66       824\n",
            "           1       0.08      0.32      0.13        62\n",
            "\n",
            "    accuracy                           0.52      1024\n",
            "   macro avg       0.40      0.45      0.38      1024\n",
            "weighted avg       0.75      0.52      0.59      1024\n",
            "\n"
          ]
        },
        {
          "output_type": "stream",
          "name": "stderr",
          "text": [
            "/usr/local/lib/python3.10/dist-packages/sklearn/base.py:474: FutureWarning: `BaseEstimator._validate_data` is deprecated in 1.6 and will be removed in 1.7. Use `sklearn.utils.validation.validate_data` instead. This function becomes public and is part of the scikit-learn developer API.\n",
            "  warnings.warn(\n",
            "/usr/local/lib/python3.10/dist-packages/sklearn/utils/_tags.py:354: FutureWarning: The SMOTE or classes from which it inherits use `_get_tags` and `_more_tags`. Please define the `__sklearn_tags__` method, or inherit from `sklearn.base.BaseEstimator` and/or other appropriate mixins such as `sklearn.base.TransformerMixin`, `sklearn.base.ClassifierMixin`, `sklearn.base.RegressorMixin`, and `sklearn.base.OutlierMixin`. From scikit-learn 1.7, not defining `__sklearn_tags__` will raise an error.\n",
            "  warnings.warn(\n",
            "/usr/local/lib/python3.10/dist-packages/keras/src/layers/core/embedding.py:90: UserWarning: Argument `input_length` is deprecated. Just remove it.\n",
            "  warnings.warn(\n"
          ]
        },
        {
          "output_type": "stream",
          "name": "stdout",
          "text": [
            "\n",
            "Fold 3 Results:\n",
            "              precision    recall  f1-score   support\n",
            "\n",
            "          -1       0.28      0.47      0.35       139\n",
            "           0       0.88      0.53      0.66       823\n",
            "           1       0.09      0.45      0.16        62\n",
            "\n",
            "    accuracy                           0.52      1024\n",
            "   macro avg       0.42      0.48      0.39      1024\n",
            "weighted avg       0.75      0.52      0.59      1024\n",
            "\n"
          ]
        },
        {
          "output_type": "stream",
          "name": "stderr",
          "text": [
            "/usr/local/lib/python3.10/dist-packages/sklearn/base.py:474: FutureWarning: `BaseEstimator._validate_data` is deprecated in 1.6 and will be removed in 1.7. Use `sklearn.utils.validation.validate_data` instead. This function becomes public and is part of the scikit-learn developer API.\n",
            "  warnings.warn(\n",
            "/usr/local/lib/python3.10/dist-packages/sklearn/utils/_tags.py:354: FutureWarning: The SMOTE or classes from which it inherits use `_get_tags` and `_more_tags`. Please define the `__sklearn_tags__` method, or inherit from `sklearn.base.BaseEstimator` and/or other appropriate mixins such as `sklearn.base.TransformerMixin`, `sklearn.base.ClassifierMixin`, `sklearn.base.RegressorMixin`, and `sklearn.base.OutlierMixin`. From scikit-learn 1.7, not defining `__sklearn_tags__` will raise an error.\n",
            "  warnings.warn(\n",
            "/usr/local/lib/python3.10/dist-packages/keras/src/layers/core/embedding.py:90: UserWarning: Argument `input_length` is deprecated. Just remove it.\n",
            "  warnings.warn(\n"
          ]
        },
        {
          "output_type": "stream",
          "name": "stdout",
          "text": [
            "\n",
            "Fold 4 Results:\n",
            "              precision    recall  f1-score   support\n",
            "\n",
            "          -1       0.21      0.41      0.28       139\n",
            "           0       0.85      0.52      0.65       823\n",
            "           1       0.07      0.29      0.11        62\n",
            "\n",
            "    accuracy                           0.49      1024\n",
            "   macro avg       0.38      0.41      0.35      1024\n",
            "weighted avg       0.72      0.49      0.56      1024\n",
            "\n"
          ]
        },
        {
          "output_type": "stream",
          "name": "stderr",
          "text": [
            "/usr/local/lib/python3.10/dist-packages/sklearn/base.py:474: FutureWarning: `BaseEstimator._validate_data` is deprecated in 1.6 and will be removed in 1.7. Use `sklearn.utils.validation.validate_data` instead. This function becomes public and is part of the scikit-learn developer API.\n",
            "  warnings.warn(\n",
            "/usr/local/lib/python3.10/dist-packages/sklearn/utils/_tags.py:354: FutureWarning: The SMOTE or classes from which it inherits use `_get_tags` and `_more_tags`. Please define the `__sklearn_tags__` method, or inherit from `sklearn.base.BaseEstimator` and/or other appropriate mixins such as `sklearn.base.TransformerMixin`, `sklearn.base.ClassifierMixin`, `sklearn.base.RegressorMixin`, and `sklearn.base.OutlierMixin`. From scikit-learn 1.7, not defining `__sklearn_tags__` will raise an error.\n",
            "  warnings.warn(\n",
            "/usr/local/lib/python3.10/dist-packages/keras/src/layers/core/embedding.py:90: UserWarning: Argument `input_length` is deprecated. Just remove it.\n",
            "  warnings.warn(\n"
          ]
        },
        {
          "output_type": "stream",
          "name": "stdout",
          "text": [
            "\n",
            "Fold 5 Results:\n",
            "              precision    recall  f1-score   support\n",
            "\n",
            "          -1       0.24      0.34      0.28       139\n",
            "           0       0.86      0.55      0.67       823\n",
            "           1       0.07      0.34      0.12        62\n",
            "\n",
            "    accuracy                           0.51      1024\n",
            "   macro avg       0.39      0.41      0.35      1024\n",
            "weighted avg       0.72      0.51      0.58      1024\n",
            "\n",
            "Mean Accuracy: 0.5001 (±0.0178)\n",
            "\n",
            "Analyzing aspect: Music\n",
            "\n",
            "Using oversample sampling:\n"
          ]
        },
        {
          "output_type": "stream",
          "name": "stderr",
          "text": [
            "/usr/local/lib/python3.10/dist-packages/sklearn/base.py:474: FutureWarning: `BaseEstimator._validate_data` is deprecated in 1.6 and will be removed in 1.7. Use `sklearn.utils.validation.validate_data` instead. This function becomes public and is part of the scikit-learn developer API.\n",
            "  warnings.warn(\n",
            "/usr/local/lib/python3.10/dist-packages/sklearn/utils/_tags.py:354: FutureWarning: The SMOTE or classes from which it inherits use `_get_tags` and `_more_tags`. Please define the `__sklearn_tags__` method, or inherit from `sklearn.base.BaseEstimator` and/or other appropriate mixins such as `sklearn.base.TransformerMixin`, `sklearn.base.ClassifierMixin`, `sklearn.base.RegressorMixin`, and `sklearn.base.OutlierMixin`. From scikit-learn 1.7, not defining `__sklearn_tags__` will raise an error.\n",
            "  warnings.warn(\n",
            "/usr/local/lib/python3.10/dist-packages/keras/src/layers/core/embedding.py:90: UserWarning: Argument `input_length` is deprecated. Just remove it.\n",
            "  warnings.warn(\n"
          ]
        },
        {
          "output_type": "stream",
          "name": "stdout",
          "text": [
            "\n",
            "Fold 1 Results:\n",
            "              precision    recall  f1-score   support\n",
            "\n",
            "          -1       0.04      0.23      0.07        22\n",
            "           0       0.89      0.60      0.72       897\n",
            "           1       0.11      0.30      0.16       106\n",
            "\n",
            "    accuracy                           0.56      1025\n",
            "   macro avg       0.35      0.38      0.32      1025\n",
            "weighted avg       0.79      0.56      0.65      1025\n",
            "\n"
          ]
        },
        {
          "output_type": "stream",
          "name": "stderr",
          "text": [
            "/usr/local/lib/python3.10/dist-packages/sklearn/base.py:474: FutureWarning: `BaseEstimator._validate_data` is deprecated in 1.6 and will be removed in 1.7. Use `sklearn.utils.validation.validate_data` instead. This function becomes public and is part of the scikit-learn developer API.\n",
            "  warnings.warn(\n",
            "/usr/local/lib/python3.10/dist-packages/sklearn/utils/_tags.py:354: FutureWarning: The SMOTE or classes from which it inherits use `_get_tags` and `_more_tags`. Please define the `__sklearn_tags__` method, or inherit from `sklearn.base.BaseEstimator` and/or other appropriate mixins such as `sklearn.base.TransformerMixin`, `sklearn.base.ClassifierMixin`, `sklearn.base.RegressorMixin`, and `sklearn.base.OutlierMixin`. From scikit-learn 1.7, not defining `__sklearn_tags__` will raise an error.\n",
            "  warnings.warn(\n",
            "/usr/local/lib/python3.10/dist-packages/keras/src/layers/core/embedding.py:90: UserWarning: Argument `input_length` is deprecated. Just remove it.\n",
            "  warnings.warn(\n"
          ]
        },
        {
          "output_type": "stream",
          "name": "stdout",
          "text": [
            "\n",
            "Fold 2 Results:\n",
            "              precision    recall  f1-score   support\n",
            "\n",
            "          -1       0.02      0.19      0.04        21\n",
            "           0       0.91      0.52      0.66       897\n",
            "           1       0.15      0.47      0.22       106\n",
            "\n",
            "    accuracy                           0.51      1024\n",
            "   macro avg       0.36      0.39      0.31      1024\n",
            "weighted avg       0.82      0.51      0.60      1024\n",
            "\n"
          ]
        },
        {
          "output_type": "stream",
          "name": "stderr",
          "text": [
            "/usr/local/lib/python3.10/dist-packages/sklearn/base.py:474: FutureWarning: `BaseEstimator._validate_data` is deprecated in 1.6 and will be removed in 1.7. Use `sklearn.utils.validation.validate_data` instead. This function becomes public and is part of the scikit-learn developer API.\n",
            "  warnings.warn(\n",
            "/usr/local/lib/python3.10/dist-packages/sklearn/utils/_tags.py:354: FutureWarning: The SMOTE or classes from which it inherits use `_get_tags` and `_more_tags`. Please define the `__sklearn_tags__` method, or inherit from `sklearn.base.BaseEstimator` and/or other appropriate mixins such as `sklearn.base.TransformerMixin`, `sklearn.base.ClassifierMixin`, `sklearn.base.RegressorMixin`, and `sklearn.base.OutlierMixin`. From scikit-learn 1.7, not defining `__sklearn_tags__` will raise an error.\n",
            "  warnings.warn(\n",
            "/usr/local/lib/python3.10/dist-packages/keras/src/layers/core/embedding.py:90: UserWarning: Argument `input_length` is deprecated. Just remove it.\n",
            "  warnings.warn(\n"
          ]
        },
        {
          "output_type": "stream",
          "name": "stdout",
          "text": [
            "\n",
            "Fold 3 Results:\n",
            "              precision    recall  f1-score   support\n",
            "\n",
            "          -1       0.01      0.05      0.01        21\n",
            "           0       0.90      0.52      0.66       897\n",
            "           1       0.12      0.42      0.19       106\n",
            "\n",
            "    accuracy                           0.50      1024\n",
            "   macro avg       0.34      0.33      0.29      1024\n",
            "weighted avg       0.80      0.50      0.60      1024\n",
            "\n"
          ]
        },
        {
          "output_type": "stream",
          "name": "stderr",
          "text": [
            "/usr/local/lib/python3.10/dist-packages/sklearn/base.py:474: FutureWarning: `BaseEstimator._validate_data` is deprecated in 1.6 and will be removed in 1.7. Use `sklearn.utils.validation.validate_data` instead. This function becomes public and is part of the scikit-learn developer API.\n",
            "  warnings.warn(\n",
            "/usr/local/lib/python3.10/dist-packages/sklearn/utils/_tags.py:354: FutureWarning: The SMOTE or classes from which it inherits use `_get_tags` and `_more_tags`. Please define the `__sklearn_tags__` method, or inherit from `sklearn.base.BaseEstimator` and/or other appropriate mixins such as `sklearn.base.TransformerMixin`, `sklearn.base.ClassifierMixin`, `sklearn.base.RegressorMixin`, and `sklearn.base.OutlierMixin`. From scikit-learn 1.7, not defining `__sklearn_tags__` will raise an error.\n",
            "  warnings.warn(\n",
            "/usr/local/lib/python3.10/dist-packages/keras/src/layers/core/embedding.py:90: UserWarning: Argument `input_length` is deprecated. Just remove it.\n",
            "  warnings.warn(\n"
          ]
        },
        {
          "output_type": "stream",
          "name": "stdout",
          "text": [
            "\n",
            "Fold 4 Results:\n",
            "              precision    recall  f1-score   support\n",
            "\n",
            "          -1       0.03      0.19      0.05        21\n",
            "           0       0.90      0.60      0.72       897\n",
            "           1       0.13      0.36      0.19       106\n",
            "\n",
            "    accuracy                           0.57      1024\n",
            "   macro avg       0.35      0.38      0.32      1024\n",
            "weighted avg       0.80      0.57      0.65      1024\n",
            "\n"
          ]
        },
        {
          "output_type": "stream",
          "name": "stderr",
          "text": [
            "/usr/local/lib/python3.10/dist-packages/sklearn/base.py:474: FutureWarning: `BaseEstimator._validate_data` is deprecated in 1.6 and will be removed in 1.7. Use `sklearn.utils.validation.validate_data` instead. This function becomes public and is part of the scikit-learn developer API.\n",
            "  warnings.warn(\n",
            "/usr/local/lib/python3.10/dist-packages/sklearn/utils/_tags.py:354: FutureWarning: The SMOTE or classes from which it inherits use `_get_tags` and `_more_tags`. Please define the `__sklearn_tags__` method, or inherit from `sklearn.base.BaseEstimator` and/or other appropriate mixins such as `sklearn.base.TransformerMixin`, `sklearn.base.ClassifierMixin`, `sklearn.base.RegressorMixin`, and `sklearn.base.OutlierMixin`. From scikit-learn 1.7, not defining `__sklearn_tags__` will raise an error.\n",
            "  warnings.warn(\n",
            "/usr/local/lib/python3.10/dist-packages/keras/src/layers/core/embedding.py:90: UserWarning: Argument `input_length` is deprecated. Just remove it.\n",
            "  warnings.warn(\n"
          ]
        },
        {
          "output_type": "stream",
          "name": "stdout",
          "text": [
            "\n",
            "Fold 5 Results:\n",
            "              precision    recall  f1-score   support\n",
            "\n",
            "          -1       0.01      0.09      0.03        22\n",
            "           0       0.90      0.58      0.71       896\n",
            "           1       0.14      0.42      0.22       106\n",
            "\n",
            "    accuracy                           0.56      1024\n",
            "   macro avg       0.35      0.37      0.32      1024\n",
            "weighted avg       0.81      0.56      0.64      1024\n",
            "\n",
            "Mean Accuracy: 0.5380 (±0.0302)\n",
            "\n",
            "Analyzing aspect: Genre\n",
            "\n",
            "Using oversample sampling:\n"
          ]
        },
        {
          "output_type": "stream",
          "name": "stderr",
          "text": [
            "/usr/local/lib/python3.10/dist-packages/sklearn/base.py:474: FutureWarning: `BaseEstimator._validate_data` is deprecated in 1.6 and will be removed in 1.7. Use `sklearn.utils.validation.validate_data` instead. This function becomes public and is part of the scikit-learn developer API.\n",
            "  warnings.warn(\n",
            "/usr/local/lib/python3.10/dist-packages/sklearn/utils/_tags.py:354: FutureWarning: The SMOTE or classes from which it inherits use `_get_tags` and `_more_tags`. Please define the `__sklearn_tags__` method, or inherit from `sklearn.base.BaseEstimator` and/or other appropriate mixins such as `sklearn.base.TransformerMixin`, `sklearn.base.ClassifierMixin`, `sklearn.base.RegressorMixin`, and `sklearn.base.OutlierMixin`. From scikit-learn 1.7, not defining `__sklearn_tags__` will raise an error.\n",
            "  warnings.warn(\n",
            "/usr/local/lib/python3.10/dist-packages/keras/src/layers/core/embedding.py:90: UserWarning: Argument `input_length` is deprecated. Just remove it.\n",
            "  warnings.warn(\n"
          ]
        },
        {
          "output_type": "stream",
          "name": "stdout",
          "text": [
            "\n",
            "Fold 1 Results:\n",
            "              precision    recall  f1-score   support\n",
            "\n",
            "          -1       0.01      0.10      0.02        10\n",
            "           0       0.95      0.68      0.79       975\n",
            "           1       0.05      0.28      0.08        40\n",
            "\n",
            "    accuracy                           0.65      1025\n",
            "   macro avg       0.34      0.35      0.30      1025\n",
            "weighted avg       0.91      0.65      0.76      1025\n",
            "\n"
          ]
        },
        {
          "output_type": "stream",
          "name": "stderr",
          "text": [
            "/usr/local/lib/python3.10/dist-packages/sklearn/base.py:474: FutureWarning: `BaseEstimator._validate_data` is deprecated in 1.6 and will be removed in 1.7. Use `sklearn.utils.validation.validate_data` instead. This function becomes public and is part of the scikit-learn developer API.\n",
            "  warnings.warn(\n",
            "/usr/local/lib/python3.10/dist-packages/sklearn/utils/_tags.py:354: FutureWarning: The SMOTE or classes from which it inherits use `_get_tags` and `_more_tags`. Please define the `__sklearn_tags__` method, or inherit from `sklearn.base.BaseEstimator` and/or other appropriate mixins such as `sklearn.base.TransformerMixin`, `sklearn.base.ClassifierMixin`, `sklearn.base.RegressorMixin`, and `sklearn.base.OutlierMixin`. From scikit-learn 1.7, not defining `__sklearn_tags__` will raise an error.\n",
            "  warnings.warn(\n",
            "/usr/local/lib/python3.10/dist-packages/keras/src/layers/core/embedding.py:90: UserWarning: Argument `input_length` is deprecated. Just remove it.\n",
            "  warnings.warn(\n"
          ]
        },
        {
          "output_type": "stream",
          "name": "stdout",
          "text": [
            "\n",
            "Fold 2 Results:\n",
            "              precision    recall  f1-score   support\n",
            "\n",
            "          -1       0.00      0.00      0.00        11\n",
            "           0       0.95      0.75      0.84       974\n",
            "           1       0.06      0.23      0.10        39\n",
            "\n",
            "    accuracy                           0.72      1024\n",
            "   macro avg       0.34      0.33      0.31      1024\n",
            "weighted avg       0.91      0.72      0.80      1024\n",
            "\n"
          ]
        },
        {
          "output_type": "stream",
          "name": "stderr",
          "text": [
            "/usr/local/lib/python3.10/dist-packages/sklearn/base.py:474: FutureWarning: `BaseEstimator._validate_data` is deprecated in 1.6 and will be removed in 1.7. Use `sklearn.utils.validation.validate_data` instead. This function becomes public and is part of the scikit-learn developer API.\n",
            "  warnings.warn(\n",
            "/usr/local/lib/python3.10/dist-packages/sklearn/utils/_tags.py:354: FutureWarning: The SMOTE or classes from which it inherits use `_get_tags` and `_more_tags`. Please define the `__sklearn_tags__` method, or inherit from `sklearn.base.BaseEstimator` and/or other appropriate mixins such as `sklearn.base.TransformerMixin`, `sklearn.base.ClassifierMixin`, `sklearn.base.RegressorMixin`, and `sklearn.base.OutlierMixin`. From scikit-learn 1.7, not defining `__sklearn_tags__` will raise an error.\n",
            "  warnings.warn(\n",
            "/usr/local/lib/python3.10/dist-packages/keras/src/layers/core/embedding.py:90: UserWarning: Argument `input_length` is deprecated. Just remove it.\n",
            "  warnings.warn(\n"
          ]
        },
        {
          "output_type": "stream",
          "name": "stdout",
          "text": [
            "\n",
            "Fold 3 Results:\n",
            "              precision    recall  f1-score   support\n",
            "\n",
            "          -1       0.01      0.09      0.02        11\n",
            "           0       0.95      0.72      0.82       974\n",
            "           1       0.05      0.26      0.08        39\n",
            "\n",
            "    accuracy                           0.70      1024\n",
            "   macro avg       0.34      0.36      0.31      1024\n",
            "weighted avg       0.91      0.70      0.78      1024\n",
            "\n"
          ]
        },
        {
          "output_type": "stream",
          "name": "stderr",
          "text": [
            "/usr/local/lib/python3.10/dist-packages/sklearn/base.py:474: FutureWarning: `BaseEstimator._validate_data` is deprecated in 1.6 and will be removed in 1.7. Use `sklearn.utils.validation.validate_data` instead. This function becomes public and is part of the scikit-learn developer API.\n",
            "  warnings.warn(\n",
            "/usr/local/lib/python3.10/dist-packages/sklearn/utils/_tags.py:354: FutureWarning: The SMOTE or classes from which it inherits use `_get_tags` and `_more_tags`. Please define the `__sklearn_tags__` method, or inherit from `sklearn.base.BaseEstimator` and/or other appropriate mixins such as `sklearn.base.TransformerMixin`, `sklearn.base.ClassifierMixin`, `sklearn.base.RegressorMixin`, and `sklearn.base.OutlierMixin`. From scikit-learn 1.7, not defining `__sklearn_tags__` will raise an error.\n",
            "  warnings.warn(\n",
            "/usr/local/lib/python3.10/dist-packages/keras/src/layers/core/embedding.py:90: UserWarning: Argument `input_length` is deprecated. Just remove it.\n",
            "  warnings.warn(\n"
          ]
        },
        {
          "output_type": "stream",
          "name": "stdout",
          "text": [
            "\n",
            "Fold 4 Results:\n",
            "              precision    recall  f1-score   support\n",
            "\n",
            "          -1       0.02      0.18      0.03        11\n",
            "           0       0.96      0.73      0.83       974\n",
            "           1       0.07      0.33      0.12        39\n",
            "\n",
            "    accuracy                           0.71      1024\n",
            "   macro avg       0.35      0.41      0.33      1024\n",
            "weighted avg       0.92      0.71      0.79      1024\n",
            "\n"
          ]
        },
        {
          "output_type": "stream",
          "name": "stderr",
          "text": [
            "/usr/local/lib/python3.10/dist-packages/sklearn/base.py:474: FutureWarning: `BaseEstimator._validate_data` is deprecated in 1.6 and will be removed in 1.7. Use `sklearn.utils.validation.validate_data` instead. This function becomes public and is part of the scikit-learn developer API.\n",
            "  warnings.warn(\n",
            "/usr/local/lib/python3.10/dist-packages/sklearn/utils/_tags.py:354: FutureWarning: The SMOTE or classes from which it inherits use `_get_tags` and `_more_tags`. Please define the `__sklearn_tags__` method, or inherit from `sklearn.base.BaseEstimator` and/or other appropriate mixins such as `sklearn.base.TransformerMixin`, `sklearn.base.ClassifierMixin`, `sklearn.base.RegressorMixin`, and `sklearn.base.OutlierMixin`. From scikit-learn 1.7, not defining `__sklearn_tags__` will raise an error.\n",
            "  warnings.warn(\n",
            "/usr/local/lib/python3.10/dist-packages/keras/src/layers/core/embedding.py:90: UserWarning: Argument `input_length` is deprecated. Just remove it.\n",
            "  warnings.warn(\n"
          ]
        },
        {
          "output_type": "stream",
          "name": "stdout",
          "text": [
            "\n",
            "Fold 5 Results:\n",
            "              precision    recall  f1-score   support\n",
            "\n",
            "          -1       0.03      0.30      0.06        10\n",
            "           0       0.95      0.69      0.80       974\n",
            "           1       0.05      0.28      0.08        40\n",
            "\n",
            "    accuracy                           0.67      1024\n",
            "   macro avg       0.35      0.42      0.31      1024\n",
            "weighted avg       0.91      0.67      0.77      1024\n",
            "\n",
            "Mean Accuracy: 0.6899 (±0.0241)\n",
            "\n",
            "Analyzing aspect: excitement\n",
            "\n",
            "Using oversample sampling:\n"
          ]
        },
        {
          "output_type": "stream",
          "name": "stderr",
          "text": [
            "/usr/local/lib/python3.10/dist-packages/sklearn/base.py:474: FutureWarning: `BaseEstimator._validate_data` is deprecated in 1.6 and will be removed in 1.7. Use `sklearn.utils.validation.validate_data` instead. This function becomes public and is part of the scikit-learn developer API.\n",
            "  warnings.warn(\n",
            "/usr/local/lib/python3.10/dist-packages/sklearn/utils/_tags.py:354: FutureWarning: The SMOTE or classes from which it inherits use `_get_tags` and `_more_tags`. Please define the `__sklearn_tags__` method, or inherit from `sklearn.base.BaseEstimator` and/or other appropriate mixins such as `sklearn.base.TransformerMixin`, `sklearn.base.ClassifierMixin`, `sklearn.base.RegressorMixin`, and `sklearn.base.OutlierMixin`. From scikit-learn 1.7, not defining `__sklearn_tags__` will raise an error.\n",
            "  warnings.warn(\n",
            "/usr/local/lib/python3.10/dist-packages/keras/src/layers/core/embedding.py:90: UserWarning: Argument `input_length` is deprecated. Just remove it.\n",
            "  warnings.warn(\n"
          ]
        },
        {
          "output_type": "stream",
          "name": "stdout",
          "text": [
            "\n",
            "Fold 1 Results:\n",
            "              precision    recall  f1-score   support\n",
            "\n",
            "          -1       0.18      0.41      0.25       152\n",
            "           0       0.59      0.39      0.47       583\n",
            "           1       0.40      0.41      0.40       290\n",
            "\n",
            "    accuracy                           0.40      1025\n",
            "   macro avg       0.39      0.40      0.37      1025\n",
            "weighted avg       0.48      0.40      0.42      1025\n",
            "\n"
          ]
        },
        {
          "output_type": "stream",
          "name": "stderr",
          "text": [
            "/usr/local/lib/python3.10/dist-packages/sklearn/base.py:474: FutureWarning: `BaseEstimator._validate_data` is deprecated in 1.6 and will be removed in 1.7. Use `sklearn.utils.validation.validate_data` instead. This function becomes public and is part of the scikit-learn developer API.\n",
            "  warnings.warn(\n",
            "/usr/local/lib/python3.10/dist-packages/sklearn/utils/_tags.py:354: FutureWarning: The SMOTE or classes from which it inherits use `_get_tags` and `_more_tags`. Please define the `__sklearn_tags__` method, or inherit from `sklearn.base.BaseEstimator` and/or other appropriate mixins such as `sklearn.base.TransformerMixin`, `sklearn.base.ClassifierMixin`, `sklearn.base.RegressorMixin`, and `sklearn.base.OutlierMixin`. From scikit-learn 1.7, not defining `__sklearn_tags__` will raise an error.\n",
            "  warnings.warn(\n",
            "/usr/local/lib/python3.10/dist-packages/keras/src/layers/core/embedding.py:90: UserWarning: Argument `input_length` is deprecated. Just remove it.\n",
            "  warnings.warn(\n"
          ]
        },
        {
          "output_type": "stream",
          "name": "stdout",
          "text": [
            "\n",
            "Fold 2 Results:\n",
            "              precision    recall  f1-score   support\n",
            "\n",
            "          -1       0.18      0.48      0.27       152\n",
            "           0       0.65      0.36      0.46       583\n",
            "           1       0.42      0.45      0.44       289\n",
            "\n",
            "    accuracy                           0.40      1024\n",
            "   macro avg       0.42      0.43      0.39      1024\n",
            "weighted avg       0.52      0.40      0.42      1024\n",
            "\n"
          ]
        },
        {
          "output_type": "stream",
          "name": "stderr",
          "text": [
            "/usr/local/lib/python3.10/dist-packages/sklearn/base.py:474: FutureWarning: `BaseEstimator._validate_data` is deprecated in 1.6 and will be removed in 1.7. Use `sklearn.utils.validation.validate_data` instead. This function becomes public and is part of the scikit-learn developer API.\n",
            "  warnings.warn(\n",
            "/usr/local/lib/python3.10/dist-packages/sklearn/utils/_tags.py:354: FutureWarning: The SMOTE or classes from which it inherits use `_get_tags` and `_more_tags`. Please define the `__sklearn_tags__` method, or inherit from `sklearn.base.BaseEstimator` and/or other appropriate mixins such as `sklearn.base.TransformerMixin`, `sklearn.base.ClassifierMixin`, `sklearn.base.RegressorMixin`, and `sklearn.base.OutlierMixin`. From scikit-learn 1.7, not defining `__sklearn_tags__` will raise an error.\n",
            "  warnings.warn(\n",
            "/usr/local/lib/python3.10/dist-packages/keras/src/layers/core/embedding.py:90: UserWarning: Argument `input_length` is deprecated. Just remove it.\n",
            "  warnings.warn(\n"
          ]
        },
        {
          "output_type": "stream",
          "name": "stdout",
          "text": [
            "\n",
            "Fold 3 Results:\n",
            "              precision    recall  f1-score   support\n",
            "\n",
            "          -1       0.20      0.40      0.27       151\n",
            "           0       0.63      0.48      0.54       583\n",
            "           1       0.40      0.37      0.38       290\n",
            "\n",
            "    accuracy                           0.44      1024\n",
            "   macro avg       0.41      0.42      0.40      1024\n",
            "weighted avg       0.50      0.44      0.46      1024\n",
            "\n"
          ]
        },
        {
          "output_type": "stream",
          "name": "stderr",
          "text": [
            "/usr/local/lib/python3.10/dist-packages/sklearn/base.py:474: FutureWarning: `BaseEstimator._validate_data` is deprecated in 1.6 and will be removed in 1.7. Use `sklearn.utils.validation.validate_data` instead. This function becomes public and is part of the scikit-learn developer API.\n",
            "  warnings.warn(\n",
            "/usr/local/lib/python3.10/dist-packages/sklearn/utils/_tags.py:354: FutureWarning: The SMOTE or classes from which it inherits use `_get_tags` and `_more_tags`. Please define the `__sklearn_tags__` method, or inherit from `sklearn.base.BaseEstimator` and/or other appropriate mixins such as `sklearn.base.TransformerMixin`, `sklearn.base.ClassifierMixin`, `sklearn.base.RegressorMixin`, and `sklearn.base.OutlierMixin`. From scikit-learn 1.7, not defining `__sklearn_tags__` will raise an error.\n",
            "  warnings.warn(\n",
            "/usr/local/lib/python3.10/dist-packages/keras/src/layers/core/embedding.py:90: UserWarning: Argument `input_length` is deprecated. Just remove it.\n",
            "  warnings.warn(\n"
          ]
        },
        {
          "output_type": "stream",
          "name": "stdout",
          "text": [
            "\n",
            "Fold 4 Results:\n",
            "              precision    recall  f1-score   support\n",
            "\n",
            "          -1       0.22      0.45      0.29       152\n",
            "           0       0.66      0.35      0.46       582\n",
            "           1       0.40      0.56      0.47       290\n",
            "\n",
            "    accuracy                           0.42      1024\n",
            "   macro avg       0.43      0.45      0.41      1024\n",
            "weighted avg       0.52      0.42      0.44      1024\n",
            "\n"
          ]
        },
        {
          "output_type": "stream",
          "name": "stderr",
          "text": [
            "/usr/local/lib/python3.10/dist-packages/sklearn/base.py:474: FutureWarning: `BaseEstimator._validate_data` is deprecated in 1.6 and will be removed in 1.7. Use `sklearn.utils.validation.validate_data` instead. This function becomes public and is part of the scikit-learn developer API.\n",
            "  warnings.warn(\n",
            "/usr/local/lib/python3.10/dist-packages/sklearn/utils/_tags.py:354: FutureWarning: The SMOTE or classes from which it inherits use `_get_tags` and `_more_tags`. Please define the `__sklearn_tags__` method, or inherit from `sklearn.base.BaseEstimator` and/or other appropriate mixins such as `sklearn.base.TransformerMixin`, `sklearn.base.ClassifierMixin`, `sklearn.base.RegressorMixin`, and `sklearn.base.OutlierMixin`. From scikit-learn 1.7, not defining `__sklearn_tags__` will raise an error.\n",
            "  warnings.warn(\n",
            "/usr/local/lib/python3.10/dist-packages/keras/src/layers/core/embedding.py:90: UserWarning: Argument `input_length` is deprecated. Just remove it.\n",
            "  warnings.warn(\n"
          ]
        },
        {
          "output_type": "stream",
          "name": "stdout",
          "text": [
            "\n",
            "Fold 5 Results:\n",
            "              precision    recall  f1-score   support\n",
            "\n",
            "          -1       0.22      0.47      0.30       152\n",
            "           0       0.67      0.30      0.42       582\n",
            "           1       0.40      0.61      0.49       290\n",
            "\n",
            "    accuracy                           0.41      1024\n",
            "   macro avg       0.43      0.46      0.40      1024\n",
            "weighted avg       0.53      0.41      0.42      1024\n",
            "\n",
            "Mean Accuracy: 0.4150 (±0.0151)\n",
            "\n",
            "Analyzing aspect: ovr_sent\n",
            "\n",
            "Using oversample sampling:\n"
          ]
        },
        {
          "output_type": "stream",
          "name": "stderr",
          "text": [
            "/usr/local/lib/python3.10/dist-packages/sklearn/base.py:474: FutureWarning: `BaseEstimator._validate_data` is deprecated in 1.6 and will be removed in 1.7. Use `sklearn.utils.validation.validate_data` instead. This function becomes public and is part of the scikit-learn developer API.\n",
            "  warnings.warn(\n",
            "/usr/local/lib/python3.10/dist-packages/sklearn/utils/_tags.py:354: FutureWarning: The SMOTE or classes from which it inherits use `_get_tags` and `_more_tags`. Please define the `__sklearn_tags__` method, or inherit from `sklearn.base.BaseEstimator` and/or other appropriate mixins such as `sklearn.base.TransformerMixin`, `sklearn.base.ClassifierMixin`, `sklearn.base.RegressorMixin`, and `sklearn.base.OutlierMixin`. From scikit-learn 1.7, not defining `__sklearn_tags__` will raise an error.\n",
            "  warnings.warn(\n",
            "/usr/local/lib/python3.10/dist-packages/keras/src/layers/core/embedding.py:90: UserWarning: Argument `input_length` is deprecated. Just remove it.\n",
            "  warnings.warn(\n"
          ]
        },
        {
          "output_type": "stream",
          "name": "stdout",
          "text": [
            "\n",
            "Fold 1 Results:\n",
            "              precision    recall  f1-score   support\n",
            "\n",
            "          -1       0.48      0.32      0.38       344\n",
            "           0       0.21      0.58      0.31       152\n",
            "           1       0.64      0.47      0.54       529\n",
            "\n",
            "    accuracy                           0.43      1025\n",
            "   macro avg       0.44      0.45      0.41      1025\n",
            "weighted avg       0.52      0.43      0.45      1025\n",
            "\n"
          ]
        },
        {
          "output_type": "stream",
          "name": "stderr",
          "text": [
            "/usr/local/lib/python3.10/dist-packages/sklearn/base.py:474: FutureWarning: `BaseEstimator._validate_data` is deprecated in 1.6 and will be removed in 1.7. Use `sklearn.utils.validation.validate_data` instead. This function becomes public and is part of the scikit-learn developer API.\n",
            "  warnings.warn(\n",
            "/usr/local/lib/python3.10/dist-packages/sklearn/utils/_tags.py:354: FutureWarning: The SMOTE or classes from which it inherits use `_get_tags` and `_more_tags`. Please define the `__sklearn_tags__` method, or inherit from `sklearn.base.BaseEstimator` and/or other appropriate mixins such as `sklearn.base.TransformerMixin`, `sklearn.base.ClassifierMixin`, `sklearn.base.RegressorMixin`, and `sklearn.base.OutlierMixin`. From scikit-learn 1.7, not defining `__sklearn_tags__` will raise an error.\n",
            "  warnings.warn(\n",
            "/usr/local/lib/python3.10/dist-packages/keras/src/layers/core/embedding.py:90: UserWarning: Argument `input_length` is deprecated. Just remove it.\n",
            "  warnings.warn(\n"
          ]
        },
        {
          "output_type": "stream",
          "name": "stdout",
          "text": [
            "\n",
            "Fold 2 Results:\n",
            "              precision    recall  f1-score   support\n",
            "\n",
            "          -1       0.55      0.30      0.39       343\n",
            "           0       0.20      0.61      0.30       152\n",
            "           1       0.64      0.47      0.54       529\n",
            "\n",
            "    accuracy                           0.43      1024\n",
            "   macro avg       0.47      0.46      0.41      1024\n",
            "weighted avg       0.55      0.43      0.46      1024\n",
            "\n"
          ]
        },
        {
          "output_type": "stream",
          "name": "stderr",
          "text": [
            "/usr/local/lib/python3.10/dist-packages/sklearn/base.py:474: FutureWarning: `BaseEstimator._validate_data` is deprecated in 1.6 and will be removed in 1.7. Use `sklearn.utils.validation.validate_data` instead. This function becomes public and is part of the scikit-learn developer API.\n",
            "  warnings.warn(\n",
            "/usr/local/lib/python3.10/dist-packages/sklearn/utils/_tags.py:354: FutureWarning: The SMOTE or classes from which it inherits use `_get_tags` and `_more_tags`. Please define the `__sklearn_tags__` method, or inherit from `sklearn.base.BaseEstimator` and/or other appropriate mixins such as `sklearn.base.TransformerMixin`, `sklearn.base.ClassifierMixin`, `sklearn.base.RegressorMixin`, and `sklearn.base.OutlierMixin`. From scikit-learn 1.7, not defining `__sklearn_tags__` will raise an error.\n",
            "  warnings.warn(\n",
            "/usr/local/lib/python3.10/dist-packages/keras/src/layers/core/embedding.py:90: UserWarning: Argument `input_length` is deprecated. Just remove it.\n",
            "  warnings.warn(\n"
          ]
        },
        {
          "output_type": "stream",
          "name": "stdout",
          "text": [
            "\n",
            "Fold 3 Results:\n",
            "              precision    recall  f1-score   support\n",
            "\n",
            "          -1       0.48      0.48      0.48       343\n",
            "           0       0.26      0.49      0.34       153\n",
            "           1       0.69      0.52      0.59       528\n",
            "\n",
            "    accuracy                           0.50      1024\n",
            "   macro avg       0.48      0.50      0.47      1024\n",
            "weighted avg       0.56      0.50      0.52      1024\n",
            "\n"
          ]
        },
        {
          "output_type": "stream",
          "name": "stderr",
          "text": [
            "/usr/local/lib/python3.10/dist-packages/sklearn/base.py:474: FutureWarning: `BaseEstimator._validate_data` is deprecated in 1.6 and will be removed in 1.7. Use `sklearn.utils.validation.validate_data` instead. This function becomes public and is part of the scikit-learn developer API.\n",
            "  warnings.warn(\n",
            "/usr/local/lib/python3.10/dist-packages/sklearn/utils/_tags.py:354: FutureWarning: The SMOTE or classes from which it inherits use `_get_tags` and `_more_tags`. Please define the `__sklearn_tags__` method, or inherit from `sklearn.base.BaseEstimator` and/or other appropriate mixins such as `sklearn.base.TransformerMixin`, `sklearn.base.ClassifierMixin`, `sklearn.base.RegressorMixin`, and `sklearn.base.OutlierMixin`. From scikit-learn 1.7, not defining `__sklearn_tags__` will raise an error.\n",
            "  warnings.warn(\n",
            "/usr/local/lib/python3.10/dist-packages/keras/src/layers/core/embedding.py:90: UserWarning: Argument `input_length` is deprecated. Just remove it.\n",
            "  warnings.warn(\n"
          ]
        },
        {
          "output_type": "stream",
          "name": "stdout",
          "text": [
            "\n",
            "Fold 4 Results:\n",
            "              precision    recall  f1-score   support\n",
            "\n",
            "          -1       0.51      0.37      0.43       344\n",
            "           0       0.21      0.64      0.32       152\n",
            "           1       0.73      0.44      0.55       528\n",
            "\n",
            "    accuracy                           0.44      1024\n",
            "   macro avg       0.48      0.48      0.43      1024\n",
            "weighted avg       0.58      0.44      0.47      1024\n",
            "\n"
          ]
        },
        {
          "output_type": "stream",
          "name": "stderr",
          "text": [
            "/usr/local/lib/python3.10/dist-packages/sklearn/base.py:474: FutureWarning: `BaseEstimator._validate_data` is deprecated in 1.6 and will be removed in 1.7. Use `sklearn.utils.validation.validate_data` instead. This function becomes public and is part of the scikit-learn developer API.\n",
            "  warnings.warn(\n",
            "/usr/local/lib/python3.10/dist-packages/sklearn/utils/_tags.py:354: FutureWarning: The SMOTE or classes from which it inherits use `_get_tags` and `_more_tags`. Please define the `__sklearn_tags__` method, or inherit from `sklearn.base.BaseEstimator` and/or other appropriate mixins such as `sklearn.base.TransformerMixin`, `sklearn.base.ClassifierMixin`, `sklearn.base.RegressorMixin`, and `sklearn.base.OutlierMixin`. From scikit-learn 1.7, not defining `__sklearn_tags__` will raise an error.\n",
            "  warnings.warn(\n",
            "/usr/local/lib/python3.10/dist-packages/keras/src/layers/core/embedding.py:90: UserWarning: Argument `input_length` is deprecated. Just remove it.\n",
            "  warnings.warn(\n"
          ]
        }
      ]
    },
    {
      "cell_type": "markdown",
      "source": [
        "dravidian w2vec"
      ],
      "metadata": {
        "id": "pXcjK2WxQIVn"
      }
    },
    {
      "cell_type": "code",
      "source": [
        "aspects = ['Acting', 'direction', 'Music', 'Genre', 'excitement', 'ovr_sent']\n",
        "sampling_techniques_under = ['undersample']\n",
        "results = analyze_all_aspects_dl(df, aspects, sampling_techniques_under)"
      ],
      "metadata": {
        "colab": {
          "base_uri": "https://localhost:8080/"
        },
        "id": "PiHT0SkOQICn",
        "outputId": "52f771e2-8b05-41b3-8d80-e163ff7dbc2e",
        "collapsed": true
      },
      "execution_count": null,
      "outputs": [
        {
          "output_type": "stream",
          "name": "stdout",
          "text": [
            "\n",
            "Analyzing aspect: Acting\n",
            "\n",
            "Using undersample sampling:\n"
          ]
        },
        {
          "output_type": "stream",
          "name": "stderr",
          "text": [
            "/usr/local/lib/python3.10/dist-packages/sklearn/utils/deprecation.py:151: FutureWarning: 'force_all_finite' was renamed to 'ensure_all_finite' in 1.6 and will be removed in 1.8.\n",
            "  warnings.warn(\n",
            "/usr/local/lib/python3.10/dist-packages/sklearn/base.py:484: FutureWarning: `BaseEstimator._check_n_features` is deprecated in 1.6 and will be removed in 1.7. Use `sklearn.utils.validation._check_n_features` instead.\n",
            "  warnings.warn(\n",
            "/usr/local/lib/python3.10/dist-packages/sklearn/base.py:493: FutureWarning: `BaseEstimator._check_feature_names` is deprecated in 1.6 and will be removed in 1.7. Use `sklearn.utils.validation._check_feature_names` instead.\n",
            "  warnings.warn(\n",
            "/usr/local/lib/python3.10/dist-packages/keras/src/layers/core/embedding.py:90: UserWarning: Argument `input_length` is deprecated. Just remove it.\n",
            "  warnings.warn(\n"
          ]
        },
        {
          "output_type": "stream",
          "name": "stdout",
          "text": [
            "\n",
            "Fold 1 Results:\n",
            "              precision    recall  f1-score   support\n",
            "\n",
            "          -1       0.06      0.41      0.11        34\n",
            "           0       0.87      0.64      0.74       770\n",
            "           1       0.58      0.60      0.59       221\n",
            "\n",
            "    accuracy                           0.62      1025\n",
            "   macro avg       0.50      0.55      0.48      1025\n",
            "weighted avg       0.78      0.62      0.68      1025\n",
            "\n"
          ]
        },
        {
          "output_type": "stream",
          "name": "stderr",
          "text": [
            "/usr/local/lib/python3.10/dist-packages/sklearn/utils/deprecation.py:151: FutureWarning: 'force_all_finite' was renamed to 'ensure_all_finite' in 1.6 and will be removed in 1.8.\n",
            "  warnings.warn(\n",
            "/usr/local/lib/python3.10/dist-packages/sklearn/base.py:484: FutureWarning: `BaseEstimator._check_n_features` is deprecated in 1.6 and will be removed in 1.7. Use `sklearn.utils.validation._check_n_features` instead.\n",
            "  warnings.warn(\n",
            "/usr/local/lib/python3.10/dist-packages/sklearn/base.py:493: FutureWarning: `BaseEstimator._check_feature_names` is deprecated in 1.6 and will be removed in 1.7. Use `sklearn.utils.validation._check_feature_names` instead.\n",
            "  warnings.warn(\n",
            "/usr/local/lib/python3.10/dist-packages/keras/src/layers/core/embedding.py:90: UserWarning: Argument `input_length` is deprecated. Just remove it.\n",
            "  warnings.warn(\n"
          ]
        },
        {
          "output_type": "stream",
          "name": "stdout",
          "text": [
            "\n",
            "Fold 2 Results:\n",
            "              precision    recall  f1-score   support\n",
            "\n",
            "          -1       0.09      0.58      0.15        33\n",
            "           0       0.86      0.73      0.79       769\n",
            "           1       0.65      0.45      0.53       222\n",
            "\n",
            "    accuracy                           0.67      1024\n",
            "   macro avg       0.53      0.59      0.49      1024\n",
            "weighted avg       0.79      0.67      0.71      1024\n",
            "\n"
          ]
        },
        {
          "output_type": "stream",
          "name": "stderr",
          "text": [
            "/usr/local/lib/python3.10/dist-packages/sklearn/utils/deprecation.py:151: FutureWarning: 'force_all_finite' was renamed to 'ensure_all_finite' in 1.6 and will be removed in 1.8.\n",
            "  warnings.warn(\n",
            "/usr/local/lib/python3.10/dist-packages/sklearn/base.py:484: FutureWarning: `BaseEstimator._check_n_features` is deprecated in 1.6 and will be removed in 1.7. Use `sklearn.utils.validation._check_n_features` instead.\n",
            "  warnings.warn(\n",
            "/usr/local/lib/python3.10/dist-packages/sklearn/base.py:493: FutureWarning: `BaseEstimator._check_feature_names` is deprecated in 1.6 and will be removed in 1.7. Use `sklearn.utils.validation._check_feature_names` instead.\n",
            "  warnings.warn(\n",
            "/usr/local/lib/python3.10/dist-packages/keras/src/layers/core/embedding.py:90: UserWarning: Argument `input_length` is deprecated. Just remove it.\n",
            "  warnings.warn(\n"
          ]
        },
        {
          "output_type": "stream",
          "name": "stdout",
          "text": [
            "\n",
            "Fold 3 Results:\n",
            "              precision    recall  f1-score   support\n",
            "\n",
            "          -1       0.09      0.73      0.16        33\n",
            "           0       0.88      0.64      0.74       769\n",
            "           1       0.59      0.53      0.56       222\n",
            "\n",
            "    accuracy                           0.62      1024\n",
            "   macro avg       0.52      0.63      0.48      1024\n",
            "weighted avg       0.79      0.62      0.68      1024\n",
            "\n"
          ]
        },
        {
          "output_type": "stream",
          "name": "stderr",
          "text": [
            "/usr/local/lib/python3.10/dist-packages/sklearn/utils/deprecation.py:151: FutureWarning: 'force_all_finite' was renamed to 'ensure_all_finite' in 1.6 and will be removed in 1.8.\n",
            "  warnings.warn(\n",
            "/usr/local/lib/python3.10/dist-packages/sklearn/base.py:484: FutureWarning: `BaseEstimator._check_n_features` is deprecated in 1.6 and will be removed in 1.7. Use `sklearn.utils.validation._check_n_features` instead.\n",
            "  warnings.warn(\n",
            "/usr/local/lib/python3.10/dist-packages/sklearn/base.py:493: FutureWarning: `BaseEstimator._check_feature_names` is deprecated in 1.6 and will be removed in 1.7. Use `sklearn.utils.validation._check_feature_names` instead.\n",
            "  warnings.warn(\n",
            "/usr/local/lib/python3.10/dist-packages/keras/src/layers/core/embedding.py:90: UserWarning: Argument `input_length` is deprecated. Just remove it.\n",
            "  warnings.warn(\n"
          ]
        },
        {
          "output_type": "stream",
          "name": "stdout",
          "text": [
            "\n",
            "Fold 4 Results:\n",
            "              precision    recall  f1-score   support\n",
            "\n",
            "          -1       0.09      0.42      0.14        33\n",
            "           0       0.89      0.59      0.71       769\n",
            "           1       0.47      0.73      0.57       222\n",
            "\n",
            "    accuracy                           0.62      1024\n",
            "   macro avg       0.48      0.58      0.48      1024\n",
            "weighted avg       0.77      0.62      0.66      1024\n",
            "\n"
          ]
        },
        {
          "output_type": "stream",
          "name": "stderr",
          "text": [
            "/usr/local/lib/python3.10/dist-packages/sklearn/utils/deprecation.py:151: FutureWarning: 'force_all_finite' was renamed to 'ensure_all_finite' in 1.6 and will be removed in 1.8.\n",
            "  warnings.warn(\n",
            "/usr/local/lib/python3.10/dist-packages/sklearn/base.py:484: FutureWarning: `BaseEstimator._check_n_features` is deprecated in 1.6 and will be removed in 1.7. Use `sklearn.utils.validation._check_n_features` instead.\n",
            "  warnings.warn(\n",
            "/usr/local/lib/python3.10/dist-packages/sklearn/base.py:493: FutureWarning: `BaseEstimator._check_feature_names` is deprecated in 1.6 and will be removed in 1.7. Use `sklearn.utils.validation._check_feature_names` instead.\n",
            "  warnings.warn(\n",
            "/usr/local/lib/python3.10/dist-packages/keras/src/layers/core/embedding.py:90: UserWarning: Argument `input_length` is deprecated. Just remove it.\n",
            "  warnings.warn(\n"
          ]
        },
        {
          "output_type": "stream",
          "name": "stdout",
          "text": [
            "\n",
            "Fold 5 Results:\n",
            "              precision    recall  f1-score   support\n",
            "\n",
            "          -1       0.07      0.50      0.13        34\n",
            "           0       0.93      0.29      0.44       769\n",
            "           1       0.33      0.83      0.47       221\n",
            "\n",
            "    accuracy                           0.41      1024\n",
            "   macro avg       0.44      0.54      0.35      1024\n",
            "weighted avg       0.77      0.41      0.44      1024\n",
            "\n",
            "Mean Accuracy: 0.5872 (±0.0884)\n",
            "\n",
            "Analyzing aspect: direction\n",
            "\n",
            "Using undersample sampling:\n"
          ]
        },
        {
          "output_type": "stream",
          "name": "stderr",
          "text": [
            "/usr/local/lib/python3.10/dist-packages/sklearn/utils/deprecation.py:151: FutureWarning: 'force_all_finite' was renamed to 'ensure_all_finite' in 1.6 and will be removed in 1.8.\n",
            "  warnings.warn(\n",
            "/usr/local/lib/python3.10/dist-packages/sklearn/base.py:484: FutureWarning: `BaseEstimator._check_n_features` is deprecated in 1.6 and will be removed in 1.7. Use `sklearn.utils.validation._check_n_features` instead.\n",
            "  warnings.warn(\n",
            "/usr/local/lib/python3.10/dist-packages/sklearn/base.py:493: FutureWarning: `BaseEstimator._check_feature_names` is deprecated in 1.6 and will be removed in 1.7. Use `sklearn.utils.validation._check_feature_names` instead.\n",
            "  warnings.warn(\n",
            "/usr/local/lib/python3.10/dist-packages/keras/src/layers/core/embedding.py:90: UserWarning: Argument `input_length` is deprecated. Just remove it.\n",
            "  warnings.warn(\n"
          ]
        },
        {
          "output_type": "stream",
          "name": "stdout",
          "text": [
            "\n",
            "Fold 1 Results:\n",
            "              precision    recall  f1-score   support\n",
            "\n",
            "          -1       0.30      0.76      0.43       139\n",
            "           0       0.94      0.56      0.70       824\n",
            "           1       0.19      0.56      0.29        62\n",
            "\n",
            "    accuracy                           0.59      1025\n",
            "   macro avg       0.48      0.63      0.47      1025\n",
            "weighted avg       0.81      0.59      0.64      1025\n",
            "\n"
          ]
        },
        {
          "output_type": "stream",
          "name": "stderr",
          "text": [
            "/usr/local/lib/python3.10/dist-packages/sklearn/utils/deprecation.py:151: FutureWarning: 'force_all_finite' was renamed to 'ensure_all_finite' in 1.6 and will be removed in 1.8.\n",
            "  warnings.warn(\n",
            "/usr/local/lib/python3.10/dist-packages/sklearn/base.py:484: FutureWarning: `BaseEstimator._check_n_features` is deprecated in 1.6 and will be removed in 1.7. Use `sklearn.utils.validation._check_n_features` instead.\n",
            "  warnings.warn(\n",
            "/usr/local/lib/python3.10/dist-packages/sklearn/base.py:493: FutureWarning: `BaseEstimator._check_feature_names` is deprecated in 1.6 and will be removed in 1.7. Use `sklearn.utils.validation._check_feature_names` instead.\n",
            "  warnings.warn(\n",
            "/usr/local/lib/python3.10/dist-packages/keras/src/layers/core/embedding.py:90: UserWarning: Argument `input_length` is deprecated. Just remove it.\n",
            "  warnings.warn(\n"
          ]
        },
        {
          "output_type": "stream",
          "name": "stdout",
          "text": [
            "\n",
            "Fold 2 Results:\n",
            "              precision    recall  f1-score   support\n",
            "\n",
            "          -1       0.33      0.77      0.46       138\n",
            "           0       0.94      0.58      0.72       824\n",
            "           1       0.21      0.61      0.31        62\n",
            "\n",
            "    accuracy                           0.61      1024\n",
            "   macro avg       0.49      0.66      0.50      1024\n",
            "weighted avg       0.81      0.61      0.66      1024\n",
            "\n"
          ]
        },
        {
          "output_type": "stream",
          "name": "stderr",
          "text": [
            "/usr/local/lib/python3.10/dist-packages/sklearn/utils/deprecation.py:151: FutureWarning: 'force_all_finite' was renamed to 'ensure_all_finite' in 1.6 and will be removed in 1.8.\n",
            "  warnings.warn(\n",
            "/usr/local/lib/python3.10/dist-packages/sklearn/base.py:484: FutureWarning: `BaseEstimator._check_n_features` is deprecated in 1.6 and will be removed in 1.7. Use `sklearn.utils.validation._check_n_features` instead.\n",
            "  warnings.warn(\n",
            "/usr/local/lib/python3.10/dist-packages/sklearn/base.py:493: FutureWarning: `BaseEstimator._check_feature_names` is deprecated in 1.6 and will be removed in 1.7. Use `sklearn.utils.validation._check_feature_names` instead.\n",
            "  warnings.warn(\n",
            "/usr/local/lib/python3.10/dist-packages/keras/src/layers/core/embedding.py:90: UserWarning: Argument `input_length` is deprecated. Just remove it.\n",
            "  warnings.warn(\n"
          ]
        },
        {
          "output_type": "stream",
          "name": "stdout",
          "text": [
            "\n",
            "Fold 3 Results:\n",
            "              precision    recall  f1-score   support\n",
            "\n",
            "          -1       0.34      0.71      0.46       139\n",
            "           0       0.94      0.56      0.70       823\n",
            "           1       0.16      0.63      0.25        62\n",
            "\n",
            "    accuracy                           0.58      1024\n",
            "   macro avg       0.48      0.63      0.47      1024\n",
            "weighted avg       0.82      0.58      0.64      1024\n",
            "\n"
          ]
        },
        {
          "output_type": "stream",
          "name": "stderr",
          "text": [
            "/usr/local/lib/python3.10/dist-packages/sklearn/utils/deprecation.py:151: FutureWarning: 'force_all_finite' was renamed to 'ensure_all_finite' in 1.6 and will be removed in 1.8.\n",
            "  warnings.warn(\n",
            "/usr/local/lib/python3.10/dist-packages/sklearn/base.py:484: FutureWarning: `BaseEstimator._check_n_features` is deprecated in 1.6 and will be removed in 1.7. Use `sklearn.utils.validation._check_n_features` instead.\n",
            "  warnings.warn(\n",
            "/usr/local/lib/python3.10/dist-packages/sklearn/base.py:493: FutureWarning: `BaseEstimator._check_feature_names` is deprecated in 1.6 and will be removed in 1.7. Use `sklearn.utils.validation._check_feature_names` instead.\n",
            "  warnings.warn(\n",
            "/usr/local/lib/python3.10/dist-packages/keras/src/layers/core/embedding.py:90: UserWarning: Argument `input_length` is deprecated. Just remove it.\n",
            "  warnings.warn(\n"
          ]
        },
        {
          "output_type": "stream",
          "name": "stdout",
          "text": [
            "\n",
            "Fold 4 Results:\n",
            "              precision    recall  f1-score   support\n",
            "\n",
            "          -1       0.29      0.81      0.42       139\n",
            "           0       0.98      0.34      0.51       823\n",
            "           1       0.13      0.73      0.23        62\n",
            "\n",
            "    accuracy                           0.43      1024\n",
            "   macro avg       0.46      0.63      0.39      1024\n",
            "weighted avg       0.83      0.43      0.48      1024\n",
            "\n"
          ]
        },
        {
          "output_type": "stream",
          "name": "stderr",
          "text": [
            "/usr/local/lib/python3.10/dist-packages/sklearn/utils/deprecation.py:151: FutureWarning: 'force_all_finite' was renamed to 'ensure_all_finite' in 1.6 and will be removed in 1.8.\n",
            "  warnings.warn(\n",
            "/usr/local/lib/python3.10/dist-packages/sklearn/base.py:484: FutureWarning: `BaseEstimator._check_n_features` is deprecated in 1.6 and will be removed in 1.7. Use `sklearn.utils.validation._check_n_features` instead.\n",
            "  warnings.warn(\n",
            "/usr/local/lib/python3.10/dist-packages/sklearn/base.py:493: FutureWarning: `BaseEstimator._check_feature_names` is deprecated in 1.6 and will be removed in 1.7. Use `sklearn.utils.validation._check_feature_names` instead.\n",
            "  warnings.warn(\n",
            "/usr/local/lib/python3.10/dist-packages/keras/src/layers/core/embedding.py:90: UserWarning: Argument `input_length` is deprecated. Just remove it.\n",
            "  warnings.warn(\n"
          ]
        },
        {
          "output_type": "stream",
          "name": "stdout",
          "text": [
            "\n",
            "Fold 5 Results:\n",
            "              precision    recall  f1-score   support\n",
            "\n",
            "          -1       0.30      0.70      0.42       139\n",
            "           0       0.92      0.57      0.71       823\n",
            "           1       0.18      0.56      0.28        62\n",
            "\n",
            "    accuracy                           0.59      1024\n",
            "   macro avg       0.47      0.61      0.47      1024\n",
            "weighted avg       0.79      0.59      0.64      1024\n",
            "\n",
            "Mean Accuracy: 0.5606 (±0.0657)\n",
            "\n",
            "Analyzing aspect: Music\n",
            "\n",
            "Using undersample sampling:\n"
          ]
        },
        {
          "output_type": "stream",
          "name": "stderr",
          "text": [
            "/usr/local/lib/python3.10/dist-packages/sklearn/utils/deprecation.py:151: FutureWarning: 'force_all_finite' was renamed to 'ensure_all_finite' in 1.6 and will be removed in 1.8.\n",
            "  warnings.warn(\n",
            "/usr/local/lib/python3.10/dist-packages/sklearn/base.py:484: FutureWarning: `BaseEstimator._check_n_features` is deprecated in 1.6 and will be removed in 1.7. Use `sklearn.utils.validation._check_n_features` instead.\n",
            "  warnings.warn(\n",
            "/usr/local/lib/python3.10/dist-packages/sklearn/base.py:493: FutureWarning: `BaseEstimator._check_feature_names` is deprecated in 1.6 and will be removed in 1.7. Use `sklearn.utils.validation._check_feature_names` instead.\n",
            "  warnings.warn(\n",
            "/usr/local/lib/python3.10/dist-packages/keras/src/layers/core/embedding.py:90: UserWarning: Argument `input_length` is deprecated. Just remove it.\n",
            "  warnings.warn(\n"
          ]
        },
        {
          "output_type": "stream",
          "name": "stdout",
          "text": [
            "\n",
            "Fold 1 Results:\n",
            "              precision    recall  f1-score   support\n",
            "\n",
            "          -1       0.07      0.64      0.12        22\n",
            "           0       0.99      0.65      0.79       897\n",
            "           1       0.35      0.74      0.48       106\n",
            "\n",
            "    accuracy                           0.66      1025\n",
            "   macro avg       0.47      0.68      0.46      1025\n",
            "weighted avg       0.90      0.66      0.74      1025\n",
            "\n"
          ]
        },
        {
          "output_type": "stream",
          "name": "stderr",
          "text": [
            "/usr/local/lib/python3.10/dist-packages/sklearn/utils/deprecation.py:151: FutureWarning: 'force_all_finite' was renamed to 'ensure_all_finite' in 1.6 and will be removed in 1.8.\n",
            "  warnings.warn(\n",
            "/usr/local/lib/python3.10/dist-packages/sklearn/base.py:484: FutureWarning: `BaseEstimator._check_n_features` is deprecated in 1.6 and will be removed in 1.7. Use `sklearn.utils.validation._check_n_features` instead.\n",
            "  warnings.warn(\n",
            "/usr/local/lib/python3.10/dist-packages/sklearn/base.py:493: FutureWarning: `BaseEstimator._check_feature_names` is deprecated in 1.6 and will be removed in 1.7. Use `sklearn.utils.validation._check_feature_names` instead.\n",
            "  warnings.warn(\n",
            "/usr/local/lib/python3.10/dist-packages/keras/src/layers/core/embedding.py:90: UserWarning: Argument `input_length` is deprecated. Just remove it.\n",
            "  warnings.warn(\n"
          ]
        },
        {
          "output_type": "stream",
          "name": "stdout",
          "text": [
            "\n",
            "Fold 2 Results:\n",
            "              precision    recall  f1-score   support\n",
            "\n",
            "          -1       0.06      0.81      0.11        21\n",
            "           0       0.99      0.57      0.72       897\n",
            "           1       0.33      0.69      0.44       106\n",
            "\n",
            "    accuracy                           0.58      1024\n",
            "   macro avg       0.46      0.69      0.42      1024\n",
            "weighted avg       0.90      0.58      0.68      1024\n",
            "\n"
          ]
        },
        {
          "output_type": "stream",
          "name": "stderr",
          "text": [
            "/usr/local/lib/python3.10/dist-packages/sklearn/utils/deprecation.py:151: FutureWarning: 'force_all_finite' was renamed to 'ensure_all_finite' in 1.6 and will be removed in 1.8.\n",
            "  warnings.warn(\n",
            "/usr/local/lib/python3.10/dist-packages/sklearn/base.py:484: FutureWarning: `BaseEstimator._check_n_features` is deprecated in 1.6 and will be removed in 1.7. Use `sklearn.utils.validation._check_n_features` instead.\n",
            "  warnings.warn(\n",
            "/usr/local/lib/python3.10/dist-packages/sklearn/base.py:493: FutureWarning: `BaseEstimator._check_feature_names` is deprecated in 1.6 and will be removed in 1.7. Use `sklearn.utils.validation._check_feature_names` instead.\n",
            "  warnings.warn(\n",
            "/usr/local/lib/python3.10/dist-packages/keras/src/layers/core/embedding.py:90: UserWarning: Argument `input_length` is deprecated. Just remove it.\n",
            "  warnings.warn(\n"
          ]
        },
        {
          "output_type": "stream",
          "name": "stdout",
          "text": [
            "\n",
            "Fold 3 Results:\n",
            "              precision    recall  f1-score   support\n",
            "\n",
            "          -1       0.14      0.33      0.19        21\n",
            "           0       0.98      0.87      0.92       897\n",
            "           1       0.45      0.75      0.56       106\n",
            "\n",
            "    accuracy                           0.85      1024\n",
            "   macro avg       0.52      0.65      0.56      1024\n",
            "weighted avg       0.91      0.85      0.87      1024\n",
            "\n"
          ]
        },
        {
          "output_type": "stream",
          "name": "stderr",
          "text": [
            "/usr/local/lib/python3.10/dist-packages/sklearn/utils/deprecation.py:151: FutureWarning: 'force_all_finite' was renamed to 'ensure_all_finite' in 1.6 and will be removed in 1.8.\n",
            "  warnings.warn(\n",
            "/usr/local/lib/python3.10/dist-packages/sklearn/base.py:484: FutureWarning: `BaseEstimator._check_n_features` is deprecated in 1.6 and will be removed in 1.7. Use `sklearn.utils.validation._check_n_features` instead.\n",
            "  warnings.warn(\n",
            "/usr/local/lib/python3.10/dist-packages/sklearn/base.py:493: FutureWarning: `BaseEstimator._check_feature_names` is deprecated in 1.6 and will be removed in 1.7. Use `sklearn.utils.validation._check_feature_names` instead.\n",
            "  warnings.warn(\n",
            "/usr/local/lib/python3.10/dist-packages/keras/src/layers/core/embedding.py:90: UserWarning: Argument `input_length` is deprecated. Just remove it.\n",
            "  warnings.warn(\n"
          ]
        },
        {
          "output_type": "stream",
          "name": "stdout",
          "text": [
            "\n",
            "Fold 4 Results:\n",
            "              precision    recall  f1-score   support\n",
            "\n",
            "          -1       0.06      0.67      0.11        21\n",
            "           0       0.97      0.57      0.72       897\n",
            "           1       0.30      0.75      0.42       106\n",
            "\n",
            "    accuracy                           0.59      1024\n",
            "   macro avg       0.44      0.66      0.42      1024\n",
            "weighted avg       0.88      0.59      0.68      1024\n",
            "\n"
          ]
        },
        {
          "output_type": "stream",
          "name": "stderr",
          "text": [
            "/usr/local/lib/python3.10/dist-packages/sklearn/utils/deprecation.py:151: FutureWarning: 'force_all_finite' was renamed to 'ensure_all_finite' in 1.6 and will be removed in 1.8.\n",
            "  warnings.warn(\n",
            "/usr/local/lib/python3.10/dist-packages/sklearn/base.py:484: FutureWarning: `BaseEstimator._check_n_features` is deprecated in 1.6 and will be removed in 1.7. Use `sklearn.utils.validation._check_n_features` instead.\n",
            "  warnings.warn(\n",
            "/usr/local/lib/python3.10/dist-packages/sklearn/base.py:493: FutureWarning: `BaseEstimator._check_feature_names` is deprecated in 1.6 and will be removed in 1.7. Use `sklearn.utils.validation._check_feature_names` instead.\n",
            "  warnings.warn(\n",
            "/usr/local/lib/python3.10/dist-packages/keras/src/layers/core/embedding.py:90: UserWarning: Argument `input_length` is deprecated. Just remove it.\n",
            "  warnings.warn(\n"
          ]
        },
        {
          "output_type": "stream",
          "name": "stdout",
          "text": [
            "\n",
            "Fold 5 Results:\n",
            "              precision    recall  f1-score   support\n",
            "\n",
            "          -1       0.11      0.64      0.19        22\n",
            "           0       0.96      0.86      0.91       896\n",
            "           1       0.62      0.57      0.59       106\n",
            "\n",
            "    accuracy                           0.83      1024\n",
            "   macro avg       0.57      0.69      0.57      1024\n",
            "weighted avg       0.91      0.83      0.86      1024\n",
            "\n",
            "Mean Accuracy: 0.7020 (±0.1140)\n",
            "\n",
            "Analyzing aspect: Genre\n",
            "\n",
            "Using undersample sampling:\n"
          ]
        },
        {
          "output_type": "stream",
          "name": "stderr",
          "text": [
            "/usr/local/lib/python3.10/dist-packages/sklearn/utils/deprecation.py:151: FutureWarning: 'force_all_finite' was renamed to 'ensure_all_finite' in 1.6 and will be removed in 1.8.\n",
            "  warnings.warn(\n",
            "/usr/local/lib/python3.10/dist-packages/sklearn/base.py:484: FutureWarning: `BaseEstimator._check_n_features` is deprecated in 1.6 and will be removed in 1.7. Use `sklearn.utils.validation._check_n_features` instead.\n",
            "  warnings.warn(\n",
            "/usr/local/lib/python3.10/dist-packages/sklearn/base.py:493: FutureWarning: `BaseEstimator._check_feature_names` is deprecated in 1.6 and will be removed in 1.7. Use `sklearn.utils.validation._check_feature_names` instead.\n",
            "  warnings.warn(\n",
            "/usr/local/lib/python3.10/dist-packages/keras/src/layers/core/embedding.py:90: UserWarning: Argument `input_length` is deprecated. Just remove it.\n",
            "  warnings.warn(\n"
          ]
        },
        {
          "output_type": "stream",
          "name": "stdout",
          "text": [
            "\n",
            "Fold 1 Results:\n",
            "              precision    recall  f1-score   support\n",
            "\n",
            "          -1       0.00      0.00      0.00        10\n",
            "           0       0.95      0.98      0.97       975\n",
            "           1       0.14      0.05      0.07        40\n",
            "\n",
            "    accuracy                           0.94      1025\n",
            "   macro avg       0.37      0.34      0.35      1025\n",
            "weighted avg       0.91      0.94      0.92      1025\n",
            "\n"
          ]
        },
        {
          "output_type": "stream",
          "name": "stderr",
          "text": [
            "/usr/local/lib/python3.10/dist-packages/sklearn/utils/deprecation.py:151: FutureWarning: 'force_all_finite' was renamed to 'ensure_all_finite' in 1.6 and will be removed in 1.8.\n",
            "  warnings.warn(\n",
            "/usr/local/lib/python3.10/dist-packages/sklearn/base.py:484: FutureWarning: `BaseEstimator._check_n_features` is deprecated in 1.6 and will be removed in 1.7. Use `sklearn.utils.validation._check_n_features` instead.\n",
            "  warnings.warn(\n",
            "/usr/local/lib/python3.10/dist-packages/sklearn/base.py:493: FutureWarning: `BaseEstimator._check_feature_names` is deprecated in 1.6 and will be removed in 1.7. Use `sklearn.utils.validation._check_feature_names` instead.\n",
            "  warnings.warn(\n",
            "/usr/local/lib/python3.10/dist-packages/keras/src/layers/core/embedding.py:90: UserWarning: Argument `input_length` is deprecated. Just remove it.\n",
            "  warnings.warn(\n"
          ]
        },
        {
          "output_type": "stream",
          "name": "stdout",
          "text": [
            "\n",
            "Fold 2 Results:\n",
            "              precision    recall  f1-score   support\n",
            "\n",
            "          -1       0.04      0.73      0.07        11\n",
            "           0       0.99      0.29      0.45       974\n",
            "           1       0.05      0.67      0.09        39\n",
            "\n",
            "    accuracy                           0.31      1024\n",
            "   macro avg       0.36      0.56      0.20      1024\n",
            "weighted avg       0.94      0.31      0.43      1024\n",
            "\n"
          ]
        },
        {
          "output_type": "stream",
          "name": "stderr",
          "text": [
            "/usr/local/lib/python3.10/dist-packages/sklearn/utils/deprecation.py:151: FutureWarning: 'force_all_finite' was renamed to 'ensure_all_finite' in 1.6 and will be removed in 1.8.\n",
            "  warnings.warn(\n",
            "/usr/local/lib/python3.10/dist-packages/sklearn/base.py:484: FutureWarning: `BaseEstimator._check_n_features` is deprecated in 1.6 and will be removed in 1.7. Use `sklearn.utils.validation._check_n_features` instead.\n",
            "  warnings.warn(\n",
            "/usr/local/lib/python3.10/dist-packages/sklearn/base.py:493: FutureWarning: `BaseEstimator._check_feature_names` is deprecated in 1.6 and will be removed in 1.7. Use `sklearn.utils.validation._check_feature_names` instead.\n",
            "  warnings.warn(\n",
            "/usr/local/lib/python3.10/dist-packages/keras/src/layers/core/embedding.py:90: UserWarning: Argument `input_length` is deprecated. Just remove it.\n",
            "  warnings.warn(\n"
          ]
        },
        {
          "output_type": "stream",
          "name": "stdout",
          "text": [
            "\n",
            "Fold 3 Results:\n",
            "              precision    recall  f1-score   support\n",
            "\n",
            "          -1       0.02      0.18      0.04        11\n",
            "           0       0.98      0.55      0.71       974\n",
            "           1       0.06      0.62      0.11        39\n",
            "\n",
            "    accuracy                           0.55      1024\n",
            "   macro avg       0.36      0.45      0.29      1024\n",
            "weighted avg       0.93      0.55      0.68      1024\n",
            "\n"
          ]
        },
        {
          "output_type": "stream",
          "name": "stderr",
          "text": [
            "/usr/local/lib/python3.10/dist-packages/sklearn/utils/deprecation.py:151: FutureWarning: 'force_all_finite' was renamed to 'ensure_all_finite' in 1.6 and will be removed in 1.8.\n",
            "  warnings.warn(\n",
            "/usr/local/lib/python3.10/dist-packages/sklearn/base.py:484: FutureWarning: `BaseEstimator._check_n_features` is deprecated in 1.6 and will be removed in 1.7. Use `sklearn.utils.validation._check_n_features` instead.\n",
            "  warnings.warn(\n",
            "/usr/local/lib/python3.10/dist-packages/sklearn/base.py:493: FutureWarning: `BaseEstimator._check_feature_names` is deprecated in 1.6 and will be removed in 1.7. Use `sklearn.utils.validation._check_feature_names` instead.\n",
            "  warnings.warn(\n",
            "/usr/local/lib/python3.10/dist-packages/keras/src/layers/core/embedding.py:90: UserWarning: Argument `input_length` is deprecated. Just remove it.\n",
            "  warnings.warn(\n"
          ]
        },
        {
          "output_type": "stream",
          "name": "stdout",
          "text": [
            "\n",
            "Fold 4 Results:\n",
            "              precision    recall  f1-score   support\n",
            "\n",
            "          -1       0.03      0.36      0.06        11\n",
            "           0       0.98      0.43      0.60       974\n",
            "           1       0.05      0.62      0.09        39\n",
            "\n",
            "    accuracy                           0.44      1024\n",
            "   macro avg       0.35      0.47      0.25      1024\n",
            "weighted avg       0.93      0.44      0.57      1024\n",
            "\n"
          ]
        },
        {
          "output_type": "stream",
          "name": "stderr",
          "text": [
            "/usr/local/lib/python3.10/dist-packages/sklearn/utils/deprecation.py:151: FutureWarning: 'force_all_finite' was renamed to 'ensure_all_finite' in 1.6 and will be removed in 1.8.\n",
            "  warnings.warn(\n",
            "/usr/local/lib/python3.10/dist-packages/sklearn/base.py:484: FutureWarning: `BaseEstimator._check_n_features` is deprecated in 1.6 and will be removed in 1.7. Use `sklearn.utils.validation._check_n_features` instead.\n",
            "  warnings.warn(\n",
            "/usr/local/lib/python3.10/dist-packages/sklearn/base.py:493: FutureWarning: `BaseEstimator._check_feature_names` is deprecated in 1.6 and will be removed in 1.7. Use `sklearn.utils.validation._check_feature_names` instead.\n",
            "  warnings.warn(\n",
            "/usr/local/lib/python3.10/dist-packages/keras/src/layers/core/embedding.py:90: UserWarning: Argument `input_length` is deprecated. Just remove it.\n",
            "  warnings.warn(\n"
          ]
        },
        {
          "output_type": "stream",
          "name": "stdout",
          "text": [
            "\n",
            "Fold 5 Results:\n",
            "              precision    recall  f1-score   support\n",
            "\n",
            "          -1       0.06      0.50      0.11        10\n",
            "           0       0.99      0.17      0.30       974\n",
            "           1       0.05      0.90      0.09        40\n",
            "\n",
            "    accuracy                           0.21      1024\n",
            "   macro avg       0.36      0.52      0.16      1024\n",
            "weighted avg       0.94      0.21      0.29      1024\n",
            "\n",
            "Mean Accuracy: 0.4883 (±0.2523)\n",
            "\n",
            "Analyzing aspect: excitement\n",
            "\n",
            "Using undersample sampling:\n"
          ]
        },
        {
          "output_type": "stream",
          "name": "stderr",
          "text": [
            "/usr/local/lib/python3.10/dist-packages/sklearn/utils/deprecation.py:151: FutureWarning: 'force_all_finite' was renamed to 'ensure_all_finite' in 1.6 and will be removed in 1.8.\n",
            "  warnings.warn(\n",
            "/usr/local/lib/python3.10/dist-packages/sklearn/base.py:484: FutureWarning: `BaseEstimator._check_n_features` is deprecated in 1.6 and will be removed in 1.7. Use `sklearn.utils.validation._check_n_features` instead.\n",
            "  warnings.warn(\n",
            "/usr/local/lib/python3.10/dist-packages/sklearn/base.py:493: FutureWarning: `BaseEstimator._check_feature_names` is deprecated in 1.6 and will be removed in 1.7. Use `sklearn.utils.validation._check_feature_names` instead.\n",
            "  warnings.warn(\n",
            "/usr/local/lib/python3.10/dist-packages/keras/src/layers/core/embedding.py:90: UserWarning: Argument `input_length` is deprecated. Just remove it.\n",
            "  warnings.warn(\n"
          ]
        },
        {
          "output_type": "stream",
          "name": "stdout",
          "text": [
            "\n",
            "Fold 1 Results:\n",
            "              precision    recall  f1-score   support\n",
            "\n",
            "          -1       0.37      0.76      0.50       152\n",
            "           0       0.77      0.49      0.60       583\n",
            "           1       0.54      0.63      0.58       290\n",
            "\n",
            "    accuracy                           0.57      1025\n",
            "   macro avg       0.56      0.63      0.56      1025\n",
            "weighted avg       0.65      0.57      0.58      1025\n",
            "\n"
          ]
        },
        {
          "output_type": "stream",
          "name": "stderr",
          "text": [
            "/usr/local/lib/python3.10/dist-packages/sklearn/utils/deprecation.py:151: FutureWarning: 'force_all_finite' was renamed to 'ensure_all_finite' in 1.6 and will be removed in 1.8.\n",
            "  warnings.warn(\n",
            "/usr/local/lib/python3.10/dist-packages/sklearn/base.py:484: FutureWarning: `BaseEstimator._check_n_features` is deprecated in 1.6 and will be removed in 1.7. Use `sklearn.utils.validation._check_n_features` instead.\n",
            "  warnings.warn(\n",
            "/usr/local/lib/python3.10/dist-packages/sklearn/base.py:493: FutureWarning: `BaseEstimator._check_feature_names` is deprecated in 1.6 and will be removed in 1.7. Use `sklearn.utils.validation._check_feature_names` instead.\n",
            "  warnings.warn(\n",
            "/usr/local/lib/python3.10/dist-packages/keras/src/layers/core/embedding.py:90: UserWarning: Argument `input_length` is deprecated. Just remove it.\n",
            "  warnings.warn(\n"
          ]
        },
        {
          "output_type": "stream",
          "name": "stdout",
          "text": [
            "\n",
            "Fold 2 Results:\n",
            "              precision    recall  f1-score   support\n",
            "\n",
            "          -1       0.38      0.76      0.51       152\n",
            "           0       0.80      0.53      0.64       583\n",
            "           1       0.61      0.71      0.66       289\n",
            "\n",
            "    accuracy                           0.61      1024\n",
            "   macro avg       0.60      0.67      0.60      1024\n",
            "weighted avg       0.68      0.61      0.62      1024\n",
            "\n"
          ]
        },
        {
          "output_type": "stream",
          "name": "stderr",
          "text": [
            "/usr/local/lib/python3.10/dist-packages/sklearn/utils/deprecation.py:151: FutureWarning: 'force_all_finite' was renamed to 'ensure_all_finite' in 1.6 and will be removed in 1.8.\n",
            "  warnings.warn(\n",
            "/usr/local/lib/python3.10/dist-packages/sklearn/base.py:484: FutureWarning: `BaseEstimator._check_n_features` is deprecated in 1.6 and will be removed in 1.7. Use `sklearn.utils.validation._check_n_features` instead.\n",
            "  warnings.warn(\n",
            "/usr/local/lib/python3.10/dist-packages/sklearn/base.py:493: FutureWarning: `BaseEstimator._check_feature_names` is deprecated in 1.6 and will be removed in 1.7. Use `sklearn.utils.validation._check_feature_names` instead.\n",
            "  warnings.warn(\n",
            "/usr/local/lib/python3.10/dist-packages/keras/src/layers/core/embedding.py:90: UserWarning: Argument `input_length` is deprecated. Just remove it.\n",
            "  warnings.warn(\n"
          ]
        },
        {
          "output_type": "stream",
          "name": "stdout",
          "text": [
            "\n",
            "Fold 3 Results:\n",
            "              precision    recall  f1-score   support\n",
            "\n",
            "          -1       0.49      0.65      0.56       151\n",
            "           0       0.77      0.55      0.65       583\n",
            "           1       0.54      0.76      0.63       290\n",
            "\n",
            "    accuracy                           0.63      1024\n",
            "   macro avg       0.60      0.66      0.61      1024\n",
            "weighted avg       0.67      0.63      0.63      1024\n",
            "\n"
          ]
        },
        {
          "output_type": "stream",
          "name": "stderr",
          "text": [
            "/usr/local/lib/python3.10/dist-packages/sklearn/utils/deprecation.py:151: FutureWarning: 'force_all_finite' was renamed to 'ensure_all_finite' in 1.6 and will be removed in 1.8.\n",
            "  warnings.warn(\n",
            "/usr/local/lib/python3.10/dist-packages/sklearn/base.py:484: FutureWarning: `BaseEstimator._check_n_features` is deprecated in 1.6 and will be removed in 1.7. Use `sklearn.utils.validation._check_n_features` instead.\n",
            "  warnings.warn(\n",
            "/usr/local/lib/python3.10/dist-packages/sklearn/base.py:493: FutureWarning: `BaseEstimator._check_feature_names` is deprecated in 1.6 and will be removed in 1.7. Use `sklearn.utils.validation._check_feature_names` instead.\n",
            "  warnings.warn(\n",
            "/usr/local/lib/python3.10/dist-packages/keras/src/layers/core/embedding.py:90: UserWarning: Argument `input_length` is deprecated. Just remove it.\n",
            "  warnings.warn(\n"
          ]
        },
        {
          "output_type": "stream",
          "name": "stdout",
          "text": [
            "\n",
            "Fold 4 Results:\n",
            "              precision    recall  f1-score   support\n",
            "\n",
            "          -1       0.46      0.49      0.47       152\n",
            "           0       0.70      0.69      0.69       582\n",
            "           1       0.57      0.58      0.58       290\n",
            "\n",
            "    accuracy                           0.63      1024\n",
            "   macro avg       0.58      0.59      0.58      1024\n",
            "weighted avg       0.63      0.63      0.63      1024\n",
            "\n"
          ]
        },
        {
          "output_type": "stream",
          "name": "stderr",
          "text": [
            "/usr/local/lib/python3.10/dist-packages/sklearn/utils/deprecation.py:151: FutureWarning: 'force_all_finite' was renamed to 'ensure_all_finite' in 1.6 and will be removed in 1.8.\n",
            "  warnings.warn(\n",
            "/usr/local/lib/python3.10/dist-packages/sklearn/base.py:484: FutureWarning: `BaseEstimator._check_n_features` is deprecated in 1.6 and will be removed in 1.7. Use `sklearn.utils.validation._check_n_features` instead.\n",
            "  warnings.warn(\n",
            "/usr/local/lib/python3.10/dist-packages/sklearn/base.py:493: FutureWarning: `BaseEstimator._check_feature_names` is deprecated in 1.6 and will be removed in 1.7. Use `sklearn.utils.validation._check_feature_names` instead.\n",
            "  warnings.warn(\n",
            "/usr/local/lib/python3.10/dist-packages/keras/src/layers/core/embedding.py:90: UserWarning: Argument `input_length` is deprecated. Just remove it.\n",
            "  warnings.warn(\n"
          ]
        },
        {
          "output_type": "stream",
          "name": "stdout",
          "text": [
            "\n",
            "Fold 5 Results:\n",
            "              precision    recall  f1-score   support\n",
            "\n",
            "          -1       0.37      0.70      0.48       152\n",
            "           0       0.80      0.45      0.57       582\n",
            "           1       0.56      0.80      0.66       290\n",
            "\n",
            "    accuracy                           0.58      1024\n",
            "   macro avg       0.58      0.65      0.57      1024\n",
            "weighted avg       0.67      0.58      0.58      1024\n",
            "\n",
            "Mean Accuracy: 0.6048 (±0.0232)\n",
            "\n",
            "Analyzing aspect: ovr_sent\n",
            "\n",
            "Using undersample sampling:\n"
          ]
        },
        {
          "output_type": "stream",
          "name": "stderr",
          "text": [
            "/usr/local/lib/python3.10/dist-packages/sklearn/utils/deprecation.py:151: FutureWarning: 'force_all_finite' was renamed to 'ensure_all_finite' in 1.6 and will be removed in 1.8.\n",
            "  warnings.warn(\n",
            "/usr/local/lib/python3.10/dist-packages/sklearn/base.py:484: FutureWarning: `BaseEstimator._check_n_features` is deprecated in 1.6 and will be removed in 1.7. Use `sklearn.utils.validation._check_n_features` instead.\n",
            "  warnings.warn(\n",
            "/usr/local/lib/python3.10/dist-packages/sklearn/base.py:493: FutureWarning: `BaseEstimator._check_feature_names` is deprecated in 1.6 and will be removed in 1.7. Use `sklearn.utils.validation._check_feature_names` instead.\n",
            "  warnings.warn(\n",
            "/usr/local/lib/python3.10/dist-packages/keras/src/layers/core/embedding.py:90: UserWarning: Argument `input_length` is deprecated. Just remove it.\n",
            "  warnings.warn(\n"
          ]
        },
        {
          "output_type": "stream",
          "name": "stdout",
          "text": [
            "\n",
            "Fold 1 Results:\n",
            "              precision    recall  f1-score   support\n",
            "\n",
            "          -1       0.66      0.72      0.69       344\n",
            "           0       0.34      0.48      0.40       152\n",
            "           1       0.83      0.68      0.75       529\n",
            "\n",
            "    accuracy                           0.66      1025\n",
            "   macro avg       0.61      0.63      0.61      1025\n",
            "weighted avg       0.70      0.66      0.67      1025\n",
            "\n"
          ]
        },
        {
          "output_type": "stream",
          "name": "stderr",
          "text": [
            "/usr/local/lib/python3.10/dist-packages/sklearn/utils/deprecation.py:151: FutureWarning: 'force_all_finite' was renamed to 'ensure_all_finite' in 1.6 and will be removed in 1.8.\n",
            "  warnings.warn(\n",
            "/usr/local/lib/python3.10/dist-packages/sklearn/base.py:484: FutureWarning: `BaseEstimator._check_n_features` is deprecated in 1.6 and will be removed in 1.7. Use `sklearn.utils.validation._check_n_features` instead.\n",
            "  warnings.warn(\n",
            "/usr/local/lib/python3.10/dist-packages/sklearn/base.py:493: FutureWarning: `BaseEstimator._check_feature_names` is deprecated in 1.6 and will be removed in 1.7. Use `sklearn.utils.validation._check_feature_names` instead.\n",
            "  warnings.warn(\n",
            "/usr/local/lib/python3.10/dist-packages/keras/src/layers/core/embedding.py:90: UserWarning: Argument `input_length` is deprecated. Just remove it.\n",
            "  warnings.warn(\n"
          ]
        },
        {
          "output_type": "stream",
          "name": "stdout",
          "text": [
            "\n",
            "Fold 2 Results:\n",
            "              precision    recall  f1-score   support\n",
            "\n",
            "          -1       0.71      0.75      0.73       343\n",
            "           0       0.34      0.58      0.43       152\n",
            "           1       0.86      0.66      0.74       529\n",
            "\n",
            "    accuracy                           0.68      1024\n",
            "   macro avg       0.64      0.66      0.63      1024\n",
            "weighted avg       0.73      0.68      0.69      1024\n",
            "\n"
          ]
        },
        {
          "output_type": "stream",
          "name": "stderr",
          "text": [
            "/usr/local/lib/python3.10/dist-packages/sklearn/utils/deprecation.py:151: FutureWarning: 'force_all_finite' was renamed to 'ensure_all_finite' in 1.6 and will be removed in 1.8.\n",
            "  warnings.warn(\n",
            "/usr/local/lib/python3.10/dist-packages/sklearn/base.py:484: FutureWarning: `BaseEstimator._check_n_features` is deprecated in 1.6 and will be removed in 1.7. Use `sklearn.utils.validation._check_n_features` instead.\n",
            "  warnings.warn(\n",
            "/usr/local/lib/python3.10/dist-packages/sklearn/base.py:493: FutureWarning: `BaseEstimator._check_feature_names` is deprecated in 1.6 and will be removed in 1.7. Use `sklearn.utils.validation._check_feature_names` instead.\n",
            "  warnings.warn(\n",
            "/usr/local/lib/python3.10/dist-packages/keras/src/layers/core/embedding.py:90: UserWarning: Argument `input_length` is deprecated. Just remove it.\n",
            "  warnings.warn(\n"
          ]
        },
        {
          "output_type": "stream",
          "name": "stdout",
          "text": [
            "\n",
            "Fold 3 Results:\n",
            "              precision    recall  f1-score   support\n",
            "\n",
            "          -1       0.79      0.43      0.56       343\n",
            "           0       0.26      0.80      0.39       153\n",
            "           1       0.89      0.61      0.72       528\n",
            "\n",
            "    accuracy                           0.58      1024\n",
            "   macro avg       0.64      0.61      0.56      1024\n",
            "weighted avg       0.76      0.58      0.62      1024\n",
            "\n"
          ]
        },
        {
          "output_type": "stream",
          "name": "stderr",
          "text": [
            "/usr/local/lib/python3.10/dist-packages/sklearn/utils/deprecation.py:151: FutureWarning: 'force_all_finite' was renamed to 'ensure_all_finite' in 1.6 and will be removed in 1.8.\n",
            "  warnings.warn(\n",
            "/usr/local/lib/python3.10/dist-packages/sklearn/base.py:484: FutureWarning: `BaseEstimator._check_n_features` is deprecated in 1.6 and will be removed in 1.7. Use `sklearn.utils.validation._check_n_features` instead.\n",
            "  warnings.warn(\n",
            "/usr/local/lib/python3.10/dist-packages/sklearn/base.py:493: FutureWarning: `BaseEstimator._check_feature_names` is deprecated in 1.6 and will be removed in 1.7. Use `sklearn.utils.validation._check_feature_names` instead.\n",
            "  warnings.warn(\n",
            "/usr/local/lib/python3.10/dist-packages/keras/src/layers/core/embedding.py:90: UserWarning: Argument `input_length` is deprecated. Just remove it.\n",
            "  warnings.warn(\n"
          ]
        },
        {
          "output_type": "stream",
          "name": "stdout",
          "text": [
            "\n",
            "Fold 4 Results:\n",
            "              precision    recall  f1-score   support\n",
            "\n",
            "          -1       0.68      0.69      0.69       344\n",
            "           0       0.36      0.53      0.43       152\n",
            "           1       0.81      0.69      0.75       528\n",
            "\n",
            "    accuracy                           0.67      1024\n",
            "   macro avg       0.62      0.64      0.62      1024\n",
            "weighted avg       0.70      0.67      0.68      1024\n",
            "\n"
          ]
        },
        {
          "output_type": "stream",
          "name": "stderr",
          "text": [
            "/usr/local/lib/python3.10/dist-packages/sklearn/utils/deprecation.py:151: FutureWarning: 'force_all_finite' was renamed to 'ensure_all_finite' in 1.6 and will be removed in 1.8.\n",
            "  warnings.warn(\n",
            "/usr/local/lib/python3.10/dist-packages/sklearn/base.py:484: FutureWarning: `BaseEstimator._check_n_features` is deprecated in 1.6 and will be removed in 1.7. Use `sklearn.utils.validation._check_n_features` instead.\n",
            "  warnings.warn(\n",
            "/usr/local/lib/python3.10/dist-packages/sklearn/base.py:493: FutureWarning: `BaseEstimator._check_feature_names` is deprecated in 1.6 and will be removed in 1.7. Use `sklearn.utils.validation._check_feature_names` instead.\n",
            "  warnings.warn(\n",
            "/usr/local/lib/python3.10/dist-packages/keras/src/layers/core/embedding.py:90: UserWarning: Argument `input_length` is deprecated. Just remove it.\n",
            "  warnings.warn(\n"
          ]
        },
        {
          "output_type": "stream",
          "name": "stdout",
          "text": [
            "\n",
            "Fold 5 Results:\n",
            "              precision    recall  f1-score   support\n",
            "\n",
            "          -1       0.69      0.75      0.71       344\n",
            "           0       0.35      0.52      0.42       152\n",
            "           1       0.85      0.68      0.75       528\n",
            "\n",
            "    accuracy                           0.68      1024\n",
            "   macro avg       0.63      0.65      0.63      1024\n",
            "weighted avg       0.72      0.68      0.69      1024\n",
            "\n",
            "Mean Accuracy: 0.6522 (±0.0379)\n"
          ]
        }
      ]
    },
    {
      "cell_type": "code",
      "source": [
        "sampling_techniques_over = ['oversample']\n",
        "results = analyze_all_aspects_dl(df, aspects, sampling_techniques_over)"
      ],
      "metadata": {
        "id": "NRyYqLPiQMCX",
        "colab": {
          "base_uri": "https://localhost:8080/"
        },
        "outputId": "83881d45-d496-4f24-c3c9-22440f7a1d8c",
        "collapsed": true
      },
      "execution_count": null,
      "outputs": [
        {
          "metadata": {
            "tags": null
          },
          "name": "stdout",
          "output_type": "stream",
          "text": [
            "\n",
            "Analyzing aspect: Acting\n",
            "\n",
            "Using oversample sampling:\n"
          ]
        },
        {
          "metadata": {
            "tags": null
          },
          "name": "stderr",
          "output_type": "stream",
          "text": [
            "/usr/local/lib/python3.10/dist-packages/sklearn/base.py:474: FutureWarning: `BaseEstimator._validate_data` is deprecated in 1.6 and will be removed in 1.7. Use `sklearn.utils.validation.validate_data` instead. This function becomes public and is part of the scikit-learn developer API.\n",
            "  warnings.warn(\n",
            "/usr/local/lib/python3.10/dist-packages/sklearn/utils/_tags.py:354: FutureWarning: The SMOTE or classes from which it inherits use `_get_tags` and `_more_tags`. Please define the `__sklearn_tags__` method, or inherit from `sklearn.base.BaseEstimator` and/or other appropriate mixins such as `sklearn.base.TransformerMixin`, `sklearn.base.ClassifierMixin`, `sklearn.base.RegressorMixin`, and `sklearn.base.OutlierMixin`. From scikit-learn 1.7, not defining `__sklearn_tags__` will raise an error.\n",
            "  warnings.warn(\n",
            "/usr/local/lib/python3.10/dist-packages/keras/src/layers/core/embedding.py:90: UserWarning: Argument `input_length` is deprecated. Just remove it.\n",
            "  warnings.warn(\n"
          ]
        },
        {
          "metadata": {
            "tags": null
          },
          "name": "stdout",
          "output_type": "stream",
          "text": [
            "\n",
            "Fold 1 Results:\n",
            "              precision    recall  f1-score   support\n",
            "\n",
            "          -1       0.07      0.15      0.10        34\n",
            "           0       0.91      0.83      0.87       770\n",
            "           1       0.59      0.67      0.62       221\n",
            "\n",
            "    accuracy                           0.77      1025\n",
            "   macro avg       0.52      0.55      0.53      1025\n",
            "weighted avg       0.81      0.77      0.79      1025\n",
            "\n"
          ]
        },
        {
          "metadata": {
            "tags": null
          },
          "name": "stderr",
          "output_type": "stream",
          "text": [
            "/usr/local/lib/python3.10/dist-packages/sklearn/base.py:474: FutureWarning: `BaseEstimator._validate_data` is deprecated in 1.6 and will be removed in 1.7. Use `sklearn.utils.validation.validate_data` instead. This function becomes public and is part of the scikit-learn developer API.\n",
            "  warnings.warn(\n",
            "/usr/local/lib/python3.10/dist-packages/sklearn/utils/_tags.py:354: FutureWarning: The SMOTE or classes from which it inherits use `_get_tags` and `_more_tags`. Please define the `__sklearn_tags__` method, or inherit from `sklearn.base.BaseEstimator` and/or other appropriate mixins such as `sklearn.base.TransformerMixin`, `sklearn.base.ClassifierMixin`, `sklearn.base.RegressorMixin`, and `sklearn.base.OutlierMixin`. From scikit-learn 1.7, not defining `__sklearn_tags__` will raise an error.\n",
            "  warnings.warn(\n",
            "/usr/local/lib/python3.10/dist-packages/keras/src/layers/core/embedding.py:90: UserWarning: Argument `input_length` is deprecated. Just remove it.\n",
            "  warnings.warn(\n"
          ]
        },
        {
          "metadata": {
            "tags": null
          },
          "name": "stdout",
          "output_type": "stream",
          "text": [
            "\n",
            "Fold 2 Results:\n",
            "              precision    recall  f1-score   support\n",
            "\n",
            "          -1       0.10      0.30      0.15        33\n",
            "           0       0.88      0.77      0.82       769\n",
            "           1       0.57      0.64      0.60       222\n",
            "\n",
            "    accuracy                           0.73      1024\n",
            "   macro avg       0.52      0.57      0.52      1024\n",
            "weighted avg       0.79      0.73      0.75      1024\n",
            "\n"
          ]
        },
        {
          "metadata": {
            "tags": null
          },
          "name": "stderr",
          "output_type": "stream",
          "text": [
            "/usr/local/lib/python3.10/dist-packages/sklearn/base.py:474: FutureWarning: `BaseEstimator._validate_data` is deprecated in 1.6 and will be removed in 1.7. Use `sklearn.utils.validation.validate_data` instead. This function becomes public and is part of the scikit-learn developer API.\n",
            "  warnings.warn(\n",
            "/usr/local/lib/python3.10/dist-packages/sklearn/utils/_tags.py:354: FutureWarning: The SMOTE or classes from which it inherits use `_get_tags` and `_more_tags`. Please define the `__sklearn_tags__` method, or inherit from `sklearn.base.BaseEstimator` and/or other appropriate mixins such as `sklearn.base.TransformerMixin`, `sklearn.base.ClassifierMixin`, `sklearn.base.RegressorMixin`, and `sklearn.base.OutlierMixin`. From scikit-learn 1.7, not defining `__sklearn_tags__` will raise an error.\n",
            "  warnings.warn(\n",
            "/usr/local/lib/python3.10/dist-packages/keras/src/layers/core/embedding.py:90: UserWarning: Argument `input_length` is deprecated. Just remove it.\n",
            "  warnings.warn(\n"
          ]
        },
        {
          "metadata": {
            "tags": null
          },
          "name": "stdout",
          "output_type": "stream",
          "text": [
            "\n",
            "Fold 3 Results:\n",
            "              precision    recall  f1-score   support\n",
            "\n",
            "          -1       0.06      0.15      0.08        33\n",
            "           0       0.88      0.80      0.84       769\n",
            "           1       0.61      0.64      0.63       222\n",
            "\n",
            "    accuracy                           0.75      1024\n",
            "   macro avg       0.52      0.53      0.52      1024\n",
            "weighted avg       0.80      0.75      0.77      1024\n",
            "\n"
          ]
        },
        {
          "metadata": {
            "tags": null
          },
          "name": "stderr",
          "output_type": "stream",
          "text": [
            "/usr/local/lib/python3.10/dist-packages/sklearn/base.py:474: FutureWarning: `BaseEstimator._validate_data` is deprecated in 1.6 and will be removed in 1.7. Use `sklearn.utils.validation.validate_data` instead. This function becomes public and is part of the scikit-learn developer API.\n",
            "  warnings.warn(\n",
            "/usr/local/lib/python3.10/dist-packages/sklearn/utils/_tags.py:354: FutureWarning: The SMOTE or classes from which it inherits use `_get_tags` and `_more_tags`. Please define the `__sklearn_tags__` method, or inherit from `sklearn.base.BaseEstimator` and/or other appropriate mixins such as `sklearn.base.TransformerMixin`, `sklearn.base.ClassifierMixin`, `sklearn.base.RegressorMixin`, and `sklearn.base.OutlierMixin`. From scikit-learn 1.7, not defining `__sklearn_tags__` will raise an error.\n",
            "  warnings.warn(\n",
            "/usr/local/lib/python3.10/dist-packages/keras/src/layers/core/embedding.py:90: UserWarning: Argument `input_length` is deprecated. Just remove it.\n",
            "  warnings.warn(\n"
          ]
        },
        {
          "metadata": {
            "tags": null
          },
          "name": "stdout",
          "output_type": "stream",
          "text": [
            "\n",
            "Fold 4 Results:\n",
            "              precision    recall  f1-score   support\n",
            "\n",
            "          -1       0.06      0.09      0.07        33\n",
            "           0       0.88      0.84      0.86       769\n",
            "           1       0.61      0.64      0.63       222\n",
            "\n",
            "    accuracy                           0.77      1024\n",
            "   macro avg       0.51      0.53      0.52      1024\n",
            "weighted avg       0.79      0.77      0.78      1024\n",
            "\n"
          ]
        },
        {
          "metadata": {
            "tags": null
          },
          "name": "stderr",
          "output_type": "stream",
          "text": [
            "/usr/local/lib/python3.10/dist-packages/sklearn/base.py:474: FutureWarning: `BaseEstimator._validate_data` is deprecated in 1.6 and will be removed in 1.7. Use `sklearn.utils.validation.validate_data` instead. This function becomes public and is part of the scikit-learn developer API.\n",
            "  warnings.warn(\n",
            "/usr/local/lib/python3.10/dist-packages/sklearn/utils/_tags.py:354: FutureWarning: The SMOTE or classes from which it inherits use `_get_tags` and `_more_tags`. Please define the `__sklearn_tags__` method, or inherit from `sklearn.base.BaseEstimator` and/or other appropriate mixins such as `sklearn.base.TransformerMixin`, `sklearn.base.ClassifierMixin`, `sklearn.base.RegressorMixin`, and `sklearn.base.OutlierMixin`. From scikit-learn 1.7, not defining `__sklearn_tags__` will raise an error.\n",
            "  warnings.warn(\n",
            "/usr/local/lib/python3.10/dist-packages/keras/src/layers/core/embedding.py:90: UserWarning: Argument `input_length` is deprecated. Just remove it.\n",
            "  warnings.warn(\n"
          ]
        },
        {
          "metadata": {
            "tags": null
          },
          "name": "stdout",
          "output_type": "stream",
          "text": [
            "\n",
            "Fold 5 Results:\n",
            "              precision    recall  f1-score   support\n",
            "\n",
            "          -1       0.10      0.06      0.07        34\n",
            "           0       0.88      0.85      0.87       769\n",
            "           1       0.58      0.69      0.63       221\n",
            "\n",
            "    accuracy                           0.79      1024\n",
            "   macro avg       0.52      0.53      0.52      1024\n",
            "weighted avg       0.79      0.79      0.79      1024\n",
            "\n",
            "Mean Accuracy: 0.7622 (±0.0217)\n",
            "\n",
            "Analyzing aspect: direction\n",
            "\n",
            "Using oversample sampling:\n"
          ]
        },
        {
          "metadata": {
            "tags": null
          },
          "name": "stderr",
          "output_type": "stream",
          "text": [
            "/usr/local/lib/python3.10/dist-packages/sklearn/base.py:474: FutureWarning: `BaseEstimator._validate_data` is deprecated in 1.6 and will be removed in 1.7. Use `sklearn.utils.validation.validate_data` instead. This function becomes public and is part of the scikit-learn developer API.\n",
            "  warnings.warn(\n",
            "/usr/local/lib/python3.10/dist-packages/sklearn/utils/_tags.py:354: FutureWarning: The SMOTE or classes from which it inherits use `_get_tags` and `_more_tags`. Please define the `__sklearn_tags__` method, or inherit from `sklearn.base.BaseEstimator` and/or other appropriate mixins such as `sklearn.base.TransformerMixin`, `sklearn.base.ClassifierMixin`, `sklearn.base.RegressorMixin`, and `sklearn.base.OutlierMixin`. From scikit-learn 1.7, not defining `__sklearn_tags__` will raise an error.\n",
            "  warnings.warn(\n",
            "/usr/local/lib/python3.10/dist-packages/keras/src/layers/core/embedding.py:90: UserWarning: Argument `input_length` is deprecated. Just remove it.\n",
            "  warnings.warn(\n"
          ]
        },
        {
          "metadata": {
            "tags": null
          },
          "name": "stdout",
          "output_type": "stream",
          "text": [
            "\n",
            "Fold 1 Results:\n",
            "              precision    recall  f1-score   support\n",
            "\n",
            "          -1       0.35      0.40      0.37       139\n",
            "           0       0.89      0.82      0.85       824\n",
            "           1       0.23      0.39      0.29        62\n",
            "\n",
            "    accuracy                           0.73      1025\n",
            "   macro avg       0.49      0.54      0.50      1025\n",
            "weighted avg       0.77      0.73      0.75      1025\n",
            "\n"
          ]
        },
        {
          "metadata": {
            "tags": null
          },
          "name": "stderr",
          "output_type": "stream",
          "text": [
            "/usr/local/lib/python3.10/dist-packages/sklearn/base.py:474: FutureWarning: `BaseEstimator._validate_data` is deprecated in 1.6 and will be removed in 1.7. Use `sklearn.utils.validation.validate_data` instead. This function becomes public and is part of the scikit-learn developer API.\n",
            "  warnings.warn(\n",
            "/usr/local/lib/python3.10/dist-packages/sklearn/utils/_tags.py:354: FutureWarning: The SMOTE or classes from which it inherits use `_get_tags` and `_more_tags`. Please define the `__sklearn_tags__` method, or inherit from `sklearn.base.BaseEstimator` and/or other appropriate mixins such as `sklearn.base.TransformerMixin`, `sklearn.base.ClassifierMixin`, `sklearn.base.RegressorMixin`, and `sklearn.base.OutlierMixin`. From scikit-learn 1.7, not defining `__sklearn_tags__` will raise an error.\n",
            "  warnings.warn(\n",
            "/usr/local/lib/python3.10/dist-packages/keras/src/layers/core/embedding.py:90: UserWarning: Argument `input_length` is deprecated. Just remove it.\n",
            "  warnings.warn(\n"
          ]
        },
        {
          "metadata": {
            "tags": null
          },
          "name": "stdout",
          "output_type": "stream",
          "text": [
            "\n",
            "Fold 2 Results:\n",
            "              precision    recall  f1-score   support\n",
            "\n",
            "          -1       0.43      0.30      0.35       138\n",
            "           0       0.86      0.88      0.87       824\n",
            "           1       0.28      0.42      0.34        62\n",
            "\n",
            "    accuracy                           0.77      1024\n",
            "   macro avg       0.52      0.53      0.52      1024\n",
            "weighted avg       0.77      0.77      0.77      1024\n",
            "\n"
          ]
        },
        {
          "metadata": {
            "tags": null
          },
          "name": "stderr",
          "output_type": "stream",
          "text": [
            "/usr/local/lib/python3.10/dist-packages/sklearn/base.py:474: FutureWarning: `BaseEstimator._validate_data` is deprecated in 1.6 and will be removed in 1.7. Use `sklearn.utils.validation.validate_data` instead. This function becomes public and is part of the scikit-learn developer API.\n",
            "  warnings.warn(\n",
            "/usr/local/lib/python3.10/dist-packages/sklearn/utils/_tags.py:354: FutureWarning: The SMOTE or classes from which it inherits use `_get_tags` and `_more_tags`. Please define the `__sklearn_tags__` method, or inherit from `sklearn.base.BaseEstimator` and/or other appropriate mixins such as `sklearn.base.TransformerMixin`, `sklearn.base.ClassifierMixin`, `sklearn.base.RegressorMixin`, and `sklearn.base.OutlierMixin`. From scikit-learn 1.7, not defining `__sklearn_tags__` will raise an error.\n",
            "  warnings.warn(\n",
            "/usr/local/lib/python3.10/dist-packages/keras/src/layers/core/embedding.py:90: UserWarning: Argument `input_length` is deprecated. Just remove it.\n",
            "  warnings.warn(\n"
          ]
        },
        {
          "metadata": {
            "tags": null
          },
          "name": "stdout",
          "output_type": "stream",
          "text": [
            "\n",
            "Fold 3 Results:\n",
            "              precision    recall  f1-score   support\n",
            "\n",
            "          -1       0.37      0.44      0.40       139\n",
            "           0       0.87      0.82      0.85       823\n",
            "           1       0.25      0.34      0.29        62\n",
            "\n",
            "    accuracy                           0.74      1024\n",
            "   macro avg       0.50      0.53      0.51      1024\n",
            "weighted avg       0.77      0.74      0.75      1024\n",
            "\n"
          ]
        },
        {
          "metadata": {
            "tags": null
          },
          "name": "stderr",
          "output_type": "stream",
          "text": [
            "/usr/local/lib/python3.10/dist-packages/sklearn/base.py:474: FutureWarning: `BaseEstimator._validate_data` is deprecated in 1.6 and will be removed in 1.7. Use `sklearn.utils.validation.validate_data` instead. This function becomes public and is part of the scikit-learn developer API.\n",
            "  warnings.warn(\n",
            "/usr/local/lib/python3.10/dist-packages/sklearn/utils/_tags.py:354: FutureWarning: The SMOTE or classes from which it inherits use `_get_tags` and `_more_tags`. Please define the `__sklearn_tags__` method, or inherit from `sklearn.base.BaseEstimator` and/or other appropriate mixins such as `sklearn.base.TransformerMixin`, `sklearn.base.ClassifierMixin`, `sklearn.base.RegressorMixin`, and `sklearn.base.OutlierMixin`. From scikit-learn 1.7, not defining `__sklearn_tags__` will raise an error.\n",
            "  warnings.warn(\n",
            "/usr/local/lib/python3.10/dist-packages/keras/src/layers/core/embedding.py:90: UserWarning: Argument `input_length` is deprecated. Just remove it.\n",
            "  warnings.warn(\n"
          ]
        },
        {
          "metadata": {
            "tags": null
          },
          "name": "stdout",
          "output_type": "stream",
          "text": [
            "\n",
            "Fold 4 Results:\n",
            "              precision    recall  f1-score   support\n",
            "\n",
            "          -1       0.38      0.28      0.32       139\n",
            "           0       0.87      0.90      0.88       823\n",
            "           1       0.31      0.32      0.31        62\n",
            "\n",
            "    accuracy                           0.78      1024\n",
            "   macro avg       0.52      0.50      0.51      1024\n",
            "weighted avg       0.77      0.78      0.77      1024\n",
            "\n"
          ]
        },
        {
          "metadata": {
            "tags": null
          },
          "name": "stderr",
          "output_type": "stream",
          "text": [
            "/usr/local/lib/python3.10/dist-packages/sklearn/base.py:474: FutureWarning: `BaseEstimator._validate_data` is deprecated in 1.6 and will be removed in 1.7. Use `sklearn.utils.validation.validate_data` instead. This function becomes public and is part of the scikit-learn developer API.\n",
            "  warnings.warn(\n",
            "/usr/local/lib/python3.10/dist-packages/sklearn/utils/_tags.py:354: FutureWarning: The SMOTE or classes from which it inherits use `_get_tags` and `_more_tags`. Please define the `__sklearn_tags__` method, or inherit from `sklearn.base.BaseEstimator` and/or other appropriate mixins such as `sklearn.base.TransformerMixin`, `sklearn.base.ClassifierMixin`, `sklearn.base.RegressorMixin`, and `sklearn.base.OutlierMixin`. From scikit-learn 1.7, not defining `__sklearn_tags__` will raise an error.\n",
            "  warnings.warn(\n",
            "/usr/local/lib/python3.10/dist-packages/keras/src/layers/core/embedding.py:90: UserWarning: Argument `input_length` is deprecated. Just remove it.\n",
            "  warnings.warn(\n"
          ]
        },
        {
          "metadata": {
            "tags": null
          },
          "name": "stdout",
          "output_type": "stream",
          "text": [
            "\n",
            "Fold 5 Results:\n",
            "              precision    recall  f1-score   support\n",
            "\n",
            "          -1       0.30      0.28      0.29       139\n",
            "           0       0.86      0.87      0.86       823\n",
            "           1       0.29      0.27      0.28        62\n",
            "\n",
            "    accuracy                           0.75      1024\n",
            "   macro avg       0.48      0.47      0.48      1024\n",
            "weighted avg       0.75      0.75      0.75      1024\n",
            "\n",
            "Mean Accuracy: 0.7557 (±0.0181)\n",
            "\n",
            "Analyzing aspect: Music\n",
            "\n",
            "Using oversample sampling:\n"
          ]
        },
        {
          "metadata": {
            "tags": null
          },
          "name": "stderr",
          "output_type": "stream",
          "text": [
            "/usr/local/lib/python3.10/dist-packages/sklearn/base.py:474: FutureWarning: `BaseEstimator._validate_data` is deprecated in 1.6 and will be removed in 1.7. Use `sklearn.utils.validation.validate_data` instead. This function becomes public and is part of the scikit-learn developer API.\n",
            "  warnings.warn(\n",
            "/usr/local/lib/python3.10/dist-packages/sklearn/utils/_tags.py:354: FutureWarning: The SMOTE or classes from which it inherits use `_get_tags` and `_more_tags`. Please define the `__sklearn_tags__` method, or inherit from `sklearn.base.BaseEstimator` and/or other appropriate mixins such as `sklearn.base.TransformerMixin`, `sklearn.base.ClassifierMixin`, `sklearn.base.RegressorMixin`, and `sklearn.base.OutlierMixin`. From scikit-learn 1.7, not defining `__sklearn_tags__` will raise an error.\n",
            "  warnings.warn(\n",
            "/usr/local/lib/python3.10/dist-packages/keras/src/layers/core/embedding.py:90: UserWarning: Argument `input_length` is deprecated. Just remove it.\n",
            "  warnings.warn(\n"
          ]
        },
        {
          "metadata": {
            "tags": null
          },
          "name": "stdout",
          "output_type": "stream",
          "text": [
            "\n",
            "Fold 1 Results:\n",
            "              precision    recall  f1-score   support\n",
            "\n",
            "          -1       0.06      0.14      0.08        22\n",
            "           0       0.98      0.89      0.93       897\n",
            "           1       0.48      0.72      0.58       106\n",
            "\n",
            "    accuracy                           0.85      1025\n",
            "   macro avg       0.51      0.58      0.53      1025\n",
            "weighted avg       0.91      0.85      0.88      1025\n",
            "\n"
          ]
        },
        {
          "metadata": {
            "tags": null
          },
          "name": "stderr",
          "output_type": "stream",
          "text": [
            "/usr/local/lib/python3.10/dist-packages/sklearn/base.py:474: FutureWarning: `BaseEstimator._validate_data` is deprecated in 1.6 and will be removed in 1.7. Use `sklearn.utils.validation.validate_data` instead. This function becomes public and is part of the scikit-learn developer API.\n",
            "  warnings.warn(\n",
            "/usr/local/lib/python3.10/dist-packages/sklearn/utils/_tags.py:354: FutureWarning: The SMOTE or classes from which it inherits use `_get_tags` and `_more_tags`. Please define the `__sklearn_tags__` method, or inherit from `sklearn.base.BaseEstimator` and/or other appropriate mixins such as `sklearn.base.TransformerMixin`, `sklearn.base.ClassifierMixin`, `sklearn.base.RegressorMixin`, and `sklearn.base.OutlierMixin`. From scikit-learn 1.7, not defining `__sklearn_tags__` will raise an error.\n",
            "  warnings.warn(\n",
            "/usr/local/lib/python3.10/dist-packages/keras/src/layers/core/embedding.py:90: UserWarning: Argument `input_length` is deprecated. Just remove it.\n",
            "  warnings.warn(\n"
          ]
        },
        {
          "metadata": {
            "tags": null
          },
          "name": "stdout",
          "output_type": "stream",
          "text": [
            "\n",
            "Fold 2 Results:\n",
            "              precision    recall  f1-score   support\n",
            "\n",
            "          -1       0.12      0.29      0.17        21\n",
            "           0       0.98      0.91      0.94       897\n",
            "           1       0.56      0.72      0.63       106\n",
            "\n",
            "    accuracy                           0.88      1024\n",
            "   macro avg       0.55      0.64      0.58      1024\n",
            "weighted avg       0.91      0.88      0.90      1024\n",
            "\n"
          ]
        },
        {
          "metadata": {
            "tags": null
          },
          "name": "stderr",
          "output_type": "stream",
          "text": [
            "/usr/local/lib/python3.10/dist-packages/sklearn/base.py:474: FutureWarning: `BaseEstimator._validate_data` is deprecated in 1.6 and will be removed in 1.7. Use `sklearn.utils.validation.validate_data` instead. This function becomes public and is part of the scikit-learn developer API.\n",
            "  warnings.warn(\n",
            "/usr/local/lib/python3.10/dist-packages/sklearn/utils/_tags.py:354: FutureWarning: The SMOTE or classes from which it inherits use `_get_tags` and `_more_tags`. Please define the `__sklearn_tags__` method, or inherit from `sklearn.base.BaseEstimator` and/or other appropriate mixins such as `sklearn.base.TransformerMixin`, `sklearn.base.ClassifierMixin`, `sklearn.base.RegressorMixin`, and `sklearn.base.OutlierMixin`. From scikit-learn 1.7, not defining `__sklearn_tags__` will raise an error.\n",
            "  warnings.warn(\n",
            "/usr/local/lib/python3.10/dist-packages/keras/src/layers/core/embedding.py:90: UserWarning: Argument `input_length` is deprecated. Just remove it.\n",
            "  warnings.warn(\n"
          ]
        },
        {
          "metadata": {
            "tags": null
          },
          "name": "stdout",
          "output_type": "stream",
          "text": [
            "\n",
            "Fold 3 Results:\n",
            "              precision    recall  f1-score   support\n",
            "\n",
            "          -1       0.21      0.43      0.29        21\n",
            "           0       0.97      0.95      0.96       897\n",
            "           1       0.62      0.58      0.60       106\n",
            "\n",
            "    accuracy                           0.90      1024\n",
            "   macro avg       0.60      0.66      0.62      1024\n",
            "weighted avg       0.92      0.90      0.91      1024\n",
            "\n"
          ]
        },
        {
          "metadata": {
            "tags": null
          },
          "name": "stderr",
          "output_type": "stream",
          "text": [
            "/usr/local/lib/python3.10/dist-packages/sklearn/base.py:474: FutureWarning: `BaseEstimator._validate_data` is deprecated in 1.6 and will be removed in 1.7. Use `sklearn.utils.validation.validate_data` instead. This function becomes public and is part of the scikit-learn developer API.\n",
            "  warnings.warn(\n",
            "/usr/local/lib/python3.10/dist-packages/sklearn/utils/_tags.py:354: FutureWarning: The SMOTE or classes from which it inherits use `_get_tags` and `_more_tags`. Please define the `__sklearn_tags__` method, or inherit from `sklearn.base.BaseEstimator` and/or other appropriate mixins such as `sklearn.base.TransformerMixin`, `sklearn.base.ClassifierMixin`, `sklearn.base.RegressorMixin`, and `sklearn.base.OutlierMixin`. From scikit-learn 1.7, not defining `__sklearn_tags__` will raise an error.\n",
            "  warnings.warn(\n",
            "/usr/local/lib/python3.10/dist-packages/keras/src/layers/core/embedding.py:90: UserWarning: Argument `input_length` is deprecated. Just remove it.\n",
            "  warnings.warn(\n"
          ]
        },
        {
          "metadata": {
            "tags": null
          },
          "name": "stdout",
          "output_type": "stream",
          "text": [
            "\n",
            "Fold 4 Results:\n",
            "              precision    recall  f1-score   support\n",
            "\n",
            "          -1       0.11      0.38      0.17        21\n",
            "           0       0.97      0.91      0.94       897\n",
            "           1       0.60      0.61      0.61       106\n",
            "\n",
            "    accuracy                           0.87      1024\n",
            "   macro avg       0.56      0.63      0.57      1024\n",
            "weighted avg       0.91      0.87      0.89      1024\n",
            "\n"
          ]
        },
        {
          "metadata": {
            "tags": null
          },
          "name": "stderr",
          "output_type": "stream",
          "text": [
            "/usr/local/lib/python3.10/dist-packages/sklearn/base.py:474: FutureWarning: `BaseEstimator._validate_data` is deprecated in 1.6 and will be removed in 1.7. Use `sklearn.utils.validation.validate_data` instead. This function becomes public and is part of the scikit-learn developer API.\n",
            "  warnings.warn(\n",
            "/usr/local/lib/python3.10/dist-packages/sklearn/utils/_tags.py:354: FutureWarning: The SMOTE or classes from which it inherits use `_get_tags` and `_more_tags`. Please define the `__sklearn_tags__` method, or inherit from `sklearn.base.BaseEstimator` and/or other appropriate mixins such as `sklearn.base.TransformerMixin`, `sklearn.base.ClassifierMixin`, `sklearn.base.RegressorMixin`, and `sklearn.base.OutlierMixin`. From scikit-learn 1.7, not defining `__sklearn_tags__` will raise an error.\n",
            "  warnings.warn(\n",
            "/usr/local/lib/python3.10/dist-packages/keras/src/layers/core/embedding.py:90: UserWarning: Argument `input_length` is deprecated. Just remove it.\n",
            "  warnings.warn(\n"
          ]
        },
        {
          "output_type": "stream",
          "name": "stdout",
          "text": [
            "\n",
            "Fold 5 Results:\n",
            "              precision    recall  f1-score   support\n",
            "\n",
            "          -1       0.10      0.18      0.13        22\n",
            "           0       0.97      0.90      0.93       896\n",
            "           1       0.51      0.72      0.60       106\n",
            "\n",
            "    accuracy                           0.87      1024\n",
            "   macro avg       0.53      0.60      0.55      1024\n",
            "weighted avg       0.90      0.87      0.88      1024\n",
            "\n",
            "Mean Accuracy: 0.8742 (±0.0167)\n",
            "\n",
            "Analyzing aspect: Genre\n",
            "\n",
            "Using oversample sampling:\n"
          ]
        },
        {
          "output_type": "stream",
          "name": "stderr",
          "text": [
            "/usr/local/lib/python3.10/dist-packages/sklearn/base.py:474: FutureWarning: `BaseEstimator._validate_data` is deprecated in 1.6 and will be removed in 1.7. Use `sklearn.utils.validation.validate_data` instead. This function becomes public and is part of the scikit-learn developer API.\n",
            "  warnings.warn(\n",
            "/usr/local/lib/python3.10/dist-packages/sklearn/utils/_tags.py:354: FutureWarning: The SMOTE or classes from which it inherits use `_get_tags` and `_more_tags`. Please define the `__sklearn_tags__` method, or inherit from `sklearn.base.BaseEstimator` and/or other appropriate mixins such as `sklearn.base.TransformerMixin`, `sklearn.base.ClassifierMixin`, `sklearn.base.RegressorMixin`, and `sklearn.base.OutlierMixin`. From scikit-learn 1.7, not defining `__sklearn_tags__` will raise an error.\n",
            "  warnings.warn(\n",
            "/usr/local/lib/python3.10/dist-packages/keras/src/layers/core/embedding.py:90: UserWarning: Argument `input_length` is deprecated. Just remove it.\n",
            "  warnings.warn(\n"
          ]
        },
        {
          "output_type": "stream",
          "name": "stdout",
          "text": [
            "\n",
            "Fold 1 Results:\n",
            "              precision    recall  f1-score   support\n",
            "\n",
            "          -1       0.02      0.10      0.03        10\n",
            "           0       0.96      0.87      0.92       975\n",
            "           1       0.13      0.28      0.18        40\n",
            "\n",
            "    accuracy                           0.84      1025\n",
            "   macro avg       0.37      0.42      0.37      1025\n",
            "weighted avg       0.92      0.84      0.88      1025\n",
            "\n"
          ]
        },
        {
          "output_type": "stream",
          "name": "stderr",
          "text": [
            "/usr/local/lib/python3.10/dist-packages/sklearn/base.py:474: FutureWarning: `BaseEstimator._validate_data` is deprecated in 1.6 and will be removed in 1.7. Use `sklearn.utils.validation.validate_data` instead. This function becomes public and is part of the scikit-learn developer API.\n",
            "  warnings.warn(\n",
            "/usr/local/lib/python3.10/dist-packages/sklearn/utils/_tags.py:354: FutureWarning: The SMOTE or classes from which it inherits use `_get_tags` and `_more_tags`. Please define the `__sklearn_tags__` method, or inherit from `sklearn.base.BaseEstimator` and/or other appropriate mixins such as `sklearn.base.TransformerMixin`, `sklearn.base.ClassifierMixin`, `sklearn.base.RegressorMixin`, and `sklearn.base.OutlierMixin`. From scikit-learn 1.7, not defining `__sklearn_tags__` will raise an error.\n",
            "  warnings.warn(\n",
            "/usr/local/lib/python3.10/dist-packages/keras/src/layers/core/embedding.py:90: UserWarning: Argument `input_length` is deprecated. Just remove it.\n",
            "  warnings.warn(\n"
          ]
        },
        {
          "output_type": "stream",
          "name": "stdout",
          "text": [
            "\n",
            "Fold 2 Results:\n",
            "              precision    recall  f1-score   support\n",
            "\n",
            "          -1       0.00      0.00      0.00        11\n",
            "           0       0.96      0.93      0.94       974\n",
            "           1       0.05      0.05      0.05        39\n",
            "\n",
            "    accuracy                           0.89      1024\n",
            "   macro avg       0.34      0.33      0.33      1024\n",
            "weighted avg       0.91      0.89      0.90      1024\n",
            "\n"
          ]
        },
        {
          "output_type": "stream",
          "name": "stderr",
          "text": [
            "/usr/local/lib/python3.10/dist-packages/sklearn/base.py:474: FutureWarning: `BaseEstimator._validate_data` is deprecated in 1.6 and will be removed in 1.7. Use `sklearn.utils.validation.validate_data` instead. This function becomes public and is part of the scikit-learn developer API.\n",
            "  warnings.warn(\n",
            "/usr/local/lib/python3.10/dist-packages/sklearn/utils/_tags.py:354: FutureWarning: The SMOTE or classes from which it inherits use `_get_tags` and `_more_tags`. Please define the `__sklearn_tags__` method, or inherit from `sklearn.base.BaseEstimator` and/or other appropriate mixins such as `sklearn.base.TransformerMixin`, `sklearn.base.ClassifierMixin`, `sklearn.base.RegressorMixin`, and `sklearn.base.OutlierMixin`. From scikit-learn 1.7, not defining `__sklearn_tags__` will raise an error.\n",
            "  warnings.warn(\n",
            "/usr/local/lib/python3.10/dist-packages/keras/src/layers/core/embedding.py:90: UserWarning: Argument `input_length` is deprecated. Just remove it.\n",
            "  warnings.warn(\n"
          ]
        },
        {
          "output_type": "stream",
          "name": "stdout",
          "text": [
            "\n",
            "Fold 3 Results:\n",
            "              precision    recall  f1-score   support\n",
            "\n",
            "          -1       0.00      0.00      0.00        11\n",
            "           0       0.96      0.94      0.95       974\n",
            "           1       0.16      0.21      0.18        39\n",
            "\n",
            "    accuracy                           0.90      1024\n",
            "   macro avg       0.37      0.38      0.38      1024\n",
            "weighted avg       0.92      0.90      0.91      1024\n",
            "\n"
          ]
        },
        {
          "output_type": "stream",
          "name": "stderr",
          "text": [
            "/usr/local/lib/python3.10/dist-packages/sklearn/base.py:474: FutureWarning: `BaseEstimator._validate_data` is deprecated in 1.6 and will be removed in 1.7. Use `sklearn.utils.validation.validate_data` instead. This function becomes public and is part of the scikit-learn developer API.\n",
            "  warnings.warn(\n",
            "/usr/local/lib/python3.10/dist-packages/sklearn/utils/_tags.py:354: FutureWarning: The SMOTE or classes from which it inherits use `_get_tags` and `_more_tags`. Please define the `__sklearn_tags__` method, or inherit from `sklearn.base.BaseEstimator` and/or other appropriate mixins such as `sklearn.base.TransformerMixin`, `sklearn.base.ClassifierMixin`, `sklearn.base.RegressorMixin`, and `sklearn.base.OutlierMixin`. From scikit-learn 1.7, not defining `__sklearn_tags__` will raise an error.\n",
            "  warnings.warn(\n",
            "/usr/local/lib/python3.10/dist-packages/keras/src/layers/core/embedding.py:90: UserWarning: Argument `input_length` is deprecated. Just remove it.\n",
            "  warnings.warn(\n"
          ]
        },
        {
          "output_type": "stream",
          "name": "stdout",
          "text": [
            "\n",
            "Fold 4 Results:\n",
            "              precision    recall  f1-score   support\n",
            "\n",
            "          -1       0.00      0.00      0.00        11\n",
            "           0       0.96      0.91      0.93       974\n",
            "           1       0.13      0.26      0.17        39\n",
            "\n",
            "    accuracy                           0.88      1024\n",
            "   macro avg       0.36      0.39      0.37      1024\n",
            "weighted avg       0.92      0.88      0.90      1024\n",
            "\n"
          ]
        },
        {
          "output_type": "stream",
          "name": "stderr",
          "text": [
            "/usr/local/lib/python3.10/dist-packages/sklearn/base.py:474: FutureWarning: `BaseEstimator._validate_data` is deprecated in 1.6 and will be removed in 1.7. Use `sklearn.utils.validation.validate_data` instead. This function becomes public and is part of the scikit-learn developer API.\n",
            "  warnings.warn(\n",
            "/usr/local/lib/python3.10/dist-packages/sklearn/utils/_tags.py:354: FutureWarning: The SMOTE or classes from which it inherits use `_get_tags` and `_more_tags`. Please define the `__sklearn_tags__` method, or inherit from `sklearn.base.BaseEstimator` and/or other appropriate mixins such as `sklearn.base.TransformerMixin`, `sklearn.base.ClassifierMixin`, `sklearn.base.RegressorMixin`, and `sklearn.base.OutlierMixin`. From scikit-learn 1.7, not defining `__sklearn_tags__` will raise an error.\n",
            "  warnings.warn(\n",
            "/usr/local/lib/python3.10/dist-packages/keras/src/layers/core/embedding.py:90: UserWarning: Argument `input_length` is deprecated. Just remove it.\n",
            "  warnings.warn(\n"
          ]
        },
        {
          "output_type": "stream",
          "name": "stdout",
          "text": [
            "\n",
            "Fold 5 Results:\n",
            "              precision    recall  f1-score   support\n",
            "\n",
            "          -1       0.02      0.10      0.03        10\n",
            "           0       0.96      0.91      0.93       974\n",
            "           1       0.18      0.23      0.20        40\n",
            "\n",
            "    accuracy                           0.87      1024\n",
            "   macro avg       0.39      0.41      0.39      1024\n",
            "weighted avg       0.92      0.87      0.90      1024\n",
            "\n",
            "Mean Accuracy: 0.8750 (±0.0192)\n",
            "\n",
            "Analyzing aspect: excitement\n",
            "\n",
            "Using oversample sampling:\n"
          ]
        },
        {
          "output_type": "stream",
          "name": "stderr",
          "text": [
            "/usr/local/lib/python3.10/dist-packages/sklearn/base.py:474: FutureWarning: `BaseEstimator._validate_data` is deprecated in 1.6 and will be removed in 1.7. Use `sklearn.utils.validation.validate_data` instead. This function becomes public and is part of the scikit-learn developer API.\n",
            "  warnings.warn(\n",
            "/usr/local/lib/python3.10/dist-packages/sklearn/utils/_tags.py:354: FutureWarning: The SMOTE or classes from which it inherits use `_get_tags` and `_more_tags`. Please define the `__sklearn_tags__` method, or inherit from `sklearn.base.BaseEstimator` and/or other appropriate mixins such as `sklearn.base.TransformerMixin`, `sklearn.base.ClassifierMixin`, `sklearn.base.RegressorMixin`, and `sklearn.base.OutlierMixin`. From scikit-learn 1.7, not defining `__sklearn_tags__` will raise an error.\n",
            "  warnings.warn(\n",
            "/usr/local/lib/python3.10/dist-packages/keras/src/layers/core/embedding.py:90: UserWarning: Argument `input_length` is deprecated. Just remove it.\n",
            "  warnings.warn(\n"
          ]
        },
        {
          "output_type": "stream",
          "name": "stdout",
          "text": [
            "\n",
            "Fold 1 Results:\n",
            "              precision    recall  f1-score   support\n",
            "\n",
            "          -1       0.36      0.47      0.41       152\n",
            "           0       0.72      0.64      0.68       583\n",
            "           1       0.56      0.60      0.58       290\n",
            "\n",
            "    accuracy                           0.60      1025\n",
            "   macro avg       0.55      0.57      0.55      1025\n",
            "weighted avg       0.62      0.60      0.61      1025\n",
            "\n"
          ]
        },
        {
          "output_type": "stream",
          "name": "stderr",
          "text": [
            "/usr/local/lib/python3.10/dist-packages/sklearn/base.py:474: FutureWarning: `BaseEstimator._validate_data` is deprecated in 1.6 and will be removed in 1.7. Use `sklearn.utils.validation.validate_data` instead. This function becomes public and is part of the scikit-learn developer API.\n",
            "  warnings.warn(\n",
            "/usr/local/lib/python3.10/dist-packages/sklearn/utils/_tags.py:354: FutureWarning: The SMOTE or classes from which it inherits use `_get_tags` and `_more_tags`. Please define the `__sklearn_tags__` method, or inherit from `sklearn.base.BaseEstimator` and/or other appropriate mixins such as `sklearn.base.TransformerMixin`, `sklearn.base.ClassifierMixin`, `sklearn.base.RegressorMixin`, and `sklearn.base.OutlierMixin`. From scikit-learn 1.7, not defining `__sklearn_tags__` will raise an error.\n",
            "  warnings.warn(\n",
            "/usr/local/lib/python3.10/dist-packages/keras/src/layers/core/embedding.py:90: UserWarning: Argument `input_length` is deprecated. Just remove it.\n",
            "  warnings.warn(\n"
          ]
        },
        {
          "output_type": "stream",
          "name": "stdout",
          "text": [
            "\n",
            "Fold 2 Results:\n",
            "              precision    recall  f1-score   support\n",
            "\n",
            "          -1       0.37      0.51      0.43       152\n",
            "           0       0.71      0.68      0.70       583\n",
            "           1       0.61      0.54      0.57       289\n",
            "\n",
            "    accuracy                           0.62      1024\n",
            "   macro avg       0.56      0.58      0.57      1024\n",
            "weighted avg       0.63      0.62      0.62      1024\n",
            "\n"
          ]
        },
        {
          "output_type": "stream",
          "name": "stderr",
          "text": [
            "/usr/local/lib/python3.10/dist-packages/sklearn/base.py:474: FutureWarning: `BaseEstimator._validate_data` is deprecated in 1.6 and will be removed in 1.7. Use `sklearn.utils.validation.validate_data` instead. This function becomes public and is part of the scikit-learn developer API.\n",
            "  warnings.warn(\n",
            "/usr/local/lib/python3.10/dist-packages/sklearn/utils/_tags.py:354: FutureWarning: The SMOTE or classes from which it inherits use `_get_tags` and `_more_tags`. Please define the `__sklearn_tags__` method, or inherit from `sklearn.base.BaseEstimator` and/or other appropriate mixins such as `sklearn.base.TransformerMixin`, `sklearn.base.ClassifierMixin`, `sklearn.base.RegressorMixin`, and `sklearn.base.OutlierMixin`. From scikit-learn 1.7, not defining `__sklearn_tags__` will raise an error.\n",
            "  warnings.warn(\n",
            "/usr/local/lib/python3.10/dist-packages/keras/src/layers/core/embedding.py:90: UserWarning: Argument `input_length` is deprecated. Just remove it.\n",
            "  warnings.warn(\n"
          ]
        },
        {
          "output_type": "stream",
          "name": "stdout",
          "text": [
            "\n",
            "Fold 3 Results:\n",
            "              precision    recall  f1-score   support\n",
            "\n",
            "          -1       0.38      0.56      0.45       151\n",
            "           0       0.71      0.59      0.64       583\n",
            "           1       0.56      0.61      0.59       290\n",
            "\n",
            "    accuracy                           0.59      1024\n",
            "   macro avg       0.55      0.59      0.56      1024\n",
            "weighted avg       0.62      0.59      0.60      1024\n",
            "\n"
          ]
        },
        {
          "output_type": "stream",
          "name": "stderr",
          "text": [
            "/usr/local/lib/python3.10/dist-packages/sklearn/base.py:474: FutureWarning: `BaseEstimator._validate_data` is deprecated in 1.6 and will be removed in 1.7. Use `sklearn.utils.validation.validate_data` instead. This function becomes public and is part of the scikit-learn developer API.\n",
            "  warnings.warn(\n",
            "/usr/local/lib/python3.10/dist-packages/sklearn/utils/_tags.py:354: FutureWarning: The SMOTE or classes from which it inherits use `_get_tags` and `_more_tags`. Please define the `__sklearn_tags__` method, or inherit from `sklearn.base.BaseEstimator` and/or other appropriate mixins such as `sklearn.base.TransformerMixin`, `sklearn.base.ClassifierMixin`, `sklearn.base.RegressorMixin`, and `sklearn.base.OutlierMixin`. From scikit-learn 1.7, not defining `__sklearn_tags__` will raise an error.\n",
            "  warnings.warn(\n",
            "/usr/local/lib/python3.10/dist-packages/keras/src/layers/core/embedding.py:90: UserWarning: Argument `input_length` is deprecated. Just remove it.\n",
            "  warnings.warn(\n"
          ]
        },
        {
          "output_type": "stream",
          "name": "stdout",
          "text": [
            "\n",
            "Fold 4 Results:\n",
            "              precision    recall  f1-score   support\n",
            "\n",
            "          -1       0.40      0.38      0.39       152\n",
            "           0       0.70      0.74      0.72       582\n",
            "           1       0.62      0.56      0.59       290\n",
            "\n",
            "    accuracy                           0.64      1024\n",
            "   macro avg       0.57      0.56      0.57      1024\n",
            "weighted avg       0.63      0.64      0.63      1024\n",
            "\n"
          ]
        },
        {
          "output_type": "stream",
          "name": "stderr",
          "text": [
            "/usr/local/lib/python3.10/dist-packages/sklearn/base.py:474: FutureWarning: `BaseEstimator._validate_data` is deprecated in 1.6 and will be removed in 1.7. Use `sklearn.utils.validation.validate_data` instead. This function becomes public and is part of the scikit-learn developer API.\n",
            "  warnings.warn(\n",
            "/usr/local/lib/python3.10/dist-packages/sklearn/utils/_tags.py:354: FutureWarning: The SMOTE or classes from which it inherits use `_get_tags` and `_more_tags`. Please define the `__sklearn_tags__` method, or inherit from `sklearn.base.BaseEstimator` and/or other appropriate mixins such as `sklearn.base.TransformerMixin`, `sklearn.base.ClassifierMixin`, `sklearn.base.RegressorMixin`, and `sklearn.base.OutlierMixin`. From scikit-learn 1.7, not defining `__sklearn_tags__` will raise an error.\n",
            "  warnings.warn(\n",
            "/usr/local/lib/python3.10/dist-packages/keras/src/layers/core/embedding.py:90: UserWarning: Argument `input_length` is deprecated. Just remove it.\n",
            "  warnings.warn(\n"
          ]
        },
        {
          "output_type": "stream",
          "name": "stdout",
          "text": [
            "\n",
            "Fold 5 Results:\n",
            "              precision    recall  f1-score   support\n",
            "\n",
            "          -1       0.41      0.28      0.33       152\n",
            "           0       0.69      0.77      0.73       582\n",
            "           1       0.61      0.58      0.60       290\n",
            "\n",
            "    accuracy                           0.64      1024\n",
            "   macro avg       0.57      0.54      0.55      1024\n",
            "weighted avg       0.63      0.64      0.63      1024\n",
            "\n",
            "Mean Accuracy: 0.6182 (±0.0193)\n",
            "\n",
            "Analyzing aspect: ovr_sent\n",
            "\n",
            "Using oversample sampling:\n"
          ]
        },
        {
          "output_type": "stream",
          "name": "stderr",
          "text": [
            "/usr/local/lib/python3.10/dist-packages/sklearn/base.py:474: FutureWarning: `BaseEstimator._validate_data` is deprecated in 1.6 and will be removed in 1.7. Use `sklearn.utils.validation.validate_data` instead. This function becomes public and is part of the scikit-learn developer API.\n",
            "  warnings.warn(\n",
            "/usr/local/lib/python3.10/dist-packages/sklearn/utils/_tags.py:354: FutureWarning: The SMOTE or classes from which it inherits use `_get_tags` and `_more_tags`. Please define the `__sklearn_tags__` method, or inherit from `sklearn.base.BaseEstimator` and/or other appropriate mixins such as `sklearn.base.TransformerMixin`, `sklearn.base.ClassifierMixin`, `sklearn.base.RegressorMixin`, and `sklearn.base.OutlierMixin`. From scikit-learn 1.7, not defining `__sklearn_tags__` will raise an error.\n",
            "  warnings.warn(\n",
            "/usr/local/lib/python3.10/dist-packages/keras/src/layers/core/embedding.py:90: UserWarning: Argument `input_length` is deprecated. Just remove it.\n",
            "  warnings.warn(\n"
          ]
        },
        {
          "output_type": "stream",
          "name": "stdout",
          "text": [
            "\n",
            "Fold 1 Results:\n",
            "              precision    recall  f1-score   support\n",
            "\n",
            "          -1       0.65      0.64      0.65       344\n",
            "           0       0.33      0.45      0.38       152\n",
            "           1       0.81      0.74      0.77       529\n",
            "\n",
            "    accuracy                           0.66      1025\n",
            "   macro avg       0.60      0.61      0.60      1025\n",
            "weighted avg       0.69      0.66      0.67      1025\n",
            "\n"
          ]
        },
        {
          "output_type": "stream",
          "name": "stderr",
          "text": [
            "/usr/local/lib/python3.10/dist-packages/sklearn/base.py:474: FutureWarning: `BaseEstimator._validate_data` is deprecated in 1.6 and will be removed in 1.7. Use `sklearn.utils.validation.validate_data` instead. This function becomes public and is part of the scikit-learn developer API.\n",
            "  warnings.warn(\n",
            "/usr/local/lib/python3.10/dist-packages/sklearn/utils/_tags.py:354: FutureWarning: The SMOTE or classes from which it inherits use `_get_tags` and `_more_tags`. Please define the `__sklearn_tags__` method, or inherit from `sklearn.base.BaseEstimator` and/or other appropriate mixins such as `sklearn.base.TransformerMixin`, `sklearn.base.ClassifierMixin`, `sklearn.base.RegressorMixin`, and `sklearn.base.OutlierMixin`. From scikit-learn 1.7, not defining `__sklearn_tags__` will raise an error.\n",
            "  warnings.warn(\n",
            "/usr/local/lib/python3.10/dist-packages/keras/src/layers/core/embedding.py:90: UserWarning: Argument `input_length` is deprecated. Just remove it.\n",
            "  warnings.warn(\n"
          ]
        },
        {
          "output_type": "stream",
          "name": "stdout",
          "text": [
            "\n",
            "Fold 2 Results:\n",
            "              precision    recall  f1-score   support\n",
            "\n",
            "          -1       0.70      0.66      0.68       343\n",
            "           0       0.34      0.41      0.37       152\n",
            "           1       0.79      0.77      0.78       529\n",
            "\n",
            "    accuracy                           0.68      1024\n",
            "   macro avg       0.61      0.61      0.61      1024\n",
            "weighted avg       0.69      0.68      0.68      1024\n",
            "\n"
          ]
        },
        {
          "output_type": "stream",
          "name": "stderr",
          "text": [
            "/usr/local/lib/python3.10/dist-packages/sklearn/base.py:474: FutureWarning: `BaseEstimator._validate_data` is deprecated in 1.6 and will be removed in 1.7. Use `sklearn.utils.validation.validate_data` instead. This function becomes public and is part of the scikit-learn developer API.\n",
            "  warnings.warn(\n",
            "/usr/local/lib/python3.10/dist-packages/sklearn/utils/_tags.py:354: FutureWarning: The SMOTE or classes from which it inherits use `_get_tags` and `_more_tags`. Please define the `__sklearn_tags__` method, or inherit from `sklearn.base.BaseEstimator` and/or other appropriate mixins such as `sklearn.base.TransformerMixin`, `sklearn.base.ClassifierMixin`, `sklearn.base.RegressorMixin`, and `sklearn.base.OutlierMixin`. From scikit-learn 1.7, not defining `__sklearn_tags__` will raise an error.\n",
            "  warnings.warn(\n",
            "/usr/local/lib/python3.10/dist-packages/keras/src/layers/core/embedding.py:90: UserWarning: Argument `input_length` is deprecated. Just remove it.\n",
            "  warnings.warn(\n"
          ]
        },
        {
          "output_type": "stream",
          "name": "stdout",
          "text": [
            "\n",
            "Fold 3 Results:\n",
            "              precision    recall  f1-score   support\n",
            "\n",
            "          -1       0.70      0.60      0.65       343\n",
            "           0       0.33      0.42      0.37       153\n",
            "           1       0.79      0.80      0.79       528\n",
            "\n",
            "    accuracy                           0.67      1024\n",
            "   macro avg       0.61      0.61      0.60      1024\n",
            "weighted avg       0.69      0.67      0.68      1024\n",
            "\n"
          ]
        },
        {
          "output_type": "stream",
          "name": "stderr",
          "text": [
            "/usr/local/lib/python3.10/dist-packages/sklearn/base.py:474: FutureWarning: `BaseEstimator._validate_data` is deprecated in 1.6 and will be removed in 1.7. Use `sklearn.utils.validation.validate_data` instead. This function becomes public and is part of the scikit-learn developer API.\n",
            "  warnings.warn(\n",
            "/usr/local/lib/python3.10/dist-packages/sklearn/utils/_tags.py:354: FutureWarning: The SMOTE or classes from which it inherits use `_get_tags` and `_more_tags`. Please define the `__sklearn_tags__` method, or inherit from `sklearn.base.BaseEstimator` and/or other appropriate mixins such as `sklearn.base.TransformerMixin`, `sklearn.base.ClassifierMixin`, `sklearn.base.RegressorMixin`, and `sklearn.base.OutlierMixin`. From scikit-learn 1.7, not defining `__sklearn_tags__` will raise an error.\n",
            "  warnings.warn(\n",
            "/usr/local/lib/python3.10/dist-packages/keras/src/layers/core/embedding.py:90: UserWarning: Argument `input_length` is deprecated. Just remove it.\n",
            "  warnings.warn(\n"
          ]
        },
        {
          "output_type": "stream",
          "name": "stdout",
          "text": [
            "\n",
            "Fold 4 Results:\n",
            "              precision    recall  f1-score   support\n",
            "\n",
            "          -1       0.67      0.69      0.68       344\n",
            "           0       0.33      0.34      0.33       152\n",
            "           1       0.81      0.79      0.80       528\n",
            "\n",
            "    accuracy                           0.69      1024\n",
            "   macro avg       0.60      0.60      0.60      1024\n",
            "weighted avg       0.69      0.69      0.69      1024\n",
            "\n"
          ]
        },
        {
          "output_type": "stream",
          "name": "stderr",
          "text": [
            "/usr/local/lib/python3.10/dist-packages/sklearn/base.py:474: FutureWarning: `BaseEstimator._validate_data` is deprecated in 1.6 and will be removed in 1.7. Use `sklearn.utils.validation.validate_data` instead. This function becomes public and is part of the scikit-learn developer API.\n",
            "  warnings.warn(\n",
            "/usr/local/lib/python3.10/dist-packages/sklearn/utils/_tags.py:354: FutureWarning: The SMOTE or classes from which it inherits use `_get_tags` and `_more_tags`. Please define the `__sklearn_tags__` method, or inherit from `sklearn.base.BaseEstimator` and/or other appropriate mixins such as `sklearn.base.TransformerMixin`, `sklearn.base.ClassifierMixin`, `sklearn.base.RegressorMixin`, and `sklearn.base.OutlierMixin`. From scikit-learn 1.7, not defining `__sklearn_tags__` will raise an error.\n",
            "  warnings.warn(\n",
            "/usr/local/lib/python3.10/dist-packages/keras/src/layers/core/embedding.py:90: UserWarning: Argument `input_length` is deprecated. Just remove it.\n",
            "  warnings.warn(\n"
          ]
        },
        {
          "output_type": "stream",
          "name": "stdout",
          "text": [
            "\n",
            "Fold 5 Results:\n",
            "              precision    recall  f1-score   support\n",
            "\n",
            "          -1       0.68      0.77      0.73       344\n",
            "           0       0.35      0.53      0.43       152\n",
            "           1       0.86      0.66      0.75       528\n",
            "\n",
            "    accuracy                           0.68      1024\n",
            "   macro avg       0.63      0.66      0.63      1024\n",
            "weighted avg       0.73      0.68      0.69      1024\n",
            "\n",
            "Mean Accuracy: 0.6768 (±0.0083)\n"
          ]
        }
      ]
    },
    {
      "cell_type": "markdown",
      "source": [
        "Dravidian Fastetxt"
      ],
      "metadata": {
        "id": "Or3nPZG4QRQY"
      }
    },
    {
      "cell_type": "code",
      "source": [
        "aspects = ['Acting', 'direction', 'Music', 'Genre', 'excitement', 'ovr_sent']\n",
        "sampling_techniques_under = ['undersample']\n",
        "results = analyze_all_aspects_dl(df, aspects, sampling_techniques_under)"
      ],
      "metadata": {
        "id": "YYNb4JzeQVwn",
        "colab": {
          "base_uri": "https://localhost:8080/"
        },
        "outputId": "9b5b6dcc-fe3c-4b45-cbb5-2335eb3f2f13",
        "collapsed": true
      },
      "execution_count": null,
      "outputs": [
        {
          "output_type": "stream",
          "name": "stdout",
          "text": [
            "\n",
            "Analyzing aspect: Acting\n",
            "\n",
            "Using undersample sampling:\n"
          ]
        },
        {
          "output_type": "stream",
          "name": "stderr",
          "text": [
            "/usr/local/lib/python3.10/dist-packages/sklearn/utils/deprecation.py:151: FutureWarning: 'force_all_finite' was renamed to 'ensure_all_finite' in 1.6 and will be removed in 1.8.\n",
            "  warnings.warn(\n",
            "/usr/local/lib/python3.10/dist-packages/sklearn/base.py:484: FutureWarning: `BaseEstimator._check_n_features` is deprecated in 1.6 and will be removed in 1.7. Use `sklearn.utils.validation._check_n_features` instead.\n",
            "  warnings.warn(\n",
            "/usr/local/lib/python3.10/dist-packages/sklearn/base.py:493: FutureWarning: `BaseEstimator._check_feature_names` is deprecated in 1.6 and will be removed in 1.7. Use `sklearn.utils.validation._check_feature_names` instead.\n",
            "  warnings.warn(\n",
            "/usr/local/lib/python3.10/dist-packages/keras/src/layers/core/embedding.py:90: UserWarning: Argument `input_length` is deprecated. Just remove it.\n",
            "  warnings.warn(\n"
          ]
        },
        {
          "output_type": "stream",
          "name": "stdout",
          "text": [
            "\n",
            "Fold 1 Results:\n",
            "              precision    recall  f1-score   support\n",
            "\n",
            "          -1       0.07      0.56      0.13        34\n",
            "           0       0.89      0.53      0.66       770\n",
            "           1       0.48      0.67      0.56       221\n",
            "\n",
            "    accuracy                           0.56      1025\n",
            "   macro avg       0.48      0.59      0.45      1025\n",
            "weighted avg       0.78      0.56      0.62      1025\n",
            "\n"
          ]
        },
        {
          "output_type": "stream",
          "name": "stderr",
          "text": [
            "/usr/local/lib/python3.10/dist-packages/sklearn/utils/deprecation.py:151: FutureWarning: 'force_all_finite' was renamed to 'ensure_all_finite' in 1.6 and will be removed in 1.8.\n",
            "  warnings.warn(\n",
            "/usr/local/lib/python3.10/dist-packages/sklearn/base.py:484: FutureWarning: `BaseEstimator._check_n_features` is deprecated in 1.6 and will be removed in 1.7. Use `sklearn.utils.validation._check_n_features` instead.\n",
            "  warnings.warn(\n",
            "/usr/local/lib/python3.10/dist-packages/sklearn/base.py:493: FutureWarning: `BaseEstimator._check_feature_names` is deprecated in 1.6 and will be removed in 1.7. Use `sklearn.utils.validation._check_feature_names` instead.\n",
            "  warnings.warn(\n",
            "/usr/local/lib/python3.10/dist-packages/keras/src/layers/core/embedding.py:90: UserWarning: Argument `input_length` is deprecated. Just remove it.\n",
            "  warnings.warn(\n"
          ]
        },
        {
          "output_type": "stream",
          "name": "stdout",
          "text": [
            "\n",
            "Fold 2 Results:\n",
            "              precision    recall  f1-score   support\n",
            "\n",
            "          -1       0.09      0.64      0.16        33\n",
            "           0       0.92      0.50      0.65       769\n",
            "           1       0.47      0.79      0.59       222\n",
            "\n",
            "    accuracy                           0.56      1024\n",
            "   macro avg       0.49      0.64      0.46      1024\n",
            "weighted avg       0.80      0.56      0.62      1024\n",
            "\n"
          ]
        },
        {
          "output_type": "stream",
          "name": "stderr",
          "text": [
            "/usr/local/lib/python3.10/dist-packages/sklearn/utils/deprecation.py:151: FutureWarning: 'force_all_finite' was renamed to 'ensure_all_finite' in 1.6 and will be removed in 1.8.\n",
            "  warnings.warn(\n",
            "/usr/local/lib/python3.10/dist-packages/sklearn/base.py:484: FutureWarning: `BaseEstimator._check_n_features` is deprecated in 1.6 and will be removed in 1.7. Use `sklearn.utils.validation._check_n_features` instead.\n",
            "  warnings.warn(\n",
            "/usr/local/lib/python3.10/dist-packages/sklearn/base.py:493: FutureWarning: `BaseEstimator._check_feature_names` is deprecated in 1.6 and will be removed in 1.7. Use `sklearn.utils.validation._check_feature_names` instead.\n",
            "  warnings.warn(\n",
            "/usr/local/lib/python3.10/dist-packages/keras/src/layers/core/embedding.py:90: UserWarning: Argument `input_length` is deprecated. Just remove it.\n",
            "  warnings.warn(\n"
          ]
        },
        {
          "output_type": "stream",
          "name": "stdout",
          "text": [
            "\n",
            "Fold 3 Results:\n",
            "              precision    recall  f1-score   support\n",
            "\n",
            "          -1       0.10      0.76      0.17        33\n",
            "           0       0.91      0.49      0.63       769\n",
            "           1       0.45      0.72      0.55       222\n",
            "\n",
            "    accuracy                           0.55      1024\n",
            "   macro avg       0.49      0.65      0.45      1024\n",
            "weighted avg       0.78      0.55      0.60      1024\n",
            "\n"
          ]
        },
        {
          "output_type": "stream",
          "name": "stderr",
          "text": [
            "/usr/local/lib/python3.10/dist-packages/sklearn/utils/deprecation.py:151: FutureWarning: 'force_all_finite' was renamed to 'ensure_all_finite' in 1.6 and will be removed in 1.8.\n",
            "  warnings.warn(\n",
            "/usr/local/lib/python3.10/dist-packages/sklearn/base.py:484: FutureWarning: `BaseEstimator._check_n_features` is deprecated in 1.6 and will be removed in 1.7. Use `sklearn.utils.validation._check_n_features` instead.\n",
            "  warnings.warn(\n",
            "/usr/local/lib/python3.10/dist-packages/sklearn/base.py:493: FutureWarning: `BaseEstimator._check_feature_names` is deprecated in 1.6 and will be removed in 1.7. Use `sklearn.utils.validation._check_feature_names` instead.\n",
            "  warnings.warn(\n",
            "/usr/local/lib/python3.10/dist-packages/keras/src/layers/core/embedding.py:90: UserWarning: Argument `input_length` is deprecated. Just remove it.\n",
            "  warnings.warn(\n"
          ]
        },
        {
          "output_type": "stream",
          "name": "stdout",
          "text": [
            "\n",
            "Fold 4 Results:\n",
            "              precision    recall  f1-score   support\n",
            "\n",
            "          -1       0.11      0.42      0.18        33\n",
            "           0       0.90      0.61      0.73       769\n",
            "           1       0.45      0.76      0.56       222\n",
            "\n",
            "    accuracy                           0.64      1024\n",
            "   macro avg       0.49      0.60      0.49      1024\n",
            "weighted avg       0.77      0.64      0.67      1024\n",
            "\n"
          ]
        },
        {
          "output_type": "stream",
          "name": "stderr",
          "text": [
            "/usr/local/lib/python3.10/dist-packages/sklearn/utils/deprecation.py:151: FutureWarning: 'force_all_finite' was renamed to 'ensure_all_finite' in 1.6 and will be removed in 1.8.\n",
            "  warnings.warn(\n",
            "/usr/local/lib/python3.10/dist-packages/sklearn/base.py:484: FutureWarning: `BaseEstimator._check_n_features` is deprecated in 1.6 and will be removed in 1.7. Use `sklearn.utils.validation._check_n_features` instead.\n",
            "  warnings.warn(\n",
            "/usr/local/lib/python3.10/dist-packages/sklearn/base.py:493: FutureWarning: `BaseEstimator._check_feature_names` is deprecated in 1.6 and will be removed in 1.7. Use `sklearn.utils.validation._check_feature_names` instead.\n",
            "  warnings.warn(\n",
            "/usr/local/lib/python3.10/dist-packages/keras/src/layers/core/embedding.py:90: UserWarning: Argument `input_length` is deprecated. Just remove it.\n",
            "  warnings.warn(\n"
          ]
        },
        {
          "output_type": "stream",
          "name": "stdout",
          "text": [
            "\n",
            "Fold 5 Results:\n",
            "              precision    recall  f1-score   support\n",
            "\n",
            "          -1       0.10      0.59      0.18        34\n",
            "           0       0.87      0.74      0.80       769\n",
            "           1       0.63      0.50      0.56       221\n",
            "\n",
            "    accuracy                           0.68      1024\n",
            "   macro avg       0.53      0.61      0.51      1024\n",
            "weighted avg       0.79      0.68      0.73      1024\n",
            "\n",
            "Mean Accuracy: 0.5979 (±0.0531)\n",
            "\n",
            "Analyzing aspect: direction\n",
            "\n",
            "Using undersample sampling:\n"
          ]
        },
        {
          "output_type": "stream",
          "name": "stderr",
          "text": [
            "/usr/local/lib/python3.10/dist-packages/sklearn/utils/deprecation.py:151: FutureWarning: 'force_all_finite' was renamed to 'ensure_all_finite' in 1.6 and will be removed in 1.8.\n",
            "  warnings.warn(\n",
            "/usr/local/lib/python3.10/dist-packages/sklearn/base.py:484: FutureWarning: `BaseEstimator._check_n_features` is deprecated in 1.6 and will be removed in 1.7. Use `sklearn.utils.validation._check_n_features` instead.\n",
            "  warnings.warn(\n",
            "/usr/local/lib/python3.10/dist-packages/sklearn/base.py:493: FutureWarning: `BaseEstimator._check_feature_names` is deprecated in 1.6 and will be removed in 1.7. Use `sklearn.utils.validation._check_feature_names` instead.\n",
            "  warnings.warn(\n",
            "/usr/local/lib/python3.10/dist-packages/keras/src/layers/core/embedding.py:90: UserWarning: Argument `input_length` is deprecated. Just remove it.\n",
            "  warnings.warn(\n"
          ]
        },
        {
          "output_type": "stream",
          "name": "stdout",
          "text": [
            "\n",
            "Fold 1 Results:\n",
            "              precision    recall  f1-score   support\n",
            "\n",
            "          -1       0.29      0.86      0.44       139\n",
            "           0       0.95      0.60      0.73       824\n",
            "           1       0.26      0.42      0.32        62\n",
            "\n",
            "    accuracy                           0.62      1025\n",
            "   macro avg       0.50      0.63      0.50      1025\n",
            "weighted avg       0.82      0.62      0.67      1025\n",
            "\n"
          ]
        },
        {
          "output_type": "stream",
          "name": "stderr",
          "text": [
            "/usr/local/lib/python3.10/dist-packages/sklearn/utils/deprecation.py:151: FutureWarning: 'force_all_finite' was renamed to 'ensure_all_finite' in 1.6 and will be removed in 1.8.\n",
            "  warnings.warn(\n",
            "/usr/local/lib/python3.10/dist-packages/sklearn/base.py:484: FutureWarning: `BaseEstimator._check_n_features` is deprecated in 1.6 and will be removed in 1.7. Use `sklearn.utils.validation._check_n_features` instead.\n",
            "  warnings.warn(\n",
            "/usr/local/lib/python3.10/dist-packages/sklearn/base.py:493: FutureWarning: `BaseEstimator._check_feature_names` is deprecated in 1.6 and will be removed in 1.7. Use `sklearn.utils.validation._check_feature_names` instead.\n",
            "  warnings.warn(\n",
            "/usr/local/lib/python3.10/dist-packages/keras/src/layers/core/embedding.py:90: UserWarning: Argument `input_length` is deprecated. Just remove it.\n",
            "  warnings.warn(\n"
          ]
        },
        {
          "output_type": "stream",
          "name": "stdout",
          "text": [
            "\n",
            "Fold 2 Results:\n",
            "              precision    recall  f1-score   support\n",
            "\n",
            "          -1       0.30      0.83      0.44       138\n",
            "           0       0.95      0.60      0.74       824\n",
            "           1       0.25      0.50      0.33        62\n",
            "\n",
            "    accuracy                           0.62      1024\n",
            "   macro avg       0.50      0.64      0.50      1024\n",
            "weighted avg       0.82      0.62      0.67      1024\n",
            "\n"
          ]
        },
        {
          "output_type": "stream",
          "name": "stderr",
          "text": [
            "/usr/local/lib/python3.10/dist-packages/sklearn/utils/deprecation.py:151: FutureWarning: 'force_all_finite' was renamed to 'ensure_all_finite' in 1.6 and will be removed in 1.8.\n",
            "  warnings.warn(\n",
            "/usr/local/lib/python3.10/dist-packages/sklearn/base.py:484: FutureWarning: `BaseEstimator._check_n_features` is deprecated in 1.6 and will be removed in 1.7. Use `sklearn.utils.validation._check_n_features` instead.\n",
            "  warnings.warn(\n",
            "/usr/local/lib/python3.10/dist-packages/sklearn/base.py:493: FutureWarning: `BaseEstimator._check_feature_names` is deprecated in 1.6 and will be removed in 1.7. Use `sklearn.utils.validation._check_feature_names` instead.\n",
            "  warnings.warn(\n",
            "/usr/local/lib/python3.10/dist-packages/keras/src/layers/core/embedding.py:90: UserWarning: Argument `input_length` is deprecated. Just remove it.\n",
            "  warnings.warn(\n"
          ]
        },
        {
          "output_type": "stream",
          "name": "stdout",
          "text": [
            "\n",
            "Fold 3 Results:\n",
            "              precision    recall  f1-score   support\n",
            "\n",
            "          -1       0.33      0.76      0.46       139\n",
            "           0       0.93      0.69      0.79       823\n",
            "           1       0.27      0.45      0.34        62\n",
            "\n",
            "    accuracy                           0.68      1024\n",
            "   macro avg       0.51      0.63      0.53      1024\n",
            "weighted avg       0.81      0.68      0.72      1024\n",
            "\n"
          ]
        },
        {
          "output_type": "stream",
          "name": "stderr",
          "text": [
            "/usr/local/lib/python3.10/dist-packages/sklearn/utils/deprecation.py:151: FutureWarning: 'force_all_finite' was renamed to 'ensure_all_finite' in 1.6 and will be removed in 1.8.\n",
            "  warnings.warn(\n",
            "/usr/local/lib/python3.10/dist-packages/sklearn/base.py:484: FutureWarning: `BaseEstimator._check_n_features` is deprecated in 1.6 and will be removed in 1.7. Use `sklearn.utils.validation._check_n_features` instead.\n",
            "  warnings.warn(\n",
            "/usr/local/lib/python3.10/dist-packages/sklearn/base.py:493: FutureWarning: `BaseEstimator._check_feature_names` is deprecated in 1.6 and will be removed in 1.7. Use `sklearn.utils.validation._check_feature_names` instead.\n",
            "  warnings.warn(\n",
            "/usr/local/lib/python3.10/dist-packages/keras/src/layers/core/embedding.py:90: UserWarning: Argument `input_length` is deprecated. Just remove it.\n",
            "  warnings.warn(\n"
          ]
        },
        {
          "output_type": "stream",
          "name": "stdout",
          "text": [
            "\n",
            "Fold 4 Results:\n",
            "              precision    recall  f1-score   support\n",
            "\n",
            "          -1       0.41      0.60      0.49       139\n",
            "           0       0.93      0.50      0.65       823\n",
            "           1       0.13      0.77      0.22        62\n",
            "\n",
            "    accuracy                           0.53      1024\n",
            "   macro avg       0.49      0.63      0.45      1024\n",
            "weighted avg       0.81      0.53      0.60      1024\n",
            "\n"
          ]
        },
        {
          "output_type": "stream",
          "name": "stderr",
          "text": [
            "/usr/local/lib/python3.10/dist-packages/sklearn/utils/deprecation.py:151: FutureWarning: 'force_all_finite' was renamed to 'ensure_all_finite' in 1.6 and will be removed in 1.8.\n",
            "  warnings.warn(\n",
            "/usr/local/lib/python3.10/dist-packages/sklearn/base.py:484: FutureWarning: `BaseEstimator._check_n_features` is deprecated in 1.6 and will be removed in 1.7. Use `sklearn.utils.validation._check_n_features` instead.\n",
            "  warnings.warn(\n",
            "/usr/local/lib/python3.10/dist-packages/sklearn/base.py:493: FutureWarning: `BaseEstimator._check_feature_names` is deprecated in 1.6 and will be removed in 1.7. Use `sklearn.utils.validation._check_feature_names` instead.\n",
            "  warnings.warn(\n",
            "/usr/local/lib/python3.10/dist-packages/keras/src/layers/core/embedding.py:90: UserWarning: Argument `input_length` is deprecated. Just remove it.\n",
            "  warnings.warn(\n"
          ]
        },
        {
          "output_type": "stream",
          "name": "stdout",
          "text": [
            "\n",
            "Fold 5 Results:\n",
            "              precision    recall  f1-score   support\n",
            "\n",
            "          -1       0.30      0.69      0.41       139\n",
            "           0       0.93      0.53      0.67       823\n",
            "           1       0.19      0.69      0.29        62\n",
            "\n",
            "    accuracy                           0.56      1024\n",
            "   macro avg       0.47      0.64      0.46      1024\n",
            "weighted avg       0.80      0.56      0.62      1024\n",
            "\n",
            "Mean Accuracy: 0.6044 (±0.0534)\n",
            "\n",
            "Analyzing aspect: Music\n",
            "\n",
            "Using undersample sampling:\n"
          ]
        },
        {
          "output_type": "stream",
          "name": "stderr",
          "text": [
            "/usr/local/lib/python3.10/dist-packages/sklearn/utils/deprecation.py:151: FutureWarning: 'force_all_finite' was renamed to 'ensure_all_finite' in 1.6 and will be removed in 1.8.\n",
            "  warnings.warn(\n",
            "/usr/local/lib/python3.10/dist-packages/sklearn/base.py:484: FutureWarning: `BaseEstimator._check_n_features` is deprecated in 1.6 and will be removed in 1.7. Use `sklearn.utils.validation._check_n_features` instead.\n",
            "  warnings.warn(\n",
            "/usr/local/lib/python3.10/dist-packages/sklearn/base.py:493: FutureWarning: `BaseEstimator._check_feature_names` is deprecated in 1.6 and will be removed in 1.7. Use `sklearn.utils.validation._check_feature_names` instead.\n",
            "  warnings.warn(\n",
            "/usr/local/lib/python3.10/dist-packages/keras/src/layers/core/embedding.py:90: UserWarning: Argument `input_length` is deprecated. Just remove it.\n",
            "  warnings.warn(\n"
          ]
        },
        {
          "output_type": "stream",
          "name": "stdout",
          "text": [
            "\n",
            "Fold 1 Results:\n",
            "              precision    recall  f1-score   support\n",
            "\n",
            "          -1       0.07      0.68      0.13        22\n",
            "           0       0.97      0.80      0.88       897\n",
            "           1       0.70      0.54      0.61       106\n",
            "\n",
            "    accuracy                           0.77      1025\n",
            "   macro avg       0.58      0.67      0.54      1025\n",
            "weighted avg       0.93      0.77      0.84      1025\n",
            "\n"
          ]
        },
        {
          "output_type": "stream",
          "name": "stderr",
          "text": [
            "/usr/local/lib/python3.10/dist-packages/sklearn/utils/deprecation.py:151: FutureWarning: 'force_all_finite' was renamed to 'ensure_all_finite' in 1.6 and will be removed in 1.8.\n",
            "  warnings.warn(\n",
            "/usr/local/lib/python3.10/dist-packages/sklearn/base.py:484: FutureWarning: `BaseEstimator._check_n_features` is deprecated in 1.6 and will be removed in 1.7. Use `sklearn.utils.validation._check_n_features` instead.\n",
            "  warnings.warn(\n",
            "/usr/local/lib/python3.10/dist-packages/sklearn/base.py:493: FutureWarning: `BaseEstimator._check_feature_names` is deprecated in 1.6 and will be removed in 1.7. Use `sklearn.utils.validation._check_feature_names` instead.\n",
            "  warnings.warn(\n",
            "/usr/local/lib/python3.10/dist-packages/keras/src/layers/core/embedding.py:90: UserWarning: Argument `input_length` is deprecated. Just remove it.\n",
            "  warnings.warn(\n"
          ]
        },
        {
          "output_type": "stream",
          "name": "stdout",
          "text": [
            "\n",
            "Fold 2 Results:\n",
            "              precision    recall  f1-score   support\n",
            "\n",
            "          -1       0.14      0.76      0.23        21\n",
            "           0       0.98      0.82      0.89       897\n",
            "           1       0.50      0.75      0.60       106\n",
            "\n",
            "    accuracy                           0.81      1024\n",
            "   macro avg       0.54      0.78      0.58      1024\n",
            "weighted avg       0.91      0.81      0.85      1024\n",
            "\n"
          ]
        },
        {
          "output_type": "stream",
          "name": "stderr",
          "text": [
            "/usr/local/lib/python3.10/dist-packages/sklearn/utils/deprecation.py:151: FutureWarning: 'force_all_finite' was renamed to 'ensure_all_finite' in 1.6 and will be removed in 1.8.\n",
            "  warnings.warn(\n",
            "/usr/local/lib/python3.10/dist-packages/sklearn/base.py:484: FutureWarning: `BaseEstimator._check_n_features` is deprecated in 1.6 and will be removed in 1.7. Use `sklearn.utils.validation._check_n_features` instead.\n",
            "  warnings.warn(\n",
            "/usr/local/lib/python3.10/dist-packages/sklearn/base.py:493: FutureWarning: `BaseEstimator._check_feature_names` is deprecated in 1.6 and will be removed in 1.7. Use `sklearn.utils.validation._check_feature_names` instead.\n",
            "  warnings.warn(\n",
            "/usr/local/lib/python3.10/dist-packages/keras/src/layers/core/embedding.py:90: UserWarning: Argument `input_length` is deprecated. Just remove it.\n",
            "  warnings.warn(\n"
          ]
        },
        {
          "output_type": "stream",
          "name": "stdout",
          "text": [
            "\n",
            "Fold 3 Results:\n",
            "              precision    recall  f1-score   support\n",
            "\n",
            "          -1       0.05      0.76      0.10        21\n",
            "           0       0.99      0.59      0.74       897\n",
            "           1       0.38      0.67      0.49       106\n",
            "\n",
            "    accuracy                           0.60      1024\n",
            "   macro avg       0.47      0.67      0.44      1024\n",
            "weighted avg       0.91      0.60      0.70      1024\n",
            "\n"
          ]
        },
        {
          "output_type": "stream",
          "name": "stderr",
          "text": [
            "/usr/local/lib/python3.10/dist-packages/sklearn/utils/deprecation.py:151: FutureWarning: 'force_all_finite' was renamed to 'ensure_all_finite' in 1.6 and will be removed in 1.8.\n",
            "  warnings.warn(\n",
            "/usr/local/lib/python3.10/dist-packages/sklearn/base.py:484: FutureWarning: `BaseEstimator._check_n_features` is deprecated in 1.6 and will be removed in 1.7. Use `sklearn.utils.validation._check_n_features` instead.\n",
            "  warnings.warn(\n",
            "/usr/local/lib/python3.10/dist-packages/sklearn/base.py:493: FutureWarning: `BaseEstimator._check_feature_names` is deprecated in 1.6 and will be removed in 1.7. Use `sklearn.utils.validation._check_feature_names` instead.\n",
            "  warnings.warn(\n",
            "/usr/local/lib/python3.10/dist-packages/keras/src/layers/core/embedding.py:90: UserWarning: Argument `input_length` is deprecated. Just remove it.\n",
            "  warnings.warn(\n"
          ]
        },
        {
          "output_type": "stream",
          "name": "stdout",
          "text": [
            "\n",
            "Fold 4 Results:\n",
            "              precision    recall  f1-score   support\n",
            "\n",
            "          -1       0.11      0.62      0.18        21\n",
            "           0       0.97      0.86      0.91       897\n",
            "           1       0.50      0.50      0.50       106\n",
            "\n",
            "    accuracy                           0.82      1024\n",
            "   macro avg       0.52      0.66      0.53      1024\n",
            "weighted avg       0.90      0.82      0.85      1024\n",
            "\n"
          ]
        },
        {
          "output_type": "stream",
          "name": "stderr",
          "text": [
            "/usr/local/lib/python3.10/dist-packages/sklearn/utils/deprecation.py:151: FutureWarning: 'force_all_finite' was renamed to 'ensure_all_finite' in 1.6 and will be removed in 1.8.\n",
            "  warnings.warn(\n",
            "/usr/local/lib/python3.10/dist-packages/sklearn/base.py:484: FutureWarning: `BaseEstimator._check_n_features` is deprecated in 1.6 and will be removed in 1.7. Use `sklearn.utils.validation._check_n_features` instead.\n",
            "  warnings.warn(\n",
            "/usr/local/lib/python3.10/dist-packages/sklearn/base.py:493: FutureWarning: `BaseEstimator._check_feature_names` is deprecated in 1.6 and will be removed in 1.7. Use `sklearn.utils.validation._check_feature_names` instead.\n",
            "  warnings.warn(\n",
            "/usr/local/lib/python3.10/dist-packages/keras/src/layers/core/embedding.py:90: UserWarning: Argument `input_length` is deprecated. Just remove it.\n",
            "  warnings.warn(\n"
          ]
        },
        {
          "output_type": "stream",
          "name": "stdout",
          "text": [
            "\n",
            "Fold 5 Results:\n",
            "              precision    recall  f1-score   support\n",
            "\n",
            "          -1       0.09      0.68      0.16        22\n",
            "           0       0.97      0.83      0.89       896\n",
            "           1       0.60      0.53      0.56       106\n",
            "\n",
            "    accuracy                           0.79      1024\n",
            "   macro avg       0.55      0.68      0.54      1024\n",
            "weighted avg       0.91      0.79      0.84      1024\n",
            "\n",
            "Mean Accuracy: 0.7582 (±0.0809)\n",
            "\n",
            "Analyzing aspect: Genre\n",
            "\n",
            "Using undersample sampling:\n"
          ]
        },
        {
          "output_type": "stream",
          "name": "stderr",
          "text": [
            "/usr/local/lib/python3.10/dist-packages/sklearn/utils/deprecation.py:151: FutureWarning: 'force_all_finite' was renamed to 'ensure_all_finite' in 1.6 and will be removed in 1.8.\n",
            "  warnings.warn(\n",
            "/usr/local/lib/python3.10/dist-packages/sklearn/base.py:484: FutureWarning: `BaseEstimator._check_n_features` is deprecated in 1.6 and will be removed in 1.7. Use `sklearn.utils.validation._check_n_features` instead.\n",
            "  warnings.warn(\n",
            "/usr/local/lib/python3.10/dist-packages/sklearn/base.py:493: FutureWarning: `BaseEstimator._check_feature_names` is deprecated in 1.6 and will be removed in 1.7. Use `sklearn.utils.validation._check_feature_names` instead.\n",
            "  warnings.warn(\n",
            "/usr/local/lib/python3.10/dist-packages/keras/src/layers/core/embedding.py:90: UserWarning: Argument `input_length` is deprecated. Just remove it.\n",
            "  warnings.warn(\n"
          ]
        },
        {
          "output_type": "stream",
          "name": "stdout",
          "text": [
            "\n",
            "Fold 1 Results:\n",
            "              precision    recall  f1-score   support\n",
            "\n",
            "          -1       0.01      0.30      0.02        10\n",
            "           0       0.98      0.38      0.55       975\n",
            "           1       0.06      0.45      0.11        40\n",
            "\n",
            "    accuracy                           0.38      1025\n",
            "   macro avg       0.35      0.38      0.23      1025\n",
            "weighted avg       0.93      0.38      0.53      1025\n",
            "\n"
          ]
        },
        {
          "output_type": "stream",
          "name": "stderr",
          "text": [
            "/usr/local/lib/python3.10/dist-packages/sklearn/utils/deprecation.py:151: FutureWarning: 'force_all_finite' was renamed to 'ensure_all_finite' in 1.6 and will be removed in 1.8.\n",
            "  warnings.warn(\n",
            "/usr/local/lib/python3.10/dist-packages/sklearn/base.py:484: FutureWarning: `BaseEstimator._check_n_features` is deprecated in 1.6 and will be removed in 1.7. Use `sklearn.utils.validation._check_n_features` instead.\n",
            "  warnings.warn(\n",
            "/usr/local/lib/python3.10/dist-packages/sklearn/base.py:493: FutureWarning: `BaseEstimator._check_feature_names` is deprecated in 1.6 and will be removed in 1.7. Use `sklearn.utils.validation._check_feature_names` instead.\n",
            "  warnings.warn(\n",
            "/usr/local/lib/python3.10/dist-packages/keras/src/layers/core/embedding.py:90: UserWarning: Argument `input_length` is deprecated. Just remove it.\n",
            "  warnings.warn(\n"
          ]
        },
        {
          "output_type": "stream",
          "name": "stdout",
          "text": [
            "\n",
            "Fold 2 Results:\n",
            "              precision    recall  f1-score   support\n",
            "\n",
            "          -1       0.03      0.55      0.06        11\n",
            "           0       0.98      0.24      0.39       974\n",
            "           1       0.05      0.72      0.09        39\n",
            "\n",
            "    accuracy                           0.26      1024\n",
            "   macro avg       0.35      0.50      0.18      1024\n",
            "weighted avg       0.94      0.26      0.37      1024\n",
            "\n"
          ]
        },
        {
          "output_type": "stream",
          "name": "stderr",
          "text": [
            "/usr/local/lib/python3.10/dist-packages/sklearn/utils/deprecation.py:151: FutureWarning: 'force_all_finite' was renamed to 'ensure_all_finite' in 1.6 and will be removed in 1.8.\n",
            "  warnings.warn(\n",
            "/usr/local/lib/python3.10/dist-packages/sklearn/base.py:484: FutureWarning: `BaseEstimator._check_n_features` is deprecated in 1.6 and will be removed in 1.7. Use `sklearn.utils.validation._check_n_features` instead.\n",
            "  warnings.warn(\n",
            "/usr/local/lib/python3.10/dist-packages/sklearn/base.py:493: FutureWarning: `BaseEstimator._check_feature_names` is deprecated in 1.6 and will be removed in 1.7. Use `sklearn.utils.validation._check_feature_names` instead.\n",
            "  warnings.warn(\n",
            "/usr/local/lib/python3.10/dist-packages/keras/src/layers/core/embedding.py:90: UserWarning: Argument `input_length` is deprecated. Just remove it.\n",
            "  warnings.warn(\n"
          ]
        },
        {
          "output_type": "stream",
          "name": "stdout",
          "text": [
            "\n",
            "Fold 3 Results:\n",
            "              precision    recall  f1-score   support\n",
            "\n",
            "          -1       0.03      0.27      0.05        11\n",
            "           0       0.96      0.81      0.88       974\n",
            "           1       0.08      0.18      0.11        39\n",
            "\n",
            "    accuracy                           0.78      1024\n",
            "   macro avg       0.36      0.42      0.35      1024\n",
            "weighted avg       0.92      0.78      0.84      1024\n",
            "\n"
          ]
        },
        {
          "output_type": "stream",
          "name": "stderr",
          "text": [
            "/usr/local/lib/python3.10/dist-packages/sklearn/utils/deprecation.py:151: FutureWarning: 'force_all_finite' was renamed to 'ensure_all_finite' in 1.6 and will be removed in 1.8.\n",
            "  warnings.warn(\n",
            "/usr/local/lib/python3.10/dist-packages/sklearn/base.py:484: FutureWarning: `BaseEstimator._check_n_features` is deprecated in 1.6 and will be removed in 1.7. Use `sklearn.utils.validation._check_n_features` instead.\n",
            "  warnings.warn(\n",
            "/usr/local/lib/python3.10/dist-packages/sklearn/base.py:493: FutureWarning: `BaseEstimator._check_feature_names` is deprecated in 1.6 and will be removed in 1.7. Use `sklearn.utils.validation._check_feature_names` instead.\n",
            "  warnings.warn(\n",
            "/usr/local/lib/python3.10/dist-packages/keras/src/layers/core/embedding.py:90: UserWarning: Argument `input_length` is deprecated. Just remove it.\n",
            "  warnings.warn(\n"
          ]
        },
        {
          "output_type": "stream",
          "name": "stdout",
          "text": [
            "\n",
            "Fold 4 Results:\n",
            "              precision    recall  f1-score   support\n",
            "\n",
            "          -1       0.03      0.55      0.06        11\n",
            "           0       0.97      0.75      0.85       974\n",
            "           1       0.18      0.31      0.23        39\n",
            "\n",
            "    accuracy                           0.73      1024\n",
            "   macro avg       0.40      0.53      0.38      1024\n",
            "weighted avg       0.93      0.73      0.82      1024\n",
            "\n"
          ]
        },
        {
          "output_type": "stream",
          "name": "stderr",
          "text": [
            "/usr/local/lib/python3.10/dist-packages/sklearn/utils/deprecation.py:151: FutureWarning: 'force_all_finite' was renamed to 'ensure_all_finite' in 1.6 and will be removed in 1.8.\n",
            "  warnings.warn(\n",
            "/usr/local/lib/python3.10/dist-packages/sklearn/base.py:484: FutureWarning: `BaseEstimator._check_n_features` is deprecated in 1.6 and will be removed in 1.7. Use `sklearn.utils.validation._check_n_features` instead.\n",
            "  warnings.warn(\n",
            "/usr/local/lib/python3.10/dist-packages/sklearn/base.py:493: FutureWarning: `BaseEstimator._check_feature_names` is deprecated in 1.6 and will be removed in 1.7. Use `sklearn.utils.validation._check_feature_names` instead.\n",
            "  warnings.warn(\n",
            "/usr/local/lib/python3.10/dist-packages/keras/src/layers/core/embedding.py:90: UserWarning: Argument `input_length` is deprecated. Just remove it.\n",
            "  warnings.warn(\n"
          ]
        },
        {
          "output_type": "stream",
          "name": "stdout",
          "text": [
            "\n",
            "Fold 5 Results:\n",
            "              precision    recall  f1-score   support\n",
            "\n",
            "          -1       0.03      0.40      0.06        10\n",
            "           0       1.00      0.06      0.11       974\n",
            "           1       0.04      0.90      0.08        40\n",
            "\n",
            "    accuracy                           0.09      1024\n",
            "   macro avg       0.36      0.45      0.08      1024\n",
            "weighted avg       0.95      0.09      0.10      1024\n",
            "\n",
            "Mean Accuracy: 0.4501 (±0.2678)\n",
            "\n",
            "Analyzing aspect: excitement\n",
            "\n",
            "Using undersample sampling:\n"
          ]
        },
        {
          "output_type": "stream",
          "name": "stderr",
          "text": [
            "/usr/local/lib/python3.10/dist-packages/sklearn/utils/deprecation.py:151: FutureWarning: 'force_all_finite' was renamed to 'ensure_all_finite' in 1.6 and will be removed in 1.8.\n",
            "  warnings.warn(\n",
            "/usr/local/lib/python3.10/dist-packages/sklearn/base.py:484: FutureWarning: `BaseEstimator._check_n_features` is deprecated in 1.6 and will be removed in 1.7. Use `sklearn.utils.validation._check_n_features` instead.\n",
            "  warnings.warn(\n",
            "/usr/local/lib/python3.10/dist-packages/sklearn/base.py:493: FutureWarning: `BaseEstimator._check_feature_names` is deprecated in 1.6 and will be removed in 1.7. Use `sklearn.utils.validation._check_feature_names` instead.\n",
            "  warnings.warn(\n",
            "/usr/local/lib/python3.10/dist-packages/keras/src/layers/core/embedding.py:90: UserWarning: Argument `input_length` is deprecated. Just remove it.\n",
            "  warnings.warn(\n"
          ]
        },
        {
          "output_type": "stream",
          "name": "stdout",
          "text": [
            "\n",
            "Fold 1 Results:\n",
            "              precision    recall  f1-score   support\n",
            "\n",
            "          -1       0.40      0.63      0.49       152\n",
            "           0       0.75      0.61      0.67       583\n",
            "           1       0.59      0.63      0.61       290\n",
            "\n",
            "    accuracy                           0.62      1025\n",
            "   macro avg       0.58      0.62      0.59      1025\n",
            "weighted avg       0.65      0.62      0.63      1025\n",
            "\n"
          ]
        },
        {
          "output_type": "stream",
          "name": "stderr",
          "text": [
            "/usr/local/lib/python3.10/dist-packages/sklearn/utils/deprecation.py:151: FutureWarning: 'force_all_finite' was renamed to 'ensure_all_finite' in 1.6 and will be removed in 1.8.\n",
            "  warnings.warn(\n",
            "/usr/local/lib/python3.10/dist-packages/sklearn/base.py:484: FutureWarning: `BaseEstimator._check_n_features` is deprecated in 1.6 and will be removed in 1.7. Use `sklearn.utils.validation._check_n_features` instead.\n",
            "  warnings.warn(\n",
            "/usr/local/lib/python3.10/dist-packages/sklearn/base.py:493: FutureWarning: `BaseEstimator._check_feature_names` is deprecated in 1.6 and will be removed in 1.7. Use `sklearn.utils.validation._check_feature_names` instead.\n",
            "  warnings.warn(\n",
            "/usr/local/lib/python3.10/dist-packages/keras/src/layers/core/embedding.py:90: UserWarning: Argument `input_length` is deprecated. Just remove it.\n",
            "  warnings.warn(\n"
          ]
        },
        {
          "output_type": "stream",
          "name": "stdout",
          "text": [
            "\n",
            "Fold 2 Results:\n",
            "              precision    recall  f1-score   support\n",
            "\n",
            "          -1       0.33      0.81      0.47       152\n",
            "           0       0.76      0.45      0.56       583\n",
            "           1       0.60      0.64      0.62       289\n",
            "\n",
            "    accuracy                           0.56      1024\n",
            "   macro avg       0.56      0.63      0.55      1024\n",
            "weighted avg       0.65      0.56      0.57      1024\n",
            "\n"
          ]
        },
        {
          "output_type": "stream",
          "name": "stderr",
          "text": [
            "/usr/local/lib/python3.10/dist-packages/sklearn/utils/deprecation.py:151: FutureWarning: 'force_all_finite' was renamed to 'ensure_all_finite' in 1.6 and will be removed in 1.8.\n",
            "  warnings.warn(\n",
            "/usr/local/lib/python3.10/dist-packages/sklearn/base.py:484: FutureWarning: `BaseEstimator._check_n_features` is deprecated in 1.6 and will be removed in 1.7. Use `sklearn.utils.validation._check_n_features` instead.\n",
            "  warnings.warn(\n",
            "/usr/local/lib/python3.10/dist-packages/sklearn/base.py:493: FutureWarning: `BaseEstimator._check_feature_names` is deprecated in 1.6 and will be removed in 1.7. Use `sklearn.utils.validation._check_feature_names` instead.\n",
            "  warnings.warn(\n",
            "/usr/local/lib/python3.10/dist-packages/keras/src/layers/core/embedding.py:90: UserWarning: Argument `input_length` is deprecated. Just remove it.\n",
            "  warnings.warn(\n"
          ]
        },
        {
          "output_type": "stream",
          "name": "stdout",
          "text": [
            "\n",
            "Fold 3 Results:\n",
            "              precision    recall  f1-score   support\n",
            "\n",
            "          -1       0.42      0.70      0.52       151\n",
            "           0       0.77      0.59      0.67       583\n",
            "           1       0.61      0.68      0.64       290\n",
            "\n",
            "    accuracy                           0.63      1024\n",
            "   macro avg       0.60      0.66      0.61      1024\n",
            "weighted avg       0.67      0.63      0.64      1024\n",
            "\n"
          ]
        },
        {
          "output_type": "stream",
          "name": "stderr",
          "text": [
            "/usr/local/lib/python3.10/dist-packages/sklearn/utils/deprecation.py:151: FutureWarning: 'force_all_finite' was renamed to 'ensure_all_finite' in 1.6 and will be removed in 1.8.\n",
            "  warnings.warn(\n",
            "/usr/local/lib/python3.10/dist-packages/sklearn/base.py:484: FutureWarning: `BaseEstimator._check_n_features` is deprecated in 1.6 and will be removed in 1.7. Use `sklearn.utils.validation._check_n_features` instead.\n",
            "  warnings.warn(\n",
            "/usr/local/lib/python3.10/dist-packages/sklearn/base.py:493: FutureWarning: `BaseEstimator._check_feature_names` is deprecated in 1.6 and will be removed in 1.7. Use `sklearn.utils.validation._check_feature_names` instead.\n",
            "  warnings.warn(\n",
            "/usr/local/lib/python3.10/dist-packages/keras/src/layers/core/embedding.py:90: UserWarning: Argument `input_length` is deprecated. Just remove it.\n",
            "  warnings.warn(\n"
          ]
        },
        {
          "output_type": "stream",
          "name": "stdout",
          "text": [
            "\n",
            "Fold 4 Results:\n",
            "              precision    recall  f1-score   support\n",
            "\n",
            "          -1       0.35      0.75      0.48       152\n",
            "           0       0.78      0.47      0.59       582\n",
            "           1       0.59      0.70      0.64       290\n",
            "\n",
            "    accuracy                           0.58      1024\n",
            "   macro avg       0.57      0.64      0.57      1024\n",
            "weighted avg       0.66      0.58      0.59      1024\n",
            "\n"
          ]
        },
        {
          "output_type": "stream",
          "name": "stderr",
          "text": [
            "/usr/local/lib/python3.10/dist-packages/sklearn/utils/deprecation.py:151: FutureWarning: 'force_all_finite' was renamed to 'ensure_all_finite' in 1.6 and will be removed in 1.8.\n",
            "  warnings.warn(\n",
            "/usr/local/lib/python3.10/dist-packages/sklearn/base.py:484: FutureWarning: `BaseEstimator._check_n_features` is deprecated in 1.6 and will be removed in 1.7. Use `sklearn.utils.validation._check_n_features` instead.\n",
            "  warnings.warn(\n",
            "/usr/local/lib/python3.10/dist-packages/sklearn/base.py:493: FutureWarning: `BaseEstimator._check_feature_names` is deprecated in 1.6 and will be removed in 1.7. Use `sklearn.utils.validation._check_feature_names` instead.\n",
            "  warnings.warn(\n",
            "/usr/local/lib/python3.10/dist-packages/keras/src/layers/core/embedding.py:90: UserWarning: Argument `input_length` is deprecated. Just remove it.\n",
            "  warnings.warn(\n"
          ]
        },
        {
          "output_type": "stream",
          "name": "stdout",
          "text": [
            "\n",
            "Fold 5 Results:\n",
            "              precision    recall  f1-score   support\n",
            "\n",
            "          -1       0.44      0.55      0.49       152\n",
            "           0       0.76      0.56      0.65       582\n",
            "           1       0.55      0.77      0.64       290\n",
            "\n",
            "    accuracy                           0.62      1024\n",
            "   macro avg       0.58      0.63      0.59      1024\n",
            "weighted avg       0.65      0.62      0.62      1024\n",
            "\n",
            "Mean Accuracy: 0.6001 (±0.0285)\n",
            "\n",
            "Analyzing aspect: ovr_sent\n",
            "\n",
            "Using undersample sampling:\n"
          ]
        },
        {
          "output_type": "stream",
          "name": "stderr",
          "text": [
            "/usr/local/lib/python3.10/dist-packages/sklearn/utils/deprecation.py:151: FutureWarning: 'force_all_finite' was renamed to 'ensure_all_finite' in 1.6 and will be removed in 1.8.\n",
            "  warnings.warn(\n",
            "/usr/local/lib/python3.10/dist-packages/sklearn/base.py:484: FutureWarning: `BaseEstimator._check_n_features` is deprecated in 1.6 and will be removed in 1.7. Use `sklearn.utils.validation._check_n_features` instead.\n",
            "  warnings.warn(\n",
            "/usr/local/lib/python3.10/dist-packages/sklearn/base.py:493: FutureWarning: `BaseEstimator._check_feature_names` is deprecated in 1.6 and will be removed in 1.7. Use `sklearn.utils.validation._check_feature_names` instead.\n",
            "  warnings.warn(\n",
            "/usr/local/lib/python3.10/dist-packages/keras/src/layers/core/embedding.py:90: UserWarning: Argument `input_length` is deprecated. Just remove it.\n",
            "  warnings.warn(\n"
          ]
        },
        {
          "output_type": "stream",
          "name": "stdout",
          "text": [
            "\n",
            "Fold 1 Results:\n",
            "              precision    recall  f1-score   support\n",
            "\n",
            "          -1       0.70      0.53      0.61       344\n",
            "           0       0.28      0.53      0.37       152\n",
            "           1       0.78      0.71      0.74       529\n",
            "\n",
            "    accuracy                           0.62      1025\n",
            "   macro avg       0.59      0.59      0.57      1025\n",
            "weighted avg       0.68      0.62      0.64      1025\n",
            "\n"
          ]
        },
        {
          "output_type": "stream",
          "name": "stderr",
          "text": [
            "/usr/local/lib/python3.10/dist-packages/sklearn/utils/deprecation.py:151: FutureWarning: 'force_all_finite' was renamed to 'ensure_all_finite' in 1.6 and will be removed in 1.8.\n",
            "  warnings.warn(\n",
            "/usr/local/lib/python3.10/dist-packages/sklearn/base.py:484: FutureWarning: `BaseEstimator._check_n_features` is deprecated in 1.6 and will be removed in 1.7. Use `sklearn.utils.validation._check_n_features` instead.\n",
            "  warnings.warn(\n",
            "/usr/local/lib/python3.10/dist-packages/sklearn/base.py:493: FutureWarning: `BaseEstimator._check_feature_names` is deprecated in 1.6 and will be removed in 1.7. Use `sklearn.utils.validation._check_feature_names` instead.\n",
            "  warnings.warn(\n",
            "/usr/local/lib/python3.10/dist-packages/keras/src/layers/core/embedding.py:90: UserWarning: Argument `input_length` is deprecated. Just remove it.\n",
            "  warnings.warn(\n"
          ]
        },
        {
          "output_type": "stream",
          "name": "stdout",
          "text": [
            "\n",
            "Fold 2 Results:\n",
            "              precision    recall  f1-score   support\n",
            "\n",
            "          -1       0.76      0.51      0.61       343\n",
            "           0       0.27      0.68      0.38       152\n",
            "           1       0.85      0.64      0.73       529\n",
            "\n",
            "    accuracy                           0.61      1024\n",
            "   macro avg       0.62      0.61      0.58      1024\n",
            "weighted avg       0.73      0.61      0.64      1024\n",
            "\n"
          ]
        },
        {
          "output_type": "stream",
          "name": "stderr",
          "text": [
            "/usr/local/lib/python3.10/dist-packages/sklearn/utils/deprecation.py:151: FutureWarning: 'force_all_finite' was renamed to 'ensure_all_finite' in 1.6 and will be removed in 1.8.\n",
            "  warnings.warn(\n",
            "/usr/local/lib/python3.10/dist-packages/sklearn/base.py:484: FutureWarning: `BaseEstimator._check_n_features` is deprecated in 1.6 and will be removed in 1.7. Use `sklearn.utils.validation._check_n_features` instead.\n",
            "  warnings.warn(\n",
            "/usr/local/lib/python3.10/dist-packages/sklearn/base.py:493: FutureWarning: `BaseEstimator._check_feature_names` is deprecated in 1.6 and will be removed in 1.7. Use `sklearn.utils.validation._check_feature_names` instead.\n",
            "  warnings.warn(\n",
            "/usr/local/lib/python3.10/dist-packages/keras/src/layers/core/embedding.py:90: UserWarning: Argument `input_length` is deprecated. Just remove it.\n",
            "  warnings.warn(\n"
          ]
        },
        {
          "output_type": "stream",
          "name": "stdout",
          "text": [
            "\n",
            "Fold 3 Results:\n",
            "              precision    recall  f1-score   support\n",
            "\n",
            "          -1       0.73      0.69      0.71       343\n",
            "           0       0.33      0.56      0.42       153\n",
            "           1       0.86      0.72      0.79       528\n",
            "\n",
            "    accuracy                           0.69      1024\n",
            "   macro avg       0.64      0.66      0.64      1024\n",
            "weighted avg       0.74      0.69      0.71      1024\n",
            "\n"
          ]
        },
        {
          "output_type": "stream",
          "name": "stderr",
          "text": [
            "/usr/local/lib/python3.10/dist-packages/sklearn/utils/deprecation.py:151: FutureWarning: 'force_all_finite' was renamed to 'ensure_all_finite' in 1.6 and will be removed in 1.8.\n",
            "  warnings.warn(\n",
            "/usr/local/lib/python3.10/dist-packages/sklearn/base.py:484: FutureWarning: `BaseEstimator._check_n_features` is deprecated in 1.6 and will be removed in 1.7. Use `sklearn.utils.validation._check_n_features` instead.\n",
            "  warnings.warn(\n",
            "/usr/local/lib/python3.10/dist-packages/sklearn/base.py:493: FutureWarning: `BaseEstimator._check_feature_names` is deprecated in 1.6 and will be removed in 1.7. Use `sklearn.utils.validation._check_feature_names` instead.\n",
            "  warnings.warn(\n",
            "/usr/local/lib/python3.10/dist-packages/keras/src/layers/core/embedding.py:90: UserWarning: Argument `input_length` is deprecated. Just remove it.\n",
            "  warnings.warn(\n"
          ]
        },
        {
          "output_type": "stream",
          "name": "stdout",
          "text": [
            "\n",
            "Fold 4 Results:\n",
            "              precision    recall  f1-score   support\n",
            "\n",
            "          -1       0.66      0.75      0.70       344\n",
            "           0       0.36      0.53      0.43       152\n",
            "           1       0.87      0.67      0.76       528\n",
            "\n",
            "    accuracy                           0.68      1024\n",
            "   macro avg       0.63      0.65      0.63      1024\n",
            "weighted avg       0.72      0.68      0.69      1024\n",
            "\n"
          ]
        },
        {
          "output_type": "stream",
          "name": "stderr",
          "text": [
            "/usr/local/lib/python3.10/dist-packages/sklearn/utils/deprecation.py:151: FutureWarning: 'force_all_finite' was renamed to 'ensure_all_finite' in 1.6 and will be removed in 1.8.\n",
            "  warnings.warn(\n",
            "/usr/local/lib/python3.10/dist-packages/sklearn/base.py:484: FutureWarning: `BaseEstimator._check_n_features` is deprecated in 1.6 and will be removed in 1.7. Use `sklearn.utils.validation._check_n_features` instead.\n",
            "  warnings.warn(\n",
            "/usr/local/lib/python3.10/dist-packages/sklearn/base.py:493: FutureWarning: `BaseEstimator._check_feature_names` is deprecated in 1.6 and will be removed in 1.7. Use `sklearn.utils.validation._check_feature_names` instead.\n",
            "  warnings.warn(\n",
            "/usr/local/lib/python3.10/dist-packages/keras/src/layers/core/embedding.py:90: UserWarning: Argument `input_length` is deprecated. Just remove it.\n",
            "  warnings.warn(\n"
          ]
        },
        {
          "output_type": "stream",
          "name": "stdout",
          "text": [
            "\n",
            "Fold 5 Results:\n",
            "              precision    recall  f1-score   support\n",
            "\n",
            "          -1       0.75      0.49      0.60       344\n",
            "           0       0.27      0.68      0.39       152\n",
            "           1       0.81      0.64      0.71       528\n",
            "\n",
            "    accuracy                           0.60      1024\n",
            "   macro avg       0.61      0.60      0.57      1024\n",
            "weighted avg       0.71      0.60      0.63      1024\n",
            "\n",
            "Mean Accuracy: 0.6382 (±0.0376)\n"
          ]
        }
      ]
    },
    {
      "cell_type": "code",
      "source": [
        "sampling_techniques_over = ['oversample']\n",
        "results = analyze_all_aspects_dl(df, aspects, sampling_techniques_over)"
      ],
      "metadata": {
        "id": "mNuD9y24Qgkf",
        "colab": {
          "base_uri": "https://localhost:8080/"
        },
        "outputId": "9b969908-d446-4364-edc3-7131fe4063cd",
        "collapsed": true
      },
      "execution_count": null,
      "outputs": [
        {
          "output_type": "stream",
          "name": "stdout",
          "text": [
            "\n",
            "Analyzing aspect: Acting\n",
            "\n",
            "Using oversample sampling:\n"
          ]
        },
        {
          "output_type": "stream",
          "name": "stderr",
          "text": [
            "/usr/local/lib/python3.10/dist-packages/sklearn/base.py:474: FutureWarning: `BaseEstimator._validate_data` is deprecated in 1.6 and will be removed in 1.7. Use `sklearn.utils.validation.validate_data` instead. This function becomes public and is part of the scikit-learn developer API.\n",
            "  warnings.warn(\n",
            "/usr/local/lib/python3.10/dist-packages/sklearn/utils/_tags.py:354: FutureWarning: The SMOTE or classes from which it inherits use `_get_tags` and `_more_tags`. Please define the `__sklearn_tags__` method, or inherit from `sklearn.base.BaseEstimator` and/or other appropriate mixins such as `sklearn.base.TransformerMixin`, `sklearn.base.ClassifierMixin`, `sklearn.base.RegressorMixin`, and `sklearn.base.OutlierMixin`. From scikit-learn 1.7, not defining `__sklearn_tags__` will raise an error.\n",
            "  warnings.warn(\n",
            "/usr/local/lib/python3.10/dist-packages/keras/src/layers/core/embedding.py:90: UserWarning: Argument `input_length` is deprecated. Just remove it.\n",
            "  warnings.warn(\n"
          ]
        },
        {
          "output_type": "stream",
          "name": "stdout",
          "text": [
            "\n",
            "Fold 1 Results:\n",
            "              precision    recall  f1-score   support\n",
            "\n",
            "          -1       0.09      0.12      0.10        34\n",
            "           0       0.89      0.91      0.90       770\n",
            "           1       0.72      0.63      0.67       221\n",
            "\n",
            "    accuracy                           0.82      1025\n",
            "   macro avg       0.57      0.55      0.56      1025\n",
            "weighted avg       0.83      0.82      0.83      1025\n",
            "\n"
          ]
        },
        {
          "output_type": "stream",
          "name": "stderr",
          "text": [
            "/usr/local/lib/python3.10/dist-packages/sklearn/base.py:474: FutureWarning: `BaseEstimator._validate_data` is deprecated in 1.6 and will be removed in 1.7. Use `sklearn.utils.validation.validate_data` instead. This function becomes public and is part of the scikit-learn developer API.\n",
            "  warnings.warn(\n",
            "/usr/local/lib/python3.10/dist-packages/sklearn/utils/_tags.py:354: FutureWarning: The SMOTE or classes from which it inherits use `_get_tags` and `_more_tags`. Please define the `__sklearn_tags__` method, or inherit from `sklearn.base.BaseEstimator` and/or other appropriate mixins such as `sklearn.base.TransformerMixin`, `sklearn.base.ClassifierMixin`, `sklearn.base.RegressorMixin`, and `sklearn.base.OutlierMixin`. From scikit-learn 1.7, not defining `__sklearn_tags__` will raise an error.\n",
            "  warnings.warn(\n",
            "/usr/local/lib/python3.10/dist-packages/keras/src/layers/core/embedding.py:90: UserWarning: Argument `input_length` is deprecated. Just remove it.\n",
            "  warnings.warn(\n"
          ]
        },
        {
          "output_type": "stream",
          "name": "stdout",
          "text": [
            "\n",
            "Fold 2 Results:\n",
            "              precision    recall  f1-score   support\n",
            "\n",
            "          -1       0.09      0.12      0.11        33\n",
            "           0       0.85      0.90      0.87       769\n",
            "           1       0.64      0.47      0.54       222\n",
            "\n",
            "    accuracy                           0.78      1024\n",
            "   macro avg       0.53      0.50      0.51      1024\n",
            "weighted avg       0.78      0.78      0.78      1024\n",
            "\n"
          ]
        },
        {
          "output_type": "stream",
          "name": "stderr",
          "text": [
            "/usr/local/lib/python3.10/dist-packages/sklearn/base.py:474: FutureWarning: `BaseEstimator._validate_data` is deprecated in 1.6 and will be removed in 1.7. Use `sklearn.utils.validation.validate_data` instead. This function becomes public and is part of the scikit-learn developer API.\n",
            "  warnings.warn(\n",
            "/usr/local/lib/python3.10/dist-packages/sklearn/utils/_tags.py:354: FutureWarning: The SMOTE or classes from which it inherits use `_get_tags` and `_more_tags`. Please define the `__sklearn_tags__` method, or inherit from `sklearn.base.BaseEstimator` and/or other appropriate mixins such as `sklearn.base.TransformerMixin`, `sklearn.base.ClassifierMixin`, `sklearn.base.RegressorMixin`, and `sklearn.base.OutlierMixin`. From scikit-learn 1.7, not defining `__sklearn_tags__` will raise an error.\n",
            "  warnings.warn(\n",
            "/usr/local/lib/python3.10/dist-packages/keras/src/layers/core/embedding.py:90: UserWarning: Argument `input_length` is deprecated. Just remove it.\n",
            "  warnings.warn(\n"
          ]
        },
        {
          "output_type": "stream",
          "name": "stdout",
          "text": [
            "\n",
            "Fold 3 Results:\n",
            "              precision    recall  f1-score   support\n",
            "\n",
            "          -1       0.02      0.03      0.03        33\n",
            "           0       0.87      0.88      0.88       769\n",
            "           1       0.64      0.61      0.62       222\n",
            "\n",
            "    accuracy                           0.79      1024\n",
            "   macro avg       0.51      0.50      0.51      1024\n",
            "weighted avg       0.80      0.79      0.79      1024\n",
            "\n"
          ]
        },
        {
          "output_type": "stream",
          "name": "stderr",
          "text": [
            "/usr/local/lib/python3.10/dist-packages/sklearn/base.py:474: FutureWarning: `BaseEstimator._validate_data` is deprecated in 1.6 and will be removed in 1.7. Use `sklearn.utils.validation.validate_data` instead. This function becomes public and is part of the scikit-learn developer API.\n",
            "  warnings.warn(\n",
            "/usr/local/lib/python3.10/dist-packages/sklearn/utils/_tags.py:354: FutureWarning: The SMOTE or classes from which it inherits use `_get_tags` and `_more_tags`. Please define the `__sklearn_tags__` method, or inherit from `sklearn.base.BaseEstimator` and/or other appropriate mixins such as `sklearn.base.TransformerMixin`, `sklearn.base.ClassifierMixin`, `sklearn.base.RegressorMixin`, and `sklearn.base.OutlierMixin`. From scikit-learn 1.7, not defining `__sklearn_tags__` will raise an error.\n",
            "  warnings.warn(\n",
            "/usr/local/lib/python3.10/dist-packages/keras/src/layers/core/embedding.py:90: UserWarning: Argument `input_length` is deprecated. Just remove it.\n",
            "  warnings.warn(\n"
          ]
        },
        {
          "output_type": "stream",
          "name": "stdout",
          "text": [
            "\n",
            "Fold 4 Results:\n",
            "              precision    recall  f1-score   support\n",
            "\n",
            "          -1       0.07      0.12      0.09        33\n",
            "           0       0.89      0.83      0.86       769\n",
            "           1       0.59      0.65      0.62       222\n",
            "\n",
            "    accuracy                           0.77      1024\n",
            "   macro avg       0.51      0.53      0.52      1024\n",
            "weighted avg       0.80      0.77      0.78      1024\n",
            "\n"
          ]
        },
        {
          "output_type": "stream",
          "name": "stderr",
          "text": [
            "/usr/local/lib/python3.10/dist-packages/sklearn/base.py:474: FutureWarning: `BaseEstimator._validate_data` is deprecated in 1.6 and will be removed in 1.7. Use `sklearn.utils.validation.validate_data` instead. This function becomes public and is part of the scikit-learn developer API.\n",
            "  warnings.warn(\n",
            "/usr/local/lib/python3.10/dist-packages/sklearn/utils/_tags.py:354: FutureWarning: The SMOTE or classes from which it inherits use `_get_tags` and `_more_tags`. Please define the `__sklearn_tags__` method, or inherit from `sklearn.base.BaseEstimator` and/or other appropriate mixins such as `sklearn.base.TransformerMixin`, `sklearn.base.ClassifierMixin`, `sklearn.base.RegressorMixin`, and `sklearn.base.OutlierMixin`. From scikit-learn 1.7, not defining `__sklearn_tags__` will raise an error.\n",
            "  warnings.warn(\n",
            "/usr/local/lib/python3.10/dist-packages/keras/src/layers/core/embedding.py:90: UserWarning: Argument `input_length` is deprecated. Just remove it.\n",
            "  warnings.warn(\n"
          ]
        },
        {
          "output_type": "stream",
          "name": "stdout",
          "text": [
            "\n",
            "Fold 5 Results:\n",
            "              precision    recall  f1-score   support\n",
            "\n",
            "          -1       0.06      0.06      0.06        34\n",
            "           0       0.89      0.81      0.85       769\n",
            "           1       0.54      0.70      0.61       221\n",
            "\n",
            "    accuracy                           0.76      1024\n",
            "   macro avg       0.49      0.52      0.50      1024\n",
            "weighted avg       0.79      0.76      0.77      1024\n",
            "\n",
            "Mean Accuracy: 0.7852 (±0.0223)\n",
            "\n",
            "Analyzing aspect: direction\n",
            "\n",
            "Using oversample sampling:\n"
          ]
        },
        {
          "output_type": "stream",
          "name": "stderr",
          "text": [
            "/usr/local/lib/python3.10/dist-packages/sklearn/base.py:474: FutureWarning: `BaseEstimator._validate_data` is deprecated in 1.6 and will be removed in 1.7. Use `sklearn.utils.validation.validate_data` instead. This function becomes public and is part of the scikit-learn developer API.\n",
            "  warnings.warn(\n",
            "/usr/local/lib/python3.10/dist-packages/sklearn/utils/_tags.py:354: FutureWarning: The SMOTE or classes from which it inherits use `_get_tags` and `_more_tags`. Please define the `__sklearn_tags__` method, or inherit from `sklearn.base.BaseEstimator` and/or other appropriate mixins such as `sklearn.base.TransformerMixin`, `sklearn.base.ClassifierMixin`, `sklearn.base.RegressorMixin`, and `sklearn.base.OutlierMixin`. From scikit-learn 1.7, not defining `__sklearn_tags__` will raise an error.\n",
            "  warnings.warn(\n",
            "/usr/local/lib/python3.10/dist-packages/keras/src/layers/core/embedding.py:90: UserWarning: Argument `input_length` is deprecated. Just remove it.\n",
            "  warnings.warn(\n"
          ]
        },
        {
          "output_type": "stream",
          "name": "stdout",
          "text": [
            "\n",
            "Fold 1 Results:\n",
            "              precision    recall  f1-score   support\n",
            "\n",
            "          -1       0.34      0.37      0.35       139\n",
            "           0       0.88      0.77      0.82       824\n",
            "           1       0.20      0.48      0.28        62\n",
            "\n",
            "    accuracy                           0.70      1025\n",
            "   macro avg       0.47      0.54      0.48      1025\n",
            "weighted avg       0.77      0.70      0.72      1025\n",
            "\n"
          ]
        },
        {
          "output_type": "stream",
          "name": "stderr",
          "text": [
            "/usr/local/lib/python3.10/dist-packages/sklearn/base.py:474: FutureWarning: `BaseEstimator._validate_data` is deprecated in 1.6 and will be removed in 1.7. Use `sklearn.utils.validation.validate_data` instead. This function becomes public and is part of the scikit-learn developer API.\n",
            "  warnings.warn(\n",
            "/usr/local/lib/python3.10/dist-packages/sklearn/utils/_tags.py:354: FutureWarning: The SMOTE or classes from which it inherits use `_get_tags` and `_more_tags`. Please define the `__sklearn_tags__` method, or inherit from `sklearn.base.BaseEstimator` and/or other appropriate mixins such as `sklearn.base.TransformerMixin`, `sklearn.base.ClassifierMixin`, `sklearn.base.RegressorMixin`, and `sklearn.base.OutlierMixin`. From scikit-learn 1.7, not defining `__sklearn_tags__` will raise an error.\n",
            "  warnings.warn(\n",
            "/usr/local/lib/python3.10/dist-packages/keras/src/layers/core/embedding.py:90: UserWarning: Argument `input_length` is deprecated. Just remove it.\n",
            "  warnings.warn(\n"
          ]
        },
        {
          "output_type": "stream",
          "name": "stdout",
          "text": [
            "\n",
            "Fold 2 Results:\n",
            "              precision    recall  f1-score   support\n",
            "\n",
            "          -1       0.38      0.48      0.42       138\n",
            "           0       0.88      0.77      0.82       824\n",
            "           1       0.20      0.40      0.27        62\n",
            "\n",
            "    accuracy                           0.71      1024\n",
            "   macro avg       0.49      0.55      0.50      1024\n",
            "weighted avg       0.77      0.71      0.74      1024\n",
            "\n"
          ]
        },
        {
          "output_type": "stream",
          "name": "stderr",
          "text": [
            "/usr/local/lib/python3.10/dist-packages/sklearn/base.py:474: FutureWarning: `BaseEstimator._validate_data` is deprecated in 1.6 and will be removed in 1.7. Use `sklearn.utils.validation.validate_data` instead. This function becomes public and is part of the scikit-learn developer API.\n",
            "  warnings.warn(\n",
            "/usr/local/lib/python3.10/dist-packages/sklearn/utils/_tags.py:354: FutureWarning: The SMOTE or classes from which it inherits use `_get_tags` and `_more_tags`. Please define the `__sklearn_tags__` method, or inherit from `sklearn.base.BaseEstimator` and/or other appropriate mixins such as `sklearn.base.TransformerMixin`, `sklearn.base.ClassifierMixin`, `sklearn.base.RegressorMixin`, and `sklearn.base.OutlierMixin`. From scikit-learn 1.7, not defining `__sklearn_tags__` will raise an error.\n",
            "  warnings.warn(\n",
            "/usr/local/lib/python3.10/dist-packages/keras/src/layers/core/embedding.py:90: UserWarning: Argument `input_length` is deprecated. Just remove it.\n",
            "  warnings.warn(\n"
          ]
        },
        {
          "output_type": "stream",
          "name": "stdout",
          "text": [
            "\n",
            "Fold 3 Results:\n",
            "              precision    recall  f1-score   support\n",
            "\n",
            "          -1       0.30      0.28      0.29       139\n",
            "           0       0.86      0.83      0.84       823\n",
            "           1       0.20      0.32      0.25        62\n",
            "\n",
            "    accuracy                           0.72      1024\n",
            "   macro avg       0.45      0.48      0.46      1024\n",
            "weighted avg       0.74      0.72      0.73      1024\n",
            "\n"
          ]
        },
        {
          "output_type": "stream",
          "name": "stderr",
          "text": [
            "/usr/local/lib/python3.10/dist-packages/sklearn/base.py:474: FutureWarning: `BaseEstimator._validate_data` is deprecated in 1.6 and will be removed in 1.7. Use `sklearn.utils.validation.validate_data` instead. This function becomes public and is part of the scikit-learn developer API.\n",
            "  warnings.warn(\n",
            "/usr/local/lib/python3.10/dist-packages/sklearn/utils/_tags.py:354: FutureWarning: The SMOTE or classes from which it inherits use `_get_tags` and `_more_tags`. Please define the `__sklearn_tags__` method, or inherit from `sklearn.base.BaseEstimator` and/or other appropriate mixins such as `sklearn.base.TransformerMixin`, `sklearn.base.ClassifierMixin`, `sklearn.base.RegressorMixin`, and `sklearn.base.OutlierMixin`. From scikit-learn 1.7, not defining `__sklearn_tags__` will raise an error.\n",
            "  warnings.warn(\n",
            "/usr/local/lib/python3.10/dist-packages/keras/src/layers/core/embedding.py:90: UserWarning: Argument `input_length` is deprecated. Just remove it.\n",
            "  warnings.warn(\n"
          ]
        },
        {
          "output_type": "stream",
          "name": "stdout",
          "text": [
            "\n",
            "Fold 4 Results:\n",
            "              precision    recall  f1-score   support\n",
            "\n",
            "          -1       0.34      0.65      0.44       139\n",
            "           0       0.91      0.78      0.84       823\n",
            "           1       0.38      0.34      0.36        62\n",
            "\n",
            "    accuracy                           0.73      1024\n",
            "   macro avg       0.54      0.59      0.55      1024\n",
            "weighted avg       0.80      0.73      0.76      1024\n",
            "\n"
          ]
        },
        {
          "output_type": "stream",
          "name": "stderr",
          "text": [
            "/usr/local/lib/python3.10/dist-packages/sklearn/base.py:474: FutureWarning: `BaseEstimator._validate_data` is deprecated in 1.6 and will be removed in 1.7. Use `sklearn.utils.validation.validate_data` instead. This function becomes public and is part of the scikit-learn developer API.\n",
            "  warnings.warn(\n",
            "/usr/local/lib/python3.10/dist-packages/sklearn/utils/_tags.py:354: FutureWarning: The SMOTE or classes from which it inherits use `_get_tags` and `_more_tags`. Please define the `__sklearn_tags__` method, or inherit from `sklearn.base.BaseEstimator` and/or other appropriate mixins such as `sklearn.base.TransformerMixin`, `sklearn.base.ClassifierMixin`, `sklearn.base.RegressorMixin`, and `sklearn.base.OutlierMixin`. From scikit-learn 1.7, not defining `__sklearn_tags__` will raise an error.\n",
            "  warnings.warn(\n",
            "/usr/local/lib/python3.10/dist-packages/keras/src/layers/core/embedding.py:90: UserWarning: Argument `input_length` is deprecated. Just remove it.\n",
            "  warnings.warn(\n"
          ]
        },
        {
          "output_type": "stream",
          "name": "stdout",
          "text": [
            "\n",
            "Fold 5 Results:\n",
            "              precision    recall  f1-score   support\n",
            "\n",
            "          -1       0.31      0.51      0.38       139\n",
            "           0       0.88      0.76      0.82       823\n",
            "           1       0.27      0.34      0.30        62\n",
            "\n",
            "    accuracy                           0.70      1024\n",
            "   macro avg       0.48      0.54      0.50      1024\n",
            "weighted avg       0.77      0.70      0.73      1024\n",
            "\n",
            "Mean Accuracy: 0.7135 (±0.0128)\n",
            "\n",
            "Analyzing aspect: Music\n",
            "\n",
            "Using oversample sampling:\n"
          ]
        },
        {
          "output_type": "stream",
          "name": "stderr",
          "text": [
            "/usr/local/lib/python3.10/dist-packages/sklearn/base.py:474: FutureWarning: `BaseEstimator._validate_data` is deprecated in 1.6 and will be removed in 1.7. Use `sklearn.utils.validation.validate_data` instead. This function becomes public and is part of the scikit-learn developer API.\n",
            "  warnings.warn(\n",
            "/usr/local/lib/python3.10/dist-packages/sklearn/utils/_tags.py:354: FutureWarning: The SMOTE or classes from which it inherits use `_get_tags` and `_more_tags`. Please define the `__sklearn_tags__` method, or inherit from `sklearn.base.BaseEstimator` and/or other appropriate mixins such as `sklearn.base.TransformerMixin`, `sklearn.base.ClassifierMixin`, `sklearn.base.RegressorMixin`, and `sklearn.base.OutlierMixin`. From scikit-learn 1.7, not defining `__sklearn_tags__` will raise an error.\n",
            "  warnings.warn(\n",
            "/usr/local/lib/python3.10/dist-packages/keras/src/layers/core/embedding.py:90: UserWarning: Argument `input_length` is deprecated. Just remove it.\n",
            "  warnings.warn(\n"
          ]
        },
        {
          "output_type": "stream",
          "name": "stdout",
          "text": [
            "\n",
            "Fold 1 Results:\n",
            "              precision    recall  f1-score   support\n",
            "\n",
            "          -1       0.12      0.14      0.13        22\n",
            "           0       0.97      0.94      0.96       897\n",
            "           1       0.55      0.71      0.62       106\n",
            "\n",
            "    accuracy                           0.90      1025\n",
            "   macro avg       0.55      0.59      0.57      1025\n",
            "weighted avg       0.91      0.90      0.90      1025\n",
            "\n"
          ]
        },
        {
          "output_type": "stream",
          "name": "stderr",
          "text": [
            "/usr/local/lib/python3.10/dist-packages/sklearn/base.py:474: FutureWarning: `BaseEstimator._validate_data` is deprecated in 1.6 and will be removed in 1.7. Use `sklearn.utils.validation.validate_data` instead. This function becomes public and is part of the scikit-learn developer API.\n",
            "  warnings.warn(\n",
            "/usr/local/lib/python3.10/dist-packages/sklearn/utils/_tags.py:354: FutureWarning: The SMOTE or classes from which it inherits use `_get_tags` and `_more_tags`. Please define the `__sklearn_tags__` method, or inherit from `sklearn.base.BaseEstimator` and/or other appropriate mixins such as `sklearn.base.TransformerMixin`, `sklearn.base.ClassifierMixin`, `sklearn.base.RegressorMixin`, and `sklearn.base.OutlierMixin`. From scikit-learn 1.7, not defining `__sklearn_tags__` will raise an error.\n",
            "  warnings.warn(\n",
            "/usr/local/lib/python3.10/dist-packages/keras/src/layers/core/embedding.py:90: UserWarning: Argument `input_length` is deprecated. Just remove it.\n",
            "  warnings.warn(\n"
          ]
        },
        {
          "output_type": "stream",
          "name": "stdout",
          "text": [
            "\n",
            "Fold 2 Results:\n",
            "              precision    recall  f1-score   support\n",
            "\n",
            "          -1       0.12      0.33      0.18        21\n",
            "           0       0.96      0.92      0.94       897\n",
            "           1       0.60      0.61      0.60       106\n",
            "\n",
            "    accuracy                           0.88      1024\n",
            "   macro avg       0.56      0.62      0.57      1024\n",
            "weighted avg       0.91      0.88      0.89      1024\n",
            "\n"
          ]
        },
        {
          "output_type": "stream",
          "name": "stderr",
          "text": [
            "/usr/local/lib/python3.10/dist-packages/sklearn/base.py:474: FutureWarning: `BaseEstimator._validate_data` is deprecated in 1.6 and will be removed in 1.7. Use `sklearn.utils.validation.validate_data` instead. This function becomes public and is part of the scikit-learn developer API.\n",
            "  warnings.warn(\n",
            "/usr/local/lib/python3.10/dist-packages/sklearn/utils/_tags.py:354: FutureWarning: The SMOTE or classes from which it inherits use `_get_tags` and `_more_tags`. Please define the `__sklearn_tags__` method, or inherit from `sklearn.base.BaseEstimator` and/or other appropriate mixins such as `sklearn.base.TransformerMixin`, `sklearn.base.ClassifierMixin`, `sklearn.base.RegressorMixin`, and `sklearn.base.OutlierMixin`. From scikit-learn 1.7, not defining `__sklearn_tags__` will raise an error.\n",
            "  warnings.warn(\n",
            "/usr/local/lib/python3.10/dist-packages/keras/src/layers/core/embedding.py:90: UserWarning: Argument `input_length` is deprecated. Just remove it.\n",
            "  warnings.warn(\n"
          ]
        },
        {
          "output_type": "stream",
          "name": "stdout",
          "text": [
            "\n",
            "Fold 3 Results:\n",
            "              precision    recall  f1-score   support\n",
            "\n",
            "          -1       0.12      0.33      0.18        21\n",
            "           0       0.98      0.90      0.94       897\n",
            "           1       0.50      0.65      0.56       106\n",
            "\n",
            "    accuracy                           0.86      1024\n",
            "   macro avg       0.53      0.63      0.56      1024\n",
            "weighted avg       0.91      0.86      0.88      1024\n",
            "\n"
          ]
        },
        {
          "output_type": "stream",
          "name": "stderr",
          "text": [
            "/usr/local/lib/python3.10/dist-packages/sklearn/base.py:474: FutureWarning: `BaseEstimator._validate_data` is deprecated in 1.6 and will be removed in 1.7. Use `sklearn.utils.validation.validate_data` instead. This function becomes public and is part of the scikit-learn developer API.\n",
            "  warnings.warn(\n",
            "/usr/local/lib/python3.10/dist-packages/sklearn/utils/_tags.py:354: FutureWarning: The SMOTE or classes from which it inherits use `_get_tags` and `_more_tags`. Please define the `__sklearn_tags__` method, or inherit from `sklearn.base.BaseEstimator` and/or other appropriate mixins such as `sklearn.base.TransformerMixin`, `sklearn.base.ClassifierMixin`, `sklearn.base.RegressorMixin`, and `sklearn.base.OutlierMixin`. From scikit-learn 1.7, not defining `__sklearn_tags__` will raise an error.\n",
            "  warnings.warn(\n",
            "/usr/local/lib/python3.10/dist-packages/keras/src/layers/core/embedding.py:90: UserWarning: Argument `input_length` is deprecated. Just remove it.\n",
            "  warnings.warn(\n"
          ]
        },
        {
          "output_type": "stream",
          "name": "stdout",
          "text": [
            "\n",
            "Fold 4 Results:\n",
            "              precision    recall  f1-score   support\n",
            "\n",
            "          -1       0.10      0.24      0.14        21\n",
            "           0       0.97      0.89      0.93       897\n",
            "           1       0.54      0.78      0.64       106\n",
            "\n",
            "    accuracy                           0.87      1024\n",
            "   macro avg       0.54      0.64      0.57      1024\n",
            "weighted avg       0.91      0.87      0.88      1024\n",
            "\n"
          ]
        },
        {
          "output_type": "stream",
          "name": "stderr",
          "text": [
            "/usr/local/lib/python3.10/dist-packages/sklearn/base.py:474: FutureWarning: `BaseEstimator._validate_data` is deprecated in 1.6 and will be removed in 1.7. Use `sklearn.utils.validation.validate_data` instead. This function becomes public and is part of the scikit-learn developer API.\n",
            "  warnings.warn(\n",
            "/usr/local/lib/python3.10/dist-packages/sklearn/utils/_tags.py:354: FutureWarning: The SMOTE or classes from which it inherits use `_get_tags` and `_more_tags`. Please define the `__sklearn_tags__` method, or inherit from `sklearn.base.BaseEstimator` and/or other appropriate mixins such as `sklearn.base.TransformerMixin`, `sklearn.base.ClassifierMixin`, `sklearn.base.RegressorMixin`, and `sklearn.base.OutlierMixin`. From scikit-learn 1.7, not defining `__sklearn_tags__` will raise an error.\n",
            "  warnings.warn(\n",
            "/usr/local/lib/python3.10/dist-packages/keras/src/layers/core/embedding.py:90: UserWarning: Argument `input_length` is deprecated. Just remove it.\n",
            "  warnings.warn(\n"
          ]
        },
        {
          "output_type": "stream",
          "name": "stdout",
          "text": [
            "\n",
            "Fold 5 Results:\n",
            "              precision    recall  f1-score   support\n",
            "\n",
            "          -1       0.13      0.32      0.18        22\n",
            "           0       0.96      0.94      0.95       896\n",
            "           1       0.62      0.58      0.60       106\n",
            "\n",
            "    accuracy                           0.89      1024\n",
            "   macro avg       0.57      0.61      0.58      1024\n",
            "weighted avg       0.91      0.89      0.90      1024\n",
            "\n",
            "Mean Accuracy: 0.8779 (±0.0122)\n",
            "\n",
            "Analyzing aspect: Genre\n",
            "\n",
            "Using oversample sampling:\n"
          ]
        },
        {
          "output_type": "stream",
          "name": "stderr",
          "text": [
            "/usr/local/lib/python3.10/dist-packages/sklearn/base.py:474: FutureWarning: `BaseEstimator._validate_data` is deprecated in 1.6 and will be removed in 1.7. Use `sklearn.utils.validation.validate_data` instead. This function becomes public and is part of the scikit-learn developer API.\n",
            "  warnings.warn(\n",
            "/usr/local/lib/python3.10/dist-packages/sklearn/utils/_tags.py:354: FutureWarning: The SMOTE or classes from which it inherits use `_get_tags` and `_more_tags`. Please define the `__sklearn_tags__` method, or inherit from `sklearn.base.BaseEstimator` and/or other appropriate mixins such as `sklearn.base.TransformerMixin`, `sklearn.base.ClassifierMixin`, `sklearn.base.RegressorMixin`, and `sklearn.base.OutlierMixin`. From scikit-learn 1.7, not defining `__sklearn_tags__` will raise an error.\n",
            "  warnings.warn(\n",
            "/usr/local/lib/python3.10/dist-packages/keras/src/layers/core/embedding.py:90: UserWarning: Argument `input_length` is deprecated. Just remove it.\n",
            "  warnings.warn(\n"
          ]
        },
        {
          "output_type": "stream",
          "name": "stdout",
          "text": [
            "\n",
            "Fold 1 Results:\n",
            "              precision    recall  f1-score   support\n",
            "\n",
            "          -1       0.00      0.00      0.00        10\n",
            "           0       0.97      0.84      0.90       975\n",
            "           1       0.11      0.35      0.16        40\n",
            "\n",
            "    accuracy                           0.81      1025\n",
            "   macro avg       0.36      0.40      0.35      1025\n",
            "weighted avg       0.92      0.81      0.86      1025\n",
            "\n"
          ]
        },
        {
          "output_type": "stream",
          "name": "stderr",
          "text": [
            "/usr/local/lib/python3.10/dist-packages/sklearn/base.py:474: FutureWarning: `BaseEstimator._validate_data` is deprecated in 1.6 and will be removed in 1.7. Use `sklearn.utils.validation.validate_data` instead. This function becomes public and is part of the scikit-learn developer API.\n",
            "  warnings.warn(\n",
            "/usr/local/lib/python3.10/dist-packages/sklearn/utils/_tags.py:354: FutureWarning: The SMOTE or classes from which it inherits use `_get_tags` and `_more_tags`. Please define the `__sklearn_tags__` method, or inherit from `sklearn.base.BaseEstimator` and/or other appropriate mixins such as `sklearn.base.TransformerMixin`, `sklearn.base.ClassifierMixin`, `sklearn.base.RegressorMixin`, and `sklearn.base.OutlierMixin`. From scikit-learn 1.7, not defining `__sklearn_tags__` will raise an error.\n",
            "  warnings.warn(\n",
            "/usr/local/lib/python3.10/dist-packages/keras/src/layers/core/embedding.py:90: UserWarning: Argument `input_length` is deprecated. Just remove it.\n",
            "  warnings.warn(\n"
          ]
        },
        {
          "output_type": "stream",
          "name": "stdout",
          "text": [
            "\n",
            "Fold 2 Results:\n",
            "              precision    recall  f1-score   support\n",
            "\n",
            "          -1       0.02      0.09      0.04        11\n",
            "           0       0.96      0.89      0.92       974\n",
            "           1       0.11      0.21      0.14        39\n",
            "\n",
            "    accuracy                           0.86      1024\n",
            "   macro avg       0.36      0.40      0.37      1024\n",
            "weighted avg       0.92      0.86      0.89      1024\n",
            "\n"
          ]
        },
        {
          "output_type": "stream",
          "name": "stderr",
          "text": [
            "/usr/local/lib/python3.10/dist-packages/sklearn/base.py:474: FutureWarning: `BaseEstimator._validate_data` is deprecated in 1.6 and will be removed in 1.7. Use `sklearn.utils.validation.validate_data` instead. This function becomes public and is part of the scikit-learn developer API.\n",
            "  warnings.warn(\n",
            "/usr/local/lib/python3.10/dist-packages/sklearn/utils/_tags.py:354: FutureWarning: The SMOTE or classes from which it inherits use `_get_tags` and `_more_tags`. Please define the `__sklearn_tags__` method, or inherit from `sklearn.base.BaseEstimator` and/or other appropriate mixins such as `sklearn.base.TransformerMixin`, `sklearn.base.ClassifierMixin`, `sklearn.base.RegressorMixin`, and `sklearn.base.OutlierMixin`. From scikit-learn 1.7, not defining `__sklearn_tags__` will raise an error.\n",
            "  warnings.warn(\n",
            "/usr/local/lib/python3.10/dist-packages/keras/src/layers/core/embedding.py:90: UserWarning: Argument `input_length` is deprecated. Just remove it.\n",
            "  warnings.warn(\n"
          ]
        },
        {
          "output_type": "stream",
          "name": "stdout",
          "text": [
            "\n",
            "Fold 3 Results:\n",
            "              precision    recall  f1-score   support\n",
            "\n",
            "          -1       0.00      0.00      0.00        11\n",
            "           0       0.97      0.92      0.94       974\n",
            "           1       0.19      0.36      0.25        39\n",
            "\n",
            "    accuracy                           0.89      1024\n",
            "   macro avg       0.39      0.43      0.40      1024\n",
            "weighted avg       0.93      0.89      0.91      1024\n",
            "\n"
          ]
        },
        {
          "output_type": "stream",
          "name": "stderr",
          "text": [
            "/usr/local/lib/python3.10/dist-packages/sklearn/base.py:474: FutureWarning: `BaseEstimator._validate_data` is deprecated in 1.6 and will be removed in 1.7. Use `sklearn.utils.validation.validate_data` instead. This function becomes public and is part of the scikit-learn developer API.\n",
            "  warnings.warn(\n",
            "/usr/local/lib/python3.10/dist-packages/sklearn/utils/_tags.py:354: FutureWarning: The SMOTE or classes from which it inherits use `_get_tags` and `_more_tags`. Please define the `__sklearn_tags__` method, or inherit from `sklearn.base.BaseEstimator` and/or other appropriate mixins such as `sklearn.base.TransformerMixin`, `sklearn.base.ClassifierMixin`, `sklearn.base.RegressorMixin`, and `sklearn.base.OutlierMixin`. From scikit-learn 1.7, not defining `__sklearn_tags__` will raise an error.\n",
            "  warnings.warn(\n",
            "/usr/local/lib/python3.10/dist-packages/keras/src/layers/core/embedding.py:90: UserWarning: Argument `input_length` is deprecated. Just remove it.\n",
            "  warnings.warn(\n"
          ]
        },
        {
          "output_type": "stream",
          "name": "stdout",
          "text": [
            "\n",
            "Fold 4 Results:\n",
            "              precision    recall  f1-score   support\n",
            "\n",
            "          -1       0.00      0.00      0.00        11\n",
            "           0       0.97      0.87      0.91       974\n",
            "           1       0.13      0.38      0.20        39\n",
            "\n",
            "    accuracy                           0.84      1024\n",
            "   macro avg       0.37      0.42      0.37      1024\n",
            "weighted avg       0.92      0.84      0.88      1024\n",
            "\n"
          ]
        },
        {
          "output_type": "stream",
          "name": "stderr",
          "text": [
            "/usr/local/lib/python3.10/dist-packages/sklearn/base.py:474: FutureWarning: `BaseEstimator._validate_data` is deprecated in 1.6 and will be removed in 1.7. Use `sklearn.utils.validation.validate_data` instead. This function becomes public and is part of the scikit-learn developer API.\n",
            "  warnings.warn(\n",
            "/usr/local/lib/python3.10/dist-packages/sklearn/utils/_tags.py:354: FutureWarning: The SMOTE or classes from which it inherits use `_get_tags` and `_more_tags`. Please define the `__sklearn_tags__` method, or inherit from `sklearn.base.BaseEstimator` and/or other appropriate mixins such as `sklearn.base.TransformerMixin`, `sklearn.base.ClassifierMixin`, `sklearn.base.RegressorMixin`, and `sklearn.base.OutlierMixin`. From scikit-learn 1.7, not defining `__sklearn_tags__` will raise an error.\n",
            "  warnings.warn(\n",
            "/usr/local/lib/python3.10/dist-packages/keras/src/layers/core/embedding.py:90: UserWarning: Argument `input_length` is deprecated. Just remove it.\n",
            "  warnings.warn(\n"
          ]
        },
        {
          "output_type": "stream",
          "name": "stdout",
          "text": [
            "\n",
            "Fold 5 Results:\n",
            "              precision    recall  f1-score   support\n",
            "\n",
            "          -1       0.00      0.00      0.00        10\n",
            "           0       0.96      0.91      0.93       974\n",
            "           1       0.12      0.20      0.15        40\n",
            "\n",
            "    accuracy                           0.87      1024\n",
            "   macro avg       0.36      0.37      0.36      1024\n",
            "weighted avg       0.92      0.87      0.89      1024\n",
            "\n",
            "Mean Accuracy: 0.8528 (±0.0272)\n",
            "\n",
            "Analyzing aspect: excitement\n",
            "\n",
            "Using oversample sampling:\n"
          ]
        },
        {
          "output_type": "stream",
          "name": "stderr",
          "text": [
            "/usr/local/lib/python3.10/dist-packages/sklearn/base.py:474: FutureWarning: `BaseEstimator._validate_data` is deprecated in 1.6 and will be removed in 1.7. Use `sklearn.utils.validation.validate_data` instead. This function becomes public and is part of the scikit-learn developer API.\n",
            "  warnings.warn(\n",
            "/usr/local/lib/python3.10/dist-packages/sklearn/utils/_tags.py:354: FutureWarning: The SMOTE or classes from which it inherits use `_get_tags` and `_more_tags`. Please define the `__sklearn_tags__` method, or inherit from `sklearn.base.BaseEstimator` and/or other appropriate mixins such as `sklearn.base.TransformerMixin`, `sklearn.base.ClassifierMixin`, `sklearn.base.RegressorMixin`, and `sklearn.base.OutlierMixin`. From scikit-learn 1.7, not defining `__sklearn_tags__` will raise an error.\n",
            "  warnings.warn(\n",
            "/usr/local/lib/python3.10/dist-packages/keras/src/layers/core/embedding.py:90: UserWarning: Argument `input_length` is deprecated. Just remove it.\n",
            "  warnings.warn(\n"
          ]
        },
        {
          "output_type": "stream",
          "name": "stdout",
          "text": [
            "\n",
            "Fold 1 Results:\n",
            "              precision    recall  f1-score   support\n",
            "\n",
            "          -1       0.32      0.32      0.32       152\n",
            "           0       0.70      0.68      0.69       583\n",
            "           1       0.57      0.62      0.59       290\n",
            "\n",
            "    accuracy                           0.61      1025\n",
            "   macro avg       0.53      0.54      0.53      1025\n",
            "weighted avg       0.61      0.61      0.61      1025\n",
            "\n"
          ]
        },
        {
          "output_type": "stream",
          "name": "stderr",
          "text": [
            "/usr/local/lib/python3.10/dist-packages/sklearn/base.py:474: FutureWarning: `BaseEstimator._validate_data` is deprecated in 1.6 and will be removed in 1.7. Use `sklearn.utils.validation.validate_data` instead. This function becomes public and is part of the scikit-learn developer API.\n",
            "  warnings.warn(\n",
            "/usr/local/lib/python3.10/dist-packages/sklearn/utils/_tags.py:354: FutureWarning: The SMOTE or classes from which it inherits use `_get_tags` and `_more_tags`. Please define the `__sklearn_tags__` method, or inherit from `sklearn.base.BaseEstimator` and/or other appropriate mixins such as `sklearn.base.TransformerMixin`, `sklearn.base.ClassifierMixin`, `sklearn.base.RegressorMixin`, and `sklearn.base.OutlierMixin`. From scikit-learn 1.7, not defining `__sklearn_tags__` will raise an error.\n",
            "  warnings.warn(\n",
            "/usr/local/lib/python3.10/dist-packages/keras/src/layers/core/embedding.py:90: UserWarning: Argument `input_length` is deprecated. Just remove it.\n",
            "  warnings.warn(\n"
          ]
        },
        {
          "output_type": "stream",
          "name": "stdout",
          "text": [
            "\n",
            "Fold 2 Results:\n",
            "              precision    recall  f1-score   support\n",
            "\n",
            "          -1       0.34      0.45      0.39       152\n",
            "           0       0.72      0.58      0.64       583\n",
            "           1       0.51      0.63      0.57       289\n",
            "\n",
            "    accuracy                           0.58      1024\n",
            "   macro avg       0.53      0.55      0.53      1024\n",
            "weighted avg       0.61      0.58      0.58      1024\n",
            "\n"
          ]
        },
        {
          "output_type": "stream",
          "name": "stderr",
          "text": [
            "/usr/local/lib/python3.10/dist-packages/sklearn/base.py:474: FutureWarning: `BaseEstimator._validate_data` is deprecated in 1.6 and will be removed in 1.7. Use `sklearn.utils.validation.validate_data` instead. This function becomes public and is part of the scikit-learn developer API.\n",
            "  warnings.warn(\n",
            "/usr/local/lib/python3.10/dist-packages/sklearn/utils/_tags.py:354: FutureWarning: The SMOTE or classes from which it inherits use `_get_tags` and `_more_tags`. Please define the `__sklearn_tags__` method, or inherit from `sklearn.base.BaseEstimator` and/or other appropriate mixins such as `sklearn.base.TransformerMixin`, `sklearn.base.ClassifierMixin`, `sklearn.base.RegressorMixin`, and `sklearn.base.OutlierMixin`. From scikit-learn 1.7, not defining `__sklearn_tags__` will raise an error.\n",
            "  warnings.warn(\n",
            "/usr/local/lib/python3.10/dist-packages/keras/src/layers/core/embedding.py:90: UserWarning: Argument `input_length` is deprecated. Just remove it.\n",
            "  warnings.warn(\n"
          ]
        },
        {
          "output_type": "stream",
          "name": "stdout",
          "text": [
            "\n",
            "Fold 3 Results:\n",
            "              precision    recall  f1-score   support\n",
            "\n",
            "          -1       0.39      0.44      0.41       151\n",
            "           0       0.68      0.74      0.71       583\n",
            "           1       0.66      0.51      0.57       290\n",
            "\n",
            "    accuracy                           0.63      1024\n",
            "   macro avg       0.58      0.56      0.56      1024\n",
            "weighted avg       0.63      0.63      0.63      1024\n",
            "\n"
          ]
        },
        {
          "output_type": "stream",
          "name": "stderr",
          "text": [
            "/usr/local/lib/python3.10/dist-packages/sklearn/base.py:474: FutureWarning: `BaseEstimator._validate_data` is deprecated in 1.6 and will be removed in 1.7. Use `sklearn.utils.validation.validate_data` instead. This function becomes public and is part of the scikit-learn developer API.\n",
            "  warnings.warn(\n",
            "/usr/local/lib/python3.10/dist-packages/sklearn/utils/_tags.py:354: FutureWarning: The SMOTE or classes from which it inherits use `_get_tags` and `_more_tags`. Please define the `__sklearn_tags__` method, or inherit from `sklearn.base.BaseEstimator` and/or other appropriate mixins such as `sklearn.base.TransformerMixin`, `sklearn.base.ClassifierMixin`, `sklearn.base.RegressorMixin`, and `sklearn.base.OutlierMixin`. From scikit-learn 1.7, not defining `__sklearn_tags__` will raise an error.\n",
            "  warnings.warn(\n",
            "/usr/local/lib/python3.10/dist-packages/keras/src/layers/core/embedding.py:90: UserWarning: Argument `input_length` is deprecated. Just remove it.\n",
            "  warnings.warn(\n"
          ]
        },
        {
          "output_type": "stream",
          "name": "stdout",
          "text": [
            "\n",
            "Fold 4 Results:\n",
            "              precision    recall  f1-score   support\n",
            "\n",
            "          -1       0.36      0.50      0.42       152\n",
            "           0       0.74      0.64      0.68       582\n",
            "           1       0.60      0.63      0.62       290\n",
            "\n",
            "    accuracy                           0.62      1024\n",
            "   macro avg       0.57      0.59      0.57      1024\n",
            "weighted avg       0.64      0.62      0.63      1024\n",
            "\n"
          ]
        },
        {
          "output_type": "stream",
          "name": "stderr",
          "text": [
            "/usr/local/lib/python3.10/dist-packages/sklearn/base.py:474: FutureWarning: `BaseEstimator._validate_data` is deprecated in 1.6 and will be removed in 1.7. Use `sklearn.utils.validation.validate_data` instead. This function becomes public and is part of the scikit-learn developer API.\n",
            "  warnings.warn(\n",
            "/usr/local/lib/python3.10/dist-packages/sklearn/utils/_tags.py:354: FutureWarning: The SMOTE or classes from which it inherits use `_get_tags` and `_more_tags`. Please define the `__sklearn_tags__` method, or inherit from `sklearn.base.BaseEstimator` and/or other appropriate mixins such as `sklearn.base.TransformerMixin`, `sklearn.base.ClassifierMixin`, `sklearn.base.RegressorMixin`, and `sklearn.base.OutlierMixin`. From scikit-learn 1.7, not defining `__sklearn_tags__` will raise an error.\n",
            "  warnings.warn(\n",
            "/usr/local/lib/python3.10/dist-packages/keras/src/layers/core/embedding.py:90: UserWarning: Argument `input_length` is deprecated. Just remove it.\n",
            "  warnings.warn(\n"
          ]
        },
        {
          "output_type": "stream",
          "name": "stdout",
          "text": [
            "\n",
            "Fold 5 Results:\n",
            "              precision    recall  f1-score   support\n",
            "\n",
            "          -1       0.41      0.35      0.38       152\n",
            "           0       0.69      0.73      0.71       582\n",
            "           1       0.58      0.57      0.57       290\n",
            "\n",
            "    accuracy                           0.63      1024\n",
            "   macro avg       0.56      0.55      0.55      1024\n",
            "weighted avg       0.62      0.63      0.62      1024\n",
            "\n",
            "Mean Accuracy: 0.6104 (±0.0193)\n",
            "\n",
            "Analyzing aspect: ovr_sent\n",
            "\n",
            "Using oversample sampling:\n"
          ]
        },
        {
          "output_type": "stream",
          "name": "stderr",
          "text": [
            "/usr/local/lib/python3.10/dist-packages/sklearn/base.py:474: FutureWarning: `BaseEstimator._validate_data` is deprecated in 1.6 and will be removed in 1.7. Use `sklearn.utils.validation.validate_data` instead. This function becomes public and is part of the scikit-learn developer API.\n",
            "  warnings.warn(\n",
            "/usr/local/lib/python3.10/dist-packages/sklearn/utils/_tags.py:354: FutureWarning: The SMOTE or classes from which it inherits use `_get_tags` and `_more_tags`. Please define the `__sklearn_tags__` method, or inherit from `sklearn.base.BaseEstimator` and/or other appropriate mixins such as `sklearn.base.TransformerMixin`, `sklearn.base.ClassifierMixin`, `sklearn.base.RegressorMixin`, and `sklearn.base.OutlierMixin`. From scikit-learn 1.7, not defining `__sklearn_tags__` will raise an error.\n",
            "  warnings.warn(\n",
            "/usr/local/lib/python3.10/dist-packages/keras/src/layers/core/embedding.py:90: UserWarning: Argument `input_length` is deprecated. Just remove it.\n",
            "  warnings.warn(\n"
          ]
        },
        {
          "output_type": "stream",
          "name": "stdout",
          "text": [
            "\n",
            "Fold 1 Results:\n",
            "              precision    recall  f1-score   support\n",
            "\n",
            "          -1       0.61      0.82      0.70       344\n",
            "           0       0.36      0.38      0.37       152\n",
            "           1       0.85      0.65      0.74       529\n",
            "\n",
            "    accuracy                           0.67      1025\n",
            "   macro avg       0.61      0.62      0.60      1025\n",
            "weighted avg       0.70      0.67      0.67      1025\n",
            "\n"
          ]
        },
        {
          "output_type": "stream",
          "name": "stderr",
          "text": [
            "/usr/local/lib/python3.10/dist-packages/sklearn/base.py:474: FutureWarning: `BaseEstimator._validate_data` is deprecated in 1.6 and will be removed in 1.7. Use `sklearn.utils.validation.validate_data` instead. This function becomes public and is part of the scikit-learn developer API.\n",
            "  warnings.warn(\n",
            "/usr/local/lib/python3.10/dist-packages/sklearn/utils/_tags.py:354: FutureWarning: The SMOTE or classes from which it inherits use `_get_tags` and `_more_tags`. Please define the `__sklearn_tags__` method, or inherit from `sklearn.base.BaseEstimator` and/or other appropriate mixins such as `sklearn.base.TransformerMixin`, `sklearn.base.ClassifierMixin`, `sklearn.base.RegressorMixin`, and `sklearn.base.OutlierMixin`. From scikit-learn 1.7, not defining `__sklearn_tags__` will raise an error.\n",
            "  warnings.warn(\n",
            "/usr/local/lib/python3.10/dist-packages/keras/src/layers/core/embedding.py:90: UserWarning: Argument `input_length` is deprecated. Just remove it.\n",
            "  warnings.warn(\n"
          ]
        },
        {
          "output_type": "stream",
          "name": "stdout",
          "text": [
            "\n",
            "Fold 2 Results:\n",
            "              precision    recall  f1-score   support\n",
            "\n",
            "          -1       0.71      0.58      0.64       343\n",
            "           0       0.32      0.46      0.37       152\n",
            "           1       0.78      0.76      0.77       529\n",
            "\n",
            "    accuracy                           0.66      1024\n",
            "   macro avg       0.60      0.60      0.59      1024\n",
            "weighted avg       0.68      0.66      0.67      1024\n",
            "\n"
          ]
        },
        {
          "output_type": "stream",
          "name": "stderr",
          "text": [
            "/usr/local/lib/python3.10/dist-packages/sklearn/base.py:474: FutureWarning: `BaseEstimator._validate_data` is deprecated in 1.6 and will be removed in 1.7. Use `sklearn.utils.validation.validate_data` instead. This function becomes public and is part of the scikit-learn developer API.\n",
            "  warnings.warn(\n",
            "/usr/local/lib/python3.10/dist-packages/sklearn/utils/_tags.py:354: FutureWarning: The SMOTE or classes from which it inherits use `_get_tags` and `_more_tags`. Please define the `__sklearn_tags__` method, or inherit from `sklearn.base.BaseEstimator` and/or other appropriate mixins such as `sklearn.base.TransformerMixin`, `sklearn.base.ClassifierMixin`, `sklearn.base.RegressorMixin`, and `sklearn.base.OutlierMixin`. From scikit-learn 1.7, not defining `__sklearn_tags__` will raise an error.\n",
            "  warnings.warn(\n",
            "/usr/local/lib/python3.10/dist-packages/keras/src/layers/core/embedding.py:90: UserWarning: Argument `input_length` is deprecated. Just remove it.\n",
            "  warnings.warn(\n"
          ]
        },
        {
          "output_type": "stream",
          "name": "stdout",
          "text": [
            "\n",
            "Fold 3 Results:\n",
            "              precision    recall  f1-score   support\n",
            "\n",
            "          -1       0.67      0.69      0.68       343\n",
            "           0       0.31      0.37      0.34       153\n",
            "           1       0.83      0.77      0.80       528\n",
            "\n",
            "    accuracy                           0.69      1024\n",
            "   macro avg       0.61      0.61      0.61      1024\n",
            "weighted avg       0.70      0.69      0.69      1024\n",
            "\n"
          ]
        },
        {
          "output_type": "stream",
          "name": "stderr",
          "text": [
            "/usr/local/lib/python3.10/dist-packages/sklearn/base.py:474: FutureWarning: `BaseEstimator._validate_data` is deprecated in 1.6 and will be removed in 1.7. Use `sklearn.utils.validation.validate_data` instead. This function becomes public and is part of the scikit-learn developer API.\n",
            "  warnings.warn(\n",
            "/usr/local/lib/python3.10/dist-packages/sklearn/utils/_tags.py:354: FutureWarning: The SMOTE or classes from which it inherits use `_get_tags` and `_more_tags`. Please define the `__sklearn_tags__` method, or inherit from `sklearn.base.BaseEstimator` and/or other appropriate mixins such as `sklearn.base.TransformerMixin`, `sklearn.base.ClassifierMixin`, `sklearn.base.RegressorMixin`, and `sklearn.base.OutlierMixin`. From scikit-learn 1.7, not defining `__sklearn_tags__` will raise an error.\n",
            "  warnings.warn(\n",
            "/usr/local/lib/python3.10/dist-packages/keras/src/layers/core/embedding.py:90: UserWarning: Argument `input_length` is deprecated. Just remove it.\n",
            "  warnings.warn(\n"
          ]
        },
        {
          "output_type": "stream",
          "name": "stdout",
          "text": [
            "\n",
            "Fold 4 Results:\n",
            "              precision    recall  f1-score   support\n",
            "\n",
            "          -1       0.64      0.76      0.70       344\n",
            "           0       0.31      0.49      0.38       152\n",
            "           1       0.88      0.61      0.72       528\n",
            "\n",
            "    accuracy                           0.64      1024\n",
            "   macro avg       0.61      0.62      0.60      1024\n",
            "weighted avg       0.71      0.64      0.66      1024\n",
            "\n"
          ]
        },
        {
          "output_type": "stream",
          "name": "stderr",
          "text": [
            "/usr/local/lib/python3.10/dist-packages/sklearn/base.py:474: FutureWarning: `BaseEstimator._validate_data` is deprecated in 1.6 and will be removed in 1.7. Use `sklearn.utils.validation.validate_data` instead. This function becomes public and is part of the scikit-learn developer API.\n",
            "  warnings.warn(\n",
            "/usr/local/lib/python3.10/dist-packages/sklearn/utils/_tags.py:354: FutureWarning: The SMOTE or classes from which it inherits use `_get_tags` and `_more_tags`. Please define the `__sklearn_tags__` method, or inherit from `sklearn.base.BaseEstimator` and/or other appropriate mixins such as `sklearn.base.TransformerMixin`, `sklearn.base.ClassifierMixin`, `sklearn.base.RegressorMixin`, and `sklearn.base.OutlierMixin`. From scikit-learn 1.7, not defining `__sklearn_tags__` will raise an error.\n",
            "  warnings.warn(\n",
            "/usr/local/lib/python3.10/dist-packages/keras/src/layers/core/embedding.py:90: UserWarning: Argument `input_length` is deprecated. Just remove it.\n",
            "  warnings.warn(\n"
          ]
        },
        {
          "output_type": "stream",
          "name": "stdout",
          "text": [
            "\n",
            "Fold 5 Results:\n",
            "              precision    recall  f1-score   support\n",
            "\n",
            "          -1       0.65      0.79      0.71       344\n",
            "           0       0.36      0.44      0.40       152\n",
            "           1       0.84      0.66      0.74       528\n",
            "\n",
            "    accuracy                           0.67      1024\n",
            "   macro avg       0.62      0.63      0.62      1024\n",
            "weighted avg       0.70      0.67      0.68      1024\n",
            "\n",
            "Mean Accuracy: 0.6657 (±0.0140)\n"
          ]
        }
      ]
    },
    {
      "cell_type": "code",
      "source": [
        "train_df = pd.read_csv(\"train_data.csv\")\n",
        "test_df = pd.read_csv(\"test_data.csv\")\n",
        "\n",
        "# Ensure EMBEDDING_DIM and embeddings_index are defined in your context\n",
        "\n",
        "def train_final_dl_models_from_csv(train_df, test_df, aspects):\n",
        "    \"\"\"\n",
        "    For each aspect, loads training data from train_df and testing data from test_df.\n",
        "    Performs 5-fold cross validation on the training data to select the best deep learning model,\n",
        "    averaging the training accuracy across folds and using class weights to address imbalanced datasets.\n",
        "    Evaluates the best model on both the training and test sets and prints classification reports.\n",
        "\n",
        "    Returns:\n",
        "        best_models: dict of best models (with their label encoder and tokenizer) for each aspect.\n",
        "        train_reports: dict of training classification reports for each aspect.\n",
        "        test_reports: dict of test classification reports for each aspect.\n",
        "    \"\"\"\n",
        "    best_models = {}\n",
        "    train_reports = {}\n",
        "    test_reports = {}\n",
        "    maxlen = 15  # Maximum sequence length\n",
        "\n",
        "    for aspect in aspects:\n",
        "        print(f\"\\n=== Processing aspect: {aspect} ===\")\n",
        "        # Prepare the data for the current aspect\n",
        "        X_train, y_train = prepare_data(train_df, aspect)\n",
        "        X_test, y_test = prepare_data(test_df, aspect)\n",
        "\n",
        "        # Encode target labels\n",
        "        le = LabelEncoder()\n",
        "        y_train_encoded = le.fit_transform(y_train)\n",
        "        y_test_encoded = le.transform(y_test)  # Use the same encoder for test data\n",
        "        target_names = [str(label) for label in le.classes_]\n",
        "\n",
        "        # Tokenize the training texts and pad sequences\n",
        "        tokenizer = Tokenizer()\n",
        "        tokenizer.fit_on_texts(X_train['clean_text'])\n",
        "        train_sequences = tokenizer.texts_to_sequences(X_train['clean_text'])\n",
        "        test_sequences = tokenizer.texts_to_sequences(X_test['clean_text'])\n",
        "        X_train_padded = pad_sequences(train_sequences, maxlen=maxlen)\n",
        "        X_test_padded = pad_sequences(test_sequences, maxlen=maxlen)\n",
        "\n",
        "        # Prepare the embedding matrix using the tokenizer's word index\n",
        "        word_index = tokenizer.word_index\n",
        "        num_words = len(word_index) + 1\n",
        "        embedding_matrix = np.zeros((num_words, EMBEDDING_DIM))\n",
        "        for word, i in word_index.items():\n",
        "            embedding_vector = embeddings_index.get(word)\n",
        "            if embedding_vector is not None:\n",
        "                if len(embedding_vector) == EMBEDDING_DIM:\n",
        "                    embedding_matrix[i] = embedding_vector\n",
        "                else:\n",
        "                    print(f\"Warning: Embedding for '{word}' has unexpected dimension {len(embedding_vector)}. Skipping.\")\n",
        "        vocab_size = num_words\n",
        "\n",
        "        # Cross-validation on the training data to select the best model\n",
        "        skf = StratifiedKFold(n_splits=10, shuffle=True, random_state=42)\n",
        "        best_cv_score = -np.inf\n",
        "        best_model = None\n",
        "        cv_train_scores = []  # To store training accuracies for each fold\n",
        "\n",
        "        for fold, (cv_train_idx, cv_val_idx) in enumerate(skf.split(X_train_padded, y_train_encoded)):\n",
        "            X_cv_train = X_train_padded[cv_train_idx]\n",
        "            y_cv_train = y_train_encoded[cv_train_idx]\n",
        "            X_cv_val = X_train_padded[cv_val_idx]\n",
        "            y_cv_val = y_train_encoded[cv_val_idx]\n",
        "\n",
        "            # Compute class weights to address imbalance\n",
        "            classes = np.unique(y_cv_train)\n",
        "            cw = compute_class_weight(class_weight='balanced', classes=classes, y=y_cv_train)\n",
        "            class_weight = dict(zip(classes, cw))\n",
        "\n",
        "            # Define the model architecture\n",
        "            input_layer = tf.keras.layers.Input(shape=(maxlen,))\n",
        "            embedding_layer = tf.keras.layers.Embedding(\n",
        "                vocab_size,\n",
        "                EMBEDDING_DIM,\n",
        "                weights=[embedding_matrix],\n",
        "                trainable=False\n",
        "            )(input_layer)\n",
        "            conv = tf.keras.layers.Conv1D(200, kernel_size=3, activation=\"relu\")(embedding_layer)\n",
        "            bi_lstm = tf.keras.layers.Bidirectional(tf.keras.layers.LSTM(128, dropout=0.3, recurrent_dropout=0.2, return_sequences=True))(conv)\n",
        "            drop = tf.keras.layers.Dropout(0.2)(bi_lstm)\n",
        "            dense = tf.keras.layers.Dense(128, activation='relu',\n",
        "                                          kernel_regularizer=tf.keras.regularizers.l1_l2(l1=0.01, l2=0.01))(drop)\n",
        "            flat = tf.keras.layers.Flatten()(dense)\n",
        "            output_layer = tf.keras.layers.Dense(len(le.classes_), activation='softmax')(flat)\n",
        "\n",
        "            model = tf.keras.Model(input_layer, output_layer)\n",
        "            model.compile(optimizer='adam', loss='sparse_categorical_crossentropy', metrics=['accuracy'])\n",
        "\n",
        "            # Train the model on the current CV fold using class weights\n",
        "            model.fit(X_cv_train, y_cv_train, epochs=5, batch_size=32, verbose=0, class_weight=class_weight)\n",
        "\n",
        "            # Evaluate on the CV training fold for average training score\n",
        "            y_cv_train_pred = model.predict(X_cv_train, verbose=0).argmax(axis=1)\n",
        "            fold_train_accuracy = accuracy_score(y_cv_train, y_cv_train_pred)\n",
        "            cv_train_scores.append(fold_train_accuracy)\n",
        "\n",
        "            # Evaluate on the CV validation fold\n",
        "            y_cv_val_pred = model.predict(X_cv_val, verbose=0).argmax(axis=1)\n",
        "            cv_score = accuracy_score(y_cv_val, y_cv_val_pred)\n",
        "            print(f\"Fold {fold + 1} CV Accuracy: {cv_score:.4f}, Training Accuracy: {fold_train_accuracy:.4f}\")\n",
        "\n",
        "            # Select the best model based on CV validation accuracy\n",
        "            if cv_score > best_cv_score:\n",
        "                best_cv_score = cv_score\n",
        "                best_model = model\n",
        "\n",
        "        avg_cv_train_score = np.mean(cv_train_scores)\n",
        "        print(f\"Average Training Accuracy across folds: {avg_cv_train_score:.4f}\")\n",
        "\n",
        "        # Evaluate the best model on the entire training set\n",
        "        y_train_pred = best_model.predict(X_train_padded, verbose=0).argmax(axis=1)\n",
        "        train_acc = accuracy_score(y_train_encoded, y_train_pred)\n",
        "        train_report = classification_report(y_train_encoded, y_train_pred, target_names=target_names)\n",
        "        print(f\"Best CV model Training Accuracy on full training set: {train_acc:.4f}\")\n",
        "        print(\"Training Classification Report:\\n\", train_report)\n",
        "\n",
        "        # Evaluate on the test set\n",
        "        y_test_pred = best_model.predict(X_test_padded, verbose=0).argmax(axis=1)\n",
        "        test_acc = accuracy_score(y_test_encoded, y_test_pred)\n",
        "        test_report = classification_report(y_test_encoded, y_test_pred, target_names=target_names)\n",
        "        print(f\"Test Accuracy: {test_acc:.4f}\")\n",
        "        print(\"Test Classification Report:\\n\", test_report)\n",
        "\n",
        "        best_models[aspect.lower()] = {\n",
        "            \"model\": best_model,\n",
        "            \"label_encoder\": le,\n",
        "            \"tokenizer\": tokenizer\n",
        "        }\n",
        "        train_reports[aspect.lower()] = train_report\n",
        "        test_reports[aspect.lower()] = test_report\n",
        "\n",
        "    return best_models, train_reports, test_reports\n"
      ],
      "metadata": {
        "id": "5WM6hNyZiGD8"
      },
      "execution_count": null,
      "outputs": []
    },
    {
      "cell_type": "code",
      "source": [
        "aspects = ['Acting', 'direction', 'Music','ovr_sent']"
      ],
      "metadata": {
        "id": "gItwFQwcmJNs"
      },
      "execution_count": null,
      "outputs": []
    },
    {
      "cell_type": "code",
      "source": [
        "best_models, train_reports, test_reports = train_final_dl_models_from_csv(train_df,test_df, aspects)"
      ],
      "metadata": {
        "colab": {
          "base_uri": "https://localhost:8080/"
        },
        "id": "2nfrsAEWmKD8",
        "outputId": "9cea4808-f358-4b31-9a30-69dd41ed0a48"
      },
      "execution_count": null,
      "outputs": [
        {
          "output_type": "stream",
          "name": "stdout",
          "text": [
            "\n",
            "=== Processing aspect: Acting ===\n",
            "Fold 1 CV Accuracy: 0.7215, Training Accuracy: 0.7245\n",
            "Fold 2 CV Accuracy: 0.5381, Training Accuracy: 0.5822\n",
            "Fold 3 CV Accuracy: 0.6117, Training Accuracy: 0.6938\n",
            "Fold 4 CV Accuracy: 0.7411, Training Accuracy: 0.7919\n",
            "Fold 5 CV Accuracy: 0.5635, Training Accuracy: 0.6146\n",
            "Fold 6 CV Accuracy: 0.7665, Training Accuracy: 0.8261\n",
            "Fold 7 CV Accuracy: 0.7792, Training Accuracy: 0.8294\n",
            "Fold 8 CV Accuracy: 0.7259, Training Accuracy: 0.8207\n",
            "Fold 9 CV Accuracy: 0.5939, Training Accuracy: 0.6603\n",
            "Fold 10 CV Accuracy: 0.8173, Training Accuracy: 0.8517\n",
            "Average Training Accuracy across folds: 0.7395\n",
            "Best CV model Training Accuracy on full training set: 0.8483\n",
            "Training Classification Report:\n",
            "               precision    recall  f1-score   support\n",
            "\n",
            "          -1       0.44      0.80      0.57       131\n",
            "           0       0.94      0.86      0.90      2962\n",
            "           1       0.69      0.83      0.75       848\n",
            "\n",
            "    accuracy                           0.85      3941\n",
            "   macro avg       0.69      0.83      0.74      3941\n",
            "weighted avg       0.87      0.85      0.86      3941\n",
            "\n",
            "Test Accuracy: 0.8144\n",
            "Test Classification Report:\n",
            "               precision    recall  f1-score   support\n",
            "\n",
            "          -1       0.16      0.12      0.14        34\n",
            "           0       0.89      0.87      0.88       746\n",
            "           1       0.64      0.72      0.68       206\n",
            "\n",
            "    accuracy                           0.81       986\n",
            "   macro avg       0.56      0.57      0.57       986\n",
            "weighted avg       0.82      0.81      0.81       986\n",
            "\n",
            "\n",
            "=== Processing aspect: direction ===\n",
            "Fold 1 CV Accuracy: 0.6557, Training Accuracy: 0.7597\n",
            "Fold 2 CV Accuracy: 0.6421, Training Accuracy: 0.6921\n",
            "Fold 3 CV Accuracy: 0.7411, Training Accuracy: 0.8269\n",
            "Fold 4 CV Accuracy: 0.7919, Training Accuracy: 0.8368\n",
            "Fold 5 CV Accuracy: 0.7183, Training Accuracy: 0.7869\n",
            "Fold 6 CV Accuracy: 0.7259, Training Accuracy: 0.8229\n",
            "Fold 7 CV Accuracy: 0.7335, Training Accuracy: 0.8497\n",
            "Fold 8 CV Accuracy: 0.6168, Training Accuracy: 0.6792\n",
            "Fold 9 CV Accuracy: 0.7259, Training Accuracy: 0.8077\n",
            "Fold 10 CV Accuracy: 0.6853, Training Accuracy: 0.8117\n",
            "Average Training Accuracy across folds: 0.7874\n",
            "Best CV model Training Accuracy on full training set: 0.8323\n",
            "Training Classification Report:\n",
            "               precision    recall  f1-score   support\n",
            "\n",
            "          -1       0.56      0.78      0.65       568\n",
            "           0       0.95      0.84      0.89      3128\n",
            "           1       0.55      0.86      0.67       245\n",
            "\n",
            "    accuracy                           0.83      3941\n",
            "   macro avg       0.69      0.83      0.74      3941\n",
            "weighted avg       0.87      0.83      0.84      3941\n",
            "\n",
            "Test Accuracy: 0.7901\n",
            "Test Classification Report:\n",
            "               precision    recall  f1-score   support\n",
            "\n",
            "          -1       0.40      0.43      0.42       124\n",
            "           0       0.90      0.87      0.88       804\n",
            "           1       0.38      0.52      0.44        58\n",
            "\n",
            "    accuracy                           0.79       986\n",
            "   macro avg       0.56      0.60      0.58       986\n",
            "weighted avg       0.80      0.79      0.80       986\n",
            "\n",
            "\n",
            "=== Processing aspect: Music ===\n",
            "Fold 1 CV Accuracy: 0.8481, Training Accuracy: 0.8835\n",
            "Fold 2 CV Accuracy: 0.8883, Training Accuracy: 0.9244\n",
            "Fold 3 CV Accuracy: 0.8452, Training Accuracy: 0.8948\n",
            "Fold 4 CV Accuracy: 0.9213, Training Accuracy: 0.9529\n",
            "Fold 5 CV Accuracy: 0.8325, Training Accuracy: 0.8833\n",
            "Fold 6 CV Accuracy: 0.8604, Training Accuracy: 0.8830\n",
            "Fold 7 CV Accuracy: 0.8934, Training Accuracy: 0.9354\n",
            "Fold 8 CV Accuracy: 0.9569, Training Accuracy: 0.9580\n",
            "Fold 9 CV Accuracy: 0.8985, Training Accuracy: 0.9450\n",
            "Fold 10 CV Accuracy: 0.8477, Training Accuracy: 0.8847\n",
            "Average Training Accuracy across folds: 0.9145\n",
            "Best CV model Training Accuracy on full training set: 0.9579\n",
            "Training Classification Report:\n",
            "               precision    recall  f1-score   support\n",
            "\n",
            "          -1       0.63      0.93      0.75        89\n",
            "           0       0.99      0.97      0.98      3446\n",
            "           1       0.81      0.85      0.83       406\n",
            "\n",
            "    accuracy                           0.96      3941\n",
            "   macro avg       0.81      0.92      0.85      3941\n",
            "weighted avg       0.96      0.96      0.96      3941\n",
            "\n",
            "Test Accuracy: 0.9432\n",
            "Test Classification Report:\n",
            "               precision    recall  f1-score   support\n",
            "\n",
            "          -1       0.33      0.50      0.40        18\n",
            "           0       0.99      0.97      0.98       867\n",
            "           1       0.75      0.78      0.76       101\n",
            "\n",
            "    accuracy                           0.94       986\n",
            "   macro avg       0.69      0.75      0.71       986\n",
            "weighted avg       0.95      0.94      0.95       986\n",
            "\n",
            "\n",
            "=== Processing aspect: ovr_sent ===\n",
            "Fold 1 CV Accuracy: 0.6608, Training Accuracy: 0.8108\n",
            "Fold 2 CV Accuracy: 0.7259, Training Accuracy: 0.8697\n",
            "Fold 3 CV Accuracy: 0.6980, Training Accuracy: 0.8692\n",
            "Fold 4 CV Accuracy: 0.7487, Training Accuracy: 0.8528\n",
            "Fold 5 CV Accuracy: 0.6802, Training Accuracy: 0.8345\n",
            "Fold 6 CV Accuracy: 0.6904, Training Accuracy: 0.8658\n",
            "Fold 7 CV Accuracy: 0.6954, Training Accuracy: 0.8568\n",
            "Fold 8 CV Accuracy: 0.6396, Training Accuracy: 0.8027\n",
            "Fold 9 CV Accuracy: 0.6675, Training Accuracy: 0.8362\n",
            "Fold 10 CV Accuracy: 0.7411, Training Accuracy: 0.8681\n",
            "Average Training Accuracy across folds: 0.8467\n",
            "Best CV model Training Accuracy on full training set: 0.8424\n",
            "Training Classification Report:\n",
            "               precision    recall  f1-score   support\n",
            "\n",
            "          -1       0.76      0.96      0.85      1346\n",
            "           0       0.70      0.65      0.68       567\n",
            "           1       0.97      0.82      0.89      2028\n",
            "\n",
            "    accuracy                           0.84      3941\n",
            "   macro avg       0.81      0.81      0.80      3941\n",
            "weighted avg       0.86      0.84      0.84      3941\n",
            "\n",
            "Test Accuracy: 0.6957\n",
            "Test Classification Report:\n",
            "               precision    recall  f1-score   support\n",
            "\n",
            "          -1       0.68      0.78      0.73       348\n",
            "           0       0.36      0.40      0.38       139\n",
            "           1       0.83      0.72      0.77       499\n",
            "\n",
            "    accuracy                           0.70       986\n",
            "   macro avg       0.62      0.63      0.62       986\n",
            "weighted avg       0.71      0.70      0.70       986\n",
            "\n"
          ]
        }
      ]
    },
    {
      "cell_type": "code",
      "source": [
        "def prepare_data(df, aspect_column):\n",
        "    \"\"\"Prepare data for a specific aspect\"\"\"\n",
        "    # Encode text to numerical values if needed\n",
        "    # le = LabelEncoder()\n",
        "    # Changed to return a DataFrame instead of a Series\n",
        "    X = df[['R_clean_text']]\n",
        "    y = df[aspect_column]\n",
        "    return X, y"
      ],
      "metadata": {
        "id": "XArZze6fe2gp"
      },
      "execution_count": null,
      "outputs": []
    },
    {
      "cell_type": "code",
      "source": [
        "train_df = pd.read_csv(\"Romanised_train_data.csv\")\n",
        "test_df = pd.read_csv(\"Romanised_test_data.csv\")\n",
        "\n",
        "# Ensure EMBEDDING_DIM and embeddings_index are defined in your context\n",
        "\n",
        "def train_final_dl_models_from_csv(train_df, test_df, aspects):\n",
        "    \"\"\"\n",
        "    For each aspect, loads training data from train_df and testing data from test_df.\n",
        "    Performs 5-fold cross validation on the training data to select the best deep learning model,\n",
        "    averaging the training accuracy across folds and using class weights to address imbalanced datasets.\n",
        "    Evaluates the best model on both the training and test sets and prints classification reports.\n",
        "\n",
        "    Returns:\n",
        "        best_models: dict of best models (with their label encoder and tokenizer) for each aspect.\n",
        "        train_reports: dict of training classification reports for each aspect.\n",
        "        test_reports: dict of test classification reports for each aspect.\n",
        "    \"\"\"\n",
        "    best_models = {}\n",
        "    train_reports = {}\n",
        "    test_reports = {}\n",
        "    maxlen = 15  # Maximum sequence length\n",
        "\n",
        "    for aspect in aspects:\n",
        "        print(f\"\\n=== Processing aspect: {aspect} ===\")\n",
        "        # Prepare the data for the current aspect\n",
        "        X_train, y_train = prepare_data(train_df, aspect)\n",
        "        X_test, y_test = prepare_data(test_df, aspect)\n",
        "\n",
        "        # Encode target labels\n",
        "        le = LabelEncoder()\n",
        "        y_train_encoded = le.fit_transform(y_train)\n",
        "        y_test_encoded = le.transform(y_test)  # Use the same encoder for test data\n",
        "        target_names = [str(label) for label in le.classes_]\n",
        "\n",
        "        # Tokenize the training texts and pad sequences\n",
        "        tokenizer = Tokenizer()\n",
        "        tokenizer.fit_on_texts(X_train['R_clean_text'])\n",
        "        train_sequences = tokenizer.texts_to_sequences(X_train['R_clean_text'])\n",
        "        test_sequences = tokenizer.texts_to_sequences(X_test['R_clean_text'])\n",
        "        X_train_padded = pad_sequences(train_sequences, maxlen=maxlen)\n",
        "        X_test_padded = pad_sequences(test_sequences, maxlen=maxlen)\n",
        "\n",
        "        # Prepare the embedding matrix using the tokenizer's word index\n",
        "        word_index = tokenizer.word_index\n",
        "        num_words = len(word_index) + 1\n",
        "        embedding_matrix = np.zeros((num_words, EMBEDDING_DIM))\n",
        "        for word, i in word_index.items():\n",
        "            embedding_vector = embeddings_index.get(word)\n",
        "            if embedding_vector is not None:\n",
        "                if len(embedding_vector) == EMBEDDING_DIM:\n",
        "                    embedding_matrix[i] = embedding_vector\n",
        "                else:\n",
        "                    print(f\"Warning: Embedding for '{word}' has unexpected dimension {len(embedding_vector)}. Skipping.\")\n",
        "        vocab_size = num_words\n",
        "\n",
        "        # Cross-validation on the training data to select the best model\n",
        "        skf = StratifiedKFold(n_splits=10, shuffle=True, random_state=42)\n",
        "        best_cv_score = -np.inf\n",
        "        best_model = None\n",
        "        cv_train_scores = []  # To store training accuracies for each fold\n",
        "\n",
        "        for fold, (cv_train_idx, cv_val_idx) in enumerate(skf.split(X_train_padded, y_train_encoded)):\n",
        "            X_cv_train = X_train_padded[cv_train_idx]\n",
        "            y_cv_train = y_train_encoded[cv_train_idx]\n",
        "            X_cv_val = X_train_padded[cv_val_idx]\n",
        "            y_cv_val = y_train_encoded[cv_val_idx]\n",
        "\n",
        "            # Compute class weights to address imbalance\n",
        "            classes = np.unique(y_cv_train)\n",
        "            cw = compute_class_weight(class_weight='balanced', classes=classes, y=y_cv_train)\n",
        "            class_weight = dict(zip(classes, cw))\n",
        "\n",
        "            # Define the model architecture\n",
        "            input_layer = tf.keras.layers.Input(shape=(maxlen,))\n",
        "            embedding_layer = tf.keras.layers.Embedding(\n",
        "                vocab_size,\n",
        "                EMBEDDING_DIM,\n",
        "                weights=[embedding_matrix],\n",
        "                trainable=False\n",
        "            )(input_layer)\n",
        "            conv = tf.keras.layers.Conv1D(200, kernel_size=3, activation=\"relu\")(embedding_layer)\n",
        "            bi_lstm = tf.keras.layers.Bidirectional(tf.keras.layers.LSTM(128, dropout=0.3, recurrent_dropout=0.2, return_sequences=True))(conv)\n",
        "            drop = tf.keras.layers.Dropout(0.2)(bi_lstm)\n",
        "            dense = tf.keras.layers.Dense(128, activation='relu',\n",
        "                                          kernel_regularizer=tf.keras.regularizers.l1_l2(l1=0.01, l2=0.01))(drop)\n",
        "            flat = tf.keras.layers.Flatten()(dense)\n",
        "            output_layer = tf.keras.layers.Dense(len(le.classes_), activation='softmax')(flat)\n",
        "\n",
        "            model = tf.keras.Model(input_layer, output_layer)\n",
        "            model.compile(optimizer='adam', loss='sparse_categorical_crossentropy', metrics=['accuracy'])\n",
        "\n",
        "            # Train the model on the current CV fold using class weights\n",
        "            model.fit(X_cv_train, y_cv_train, epochs=5, batch_size=32, verbose=0, class_weight=class_weight)\n",
        "\n",
        "            # Evaluate on the CV training fold for average training score\n",
        "            y_cv_train_pred = model.predict(X_cv_train, verbose=0).argmax(axis=1)\n",
        "            fold_train_accuracy = accuracy_score(y_cv_train, y_cv_train_pred)\n",
        "            cv_train_scores.append(fold_train_accuracy)\n",
        "\n",
        "            # Evaluate on the CV validation fold\n",
        "            y_cv_val_pred = model.predict(X_cv_val, verbose=0).argmax(axis=1)\n",
        "            cv_score = accuracy_score(y_cv_val, y_cv_val_pred)\n",
        "            print(f\"Fold {fold + 1} CV Accuracy: {cv_score:.4f}, Training Accuracy: {fold_train_accuracy:.4f}\")\n",
        "\n",
        "            # Select the best model based on CV validation accuracy\n",
        "            if cv_score > best_cv_score:\n",
        "                best_cv_score = cv_score\n",
        "                best_model = model\n",
        "\n",
        "        avg_cv_train_score = np.mean(cv_train_scores)\n",
        "        print(f\"Average Training Accuracy across folds: {avg_cv_train_score:.4f}\")\n",
        "\n",
        "        # Evaluate the best model on the entire training set\n",
        "        y_train_pred = best_model.predict(X_train_padded, verbose=0).argmax(axis=1)\n",
        "        train_acc = accuracy_score(y_train_encoded, y_train_pred)\n",
        "        train_report = classification_report(y_train_encoded, y_train_pred, target_names=target_names)\n",
        "        print(f\"Best CV model Training Accuracy on full training set: {train_acc:.4f}\")\n",
        "        print(\"Training Classification Report:\\n\", train_report)\n",
        "\n",
        "        # Evaluate on the test set\n",
        "        y_test_pred = best_model.predict(X_test_padded, verbose=0).argmax(axis=1)\n",
        "        test_acc = accuracy_score(y_test_encoded, y_test_pred)\n",
        "        test_report = classification_report(y_test_encoded, y_test_pred, target_names=target_names)\n",
        "        print(f\"Test Accuracy: {test_acc:.4f}\")\n",
        "        print(\"Test Classification Report:\\n\", test_report)\n",
        "\n",
        "        best_models[aspect.lower()] = {\n",
        "            \"model\": best_model,\n",
        "            \"label_encoder\": le,\n",
        "            \"tokenizer\": tokenizer\n",
        "        }\n",
        "        train_reports[aspect.lower()] = train_report\n",
        "        test_reports[aspect.lower()] = test_report\n",
        "\n",
        "    return best_models, train_reports, test_reports\n"
      ],
      "metadata": {
        "id": "ILW-wMjceJS7"
      },
      "execution_count": null,
      "outputs": []
    },
    {
      "cell_type": "code",
      "source": [
        "best_models, train_reports, test_reports = train_final_dl_models_from_csv(train_df,test_df, aspects)"
      ],
      "metadata": {
        "colab": {
          "base_uri": "https://localhost:8080/"
        },
        "id": "JML_JQulfs_R",
        "outputId": "d8829b66-cda8-4681-d8c1-5cb0b77602f8"
      },
      "execution_count": null,
      "outputs": [
        {
          "output_type": "stream",
          "name": "stdout",
          "text": [
            "\n",
            "=== Processing aspect: Acting ===\n",
            "Fold 1 CV Accuracy: 0.6304, Training Accuracy: 0.6362\n",
            "Fold 2 CV Accuracy: 0.7487, Training Accuracy: 0.8280\n",
            "Fold 3 CV Accuracy: 0.5076, Training Accuracy: 0.5653\n",
            "Fold 4 CV Accuracy: 0.6447, Training Accuracy: 0.7260\n",
            "Fold 5 CV Accuracy: 0.7792, Training Accuracy: 0.8323\n",
            "Fold 6 CV Accuracy: 0.8020, Training Accuracy: 0.8283\n",
            "Fold 7 CV Accuracy: 0.5330, Training Accuracy: 0.5591\n",
            "Fold 8 CV Accuracy: 0.6066, Training Accuracy: 0.7048\n",
            "Fold 9 CV Accuracy: 0.6777, Training Accuracy: 0.7860\n",
            "Fold 10 CV Accuracy: 0.6878, Training Accuracy: 0.7378\n",
            "Average Training Accuracy across folds: 0.7204\n",
            "Best CV model Training Accuracy on full training set: 0.8257\n",
            "Training Classification Report:\n",
            "               precision    recall  f1-score   support\n",
            "\n",
            "          -1       0.32      0.67      0.43       131\n",
            "           0       0.93      0.85      0.88      2962\n",
            "           1       0.68      0.78      0.73       848\n",
            "\n",
            "    accuracy                           0.83      3941\n",
            "   macro avg       0.64      0.77      0.68      3941\n",
            "weighted avg       0.85      0.83      0.84      3941\n",
            "\n",
            "Test Accuracy: 0.8103\n",
            "Test Classification Report:\n",
            "               precision    recall  f1-score   support\n",
            "\n",
            "          -1       0.19      0.26      0.22        34\n",
            "           0       0.90      0.88      0.89       746\n",
            "           1       0.66      0.67      0.66       206\n",
            "\n",
            "    accuracy                           0.81       986\n",
            "   macro avg       0.58      0.60      0.59       986\n",
            "weighted avg       0.82      0.81      0.82       986\n",
            "\n",
            "\n",
            "=== Processing aspect: direction ===\n",
            "Fold 1 CV Accuracy: 0.6861, Training Accuracy: 0.7408\n",
            "Fold 2 CV Accuracy: 0.7081, Training Accuracy: 0.7964\n",
            "Fold 3 CV Accuracy: 0.6726, Training Accuracy: 0.7525\n",
            "Fold 4 CV Accuracy: 0.7005, Training Accuracy: 0.7995\n",
            "Fold 5 CV Accuracy: 0.7970, Training Accuracy: 0.8557\n",
            "Fold 6 CV Accuracy: 0.6777, Training Accuracy: 0.7745\n",
            "Fold 7 CV Accuracy: 0.5685, Training Accuracy: 0.6504\n",
            "Fold 8 CV Accuracy: 0.7259, Training Accuracy: 0.8117\n",
            "Fold 9 CV Accuracy: 0.7208, Training Accuracy: 0.8139\n",
            "Fold 10 CV Accuracy: 0.5508, Training Accuracy: 0.6919\n",
            "Average Training Accuracy across folds: 0.7687\n",
            "Best CV model Training Accuracy on full training set: 0.8498\n",
            "Training Classification Report:\n",
            "               precision    recall  f1-score   support\n",
            "\n",
            "          -1       0.56      0.76      0.65       568\n",
            "           0       0.94      0.87      0.91      3128\n",
            "           1       0.69      0.74      0.71       245\n",
            "\n",
            "    accuracy                           0.85      3941\n",
            "   macro avg       0.73      0.79      0.76      3941\n",
            "weighted avg       0.87      0.85      0.86      3941\n",
            "\n",
            "Test Accuracy: 0.7921\n",
            "Test Classification Report:\n",
            "               precision    recall  f1-score   support\n",
            "\n",
            "          -1       0.38      0.41      0.40       124\n",
            "           0       0.88      0.88      0.88       804\n",
            "           1       0.44      0.34      0.39        58\n",
            "\n",
            "    accuracy                           0.79       986\n",
            "   macro avg       0.57      0.55      0.56       986\n",
            "weighted avg       0.79      0.79      0.79       986\n",
            "\n",
            "\n",
            "=== Processing aspect: Music ===\n",
            "Fold 1 CV Accuracy: 0.8962, Training Accuracy: 0.9416\n",
            "Fold 2 CV Accuracy: 0.9365, Training Accuracy: 0.9611\n",
            "Fold 3 CV Accuracy: 0.8706, Training Accuracy: 0.8999\n",
            "Fold 4 CV Accuracy: 0.8452, Training Accuracy: 0.8934\n",
            "Fold 5 CV Accuracy: 0.6193, Training Accuracy: 0.7158\n",
            "Fold 6 CV Accuracy: 0.9239, Training Accuracy: 0.9495\n",
            "Fold 7 CV Accuracy: 0.8528, Training Accuracy: 0.9146\n",
            "Fold 8 CV Accuracy: 0.7462, Training Accuracy: 0.7866\n",
            "Fold 9 CV Accuracy: 0.9289, Training Accuracy: 0.9433\n",
            "Fold 10 CV Accuracy: 0.9061, Training Accuracy: 0.9163\n",
            "Average Training Accuracy across folds: 0.8922\n",
            "Best CV model Training Accuracy on full training set: 0.9586\n",
            "Training Classification Report:\n",
            "               precision    recall  f1-score   support\n",
            "\n",
            "          -1       0.78      0.80      0.79        89\n",
            "           0       0.99      0.97      0.98      3446\n",
            "           1       0.79      0.86      0.82       406\n",
            "\n",
            "    accuracy                           0.96      3941\n",
            "   macro avg       0.85      0.88      0.86      3941\n",
            "weighted avg       0.96      0.96      0.96      3941\n",
            "\n",
            "Test Accuracy: 0.9462\n",
            "Test Classification Report:\n",
            "               precision    recall  f1-score   support\n",
            "\n",
            "          -1       0.45      0.28      0.34        18\n",
            "           0       0.98      0.98      0.98       867\n",
            "           1       0.74      0.81      0.77       101\n",
            "\n",
            "    accuracy                           0.95       986\n",
            "   macro avg       0.72      0.69      0.70       986\n",
            "weighted avg       0.94      0.95      0.95       986\n",
            "\n",
            "\n",
            "=== Processing aspect: ovr_sent ===\n",
            "Fold 1 CV Accuracy: 0.6937, Training Accuracy: 0.8342\n",
            "Fold 2 CV Accuracy: 0.5990, Training Accuracy: 0.7601\n",
            "Fold 3 CV Accuracy: 0.6980, Training Accuracy: 0.8204\n",
            "Fold 4 CV Accuracy: 0.6548, Training Accuracy: 0.8213\n",
            "Fold 5 CV Accuracy: 0.6929, Training Accuracy: 0.8495\n",
            "Fold 6 CV Accuracy: 0.6954, Training Accuracy: 0.7995\n",
            "Fold 7 CV Accuracy: 0.6396, Training Accuracy: 0.8173\n",
            "Fold 8 CV Accuracy: 0.6294, Training Accuracy: 0.8368\n",
            "Fold 9 CV Accuracy: 0.6447, Training Accuracy: 0.8100\n",
            "Fold 10 CV Accuracy: 0.6802, Training Accuracy: 0.8218\n",
            "Average Training Accuracy across folds: 0.8171\n",
            "Best CV model Training Accuracy on full training set: 0.8082\n",
            "Training Classification Report:\n",
            "               precision    recall  f1-score   support\n",
            "\n",
            "          -1       0.80      0.85      0.82      1346\n",
            "           0       0.56      0.79      0.66       567\n",
            "           1       0.93      0.79      0.85      2028\n",
            "\n",
            "    accuracy                           0.81      3941\n",
            "   macro avg       0.76      0.81      0.78      3941\n",
            "weighted avg       0.83      0.81      0.81      3941\n",
            "\n",
            "Test Accuracy: 0.6623\n",
            "Test Classification Report:\n",
            "               precision    recall  f1-score   support\n",
            "\n",
            "          -1       0.73      0.59      0.65       348\n",
            "           0       0.33      0.60      0.43       139\n",
            "           1       0.81      0.73      0.77       499\n",
            "\n",
            "    accuracy                           0.66       986\n",
            "   macro avg       0.62      0.64      0.61       986\n",
            "weighted avg       0.71      0.66      0.68       986\n",
            "\n"
          ]
        }
      ]
    }
  ]
}