{
  "nbformat": 4,
  "nbformat_minor": 0,
  "metadata": {
    "colab": {
      "provenance": [],
      "authorship_tag": "ABX9TyNYrC805Jygo63uN555fnaL",
      "include_colab_link": true
    },
    "kernelspec": {
      "name": "python3",
      "display_name": "Python 3"
    },
    "language_info": {
      "name": "python"
    }
  },
  "cells": [
    {
      "cell_type": "markdown",
      "metadata": {
        "id": "view-in-github",
        "colab_type": "text"
      },
      "source": [
        "<a href=\"https://colab.research.google.com/github/AshvinVignesh/Final_year/blob/main/Final_year_custom_word_remove.ipynb\" target=\"_parent\"><img src=\"https://colab.research.google.com/assets/colab-badge.svg\" alt=\"Open In Colab\"/></a>"
      ]
    },
    {
      "cell_type": "code",
      "source": [
        "import pandas as pd\n",
        "import numpy as np"
      ],
      "metadata": {
        "id": "IqWwTRVZ2LsH"
      },
      "execution_count": null,
      "outputs": []
    },
    {
      "cell_type": "code",
      "source": [
        "df = pd.read_csv(\"Vettaiyan - before_label.csv\", sep=',')"
      ],
      "metadata": {
        "id": "vR6fCMiD2Z-A"
      },
      "execution_count": null,
      "outputs": []
    },
    {
      "cell_type": "code",
      "source": [
        "df1 = df[\"clean_text\"]"
      ],
      "metadata": {
        "id": "l87Av-SY2Yuy"
      },
      "execution_count": null,
      "outputs": []
    },
    {
      "cell_type": "code",
      "execution_count": null,
      "metadata": {
        "id": "RYLiOiGe1-qG"
      },
      "outputs": [],
      "source": [
        "def delete_word_df(df, word_to_delete):\n",
        "    \"\"\"\n",
        "    Deletes a specific word from a Pandas Series.\n",
        "\n",
        "    Args:\n",
        "        df (pandas.Series): The Series to modify.\n",
        "        word_to_delete (str): The word to remove from the text in the Series.\n",
        "\n",
        "    Returns:\n",
        "        pandas.Series: The modified Series with the word removed.\n",
        "    \"\"\"\n",
        "\n",
        "    def delete_word(sentence, word_to_delete):\n",
        "        \"\"\"\n",
        "        Deletes a specific word from a sentence.\n",
        "\n",
        "        Args:\n",
        "            sentence (str): The sentence to modify.\n",
        "            word_to_delete (str): The word to remove from the sentence.\n",
        "\n",
        "        Returns:\n",
        "            str: The modified sentence with the word removed.\n",
        "        \"\"\"\n",
        "        words = sentence.split()\n",
        "        filtered_words = [word for word in words if word != word_to_delete]\n",
        "        modified_sentence = ' '.join(filtered_words)\n",
        "        return modified_sentence\n",
        "\n",
        "    # Apply the delete_word function to the Series\n",
        "    df = df.apply(lambda text: delete_word(text, word_to_delete))\n",
        "    return df"
      ]
    },
    {
      "cell_type": "code",
      "source": [
        "df1 = delete_word_df(df1, '&quot')"
      ],
      "metadata": {
        "id": "q2xoUBXW3tdO"
      },
      "execution_count": null,
      "outputs": []
    },
    {
      "cell_type": "code",
      "source": [
        "def remove_words_from_df(df, words_to_remove):\n",
        "    \"\"\"\n",
        "    Removes a list of specific words from a Pandas Series.\n",
        "\n",
        "    Args:\n",
        "        df (pandas.Series): The Series to modify.\n",
        "        words_to_remove (list): A list of words to remove from the text in the Series.\n",
        "\n",
        "    Returns:\n",
        "        pandas.Series: The modified Series with the words removed.\n",
        "    \"\"\"\n",
        "    for word in words_to_remove:\n",
        "        df = df.str.replace(word, '', regex=False)\n",
        "    return df"
      ],
      "metadata": {
        "id": "7RiprRWm2gQM"
      },
      "execution_count": null,
      "outputs": []
    },
    {
      "cell_type": "code",
      "source": [
        "words_to_remove = ['&quot', '&',\"=\",\"?\"]  # Add words to remove\n",
        "df1 = remove_words_from_df(df1, words_to_remove)"
      ],
      "metadata": {
        "id": "BnNiJ7gb3by8"
      },
      "execution_count": null,
      "outputs": []
    },
    {
      "cell_type": "code",
      "source": [
        "df1.iloc[20]"
      ],
      "metadata": {
        "colab": {
          "base_uri": "https://localhost:8080/",
          "height": 36
        },
        "id": "jhJaNK9833-c",
        "outputId": "caea200d-a850-4ab1-c177-febfb88fbe3b"
      },
      "execution_count": null,
      "outputs": [
        {
          "output_type": "execute_result",
          "data": {
            "text/plain": [
              "'super trailer vettaiyan thalaivar semma mass vera level'"
            ],
            "application/vnd.google.colaboratory.intrinsic+json": {
              "type": "string"
            }
          },
          "metadata": {},
          "execution_count": 85
        }
      ]
    },
    {
      "cell_type": "code",
      "source": [
        "df1.to_csv(\"Vettaiyan - before_label.csv\", index=False)"
      ],
      "metadata": {
        "id": "PO7zFbi-4NSi"
      },
      "execution_count": null,
      "outputs": []
    }
  ]
}