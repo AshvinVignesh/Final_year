{
  "nbformat": 4,
  "nbformat_minor": 0,
  "metadata": {
    "colab": {
      "provenance": [],
      "authorship_tag": "ABX9TyOpgfwRQmRfbU8OfqsUv33m",
      "include_colab_link": true
    },
    "kernelspec": {
      "name": "python3",
      "display_name": "Python 3"
    },
    "language_info": {
      "name": "python"
    }
  },
  "cells": [
    {
      "cell_type": "markdown",
      "metadata": {
        "id": "view-in-github",
        "colab_type": "text"
      },
      "source": [
        "<a href=\"https://colab.research.google.com/github/AshvinVignesh/Final_year/blob/main/final_year_DL_lstm_and_sampling.ipynb\" target=\"_parent\"><img src=\"https://colab.research.google.com/assets/colab-badge.svg\" alt=\"Open In Colab\"/></a>"
      ]
    },
    {
      "cell_type": "code",
      "execution_count": null,
      "metadata": {
        "id": "lbH9nIR13lUX"
      },
      "outputs": [],
      "source": [
        "import tensorflow as tf\n",
        "from tensorflow.keras.preprocessing.text import Tokenizer\n",
        "from tensorflow.keras.preprocessing.sequence import pad_sequences\n",
        "from tensorflow.keras.models import Sequential\n",
        "from tensorflow.keras.layers import Embedding, LSTM, Dense, Dropout,Input , Layer , Bidirectional ,Reshape,MaxPooling2D, Conv1D, MaxPooling1D,Flatten\n",
        "from tensorflow.keras.optimizers import Adam\n",
        "from tensorflow.keras.utils import to_categorical\n",
        "import tensorflow.keras.backend as K\n",
        "from tensorflow.keras.models import Sequential\n",
        "from tensorflow.keras.layers import LSTM, GRU, Dense, Embedding, Dropout, GlobalAveragePooling1D, Flatten, SpatialDropout1D, Bidirectional\n",
        "from sklearn.utils.class_weight import compute_class_weight"
      ]
    },
    {
      "cell_type": "code",
      "source": [
        "import pandas as pd\n",
        "import gensim\n",
        "import numpy as np\n",
        "from sklearn.model_selection import train_test_split\n",
        "import matplotlib.pyplot as plt\n",
        "from sklearn.metrics import classification_report , f1_score, accuracy_score\n",
        "from sklearn.model_selection import StratifiedKFold\n",
        "from sklearn.preprocessing import LabelEncoder\n",
        "from imblearn.over_sampling import SMOTE\n",
        "from imblearn.under_sampling import RandomUnderSampler"
      ],
      "metadata": {
        "id": "sZZaIzZo4bJG"
      },
      "execution_count": null,
      "outputs": []
    },
    {
      "cell_type": "code",
      "source": [
        "df = pd.read_csv(\"Full_data_aspect_removed_words.csv\")\n",
        "df.head()"
      ],
      "metadata": {
        "colab": {
          "base_uri": "https://localhost:8080/",
          "height": 293
        },
        "id": "ZMSILxB-4biG",
        "outputId": "6f932309-af2a-435c-8b5c-878360d23fd1"
      },
      "execution_count": null,
      "outputs": [
        {
          "output_type": "execute_result",
          "data": {
            "text/plain": [
              "                                       original_text  \\\n",
              "0                        இரைச்சல் இல்லாத தெளிவான இசை   \n",
              "1               harris romba naal kalichu super song   \n",
              "2  hukum pondra iraichal padalai ketu kaathu vali...   \n",
              "3           youtube la kuda editing nalla pannuvanga   \n",
              "4                    amaran is also a diwali release   \n",
              "\n",
              "                             sentences_with_pos_tags        lang sentiment  \\\n",
              "0      இரைச்சல்/NOUN இல்லாத/ADJ தெளிவான/ADJ இசை/NOUN       Tamil  POSITIVE   \n",
              "1  harris/PROPN romba/ADV naal/NOUN kalichu/VERB ...  Code-Mixed  POSITIVE   \n",
              "2  hukum/PROPN pondra/ADP iraichal/NOUN padalai/N...  Code-Mixed   NEUTRAL   \n",
              "3  youtube/PROPN la/ADP kuda/ADV editing/NOUN nal...  Code-Mixed   NEUTRAL   \n",
              "4  amaran/PROPN is/AUX also/ADV a/DET diwali/PROP...  Code-Mixed   NEUTRAL   \n",
              "\n",
              "                                          clean_text  Acting  direction  \\\n",
              "0                        இரைச்சல் இல்லாத தெளிவான இசை       0          0   \n",
              "1               harris romba naal kalichu super song       0          0   \n",
              "2  hukum pondra iraichal padalai ketu kaathu vali...       0          0   \n",
              "3              youtube kuda editing nalla pannuvanga       0          0   \n",
              "4                              amaran diwali release       0          0   \n",
              "\n",
              "   Music  VFX  Genre  excitement  ovr_sent  \\\n",
              "0      1    0      0           0         1   \n",
              "1      1    0      0           0         1   \n",
              "2      1    0      0           0         1   \n",
              "3      0    1      0           0         1   \n",
              "4      0    0      0           0         0   \n",
              "\n",
              "                                          stop_words  \n",
              "0                                    இல்லாத, தெளிவான  \n",
              "1                               romba, naal, kalichu  \n",
              "2  pondr, iraichal, ketu, kaathu, valichuruchu, a...  \n",
              "3                                           la, kuda  \n",
              "4                                        is, also, a  "
            ],
            "text/html": [
              "\n",
              "  <div id=\"df-eeb2995b-5961-47a5-9674-69b13df96315\" class=\"colab-df-container\">\n",
              "    <div>\n",
              "<style scoped>\n",
              "    .dataframe tbody tr th:only-of-type {\n",
              "        vertical-align: middle;\n",
              "    }\n",
              "\n",
              "    .dataframe tbody tr th {\n",
              "        vertical-align: top;\n",
              "    }\n",
              "\n",
              "    .dataframe thead th {\n",
              "        text-align: right;\n",
              "    }\n",
              "</style>\n",
              "<table border=\"1\" class=\"dataframe\">\n",
              "  <thead>\n",
              "    <tr style=\"text-align: right;\">\n",
              "      <th></th>\n",
              "      <th>original_text</th>\n",
              "      <th>sentences_with_pos_tags</th>\n",
              "      <th>lang</th>\n",
              "      <th>sentiment</th>\n",
              "      <th>clean_text</th>\n",
              "      <th>Acting</th>\n",
              "      <th>direction</th>\n",
              "      <th>Music</th>\n",
              "      <th>VFX</th>\n",
              "      <th>Genre</th>\n",
              "      <th>excitement</th>\n",
              "      <th>ovr_sent</th>\n",
              "      <th>stop_words</th>\n",
              "    </tr>\n",
              "  </thead>\n",
              "  <tbody>\n",
              "    <tr>\n",
              "      <th>0</th>\n",
              "      <td>இரைச்சல் இல்லாத தெளிவான இசை</td>\n",
              "      <td>இரைச்சல்/NOUN இல்லாத/ADJ தெளிவான/ADJ இசை/NOUN</td>\n",
              "      <td>Tamil</td>\n",
              "      <td>POSITIVE</td>\n",
              "      <td>இரைச்சல் இல்லாத தெளிவான இசை</td>\n",
              "      <td>0</td>\n",
              "      <td>0</td>\n",
              "      <td>1</td>\n",
              "      <td>0</td>\n",
              "      <td>0</td>\n",
              "      <td>0</td>\n",
              "      <td>1</td>\n",
              "      <td>இல்லாத, தெளிவான</td>\n",
              "    </tr>\n",
              "    <tr>\n",
              "      <th>1</th>\n",
              "      <td>harris romba naal kalichu super song</td>\n",
              "      <td>harris/PROPN romba/ADV naal/NOUN kalichu/VERB ...</td>\n",
              "      <td>Code-Mixed</td>\n",
              "      <td>POSITIVE</td>\n",
              "      <td>harris romba naal kalichu super song</td>\n",
              "      <td>0</td>\n",
              "      <td>0</td>\n",
              "      <td>1</td>\n",
              "      <td>0</td>\n",
              "      <td>0</td>\n",
              "      <td>0</td>\n",
              "      <td>1</td>\n",
              "      <td>romba, naal, kalichu</td>\n",
              "    </tr>\n",
              "    <tr>\n",
              "      <th>2</th>\n",
              "      <td>hukum pondra iraichal padalai ketu kaathu vali...</td>\n",
              "      <td>hukum/PROPN pondra/ADP iraichal/NOUN padalai/N...</td>\n",
              "      <td>Code-Mixed</td>\n",
              "      <td>NEUTRAL</td>\n",
              "      <td>hukum pondra iraichal padalai ketu kaathu vali...</td>\n",
              "      <td>0</td>\n",
              "      <td>0</td>\n",
              "      <td>1</td>\n",
              "      <td>0</td>\n",
              "      <td>0</td>\n",
              "      <td>0</td>\n",
              "      <td>1</td>\n",
              "      <td>pondr, iraichal, ketu, kaathu, valichuruchu, a...</td>\n",
              "    </tr>\n",
              "    <tr>\n",
              "      <th>3</th>\n",
              "      <td>youtube la kuda editing nalla pannuvanga</td>\n",
              "      <td>youtube/PROPN la/ADP kuda/ADV editing/NOUN nal...</td>\n",
              "      <td>Code-Mixed</td>\n",
              "      <td>NEUTRAL</td>\n",
              "      <td>youtube kuda editing nalla pannuvanga</td>\n",
              "      <td>0</td>\n",
              "      <td>0</td>\n",
              "      <td>0</td>\n",
              "      <td>1</td>\n",
              "      <td>0</td>\n",
              "      <td>0</td>\n",
              "      <td>1</td>\n",
              "      <td>la, kuda</td>\n",
              "    </tr>\n",
              "    <tr>\n",
              "      <th>4</th>\n",
              "      <td>amaran is also a diwali release</td>\n",
              "      <td>amaran/PROPN is/AUX also/ADV a/DET diwali/PROP...</td>\n",
              "      <td>Code-Mixed</td>\n",
              "      <td>NEUTRAL</td>\n",
              "      <td>amaran diwali release</td>\n",
              "      <td>0</td>\n",
              "      <td>0</td>\n",
              "      <td>0</td>\n",
              "      <td>0</td>\n",
              "      <td>0</td>\n",
              "      <td>0</td>\n",
              "      <td>0</td>\n",
              "      <td>is, also, a</td>\n",
              "    </tr>\n",
              "  </tbody>\n",
              "</table>\n",
              "</div>\n",
              "    <div class=\"colab-df-buttons\">\n",
              "\n",
              "  <div class=\"colab-df-container\">\n",
              "    <button class=\"colab-df-convert\" onclick=\"convertToInteractive('df-eeb2995b-5961-47a5-9674-69b13df96315')\"\n",
              "            title=\"Convert this dataframe to an interactive table.\"\n",
              "            style=\"display:none;\">\n",
              "\n",
              "  <svg xmlns=\"http://www.w3.org/2000/svg\" height=\"24px\" viewBox=\"0 -960 960 960\">\n",
              "    <path d=\"M120-120v-720h720v720H120Zm60-500h600v-160H180v160Zm220 220h160v-160H400v160Zm0 220h160v-160H400v160ZM180-400h160v-160H180v160Zm440 0h160v-160H620v160ZM180-180h160v-160H180v160Zm440 0h160v-160H620v160Z\"/>\n",
              "  </svg>\n",
              "    </button>\n",
              "\n",
              "  <style>\n",
              "    .colab-df-container {\n",
              "      display:flex;\n",
              "      gap: 12px;\n",
              "    }\n",
              "\n",
              "    .colab-df-convert {\n",
              "      background-color: #E8F0FE;\n",
              "      border: none;\n",
              "      border-radius: 50%;\n",
              "      cursor: pointer;\n",
              "      display: none;\n",
              "      fill: #1967D2;\n",
              "      height: 32px;\n",
              "      padding: 0 0 0 0;\n",
              "      width: 32px;\n",
              "    }\n",
              "\n",
              "    .colab-df-convert:hover {\n",
              "      background-color: #E2EBFA;\n",
              "      box-shadow: 0px 1px 2px rgba(60, 64, 67, 0.3), 0px 1px 3px 1px rgba(60, 64, 67, 0.15);\n",
              "      fill: #174EA6;\n",
              "    }\n",
              "\n",
              "    .colab-df-buttons div {\n",
              "      margin-bottom: 4px;\n",
              "    }\n",
              "\n",
              "    [theme=dark] .colab-df-convert {\n",
              "      background-color: #3B4455;\n",
              "      fill: #D2E3FC;\n",
              "    }\n",
              "\n",
              "    [theme=dark] .colab-df-convert:hover {\n",
              "      background-color: #434B5C;\n",
              "      box-shadow: 0px 1px 3px 1px rgba(0, 0, 0, 0.15);\n",
              "      filter: drop-shadow(0px 1px 2px rgba(0, 0, 0, 0.3));\n",
              "      fill: #FFFFFF;\n",
              "    }\n",
              "  </style>\n",
              "\n",
              "    <script>\n",
              "      const buttonEl =\n",
              "        document.querySelector('#df-eeb2995b-5961-47a5-9674-69b13df96315 button.colab-df-convert');\n",
              "      buttonEl.style.display =\n",
              "        google.colab.kernel.accessAllowed ? 'block' : 'none';\n",
              "\n",
              "      async function convertToInteractive(key) {\n",
              "        const element = document.querySelector('#df-eeb2995b-5961-47a5-9674-69b13df96315');\n",
              "        const dataTable =\n",
              "          await google.colab.kernel.invokeFunction('convertToInteractive',\n",
              "                                                    [key], {});\n",
              "        if (!dataTable) return;\n",
              "\n",
              "        const docLinkHtml = 'Like what you see? Visit the ' +\n",
              "          '<a target=\"_blank\" href=https://colab.research.google.com/notebooks/data_table.ipynb>data table notebook</a>'\n",
              "          + ' to learn more about interactive tables.';\n",
              "        element.innerHTML = '';\n",
              "        dataTable['output_type'] = 'display_data';\n",
              "        await google.colab.output.renderOutput(dataTable, element);\n",
              "        const docLink = document.createElement('div');\n",
              "        docLink.innerHTML = docLinkHtml;\n",
              "        element.appendChild(docLink);\n",
              "      }\n",
              "    </script>\n",
              "  </div>\n",
              "\n",
              "\n",
              "<div id=\"df-20a4bb91-8e70-48dd-b9dc-d57284239f2d\">\n",
              "  <button class=\"colab-df-quickchart\" onclick=\"quickchart('df-20a4bb91-8e70-48dd-b9dc-d57284239f2d')\"\n",
              "            title=\"Suggest charts\"\n",
              "            style=\"display:none;\">\n",
              "\n",
              "<svg xmlns=\"http://www.w3.org/2000/svg\" height=\"24px\"viewBox=\"0 0 24 24\"\n",
              "     width=\"24px\">\n",
              "    <g>\n",
              "        <path d=\"M19 3H5c-1.1 0-2 .9-2 2v14c0 1.1.9 2 2 2h14c1.1 0 2-.9 2-2V5c0-1.1-.9-2-2-2zM9 17H7v-7h2v7zm4 0h-2V7h2v10zm4 0h-2v-4h2v4z\"/>\n",
              "    </g>\n",
              "</svg>\n",
              "  </button>\n",
              "\n",
              "<style>\n",
              "  .colab-df-quickchart {\n",
              "      --bg-color: #E8F0FE;\n",
              "      --fill-color: #1967D2;\n",
              "      --hover-bg-color: #E2EBFA;\n",
              "      --hover-fill-color: #174EA6;\n",
              "      --disabled-fill-color: #AAA;\n",
              "      --disabled-bg-color: #DDD;\n",
              "  }\n",
              "\n",
              "  [theme=dark] .colab-df-quickchart {\n",
              "      --bg-color: #3B4455;\n",
              "      --fill-color: #D2E3FC;\n",
              "      --hover-bg-color: #434B5C;\n",
              "      --hover-fill-color: #FFFFFF;\n",
              "      --disabled-bg-color: #3B4455;\n",
              "      --disabled-fill-color: #666;\n",
              "  }\n",
              "\n",
              "  .colab-df-quickchart {\n",
              "    background-color: var(--bg-color);\n",
              "    border: none;\n",
              "    border-radius: 50%;\n",
              "    cursor: pointer;\n",
              "    display: none;\n",
              "    fill: var(--fill-color);\n",
              "    height: 32px;\n",
              "    padding: 0;\n",
              "    width: 32px;\n",
              "  }\n",
              "\n",
              "  .colab-df-quickchart:hover {\n",
              "    background-color: var(--hover-bg-color);\n",
              "    box-shadow: 0 1px 2px rgba(60, 64, 67, 0.3), 0 1px 3px 1px rgba(60, 64, 67, 0.15);\n",
              "    fill: var(--button-hover-fill-color);\n",
              "  }\n",
              "\n",
              "  .colab-df-quickchart-complete:disabled,\n",
              "  .colab-df-quickchart-complete:disabled:hover {\n",
              "    background-color: var(--disabled-bg-color);\n",
              "    fill: var(--disabled-fill-color);\n",
              "    box-shadow: none;\n",
              "  }\n",
              "\n",
              "  .colab-df-spinner {\n",
              "    border: 2px solid var(--fill-color);\n",
              "    border-color: transparent;\n",
              "    border-bottom-color: var(--fill-color);\n",
              "    animation:\n",
              "      spin 1s steps(1) infinite;\n",
              "  }\n",
              "\n",
              "  @keyframes spin {\n",
              "    0% {\n",
              "      border-color: transparent;\n",
              "      border-bottom-color: var(--fill-color);\n",
              "      border-left-color: var(--fill-color);\n",
              "    }\n",
              "    20% {\n",
              "      border-color: transparent;\n",
              "      border-left-color: var(--fill-color);\n",
              "      border-top-color: var(--fill-color);\n",
              "    }\n",
              "    30% {\n",
              "      border-color: transparent;\n",
              "      border-left-color: var(--fill-color);\n",
              "      border-top-color: var(--fill-color);\n",
              "      border-right-color: var(--fill-color);\n",
              "    }\n",
              "    40% {\n",
              "      border-color: transparent;\n",
              "      border-right-color: var(--fill-color);\n",
              "      border-top-color: var(--fill-color);\n",
              "    }\n",
              "    60% {\n",
              "      border-color: transparent;\n",
              "      border-right-color: var(--fill-color);\n",
              "    }\n",
              "    80% {\n",
              "      border-color: transparent;\n",
              "      border-right-color: var(--fill-color);\n",
              "      border-bottom-color: var(--fill-color);\n",
              "    }\n",
              "    90% {\n",
              "      border-color: transparent;\n",
              "      border-bottom-color: var(--fill-color);\n",
              "    }\n",
              "  }\n",
              "</style>\n",
              "\n",
              "  <script>\n",
              "    async function quickchart(key) {\n",
              "      const quickchartButtonEl =\n",
              "        document.querySelector('#' + key + ' button');\n",
              "      quickchartButtonEl.disabled = true;  // To prevent multiple clicks.\n",
              "      quickchartButtonEl.classList.add('colab-df-spinner');\n",
              "      try {\n",
              "        const charts = await google.colab.kernel.invokeFunction(\n",
              "            'suggestCharts', [key], {});\n",
              "      } catch (error) {\n",
              "        console.error('Error during call to suggestCharts:', error);\n",
              "      }\n",
              "      quickchartButtonEl.classList.remove('colab-df-spinner');\n",
              "      quickchartButtonEl.classList.add('colab-df-quickchart-complete');\n",
              "    }\n",
              "    (() => {\n",
              "      let quickchartButtonEl =\n",
              "        document.querySelector('#df-20a4bb91-8e70-48dd-b9dc-d57284239f2d button');\n",
              "      quickchartButtonEl.style.display =\n",
              "        google.colab.kernel.accessAllowed ? 'block' : 'none';\n",
              "    })();\n",
              "  </script>\n",
              "</div>\n",
              "\n",
              "    </div>\n",
              "  </div>\n"
            ],
            "application/vnd.google.colaboratory.intrinsic+json": {
              "type": "dataframe",
              "variable_name": "df",
              "summary": "{\n  \"name\": \"df\",\n  \"rows\": 5121,\n  \"fields\": [\n    {\n      \"column\": \"original_text\",\n      \"properties\": {\n        \"dtype\": \"string\",\n        \"num_unique_values\": 5114,\n        \"samples\": [\n          \"ipl game again ah in movies\",\n          \"thanks gnavel sir other directors should learn how to show my thalaivar beatifully and lovely\",\n          \"if vishal says thev\\u2026.ya paiya it is okay but if vijay na says\"\n        ],\n        \"semantic_type\": \"\",\n        \"description\": \"\"\n      }\n    },\n    {\n      \"column\": \"sentences_with_pos_tags\",\n      \"properties\": {\n        \"dtype\": \"string\",\n        \"num_unique_values\": 5117,\n        \"samples\": [\n          \"ipl/PROPN game/NOUN again/ADV ah/PART in/ADP movies/NOUN\",\n          \"thanks/INTJ gnavel/PROPN sir/NOUN other/ADJ directors/NOUN should/AUX learn/VERB how/ADV to/PART show/VERB my/PRON thalaivar/NOUN beatifully/ADV and/CONJ lovely/ADV\",\n          \"ani/PROPN the/DET rajini/PROPN sir/NOUN movie/NOUN\"\n        ],\n        \"semantic_type\": \"\",\n        \"description\": \"\"\n      }\n    },\n    {\n      \"column\": \"lang\",\n      \"properties\": {\n        \"dtype\": \"category\",\n        \"num_unique_values\": 4,\n        \"samples\": [\n          \"Code-Mixed\",\n          \"english\",\n          \"Tamil\"\n        ],\n        \"semantic_type\": \"\",\n        \"description\": \"\"\n      }\n    },\n    {\n      \"column\": \"sentiment\",\n      \"properties\": {\n        \"dtype\": \"category\",\n        \"num_unique_values\": 3,\n        \"samples\": [\n          \"POSITIVE\",\n          \"NEUTRAL\",\n          \"NEGATIVE\"\n        ],\n        \"semantic_type\": \"\",\n        \"description\": \"\"\n      }\n    },\n    {\n      \"column\": \"clean_text\",\n      \"properties\": {\n        \"dtype\": \"string\",\n        \"num_unique_values\": 5102,\n        \"samples\": [\n          \"finally encounter story perusa onnum illa ott ila parthukulam ellam old age people cast\",\n          \"\\u0ba4\\u0bae\\u0bbf\\u0bb4\\u0bcd\",\n          \"dhoni entry stadium like\"\n        ],\n        \"semantic_type\": \"\",\n        \"description\": \"\"\n      }\n    },\n    {\n      \"column\": \"Acting\",\n      \"properties\": {\n        \"dtype\": \"number\",\n        \"std\": 0,\n        \"min\": -1,\n        \"max\": 1,\n        \"num_unique_values\": 3,\n        \"samples\": [\n          0,\n          1,\n          -1\n        ],\n        \"semantic_type\": \"\",\n        \"description\": \"\"\n      }\n    },\n    {\n      \"column\": \"direction\",\n      \"properties\": {\n        \"dtype\": \"number\",\n        \"std\": 0,\n        \"min\": -1,\n        \"max\": 1,\n        \"num_unique_values\": 3,\n        \"samples\": [\n          0,\n          -1,\n          1\n        ],\n        \"semantic_type\": \"\",\n        \"description\": \"\"\n      }\n    },\n    {\n      \"column\": \"Music\",\n      \"properties\": {\n        \"dtype\": \"number\",\n        \"std\": 0,\n        \"min\": -1,\n        \"max\": 1,\n        \"num_unique_values\": 3,\n        \"samples\": [\n          1,\n          0,\n          -1\n        ],\n        \"semantic_type\": \"\",\n        \"description\": \"\"\n      }\n    },\n    {\n      \"column\": \"VFX\",\n      \"properties\": {\n        \"dtype\": \"number\",\n        \"std\": 0,\n        \"min\": -1,\n        \"max\": 1,\n        \"num_unique_values\": 3,\n        \"samples\": [\n          0,\n          1,\n          -1\n        ],\n        \"semantic_type\": \"\",\n        \"description\": \"\"\n      }\n    },\n    {\n      \"column\": \"Genre\",\n      \"properties\": {\n        \"dtype\": \"number\",\n        \"std\": 0,\n        \"min\": -1,\n        \"max\": 1,\n        \"num_unique_values\": 3,\n        \"samples\": [\n          0,\n          -1,\n          1\n        ],\n        \"semantic_type\": \"\",\n        \"description\": \"\"\n      }\n    },\n    {\n      \"column\": \"excitement\",\n      \"properties\": {\n        \"dtype\": \"number\",\n        \"std\": 0,\n        \"min\": -1,\n        \"max\": 1,\n        \"num_unique_values\": 3,\n        \"samples\": [\n          0,\n          -1,\n          1\n        ],\n        \"semantic_type\": \"\",\n        \"description\": \"\"\n      }\n    },\n    {\n      \"column\": \"ovr_sent\",\n      \"properties\": {\n        \"dtype\": \"number\",\n        \"std\": 0,\n        \"min\": -1,\n        \"max\": 1,\n        \"num_unique_values\": 3,\n        \"samples\": [\n          1,\n          0,\n          -1\n        ],\n        \"semantic_type\": \"\",\n        \"description\": \"\"\n      }\n    },\n    {\n      \"column\": \"stop_words\",\n      \"properties\": {\n        \"dtype\": \"string\",\n        \"num_unique_values\": 4499,\n        \"samples\": [\n          \"\\u0b8e\\u0ba8\\u0bcd\\u0ba4, \\u0b9f\\u0bbe, \\u0b87\\u0bb5\\u0b99\\u0bcd\\u0b95, \\u0b87\\u0bb5\\u0ba9\\u0bc1\\u0b99\\u0bcd\\u0b95\",\n          \"enda, mari\",\n          \"\\u0b86\\u0bb1\\u0bc1, \\u0baa\\u0b9f, \\u0b95\\u0ba4\\u0bc8, panni\"\n        ],\n        \"semantic_type\": \"\",\n        \"description\": \"\"\n      }\n    }\n  ]\n}"
            }
          },
          "metadata": {},
          "execution_count": 3
        }
      ]
    },
    {
      "cell_type": "code",
      "source": [
        "def prepare_data(df, aspect_column):\n",
        "    \"\"\"Prepare data for a specific aspect\"\"\"\n",
        "    # Encode text to numerical values if needed\n",
        "    # le = LabelEncoder()\n",
        "    # Changed to return a DataFrame instead of a Series\n",
        "    X = df[['clean_text']]\n",
        "    y = df[aspect_column]\n",
        "    return X, y"
      ],
      "metadata": {
        "id": "pghUW1R14hEu"
      },
      "execution_count": null,
      "outputs": []
    },
    {
      "cell_type": "code",
      "source": [
        "X,y = prepare_data(df,'Acting')"
      ],
      "metadata": {
        "id": "xp_iJS8P4rEl"
      },
      "execution_count": null,
      "outputs": []
    },
    {
      "cell_type": "code",
      "source": [
        "embeddings_index = {}\n",
        "f = open('/content/ft_300_fyp_150epoch_window2.txt')\n",
        "for line in f:\n",
        "    values = line.split()\n",
        "    word = values[0] # Since the word is at the 0th index\n",
        "    coefs = np.asarray(values[1:]) # From the 1st position onwards the values are the embedding values\n",
        "    embeddings_index[word] = coefs\n",
        "f.close()"
      ],
      "metadata": {
        "id": "1ASKmPf0BJkX"
      },
      "execution_count": null,
      "outputs": []
    },
    {
      "cell_type": "code",
      "source": [
        "EMBEDDING_DIM =300\n",
        "\n",
        "# words not found in embedding index will be all-zeros."
      ],
      "metadata": {
        "id": "qcdJvGV8BDoY"
      },
      "execution_count": null,
      "outputs": []
    },
    {
      "cell_type": "code",
      "source": [
        "def analyze_all_aspects_dl(df, aspects, sampling_techniques):\n",
        "    results = {}\n",
        "    for aspect in aspects:\n",
        "        print(f\"\\nAnalyzing aspect: {aspect}\")\n",
        "        X, y = prepare_data(df, aspect)\n",
        "        aspect_results = {}\n",
        "        for technique in sampling_techniques:\n",
        "            print(f\"\\nUsing {technique} sampling:\")\n",
        "            mean_score, std_score, reports = train_evaluate_dl_model(X, y, technique)\n",
        "            aspect_results[technique] = {\n",
        "                'mean_accuracy': mean_score,\n",
        "                'std_accuracy': std_score,\n",
        "                'classification_reports': reports\n",
        "            }\n",
        "            print(f\"Mean Accuracy: {mean_score:.4f} (\\u00b1{std_score:.4f})\")\n",
        "        results[aspect] = aspect_results\n",
        "    return results"
      ],
      "metadata": {
        "id": "1Bd_gQUI_Bih"
      },
      "execution_count": null,
      "outputs": []
    },
    {
      "cell_type": "code",
      "source": [
        "def train_evaluate_dl_model(X, y, sampling_strategy='none'):\n",
        "    skf = StratifiedKFold(n_splits=5, shuffle=True, random_state=42)\n",
        "    scores = []\n",
        "    reports = []\n",
        "\n",
        "    # Tokenize and pad sequences\n",
        "    tokenizer = Tokenizer()\n",
        "    tokenizer.fit_on_texts(X['clean_text'])\n",
        "    sequences = tokenizer.texts_to_sequences(X['clean_text'])\n",
        "    padded_sequences = pad_sequences(sequences, maxlen=20)\n",
        "    word_index = tokenizer.word_index\n",
        "    num_words = len(word_index) + 1\n",
        "    embedding_matrix = np.zeros((num_words, EMBEDDING_DIM))\n",
        "    for word, i in word_index.items():\n",
        "        embedding_vector = embeddings_index.get(word)\n",
        "        if embedding_vector is not None:\n",
        "            # Check if the embedding vector has the expected dimension\n",
        "            if len(embedding_vector) == EMBEDDING_DIM:\n",
        "                embedding_matrix[i] = embedding_vector\n",
        "            else:\n",
        "                print(f\"Warning: Embedding for '{word}' has unexpected dimension {len(embedding_vector)}. Skipping.\")\n",
        "    # Encode labels\n",
        "    le = LabelEncoder()\n",
        "    y_encoded = le.fit_transform(y)\n",
        "    target_names = [str(class_label) for class_label in le.classes_]\n",
        "    # Prepare embedding matrix (assuming it's preloaded as `embedding_matrix`)\n",
        "    vocab_size = len(word_index) + 1\n",
        "\n",
        "    for fold, (train_idx, val_idx) in enumerate(skf.split(padded_sequences, y_encoded)):\n",
        "        X_train, X_val = padded_sequences[train_idx], padded_sequences[val_idx]\n",
        "        y_train, y_val = y_encoded[train_idx], y_encoded[val_idx]\n",
        "\n",
        "        # Apply undersampling if required\n",
        "        if sampling_strategy == 'undersample':\n",
        "            sampler = RandomUnderSampler(random_state=42)\n",
        "            X_train_flat = X_train.reshape(X_train.shape[0], -1)\n",
        "            X_train_flat, y_train = sampler.fit_resample(X_train_flat, y_train)\n",
        "            X_train = X_train_flat.reshape(-1, 20)  # Reshape back\n",
        "        elif sampling_strategy == 'oversample':\n",
        "            sampler = SMOTE(random_state=42)\n",
        "            # Flatten `X_train` for SMOTE\n",
        "            X_train_flat = X_train.reshape(X_train.shape[0], -1)\n",
        "            X_train_flat, y_train = sampler.fit_resample(X_train_flat, y_train)\n",
        "            # Reshape back to the original dimensions\n",
        "            X_train = X_train_flat.reshape(-1, 20)\n",
        "\n",
        "        # Define the model\n",
        "        input_layer = tf.keras.layers.Input(shape=(20,))\n",
        "        embedding_layer = tf.keras.layers.Embedding(vocab_size, 300, weights=[embedding_matrix], input_length=20, trainable=False)(input_layer)\n",
        "        # conv = tf.keras.layers.Conv1D(200, kernel_size=3, activation=\"relu\")(embedding_layer)\n",
        "        lstm = tf.keras.layers.LSTM(128, dropout=0.3, recurrent_dropout=0.2, return_sequences=True)(embedding_layer)\n",
        "        drop = tf.keras.layers.Dropout(0.2)(lstm)\n",
        "        dense = tf.keras.layers.Dense(128, activation='relu')(drop)\n",
        "        flat = tf.keras.layers.Flatten()(dense)\n",
        "        output_layer = tf.keras.layers.Dense(len(le.classes_), activation='softmax')(flat)\n",
        "\n",
        "        model = tf.keras.Model(input_layer, output_layer)\n",
        "        model.compile(optimizer='adam', loss='sparse_categorical_crossentropy', metrics=['accuracy'])\n",
        "\n",
        "        # Train the model\n",
        "        model.fit(\n",
        "            X_train, y_train,\n",
        "            epochs=5,  # You can adjust the number of epochs\n",
        "            batch_size=32,\n",
        "            verbose=0\n",
        "        )\n",
        "\n",
        "        # Evaluate the model\n",
        "        y_pred = model.predict(X_val, verbose=0).argmax(axis=1)\n",
        "        score = accuracy_score(y_val, y_pred)\n",
        "        scores.append(score)\n",
        "\n",
        "        # Generate classification report\n",
        "        report = classification_report(y_val, y_pred, target_names=target_names, output_dict=True)\n",
        "        reports.append(report)\n",
        "\n",
        "        print(f\"\\nFold {fold + 1} Results:\")\n",
        "        print(classification_report(y_val, y_pred, target_names=target_names))\n",
        "\n",
        "    return np.mean(scores), np.std(scores), reports"
      ],
      "metadata": {
        "id": "Q852Mxdm5R51"
      },
      "execution_count": null,
      "outputs": []
    },
    {
      "cell_type": "code",
      "source": [
        "aspects = ['Acting', 'direction', 'Music', 'Genre', 'excitement', 'ovr_sent']\n",
        "sampling_techniques_under = ['undersample']\n",
        "results = analyze_all_aspects_dl(df, aspects, sampling_techniques_under)"
      ],
      "metadata": {
        "colab": {
          "base_uri": "https://localhost:8080/"
        },
        "id": "sLxoMXtmDcmm",
        "outputId": "b512a08b-da1f-4676-84cf-4e55591dc3d9",
        "collapsed": true
      },
      "execution_count": null,
      "outputs": [
        {
          "output_type": "stream",
          "name": "stdout",
          "text": [
            "\n",
            "Analyzing aspect: Acting\n",
            "\n",
            "Using undersample sampling:\n"
          ]
        },
        {
          "output_type": "stream",
          "name": "stderr",
          "text": [
            "/usr/local/lib/python3.11/dist-packages/keras/src/layers/core/embedding.py:90: UserWarning: Argument `input_length` is deprecated. Just remove it.\n",
            "  warnings.warn(\n"
          ]
        },
        {
          "output_type": "stream",
          "name": "stdout",
          "text": [
            "\n",
            "Fold 1 Results:\n",
            "              precision    recall  f1-score   support\n",
            "\n",
            "          -1       0.05      0.56      0.10        34\n",
            "           0       0.71      0.25      0.37       770\n",
            "           1       0.20      0.36      0.26       221\n",
            "\n",
            "    accuracy                           0.28      1025\n",
            "   macro avg       0.32      0.39      0.24      1025\n",
            "weighted avg       0.58      0.28      0.34      1025\n",
            "\n"
          ]
        },
        {
          "output_type": "stream",
          "name": "stderr",
          "text": [
            "/usr/local/lib/python3.11/dist-packages/keras/src/layers/core/embedding.py:90: UserWarning: Argument `input_length` is deprecated. Just remove it.\n",
            "  warnings.warn(\n"
          ]
        },
        {
          "output_type": "stream",
          "name": "stdout",
          "text": [
            "\n",
            "Fold 2 Results:\n",
            "              precision    recall  f1-score   support\n",
            "\n",
            "          -1       0.07      0.55      0.13        33\n",
            "           0       0.76      0.37      0.50       769\n",
            "           1       0.24      0.43      0.31       222\n",
            "\n",
            "    accuracy                           0.39      1024\n",
            "   macro avg       0.36      0.45      0.31      1024\n",
            "weighted avg       0.62      0.39      0.44      1024\n",
            "\n"
          ]
        },
        {
          "output_type": "stream",
          "name": "stderr",
          "text": [
            "/usr/local/lib/python3.11/dist-packages/keras/src/layers/core/embedding.py:90: UserWarning: Argument `input_length` is deprecated. Just remove it.\n",
            "  warnings.warn(\n"
          ]
        },
        {
          "output_type": "stream",
          "name": "stdout",
          "text": [
            "\n",
            "Fold 3 Results:\n",
            "              precision    recall  f1-score   support\n",
            "\n",
            "          -1       0.05      0.48      0.09        33\n",
            "           0       0.75      0.16      0.26       769\n",
            "           1       0.23      0.58      0.33       222\n",
            "\n",
            "    accuracy                           0.26      1024\n",
            "   macro avg       0.35      0.41      0.23      1024\n",
            "weighted avg       0.62      0.26      0.27      1024\n",
            "\n"
          ]
        },
        {
          "output_type": "stream",
          "name": "stderr",
          "text": [
            "/usr/local/lib/python3.11/dist-packages/keras/src/layers/core/embedding.py:90: UserWarning: Argument `input_length` is deprecated. Just remove it.\n",
            "  warnings.warn(\n"
          ]
        },
        {
          "output_type": "stream",
          "name": "stdout",
          "text": [
            "\n",
            "Fold 4 Results:\n",
            "              precision    recall  f1-score   support\n",
            "\n",
            "          -1       0.06      0.45      0.10        33\n",
            "           0       0.75      0.63      0.69       769\n",
            "           1       0.26      0.13      0.17       222\n",
            "\n",
            "    accuracy                           0.51      1024\n",
            "   macro avg       0.36      0.40      0.32      1024\n",
            "weighted avg       0.62      0.51      0.55      1024\n",
            "\n"
          ]
        },
        {
          "output_type": "stream",
          "name": "stderr",
          "text": [
            "/usr/local/lib/python3.11/dist-packages/keras/src/layers/core/embedding.py:90: UserWarning: Argument `input_length` is deprecated. Just remove it.\n",
            "  warnings.warn(\n"
          ]
        },
        {
          "output_type": "stream",
          "name": "stdout",
          "text": [
            "\n",
            "Fold 5 Results:\n",
            "              precision    recall  f1-score   support\n",
            "\n",
            "          -1       0.05      0.44      0.09        34\n",
            "           0       0.82      0.18      0.30       769\n",
            "           1       0.23      0.60      0.34       221\n",
            "\n",
            "    accuracy                           0.28      1024\n",
            "   macro avg       0.37      0.41      0.24      1024\n",
            "weighted avg       0.67      0.28      0.30      1024\n",
            "\n",
            "Mean Accuracy: 0.3462 (±0.0954)\n",
            "\n",
            "Analyzing aspect: direction\n",
            "\n",
            "Using undersample sampling:\n"
          ]
        },
        {
          "output_type": "stream",
          "name": "stderr",
          "text": [
            "/usr/local/lib/python3.11/dist-packages/keras/src/layers/core/embedding.py:90: UserWarning: Argument `input_length` is deprecated. Just remove it.\n",
            "  warnings.warn(\n"
          ]
        },
        {
          "output_type": "stream",
          "name": "stdout",
          "text": [
            "\n",
            "Fold 1 Results:\n",
            "              precision    recall  f1-score   support\n",
            "\n",
            "          -1       0.24      0.22      0.23       139\n",
            "           0       0.84      0.67      0.75       824\n",
            "           1       0.08      0.32      0.13        62\n",
            "\n",
            "    accuracy                           0.59      1025\n",
            "   macro avg       0.39      0.41      0.37      1025\n",
            "weighted avg       0.71      0.59      0.64      1025\n",
            "\n"
          ]
        },
        {
          "output_type": "stream",
          "name": "stderr",
          "text": [
            "/usr/local/lib/python3.11/dist-packages/keras/src/layers/core/embedding.py:90: UserWarning: Argument `input_length` is deprecated. Just remove it.\n",
            "  warnings.warn(\n"
          ]
        },
        {
          "output_type": "stream",
          "name": "stdout",
          "text": [
            "\n",
            "Fold 2 Results:\n",
            "              precision    recall  f1-score   support\n",
            "\n",
            "          -1       0.26      0.37      0.31       138\n",
            "           0       0.87      0.60      0.71       824\n",
            "           1       0.10      0.44      0.16        62\n",
            "\n",
            "    accuracy                           0.56      1024\n",
            "   macro avg       0.41      0.47      0.39      1024\n",
            "weighted avg       0.74      0.56      0.62      1024\n",
            "\n"
          ]
        },
        {
          "output_type": "stream",
          "name": "stderr",
          "text": [
            "/usr/local/lib/python3.11/dist-packages/keras/src/layers/core/embedding.py:90: UserWarning: Argument `input_length` is deprecated. Just remove it.\n",
            "  warnings.warn(\n"
          ]
        },
        {
          "output_type": "stream",
          "name": "stdout",
          "text": [
            "\n",
            "Fold 3 Results:\n",
            "              precision    recall  f1-score   support\n",
            "\n",
            "          -1       0.28      0.32      0.30       139\n",
            "           0       0.87      0.63      0.73       823\n",
            "           1       0.09      0.39      0.15        62\n",
            "\n",
            "    accuracy                           0.58      1024\n",
            "   macro avg       0.41      0.45      0.39      1024\n",
            "weighted avg       0.74      0.58      0.64      1024\n",
            "\n"
          ]
        },
        {
          "output_type": "stream",
          "name": "stderr",
          "text": [
            "/usr/local/lib/python3.11/dist-packages/keras/src/layers/core/embedding.py:90: UserWarning: Argument `input_length` is deprecated. Just remove it.\n",
            "  warnings.warn(\n"
          ]
        },
        {
          "output_type": "stream",
          "name": "stdout",
          "text": [
            "\n",
            "Fold 4 Results:\n",
            "              precision    recall  f1-score   support\n",
            "\n",
            "          -1       0.25      0.38      0.30       139\n",
            "           0       0.85      0.72      0.78       823\n",
            "           1       0.11      0.21      0.14        62\n",
            "\n",
            "    accuracy                           0.64      1024\n",
            "   macro avg       0.40      0.44      0.41      1024\n",
            "weighted avg       0.73      0.64      0.68      1024\n",
            "\n"
          ]
        },
        {
          "output_type": "stream",
          "name": "stderr",
          "text": [
            "/usr/local/lib/python3.11/dist-packages/keras/src/layers/core/embedding.py:90: UserWarning: Argument `input_length` is deprecated. Just remove it.\n",
            "  warnings.warn(\n"
          ]
        },
        {
          "output_type": "stream",
          "name": "stdout",
          "text": [
            "\n",
            "Fold 5 Results:\n",
            "              precision    recall  f1-score   support\n",
            "\n",
            "          -1       0.26      0.29      0.27       139\n",
            "           0       0.86      0.43      0.57       823\n",
            "           1       0.07      0.52      0.12        62\n",
            "\n",
            "    accuracy                           0.41      1024\n",
            "   macro avg       0.40      0.41      0.32      1024\n",
            "weighted avg       0.73      0.41      0.50      1024\n",
            "\n",
            "Mean Accuracy: 0.5554 (±0.0762)\n",
            "\n",
            "Analyzing aspect: Music\n",
            "\n",
            "Using undersample sampling:\n"
          ]
        },
        {
          "output_type": "stream",
          "name": "stderr",
          "text": [
            "/usr/local/lib/python3.11/dist-packages/keras/src/layers/core/embedding.py:90: UserWarning: Argument `input_length` is deprecated. Just remove it.\n",
            "  warnings.warn(\n"
          ]
        },
        {
          "output_type": "stream",
          "name": "stdout",
          "text": [
            "\n",
            "Fold 1 Results:\n",
            "              precision    recall  f1-score   support\n",
            "\n",
            "          -1       0.04      0.27      0.07        22\n",
            "           0       0.92      0.41      0.57       897\n",
            "           1       0.14      0.59      0.22       106\n",
            "\n",
            "    accuracy                           0.42      1025\n",
            "   macro avg       0.36      0.43      0.28      1025\n",
            "weighted avg       0.82      0.42      0.52      1025\n",
            "\n"
          ]
        },
        {
          "output_type": "stream",
          "name": "stderr",
          "text": [
            "/usr/local/lib/python3.11/dist-packages/keras/src/layers/core/embedding.py:90: UserWarning: Argument `input_length` is deprecated. Just remove it.\n",
            "  warnings.warn(\n"
          ]
        },
        {
          "output_type": "stream",
          "name": "stdout",
          "text": [
            "\n",
            "Fold 2 Results:\n",
            "              precision    recall  f1-score   support\n",
            "\n",
            "          -1       0.03      0.14      0.05        21\n",
            "           0       0.96      0.18      0.31       897\n",
            "           1       0.11      0.81      0.20       106\n",
            "\n",
            "    accuracy                           0.25      1024\n",
            "   macro avg       0.37      0.38      0.19      1024\n",
            "weighted avg       0.85      0.25      0.29      1024\n",
            "\n"
          ]
        },
        {
          "output_type": "stream",
          "name": "stderr",
          "text": [
            "/usr/local/lib/python3.11/dist-packages/keras/src/layers/core/embedding.py:90: UserWarning: Argument `input_length` is deprecated. Just remove it.\n",
            "  warnings.warn(\n"
          ]
        },
        {
          "output_type": "stream",
          "name": "stdout",
          "text": [
            "\n",
            "Fold 3 Results:\n",
            "              precision    recall  f1-score   support\n",
            "\n",
            "          -1       0.02      0.33      0.05        21\n",
            "           0       0.91      0.44      0.60       897\n",
            "           1       0.13      0.38      0.20       106\n",
            "\n",
            "    accuracy                           0.43      1024\n",
            "   macro avg       0.36      0.38      0.28      1024\n",
            "weighted avg       0.81      0.43      0.54      1024\n",
            "\n"
          ]
        },
        {
          "output_type": "stream",
          "name": "stderr",
          "text": [
            "/usr/local/lib/python3.11/dist-packages/keras/src/layers/core/embedding.py:90: UserWarning: Argument `input_length` is deprecated. Just remove it.\n",
            "  warnings.warn(\n"
          ]
        },
        {
          "output_type": "stream",
          "name": "stdout",
          "text": [
            "\n",
            "Fold 4 Results:\n",
            "              precision    recall  f1-score   support\n",
            "\n",
            "          -1       0.05      0.33      0.09        21\n",
            "           0       0.94      0.21      0.35       897\n",
            "           1       0.12      0.77      0.21       106\n",
            "\n",
            "    accuracy                           0.27      1024\n",
            "   macro avg       0.37      0.44      0.21      1024\n",
            "weighted avg       0.83      0.27      0.33      1024\n",
            "\n"
          ]
        },
        {
          "output_type": "stream",
          "name": "stderr",
          "text": [
            "/usr/local/lib/python3.11/dist-packages/keras/src/layers/core/embedding.py:90: UserWarning: Argument `input_length` is deprecated. Just remove it.\n",
            "  warnings.warn(\n"
          ]
        },
        {
          "output_type": "stream",
          "name": "stdout",
          "text": [
            "\n",
            "Fold 5 Results:\n",
            "              precision    recall  f1-score   support\n",
            "\n",
            "          -1       0.04      0.23      0.06        22\n",
            "           0       0.91      0.65      0.76       896\n",
            "           1       0.15      0.36      0.21       106\n",
            "\n",
            "    accuracy                           0.61      1024\n",
            "   macro avg       0.37      0.41      0.35      1024\n",
            "weighted avg       0.81      0.61      0.69      1024\n",
            "\n",
            "Mean Accuracy: 0.3982 (±0.1313)\n",
            "\n",
            "Analyzing aspect: Genre\n",
            "\n",
            "Using undersample sampling:\n"
          ]
        },
        {
          "output_type": "stream",
          "name": "stderr",
          "text": [
            "/usr/local/lib/python3.11/dist-packages/keras/src/layers/core/embedding.py:90: UserWarning: Argument `input_length` is deprecated. Just remove it.\n",
            "  warnings.warn(\n",
            "/usr/local/lib/python3.11/dist-packages/sklearn/metrics/_classification.py:1565: UndefinedMetricWarning: Precision is ill-defined and being set to 0.0 in labels with no predicted samples. Use `zero_division` parameter to control this behavior.\n",
            "  _warn_prf(average, modifier, f\"{metric.capitalize()} is\", len(result))\n",
            "/usr/local/lib/python3.11/dist-packages/sklearn/metrics/_classification.py:1565: UndefinedMetricWarning: Precision is ill-defined and being set to 0.0 in labels with no predicted samples. Use `zero_division` parameter to control this behavior.\n",
            "  _warn_prf(average, modifier, f\"{metric.capitalize()} is\", len(result))\n",
            "/usr/local/lib/python3.11/dist-packages/sklearn/metrics/_classification.py:1565: UndefinedMetricWarning: Precision is ill-defined and being set to 0.0 in labels with no predicted samples. Use `zero_division` parameter to control this behavior.\n",
            "  _warn_prf(average, modifier, f\"{metric.capitalize()} is\", len(result))\n",
            "/usr/local/lib/python3.11/dist-packages/sklearn/metrics/_classification.py:1565: UndefinedMetricWarning: Precision is ill-defined and being set to 0.0 in labels with no predicted samples. Use `zero_division` parameter to control this behavior.\n",
            "  _warn_prf(average, modifier, f\"{metric.capitalize()} is\", len(result))\n",
            "/usr/local/lib/python3.11/dist-packages/sklearn/metrics/_classification.py:1565: UndefinedMetricWarning: Precision is ill-defined and being set to 0.0 in labels with no predicted samples. Use `zero_division` parameter to control this behavior.\n",
            "  _warn_prf(average, modifier, f\"{metric.capitalize()} is\", len(result))\n",
            "/usr/local/lib/python3.11/dist-packages/sklearn/metrics/_classification.py:1565: UndefinedMetricWarning: Precision is ill-defined and being set to 0.0 in labels with no predicted samples. Use `zero_division` parameter to control this behavior.\n",
            "  _warn_prf(average, modifier, f\"{metric.capitalize()} is\", len(result))\n",
            "/usr/local/lib/python3.11/dist-packages/keras/src/layers/core/embedding.py:90: UserWarning: Argument `input_length` is deprecated. Just remove it.\n",
            "  warnings.warn(\n"
          ]
        },
        {
          "output_type": "stream",
          "name": "stdout",
          "text": [
            "\n",
            "Fold 1 Results:\n",
            "              precision    recall  f1-score   support\n",
            "\n",
            "          -1       0.00      0.00      0.00        10\n",
            "           0       0.00      0.00      0.00       975\n",
            "           1       0.04      0.88      0.07        40\n",
            "\n",
            "    accuracy                           0.03      1025\n",
            "   macro avg       0.01      0.29      0.02      1025\n",
            "weighted avg       0.00      0.03      0.00      1025\n",
            "\n",
            "\n",
            "Fold 2 Results:\n",
            "              precision    recall  f1-score   support\n",
            "\n",
            "          -1       0.04      0.64      0.08        11\n",
            "           0       0.98      0.26      0.41       974\n",
            "           1       0.04      0.59      0.07        39\n",
            "\n",
            "    accuracy                           0.28      1024\n",
            "   macro avg       0.35      0.50      0.19      1024\n",
            "weighted avg       0.94      0.28      0.39      1024\n",
            "\n"
          ]
        },
        {
          "output_type": "stream",
          "name": "stderr",
          "text": [
            "/usr/local/lib/python3.11/dist-packages/keras/src/layers/core/embedding.py:90: UserWarning: Argument `input_length` is deprecated. Just remove it.\n",
            "  warnings.warn(\n"
          ]
        },
        {
          "output_type": "stream",
          "name": "stdout",
          "text": [
            "\n",
            "Fold 3 Results:\n",
            "              precision    recall  f1-score   support\n",
            "\n",
            "          -1       0.01      0.27      0.03        11\n",
            "           0       0.96      0.31      0.47       974\n",
            "           1       0.04      0.51      0.08        39\n",
            "\n",
            "    accuracy                           0.32      1024\n",
            "   macro avg       0.34      0.36      0.19      1024\n",
            "weighted avg       0.92      0.32      0.45      1024\n",
            "\n"
          ]
        },
        {
          "output_type": "stream",
          "name": "stderr",
          "text": [
            "/usr/local/lib/python3.11/dist-packages/keras/src/layers/core/embedding.py:90: UserWarning: Argument `input_length` is deprecated. Just remove it.\n",
            "  warnings.warn(\n"
          ]
        },
        {
          "output_type": "stream",
          "name": "stdout",
          "text": [
            "\n",
            "Fold 4 Results:\n",
            "              precision    recall  f1-score   support\n",
            "\n",
            "          -1       0.01      0.45      0.02        11\n",
            "           0       0.98      0.11      0.20       974\n",
            "           1       0.04      0.51      0.07        39\n",
            "\n",
            "    accuracy                           0.13      1024\n",
            "   macro avg       0.34      0.36      0.10      1024\n",
            "weighted avg       0.94      0.13      0.20      1024\n",
            "\n"
          ]
        },
        {
          "output_type": "stream",
          "name": "stderr",
          "text": [
            "/usr/local/lib/python3.11/dist-packages/keras/src/layers/core/embedding.py:90: UserWarning: Argument `input_length` is deprecated. Just remove it.\n",
            "  warnings.warn(\n",
            "/usr/local/lib/python3.11/dist-packages/sklearn/metrics/_classification.py:1565: UndefinedMetricWarning: Precision is ill-defined and being set to 0.0 in labels with no predicted samples. Use `zero_division` parameter to control this behavior.\n",
            "  _warn_prf(average, modifier, f\"{metric.capitalize()} is\", len(result))\n",
            "/usr/local/lib/python3.11/dist-packages/sklearn/metrics/_classification.py:1565: UndefinedMetricWarning: Precision is ill-defined and being set to 0.0 in labels with no predicted samples. Use `zero_division` parameter to control this behavior.\n",
            "  _warn_prf(average, modifier, f\"{metric.capitalize()} is\", len(result))\n",
            "/usr/local/lib/python3.11/dist-packages/sklearn/metrics/_classification.py:1565: UndefinedMetricWarning: Precision is ill-defined and being set to 0.0 in labels with no predicted samples. Use `zero_division` parameter to control this behavior.\n",
            "  _warn_prf(average, modifier, f\"{metric.capitalize()} is\", len(result))\n",
            "/usr/local/lib/python3.11/dist-packages/sklearn/metrics/_classification.py:1565: UndefinedMetricWarning: Precision is ill-defined and being set to 0.0 in labels with no predicted samples. Use `zero_division` parameter to control this behavior.\n",
            "  _warn_prf(average, modifier, f\"{metric.capitalize()} is\", len(result))\n",
            "/usr/local/lib/python3.11/dist-packages/sklearn/metrics/_classification.py:1565: UndefinedMetricWarning: Precision is ill-defined and being set to 0.0 in labels with no predicted samples. Use `zero_division` parameter to control this behavior.\n",
            "  _warn_prf(average, modifier, f\"{metric.capitalize()} is\", len(result))\n",
            "/usr/local/lib/python3.11/dist-packages/sklearn/metrics/_classification.py:1565: UndefinedMetricWarning: Precision is ill-defined and being set to 0.0 in labels with no predicted samples. Use `zero_division` parameter to control this behavior.\n",
            "  _warn_prf(average, modifier, f\"{metric.capitalize()} is\", len(result))\n"
          ]
        },
        {
          "output_type": "stream",
          "name": "stdout",
          "text": [
            "\n",
            "Fold 5 Results:\n",
            "              precision    recall  f1-score   support\n",
            "\n",
            "          -1       0.00      0.00      0.00        10\n",
            "           0       0.00      0.00      0.00       974\n",
            "           1       0.04      1.00      0.08        40\n",
            "\n",
            "    accuracy                           0.04      1024\n",
            "   macro avg       0.01      0.33      0.03      1024\n",
            "weighted avg       0.00      0.04      0.00      1024\n",
            "\n",
            "Mean Accuracy: 0.1594 (±0.1174)\n",
            "\n",
            "Analyzing aspect: excitement\n",
            "\n",
            "Using undersample sampling:\n"
          ]
        },
        {
          "output_type": "stream",
          "name": "stderr",
          "text": [
            "/usr/local/lib/python3.11/dist-packages/keras/src/layers/core/embedding.py:90: UserWarning: Argument `input_length` is deprecated. Just remove it.\n",
            "  warnings.warn(\n"
          ]
        },
        {
          "output_type": "stream",
          "name": "stdout",
          "text": [
            "\n",
            "Fold 1 Results:\n",
            "              precision    recall  f1-score   support\n",
            "\n",
            "          -1       0.17      0.26      0.20       152\n",
            "           0       0.62      0.30      0.41       583\n",
            "           1       0.35      0.61      0.44       290\n",
            "\n",
            "    accuracy                           0.38      1025\n",
            "   macro avg       0.38      0.39      0.35      1025\n",
            "weighted avg       0.48      0.38      0.39      1025\n",
            "\n"
          ]
        },
        {
          "output_type": "stream",
          "name": "stderr",
          "text": [
            "/usr/local/lib/python3.11/dist-packages/keras/src/layers/core/embedding.py:90: UserWarning: Argument `input_length` is deprecated. Just remove it.\n",
            "  warnings.warn(\n"
          ]
        },
        {
          "output_type": "stream",
          "name": "stdout",
          "text": [
            "\n",
            "Fold 2 Results:\n",
            "              precision    recall  f1-score   support\n",
            "\n",
            "          -1       0.24      0.20      0.22       152\n",
            "           0       0.63      0.58      0.61       583\n",
            "           1       0.38      0.47      0.42       289\n",
            "\n",
            "    accuracy                           0.49      1024\n",
            "   macro avg       0.42      0.42      0.41      1024\n",
            "weighted avg       0.50      0.49      0.50      1024\n",
            "\n"
          ]
        },
        {
          "output_type": "stream",
          "name": "stderr",
          "text": [
            "/usr/local/lib/python3.11/dist-packages/keras/src/layers/core/embedding.py:90: UserWarning: Argument `input_length` is deprecated. Just remove it.\n",
            "  warnings.warn(\n"
          ]
        },
        {
          "output_type": "stream",
          "name": "stdout",
          "text": [
            "\n",
            "Fold 3 Results:\n",
            "              precision    recall  f1-score   support\n",
            "\n",
            "          -1       0.22      0.35      0.27       151\n",
            "           0       0.62      0.55      0.59       583\n",
            "           1       0.38      0.35      0.37       290\n",
            "\n",
            "    accuracy                           0.47      1024\n",
            "   macro avg       0.41      0.42      0.41      1024\n",
            "weighted avg       0.50      0.47      0.48      1024\n",
            "\n"
          ]
        },
        {
          "output_type": "stream",
          "name": "stderr",
          "text": [
            "/usr/local/lib/python3.11/dist-packages/keras/src/layers/core/embedding.py:90: UserWarning: Argument `input_length` is deprecated. Just remove it.\n",
            "  warnings.warn(\n"
          ]
        },
        {
          "output_type": "stream",
          "name": "stdout",
          "text": [
            "\n",
            "Fold 4 Results:\n",
            "              precision    recall  f1-score   support\n",
            "\n",
            "          -1       0.26      0.20      0.22       152\n",
            "           0       0.66      0.30      0.41       582\n",
            "           1       0.33      0.75      0.46       290\n",
            "\n",
            "    accuracy                           0.41      1024\n",
            "   macro avg       0.42      0.41      0.37      1024\n",
            "weighted avg       0.51      0.41      0.40      1024\n",
            "\n"
          ]
        },
        {
          "output_type": "stream",
          "name": "stderr",
          "text": [
            "/usr/local/lib/python3.11/dist-packages/keras/src/layers/core/embedding.py:90: UserWarning: Argument `input_length` is deprecated. Just remove it.\n",
            "  warnings.warn(\n"
          ]
        },
        {
          "output_type": "stream",
          "name": "stdout",
          "text": [
            "\n",
            "Fold 5 Results:\n",
            "              precision    recall  f1-score   support\n",
            "\n",
            "          -1       0.22      0.50      0.30       152\n",
            "           0       0.71      0.22      0.33       582\n",
            "           1       0.38      0.66      0.49       290\n",
            "\n",
            "    accuracy                           0.38      1024\n",
            "   macro avg       0.44      0.46      0.37      1024\n",
            "weighted avg       0.54      0.38      0.37      1024\n",
            "\n",
            "Mean Accuracy: 0.4277 (±0.0450)\n",
            "\n",
            "Analyzing aspect: ovr_sent\n",
            "\n",
            "Using undersample sampling:\n"
          ]
        },
        {
          "output_type": "stream",
          "name": "stderr",
          "text": [
            "/usr/local/lib/python3.11/dist-packages/keras/src/layers/core/embedding.py:90: UserWarning: Argument `input_length` is deprecated. Just remove it.\n",
            "  warnings.warn(\n"
          ]
        },
        {
          "output_type": "stream",
          "name": "stdout",
          "text": [
            "\n",
            "Fold 1 Results:\n",
            "              precision    recall  f1-score   support\n",
            "\n",
            "          -1       0.44      0.51      0.47       344\n",
            "           0       0.26      0.46      0.33       152\n",
            "           1       0.65      0.43      0.52       529\n",
            "\n",
            "    accuracy                           0.46      1025\n",
            "   macro avg       0.45      0.47      0.44      1025\n",
            "weighted avg       0.52      0.46      0.48      1025\n",
            "\n"
          ]
        },
        {
          "output_type": "stream",
          "name": "stderr",
          "text": [
            "/usr/local/lib/python3.11/dist-packages/keras/src/layers/core/embedding.py:90: UserWarning: Argument `input_length` is deprecated. Just remove it.\n",
            "  warnings.warn(\n"
          ]
        },
        {
          "output_type": "stream",
          "name": "stdout",
          "text": [
            "\n",
            "Fold 2 Results:\n",
            "              precision    recall  f1-score   support\n",
            "\n",
            "          -1       0.49      0.41      0.44       343\n",
            "           0       0.30      0.47      0.37       152\n",
            "           1       0.61      0.59      0.60       529\n",
            "\n",
            "    accuracy                           0.51      1024\n",
            "   macro avg       0.47      0.49      0.47      1024\n",
            "weighted avg       0.53      0.51      0.51      1024\n",
            "\n"
          ]
        },
        {
          "output_type": "stream",
          "name": "stderr",
          "text": [
            "/usr/local/lib/python3.11/dist-packages/keras/src/layers/core/embedding.py:90: UserWarning: Argument `input_length` is deprecated. Just remove it.\n",
            "  warnings.warn(\n"
          ]
        },
        {
          "output_type": "stream",
          "name": "stdout",
          "text": [
            "\n",
            "Fold 3 Results:\n",
            "              precision    recall  f1-score   support\n",
            "\n",
            "          -1       0.48      0.48      0.48       343\n",
            "           0       0.28      0.50      0.36       153\n",
            "           1       0.67      0.51      0.58       528\n",
            "\n",
            "    accuracy                           0.50      1024\n",
            "   macro avg       0.48      0.50      0.47      1024\n",
            "weighted avg       0.55      0.50      0.51      1024\n",
            "\n"
          ]
        },
        {
          "output_type": "stream",
          "name": "stderr",
          "text": [
            "/usr/local/lib/python3.11/dist-packages/keras/src/layers/core/embedding.py:90: UserWarning: Argument `input_length` is deprecated. Just remove it.\n",
            "  warnings.warn(\n"
          ]
        },
        {
          "output_type": "stream",
          "name": "stdout",
          "text": [
            "\n",
            "Fold 4 Results:\n",
            "              precision    recall  f1-score   support\n",
            "\n",
            "          -1       0.50      0.38      0.43       344\n",
            "           0       0.21      0.61      0.32       152\n",
            "           1       0.70      0.44      0.54       528\n",
            "\n",
            "    accuracy                           0.44      1024\n",
            "   macro avg       0.47      0.47      0.43      1024\n",
            "weighted avg       0.56      0.44      0.47      1024\n",
            "\n"
          ]
        },
        {
          "output_type": "stream",
          "name": "stderr",
          "text": [
            "/usr/local/lib/python3.11/dist-packages/keras/src/layers/core/embedding.py:90: UserWarning: Argument `input_length` is deprecated. Just remove it.\n",
            "  warnings.warn(\n"
          ]
        },
        {
          "output_type": "stream",
          "name": "stdout",
          "text": [
            "\n",
            "Fold 5 Results:\n",
            "              precision    recall  f1-score   support\n",
            "\n",
            "          -1       0.49      0.53      0.51       344\n",
            "           0       0.25      0.51      0.33       152\n",
            "           1       0.63      0.41      0.50       528\n",
            "\n",
            "    accuracy                           0.47      1024\n",
            "   macro avg       0.46      0.48      0.45      1024\n",
            "weighted avg       0.53      0.47      0.48      1024\n",
            "\n",
            "Mean Accuracy: 0.4759 (±0.0240)\n"
          ]
        }
      ]
    },
    {
      "cell_type": "code",
      "source": [
        "sampling_techniques_over = ['oversample']\n",
        "results = analyze_all_aspects_dl(df, aspects, sampling_techniques_over)"
      ],
      "metadata": {
        "colab": {
          "base_uri": "https://localhost:8080/"
        },
        "id": "-Y10yJARG1aG",
        "outputId": "c84b020a-7a7e-4be7-a518-0a5052a83b98",
        "collapsed": true
      },
      "execution_count": null,
      "outputs": [
        {
          "output_type": "stream",
          "name": "stdout",
          "text": [
            "\n",
            "Analyzing aspect: Acting\n",
            "\n",
            "Using oversample sampling:\n"
          ]
        },
        {
          "output_type": "stream",
          "name": "stderr",
          "text": [
            "/usr/local/lib/python3.11/dist-packages/keras/src/layers/core/embedding.py:90: UserWarning: Argument `input_length` is deprecated. Just remove it.\n",
            "  warnings.warn(\n"
          ]
        },
        {
          "output_type": "stream",
          "name": "stdout",
          "text": [
            "\n",
            "Fold 1 Results:\n",
            "              precision    recall  f1-score   support\n",
            "\n",
            "          -1       0.06      0.41      0.10        34\n",
            "           0       0.81      0.53      0.64       770\n",
            "           1       0.31      0.41      0.35       221\n",
            "\n",
            "    accuracy                           0.50      1025\n",
            "   macro avg       0.39      0.45      0.37      1025\n",
            "weighted avg       0.68      0.50      0.56      1025\n",
            "\n"
          ]
        },
        {
          "output_type": "stream",
          "name": "stderr",
          "text": [
            "/usr/local/lib/python3.11/dist-packages/keras/src/layers/core/embedding.py:90: UserWarning: Argument `input_length` is deprecated. Just remove it.\n",
            "  warnings.warn(\n"
          ]
        },
        {
          "output_type": "stream",
          "name": "stdout",
          "text": [
            "\n",
            "Fold 2 Results:\n",
            "              precision    recall  f1-score   support\n",
            "\n",
            "          -1       0.05      0.24      0.08        33\n",
            "           0       0.81      0.54      0.65       769\n",
            "           1       0.31      0.49      0.38       222\n",
            "\n",
            "    accuracy                           0.52      1024\n",
            "   macro avg       0.39      0.42      0.37      1024\n",
            "weighted avg       0.67      0.52      0.57      1024\n",
            "\n"
          ]
        },
        {
          "output_type": "stream",
          "name": "stderr",
          "text": [
            "/usr/local/lib/python3.11/dist-packages/keras/src/layers/core/embedding.py:90: UserWarning: Argument `input_length` is deprecated. Just remove it.\n",
            "  warnings.warn(\n"
          ]
        },
        {
          "output_type": "stream",
          "name": "stdout",
          "text": [
            "\n",
            "Fold 3 Results:\n",
            "              precision    recall  f1-score   support\n",
            "\n",
            "          -1       0.06      0.30      0.10        33\n",
            "           0       0.81      0.50      0.62       769\n",
            "           1       0.28      0.46      0.35       222\n",
            "\n",
            "    accuracy                           0.49      1024\n",
            "   macro avg       0.38      0.42      0.35      1024\n",
            "weighted avg       0.67      0.49      0.54      1024\n",
            "\n"
          ]
        },
        {
          "output_type": "stream",
          "name": "stderr",
          "text": [
            "/usr/local/lib/python3.11/dist-packages/keras/src/layers/core/embedding.py:90: UserWarning: Argument `input_length` is deprecated. Just remove it.\n",
            "  warnings.warn(\n"
          ]
        },
        {
          "output_type": "stream",
          "name": "stdout",
          "text": [
            "\n",
            "Fold 4 Results:\n",
            "              precision    recall  f1-score   support\n",
            "\n",
            "          -1       0.04      0.30      0.08        33\n",
            "           0       0.82      0.44      0.57       769\n",
            "           1       0.30      0.53      0.39       222\n",
            "\n",
            "    accuracy                           0.46      1024\n",
            "   macro avg       0.39      0.42      0.35      1024\n",
            "weighted avg       0.69      0.46      0.52      1024\n",
            "\n"
          ]
        },
        {
          "output_type": "stream",
          "name": "stderr",
          "text": [
            "/usr/local/lib/python3.11/dist-packages/keras/src/layers/core/embedding.py:90: UserWarning: Argument `input_length` is deprecated. Just remove it.\n",
            "  warnings.warn(\n"
          ]
        },
        {
          "output_type": "stream",
          "name": "stdout",
          "text": [
            "\n",
            "Fold 5 Results:\n",
            "              precision    recall  f1-score   support\n",
            "\n",
            "          -1       0.07      0.35      0.11        34\n",
            "           0       0.80      0.60      0.69       769\n",
            "           1       0.31      0.37      0.34       221\n",
            "\n",
            "    accuracy                           0.55      1024\n",
            "   macro avg       0.39      0.44      0.38      1024\n",
            "weighted avg       0.67      0.55      0.59      1024\n",
            "\n",
            "Mean Accuracy: 0.5011 (±0.0301)\n",
            "\n",
            "Analyzing aspect: direction\n",
            "\n",
            "Using oversample sampling:\n"
          ]
        },
        {
          "output_type": "stream",
          "name": "stderr",
          "text": [
            "/usr/local/lib/python3.11/dist-packages/keras/src/layers/core/embedding.py:90: UserWarning: Argument `input_length` is deprecated. Just remove it.\n",
            "  warnings.warn(\n"
          ]
        },
        {
          "output_type": "stream",
          "name": "stdout",
          "text": [
            "\n",
            "Fold 1 Results:\n",
            "              precision    recall  f1-score   support\n",
            "\n",
            "          -1       0.25      0.33      0.28       139\n",
            "           0       0.84      0.60      0.70       824\n",
            "           1       0.06      0.26      0.10        62\n",
            "\n",
            "    accuracy                           0.55      1025\n",
            "   macro avg       0.39      0.40      0.36      1025\n",
            "weighted avg       0.71      0.55      0.61      1025\n",
            "\n"
          ]
        },
        {
          "output_type": "stream",
          "name": "stderr",
          "text": [
            "/usr/local/lib/python3.11/dist-packages/keras/src/layers/core/embedding.py:90: UserWarning: Argument `input_length` is deprecated. Just remove it.\n",
            "  warnings.warn(\n"
          ]
        },
        {
          "output_type": "stream",
          "name": "stdout",
          "text": [
            "\n",
            "Fold 2 Results:\n",
            "              precision    recall  f1-score   support\n",
            "\n",
            "          -1       0.24      0.57      0.33       138\n",
            "           0       0.88      0.54      0.66       824\n",
            "           1       0.09      0.26      0.13        62\n",
            "\n",
            "    accuracy                           0.52      1024\n",
            "   macro avg       0.40      0.46      0.38      1024\n",
            "weighted avg       0.74      0.52      0.59      1024\n",
            "\n"
          ]
        },
        {
          "output_type": "stream",
          "name": "stderr",
          "text": [
            "/usr/local/lib/python3.11/dist-packages/keras/src/layers/core/embedding.py:90: UserWarning: Argument `input_length` is deprecated. Just remove it.\n",
            "  warnings.warn(\n"
          ]
        },
        {
          "output_type": "stream",
          "name": "stdout",
          "text": [
            "\n",
            "Fold 3 Results:\n",
            "              precision    recall  f1-score   support\n",
            "\n",
            "          -1       0.24      0.51      0.32       139\n",
            "           0       0.87      0.59      0.71       823\n",
            "           1       0.10      0.27      0.15        62\n",
            "\n",
            "    accuracy                           0.56      1024\n",
            "   macro avg       0.40      0.46      0.39      1024\n",
            "weighted avg       0.74      0.56      0.62      1024\n",
            "\n"
          ]
        },
        {
          "output_type": "stream",
          "name": "stderr",
          "text": [
            "/usr/local/lib/python3.11/dist-packages/keras/src/layers/core/embedding.py:90: UserWarning: Argument `input_length` is deprecated. Just remove it.\n",
            "  warnings.warn(\n"
          ]
        },
        {
          "output_type": "stream",
          "name": "stdout",
          "text": [
            "\n",
            "Fold 4 Results:\n",
            "              precision    recall  f1-score   support\n",
            "\n",
            "          -1       0.23      0.30      0.26       139\n",
            "           0       0.85      0.57      0.68       823\n",
            "           1       0.09      0.40      0.14        62\n",
            "\n",
            "    accuracy                           0.52      1024\n",
            "   macro avg       0.39      0.42      0.36      1024\n",
            "weighted avg       0.72      0.52      0.59      1024\n",
            "\n"
          ]
        },
        {
          "output_type": "stream",
          "name": "stderr",
          "text": [
            "/usr/local/lib/python3.11/dist-packages/keras/src/layers/core/embedding.py:90: UserWarning: Argument `input_length` is deprecated. Just remove it.\n",
            "  warnings.warn(\n"
          ]
        },
        {
          "output_type": "stream",
          "name": "stdout",
          "text": [
            "\n",
            "Fold 5 Results:\n",
            "              precision    recall  f1-score   support\n",
            "\n",
            "          -1       0.20      0.43      0.27       139\n",
            "           0       0.87      0.54      0.66       823\n",
            "           1       0.07      0.26      0.12        62\n",
            "\n",
            "    accuracy                           0.50      1024\n",
            "   macro avg       0.38      0.41      0.35      1024\n",
            "weighted avg       0.73      0.50      0.58      1024\n",
            "\n",
            "Mean Accuracy: 0.5313 (±0.0202)\n",
            "\n",
            "Analyzing aspect: Music\n",
            "\n",
            "Using oversample sampling:\n"
          ]
        },
        {
          "output_type": "stream",
          "name": "stderr",
          "text": [
            "/usr/local/lib/python3.11/dist-packages/keras/src/layers/core/embedding.py:90: UserWarning: Argument `input_length` is deprecated. Just remove it.\n",
            "  warnings.warn(\n"
          ]
        },
        {
          "output_type": "stream",
          "name": "stdout",
          "text": [
            "\n",
            "Fold 1 Results:\n",
            "              precision    recall  f1-score   support\n",
            "\n",
            "          -1       0.01      0.09      0.03        22\n",
            "           0       0.88      0.69      0.77       897\n",
            "           1       0.12      0.22      0.16       106\n",
            "\n",
            "    accuracy                           0.62      1025\n",
            "   macro avg       0.34      0.33      0.32      1025\n",
            "weighted avg       0.78      0.62      0.69      1025\n",
            "\n"
          ]
        },
        {
          "output_type": "stream",
          "name": "stderr",
          "text": [
            "/usr/local/lib/python3.11/dist-packages/keras/src/layers/core/embedding.py:90: UserWarning: Argument `input_length` is deprecated. Just remove it.\n",
            "  warnings.warn(\n"
          ]
        },
        {
          "output_type": "stream",
          "name": "stdout",
          "text": [
            "\n",
            "Fold 2 Results:\n",
            "              precision    recall  f1-score   support\n",
            "\n",
            "          -1       0.03      0.29      0.05        21\n",
            "           0       0.90      0.70      0.78       897\n",
            "           1       0.15      0.17      0.16       106\n",
            "\n",
            "    accuracy                           0.63      1024\n",
            "   macro avg       0.36      0.38      0.33      1024\n",
            "weighted avg       0.80      0.63      0.70      1024\n",
            "\n"
          ]
        },
        {
          "output_type": "stream",
          "name": "stderr",
          "text": [
            "/usr/local/lib/python3.11/dist-packages/keras/src/layers/core/embedding.py:90: UserWarning: Argument `input_length` is deprecated. Just remove it.\n",
            "  warnings.warn(\n"
          ]
        },
        {
          "output_type": "stream",
          "name": "stdout",
          "text": [
            "\n",
            "Fold 3 Results:\n",
            "              precision    recall  f1-score   support\n",
            "\n",
            "          -1       0.01      0.10      0.02        21\n",
            "           0       0.91      0.59      0.72       897\n",
            "           1       0.14      0.40      0.21       106\n",
            "\n",
            "    accuracy                           0.56      1024\n",
            "   macro avg       0.36      0.36      0.32      1024\n",
            "weighted avg       0.81      0.56      0.65      1024\n",
            "\n"
          ]
        },
        {
          "output_type": "stream",
          "name": "stderr",
          "text": [
            "/usr/local/lib/python3.11/dist-packages/keras/src/layers/core/embedding.py:90: UserWarning: Argument `input_length` is deprecated. Just remove it.\n",
            "  warnings.warn(\n"
          ]
        },
        {
          "output_type": "stream",
          "name": "stdout",
          "text": [
            "\n",
            "Fold 4 Results:\n",
            "              precision    recall  f1-score   support\n",
            "\n",
            "          -1       0.02      0.14      0.03        21\n",
            "           0       0.90      0.61      0.72       897\n",
            "           1       0.13      0.30      0.18       106\n",
            "\n",
            "    accuracy                           0.56      1024\n",
            "   macro avg       0.35      0.35      0.31      1024\n",
            "weighted avg       0.80      0.56      0.65      1024\n",
            "\n"
          ]
        },
        {
          "output_type": "stream",
          "name": "stderr",
          "text": [
            "/usr/local/lib/python3.11/dist-packages/keras/src/layers/core/embedding.py:90: UserWarning: Argument `input_length` is deprecated. Just remove it.\n",
            "  warnings.warn(\n"
          ]
        },
        {
          "output_type": "stream",
          "name": "stdout",
          "text": [
            "\n",
            "Fold 5 Results:\n",
            "              precision    recall  f1-score   support\n",
            "\n",
            "          -1       0.04      0.36      0.07        22\n",
            "           0       0.91      0.61      0.73       896\n",
            "           1       0.13      0.26      0.17       106\n",
            "\n",
            "    accuracy                           0.57      1024\n",
            "   macro avg       0.36      0.41      0.33      1024\n",
            "weighted avg       0.81      0.57      0.66      1024\n",
            "\n",
            "Mean Accuracy: 0.5903 (±0.0320)\n",
            "\n",
            "Analyzing aspect: Genre\n",
            "\n",
            "Using oversample sampling:\n"
          ]
        },
        {
          "output_type": "stream",
          "name": "stderr",
          "text": [
            "/usr/local/lib/python3.11/dist-packages/keras/src/layers/core/embedding.py:90: UserWarning: Argument `input_length` is deprecated. Just remove it.\n",
            "  warnings.warn(\n"
          ]
        },
        {
          "output_type": "stream",
          "name": "stdout",
          "text": [
            "\n",
            "Fold 1 Results:\n",
            "              precision    recall  f1-score   support\n",
            "\n",
            "          -1       0.01      0.10      0.01        10\n",
            "           0       0.96      0.49      0.65       975\n",
            "           1       0.06      0.47      0.10        40\n",
            "\n",
            "    accuracy                           0.49      1025\n",
            "   macro avg       0.34      0.36      0.25      1025\n",
            "weighted avg       0.91      0.49      0.62      1025\n",
            "\n"
          ]
        },
        {
          "output_type": "stream",
          "name": "stderr",
          "text": [
            "/usr/local/lib/python3.11/dist-packages/keras/src/layers/core/embedding.py:90: UserWarning: Argument `input_length` is deprecated. Just remove it.\n",
            "  warnings.warn(\n"
          ]
        },
        {
          "output_type": "stream",
          "name": "stdout",
          "text": [
            "\n",
            "Fold 2 Results:\n",
            "              precision    recall  f1-score   support\n",
            "\n",
            "          -1       0.00      0.00      0.00        11\n",
            "           0       0.95      0.66      0.78       974\n",
            "           1       0.05      0.26      0.08        39\n",
            "\n",
            "    accuracy                           0.64      1024\n",
            "   macro avg       0.33      0.31      0.29      1024\n",
            "weighted avg       0.91      0.64      0.74      1024\n",
            "\n"
          ]
        },
        {
          "output_type": "stream",
          "name": "stderr",
          "text": [
            "/usr/local/lib/python3.11/dist-packages/keras/src/layers/core/embedding.py:90: UserWarning: Argument `input_length` is deprecated. Just remove it.\n",
            "  warnings.warn(\n"
          ]
        },
        {
          "output_type": "stream",
          "name": "stdout",
          "text": [
            "\n",
            "Fold 3 Results:\n",
            "              precision    recall  f1-score   support\n",
            "\n",
            "          -1       0.02      0.18      0.03        11\n",
            "           0       0.95      0.61      0.74       974\n",
            "           1       0.05      0.33      0.08        39\n",
            "\n",
            "    accuracy                           0.59      1024\n",
            "   macro avg       0.34      0.37      0.28      1024\n",
            "weighted avg       0.91      0.59      0.71      1024\n",
            "\n"
          ]
        },
        {
          "output_type": "stream",
          "name": "stderr",
          "text": [
            "/usr/local/lib/python3.11/dist-packages/keras/src/layers/core/embedding.py:90: UserWarning: Argument `input_length` is deprecated. Just remove it.\n",
            "  warnings.warn(\n"
          ]
        },
        {
          "output_type": "stream",
          "name": "stdout",
          "text": [
            "\n",
            "Fold 4 Results:\n",
            "              precision    recall  f1-score   support\n",
            "\n",
            "          -1       0.01      0.09      0.02        11\n",
            "           0       0.97      0.49      0.65       974\n",
            "           1       0.05      0.54      0.09        39\n",
            "\n",
            "    accuracy                           0.49      1024\n",
            "   macro avg       0.34      0.37      0.25      1024\n",
            "weighted avg       0.92      0.49      0.62      1024\n",
            "\n"
          ]
        },
        {
          "output_type": "stream",
          "name": "stderr",
          "text": [
            "/usr/local/lib/python3.11/dist-packages/keras/src/layers/core/embedding.py:90: UserWarning: Argument `input_length` is deprecated. Just remove it.\n",
            "  warnings.warn(\n"
          ]
        },
        {
          "output_type": "stream",
          "name": "stdout",
          "text": [
            "\n",
            "Fold 5 Results:\n",
            "              precision    recall  f1-score   support\n",
            "\n",
            "          -1       0.02      0.30      0.03        10\n",
            "           0       0.96      0.68      0.79       974\n",
            "           1       0.04      0.17      0.07        40\n",
            "\n",
            "    accuracy                           0.65      1024\n",
            "   macro avg       0.34      0.38      0.30      1024\n",
            "weighted avg       0.91      0.65      0.76      1024\n",
            "\n",
            "Mean Accuracy: 0.5720 (±0.0712)\n",
            "\n",
            "Analyzing aspect: excitement\n",
            "\n",
            "Using oversample sampling:\n"
          ]
        },
        {
          "output_type": "stream",
          "name": "stderr",
          "text": [
            "/usr/local/lib/python3.11/dist-packages/keras/src/layers/core/embedding.py:90: UserWarning: Argument `input_length` is deprecated. Just remove it.\n",
            "  warnings.warn(\n"
          ]
        },
        {
          "output_type": "stream",
          "name": "stdout",
          "text": [
            "\n",
            "Fold 1 Results:\n",
            "              precision    recall  f1-score   support\n",
            "\n",
            "          -1       0.19      0.47      0.27       152\n",
            "           0       0.63      0.24      0.35       583\n",
            "           1       0.38      0.55      0.45       290\n",
            "\n",
            "    accuracy                           0.36      1025\n",
            "   macro avg       0.40      0.42      0.35      1025\n",
            "weighted avg       0.49      0.36      0.36      1025\n",
            "\n"
          ]
        },
        {
          "output_type": "stream",
          "name": "stderr",
          "text": [
            "/usr/local/lib/python3.11/dist-packages/keras/src/layers/core/embedding.py:90: UserWarning: Argument `input_length` is deprecated. Just remove it.\n",
            "  warnings.warn(\n"
          ]
        },
        {
          "output_type": "stream",
          "name": "stdout",
          "text": [
            "\n",
            "Fold 2 Results:\n",
            "              precision    recall  f1-score   support\n",
            "\n",
            "          -1       0.20      0.43      0.28       152\n",
            "           0       0.68      0.19      0.29       583\n",
            "           1       0.37      0.69      0.48       289\n",
            "\n",
            "    accuracy                           0.37      1024\n",
            "   macro avg       0.42      0.44      0.35      1024\n",
            "weighted avg       0.52      0.37      0.34      1024\n",
            "\n"
          ]
        },
        {
          "output_type": "stream",
          "name": "stderr",
          "text": [
            "/usr/local/lib/python3.11/dist-packages/keras/src/layers/core/embedding.py:90: UserWarning: Argument `input_length` is deprecated. Just remove it.\n",
            "  warnings.warn(\n"
          ]
        },
        {
          "output_type": "stream",
          "name": "stdout",
          "text": [
            "\n",
            "Fold 3 Results:\n",
            "              precision    recall  f1-score   support\n",
            "\n",
            "          -1       0.21      0.57      0.30       151\n",
            "           0       0.62      0.36      0.46       583\n",
            "           1       0.39      0.37      0.38       290\n",
            "\n",
            "    accuracy                           0.39      1024\n",
            "   macro avg       0.41      0.43      0.38      1024\n",
            "weighted avg       0.50      0.39      0.41      1024\n",
            "\n"
          ]
        },
        {
          "output_type": "stream",
          "name": "stderr",
          "text": [
            "/usr/local/lib/python3.11/dist-packages/keras/src/layers/core/embedding.py:90: UserWarning: Argument `input_length` is deprecated. Just remove it.\n",
            "  warnings.warn(\n"
          ]
        },
        {
          "output_type": "stream",
          "name": "stdout",
          "text": [
            "\n",
            "Fold 4 Results:\n",
            "              precision    recall  f1-score   support\n",
            "\n",
            "          -1       0.23      0.37      0.28       152\n",
            "           0       0.66      0.26      0.37       582\n",
            "           1       0.35      0.67      0.46       290\n",
            "\n",
            "    accuracy                           0.39      1024\n",
            "   macro avg       0.41      0.43      0.37      1024\n",
            "weighted avg       0.51      0.39      0.38      1024\n",
            "\n"
          ]
        },
        {
          "output_type": "stream",
          "name": "stderr",
          "text": [
            "/usr/local/lib/python3.11/dist-packages/keras/src/layers/core/embedding.py:90: UserWarning: Argument `input_length` is deprecated. Just remove it.\n",
            "  warnings.warn(\n"
          ]
        },
        {
          "output_type": "stream",
          "name": "stdout",
          "text": [
            "\n",
            "Fold 5 Results:\n",
            "              precision    recall  f1-score   support\n",
            "\n",
            "          -1       0.23      0.47      0.31       152\n",
            "           0       0.66      0.35      0.46       582\n",
            "           1       0.42      0.59      0.49       290\n",
            "\n",
            "    accuracy                           0.44      1024\n",
            "   macro avg       0.44      0.47      0.42      1024\n",
            "weighted avg       0.53      0.44      0.45      1024\n",
            "\n",
            "Mean Accuracy: 0.3892 (±0.0267)\n",
            "\n",
            "Analyzing aspect: ovr_sent\n",
            "\n",
            "Using oversample sampling:\n"
          ]
        },
        {
          "output_type": "stream",
          "name": "stderr",
          "text": [
            "/usr/local/lib/python3.11/dist-packages/keras/src/layers/core/embedding.py:90: UserWarning: Argument `input_length` is deprecated. Just remove it.\n",
            "  warnings.warn(\n"
          ]
        },
        {
          "output_type": "stream",
          "name": "stdout",
          "text": [
            "\n",
            "Fold 1 Results:\n",
            "              precision    recall  f1-score   support\n",
            "\n",
            "          -1       0.46      0.49      0.48       344\n",
            "           0       0.24      0.54      0.34       152\n",
            "           1       0.68      0.41      0.51       529\n",
            "\n",
            "    accuracy                           0.46      1025\n",
            "   macro avg       0.46      0.48      0.44      1025\n",
            "weighted avg       0.54      0.46      0.47      1025\n",
            "\n"
          ]
        },
        {
          "output_type": "stream",
          "name": "stderr",
          "text": [
            "/usr/local/lib/python3.11/dist-packages/keras/src/layers/core/embedding.py:90: UserWarning: Argument `input_length` is deprecated. Just remove it.\n",
            "  warnings.warn(\n"
          ]
        },
        {
          "output_type": "stream",
          "name": "stdout",
          "text": [
            "\n",
            "Fold 2 Results:\n",
            "              precision    recall  f1-score   support\n",
            "\n",
            "          -1       0.51      0.43      0.46       343\n",
            "           0       0.23      0.47      0.31       152\n",
            "           1       0.64      0.51      0.57       529\n",
            "\n",
            "    accuracy                           0.48      1024\n",
            "   macro avg       0.46      0.47      0.45      1024\n",
            "weighted avg       0.53      0.48      0.50      1024\n",
            "\n"
          ]
        },
        {
          "output_type": "stream",
          "name": "stderr",
          "text": [
            "/usr/local/lib/python3.11/dist-packages/keras/src/layers/core/embedding.py:90: UserWarning: Argument `input_length` is deprecated. Just remove it.\n",
            "  warnings.warn(\n"
          ]
        },
        {
          "output_type": "stream",
          "name": "stdout",
          "text": [
            "\n",
            "Fold 3 Results:\n",
            "              precision    recall  f1-score   support\n",
            "\n",
            "          -1       0.52      0.42      0.47       343\n",
            "           0       0.26      0.52      0.35       153\n",
            "           1       0.69      0.57      0.62       528\n",
            "\n",
            "    accuracy                           0.51      1024\n",
            "   macro avg       0.49      0.51      0.48      1024\n",
            "weighted avg       0.57      0.51      0.53      1024\n",
            "\n"
          ]
        },
        {
          "output_type": "stream",
          "name": "stderr",
          "text": [
            "/usr/local/lib/python3.11/dist-packages/keras/src/layers/core/embedding.py:90: UserWarning: Argument `input_length` is deprecated. Just remove it.\n",
            "  warnings.warn(\n"
          ]
        },
        {
          "output_type": "stream",
          "name": "stdout",
          "text": [
            "\n",
            "Fold 4 Results:\n",
            "              precision    recall  f1-score   support\n",
            "\n",
            "          -1       0.48      0.46      0.47       344\n",
            "           0       0.28      0.36      0.31       152\n",
            "           1       0.67      0.63      0.65       528\n",
            "\n",
            "    accuracy                           0.53      1024\n",
            "   macro avg       0.48      0.48      0.48      1024\n",
            "weighted avg       0.55      0.53      0.54      1024\n",
            "\n"
          ]
        },
        {
          "output_type": "stream",
          "name": "stderr",
          "text": [
            "/usr/local/lib/python3.11/dist-packages/keras/src/layers/core/embedding.py:90: UserWarning: Argument `input_length` is deprecated. Just remove it.\n",
            "  warnings.warn(\n"
          ]
        },
        {
          "output_type": "stream",
          "name": "stdout",
          "text": [
            "\n",
            "Fold 5 Results:\n",
            "              precision    recall  f1-score   support\n",
            "\n",
            "          -1       0.52      0.50      0.51       344\n",
            "           0       0.21      0.61      0.31       152\n",
            "           1       0.72      0.34      0.46       528\n",
            "\n",
            "    accuracy                           0.43      1024\n",
            "   macro avg       0.48      0.48      0.43      1024\n",
            "weighted avg       0.58      0.43      0.46      1024\n",
            "\n",
            "Mean Accuracy: 0.4831 (±0.0364)\n"
          ]
        }
      ]
    },
    {
      "cell_type": "markdown",
      "source": [
        "dravidian W2vec"
      ],
      "metadata": {
        "id": "kwZq-jTeLAcJ"
      }
    },
    {
      "cell_type": "code",
      "source": [
        "aspects = ['Acting', 'direction', 'Music', 'Genre', 'excitement', 'ovr_sent']\n",
        "sampling_techniques_under = ['undersample']\n",
        "results = analyze_all_aspects_dl(df, aspects, sampling_techniques_under)"
      ],
      "metadata": {
        "colab": {
          "base_uri": "https://localhost:8080/"
        },
        "id": "vb2kqAN_4lu2",
        "outputId": "de0467a1-badc-4e29-c38e-3e6fa0bb7f69",
        "collapsed": true
      },
      "execution_count": null,
      "outputs": [
        {
          "output_type": "stream",
          "name": "stdout",
          "text": [
            "\n",
            "Analyzing aspect: Acting\n",
            "\n",
            "Using undersample sampling:\n"
          ]
        },
        {
          "output_type": "stream",
          "name": "stderr",
          "text": [
            "/usr/local/lib/python3.11/dist-packages/keras/src/layers/core/embedding.py:90: UserWarning: Argument `input_length` is deprecated. Just remove it.\n",
            "  warnings.warn(\n"
          ]
        },
        {
          "output_type": "stream",
          "name": "stdout",
          "text": [
            "\n",
            "Fold 1 Results:\n",
            "              precision    recall  f1-score   support\n",
            "\n",
            "          -1       0.06      0.35      0.10        34\n",
            "           0       0.91      0.51      0.65       770\n",
            "           1       0.45      0.82      0.58       221\n",
            "\n",
            "    accuracy                           0.57      1025\n",
            "   macro avg       0.48      0.56      0.45      1025\n",
            "weighted avg       0.79      0.57      0.62      1025\n",
            "\n"
          ]
        },
        {
          "output_type": "stream",
          "name": "stderr",
          "text": [
            "/usr/local/lib/python3.11/dist-packages/keras/src/layers/core/embedding.py:90: UserWarning: Argument `input_length` is deprecated. Just remove it.\n",
            "  warnings.warn(\n"
          ]
        },
        {
          "output_type": "stream",
          "name": "stdout",
          "text": [
            "\n",
            "Fold 2 Results:\n",
            "              precision    recall  f1-score   support\n",
            "\n",
            "          -1       0.09      0.52      0.16        33\n",
            "           0       0.91      0.64      0.75       769\n",
            "           1       0.55      0.73      0.63       222\n",
            "\n",
            "    accuracy                           0.66      1024\n",
            "   macro avg       0.52      0.63      0.51      1024\n",
            "weighted avg       0.80      0.66      0.71      1024\n",
            "\n"
          ]
        },
        {
          "output_type": "stream",
          "name": "stderr",
          "text": [
            "/usr/local/lib/python3.11/dist-packages/keras/src/layers/core/embedding.py:90: UserWarning: Argument `input_length` is deprecated. Just remove it.\n",
            "  warnings.warn(\n"
          ]
        },
        {
          "output_type": "stream",
          "name": "stdout",
          "text": [
            "\n",
            "Fold 3 Results:\n",
            "              precision    recall  f1-score   support\n",
            "\n",
            "          -1       0.14      0.55      0.22        33\n",
            "           0       0.92      0.56      0.70       769\n",
            "           1       0.41      0.77      0.53       222\n",
            "\n",
            "    accuracy                           0.61      1024\n",
            "   macro avg       0.49      0.63      0.48      1024\n",
            "weighted avg       0.78      0.61      0.65      1024\n",
            "\n"
          ]
        },
        {
          "output_type": "stream",
          "name": "stderr",
          "text": [
            "/usr/local/lib/python3.11/dist-packages/keras/src/layers/core/embedding.py:90: UserWarning: Argument `input_length` is deprecated. Just remove it.\n",
            "  warnings.warn(\n"
          ]
        },
        {
          "output_type": "stream",
          "name": "stdout",
          "text": [
            "\n",
            "Fold 4 Results:\n",
            "              precision    recall  f1-score   support\n",
            "\n",
            "          -1       0.09      0.55      0.16        33\n",
            "           0       0.90      0.54      0.67       769\n",
            "           1       0.45      0.74      0.56       222\n",
            "\n",
            "    accuracy                           0.58      1024\n",
            "   macro avg       0.48      0.61      0.46      1024\n",
            "weighted avg       0.78      0.58      0.63      1024\n",
            "\n"
          ]
        },
        {
          "output_type": "stream",
          "name": "stderr",
          "text": [
            "/usr/local/lib/python3.11/dist-packages/keras/src/layers/core/embedding.py:90: UserWarning: Argument `input_length` is deprecated. Just remove it.\n",
            "  warnings.warn(\n"
          ]
        },
        {
          "output_type": "stream",
          "name": "stdout",
          "text": [
            "\n",
            "Fold 5 Results:\n",
            "              precision    recall  f1-score   support\n",
            "\n",
            "          -1       0.11      0.50      0.18        34\n",
            "           0       0.90      0.60      0.72       769\n",
            "           1       0.45      0.73      0.55       221\n",
            "\n",
            "    accuracy                           0.62      1024\n",
            "   macro avg       0.49      0.61      0.49      1024\n",
            "weighted avg       0.78      0.62      0.67      1024\n",
            "\n",
            "Mean Accuracy: 0.6085 (±0.0314)\n",
            "\n",
            "Analyzing aspect: direction\n",
            "\n",
            "Using undersample sampling:\n"
          ]
        },
        {
          "output_type": "stream",
          "name": "stderr",
          "text": [
            "/usr/local/lib/python3.11/dist-packages/keras/src/layers/core/embedding.py:90: UserWarning: Argument `input_length` is deprecated. Just remove it.\n",
            "  warnings.warn(\n"
          ]
        },
        {
          "output_type": "stream",
          "name": "stdout",
          "text": [
            "\n",
            "Fold 1 Results:\n",
            "              precision    recall  f1-score   support\n",
            "\n",
            "          -1       0.33      0.61      0.43       139\n",
            "           0       0.91      0.69      0.79       824\n",
            "           1       0.24      0.55      0.33        62\n",
            "\n",
            "    accuracy                           0.67      1025\n",
            "   macro avg       0.49      0.62      0.52      1025\n",
            "weighted avg       0.79      0.67      0.71      1025\n",
            "\n"
          ]
        },
        {
          "output_type": "stream",
          "name": "stderr",
          "text": [
            "/usr/local/lib/python3.11/dist-packages/keras/src/layers/core/embedding.py:90: UserWarning: Argument `input_length` is deprecated. Just remove it.\n",
            "  warnings.warn(\n"
          ]
        },
        {
          "output_type": "stream",
          "name": "stdout",
          "text": [
            "\n",
            "Fold 2 Results:\n",
            "              precision    recall  f1-score   support\n",
            "\n",
            "          -1       0.37      0.64      0.47       138\n",
            "           0       0.93      0.68      0.79       824\n",
            "           1       0.22      0.65      0.33        62\n",
            "\n",
            "    accuracy                           0.67      1024\n",
            "   macro avg       0.51      0.66      0.53      1024\n",
            "weighted avg       0.81      0.67      0.72      1024\n",
            "\n"
          ]
        },
        {
          "output_type": "stream",
          "name": "stderr",
          "text": [
            "/usr/local/lib/python3.11/dist-packages/keras/src/layers/core/embedding.py:90: UserWarning: Argument `input_length` is deprecated. Just remove it.\n",
            "  warnings.warn(\n"
          ]
        },
        {
          "output_type": "stream",
          "name": "stdout",
          "text": [
            "\n",
            "Fold 3 Results:\n",
            "              precision    recall  f1-score   support\n",
            "\n",
            "          -1       0.32      0.78      0.46       139\n",
            "           0       0.95      0.63      0.75       823\n",
            "           1       0.23      0.56      0.33        62\n",
            "\n",
            "    accuracy                           0.64      1024\n",
            "   macro avg       0.50      0.66      0.51      1024\n",
            "weighted avg       0.82      0.64      0.69      1024\n",
            "\n"
          ]
        },
        {
          "output_type": "stream",
          "name": "stderr",
          "text": [
            "/usr/local/lib/python3.11/dist-packages/keras/src/layers/core/embedding.py:90: UserWarning: Argument `input_length` is deprecated. Just remove it.\n",
            "  warnings.warn(\n"
          ]
        },
        {
          "output_type": "stream",
          "name": "stdout",
          "text": [
            "\n",
            "Fold 4 Results:\n",
            "              precision    recall  f1-score   support\n",
            "\n",
            "          -1       0.34      0.77      0.47       139\n",
            "           0       0.95      0.56      0.71       823\n",
            "           1       0.17      0.63      0.27        62\n",
            "\n",
            "    accuracy                           0.59      1024\n",
            "   macro avg       0.49      0.65      0.48      1024\n",
            "weighted avg       0.82      0.59      0.65      1024\n",
            "\n"
          ]
        },
        {
          "output_type": "stream",
          "name": "stderr",
          "text": [
            "/usr/local/lib/python3.11/dist-packages/keras/src/layers/core/embedding.py:90: UserWarning: Argument `input_length` is deprecated. Just remove it.\n",
            "  warnings.warn(\n"
          ]
        },
        {
          "output_type": "stream",
          "name": "stdout",
          "text": [
            "\n",
            "Fold 5 Results:\n",
            "              precision    recall  f1-score   support\n",
            "\n",
            "          -1       0.32      0.79      0.46       139\n",
            "           0       0.95      0.47      0.63       823\n",
            "           1       0.14      0.60      0.22        62\n",
            "\n",
            "    accuracy                           0.52      1024\n",
            "   macro avg       0.47      0.62      0.44      1024\n",
            "weighted avg       0.81      0.52      0.58      1024\n",
            "\n",
            "Mean Accuracy: 0.6215 (±0.0579)\n",
            "\n",
            "Analyzing aspect: Music\n",
            "\n",
            "Using undersample sampling:\n"
          ]
        },
        {
          "output_type": "stream",
          "name": "stderr",
          "text": [
            "/usr/local/lib/python3.11/dist-packages/keras/src/layers/core/embedding.py:90: UserWarning: Argument `input_length` is deprecated. Just remove it.\n",
            "  warnings.warn(\n"
          ]
        },
        {
          "output_type": "stream",
          "name": "stdout",
          "text": [
            "\n",
            "Fold 1 Results:\n",
            "              precision    recall  f1-score   support\n",
            "\n",
            "          -1       0.09      0.68      0.17        22\n",
            "           0       0.97      0.79      0.87       897\n",
            "           1       0.47      0.62      0.54       106\n",
            "\n",
            "    accuracy                           0.77      1025\n",
            "   macro avg       0.51      0.70      0.52      1025\n",
            "weighted avg       0.90      0.77      0.82      1025\n",
            "\n"
          ]
        },
        {
          "output_type": "stream",
          "name": "stderr",
          "text": [
            "/usr/local/lib/python3.11/dist-packages/keras/src/layers/core/embedding.py:90: UserWarning: Argument `input_length` is deprecated. Just remove it.\n",
            "  warnings.warn(\n"
          ]
        },
        {
          "output_type": "stream",
          "name": "stdout",
          "text": [
            "\n",
            "Fold 2 Results:\n",
            "              precision    recall  f1-score   support\n",
            "\n",
            "          -1       0.13      0.52      0.20        21\n",
            "           0       0.98      0.76      0.85       897\n",
            "           1       0.35      0.80      0.49       106\n",
            "\n",
            "    accuracy                           0.76      1024\n",
            "   macro avg       0.48      0.69      0.51      1024\n",
            "weighted avg       0.90      0.76      0.80      1024\n",
            "\n"
          ]
        },
        {
          "output_type": "stream",
          "name": "stderr",
          "text": [
            "/usr/local/lib/python3.11/dist-packages/keras/src/layers/core/embedding.py:90: UserWarning: Argument `input_length` is deprecated. Just remove it.\n",
            "  warnings.warn(\n"
          ]
        },
        {
          "output_type": "stream",
          "name": "stdout",
          "text": [
            "\n",
            "Fold 3 Results:\n",
            "              precision    recall  f1-score   support\n",
            "\n",
            "          -1       0.11      0.67      0.20        21\n",
            "           0       0.98      0.81      0.88       897\n",
            "           1       0.44      0.67      0.53       106\n",
            "\n",
            "    accuracy                           0.79      1024\n",
            "   macro avg       0.51      0.71      0.54      1024\n",
            "weighted avg       0.90      0.79      0.83      1024\n",
            "\n"
          ]
        },
        {
          "output_type": "stream",
          "name": "stderr",
          "text": [
            "/usr/local/lib/python3.11/dist-packages/keras/src/layers/core/embedding.py:90: UserWarning: Argument `input_length` is deprecated. Just remove it.\n",
            "  warnings.warn(\n"
          ]
        },
        {
          "output_type": "stream",
          "name": "stdout",
          "text": [
            "\n",
            "Fold 4 Results:\n",
            "              precision    recall  f1-score   support\n",
            "\n",
            "          -1       0.21      0.62      0.31        21\n",
            "           0       0.96      0.86      0.91       897\n",
            "           1       0.42      0.63      0.51       106\n",
            "\n",
            "    accuracy                           0.83      1024\n",
            "   macro avg       0.53      0.70      0.58      1024\n",
            "weighted avg       0.89      0.83      0.86      1024\n",
            "\n"
          ]
        },
        {
          "output_type": "stream",
          "name": "stderr",
          "text": [
            "/usr/local/lib/python3.11/dist-packages/keras/src/layers/core/embedding.py:90: UserWarning: Argument `input_length` is deprecated. Just remove it.\n",
            "  warnings.warn(\n"
          ]
        },
        {
          "output_type": "stream",
          "name": "stdout",
          "text": [
            "\n",
            "Fold 5 Results:\n",
            "              precision    recall  f1-score   support\n",
            "\n",
            "          -1       0.11      0.73      0.19        22\n",
            "           0       0.96      0.86      0.91       896\n",
            "           1       0.58      0.42      0.49       106\n",
            "\n",
            "    accuracy                           0.81      1024\n",
            "   macro avg       0.55      0.67      0.53      1024\n",
            "weighted avg       0.91      0.81      0.85      1024\n",
            "\n",
            "Mean Accuracy: 0.7918 (±0.0289)\n",
            "\n",
            "Analyzing aspect: Genre\n",
            "\n",
            "Using undersample sampling:\n"
          ]
        },
        {
          "output_type": "stream",
          "name": "stderr",
          "text": [
            "/usr/local/lib/python3.11/dist-packages/keras/src/layers/core/embedding.py:90: UserWarning: Argument `input_length` is deprecated. Just remove it.\n",
            "  warnings.warn(\n"
          ]
        },
        {
          "output_type": "stream",
          "name": "stdout",
          "text": [
            "\n",
            "Fold 1 Results:\n",
            "              precision    recall  f1-score   support\n",
            "\n",
            "          -1       0.01      0.10      0.01        10\n",
            "           0       0.99      0.09      0.17       975\n",
            "           1       0.04      0.80      0.08        40\n",
            "\n",
            "    accuracy                           0.12      1025\n",
            "   macro avg       0.35      0.33      0.09      1025\n",
            "weighted avg       0.94      0.12      0.16      1025\n",
            "\n"
          ]
        },
        {
          "output_type": "stream",
          "name": "stderr",
          "text": [
            "/usr/local/lib/python3.11/dist-packages/keras/src/layers/core/embedding.py:90: UserWarning: Argument `input_length` is deprecated. Just remove it.\n",
            "  warnings.warn(\n"
          ]
        },
        {
          "output_type": "stream",
          "name": "stdout",
          "text": [
            "\n",
            "Fold 2 Results:\n",
            "              precision    recall  f1-score   support\n",
            "\n",
            "          -1       0.04      0.91      0.08        11\n",
            "           0       0.99      0.28      0.44       974\n",
            "           1       0.05      0.59      0.09        39\n",
            "\n",
            "    accuracy                           0.30      1024\n",
            "   macro avg       0.36      0.59      0.20      1024\n",
            "weighted avg       0.95      0.30      0.42      1024\n",
            "\n"
          ]
        },
        {
          "output_type": "stream",
          "name": "stderr",
          "text": [
            "/usr/local/lib/python3.11/dist-packages/keras/src/layers/core/embedding.py:90: UserWarning: Argument `input_length` is deprecated. Just remove it.\n",
            "  warnings.warn(\n"
          ]
        },
        {
          "output_type": "stream",
          "name": "stdout",
          "text": [
            "\n",
            "Fold 3 Results:\n",
            "              precision    recall  f1-score   support\n",
            "\n",
            "          -1       0.01      0.18      0.02        11\n",
            "           0       0.97      0.54      0.69       974\n",
            "           1       0.07      0.56      0.12        39\n",
            "\n",
            "    accuracy                           0.54      1024\n",
            "   macro avg       0.35      0.43      0.28      1024\n",
            "weighted avg       0.93      0.54      0.67      1024\n",
            "\n"
          ]
        },
        {
          "output_type": "stream",
          "name": "stderr",
          "text": [
            "/usr/local/lib/python3.11/dist-packages/keras/src/layers/core/embedding.py:90: UserWarning: Argument `input_length` is deprecated. Just remove it.\n",
            "  warnings.warn(\n"
          ]
        },
        {
          "output_type": "stream",
          "name": "stdout",
          "text": [
            "\n",
            "Fold 4 Results:\n",
            "              precision    recall  f1-score   support\n",
            "\n",
            "          -1       0.02      0.36      0.05        11\n",
            "           0       0.99      0.39      0.56       974\n",
            "           1       0.06      0.77      0.12        39\n",
            "\n",
            "    accuracy                           0.41      1024\n",
            "   macro avg       0.36      0.51      0.24      1024\n",
            "weighted avg       0.94      0.41      0.54      1024\n",
            "\n"
          ]
        },
        {
          "output_type": "stream",
          "name": "stderr",
          "text": [
            "/usr/local/lib/python3.11/dist-packages/keras/src/layers/core/embedding.py:90: UserWarning: Argument `input_length` is deprecated. Just remove it.\n",
            "  warnings.warn(\n"
          ]
        },
        {
          "output_type": "stream",
          "name": "stdout",
          "text": [
            "\n",
            "Fold 5 Results:\n",
            "              precision    recall  f1-score   support\n",
            "\n",
            "          -1       0.02      0.80      0.04        10\n",
            "           0       0.98      0.52      0.68       974\n",
            "           1       0.08      0.30      0.12        40\n",
            "\n",
            "    accuracy                           0.52      1024\n",
            "   macro avg       0.36      0.54      0.28      1024\n",
            "weighted avg       0.93      0.52      0.65      1024\n",
            "\n",
            "Mean Accuracy: 0.3767 (±0.1542)\n",
            "\n",
            "Analyzing aspect: excitement\n",
            "\n",
            "Using undersample sampling:\n"
          ]
        },
        {
          "output_type": "stream",
          "name": "stderr",
          "text": [
            "/usr/local/lib/python3.11/dist-packages/keras/src/layers/core/embedding.py:90: UserWarning: Argument `input_length` is deprecated. Just remove it.\n",
            "  warnings.warn(\n"
          ]
        },
        {
          "output_type": "stream",
          "name": "stdout",
          "text": [
            "\n",
            "Fold 1 Results:\n",
            "              precision    recall  f1-score   support\n",
            "\n",
            "          -1       0.43      0.62      0.51       152\n",
            "           0       0.75      0.59      0.66       583\n",
            "           1       0.55      0.65      0.59       290\n",
            "\n",
            "    accuracy                           0.61      1025\n",
            "   macro avg       0.57      0.62      0.59      1025\n",
            "weighted avg       0.64      0.61      0.62      1025\n",
            "\n"
          ]
        },
        {
          "output_type": "stream",
          "name": "stderr",
          "text": [
            "/usr/local/lib/python3.11/dist-packages/keras/src/layers/core/embedding.py:90: UserWarning: Argument `input_length` is deprecated. Just remove it.\n",
            "  warnings.warn(\n"
          ]
        },
        {
          "output_type": "stream",
          "name": "stdout",
          "text": [
            "\n",
            "Fold 2 Results:\n",
            "              precision    recall  f1-score   support\n",
            "\n",
            "          -1       0.41      0.78      0.53       152\n",
            "           0       0.74      0.58      0.65       583\n",
            "           1       0.61      0.58      0.60       289\n",
            "\n",
            "    accuracy                           0.61      1024\n",
            "   macro avg       0.59      0.65      0.59      1024\n",
            "weighted avg       0.66      0.61      0.62      1024\n",
            "\n"
          ]
        },
        {
          "output_type": "stream",
          "name": "stderr",
          "text": [
            "/usr/local/lib/python3.11/dist-packages/keras/src/layers/core/embedding.py:90: UserWarning: Argument `input_length` is deprecated. Just remove it.\n",
            "  warnings.warn(\n"
          ]
        },
        {
          "output_type": "stream",
          "name": "stdout",
          "text": [
            "\n",
            "Fold 3 Results:\n",
            "              precision    recall  f1-score   support\n",
            "\n",
            "          -1       0.38      0.77      0.51       151\n",
            "           0       0.73      0.52      0.61       583\n",
            "           1       0.58      0.59      0.58       290\n",
            "\n",
            "    accuracy                           0.58      1024\n",
            "   macro avg       0.56      0.63      0.57      1024\n",
            "weighted avg       0.63      0.58      0.59      1024\n",
            "\n"
          ]
        },
        {
          "output_type": "stream",
          "name": "stderr",
          "text": [
            "/usr/local/lib/python3.11/dist-packages/keras/src/layers/core/embedding.py:90: UserWarning: Argument `input_length` is deprecated. Just remove it.\n",
            "  warnings.warn(\n"
          ]
        },
        {
          "output_type": "stream",
          "name": "stdout",
          "text": [
            "\n",
            "Fold 4 Results:\n",
            "              precision    recall  f1-score   support\n",
            "\n",
            "          -1       0.38      0.73      0.50       152\n",
            "           0       0.79      0.43      0.55       582\n",
            "           1       0.51      0.74      0.60       290\n",
            "\n",
            "    accuracy                           0.56      1024\n",
            "   macro avg       0.56      0.63      0.55      1024\n",
            "weighted avg       0.65      0.56      0.56      1024\n",
            "\n"
          ]
        },
        {
          "output_type": "stream",
          "name": "stderr",
          "text": [
            "/usr/local/lib/python3.11/dist-packages/keras/src/layers/core/embedding.py:90: UserWarning: Argument `input_length` is deprecated. Just remove it.\n",
            "  warnings.warn(\n"
          ]
        },
        {
          "output_type": "stream",
          "name": "stdout",
          "text": [
            "\n",
            "Fold 5 Results:\n",
            "              precision    recall  f1-score   support\n",
            "\n",
            "          -1       0.38      0.67      0.49       152\n",
            "           0       0.80      0.49      0.60       582\n",
            "           1       0.56      0.78      0.65       290\n",
            "\n",
            "    accuracy                           0.60      1024\n",
            "   macro avg       0.58      0.64      0.58      1024\n",
            "weighted avg       0.67      0.60      0.60      1024\n",
            "\n",
            "Mean Accuracy: 0.5917 (±0.0198)\n",
            "\n",
            "Analyzing aspect: ovr_sent\n",
            "\n",
            "Using undersample sampling:\n"
          ]
        },
        {
          "output_type": "stream",
          "name": "stderr",
          "text": [
            "/usr/local/lib/python3.11/dist-packages/keras/src/layers/core/embedding.py:90: UserWarning: Argument `input_length` is deprecated. Just remove it.\n",
            "  warnings.warn(\n"
          ]
        },
        {
          "output_type": "stream",
          "name": "stdout",
          "text": [
            "\n",
            "Fold 1 Results:\n",
            "              precision    recall  f1-score   support\n",
            "\n",
            "          -1       0.72      0.60      0.66       344\n",
            "           0       0.31      0.59      0.41       152\n",
            "           1       0.84      0.71      0.77       529\n",
            "\n",
            "    accuracy                           0.66      1025\n",
            "   macro avg       0.62      0.64      0.61      1025\n",
            "weighted avg       0.72      0.66      0.68      1025\n",
            "\n"
          ]
        },
        {
          "output_type": "stream",
          "name": "stderr",
          "text": [
            "/usr/local/lib/python3.11/dist-packages/keras/src/layers/core/embedding.py:90: UserWarning: Argument `input_length` is deprecated. Just remove it.\n",
            "  warnings.warn(\n"
          ]
        },
        {
          "output_type": "stream",
          "name": "stdout",
          "text": [
            "\n",
            "Fold 2 Results:\n",
            "              precision    recall  f1-score   support\n",
            "\n",
            "          -1       0.68      0.70      0.69       343\n",
            "           0       0.41      0.53      0.46       152\n",
            "           1       0.82      0.74      0.78       529\n",
            "\n",
            "    accuracy                           0.69      1024\n",
            "   macro avg       0.64      0.66      0.64      1024\n",
            "weighted avg       0.71      0.69      0.70      1024\n",
            "\n"
          ]
        },
        {
          "output_type": "stream",
          "name": "stderr",
          "text": [
            "/usr/local/lib/python3.11/dist-packages/keras/src/layers/core/embedding.py:90: UserWarning: Argument `input_length` is deprecated. Just remove it.\n",
            "  warnings.warn(\n"
          ]
        },
        {
          "output_type": "stream",
          "name": "stdout",
          "text": [
            "\n",
            "Fold 3 Results:\n",
            "              precision    recall  f1-score   support\n",
            "\n",
            "          -1       0.72      0.61      0.66       343\n",
            "           0       0.31      0.53      0.39       153\n",
            "           1       0.84      0.76      0.80       528\n",
            "\n",
            "    accuracy                           0.67      1024\n",
            "   macro avg       0.63      0.63      0.62      1024\n",
            "weighted avg       0.72      0.67      0.69      1024\n",
            "\n"
          ]
        },
        {
          "output_type": "stream",
          "name": "stderr",
          "text": [
            "/usr/local/lib/python3.11/dist-packages/keras/src/layers/core/embedding.py:90: UserWarning: Argument `input_length` is deprecated. Just remove it.\n",
            "  warnings.warn(\n"
          ]
        },
        {
          "output_type": "stream",
          "name": "stdout",
          "text": [
            "\n",
            "Fold 4 Results:\n",
            "              precision    recall  f1-score   support\n",
            "\n",
            "          -1       0.65      0.72      0.69       344\n",
            "           0       0.36      0.53      0.43       152\n",
            "           1       0.86      0.69      0.76       528\n",
            "\n",
            "    accuracy                           0.67      1024\n",
            "   macro avg       0.62      0.65      0.63      1024\n",
            "weighted avg       0.72      0.67      0.69      1024\n",
            "\n"
          ]
        },
        {
          "output_type": "stream",
          "name": "stderr",
          "text": [
            "/usr/local/lib/python3.11/dist-packages/keras/src/layers/core/embedding.py:90: UserWarning: Argument `input_length` is deprecated. Just remove it.\n",
            "  warnings.warn(\n"
          ]
        },
        {
          "output_type": "stream",
          "name": "stdout",
          "text": [
            "\n",
            "Fold 5 Results:\n",
            "              precision    recall  f1-score   support\n",
            "\n",
            "          -1       0.72      0.67      0.70       344\n",
            "           0       0.28      0.68      0.39       152\n",
            "           1       0.88      0.55      0.67       528\n",
            "\n",
            "    accuracy                           0.61      1024\n",
            "   macro avg       0.63      0.63      0.59      1024\n",
            "weighted avg       0.74      0.61      0.64      1024\n",
            "\n",
            "Mean Accuracy: 0.6618 (±0.0291)\n"
          ]
        }
      ]
    },
    {
      "cell_type": "code",
      "source": [
        "sampling_techniques_over = ['oversample']\n",
        "results = analyze_all_aspects_dl(df, aspects, sampling_techniques_over)"
      ],
      "metadata": {
        "colab": {
          "base_uri": "https://localhost:8080/"
        },
        "id": "ZO58RXX7K6rT",
        "outputId": "c6f5d6fa-87e8-4809-b8c2-3550df6475ad",
        "collapsed": true
      },
      "execution_count": null,
      "outputs": [
        {
          "metadata": {
            "tags": null
          },
          "name": "stdout",
          "output_type": "stream",
          "text": [
            "\n",
            "Analyzing aspect: Acting\n",
            "\n",
            "Using oversample sampling:\n"
          ]
        },
        {
          "metadata": {
            "tags": null
          },
          "name": "stderr",
          "output_type": "stream",
          "text": [
            "/usr/local/lib/python3.11/dist-packages/keras/src/layers/core/embedding.py:90: UserWarning: Argument `input_length` is deprecated. Just remove it.\n",
            "  warnings.warn(\n"
          ]
        },
        {
          "metadata": {
            "tags": null
          },
          "name": "stdout",
          "output_type": "stream",
          "text": [
            "\n",
            "Fold 1 Results:\n",
            "              precision    recall  f1-score   support\n",
            "\n",
            "          -1       0.11      0.15      0.13        34\n",
            "           0       0.90      0.89      0.89       770\n",
            "           1       0.69      0.67      0.68       221\n",
            "\n",
            "    accuracy                           0.82      1025\n",
            "   macro avg       0.56      0.57      0.57      1025\n",
            "weighted avg       0.83      0.82      0.82      1025\n",
            "\n"
          ]
        },
        {
          "metadata": {
            "tags": null
          },
          "name": "stderr",
          "output_type": "stream",
          "text": [
            "/usr/local/lib/python3.11/dist-packages/keras/src/layers/core/embedding.py:90: UserWarning: Argument `input_length` is deprecated. Just remove it.\n",
            "  warnings.warn(\n"
          ]
        },
        {
          "metadata": {
            "tags": null
          },
          "name": "stdout",
          "output_type": "stream",
          "text": [
            "\n",
            "Fold 2 Results:\n",
            "              precision    recall  f1-score   support\n",
            "\n",
            "          -1       0.14      0.18      0.16        33\n",
            "           0       0.86      0.91      0.89       769\n",
            "           1       0.68      0.52      0.59       222\n",
            "\n",
            "    accuracy                           0.80      1024\n",
            "   macro avg       0.56      0.54      0.55      1024\n",
            "weighted avg       0.80      0.80      0.80      1024\n",
            "\n"
          ]
        },
        {
          "metadata": {
            "tags": null
          },
          "name": "stderr",
          "output_type": "stream",
          "text": [
            "/usr/local/lib/python3.11/dist-packages/keras/src/layers/core/embedding.py:90: UserWarning: Argument `input_length` is deprecated. Just remove it.\n",
            "  warnings.warn(\n"
          ]
        },
        {
          "metadata": {
            "tags": null
          },
          "name": "stdout",
          "output_type": "stream",
          "text": [
            "\n",
            "Fold 3 Results:\n",
            "              precision    recall  f1-score   support\n",
            "\n",
            "          -1       0.09      0.09      0.09        33\n",
            "           0       0.89      0.84      0.86       769\n",
            "           1       0.59      0.70      0.64       222\n",
            "\n",
            "    accuracy                           0.78      1024\n",
            "   macro avg       0.52      0.54      0.53      1024\n",
            "weighted avg       0.80      0.78      0.79      1024\n",
            "\n"
          ]
        },
        {
          "metadata": {
            "tags": null
          },
          "name": "stderr",
          "output_type": "stream",
          "text": [
            "/usr/local/lib/python3.11/dist-packages/keras/src/layers/core/embedding.py:90: UserWarning: Argument `input_length` is deprecated. Just remove it.\n",
            "  warnings.warn(\n"
          ]
        },
        {
          "metadata": {
            "tags": null
          },
          "name": "stdout",
          "output_type": "stream",
          "text": [
            "\n",
            "Fold 4 Results:\n",
            "              precision    recall  f1-score   support\n",
            "\n",
            "          -1       0.07      0.09      0.08        33\n",
            "           0       0.88      0.86      0.87       769\n",
            "           1       0.62      0.64      0.63       222\n",
            "\n",
            "    accuracy                           0.79      1024\n",
            "   macro avg       0.53      0.53      0.53      1024\n",
            "weighted avg       0.80      0.79      0.79      1024\n",
            "\n"
          ]
        },
        {
          "metadata": {
            "tags": null
          },
          "name": "stderr",
          "output_type": "stream",
          "text": [
            "/usr/local/lib/python3.11/dist-packages/keras/src/layers/core/embedding.py:90: UserWarning: Argument `input_length` is deprecated. Just remove it.\n",
            "  warnings.warn(\n"
          ]
        },
        {
          "metadata": {
            "tags": null
          },
          "name": "stdout",
          "output_type": "stream",
          "text": [
            "\n",
            "Fold 5 Results:\n",
            "              precision    recall  f1-score   support\n",
            "\n",
            "          -1       0.12      0.24      0.16        34\n",
            "           0       0.90      0.83      0.86       769\n",
            "           1       0.61      0.69      0.65       221\n",
            "\n",
            "    accuracy                           0.78      1024\n",
            "   macro avg       0.55      0.59      0.56      1024\n",
            "weighted avg       0.81      0.78      0.79      1024\n",
            "\n",
            "Mean Accuracy: 0.7953 (±0.0135)\n",
            "\n",
            "Analyzing aspect: direction\n",
            "\n",
            "Using oversample sampling:\n"
          ]
        },
        {
          "metadata": {
            "tags": null
          },
          "name": "stderr",
          "output_type": "stream",
          "text": [
            "/usr/local/lib/python3.11/dist-packages/keras/src/layers/core/embedding.py:90: UserWarning: Argument `input_length` is deprecated. Just remove it.\n",
            "  warnings.warn(\n"
          ]
        },
        {
          "metadata": {
            "tags": null
          },
          "name": "stdout",
          "output_type": "stream",
          "text": [
            "\n",
            "Fold 1 Results:\n",
            "              precision    recall  f1-score   support\n",
            "\n",
            "          -1       0.39      0.29      0.34       139\n",
            "           0       0.85      0.90      0.88       824\n",
            "           1       0.35      0.27      0.31        62\n",
            "\n",
            "    accuracy                           0.78      1025\n",
            "   macro avg       0.53      0.49      0.51      1025\n",
            "weighted avg       0.76      0.78      0.77      1025\n",
            "\n"
          ]
        },
        {
          "metadata": {
            "tags": null
          },
          "name": "stderr",
          "output_type": "stream",
          "text": [
            "/usr/local/lib/python3.11/dist-packages/keras/src/layers/core/embedding.py:90: UserWarning: Argument `input_length` is deprecated. Just remove it.\n",
            "  warnings.warn(\n"
          ]
        },
        {
          "metadata": {
            "tags": null
          },
          "name": "stdout",
          "output_type": "stream",
          "text": [
            "\n",
            "Fold 2 Results:\n",
            "              precision    recall  f1-score   support\n",
            "\n",
            "          -1       0.50      0.41      0.45       138\n",
            "           0       0.86      0.91      0.88       824\n",
            "           1       0.36      0.26      0.30        62\n",
            "\n",
            "    accuracy                           0.80      1024\n",
            "   macro avg       0.57      0.53      0.54      1024\n",
            "weighted avg       0.78      0.80      0.79      1024\n",
            "\n"
          ]
        },
        {
          "metadata": {
            "tags": null
          },
          "name": "stderr",
          "output_type": "stream",
          "text": [
            "/usr/local/lib/python3.11/dist-packages/keras/src/layers/core/embedding.py:90: UserWarning: Argument `input_length` is deprecated. Just remove it.\n",
            "  warnings.warn(\n"
          ]
        },
        {
          "metadata": {
            "tags": null
          },
          "name": "stdout",
          "output_type": "stream",
          "text": [
            "\n",
            "Fold 3 Results:\n",
            "              precision    recall  f1-score   support\n",
            "\n",
            "          -1       0.44      0.36      0.40       139\n",
            "           0       0.86      0.91      0.88       823\n",
            "           1       0.42      0.27      0.33        62\n",
            "\n",
            "    accuracy                           0.79      1024\n",
            "   macro avg       0.57      0.51      0.54      1024\n",
            "weighted avg       0.77      0.79      0.78      1024\n",
            "\n"
          ]
        },
        {
          "metadata": {
            "tags": null
          },
          "name": "stderr",
          "output_type": "stream",
          "text": [
            "/usr/local/lib/python3.11/dist-packages/keras/src/layers/core/embedding.py:90: UserWarning: Argument `input_length` is deprecated. Just remove it.\n",
            "  warnings.warn(\n"
          ]
        },
        {
          "metadata": {
            "tags": null
          },
          "name": "stdout",
          "output_type": "stream",
          "text": [
            "\n",
            "Fold 4 Results:\n",
            "              precision    recall  f1-score   support\n",
            "\n",
            "          -1       0.46      0.17      0.25       139\n",
            "           0       0.84      0.94      0.89       823\n",
            "           1       0.42      0.34      0.38        62\n",
            "\n",
            "    accuracy                           0.80      1024\n",
            "   macro avg       0.57      0.49      0.51      1024\n",
            "weighted avg       0.77      0.80      0.77      1024\n",
            "\n"
          ]
        },
        {
          "metadata": {
            "tags": null
          },
          "name": "stderr",
          "output_type": "stream",
          "text": [
            "/usr/local/lib/python3.11/dist-packages/keras/src/layers/core/embedding.py:90: UserWarning: Argument `input_length` is deprecated. Just remove it.\n",
            "  warnings.warn(\n"
          ]
        },
        {
          "metadata": {
            "tags": null
          },
          "name": "stdout",
          "output_type": "stream",
          "text": [
            "\n",
            "Fold 5 Results:\n",
            "              precision    recall  f1-score   support\n",
            "\n",
            "          -1       0.41      0.37      0.39       139\n",
            "           0       0.86      0.89      0.87       823\n",
            "           1       0.32      0.27      0.30        62\n",
            "\n",
            "    accuracy                           0.78      1024\n",
            "   macro avg       0.53      0.51      0.52      1024\n",
            "weighted avg       0.77      0.78      0.77      1024\n",
            "\n",
            "Mean Accuracy: 0.7916 (±0.0093)\n",
            "\n",
            "Analyzing aspect: Music\n",
            "\n",
            "Using oversample sampling:\n"
          ]
        },
        {
          "metadata": {
            "tags": null
          },
          "name": "stderr",
          "output_type": "stream",
          "text": [
            "/usr/local/lib/python3.11/dist-packages/keras/src/layers/core/embedding.py:90: UserWarning: Argument `input_length` is deprecated. Just remove it.\n",
            "  warnings.warn(\n"
          ]
        },
        {
          "metadata": {
            "tags": null
          },
          "name": "stdout",
          "output_type": "stream",
          "text": [
            "\n",
            "Fold 1 Results:\n",
            "              precision    recall  f1-score   support\n",
            "\n",
            "          -1       0.24      0.32      0.27        22\n",
            "           0       0.97      0.93      0.95       897\n",
            "           1       0.51      0.64      0.57       106\n",
            "\n",
            "    accuracy                           0.89      1025\n",
            "   macro avg       0.57      0.63      0.60      1025\n",
            "weighted avg       0.91      0.89      0.90      1025\n",
            "\n"
          ]
        },
        {
          "metadata": {
            "tags": null
          },
          "name": "stderr",
          "output_type": "stream",
          "text": [
            "/usr/local/lib/python3.11/dist-packages/keras/src/layers/core/embedding.py:90: UserWarning: Argument `input_length` is deprecated. Just remove it.\n",
            "  warnings.warn(\n"
          ]
        },
        {
          "metadata": {
            "tags": null
          },
          "name": "stdout",
          "output_type": "stream",
          "text": [
            "\n",
            "Fold 2 Results:\n",
            "              precision    recall  f1-score   support\n",
            "\n",
            "          -1       0.11      0.19      0.14        21\n",
            "           0       0.97      0.94      0.95       897\n",
            "           1       0.63      0.71      0.67       106\n",
            "\n",
            "    accuracy                           0.90      1024\n",
            "   macro avg       0.57      0.61      0.59      1024\n",
            "weighted avg       0.92      0.90      0.91      1024\n",
            "\n"
          ]
        },
        {
          "metadata": {
            "tags": null
          },
          "name": "stderr",
          "output_type": "stream",
          "text": [
            "/usr/local/lib/python3.11/dist-packages/keras/src/layers/core/embedding.py:90: UserWarning: Argument `input_length` is deprecated. Just remove it.\n",
            "  warnings.warn(\n"
          ]
        },
        {
          "metadata": {
            "tags": null
          },
          "name": "stdout",
          "output_type": "stream",
          "text": [
            "\n",
            "Fold 3 Results:\n",
            "              precision    recall  f1-score   support\n",
            "\n",
            "          -1       0.16      0.43      0.23        21\n",
            "           0       0.98      0.95      0.96       897\n",
            "           1       0.69      0.61      0.65       106\n",
            "\n",
            "    accuracy                           0.90      1024\n",
            "   macro avg       0.61      0.66      0.61      1024\n",
            "weighted avg       0.93      0.90      0.92      1024\n",
            "\n"
          ]
        },
        {
          "metadata": {
            "tags": null
          },
          "name": "stderr",
          "output_type": "stream",
          "text": [
            "/usr/local/lib/python3.11/dist-packages/keras/src/layers/core/embedding.py:90: UserWarning: Argument `input_length` is deprecated. Just remove it.\n",
            "  warnings.warn(\n"
          ]
        },
        {
          "metadata": {
            "tags": null
          },
          "name": "stdout",
          "output_type": "stream",
          "text": [
            "\n",
            "Fold 4 Results:\n",
            "              precision    recall  f1-score   support\n",
            "\n",
            "          -1       0.12      0.29      0.17        21\n",
            "           0       0.97      0.95      0.96       897\n",
            "           1       0.70      0.65      0.67       106\n",
            "\n",
            "    accuracy                           0.91      1024\n",
            "   macro avg       0.60      0.63      0.60      1024\n",
            "weighted avg       0.93      0.91      0.92      1024\n",
            "\n"
          ]
        },
        {
          "metadata": {
            "tags": null
          },
          "name": "stderr",
          "output_type": "stream",
          "text": [
            "/usr/local/lib/python3.11/dist-packages/keras/src/layers/core/embedding.py:90: UserWarning: Argument `input_length` is deprecated. Just remove it.\n",
            "  warnings.warn(\n"
          ]
        },
        {
          "metadata": {
            "tags": null
          },
          "name": "stdout",
          "output_type": "stream",
          "text": [
            "\n",
            "Fold 5 Results:\n",
            "              precision    recall  f1-score   support\n",
            "\n",
            "          -1       0.14      0.14      0.14        22\n",
            "           0       0.96      0.93      0.94       896\n",
            "           1       0.54      0.72      0.62       106\n",
            "\n",
            "    accuracy                           0.89      1024\n",
            "   macro avg       0.55      0.59      0.57      1024\n",
            "weighted avg       0.90      0.89      0.89      1024\n",
            "\n",
            "Mean Accuracy: 0.8971 (±0.0075)\n",
            "\n",
            "Analyzing aspect: Genre\n",
            "\n",
            "Using oversample sampling:\n"
          ]
        },
        {
          "metadata": {
            "tags": null
          },
          "name": "stderr",
          "output_type": "stream",
          "text": [
            "/usr/local/lib/python3.11/dist-packages/keras/src/layers/core/embedding.py:90: UserWarning: Argument `input_length` is deprecated. Just remove it.\n",
            "  warnings.warn(\n"
          ]
        },
        {
          "metadata": {
            "tags": null
          },
          "name": "stdout",
          "output_type": "stream",
          "text": [
            "\n",
            "Fold 1 Results:\n",
            "              precision    recall  f1-score   support\n",
            "\n",
            "          -1       0.00      0.00      0.00        10\n",
            "           0       0.97      0.89      0.93       975\n",
            "           1       0.23      0.35      0.27        40\n",
            "\n",
            "    accuracy                           0.86      1025\n",
            "   macro avg       0.40      0.41      0.40      1025\n",
            "weighted avg       0.93      0.86      0.89      1025\n",
            "\n"
          ]
        },
        {
          "metadata": {
            "tags": null
          },
          "name": "stderr",
          "output_type": "stream",
          "text": [
            "/usr/local/lib/python3.11/dist-packages/keras/src/layers/core/embedding.py:90: UserWarning: Argument `input_length` is deprecated. Just remove it.\n",
            "  warnings.warn(\n"
          ]
        },
        {
          "metadata": {
            "tags": null
          },
          "name": "stdout",
          "output_type": "stream",
          "text": [
            "\n",
            "Fold 2 Results:\n",
            "              precision    recall  f1-score   support\n",
            "\n",
            "          -1       0.00      0.00      0.00        11\n",
            "           0       0.96      0.92      0.94       974\n",
            "           1       0.12      0.18      0.15        39\n",
            "\n",
            "    accuracy                           0.88      1024\n",
            "   macro avg       0.36      0.37      0.36      1024\n",
            "weighted avg       0.92      0.88      0.90      1024\n",
            "\n"
          ]
        },
        {
          "metadata": {
            "tags": null
          },
          "name": "stderr",
          "output_type": "stream",
          "text": [
            "/usr/local/lib/python3.11/dist-packages/keras/src/layers/core/embedding.py:90: UserWarning: Argument `input_length` is deprecated. Just remove it.\n",
            "  warnings.warn(\n"
          ]
        },
        {
          "output_type": "stream",
          "name": "stdout",
          "text": [
            "\n",
            "Fold 3 Results:\n",
            "              precision    recall  f1-score   support\n",
            "\n",
            "          -1       0.04      0.09      0.06        11\n",
            "           0       0.97      0.89      0.93       974\n",
            "           1       0.16      0.41      0.23        39\n",
            "\n",
            "    accuracy                           0.87      1024\n",
            "   macro avg       0.39      0.47      0.40      1024\n",
            "weighted avg       0.93      0.87      0.89      1024\n",
            "\n"
          ]
        },
        {
          "output_type": "stream",
          "name": "stderr",
          "text": [
            "/usr/local/lib/python3.11/dist-packages/keras/src/layers/core/embedding.py:90: UserWarning: Argument `input_length` is deprecated. Just remove it.\n",
            "  warnings.warn(\n"
          ]
        },
        {
          "output_type": "stream",
          "name": "stdout",
          "text": [
            "\n",
            "Fold 4 Results:\n",
            "              precision    recall  f1-score   support\n",
            "\n",
            "          -1       0.00      0.00      0.00        11\n",
            "           0       0.96      0.94      0.95       974\n",
            "           1       0.25      0.23      0.24        39\n",
            "\n",
            "    accuracy                           0.91      1024\n",
            "   macro avg       0.40      0.39      0.40      1024\n",
            "weighted avg       0.92      0.91      0.91      1024\n",
            "\n"
          ]
        },
        {
          "output_type": "stream",
          "name": "stderr",
          "text": [
            "/usr/local/lib/python3.11/dist-packages/keras/src/layers/core/embedding.py:90: UserWarning: Argument `input_length` is deprecated. Just remove it.\n",
            "  warnings.warn(\n"
          ]
        },
        {
          "output_type": "stream",
          "name": "stdout",
          "text": [
            "\n",
            "Fold 5 Results:\n",
            "              precision    recall  f1-score   support\n",
            "\n",
            "          -1       0.08      0.40      0.13        10\n",
            "           0       0.96      0.91      0.93       974\n",
            "           1       0.15      0.20      0.17        40\n",
            "\n",
            "    accuracy                           0.87      1024\n",
            "   macro avg       0.40      0.50      0.41      1024\n",
            "weighted avg       0.92      0.87      0.90      1024\n",
            "\n",
            "Mean Accuracy: 0.8782 (±0.0151)\n",
            "\n",
            "Analyzing aspect: excitement\n",
            "\n",
            "Using oversample sampling:\n"
          ]
        },
        {
          "output_type": "stream",
          "name": "stderr",
          "text": [
            "/usr/local/lib/python3.11/dist-packages/keras/src/layers/core/embedding.py:90: UserWarning: Argument `input_length` is deprecated. Just remove it.\n",
            "  warnings.warn(\n"
          ]
        },
        {
          "output_type": "stream",
          "name": "stdout",
          "text": [
            "\n",
            "Fold 1 Results:\n",
            "              precision    recall  f1-score   support\n",
            "\n",
            "          -1       0.34      0.34      0.34       152\n",
            "           0       0.69      0.73      0.71       583\n",
            "           1       0.65      0.57      0.61       290\n",
            "\n",
            "    accuracy                           0.63      1025\n",
            "   macro avg       0.56      0.55      0.55      1025\n",
            "weighted avg       0.63      0.63      0.63      1025\n",
            "\n"
          ]
        },
        {
          "output_type": "stream",
          "name": "stderr",
          "text": [
            "/usr/local/lib/python3.11/dist-packages/keras/src/layers/core/embedding.py:90: UserWarning: Argument `input_length` is deprecated. Just remove it.\n",
            "  warnings.warn(\n"
          ]
        },
        {
          "output_type": "stream",
          "name": "stdout",
          "text": [
            "\n",
            "Fold 2 Results:\n",
            "              precision    recall  f1-score   support\n",
            "\n",
            "          -1       0.44      0.33      0.38       152\n",
            "           0       0.71      0.77      0.74       583\n",
            "           1       0.65      0.62      0.64       289\n",
            "\n",
            "    accuracy                           0.66      1024\n",
            "   macro avg       0.60      0.57      0.58      1024\n",
            "weighted avg       0.65      0.66      0.66      1024\n",
            "\n"
          ]
        },
        {
          "output_type": "stream",
          "name": "stderr",
          "text": [
            "/usr/local/lib/python3.11/dist-packages/keras/src/layers/core/embedding.py:90: UserWarning: Argument `input_length` is deprecated. Just remove it.\n",
            "  warnings.warn(\n"
          ]
        },
        {
          "output_type": "stream",
          "name": "stdout",
          "text": [
            "\n",
            "Fold 3 Results:\n",
            "              precision    recall  f1-score   support\n",
            "\n",
            "          -1       0.41      0.40      0.40       151\n",
            "           0       0.69      0.75      0.71       583\n",
            "           1       0.62      0.52      0.57       290\n",
            "\n",
            "    accuracy                           0.63      1024\n",
            "   macro avg       0.57      0.55      0.56      1024\n",
            "weighted avg       0.63      0.63      0.63      1024\n",
            "\n"
          ]
        },
        {
          "output_type": "stream",
          "name": "stderr",
          "text": [
            "/usr/local/lib/python3.11/dist-packages/keras/src/layers/core/embedding.py:90: UserWarning: Argument `input_length` is deprecated. Just remove it.\n",
            "  warnings.warn(\n"
          ]
        },
        {
          "output_type": "stream",
          "name": "stdout",
          "text": [
            "\n",
            "Fold 4 Results:\n",
            "              precision    recall  f1-score   support\n",
            "\n",
            "          -1       0.41      0.74      0.53       152\n",
            "           0       0.77      0.58      0.66       582\n",
            "           1       0.59      0.62      0.60       290\n",
            "\n",
            "    accuracy                           0.62      1024\n",
            "   macro avg       0.59      0.65      0.60      1024\n",
            "weighted avg       0.67      0.62      0.63      1024\n",
            "\n"
          ]
        },
        {
          "output_type": "stream",
          "name": "stderr",
          "text": [
            "/usr/local/lib/python3.11/dist-packages/keras/src/layers/core/embedding.py:90: UserWarning: Argument `input_length` is deprecated. Just remove it.\n",
            "  warnings.warn(\n"
          ]
        },
        {
          "output_type": "stream",
          "name": "stdout",
          "text": [
            "\n",
            "Fold 5 Results:\n",
            "              precision    recall  f1-score   support\n",
            "\n",
            "          -1       0.40      0.41      0.41       152\n",
            "           0       0.70      0.78      0.74       582\n",
            "           1       0.70      0.54      0.61       290\n",
            "\n",
            "    accuracy                           0.66      1024\n",
            "   macro avg       0.60      0.58      0.59      1024\n",
            "weighted avg       0.66      0.66      0.65      1024\n",
            "\n",
            "Mean Accuracy: 0.6395 (±0.0175)\n",
            "\n",
            "Analyzing aspect: ovr_sent\n",
            "\n",
            "Using oversample sampling:\n"
          ]
        },
        {
          "output_type": "stream",
          "name": "stderr",
          "text": [
            "/usr/local/lib/python3.11/dist-packages/keras/src/layers/core/embedding.py:90: UserWarning: Argument `input_length` is deprecated. Just remove it.\n",
            "  warnings.warn(\n"
          ]
        },
        {
          "output_type": "stream",
          "name": "stdout",
          "text": [
            "\n",
            "Fold 1 Results:\n",
            "              precision    recall  f1-score   support\n",
            "\n",
            "          -1       0.72      0.60      0.66       344\n",
            "           0       0.34      0.47      0.40       152\n",
            "           1       0.78      0.78      0.78       529\n",
            "\n",
            "    accuracy                           0.67      1025\n",
            "   macro avg       0.61      0.62      0.61      1025\n",
            "weighted avg       0.69      0.67      0.68      1025\n",
            "\n"
          ]
        },
        {
          "output_type": "stream",
          "name": "stderr",
          "text": [
            "/usr/local/lib/python3.11/dist-packages/keras/src/layers/core/embedding.py:90: UserWarning: Argument `input_length` is deprecated. Just remove it.\n",
            "  warnings.warn(\n"
          ]
        },
        {
          "output_type": "stream",
          "name": "stdout",
          "text": [
            "\n",
            "Fold 2 Results:\n",
            "              precision    recall  f1-score   support\n",
            "\n",
            "          -1       0.64      0.85      0.73       343\n",
            "           0       0.37      0.37      0.37       152\n",
            "           1       0.86      0.67      0.76       529\n",
            "\n",
            "    accuracy                           0.69      1024\n",
            "   macro avg       0.62      0.63      0.62      1024\n",
            "weighted avg       0.71      0.69      0.69      1024\n",
            "\n"
          ]
        },
        {
          "output_type": "stream",
          "name": "stderr",
          "text": [
            "/usr/local/lib/python3.11/dist-packages/keras/src/layers/core/embedding.py:90: UserWarning: Argument `input_length` is deprecated. Just remove it.\n",
            "  warnings.warn(\n"
          ]
        },
        {
          "output_type": "stream",
          "name": "stdout",
          "text": [
            "\n",
            "Fold 3 Results:\n",
            "              precision    recall  f1-score   support\n",
            "\n",
            "          -1       0.68      0.75      0.71       343\n",
            "           0       0.40      0.32      0.36       153\n",
            "           1       0.82      0.81      0.81       528\n",
            "\n",
            "    accuracy                           0.71      1024\n",
            "   macro avg       0.63      0.63      0.63      1024\n",
            "weighted avg       0.71      0.71      0.71      1024\n",
            "\n"
          ]
        },
        {
          "output_type": "stream",
          "name": "stderr",
          "text": [
            "/usr/local/lib/python3.11/dist-packages/keras/src/layers/core/embedding.py:90: UserWarning: Argument `input_length` is deprecated. Just remove it.\n",
            "  warnings.warn(\n"
          ]
        },
        {
          "output_type": "stream",
          "name": "stdout",
          "text": [
            "\n",
            "Fold 4 Results:\n",
            "              precision    recall  f1-score   support\n",
            "\n",
            "          -1       0.66      0.68      0.67       344\n",
            "           0       0.31      0.48      0.38       152\n",
            "           1       0.86      0.71      0.78       528\n",
            "\n",
            "    accuracy                           0.67      1024\n",
            "   macro avg       0.61      0.62      0.61      1024\n",
            "weighted avg       0.71      0.67      0.68      1024\n",
            "\n"
          ]
        },
        {
          "output_type": "stream",
          "name": "stderr",
          "text": [
            "/usr/local/lib/python3.11/dist-packages/keras/src/layers/core/embedding.py:90: UserWarning: Argument `input_length` is deprecated. Just remove it.\n",
            "  warnings.warn(\n"
          ]
        },
        {
          "output_type": "stream",
          "name": "stdout",
          "text": [
            "\n",
            "Fold 5 Results:\n",
            "              precision    recall  f1-score   support\n",
            "\n",
            "          -1       0.74      0.75      0.75       344\n",
            "           0       0.46      0.32      0.37       152\n",
            "           1       0.77      0.83      0.80       528\n",
            "\n",
            "    accuracy                           0.73      1024\n",
            "   macro avg       0.65      0.63      0.64      1024\n",
            "weighted avg       0.71      0.73      0.72      1024\n",
            "\n",
            "Mean Accuracy: 0.6934 (±0.0233)\n"
          ]
        }
      ]
    },
    {
      "cell_type": "markdown",
      "source": [
        "Dravidian fasttext"
      ],
      "metadata": {
        "id": "hC2bBtTyON1v"
      }
    },
    {
      "cell_type": "code",
      "source": [
        "aspects = ['Acting', 'direction', 'Music', 'Genre', 'excitement', 'ovr_sent']\n",
        "sampling_techniques_under = ['undersample']\n",
        "results = analyze_all_aspects_dl(df, aspects, sampling_techniques_under)"
      ],
      "metadata": {
        "id": "2TzZtCVdONho",
        "colab": {
          "base_uri": "https://localhost:8080/"
        },
        "outputId": "6d9520d6-76c8-4cef-ef04-0084d8aa8fb8",
        "collapsed": true
      },
      "execution_count": null,
      "outputs": [
        {
          "output_type": "stream",
          "name": "stdout",
          "text": [
            "\n",
            "Analyzing aspect: Acting\n",
            "\n",
            "Using undersample sampling:\n"
          ]
        },
        {
          "output_type": "stream",
          "name": "stderr",
          "text": [
            "/usr/local/lib/python3.11/dist-packages/keras/src/layers/core/embedding.py:90: UserWarning: Argument `input_length` is deprecated. Just remove it.\n",
            "  warnings.warn(\n"
          ]
        },
        {
          "output_type": "stream",
          "name": "stdout",
          "text": [
            "\n",
            "Fold 1 Results:\n",
            "              precision    recall  f1-score   support\n",
            "\n",
            "          -1       0.08      0.38      0.13        34\n",
            "           0       0.91      0.56      0.69       770\n",
            "           1       0.45      0.77      0.57       221\n",
            "\n",
            "    accuracy                           0.60      1025\n",
            "   macro avg       0.48      0.57      0.46      1025\n",
            "weighted avg       0.78      0.60      0.65      1025\n",
            "\n"
          ]
        },
        {
          "output_type": "stream",
          "name": "stderr",
          "text": [
            "/usr/local/lib/python3.11/dist-packages/keras/src/layers/core/embedding.py:90: UserWarning: Argument `input_length` is deprecated. Just remove it.\n",
            "  warnings.warn(\n"
          ]
        },
        {
          "output_type": "stream",
          "name": "stdout",
          "text": [
            "\n",
            "Fold 2 Results:\n",
            "              precision    recall  f1-score   support\n",
            "\n",
            "          -1       0.07      0.76      0.13        33\n",
            "           0       0.90      0.47      0.62       769\n",
            "           1       0.53      0.67      0.59       222\n",
            "\n",
            "    accuracy                           0.52      1024\n",
            "   macro avg       0.50      0.63      0.45      1024\n",
            "weighted avg       0.79      0.52      0.60      1024\n",
            "\n"
          ]
        },
        {
          "output_type": "stream",
          "name": "stderr",
          "text": [
            "/usr/local/lib/python3.11/dist-packages/keras/src/layers/core/embedding.py:90: UserWarning: Argument `input_length` is deprecated. Just remove it.\n",
            "  warnings.warn(\n"
          ]
        },
        {
          "output_type": "stream",
          "name": "stdout",
          "text": [
            "\n",
            "Fold 3 Results:\n",
            "              precision    recall  f1-score   support\n",
            "\n",
            "          -1       0.09      0.67      0.17        33\n",
            "           0       0.89      0.59      0.71       769\n",
            "           1       0.50      0.64      0.56       222\n",
            "\n",
            "    accuracy                           0.60      1024\n",
            "   macro avg       0.49      0.63      0.48      1024\n",
            "weighted avg       0.78      0.60      0.66      1024\n",
            "\n"
          ]
        },
        {
          "output_type": "stream",
          "name": "stderr",
          "text": [
            "/usr/local/lib/python3.11/dist-packages/keras/src/layers/core/embedding.py:90: UserWarning: Argument `input_length` is deprecated. Just remove it.\n",
            "  warnings.warn(\n"
          ]
        },
        {
          "output_type": "stream",
          "name": "stdout",
          "text": [
            "\n",
            "Fold 4 Results:\n",
            "              precision    recall  f1-score   support\n",
            "\n",
            "          -1       0.07      0.55      0.13        33\n",
            "           0       0.91      0.49      0.64       769\n",
            "           1       0.45      0.74      0.56       222\n",
            "\n",
            "    accuracy                           0.55      1024\n",
            "   macro avg       0.48      0.59      0.44      1024\n",
            "weighted avg       0.78      0.55      0.61      1024\n",
            "\n"
          ]
        },
        {
          "output_type": "stream",
          "name": "stderr",
          "text": [
            "/usr/local/lib/python3.11/dist-packages/keras/src/layers/core/embedding.py:90: UserWarning: Argument `input_length` is deprecated. Just remove it.\n",
            "  warnings.warn(\n"
          ]
        },
        {
          "output_type": "stream",
          "name": "stdout",
          "text": [
            "\n",
            "Fold 5 Results:\n",
            "              precision    recall  f1-score   support\n",
            "\n",
            "          -1       0.10      0.50      0.17        34\n",
            "           0       0.88      0.69      0.77       769\n",
            "           1       0.55      0.66      0.60       221\n",
            "\n",
            "    accuracy                           0.67      1024\n",
            "   macro avg       0.51      0.62      0.52      1024\n",
            "weighted avg       0.79      0.67      0.72      1024\n",
            "\n",
            "Mean Accuracy: 0.5884 (±0.0514)\n",
            "\n",
            "Analyzing aspect: direction\n",
            "\n",
            "Using undersample sampling:\n"
          ]
        },
        {
          "output_type": "stream",
          "name": "stderr",
          "text": [
            "/usr/local/lib/python3.11/dist-packages/keras/src/layers/core/embedding.py:90: UserWarning: Argument `input_length` is deprecated. Just remove it.\n",
            "  warnings.warn(\n"
          ]
        },
        {
          "output_type": "stream",
          "name": "stdout",
          "text": [
            "\n",
            "Fold 1 Results:\n",
            "              precision    recall  f1-score   support\n",
            "\n",
            "          -1       0.30      0.66      0.41       139\n",
            "           0       0.92      0.63      0.75       824\n",
            "           1       0.23      0.55      0.32        62\n",
            "\n",
            "    accuracy                           0.63      1025\n",
            "   macro avg       0.48      0.61      0.50      1025\n",
            "weighted avg       0.80      0.63      0.68      1025\n",
            "\n"
          ]
        },
        {
          "output_type": "stream",
          "name": "stderr",
          "text": [
            "/usr/local/lib/python3.11/dist-packages/keras/src/layers/core/embedding.py:90: UserWarning: Argument `input_length` is deprecated. Just remove it.\n",
            "  warnings.warn(\n"
          ]
        },
        {
          "output_type": "stream",
          "name": "stdout",
          "text": [
            "\n",
            "Fold 2 Results:\n",
            "              precision    recall  f1-score   support\n",
            "\n",
            "          -1       0.31      0.71      0.43       138\n",
            "           0       0.96      0.50      0.66       824\n",
            "           1       0.16      0.69      0.26        62\n",
            "\n",
            "    accuracy                           0.54      1024\n",
            "   macro avg       0.47      0.64      0.45      1024\n",
            "weighted avg       0.82      0.54      0.60      1024\n",
            "\n"
          ]
        },
        {
          "output_type": "stream",
          "name": "stderr",
          "text": [
            "/usr/local/lib/python3.11/dist-packages/keras/src/layers/core/embedding.py:90: UserWarning: Argument `input_length` is deprecated. Just remove it.\n",
            "  warnings.warn(\n"
          ]
        },
        {
          "output_type": "stream",
          "name": "stdout",
          "text": [
            "\n",
            "Fold 3 Results:\n",
            "              precision    recall  f1-score   support\n",
            "\n",
            "          -1       0.35      0.77      0.48       139\n",
            "           0       0.94      0.71      0.81       823\n",
            "           1       0.29      0.45      0.36        62\n",
            "\n",
            "    accuracy                           0.70      1024\n",
            "   macro avg       0.53      0.64      0.55      1024\n",
            "weighted avg       0.82      0.70      0.74      1024\n",
            "\n"
          ]
        },
        {
          "output_type": "stream",
          "name": "stderr",
          "text": [
            "/usr/local/lib/python3.11/dist-packages/keras/src/layers/core/embedding.py:90: UserWarning: Argument `input_length` is deprecated. Just remove it.\n",
            "  warnings.warn(\n"
          ]
        },
        {
          "output_type": "stream",
          "name": "stdout",
          "text": [
            "\n",
            "Fold 4 Results:\n",
            "              precision    recall  f1-score   support\n",
            "\n",
            "          -1       0.38      0.65      0.48       139\n",
            "           0       0.94      0.61      0.74       823\n",
            "           1       0.17      0.69      0.27        62\n",
            "\n",
            "    accuracy                           0.62      1024\n",
            "   macro avg       0.50      0.65      0.50      1024\n",
            "weighted avg       0.81      0.62      0.68      1024\n",
            "\n"
          ]
        },
        {
          "output_type": "stream",
          "name": "stderr",
          "text": [
            "/usr/local/lib/python3.11/dist-packages/keras/src/layers/core/embedding.py:90: UserWarning: Argument `input_length` is deprecated. Just remove it.\n",
            "  warnings.warn(\n"
          ]
        },
        {
          "output_type": "stream",
          "name": "stdout",
          "text": [
            "\n",
            "Fold 5 Results:\n",
            "              precision    recall  f1-score   support\n",
            "\n",
            "          -1       0.36      0.47      0.41       139\n",
            "           0       0.90      0.69      0.78       823\n",
            "           1       0.18      0.61      0.28        62\n",
            "\n",
            "    accuracy                           0.66      1024\n",
            "   macro avg       0.48      0.59      0.49      1024\n",
            "weighted avg       0.78      0.66      0.70      1024\n",
            "\n",
            "Mean Accuracy: 0.6311 (±0.0527)\n",
            "\n",
            "Analyzing aspect: Music\n",
            "\n",
            "Using undersample sampling:\n"
          ]
        },
        {
          "output_type": "stream",
          "name": "stderr",
          "text": [
            "/usr/local/lib/python3.11/dist-packages/keras/src/layers/core/embedding.py:90: UserWarning: Argument `input_length` is deprecated. Just remove it.\n",
            "  warnings.warn(\n"
          ]
        },
        {
          "output_type": "stream",
          "name": "stdout",
          "text": [
            "\n",
            "Fold 1 Results:\n",
            "              precision    recall  f1-score   support\n",
            "\n",
            "          -1       0.08      0.68      0.14        22\n",
            "           0       0.99      0.70      0.82       897\n",
            "           1       0.39      0.75      0.52       106\n",
            "\n",
            "    accuracy                           0.70      1025\n",
            "   macro avg       0.49      0.71      0.49      1025\n",
            "weighted avg       0.90      0.70      0.77      1025\n",
            "\n"
          ]
        },
        {
          "output_type": "stream",
          "name": "stderr",
          "text": [
            "/usr/local/lib/python3.11/dist-packages/keras/src/layers/core/embedding.py:90: UserWarning: Argument `input_length` is deprecated. Just remove it.\n",
            "  warnings.warn(\n"
          ]
        },
        {
          "output_type": "stream",
          "name": "stdout",
          "text": [
            "\n",
            "Fold 2 Results:\n",
            "              precision    recall  f1-score   support\n",
            "\n",
            "          -1       0.22      0.76      0.34        21\n",
            "           0       0.97      0.90      0.93       897\n",
            "           1       0.56      0.67      0.61       106\n",
            "\n",
            "    accuracy                           0.87      1024\n",
            "   macro avg       0.59      0.78      0.63      1024\n",
            "weighted avg       0.92      0.87      0.89      1024\n",
            "\n"
          ]
        },
        {
          "output_type": "stream",
          "name": "stderr",
          "text": [
            "/usr/local/lib/python3.11/dist-packages/keras/src/layers/core/embedding.py:90: UserWarning: Argument `input_length` is deprecated. Just remove it.\n",
            "  warnings.warn(\n"
          ]
        },
        {
          "output_type": "stream",
          "name": "stdout",
          "text": [
            "\n",
            "Fold 3 Results:\n",
            "              precision    recall  f1-score   support\n",
            "\n",
            "          -1       0.10      0.57      0.17        21\n",
            "           0       0.98      0.69      0.81       897\n",
            "           1       0.29      0.75      0.42       106\n",
            "\n",
            "    accuracy                           0.69      1024\n",
            "   macro avg       0.46      0.67      0.47      1024\n",
            "weighted avg       0.89      0.69      0.76      1024\n",
            "\n"
          ]
        },
        {
          "output_type": "stream",
          "name": "stderr",
          "text": [
            "/usr/local/lib/python3.11/dist-packages/keras/src/layers/core/embedding.py:90: UserWarning: Argument `input_length` is deprecated. Just remove it.\n",
            "  warnings.warn(\n"
          ]
        },
        {
          "output_type": "stream",
          "name": "stdout",
          "text": [
            "\n",
            "Fold 4 Results:\n",
            "              precision    recall  f1-score   support\n",
            "\n",
            "          -1       0.16      0.62      0.25        21\n",
            "           0       0.97      0.85      0.91       897\n",
            "           1       0.45      0.68      0.54       106\n",
            "\n",
            "    accuracy                           0.83      1024\n",
            "   macro avg       0.53      0.72      0.57      1024\n",
            "weighted avg       0.90      0.83      0.86      1024\n",
            "\n"
          ]
        },
        {
          "output_type": "stream",
          "name": "stderr",
          "text": [
            "/usr/local/lib/python3.11/dist-packages/keras/src/layers/core/embedding.py:90: UserWarning: Argument `input_length` is deprecated. Just remove it.\n",
            "  warnings.warn(\n"
          ]
        },
        {
          "output_type": "stream",
          "name": "stdout",
          "text": [
            "\n",
            "Fold 5 Results:\n",
            "              precision    recall  f1-score   support\n",
            "\n",
            "          -1       0.10      0.68      0.18        22\n",
            "           0       0.96      0.85      0.90       896\n",
            "           1       0.52      0.44      0.48       106\n",
            "\n",
            "    accuracy                           0.80      1024\n",
            "   macro avg       0.53      0.66      0.52      1024\n",
            "weighted avg       0.90      0.80      0.84      1024\n",
            "\n",
            "Mean Accuracy: 0.7790 (±0.0697)\n",
            "\n",
            "Analyzing aspect: Genre\n",
            "\n",
            "Using undersample sampling:\n"
          ]
        },
        {
          "output_type": "stream",
          "name": "stderr",
          "text": [
            "/usr/local/lib/python3.11/dist-packages/keras/src/layers/core/embedding.py:90: UserWarning: Argument `input_length` is deprecated. Just remove it.\n",
            "  warnings.warn(\n"
          ]
        },
        {
          "output_type": "stream",
          "name": "stdout",
          "text": [
            "\n",
            "Fold 1 Results:\n",
            "              precision    recall  f1-score   support\n",
            "\n",
            "          -1       0.01      0.10      0.01        10\n",
            "           0       0.99      0.08      0.14       975\n",
            "           1       0.04      0.78      0.07        40\n",
            "\n",
            "    accuracy                           0.10      1025\n",
            "   macro avg       0.34      0.32      0.08      1025\n",
            "weighted avg       0.94      0.10      0.14      1025\n",
            "\n"
          ]
        },
        {
          "output_type": "stream",
          "name": "stderr",
          "text": [
            "/usr/local/lib/python3.11/dist-packages/keras/src/layers/core/embedding.py:90: UserWarning: Argument `input_length` is deprecated. Just remove it.\n",
            "  warnings.warn(\n"
          ]
        },
        {
          "output_type": "stream",
          "name": "stdout",
          "text": [
            "\n",
            "Fold 2 Results:\n",
            "              precision    recall  f1-score   support\n",
            "\n",
            "          -1       0.07      0.64      0.12        11\n",
            "           0       0.97      0.48      0.64       974\n",
            "           1       0.05      0.62      0.10        39\n",
            "\n",
            "    accuracy                           0.49      1024\n",
            "   macro avg       0.37      0.58      0.29      1024\n",
            "weighted avg       0.93      0.49      0.62      1024\n",
            "\n"
          ]
        },
        {
          "output_type": "stream",
          "name": "stderr",
          "text": [
            "/usr/local/lib/python3.11/dist-packages/keras/src/layers/core/embedding.py:90: UserWarning: Argument `input_length` is deprecated. Just remove it.\n",
            "  warnings.warn(\n"
          ]
        },
        {
          "output_type": "stream",
          "name": "stdout",
          "text": [
            "\n",
            "Fold 3 Results:\n",
            "              precision    recall  f1-score   support\n",
            "\n",
            "          -1       0.01      0.09      0.03        11\n",
            "           0       0.96      0.62      0.75       974\n",
            "           1       0.06      0.54      0.11        39\n",
            "\n",
            "    accuracy                           0.61      1024\n",
            "   macro avg       0.35      0.42      0.30      1024\n",
            "weighted avg       0.92      0.61      0.72      1024\n",
            "\n"
          ]
        },
        {
          "output_type": "stream",
          "name": "stderr",
          "text": [
            "/usr/local/lib/python3.11/dist-packages/keras/src/layers/core/embedding.py:90: UserWarning: Argument `input_length` is deprecated. Just remove it.\n",
            "  warnings.warn(\n"
          ]
        },
        {
          "output_type": "stream",
          "name": "stdout",
          "text": [
            "\n",
            "Fold 4 Results:\n",
            "              precision    recall  f1-score   support\n",
            "\n",
            "          -1       0.03      0.27      0.06        11\n",
            "           0       0.98      0.34      0.51       974\n",
            "           1       0.04      0.64      0.08        39\n",
            "\n",
            "    accuracy                           0.35      1024\n",
            "   macro avg       0.35      0.42      0.21      1024\n",
            "weighted avg       0.93      0.35      0.48      1024\n",
            "\n"
          ]
        },
        {
          "output_type": "stream",
          "name": "stderr",
          "text": [
            "/usr/local/lib/python3.11/dist-packages/keras/src/layers/core/embedding.py:90: UserWarning: Argument `input_length` is deprecated. Just remove it.\n",
            "  warnings.warn(\n"
          ]
        },
        {
          "output_type": "stream",
          "name": "stdout",
          "text": [
            "\n",
            "Fold 5 Results:\n",
            "              precision    recall  f1-score   support\n",
            "\n",
            "          -1       0.03      0.40      0.06        10\n",
            "           0       0.97      0.61      0.75       974\n",
            "           1       0.05      0.38      0.09        40\n",
            "\n",
            "    accuracy                           0.60      1024\n",
            "   macro avg       0.35      0.46      0.30      1024\n",
            "weighted avg       0.92      0.60      0.72      1024\n",
            "\n",
            "Mean Accuracy: 0.4304 (±0.1881)\n",
            "\n",
            "Analyzing aspect: excitement\n",
            "\n",
            "Using undersample sampling:\n"
          ]
        },
        {
          "output_type": "stream",
          "name": "stderr",
          "text": [
            "/usr/local/lib/python3.11/dist-packages/keras/src/layers/core/embedding.py:90: UserWarning: Argument `input_length` is deprecated. Just remove it.\n",
            "  warnings.warn(\n"
          ]
        },
        {
          "output_type": "stream",
          "name": "stdout",
          "text": [
            "\n",
            "Fold 1 Results:\n",
            "              precision    recall  f1-score   support\n",
            "\n",
            "          -1       0.44      0.57      0.50       152\n",
            "           0       0.76      0.66      0.70       583\n",
            "           1       0.59      0.66      0.63       290\n",
            "\n",
            "    accuracy                           0.65      1025\n",
            "   macro avg       0.60      0.63      0.61      1025\n",
            "weighted avg       0.67      0.65      0.65      1025\n",
            "\n"
          ]
        },
        {
          "output_type": "stream",
          "name": "stderr",
          "text": [
            "/usr/local/lib/python3.11/dist-packages/keras/src/layers/core/embedding.py:90: UserWarning: Argument `input_length` is deprecated. Just remove it.\n",
            "  warnings.warn(\n"
          ]
        },
        {
          "output_type": "stream",
          "name": "stdout",
          "text": [
            "\n",
            "Fold 2 Results:\n",
            "              precision    recall  f1-score   support\n",
            "\n",
            "          -1       0.37      0.76      0.50       152\n",
            "           0       0.77      0.55      0.64       583\n",
            "           1       0.64      0.66      0.65       289\n",
            "\n",
            "    accuracy                           0.61      1024\n",
            "   macro avg       0.59      0.66      0.60      1024\n",
            "weighted avg       0.68      0.61      0.62      1024\n",
            "\n"
          ]
        },
        {
          "output_type": "stream",
          "name": "stderr",
          "text": [
            "/usr/local/lib/python3.11/dist-packages/keras/src/layers/core/embedding.py:90: UserWarning: Argument `input_length` is deprecated. Just remove it.\n",
            "  warnings.warn(\n"
          ]
        },
        {
          "output_type": "stream",
          "name": "stdout",
          "text": [
            "\n",
            "Fold 3 Results:\n",
            "              precision    recall  f1-score   support\n",
            "\n",
            "          -1       0.40      0.75      0.53       151\n",
            "           0       0.82      0.36      0.50       583\n",
            "           1       0.49      0.83      0.62       290\n",
            "\n",
            "    accuracy                           0.55      1024\n",
            "   macro avg       0.57      0.65      0.55      1024\n",
            "weighted avg       0.67      0.55      0.54      1024\n",
            "\n"
          ]
        },
        {
          "output_type": "stream",
          "name": "stderr",
          "text": [
            "/usr/local/lib/python3.11/dist-packages/keras/src/layers/core/embedding.py:90: UserWarning: Argument `input_length` is deprecated. Just remove it.\n",
            "  warnings.warn(\n"
          ]
        },
        {
          "output_type": "stream",
          "name": "stdout",
          "text": [
            "\n",
            "Fold 4 Results:\n",
            "              precision    recall  f1-score   support\n",
            "\n",
            "          -1       0.48      0.66      0.55       152\n",
            "           0       0.77      0.63      0.69       582\n",
            "           1       0.58      0.69      0.63       290\n",
            "\n",
            "    accuracy                           0.65      1024\n",
            "   macro avg       0.61      0.66      0.62      1024\n",
            "weighted avg       0.67      0.65      0.65      1024\n",
            "\n"
          ]
        },
        {
          "output_type": "stream",
          "name": "stderr",
          "text": [
            "/usr/local/lib/python3.11/dist-packages/keras/src/layers/core/embedding.py:90: UserWarning: Argument `input_length` is deprecated. Just remove it.\n",
            "  warnings.warn(\n"
          ]
        },
        {
          "output_type": "stream",
          "name": "stdout",
          "text": [
            "\n",
            "Fold 5 Results:\n",
            "              precision    recall  f1-score   support\n",
            "\n",
            "          -1       0.36      0.69      0.48       152\n",
            "           0       0.79      0.42      0.55       582\n",
            "           1       0.54      0.79      0.64       290\n",
            "\n",
            "    accuracy                           0.57      1024\n",
            "   macro avg       0.57      0.63      0.56      1024\n",
            "weighted avg       0.66      0.57      0.57      1024\n",
            "\n",
            "Mean Accuracy: 0.6050 (±0.0394)\n",
            "\n",
            "Analyzing aspect: ovr_sent\n",
            "\n",
            "Using undersample sampling:\n"
          ]
        },
        {
          "output_type": "stream",
          "name": "stderr",
          "text": [
            "/usr/local/lib/python3.11/dist-packages/keras/src/layers/core/embedding.py:90: UserWarning: Argument `input_length` is deprecated. Just remove it.\n",
            "  warnings.warn(\n"
          ]
        },
        {
          "output_type": "stream",
          "name": "stdout",
          "text": [
            "\n",
            "Fold 1 Results:\n",
            "              precision    recall  f1-score   support\n",
            "\n",
            "          -1       0.63      0.70      0.66       344\n",
            "           0       0.28      0.65      0.39       152\n",
            "           1       0.93      0.49      0.64       529\n",
            "\n",
            "    accuracy                           0.59      1025\n",
            "   macro avg       0.61      0.62      0.56      1025\n",
            "weighted avg       0.73      0.59      0.61      1025\n",
            "\n"
          ]
        },
        {
          "output_type": "stream",
          "name": "stderr",
          "text": [
            "/usr/local/lib/python3.11/dist-packages/keras/src/layers/core/embedding.py:90: UserWarning: Argument `input_length` is deprecated. Just remove it.\n",
            "  warnings.warn(\n"
          ]
        },
        {
          "output_type": "stream",
          "name": "stdout",
          "text": [
            "\n",
            "Fold 2 Results:\n",
            "              precision    recall  f1-score   support\n",
            "\n",
            "          -1       0.71      0.68      0.70       343\n",
            "           0       0.29      0.66      0.41       152\n",
            "           1       0.89      0.60      0.72       529\n",
            "\n",
            "    accuracy                           0.63      1024\n",
            "   macro avg       0.63      0.65      0.61      1024\n",
            "weighted avg       0.74      0.63      0.66      1024\n",
            "\n"
          ]
        },
        {
          "output_type": "stream",
          "name": "stderr",
          "text": [
            "/usr/local/lib/python3.11/dist-packages/keras/src/layers/core/embedding.py:90: UserWarning: Argument `input_length` is deprecated. Just remove it.\n",
            "  warnings.warn(\n"
          ]
        },
        {
          "output_type": "stream",
          "name": "stdout",
          "text": [
            "\n",
            "Fold 3 Results:\n",
            "              precision    recall  f1-score   support\n",
            "\n",
            "          -1       0.70      0.73      0.71       343\n",
            "           0       0.35      0.48      0.40       153\n",
            "           1       0.86      0.74      0.79       528\n",
            "\n",
            "    accuracy                           0.70      1024\n",
            "   macro avg       0.63      0.65      0.64      1024\n",
            "weighted avg       0.73      0.70      0.71      1024\n",
            "\n"
          ]
        },
        {
          "output_type": "stream",
          "name": "stderr",
          "text": [
            "/usr/local/lib/python3.11/dist-packages/keras/src/layers/core/embedding.py:90: UserWarning: Argument `input_length` is deprecated. Just remove it.\n",
            "  warnings.warn(\n"
          ]
        },
        {
          "output_type": "stream",
          "name": "stdout",
          "text": [
            "\n",
            "Fold 4 Results:\n",
            "              precision    recall  f1-score   support\n",
            "\n",
            "          -1       0.68      0.71      0.69       344\n",
            "           0       0.39      0.53      0.45       152\n",
            "           1       0.85      0.74      0.79       528\n",
            "\n",
            "    accuracy                           0.70      1024\n",
            "   macro avg       0.64      0.66      0.64      1024\n",
            "weighted avg       0.72      0.70      0.71      1024\n",
            "\n"
          ]
        },
        {
          "output_type": "stream",
          "name": "stderr",
          "text": [
            "/usr/local/lib/python3.11/dist-packages/keras/src/layers/core/embedding.py:90: UserWarning: Argument `input_length` is deprecated. Just remove it.\n",
            "  warnings.warn(\n"
          ]
        },
        {
          "output_type": "stream",
          "name": "stdout",
          "text": [
            "\n",
            "Fold 5 Results:\n",
            "              precision    recall  f1-score   support\n",
            "\n",
            "          -1       0.73      0.62      0.67       344\n",
            "           0       0.31      0.59      0.41       152\n",
            "           1       0.84      0.70      0.76       528\n",
            "\n",
            "    accuracy                           0.66      1024\n",
            "   macro avg       0.63      0.64      0.61      1024\n",
            "weighted avg       0.72      0.66      0.68      1024\n",
            "\n",
            "Mean Accuracy: 0.6542 (±0.0413)\n"
          ]
        }
      ]
    },
    {
      "cell_type": "code",
      "source": [
        "sampling_techniques_over = ['oversample']\n",
        "results = analyze_all_aspects_dl(df, aspects, sampling_techniques_over)"
      ],
      "metadata": {
        "id": "VQJw3y8TOT5w",
        "colab": {
          "base_uri": "https://localhost:8080/"
        },
        "outputId": "909a3c5f-4ebe-41de-bf85-14d63e293499",
        "collapsed": true
      },
      "execution_count": null,
      "outputs": [
        {
          "output_type": "stream",
          "name": "stdout",
          "text": [
            "\n",
            "Analyzing aspect: Acting\n",
            "\n",
            "Using oversample sampling:\n"
          ]
        },
        {
          "output_type": "stream",
          "name": "stderr",
          "text": [
            "/usr/local/lib/python3.11/dist-packages/keras/src/layers/core/embedding.py:90: UserWarning: Argument `input_length` is deprecated. Just remove it.\n",
            "  warnings.warn(\n"
          ]
        },
        {
          "output_type": "stream",
          "name": "stdout",
          "text": [
            "\n",
            "Fold 1 Results:\n",
            "              precision    recall  f1-score   support\n",
            "\n",
            "          -1       0.09      0.12      0.10        34\n",
            "           0       0.90      0.89      0.89       770\n",
            "           1       0.68      0.67      0.67       221\n",
            "\n",
            "    accuracy                           0.81      1025\n",
            "   macro avg       0.55      0.56      0.55      1025\n",
            "weighted avg       0.82      0.81      0.82      1025\n",
            "\n"
          ]
        },
        {
          "output_type": "stream",
          "name": "stderr",
          "text": [
            "/usr/local/lib/python3.11/dist-packages/keras/src/layers/core/embedding.py:90: UserWarning: Argument `input_length` is deprecated. Just remove it.\n",
            "  warnings.warn(\n"
          ]
        },
        {
          "output_type": "stream",
          "name": "stdout",
          "text": [
            "\n",
            "Fold 2 Results:\n",
            "              precision    recall  f1-score   support\n",
            "\n",
            "          -1       0.10      0.12      0.11        33\n",
            "           0       0.86      0.87      0.87       769\n",
            "           1       0.62      0.58      0.60       222\n",
            "\n",
            "    accuracy                           0.78      1024\n",
            "   macro avg       0.53      0.52      0.52      1024\n",
            "weighted avg       0.79      0.78      0.78      1024\n",
            "\n"
          ]
        },
        {
          "output_type": "stream",
          "name": "stderr",
          "text": [
            "/usr/local/lib/python3.11/dist-packages/keras/src/layers/core/embedding.py:90: UserWarning: Argument `input_length` is deprecated. Just remove it.\n",
            "  warnings.warn(\n"
          ]
        },
        {
          "output_type": "stream",
          "name": "stdout",
          "text": [
            "\n",
            "Fold 3 Results:\n",
            "              precision    recall  f1-score   support\n",
            "\n",
            "          -1       0.11      0.12      0.11        33\n",
            "           0       0.88      0.89      0.88       769\n",
            "           1       0.65      0.61      0.63       222\n",
            "\n",
            "    accuracy                           0.80      1024\n",
            "   macro avg       0.54      0.54      0.54      1024\n",
            "weighted avg       0.80      0.80      0.80      1024\n",
            "\n"
          ]
        },
        {
          "output_type": "stream",
          "name": "stderr",
          "text": [
            "/usr/local/lib/python3.11/dist-packages/keras/src/layers/core/embedding.py:90: UserWarning: Argument `input_length` is deprecated. Just remove it.\n",
            "  warnings.warn(\n"
          ]
        },
        {
          "output_type": "stream",
          "name": "stdout",
          "text": [
            "\n",
            "Fold 4 Results:\n",
            "              precision    recall  f1-score   support\n",
            "\n",
            "          -1       0.07      0.09      0.08        33\n",
            "           0       0.87      0.92      0.89       769\n",
            "           1       0.74      0.56      0.64       222\n",
            "\n",
            "    accuracy                           0.81      1024\n",
            "   macro avg       0.56      0.52      0.54      1024\n",
            "weighted avg       0.81      0.81      0.81      1024\n",
            "\n"
          ]
        },
        {
          "output_type": "stream",
          "name": "stderr",
          "text": [
            "/usr/local/lib/python3.11/dist-packages/keras/src/layers/core/embedding.py:90: UserWarning: Argument `input_length` is deprecated. Just remove it.\n",
            "  warnings.warn(\n"
          ]
        },
        {
          "output_type": "stream",
          "name": "stdout",
          "text": [
            "\n",
            "Fold 5 Results:\n",
            "              precision    recall  f1-score   support\n",
            "\n",
            "          -1       0.09      0.15      0.11        34\n",
            "           0       0.89      0.90      0.89       769\n",
            "           1       0.68      0.59      0.63       221\n",
            "\n",
            "    accuracy                           0.81      1024\n",
            "   macro avg       0.55      0.55      0.55      1024\n",
            "weighted avg       0.81      0.81      0.81      1024\n",
            "\n",
            "Mean Accuracy: 0.8037 (±0.0108)\n",
            "\n",
            "Analyzing aspect: direction\n",
            "\n",
            "Using oversample sampling:\n"
          ]
        },
        {
          "output_type": "stream",
          "name": "stderr",
          "text": [
            "/usr/local/lib/python3.11/dist-packages/keras/src/layers/core/embedding.py:90: UserWarning: Argument `input_length` is deprecated. Just remove it.\n",
            "  warnings.warn(\n"
          ]
        },
        {
          "output_type": "stream",
          "name": "stdout",
          "text": [
            "\n",
            "Fold 1 Results:\n",
            "              precision    recall  f1-score   support\n",
            "\n",
            "          -1       0.34      0.37      0.36       139\n",
            "           0       0.86      0.87      0.87       824\n",
            "           1       0.34      0.27      0.30        62\n",
            "\n",
            "    accuracy                           0.76      1025\n",
            "   macro avg       0.52      0.50      0.51      1025\n",
            "weighted avg       0.76      0.76      0.76      1025\n",
            "\n"
          ]
        },
        {
          "output_type": "stream",
          "name": "stderr",
          "text": [
            "/usr/local/lib/python3.11/dist-packages/keras/src/layers/core/embedding.py:90: UserWarning: Argument `input_length` is deprecated. Just remove it.\n",
            "  warnings.warn(\n"
          ]
        },
        {
          "output_type": "stream",
          "name": "stdout",
          "text": [
            "\n",
            "Fold 2 Results:\n",
            "              precision    recall  f1-score   support\n",
            "\n",
            "          -1       0.41      0.50      0.45       138\n",
            "           0       0.89      0.86      0.87       824\n",
            "           1       0.33      0.35      0.34        62\n",
            "\n",
            "    accuracy                           0.78      1024\n",
            "   macro avg       0.54      0.57      0.56      1024\n",
            "weighted avg       0.79      0.78      0.78      1024\n",
            "\n"
          ]
        },
        {
          "output_type": "stream",
          "name": "stderr",
          "text": [
            "/usr/local/lib/python3.11/dist-packages/keras/src/layers/core/embedding.py:90: UserWarning: Argument `input_length` is deprecated. Just remove it.\n",
            "  warnings.warn(\n"
          ]
        },
        {
          "output_type": "stream",
          "name": "stdout",
          "text": [
            "\n",
            "Fold 3 Results:\n",
            "              precision    recall  f1-score   support\n",
            "\n",
            "          -1       0.40      0.35      0.37       139\n",
            "           0       0.86      0.91      0.89       823\n",
            "           1       0.43      0.21      0.28        62\n",
            "\n",
            "    accuracy                           0.79      1024\n",
            "   macro avg       0.56      0.49      0.51      1024\n",
            "weighted avg       0.77      0.79      0.78      1024\n",
            "\n"
          ]
        },
        {
          "output_type": "stream",
          "name": "stderr",
          "text": [
            "/usr/local/lib/python3.11/dist-packages/keras/src/layers/core/embedding.py:90: UserWarning: Argument `input_length` is deprecated. Just remove it.\n",
            "  warnings.warn(\n"
          ]
        },
        {
          "output_type": "stream",
          "name": "stdout",
          "text": [
            "\n",
            "Fold 4 Results:\n",
            "              precision    recall  f1-score   support\n",
            "\n",
            "          -1       0.39      0.20      0.27       139\n",
            "           0       0.86      0.93      0.89       823\n",
            "           1       0.37      0.35      0.36        62\n",
            "\n",
            "    accuracy                           0.80      1024\n",
            "   macro avg       0.54      0.50      0.51      1024\n",
            "weighted avg       0.77      0.80      0.78      1024\n",
            "\n"
          ]
        },
        {
          "output_type": "stream",
          "name": "stderr",
          "text": [
            "/usr/local/lib/python3.11/dist-packages/keras/src/layers/core/embedding.py:90: UserWarning: Argument `input_length` is deprecated. Just remove it.\n",
            "  warnings.warn(\n"
          ]
        },
        {
          "output_type": "stream",
          "name": "stdout",
          "text": [
            "\n",
            "Fold 5 Results:\n",
            "              precision    recall  f1-score   support\n",
            "\n",
            "          -1       0.34      0.42      0.38       139\n",
            "           0       0.88      0.81      0.84       823\n",
            "           1       0.28      0.42      0.34        62\n",
            "\n",
            "    accuracy                           0.74      1024\n",
            "   macro avg       0.50      0.55      0.52      1024\n",
            "weighted avg       0.77      0.74      0.75      1024\n",
            "\n",
            "Mean Accuracy: 0.7733 (±0.0223)\n",
            "\n",
            "Analyzing aspect: Music\n",
            "\n",
            "Using oversample sampling:\n"
          ]
        },
        {
          "output_type": "stream",
          "name": "stderr",
          "text": [
            "/usr/local/lib/python3.11/dist-packages/keras/src/layers/core/embedding.py:90: UserWarning: Argument `input_length` is deprecated. Just remove it.\n",
            "  warnings.warn(\n"
          ]
        },
        {
          "output_type": "stream",
          "name": "stdout",
          "text": [
            "\n",
            "Fold 1 Results:\n",
            "              precision    recall  f1-score   support\n",
            "\n",
            "          -1       0.12      0.27      0.17        22\n",
            "           0       0.98      0.92      0.95       897\n",
            "           1       0.55      0.68      0.61       106\n",
            "\n",
            "    accuracy                           0.88      1025\n",
            "   macro avg       0.55      0.62      0.57      1025\n",
            "weighted avg       0.91      0.88      0.90      1025\n",
            "\n"
          ]
        },
        {
          "output_type": "stream",
          "name": "stderr",
          "text": [
            "/usr/local/lib/python3.11/dist-packages/keras/src/layers/core/embedding.py:90: UserWarning: Argument `input_length` is deprecated. Just remove it.\n",
            "  warnings.warn(\n"
          ]
        },
        {
          "output_type": "stream",
          "name": "stdout",
          "text": [
            "\n",
            "Fold 2 Results:\n",
            "              precision    recall  f1-score   support\n",
            "\n",
            "          -1       0.17      0.43      0.24        21\n",
            "           0       0.97      0.94      0.96       897\n",
            "           1       0.71      0.70      0.70       106\n",
            "\n",
            "    accuracy                           0.90      1024\n",
            "   macro avg       0.62      0.69      0.63      1024\n",
            "weighted avg       0.93      0.90      0.91      1024\n",
            "\n"
          ]
        },
        {
          "output_type": "stream",
          "name": "stderr",
          "text": [
            "/usr/local/lib/python3.11/dist-packages/keras/src/layers/core/embedding.py:90: UserWarning: Argument `input_length` is deprecated. Just remove it.\n",
            "  warnings.warn(\n"
          ]
        },
        {
          "output_type": "stream",
          "name": "stdout",
          "text": [
            "\n",
            "Fold 3 Results:\n",
            "              precision    recall  f1-score   support\n",
            "\n",
            "          -1       0.22      0.57      0.32        21\n",
            "           0       0.97      0.96      0.97       897\n",
            "           1       0.80      0.63      0.71       106\n",
            "\n",
            "    accuracy                           0.92      1024\n",
            "   macro avg       0.66      0.72      0.66      1024\n",
            "weighted avg       0.94      0.92      0.93      1024\n",
            "\n"
          ]
        },
        {
          "output_type": "stream",
          "name": "stderr",
          "text": [
            "/usr/local/lib/python3.11/dist-packages/keras/src/layers/core/embedding.py:90: UserWarning: Argument `input_length` is deprecated. Just remove it.\n",
            "  warnings.warn(\n"
          ]
        },
        {
          "output_type": "stream",
          "name": "stdout",
          "text": [
            "\n",
            "Fold 4 Results:\n",
            "              precision    recall  f1-score   support\n",
            "\n",
            "          -1       0.13      0.38      0.19        21\n",
            "           0       0.97      0.94      0.95       897\n",
            "           1       0.72      0.58      0.64       106\n",
            "\n",
            "    accuracy                           0.89      1024\n",
            "   macro avg       0.60      0.63      0.60      1024\n",
            "weighted avg       0.92      0.89      0.91      1024\n",
            "\n"
          ]
        },
        {
          "output_type": "stream",
          "name": "stderr",
          "text": [
            "/usr/local/lib/python3.11/dist-packages/keras/src/layers/core/embedding.py:90: UserWarning: Argument `input_length` is deprecated. Just remove it.\n",
            "  warnings.warn(\n"
          ]
        },
        {
          "output_type": "stream",
          "name": "stdout",
          "text": [
            "\n",
            "Fold 5 Results:\n",
            "              precision    recall  f1-score   support\n",
            "\n",
            "          -1       0.15      0.23      0.18        22\n",
            "           0       0.96      0.96      0.96       896\n",
            "           1       0.64      0.55      0.59       106\n",
            "\n",
            "    accuracy                           0.90      1024\n",
            "   macro avg       0.58      0.58      0.57      1024\n",
            "weighted avg       0.91      0.90      0.90      1024\n",
            "\n",
            "Mean Accuracy: 0.8998 (±0.0126)\n",
            "\n",
            "Analyzing aspect: Genre\n",
            "\n",
            "Using oversample sampling:\n"
          ]
        },
        {
          "output_type": "stream",
          "name": "stderr",
          "text": [
            "/usr/local/lib/python3.11/dist-packages/keras/src/layers/core/embedding.py:90: UserWarning: Argument `input_length` is deprecated. Just remove it.\n",
            "  warnings.warn(\n"
          ]
        },
        {
          "output_type": "stream",
          "name": "stdout",
          "text": [
            "\n",
            "Fold 1 Results:\n",
            "              precision    recall  f1-score   support\n",
            "\n",
            "          -1       0.00      0.00      0.00        10\n",
            "           0       0.96      0.93      0.95       975\n",
            "           1       0.19      0.28      0.22        40\n",
            "\n",
            "    accuracy                           0.90      1025\n",
            "   macro avg       0.38      0.40      0.39      1025\n",
            "weighted avg       0.92      0.90      0.91      1025\n",
            "\n"
          ]
        },
        {
          "output_type": "stream",
          "name": "stderr",
          "text": [
            "/usr/local/lib/python3.11/dist-packages/keras/src/layers/core/embedding.py:90: UserWarning: Argument `input_length` is deprecated. Just remove it.\n",
            "  warnings.warn(\n"
          ]
        },
        {
          "output_type": "stream",
          "name": "stdout",
          "text": [
            "\n",
            "Fold 2 Results:\n",
            "              precision    recall  f1-score   support\n",
            "\n",
            "          -1       0.00      0.00      0.00        11\n",
            "           0       0.96      0.88      0.92       974\n",
            "           1       0.10      0.18      0.13        39\n",
            "\n",
            "    accuracy                           0.84      1024\n",
            "   macro avg       0.35      0.35      0.35      1024\n",
            "weighted avg       0.91      0.84      0.88      1024\n",
            "\n"
          ]
        },
        {
          "output_type": "stream",
          "name": "stderr",
          "text": [
            "/usr/local/lib/python3.11/dist-packages/keras/src/layers/core/embedding.py:90: UserWarning: Argument `input_length` is deprecated. Just remove it.\n",
            "  warnings.warn(\n"
          ]
        },
        {
          "output_type": "stream",
          "name": "stdout",
          "text": [
            "\n",
            "Fold 3 Results:\n",
            "              precision    recall  f1-score   support\n",
            "\n",
            "          -1       0.00      0.00      0.00        11\n",
            "           0       0.97      0.91      0.94       974\n",
            "           1       0.19      0.44      0.27        39\n",
            "\n",
            "    accuracy                           0.88      1024\n",
            "   macro avg       0.39      0.45      0.40      1024\n",
            "weighted avg       0.93      0.88      0.90      1024\n",
            "\n"
          ]
        },
        {
          "output_type": "stream",
          "name": "stderr",
          "text": [
            "/usr/local/lib/python3.11/dist-packages/keras/src/layers/core/embedding.py:90: UserWarning: Argument `input_length` is deprecated. Just remove it.\n",
            "  warnings.warn(\n"
          ]
        },
        {
          "output_type": "stream",
          "name": "stdout",
          "text": [
            "\n",
            "Fold 4 Results:\n",
            "              precision    recall  f1-score   support\n",
            "\n",
            "          -1       0.00      0.00      0.00        11\n",
            "           0       0.96      0.95      0.95       974\n",
            "           1       0.21      0.18      0.19        39\n",
            "\n",
            "    accuracy                           0.91      1024\n",
            "   macro avg       0.39      0.38      0.38      1024\n",
            "weighted avg       0.92      0.91      0.92      1024\n",
            "\n"
          ]
        },
        {
          "output_type": "stream",
          "name": "stderr",
          "text": [
            "/usr/local/lib/python3.11/dist-packages/keras/src/layers/core/embedding.py:90: UserWarning: Argument `input_length` is deprecated. Just remove it.\n",
            "  warnings.warn(\n"
          ]
        },
        {
          "output_type": "stream",
          "name": "stdout",
          "text": [
            "\n",
            "Fold 5 Results:\n",
            "              precision    recall  f1-score   support\n",
            "\n",
            "          -1       0.02      0.10      0.03        10\n",
            "           0       0.96      0.92      0.94       974\n",
            "           1       0.19      0.20      0.20        40\n",
            "\n",
            "    accuracy                           0.88      1024\n",
            "   macro avg       0.39      0.41      0.39      1024\n",
            "weighted avg       0.92      0.88      0.90      1024\n",
            "\n",
            "Mean Accuracy: 0.8838 (±0.0224)\n",
            "\n",
            "Analyzing aspect: excitement\n",
            "\n",
            "Using oversample sampling:\n"
          ]
        },
        {
          "output_type": "stream",
          "name": "stderr",
          "text": [
            "/usr/local/lib/python3.11/dist-packages/keras/src/layers/core/embedding.py:90: UserWarning: Argument `input_length` is deprecated. Just remove it.\n",
            "  warnings.warn(\n"
          ]
        },
        {
          "output_type": "stream",
          "name": "stdout",
          "text": [
            "\n",
            "Fold 1 Results:\n",
            "              precision    recall  f1-score   support\n",
            "\n",
            "          -1       0.35      0.34      0.35       152\n",
            "           0       0.70      0.73      0.72       583\n",
            "           1       0.63      0.58      0.60       290\n",
            "\n",
            "    accuracy                           0.63      1025\n",
            "   macro avg       0.56      0.55      0.56      1025\n",
            "weighted avg       0.63      0.63      0.63      1025\n",
            "\n"
          ]
        },
        {
          "output_type": "stream",
          "name": "stderr",
          "text": [
            "/usr/local/lib/python3.11/dist-packages/keras/src/layers/core/embedding.py:90: UserWarning: Argument `input_length` is deprecated. Just remove it.\n",
            "  warnings.warn(\n"
          ]
        },
        {
          "output_type": "stream",
          "name": "stdout",
          "text": [
            "\n",
            "Fold 2 Results:\n",
            "              precision    recall  f1-score   support\n",
            "\n",
            "          -1       0.46      0.39      0.42       152\n",
            "           0       0.72      0.74      0.73       583\n",
            "           1       0.62      0.64      0.63       289\n",
            "\n",
            "    accuracy                           0.66      1024\n",
            "   macro avg       0.60      0.59      0.59      1024\n",
            "weighted avg       0.65      0.66      0.65      1024\n",
            "\n"
          ]
        },
        {
          "output_type": "stream",
          "name": "stderr",
          "text": [
            "/usr/local/lib/python3.11/dist-packages/keras/src/layers/core/embedding.py:90: UserWarning: Argument `input_length` is deprecated. Just remove it.\n",
            "  warnings.warn(\n"
          ]
        },
        {
          "output_type": "stream",
          "name": "stdout",
          "text": [
            "\n",
            "Fold 3 Results:\n",
            "              precision    recall  f1-score   support\n",
            "\n",
            "          -1       0.43      0.36      0.39       151\n",
            "           0       0.67      0.79      0.73       583\n",
            "           1       0.69      0.51      0.58       290\n",
            "\n",
            "    accuracy                           0.65      1024\n",
            "   macro avg       0.60      0.55      0.57      1024\n",
            "weighted avg       0.64      0.65      0.64      1024\n",
            "\n"
          ]
        },
        {
          "output_type": "stream",
          "name": "stderr",
          "text": [
            "/usr/local/lib/python3.11/dist-packages/keras/src/layers/core/embedding.py:90: UserWarning: Argument `input_length` is deprecated. Just remove it.\n",
            "  warnings.warn(\n"
          ]
        },
        {
          "output_type": "stream",
          "name": "stdout",
          "text": [
            "\n",
            "Fold 4 Results:\n",
            "              precision    recall  f1-score   support\n",
            "\n",
            "          -1       0.44      0.35      0.39       152\n",
            "           0       0.71      0.74      0.72       582\n",
            "           1       0.62      0.62      0.62       290\n",
            "\n",
            "    accuracy                           0.65      1024\n",
            "   macro avg       0.59      0.57      0.58      1024\n",
            "weighted avg       0.64      0.65      0.65      1024\n",
            "\n"
          ]
        },
        {
          "output_type": "stream",
          "name": "stderr",
          "text": [
            "/usr/local/lib/python3.11/dist-packages/keras/src/layers/core/embedding.py:90: UserWarning: Argument `input_length` is deprecated. Just remove it.\n",
            "  warnings.warn(\n"
          ]
        },
        {
          "output_type": "stream",
          "name": "stdout",
          "text": [
            "\n",
            "Fold 5 Results:\n",
            "              precision    recall  f1-score   support\n",
            "\n",
            "          -1       0.50      0.33      0.40       152\n",
            "           0       0.71      0.78      0.74       582\n",
            "           1       0.65      0.64      0.65       290\n",
            "\n",
            "    accuracy                           0.67      1024\n",
            "   macro avg       0.62      0.58      0.60      1024\n",
            "weighted avg       0.66      0.67      0.67      1024\n",
            "\n",
            "Mean Accuracy: 0.6520 (±0.0144)\n",
            "\n",
            "Analyzing aspect: ovr_sent\n",
            "\n",
            "Using oversample sampling:\n"
          ]
        },
        {
          "output_type": "stream",
          "name": "stderr",
          "text": [
            "/usr/local/lib/python3.11/dist-packages/keras/src/layers/core/embedding.py:90: UserWarning: Argument `input_length` is deprecated. Just remove it.\n",
            "  warnings.warn(\n"
          ]
        },
        {
          "output_type": "stream",
          "name": "stdout",
          "text": [
            "\n",
            "Fold 1 Results:\n",
            "              precision    recall  f1-score   support\n",
            "\n",
            "          -1       0.70      0.71      0.70       344\n",
            "           0       0.40      0.47      0.43       152\n",
            "           1       0.81      0.77      0.79       529\n",
            "\n",
            "    accuracy                           0.70      1025\n",
            "   macro avg       0.64      0.65      0.64      1025\n",
            "weighted avg       0.71      0.70      0.71      1025\n",
            "\n"
          ]
        },
        {
          "output_type": "stream",
          "name": "stderr",
          "text": [
            "/usr/local/lib/python3.11/dist-packages/keras/src/layers/core/embedding.py:90: UserWarning: Argument `input_length` is deprecated. Just remove it.\n",
            "  warnings.warn(\n"
          ]
        },
        {
          "output_type": "stream",
          "name": "stdout",
          "text": [
            "\n",
            "Fold 2 Results:\n",
            "              precision    recall  f1-score   support\n",
            "\n",
            "          -1       0.70      0.72      0.71       343\n",
            "           0       0.33      0.32      0.33       152\n",
            "           1       0.79      0.78      0.78       529\n",
            "\n",
            "    accuracy                           0.69      1024\n",
            "   macro avg       0.61      0.61      0.61      1024\n",
            "weighted avg       0.69      0.69      0.69      1024\n",
            "\n"
          ]
        },
        {
          "output_type": "stream",
          "name": "stderr",
          "text": [
            "/usr/local/lib/python3.11/dist-packages/keras/src/layers/core/embedding.py:90: UserWarning: Argument `input_length` is deprecated. Just remove it.\n",
            "  warnings.warn(\n"
          ]
        },
        {
          "output_type": "stream",
          "name": "stdout",
          "text": [
            "\n",
            "Fold 3 Results:\n",
            "              precision    recall  f1-score   support\n",
            "\n",
            "          -1       0.81      0.58      0.67       343\n",
            "           0       0.34      0.46      0.39       153\n",
            "           1       0.77      0.83      0.80       528\n",
            "\n",
            "    accuracy                           0.69      1024\n",
            "   macro avg       0.64      0.63      0.62      1024\n",
            "weighted avg       0.72      0.69      0.70      1024\n",
            "\n"
          ]
        },
        {
          "output_type": "stream",
          "name": "stderr",
          "text": [
            "/usr/local/lib/python3.11/dist-packages/keras/src/layers/core/embedding.py:90: UserWarning: Argument `input_length` is deprecated. Just remove it.\n",
            "  warnings.warn(\n"
          ]
        },
        {
          "output_type": "stream",
          "name": "stdout",
          "text": [
            "\n",
            "Fold 4 Results:\n",
            "              precision    recall  f1-score   support\n",
            "\n",
            "          -1       0.64      0.75      0.69       344\n",
            "           0       0.39      0.28      0.33       152\n",
            "           1       0.80      0.78      0.79       528\n",
            "\n",
            "    accuracy                           0.69      1024\n",
            "   macro avg       0.61      0.60      0.60      1024\n",
            "weighted avg       0.69      0.69      0.69      1024\n",
            "\n"
          ]
        },
        {
          "output_type": "stream",
          "name": "stderr",
          "text": [
            "/usr/local/lib/python3.11/dist-packages/keras/src/layers/core/embedding.py:90: UserWarning: Argument `input_length` is deprecated. Just remove it.\n",
            "  warnings.warn(\n"
          ]
        },
        {
          "output_type": "stream",
          "name": "stdout",
          "text": [
            "\n",
            "Fold 5 Results:\n",
            "              precision    recall  f1-score   support\n",
            "\n",
            "          -1       0.69      0.80      0.74       344\n",
            "           0       0.41      0.31      0.35       152\n",
            "           1       0.80      0.77      0.79       528\n",
            "\n",
            "    accuracy                           0.71      1024\n",
            "   macro avg       0.63      0.63      0.63      1024\n",
            "weighted avg       0.71      0.71      0.71      1024\n",
            "\n",
            "Mean Accuracy: 0.6989 (±0.0084)\n"
          ]
        }
      ]
    },
    {
      "cell_type": "markdown",
      "source": [
        "#NO  SAMPLING"
      ],
      "metadata": {
        "id": "Q12QfjdtcL0z"
      }
    },
    {
      "cell_type": "code",
      "source": [
        "train_df = pd.read_csv(\"train_data.csv\")\n",
        "test_df = pd.read_csv(\"test_data.csv\")"
      ],
      "metadata": {
        "id": "AF-8v8kgcvWT"
      },
      "execution_count": null,
      "outputs": []
    },
    {
      "cell_type": "code",
      "source": [
        "tf.device('/device:GPU:0')"
      ],
      "metadata": {
        "colab": {
          "base_uri": "https://localhost:8080/"
        },
        "id": "sv6NPQSTd4tU",
        "outputId": "533b7975-2aeb-448e-8448-f801c82c8993"
      },
      "execution_count": null,
      "outputs": [
        {
          "output_type": "execute_result",
          "data": {
            "text/plain": [
              "<tensorflow.python.eager.context._EagerDeviceContext at 0x7aaa13075100>"
            ]
          },
          "metadata": {},
          "execution_count": 17
        }
      ]
    },
    {
      "cell_type": "code",
      "source": [
        "def train_final_dl_models_from_csv(train_df, test_df, aspects):\n",
        "    \"\"\"\n",
        "    For each aspect, loads training data from train_df and testing data from test_df.\n",
        "    Performs 5-fold cross validation on the training data to select the best deep learning model.\n",
        "    Evaluates the best model on both the training and test sets and prints classification reports.\n",
        "\n",
        "    Returns:\n",
        "        best_models: dict of best models (with their label encoder and tokenizer) for each aspect.\n",
        "        train_reports: dict of training classification reports for each aspect.\n",
        "        test_reports: dict of test classification reports for each aspect.\n",
        "    \"\"\"\n",
        "    best_models = {}\n",
        "    train_reports = {}\n",
        "    test_reports = {}\n",
        "    maxlen = 15  # Maximum sequence length\n",
        "\n",
        "    for aspect in aspects:\n",
        "        print(f\"\\n=== Processing aspect: {aspect} ===\")\n",
        "        # Prepare the data for the current aspect\n",
        "        X_train, y_train = prepare_data(train_df, aspect)\n",
        "        X_test, y_test = prepare_data(test_df, aspect)\n",
        "\n",
        "        # Encode target labels\n",
        "        le = LabelEncoder()\n",
        "        y_train_encoded = le.fit_transform(y_train)\n",
        "        y_test_encoded = le.transform(y_test)  # Use the same encoder for test data\n",
        "        target_names = [str(label) for label in le.classes_]\n",
        "\n",
        "        # Tokenize the training texts and pad sequences\n",
        "        tokenizer = Tokenizer()\n",
        "        tokenizer.fit_on_texts(X_train['clean_text'])\n",
        "        train_sequences = tokenizer.texts_to_sequences(X_train['clean_text'])\n",
        "        test_sequences = tokenizer.texts_to_sequences(X_test['clean_text'])\n",
        "        X_train_padded = pad_sequences(train_sequences, maxlen=maxlen)\n",
        "        X_test_padded = pad_sequences(test_sequences, maxlen=maxlen)\n",
        "\n",
        "        # Prepare the embedding matrix using the tokenizer's word index\n",
        "        word_index = tokenizer.word_index\n",
        "        num_words = len(word_index) + 1\n",
        "        embedding_matrix = np.zeros((num_words, EMBEDDING_DIM))\n",
        "        for word, i in word_index.items():\n",
        "            embedding_vector = embeddings_index.get(word)\n",
        "            if embedding_vector is not None:\n",
        "                if len(embedding_vector) == EMBEDDING_DIM:\n",
        "                    embedding_matrix[i] = embedding_vector\n",
        "                else:\n",
        "                    print(f\"Warning: Embedding for '{word}' has unexpected dimension {len(embedding_vector)}. Skipping.\")\n",
        "        vocab_size = num_words\n",
        "\n",
        "        # Cross-validation on the training data to select the best model\n",
        "        skf = StratifiedKFold(n_splits=5, shuffle=True, random_state=42)\n",
        "        best_cv_score = -np.inf\n",
        "        best_model = None\n",
        "\n",
        "        for fold, (cv_train_idx, cv_val_idx) in enumerate(skf.split(X_train_padded, y_train_encoded)):\n",
        "            X_cv_train = X_train_padded[cv_train_idx]\n",
        "            y_cv_train = y_train_encoded[cv_train_idx]\n",
        "            X_cv_val = X_train_padded[cv_val_idx]\n",
        "            y_cv_val = y_train_encoded[cv_val_idx]\n",
        "\n",
        "            # Define the model architecture\n",
        "            input_layer = tf.keras.layers.Input(shape=(maxlen,))\n",
        "            embedding_layer = tf.keras.layers.Embedding(\n",
        "                vocab_size,\n",
        "                EMBEDDING_DIM,\n",
        "                weights=[embedding_matrix],\n",
        "                #input_length=maxlen,\n",
        "                trainable=False\n",
        "            )(input_layer)\n",
        "            lstm = tf.keras.layers.LSTM(128, dropout=0.3, recurrent_dropout=0.2, return_sequences=True)(embedding_layer)\n",
        "            drop = tf.keras.layers.Dropout(0.2)(lstm)\n",
        "            dense = tf.keras.layers.Dense(128, activation='relu',kernel_regularizer=tf.keras.regularizers.l1_l2(l1=0.01, l2=0.01))(drop)\n",
        "            flat = tf.keras.layers.Flatten()(dense)\n",
        "            output_layer = tf.keras.layers.Dense(len(le.classes_), activation='softmax')(flat)\n",
        "\n",
        "            model = tf.keras.Model(input_layer, output_layer)\n",
        "            model.compile(optimizer='adam', loss='sparse_categorical_crossentropy', metrics=['accuracy'])\n",
        "\n",
        "            # Train the model on the current CV fold\n",
        "            model.fit(X_cv_train, y_cv_train, epochs=5, batch_size=32, verbose=0)\n",
        "\n",
        "            # Evaluate on the CV validation fold\n",
        "            y_cv_pred = model.predict(X_cv_val, verbose=0).argmax(axis=1)\n",
        "            cv_score = accuracy_score(y_cv_val, y_cv_pred)\n",
        "            print(f\"Fold {fold + 1} CV Accuracy: {cv_score:.4f}\")\n",
        "\n",
        "            if cv_score > best_cv_score:\n",
        "                best_cv_score = cv_score\n",
        "                best_model = model\n",
        "\n",
        "        # Evaluate the best model on the entire training set\n",
        "        y_train_pred = best_model.predict(X_train_padded, verbose=0).argmax(axis=1)\n",
        "        train_acc = accuracy_score(y_train_encoded, y_train_pred)\n",
        "        train_report = classification_report(y_train_encoded, y_train_pred, target_names=target_names)\n",
        "        print(f\"Best CV model Training Accuracy: {train_acc:.4f}\")\n",
        "        print(\"Training Classification Report:\\n\", train_report)\n",
        "\n",
        "        # Evaluate on the test set\n",
        "        y_test_pred = best_model.predict(X_test_padded, verbose=0).argmax(axis=1)\n",
        "        test_acc = accuracy_score(y_test_encoded, y_test_pred)\n",
        "        test_report = classification_report(y_test_encoded, y_test_pred, target_names=target_names)\n",
        "        print(f\"Test Accuracy: {test_acc:.4f}\")\n",
        "        print(\"Test Classification Report:\\n\", test_report)\n",
        "\n",
        "        best_models[aspect.lower()] = {\n",
        "            \"model\": best_model,\n",
        "            \"label_encoder\": le,\n",
        "            \"tokenizer\": tokenizer\n",
        "        }\n",
        "        train_reports[aspect.lower()] = train_report\n",
        "        test_reports[aspect.lower()] = test_report\n",
        "\n",
        "    return best_models, train_reports, test_reports\n"
      ],
      "metadata": {
        "id": "JCEYljkccP0r"
      },
      "execution_count": null,
      "outputs": []
    },
    {
      "cell_type": "code",
      "source": [
        "import pickle\n",
        "import os\n",
        "\n",
        "def save_models(models, filename=\"final_models.pkl\"):\n",
        "    \"\"\"Save trained models and label encoders to a pickle file.\"\"\"\n",
        "    with open(filename, 'wb') as f:\n",
        "        pickle.dump(models, f)\n",
        "    print(f\"Models saved to {filename}\")\n",
        "\n",
        "def load_models(filename=\"final_models.pkl\"):\n",
        "    \"\"\"Load trained models and label encoders from a pickle file.\"\"\"\n",
        "    if not os.path.exists(filename):\n",
        "        raise FileNotFoundError(f\"The file {filename} does not exist.\")\n",
        "    with open(filename, 'rb') as f:\n",
        "        models = pickle.load(f)\n",
        "    print(f\"Models loaded from {filename}\")\n",
        "    return models\n",
        "\n",
        "def predict_all_aspects_from_file(sentence, model_filename=\"final_models.pkl\"):\n",
        "    \"\"\"Load the saved models and predict aspects for a given sentence.\"\"\"\n",
        "    models = load_models(model_filename)\n",
        "    predictions = {}\n",
        "\n",
        "    for aspect, model_info in models.items():\n",
        "        model = model_info['model']\n",
        "        le = model_info['label_encoder']\n",
        "        pred_encoded = model.predict([sentence])[0]\n",
        "        pred_label = le.inverse_transform([pred_encoded])[0]\n",
        "        predictions[aspect] = pred_label\n",
        "\n",
        "    return predictions"
      ],
      "metadata": {
        "id": "ibIrx7SadbVj"
      },
      "execution_count": null,
      "outputs": []
    },
    {
      "cell_type": "code",
      "source": [
        "aspects = ['Acting', 'direction', 'Music', 'Genre', 'excitement', 'ovr_sent']"
      ],
      "metadata": {
        "id": "0fv6hHTWcgwT"
      },
      "execution_count": null,
      "outputs": []
    },
    {
      "cell_type": "markdown",
      "source": [
        "##without regularisation\n"
      ],
      "metadata": {
        "id": "JeU_U1sErsut"
      }
    },
    {
      "cell_type": "code",
      "source": [
        "best_models, train_reports, test_reports = train_final_dl_models_from_csv(train_df, test_df, aspects)"
      ],
      "metadata": {
        "colab": {
          "base_uri": "https://localhost:8080/"
        },
        "collapsed": true,
        "id": "SLpUrYlIckEa",
        "outputId": "d9290f15-2b28-4572-ec77-e50af9e5dfc0"
      },
      "execution_count": null,
      "outputs": [
        {
          "output_type": "stream",
          "name": "stdout",
          "text": [
            "\n",
            "=== Processing aspect: Acting ===\n"
          ]
        },
        {
          "output_type": "stream",
          "name": "stderr",
          "text": [
            "/usr/local/lib/python3.11/dist-packages/keras/src/layers/core/embedding.py:90: UserWarning: Argument `input_length` is deprecated. Just remove it.\n",
            "  warnings.warn(\n"
          ]
        },
        {
          "output_type": "stream",
          "name": "stdout",
          "text": [
            "Fold 1 CV Accuracy: 0.8238\n"
          ]
        },
        {
          "output_type": "stream",
          "name": "stderr",
          "text": [
            "/usr/local/lib/python3.11/dist-packages/keras/src/layers/core/embedding.py:90: UserWarning: Argument `input_length` is deprecated. Just remove it.\n",
            "  warnings.warn(\n"
          ]
        },
        {
          "output_type": "stream",
          "name": "stdout",
          "text": [
            "Fold 2 CV Accuracy: 0.8452\n"
          ]
        },
        {
          "output_type": "stream",
          "name": "stderr",
          "text": [
            "/usr/local/lib/python3.11/dist-packages/keras/src/layers/core/embedding.py:90: UserWarning: Argument `input_length` is deprecated. Just remove it.\n",
            "  warnings.warn(\n"
          ]
        },
        {
          "output_type": "stream",
          "name": "stdout",
          "text": [
            "Fold 3 CV Accuracy: 0.8477\n"
          ]
        },
        {
          "output_type": "stream",
          "name": "stderr",
          "text": [
            "/usr/local/lib/python3.11/dist-packages/keras/src/layers/core/embedding.py:90: UserWarning: Argument `input_length` is deprecated. Just remove it.\n",
            "  warnings.warn(\n"
          ]
        },
        {
          "output_type": "stream",
          "name": "stdout",
          "text": [
            "Fold 4 CV Accuracy: 0.8426\n"
          ]
        },
        {
          "output_type": "stream",
          "name": "stderr",
          "text": [
            "/usr/local/lib/python3.11/dist-packages/keras/src/layers/core/embedding.py:90: UserWarning: Argument `input_length` is deprecated. Just remove it.\n",
            "  warnings.warn(\n"
          ]
        },
        {
          "output_type": "stream",
          "name": "stdout",
          "text": [
            "Fold 5 CV Accuracy: 0.8299\n",
            "Best CV model Training Accuracy: 0.9015\n",
            "Training Classification Report:\n",
            "               precision    recall  f1-score   support\n",
            "\n",
            "          -1       0.68      0.50      0.57       131\n",
            "           0       0.92      0.96      0.94      2962\n",
            "           1       0.84      0.77      0.80       848\n",
            "\n",
            "    accuracy                           0.90      3941\n",
            "   macro avg       0.81      0.74      0.77      3941\n",
            "weighted avg       0.90      0.90      0.90      3941\n",
            "\n",
            "Test Accuracy: 0.8509\n",
            "Test Classification Report:\n",
            "               precision    recall  f1-score   support\n",
            "\n",
            "          -1       0.40      0.06      0.10        34\n",
            "           0       0.88      0.94      0.91       746\n",
            "           1       0.73      0.65      0.69       206\n",
            "\n",
            "    accuracy                           0.85       986\n",
            "   macro avg       0.67      0.55      0.57       986\n",
            "weighted avg       0.83      0.85      0.84       986\n",
            "\n",
            "\n",
            "=== Processing aspect: direction ===\n"
          ]
        },
        {
          "output_type": "stream",
          "name": "stderr",
          "text": [
            "/usr/local/lib/python3.11/dist-packages/keras/src/layers/core/embedding.py:90: UserWarning: Argument `input_length` is deprecated. Just remove it.\n",
            "  warnings.warn(\n"
          ]
        },
        {
          "output_type": "stream",
          "name": "stdout",
          "text": [
            "Fold 1 CV Accuracy: 0.8327\n"
          ]
        },
        {
          "output_type": "stream",
          "name": "stderr",
          "text": [
            "/usr/local/lib/python3.11/dist-packages/keras/src/layers/core/embedding.py:90: UserWarning: Argument `input_length` is deprecated. Just remove it.\n",
            "  warnings.warn(\n"
          ]
        },
        {
          "output_type": "stream",
          "name": "stdout",
          "text": [
            "Fold 2 CV Accuracy: 0.8338\n"
          ]
        },
        {
          "output_type": "stream",
          "name": "stderr",
          "text": [
            "/usr/local/lib/python3.11/dist-packages/keras/src/layers/core/embedding.py:90: UserWarning: Argument `input_length` is deprecated. Just remove it.\n",
            "  warnings.warn(\n"
          ]
        },
        {
          "output_type": "stream",
          "name": "stdout",
          "text": [
            "Fold 3 CV Accuracy: 0.8312\n"
          ]
        },
        {
          "output_type": "stream",
          "name": "stderr",
          "text": [
            "/usr/local/lib/python3.11/dist-packages/keras/src/layers/core/embedding.py:90: UserWarning: Argument `input_length` is deprecated. Just remove it.\n",
            "  warnings.warn(\n"
          ]
        },
        {
          "output_type": "stream",
          "name": "stdout",
          "text": [
            "Fold 4 CV Accuracy: 0.8122\n"
          ]
        },
        {
          "output_type": "stream",
          "name": "stderr",
          "text": [
            "/usr/local/lib/python3.11/dist-packages/keras/src/layers/core/embedding.py:90: UserWarning: Argument `input_length` is deprecated. Just remove it.\n",
            "  warnings.warn(\n"
          ]
        },
        {
          "output_type": "stream",
          "name": "stdout",
          "text": [
            "Fold 5 CV Accuracy: 0.8033\n",
            "Best CV model Training Accuracy: 0.8942\n",
            "Training Classification Report:\n",
            "               precision    recall  f1-score   support\n",
            "\n",
            "          -1       0.89      0.59      0.71       568\n",
            "           0       0.90      0.99      0.94      3128\n",
            "           1       0.86      0.41      0.55       245\n",
            "\n",
            "    accuracy                           0.89      3941\n",
            "   macro avg       0.88      0.66      0.73      3941\n",
            "weighted avg       0.89      0.89      0.88      3941\n",
            "\n",
            "Test Accuracy: 0.8235\n",
            "Test Classification Report:\n",
            "               precision    recall  f1-score   support\n",
            "\n",
            "          -1       0.45      0.15      0.22       124\n",
            "           0       0.84      0.97      0.90       804\n",
            "           1       0.63      0.21      0.31        58\n",
            "\n",
            "    accuracy                           0.82       986\n",
            "   macro avg       0.64      0.44      0.48       986\n",
            "weighted avg       0.78      0.82      0.78       986\n",
            "\n",
            "\n",
            "=== Processing aspect: Music ===\n"
          ]
        },
        {
          "output_type": "stream",
          "name": "stderr",
          "text": [
            "/usr/local/lib/python3.11/dist-packages/keras/src/layers/core/embedding.py:90: UserWarning: Argument `input_length` is deprecated. Just remove it.\n",
            "  warnings.warn(\n"
          ]
        },
        {
          "output_type": "stream",
          "name": "stdout",
          "text": [
            "Fold 1 CV Accuracy: 0.9493\n"
          ]
        },
        {
          "output_type": "stream",
          "name": "stderr",
          "text": [
            "/usr/local/lib/python3.11/dist-packages/keras/src/layers/core/embedding.py:90: UserWarning: Argument `input_length` is deprecated. Just remove it.\n",
            "  warnings.warn(\n"
          ]
        },
        {
          "output_type": "stream",
          "name": "stdout",
          "text": [
            "Fold 2 CV Accuracy: 0.9365\n"
          ]
        },
        {
          "output_type": "stream",
          "name": "stderr",
          "text": [
            "/usr/local/lib/python3.11/dist-packages/keras/src/layers/core/embedding.py:90: UserWarning: Argument `input_length` is deprecated. Just remove it.\n",
            "  warnings.warn(\n"
          ]
        },
        {
          "output_type": "stream",
          "name": "stdout",
          "text": [
            "Fold 3 CV Accuracy: 0.9480\n"
          ]
        },
        {
          "output_type": "stream",
          "name": "stderr",
          "text": [
            "/usr/local/lib/python3.11/dist-packages/keras/src/layers/core/embedding.py:90: UserWarning: Argument `input_length` is deprecated. Just remove it.\n",
            "  warnings.warn(\n"
          ]
        },
        {
          "output_type": "stream",
          "name": "stdout",
          "text": [
            "Fold 4 CV Accuracy: 0.9518\n"
          ]
        },
        {
          "output_type": "stream",
          "name": "stderr",
          "text": [
            "/usr/local/lib/python3.11/dist-packages/keras/src/layers/core/embedding.py:90: UserWarning: Argument `input_length` is deprecated. Just remove it.\n",
            "  warnings.warn(\n"
          ]
        },
        {
          "output_type": "stream",
          "name": "stdout",
          "text": [
            "Fold 5 CV Accuracy: 0.9505\n",
            "Best CV model Training Accuracy: 0.9690\n",
            "Training Classification Report:\n",
            "               precision    recall  f1-score   support\n",
            "\n",
            "          -1       0.97      0.40      0.57        89\n",
            "           0       0.98      0.99      0.99      3446\n",
            "           1       0.86      0.88      0.87       406\n",
            "\n",
            "    accuracy                           0.97      3941\n",
            "   macro avg       0.94      0.76      0.81      3941\n",
            "weighted avg       0.97      0.97      0.97      3941\n",
            "\n",
            "Test Accuracy: 0.9564\n",
            "Test Classification Report:\n",
            "               precision    recall  f1-score   support\n",
            "\n",
            "          -1       1.00      0.06      0.11        18\n",
            "           0       0.98      0.99      0.98       867\n",
            "           1       0.77      0.83      0.80       101\n",
            "\n",
            "    accuracy                           0.96       986\n",
            "   macro avg       0.92      0.63      0.63       986\n",
            "weighted avg       0.96      0.96      0.95       986\n",
            "\n",
            "\n",
            "=== Processing aspect: Genre ===\n"
          ]
        },
        {
          "output_type": "stream",
          "name": "stderr",
          "text": [
            "/usr/local/lib/python3.11/dist-packages/keras/src/layers/core/embedding.py:90: UserWarning: Argument `input_length` is deprecated. Just remove it.\n",
            "  warnings.warn(\n"
          ]
        },
        {
          "output_type": "stream",
          "name": "stdout",
          "text": [
            "Fold 1 CV Accuracy: 0.9493\n"
          ]
        },
        {
          "output_type": "stream",
          "name": "stderr",
          "text": [
            "/usr/local/lib/python3.11/dist-packages/keras/src/layers/core/embedding.py:90: UserWarning: Argument `input_length` is deprecated. Just remove it.\n",
            "  warnings.warn(\n"
          ]
        },
        {
          "output_type": "stream",
          "name": "stdout",
          "text": [
            "Fold 2 CV Accuracy: 0.9569\n"
          ]
        },
        {
          "output_type": "stream",
          "name": "stderr",
          "text": [
            "/usr/local/lib/python3.11/dist-packages/keras/src/layers/core/embedding.py:90: UserWarning: Argument `input_length` is deprecated. Just remove it.\n",
            "  warnings.warn(\n"
          ]
        },
        {
          "output_type": "stream",
          "name": "stdout",
          "text": [
            "Fold 3 CV Accuracy: 0.9518\n"
          ]
        },
        {
          "output_type": "stream",
          "name": "stderr",
          "text": [
            "/usr/local/lib/python3.11/dist-packages/keras/src/layers/core/embedding.py:90: UserWarning: Argument `input_length` is deprecated. Just remove it.\n",
            "  warnings.warn(\n"
          ]
        },
        {
          "output_type": "stream",
          "name": "stdout",
          "text": [
            "Fold 4 CV Accuracy: 0.9518\n"
          ]
        },
        {
          "output_type": "stream",
          "name": "stderr",
          "text": [
            "/usr/local/lib/python3.11/dist-packages/keras/src/layers/core/embedding.py:90: UserWarning: Argument `input_length` is deprecated. Just remove it.\n",
            "  warnings.warn(\n"
          ]
        },
        {
          "output_type": "stream",
          "name": "stdout",
          "text": [
            "Fold 5 CV Accuracy: 0.9518\n",
            "Best CV model Training Accuracy: 0.9668\n",
            "Training Classification Report:\n",
            "               precision    recall  f1-score   support\n",
            "\n",
            "          -1       0.77      0.27      0.40        37\n",
            "           0       0.97      1.00      0.98      3752\n",
            "           1       0.91      0.34      0.50       152\n",
            "\n",
            "    accuracy                           0.97      3941\n",
            "   macro avg       0.88      0.54      0.63      3941\n",
            "weighted avg       0.96      0.97      0.96      3941\n",
            "\n",
            "Test Accuracy: 0.9483\n",
            "Test Classification Report:\n",
            "               precision    recall  f1-score   support\n",
            "\n",
            "          -1       1.00      0.06      0.12        16\n",
            "           0       0.95      1.00      0.97       926\n",
            "           1       0.83      0.23      0.36        44\n",
            "\n",
            "    accuracy                           0.95       986\n",
            "   macro avg       0.93      0.43      0.48       986\n",
            "weighted avg       0.95      0.95      0.93       986\n",
            "\n",
            "\n",
            "=== Processing aspect: excitement ===\n"
          ]
        },
        {
          "output_type": "stream",
          "name": "stderr",
          "text": [
            "/usr/local/lib/python3.11/dist-packages/keras/src/layers/core/embedding.py:90: UserWarning: Argument `input_length` is deprecated. Just remove it.\n",
            "  warnings.warn(\n"
          ]
        },
        {
          "output_type": "stream",
          "name": "stdout",
          "text": [
            "Fold 1 CV Accuracy: 0.6831\n"
          ]
        },
        {
          "output_type": "stream",
          "name": "stderr",
          "text": [
            "/usr/local/lib/python3.11/dist-packages/keras/src/layers/core/embedding.py:90: UserWarning: Argument `input_length` is deprecated. Just remove it.\n",
            "  warnings.warn(\n"
          ]
        },
        {
          "output_type": "stream",
          "name": "stdout",
          "text": [
            "Fold 2 CV Accuracy: 0.6891\n"
          ]
        },
        {
          "output_type": "stream",
          "name": "stderr",
          "text": [
            "/usr/local/lib/python3.11/dist-packages/keras/src/layers/core/embedding.py:90: UserWarning: Argument `input_length` is deprecated. Just remove it.\n",
            "  warnings.warn(\n"
          ]
        },
        {
          "output_type": "stream",
          "name": "stdout",
          "text": [
            "Fold 3 CV Accuracy: 0.6688\n"
          ]
        },
        {
          "output_type": "stream",
          "name": "stderr",
          "text": [
            "/usr/local/lib/python3.11/dist-packages/keras/src/layers/core/embedding.py:90: UserWarning: Argument `input_length` is deprecated. Just remove it.\n",
            "  warnings.warn(\n"
          ]
        },
        {
          "output_type": "stream",
          "name": "stdout",
          "text": [
            "Fold 4 CV Accuracy: 0.6637\n"
          ]
        },
        {
          "output_type": "stream",
          "name": "stderr",
          "text": [
            "/usr/local/lib/python3.11/dist-packages/keras/src/layers/core/embedding.py:90: UserWarning: Argument `input_length` is deprecated. Just remove it.\n",
            "  warnings.warn(\n"
          ]
        },
        {
          "output_type": "stream",
          "name": "stdout",
          "text": [
            "Fold 5 CV Accuracy: 0.6662\n",
            "Best CV model Training Accuracy: 0.7957\n",
            "Training Classification Report:\n",
            "               precision    recall  f1-score   support\n",
            "\n",
            "          -1       0.68      0.78      0.73       595\n",
            "           0       0.84      0.83      0.83      2243\n",
            "           1       0.78      0.74      0.76      1103\n",
            "\n",
            "    accuracy                           0.80      3941\n",
            "   macro avg       0.77      0.78      0.77      3941\n",
            "weighted avg       0.80      0.80      0.80      3941\n",
            "\n",
            "Test Accuracy: 0.6805\n",
            "Test Classification Report:\n",
            "               precision    recall  f1-score   support\n",
            "\n",
            "          -1       0.51      0.41      0.45       147\n",
            "           0       0.71      0.79      0.75       563\n",
            "           1       0.68      0.60      0.64       276\n",
            "\n",
            "    accuracy                           0.68       986\n",
            "   macro avg       0.63      0.60      0.61       986\n",
            "weighted avg       0.67      0.68      0.67       986\n",
            "\n",
            "\n",
            "=== Processing aspect: ovr_sent ===\n"
          ]
        },
        {
          "output_type": "stream",
          "name": "stderr",
          "text": [
            "/usr/local/lib/python3.11/dist-packages/keras/src/layers/core/embedding.py:90: UserWarning: Argument `input_length` is deprecated. Just remove it.\n",
            "  warnings.warn(\n"
          ]
        },
        {
          "output_type": "stream",
          "name": "stdout",
          "text": [
            "Fold 1 CV Accuracy: 0.7148\n"
          ]
        },
        {
          "output_type": "stream",
          "name": "stderr",
          "text": [
            "/usr/local/lib/python3.11/dist-packages/keras/src/layers/core/embedding.py:90: UserWarning: Argument `input_length` is deprecated. Just remove it.\n",
            "  warnings.warn(\n"
          ]
        },
        {
          "output_type": "stream",
          "name": "stdout",
          "text": [
            "Fold 2 CV Accuracy: 0.7284\n"
          ]
        },
        {
          "output_type": "stream",
          "name": "stderr",
          "text": [
            "/usr/local/lib/python3.11/dist-packages/keras/src/layers/core/embedding.py:90: UserWarning: Argument `input_length` is deprecated. Just remove it.\n",
            "  warnings.warn(\n"
          ]
        },
        {
          "output_type": "stream",
          "name": "stdout",
          "text": [
            "Fold 3 CV Accuracy: 0.6929\n"
          ]
        },
        {
          "output_type": "stream",
          "name": "stderr",
          "text": [
            "/usr/local/lib/python3.11/dist-packages/keras/src/layers/core/embedding.py:90: UserWarning: Argument `input_length` is deprecated. Just remove it.\n",
            "  warnings.warn(\n"
          ]
        },
        {
          "output_type": "stream",
          "name": "stdout",
          "text": [
            "Fold 4 CV Accuracy: 0.7183\n"
          ]
        },
        {
          "output_type": "stream",
          "name": "stderr",
          "text": [
            "/usr/local/lib/python3.11/dist-packages/keras/src/layers/core/embedding.py:90: UserWarning: Argument `input_length` is deprecated. Just remove it.\n",
            "  warnings.warn(\n"
          ]
        },
        {
          "output_type": "stream",
          "name": "stdout",
          "text": [
            "Fold 5 CV Accuracy: 0.7284\n",
            "Best CV model Training Accuracy: 0.8226\n",
            "Training Classification Report:\n",
            "               precision    recall  f1-score   support\n",
            "\n",
            "          -1       0.75      0.92      0.83      1346\n",
            "           0       0.72      0.53      0.61       567\n",
            "           1       0.91      0.84      0.87      2028\n",
            "\n",
            "    accuracy                           0.82      3941\n",
            "   macro avg       0.79      0.76      0.77      3941\n",
            "weighted avg       0.83      0.82      0.82      3941\n",
            "\n",
            "Test Accuracy: 0.6978\n",
            "Test Classification Report:\n",
            "               precision    recall  f1-score   support\n",
            "\n",
            "          -1       0.70      0.73      0.71       348\n",
            "           0       0.37      0.35      0.36       139\n",
            "           1       0.78      0.78      0.78       499\n",
            "\n",
            "    accuracy                           0.70       986\n",
            "   macro avg       0.62      0.62      0.62       986\n",
            "weighted avg       0.70      0.70      0.70       986\n",
            "\n"
          ]
        }
      ]
    },
    {
      "cell_type": "markdown",
      "source": [
        "##with reguralisation l2\n"
      ],
      "metadata": {
        "id": "DVBIDsW6r4N9"
      }
    },
    {
      "cell_type": "code",
      "source": [
        "best_models, train_reports, test_reports = train_final_dl_models_from_csv(train_df, test_df, aspects)"
      ],
      "metadata": {
        "colab": {
          "base_uri": "https://localhost:8080/"
        },
        "id": "yHp1ZL4mr2Gm",
        "outputId": "44d9d3d0-3274-4e8f-daa2-4ae8a4244e49",
        "collapsed": true
      },
      "execution_count": null,
      "outputs": [
        {
          "output_type": "stream",
          "name": "stdout",
          "text": [
            "\n",
            "=== Processing aspect: Acting ===\n",
            "Fold 1 CV Accuracy: 0.8365\n",
            "Fold 2 CV Accuracy: 0.8325\n",
            "Fold 3 CV Accuracy: 0.8388\n",
            "Fold 4 CV Accuracy: 0.8515\n",
            "Fold 5 CV Accuracy: 0.8350\n",
            "Best CV model Training Accuracy: 0.8648\n",
            "Training Classification Report:\n",
            "               precision    recall  f1-score   support\n",
            "\n",
            "          -1       1.00      0.01      0.02       131\n",
            "           0       0.86      0.98      0.92      2962\n",
            "           1       0.88      0.59      0.71       848\n",
            "\n",
            "    accuracy                           0.86      3941\n",
            "   macro avg       0.91      0.53      0.55      3941\n",
            "weighted avg       0.87      0.86      0.84      3941\n",
            "\n"
          ]
        },
        {
          "output_type": "stream",
          "name": "stderr",
          "text": [
            "/usr/local/lib/python3.11/dist-packages/sklearn/metrics/_classification.py:1565: UndefinedMetricWarning: Precision is ill-defined and being set to 0.0 in labels with no predicted samples. Use `zero_division` parameter to control this behavior.\n",
            "  _warn_prf(average, modifier, f\"{metric.capitalize()} is\", len(result))\n",
            "/usr/local/lib/python3.11/dist-packages/sklearn/metrics/_classification.py:1565: UndefinedMetricWarning: Precision is ill-defined and being set to 0.0 in labels with no predicted samples. Use `zero_division` parameter to control this behavior.\n",
            "  _warn_prf(average, modifier, f\"{metric.capitalize()} is\", len(result))\n",
            "/usr/local/lib/python3.11/dist-packages/sklearn/metrics/_classification.py:1565: UndefinedMetricWarning: Precision is ill-defined and being set to 0.0 in labels with no predicted samples. Use `zero_division` parameter to control this behavior.\n",
            "  _warn_prf(average, modifier, f\"{metric.capitalize()} is\", len(result))\n"
          ]
        },
        {
          "output_type": "stream",
          "name": "stdout",
          "text": [
            "Test Accuracy: 0.8418\n",
            "Test Classification Report:\n",
            "               precision    recall  f1-score   support\n",
            "\n",
            "          -1       0.00      0.00      0.00        34\n",
            "           0       0.85      0.97      0.91       746\n",
            "           1       0.81      0.50      0.62       206\n",
            "\n",
            "    accuracy                           0.84       986\n",
            "   macro avg       0.55      0.49      0.51       986\n",
            "weighted avg       0.81      0.84      0.82       986\n",
            "\n",
            "\n",
            "=== Processing aspect: direction ===\n",
            "Fold 1 CV Accuracy: 0.8390\n",
            "Fold 2 CV Accuracy: 0.8249\n",
            "Fold 3 CV Accuracy: 0.8426\n",
            "Fold 4 CV Accuracy: 0.8109\n",
            "Fold 5 CV Accuracy: 0.8096\n",
            "Best CV model Training Accuracy: 0.8615\n",
            "Training Classification Report:\n",
            "               precision    recall  f1-score   support\n",
            "\n",
            "          -1       0.76      0.44      0.56       568\n",
            "           0       0.87      0.98      0.92      3128\n",
            "           1       0.79      0.33      0.47       245\n",
            "\n",
            "    accuracy                           0.86      3941\n",
            "   macro avg       0.81      0.58      0.65      3941\n",
            "weighted avg       0.85      0.86      0.84      3941\n",
            "\n",
            "Test Accuracy: 0.8276\n",
            "Test Classification Report:\n",
            "               precision    recall  f1-score   support\n",
            "\n",
            "          -1       0.56      0.15      0.24       124\n",
            "           0       0.84      0.98      0.91       804\n",
            "           1       0.56      0.16      0.24        58\n",
            "\n",
            "    accuracy                           0.83       986\n",
            "   macro avg       0.65      0.43      0.46       986\n",
            "weighted avg       0.79      0.83      0.78       986\n",
            "\n",
            "\n",
            "=== Processing aspect: Music ===\n",
            "Fold 1 CV Accuracy: 0.9430\n",
            "Fold 2 CV Accuracy: 0.9340\n",
            "Fold 3 CV Accuracy: 0.9454\n",
            "Fold 4 CV Accuracy: 0.9505\n",
            "Fold 5 CV Accuracy: 0.9454\n",
            "Best CV model Training Accuracy: 0.9607\n",
            "Training Classification Report:\n",
            "               precision    recall  f1-score   support\n",
            "\n",
            "          -1       0.74      0.42      0.53        89\n",
            "           0       0.98      0.99      0.98      3446\n",
            "           1       0.84      0.82      0.83       406\n",
            "\n",
            "    accuracy                           0.96      3941\n",
            "   macro avg       0.85      0.74      0.78      3941\n",
            "weighted avg       0.96      0.96      0.96      3941\n",
            "\n",
            "Test Accuracy: 0.9544\n",
            "Test Classification Report:\n",
            "               precision    recall  f1-score   support\n",
            "\n",
            "          -1       0.50      0.17      0.25        18\n",
            "           0       0.97      0.99      0.98       867\n",
            "           1       0.83      0.76      0.79       101\n",
            "\n",
            "    accuracy                           0.95       986\n",
            "   macro avg       0.77      0.64      0.68       986\n",
            "weighted avg       0.95      0.95      0.95       986\n",
            "\n",
            "\n",
            "=== Processing aspect: Genre ===\n",
            "Fold 1 CV Accuracy: 0.9531\n",
            "Fold 2 CV Accuracy: 0.9581\n",
            "Fold 3 CV Accuracy: 0.9530\n",
            "Fold 4 CV Accuracy: 0.9530\n",
            "Fold 5 CV Accuracy: 0.9543\n"
          ]
        },
        {
          "output_type": "stream",
          "name": "stderr",
          "text": [
            "/usr/local/lib/python3.11/dist-packages/sklearn/metrics/_classification.py:1565: UndefinedMetricWarning: Precision is ill-defined and being set to 0.0 in labels with no predicted samples. Use `zero_division` parameter to control this behavior.\n",
            "  _warn_prf(average, modifier, f\"{metric.capitalize()} is\", len(result))\n",
            "/usr/local/lib/python3.11/dist-packages/sklearn/metrics/_classification.py:1565: UndefinedMetricWarning: Precision is ill-defined and being set to 0.0 in labels with no predicted samples. Use `zero_division` parameter to control this behavior.\n",
            "  _warn_prf(average, modifier, f\"{metric.capitalize()} is\", len(result))\n",
            "/usr/local/lib/python3.11/dist-packages/sklearn/metrics/_classification.py:1565: UndefinedMetricWarning: Precision is ill-defined and being set to 0.0 in labels with no predicted samples. Use `zero_division` parameter to control this behavior.\n",
            "  _warn_prf(average, modifier, f\"{metric.capitalize()} is\", len(result))\n"
          ]
        },
        {
          "output_type": "stream",
          "name": "stdout",
          "text": [
            "Best CV model Training Accuracy: 0.9609\n",
            "Training Classification Report:\n",
            "               precision    recall  f1-score   support\n",
            "\n",
            "          -1       0.00      0.00      0.00        37\n",
            "           0       0.96      1.00      0.98      3752\n",
            "           1       0.79      0.30      0.43       152\n",
            "\n",
            "    accuracy                           0.96      3941\n",
            "   macro avg       0.58      0.43      0.47      3941\n",
            "weighted avg       0.95      0.96      0.95      3941\n",
            "\n"
          ]
        },
        {
          "output_type": "stream",
          "name": "stderr",
          "text": [
            "/usr/local/lib/python3.11/dist-packages/sklearn/metrics/_classification.py:1565: UndefinedMetricWarning: Precision is ill-defined and being set to 0.0 in labels with no predicted samples. Use `zero_division` parameter to control this behavior.\n",
            "  _warn_prf(average, modifier, f\"{metric.capitalize()} is\", len(result))\n",
            "/usr/local/lib/python3.11/dist-packages/sklearn/metrics/_classification.py:1565: UndefinedMetricWarning: Precision is ill-defined and being set to 0.0 in labels with no predicted samples. Use `zero_division` parameter to control this behavior.\n",
            "  _warn_prf(average, modifier, f\"{metric.capitalize()} is\", len(result))\n",
            "/usr/local/lib/python3.11/dist-packages/sklearn/metrics/_classification.py:1565: UndefinedMetricWarning: Precision is ill-defined and being set to 0.0 in labels with no predicted samples. Use `zero_division` parameter to control this behavior.\n",
            "  _warn_prf(average, modifier, f\"{metric.capitalize()} is\", len(result))\n"
          ]
        },
        {
          "output_type": "stream",
          "name": "stdout",
          "text": [
            "Test Accuracy: 0.9473\n",
            "Test Classification Report:\n",
            "               precision    recall  f1-score   support\n",
            "\n",
            "          -1       0.00      0.00      0.00        16\n",
            "           0       0.95      1.00      0.97       926\n",
            "           1       0.79      0.25      0.38        44\n",
            "\n",
            "    accuracy                           0.95       986\n",
            "   macro avg       0.58      0.42      0.45       986\n",
            "weighted avg       0.93      0.95      0.93       986\n",
            "\n",
            "\n",
            "=== Processing aspect: excitement ===\n",
            "Fold 1 CV Accuracy: 0.6439\n",
            "Fold 2 CV Accuracy: 0.6916\n",
            "Fold 3 CV Accuracy: 0.6853\n",
            "Fold 4 CV Accuracy: 0.6815\n",
            "Fold 5 CV Accuracy: 0.6916\n",
            "Best CV model Training Accuracy: 0.7546\n",
            "Training Classification Report:\n",
            "               precision    recall  f1-score   support\n",
            "\n",
            "          -1       0.62      0.68      0.65       595\n",
            "           0       0.76      0.88      0.82      2243\n",
            "           1       0.86      0.54      0.66      1103\n",
            "\n",
            "    accuracy                           0.75      3941\n",
            "   macro avg       0.75      0.70      0.71      3941\n",
            "weighted avg       0.77      0.75      0.75      3941\n",
            "\n",
            "Test Accuracy: 0.6684\n",
            "Test Classification Report:\n",
            "               precision    recall  f1-score   support\n",
            "\n",
            "          -1       0.47      0.33      0.39       147\n",
            "           0       0.68      0.86      0.76       563\n",
            "           1       0.76      0.46      0.57       276\n",
            "\n",
            "    accuracy                           0.67       986\n",
            "   macro avg       0.64      0.55      0.57       986\n",
            "weighted avg       0.67      0.67      0.65       986\n",
            "\n",
            "\n",
            "=== Processing aspect: ovr_sent ===\n",
            "Fold 1 CV Accuracy: 0.7338\n",
            "Fold 2 CV Accuracy: 0.7259\n",
            "Fold 3 CV Accuracy: 0.6916\n",
            "Fold 4 CV Accuracy: 0.7221\n",
            "Fold 5 CV Accuracy: 0.7284\n",
            "Best CV model Training Accuracy: 0.7830\n",
            "Training Classification Report:\n",
            "               precision    recall  f1-score   support\n",
            "\n",
            "          -1       0.73      0.88      0.80      1346\n",
            "           0       0.62      0.29      0.39       567\n",
            "           1       0.84      0.86      0.85      2028\n",
            "\n",
            "    accuracy                           0.78      3941\n",
            "   macro avg       0.73      0.67      0.68      3941\n",
            "weighted avg       0.77      0.78      0.77      3941\n",
            "\n",
            "Test Accuracy: 0.7150\n",
            "Test Classification Report:\n",
            "               precision    recall  f1-score   support\n",
            "\n",
            "          -1       0.71      0.70      0.71       348\n",
            "           0       0.44      0.24      0.31       139\n",
            "           1       0.75      0.86      0.80       499\n",
            "\n",
            "    accuracy                           0.72       986\n",
            "   macro avg       0.64      0.60      0.61       986\n",
            "weighted avg       0.70      0.72      0.70       986\n",
            "\n"
          ]
        }
      ]
    },
    {
      "cell_type": "markdown",
      "source": [
        "## With l1 and l2"
      ],
      "metadata": {
        "id": "wrVWejE92JfW"
      }
    },
    {
      "cell_type": "code",
      "source": [
        "best_models, train_reports, test_reports = train_final_dl_models_from_csv(train_df, test_df, aspects)"
      ],
      "metadata": {
        "colab": {
          "base_uri": "https://localhost:8080/"
        },
        "id": "LOOhkXig2NWm",
        "outputId": "4879ebd6-fa44-4d88-c0ba-566fb185f542",
        "collapsed": true
      },
      "execution_count": null,
      "outputs": [
        {
          "output_type": "stream",
          "name": "stdout",
          "text": [
            "\n",
            "=== Processing aspect: Acting ===\n",
            "Fold 1 CV Accuracy: 0.8226\n",
            "Fold 2 CV Accuracy: 0.8325\n",
            "Fold 3 CV Accuracy: 0.8350\n",
            "Fold 4 CV Accuracy: 0.8350\n",
            "Fold 5 CV Accuracy: 0.8452\n"
          ]
        },
        {
          "output_type": "stream",
          "name": "stderr",
          "text": [
            "/usr/local/lib/python3.11/dist-packages/sklearn/metrics/_classification.py:1565: UndefinedMetricWarning: Precision is ill-defined and being set to 0.0 in labels with no predicted samples. Use `zero_division` parameter to control this behavior.\n",
            "  _warn_prf(average, modifier, f\"{metric.capitalize()} is\", len(result))\n",
            "/usr/local/lib/python3.11/dist-packages/sklearn/metrics/_classification.py:1565: UndefinedMetricWarning: Precision is ill-defined and being set to 0.0 in labels with no predicted samples. Use `zero_division` parameter to control this behavior.\n",
            "  _warn_prf(average, modifier, f\"{metric.capitalize()} is\", len(result))\n",
            "/usr/local/lib/python3.11/dist-packages/sklearn/metrics/_classification.py:1565: UndefinedMetricWarning: Precision is ill-defined and being set to 0.0 in labels with no predicted samples. Use `zero_division` parameter to control this behavior.\n",
            "  _warn_prf(average, modifier, f\"{metric.capitalize()} is\", len(result))\n"
          ]
        },
        {
          "output_type": "stream",
          "name": "stdout",
          "text": [
            "Best CV model Training Accuracy: 0.8546\n",
            "Training Classification Report:\n",
            "               precision    recall  f1-score   support\n",
            "\n",
            "          -1       0.00      0.00      0.00       131\n",
            "           0       0.87      0.96      0.91      2962\n",
            "           1       0.80      0.61      0.69       848\n",
            "\n",
            "    accuracy                           0.85      3941\n",
            "   macro avg       0.56      0.52      0.54      3941\n",
            "weighted avg       0.82      0.85      0.83      3941\n",
            "\n"
          ]
        },
        {
          "output_type": "stream",
          "name": "stderr",
          "text": [
            "/usr/local/lib/python3.11/dist-packages/sklearn/metrics/_classification.py:1565: UndefinedMetricWarning: Precision is ill-defined and being set to 0.0 in labels with no predicted samples. Use `zero_division` parameter to control this behavior.\n",
            "  _warn_prf(average, modifier, f\"{metric.capitalize()} is\", len(result))\n",
            "/usr/local/lib/python3.11/dist-packages/sklearn/metrics/_classification.py:1565: UndefinedMetricWarning: Precision is ill-defined and being set to 0.0 in labels with no predicted samples. Use `zero_division` parameter to control this behavior.\n",
            "  _warn_prf(average, modifier, f\"{metric.capitalize()} is\", len(result))\n",
            "/usr/local/lib/python3.11/dist-packages/sklearn/metrics/_classification.py:1565: UndefinedMetricWarning: Precision is ill-defined and being set to 0.0 in labels with no predicted samples. Use `zero_division` parameter to control this behavior.\n",
            "  _warn_prf(average, modifier, f\"{metric.capitalize()} is\", len(result))\n"
          ]
        },
        {
          "output_type": "stream",
          "name": "stdout",
          "text": [
            "Test Accuracy: 0.8306\n",
            "Test Classification Report:\n",
            "               precision    recall  f1-score   support\n",
            "\n",
            "          -1       0.00      0.00      0.00        34\n",
            "           0       0.84      0.96      0.90       746\n",
            "           1       0.75      0.49      0.59       206\n",
            "\n",
            "    accuracy                           0.83       986\n",
            "   macro avg       0.53      0.48      0.50       986\n",
            "weighted avg       0.80      0.83      0.80       986\n",
            "\n",
            "\n",
            "=== Processing aspect: direction ===\n",
            "Fold 1 CV Accuracy: 0.8162\n",
            "Fold 2 CV Accuracy: 0.8198\n",
            "Fold 3 CV Accuracy: 0.8223\n",
            "Fold 4 CV Accuracy: 0.8135\n",
            "Fold 5 CV Accuracy: 0.7995\n"
          ]
        },
        {
          "output_type": "stream",
          "name": "stderr",
          "text": [
            "/usr/local/lib/python3.11/dist-packages/sklearn/metrics/_classification.py:1565: UndefinedMetricWarning: Precision is ill-defined and being set to 0.0 in labels with no predicted samples. Use `zero_division` parameter to control this behavior.\n",
            "  _warn_prf(average, modifier, f\"{metric.capitalize()} is\", len(result))\n",
            "/usr/local/lib/python3.11/dist-packages/sklearn/metrics/_classification.py:1565: UndefinedMetricWarning: Precision is ill-defined and being set to 0.0 in labels with no predicted samples. Use `zero_division` parameter to control this behavior.\n",
            "  _warn_prf(average, modifier, f\"{metric.capitalize()} is\", len(result))\n",
            "/usr/local/lib/python3.11/dist-packages/sklearn/metrics/_classification.py:1565: UndefinedMetricWarning: Precision is ill-defined and being set to 0.0 in labels with no predicted samples. Use `zero_division` parameter to control this behavior.\n",
            "  _warn_prf(average, modifier, f\"{metric.capitalize()} is\", len(result))\n"
          ]
        },
        {
          "output_type": "stream",
          "name": "stdout",
          "text": [
            "Best CV model Training Accuracy: 0.8325\n",
            "Training Classification Report:\n",
            "               precision    recall  f1-score   support\n",
            "\n",
            "          -1       0.62      0.47      0.53       568\n",
            "           0       0.86      0.96      0.91      3128\n",
            "           1       0.00      0.00      0.00       245\n",
            "\n",
            "    accuracy                           0.83      3941\n",
            "   macro avg       0.49      0.48      0.48      3941\n",
            "weighted avg       0.77      0.83      0.80      3941\n",
            "\n"
          ]
        },
        {
          "output_type": "stream",
          "name": "stderr",
          "text": [
            "/usr/local/lib/python3.11/dist-packages/sklearn/metrics/_classification.py:1565: UndefinedMetricWarning: Precision is ill-defined and being set to 0.0 in labels with no predicted samples. Use `zero_division` parameter to control this behavior.\n",
            "  _warn_prf(average, modifier, f\"{metric.capitalize()} is\", len(result))\n",
            "/usr/local/lib/python3.11/dist-packages/sklearn/metrics/_classification.py:1565: UndefinedMetricWarning: Precision is ill-defined and being set to 0.0 in labels with no predicted samples. Use `zero_division` parameter to control this behavior.\n",
            "  _warn_prf(average, modifier, f\"{metric.capitalize()} is\", len(result))\n",
            "/usr/local/lib/python3.11/dist-packages/sklearn/metrics/_classification.py:1565: UndefinedMetricWarning: Precision is ill-defined and being set to 0.0 in labels with no predicted samples. Use `zero_division` parameter to control this behavior.\n",
            "  _warn_prf(average, modifier, f\"{metric.capitalize()} is\", len(result))\n"
          ]
        },
        {
          "output_type": "stream",
          "name": "stdout",
          "text": [
            "Test Accuracy: 0.8134\n",
            "Test Classification Report:\n",
            "               precision    recall  f1-score   support\n",
            "\n",
            "          -1       0.44      0.19      0.27       124\n",
            "           0       0.84      0.97      0.90       804\n",
            "           1       0.00      0.00      0.00        58\n",
            "\n",
            "    accuracy                           0.81       986\n",
            "   macro avg       0.42      0.39      0.39       986\n",
            "weighted avg       0.74      0.81      0.77       986\n",
            "\n",
            "\n",
            "=== Processing aspect: Music ===\n",
            "Fold 1 CV Accuracy: 0.9404\n",
            "Fold 2 CV Accuracy: 0.9429\n",
            "Fold 3 CV Accuracy: 0.9289\n",
            "Fold 4 CV Accuracy: 0.9442\n",
            "Fold 5 CV Accuracy: 0.9505\n"
          ]
        },
        {
          "output_type": "stream",
          "name": "stderr",
          "text": [
            "/usr/local/lib/python3.11/dist-packages/sklearn/metrics/_classification.py:1565: UndefinedMetricWarning: Precision is ill-defined and being set to 0.0 in labels with no predicted samples. Use `zero_division` parameter to control this behavior.\n",
            "  _warn_prf(average, modifier, f\"{metric.capitalize()} is\", len(result))\n",
            "/usr/local/lib/python3.11/dist-packages/sklearn/metrics/_classification.py:1565: UndefinedMetricWarning: Precision is ill-defined and being set to 0.0 in labels with no predicted samples. Use `zero_division` parameter to control this behavior.\n",
            "  _warn_prf(average, modifier, f\"{metric.capitalize()} is\", len(result))\n",
            "/usr/local/lib/python3.11/dist-packages/sklearn/metrics/_classification.py:1565: UndefinedMetricWarning: Precision is ill-defined and being set to 0.0 in labels with no predicted samples. Use `zero_division` parameter to control this behavior.\n",
            "  _warn_prf(average, modifier, f\"{metric.capitalize()} is\", len(result))\n"
          ]
        },
        {
          "output_type": "stream",
          "name": "stdout",
          "text": [
            "Best CV model Training Accuracy: 0.9490\n",
            "Training Classification Report:\n",
            "               precision    recall  f1-score   support\n",
            "\n",
            "          -1       0.00      0.00      0.00        89\n",
            "           0       0.97      0.99      0.98      3446\n",
            "           1       0.79      0.78      0.78       406\n",
            "\n",
            "    accuracy                           0.95      3941\n",
            "   macro avg       0.58      0.59      0.59      3941\n",
            "weighted avg       0.93      0.95      0.94      3941\n",
            "\n"
          ]
        },
        {
          "output_type": "stream",
          "name": "stderr",
          "text": [
            "/usr/local/lib/python3.11/dist-packages/sklearn/metrics/_classification.py:1565: UndefinedMetricWarning: Precision is ill-defined and being set to 0.0 in labels with no predicted samples. Use `zero_division` parameter to control this behavior.\n",
            "  _warn_prf(average, modifier, f\"{metric.capitalize()} is\", len(result))\n",
            "/usr/local/lib/python3.11/dist-packages/sklearn/metrics/_classification.py:1565: UndefinedMetricWarning: Precision is ill-defined and being set to 0.0 in labels with no predicted samples. Use `zero_division` parameter to control this behavior.\n",
            "  _warn_prf(average, modifier, f\"{metric.capitalize()} is\", len(result))\n",
            "/usr/local/lib/python3.11/dist-packages/sklearn/metrics/_classification.py:1565: UndefinedMetricWarning: Precision is ill-defined and being set to 0.0 in labels with no predicted samples. Use `zero_division` parameter to control this behavior.\n",
            "  _warn_prf(average, modifier, f\"{metric.capitalize()} is\", len(result))\n"
          ]
        },
        {
          "output_type": "stream",
          "name": "stdout",
          "text": [
            "Test Accuracy: 0.9493\n",
            "Test Classification Report:\n",
            "               precision    recall  f1-score   support\n",
            "\n",
            "          -1       0.00      0.00      0.00        18\n",
            "           0       0.97      0.99      0.98       867\n",
            "           1       0.77      0.76      0.77       101\n",
            "\n",
            "    accuracy                           0.95       986\n",
            "   macro avg       0.58      0.58      0.58       986\n",
            "weighted avg       0.93      0.95      0.94       986\n",
            "\n",
            "\n",
            "=== Processing aspect: Genre ===\n",
            "Fold 1 CV Accuracy: 0.9518\n",
            "Fold 2 CV Accuracy: 0.9530\n",
            "Fold 3 CV Accuracy: 0.9518\n",
            "Fold 4 CV Accuracy: 0.9518\n",
            "Fold 5 CV Accuracy: 0.9518\n"
          ]
        },
        {
          "output_type": "stream",
          "name": "stderr",
          "text": [
            "/usr/local/lib/python3.11/dist-packages/sklearn/metrics/_classification.py:1565: UndefinedMetricWarning: Precision is ill-defined and being set to 0.0 in labels with no predicted samples. Use `zero_division` parameter to control this behavior.\n",
            "  _warn_prf(average, modifier, f\"{metric.capitalize()} is\", len(result))\n",
            "/usr/local/lib/python3.11/dist-packages/sklearn/metrics/_classification.py:1565: UndefinedMetricWarning: Precision is ill-defined and being set to 0.0 in labels with no predicted samples. Use `zero_division` parameter to control this behavior.\n",
            "  _warn_prf(average, modifier, f\"{metric.capitalize()} is\", len(result))\n",
            "/usr/local/lib/python3.11/dist-packages/sklearn/metrics/_classification.py:1565: UndefinedMetricWarning: Precision is ill-defined and being set to 0.0 in labels with no predicted samples. Use `zero_division` parameter to control this behavior.\n",
            "  _warn_prf(average, modifier, f\"{metric.capitalize()} is\", len(result))\n"
          ]
        },
        {
          "output_type": "stream",
          "name": "stdout",
          "text": [
            "Best CV model Training Accuracy: 0.9520\n",
            "Training Classification Report:\n",
            "               precision    recall  f1-score   support\n",
            "\n",
            "          -1       0.00      0.00      0.00        37\n",
            "           0       0.95      1.00      0.98      3752\n",
            "           1       0.00      0.00      0.00       152\n",
            "\n",
            "    accuracy                           0.95      3941\n",
            "   macro avg       0.32      0.33      0.33      3941\n",
            "weighted avg       0.91      0.95      0.93      3941\n",
            "\n"
          ]
        },
        {
          "output_type": "stream",
          "name": "stderr",
          "text": [
            "/usr/local/lib/python3.11/dist-packages/sklearn/metrics/_classification.py:1565: UndefinedMetricWarning: Precision is ill-defined and being set to 0.0 in labels with no predicted samples. Use `zero_division` parameter to control this behavior.\n",
            "  _warn_prf(average, modifier, f\"{metric.capitalize()} is\", len(result))\n",
            "/usr/local/lib/python3.11/dist-packages/sklearn/metrics/_classification.py:1565: UndefinedMetricWarning: Precision is ill-defined and being set to 0.0 in labels with no predicted samples. Use `zero_division` parameter to control this behavior.\n",
            "  _warn_prf(average, modifier, f\"{metric.capitalize()} is\", len(result))\n",
            "/usr/local/lib/python3.11/dist-packages/sklearn/metrics/_classification.py:1565: UndefinedMetricWarning: Precision is ill-defined and being set to 0.0 in labels with no predicted samples. Use `zero_division` parameter to control this behavior.\n",
            "  _warn_prf(average, modifier, f\"{metric.capitalize()} is\", len(result))\n"
          ]
        },
        {
          "output_type": "stream",
          "name": "stdout",
          "text": [
            "Test Accuracy: 0.9391\n",
            "Test Classification Report:\n",
            "               precision    recall  f1-score   support\n",
            "\n",
            "          -1       0.00      0.00      0.00        16\n",
            "           0       0.94      1.00      0.97       926\n",
            "           1       0.00      0.00      0.00        44\n",
            "\n",
            "    accuracy                           0.94       986\n",
            "   macro avg       0.31      0.33      0.32       986\n",
            "weighted avg       0.88      0.94      0.91       986\n",
            "\n",
            "\n",
            "=== Processing aspect: excitement ===\n",
            "Fold 1 CV Accuracy: 0.6768\n",
            "Fold 2 CV Accuracy: 0.6840\n",
            "Fold 3 CV Accuracy: 0.6777\n",
            "Fold 4 CV Accuracy: 0.6662\n",
            "Fold 5 CV Accuracy: 0.6662\n",
            "Best CV model Training Accuracy: 0.7171\n",
            "Training Classification Report:\n",
            "               precision    recall  f1-score   support\n",
            "\n",
            "          -1       0.68      0.48      0.56       595\n",
            "           0       0.70      0.91      0.79      2243\n",
            "           1       0.84      0.45      0.59      1103\n",
            "\n",
            "    accuracy                           0.72      3941\n",
            "   macro avg       0.74      0.61      0.64      3941\n",
            "weighted avg       0.73      0.72      0.70      3941\n",
            "\n",
            "Test Accuracy: 0.6430\n",
            "Test Classification Report:\n",
            "               precision    recall  f1-score   support\n",
            "\n",
            "          -1       0.45      0.18      0.25       147\n",
            "           0       0.64      0.91      0.75       563\n",
            "           1       0.77      0.35      0.48       276\n",
            "\n",
            "    accuracy                           0.64       986\n",
            "   macro avg       0.62      0.48      0.49       986\n",
            "weighted avg       0.65      0.64      0.60       986\n",
            "\n",
            "\n",
            "=== Processing aspect: ovr_sent ===\n",
            "Fold 1 CV Accuracy: 0.7123\n",
            "Fold 2 CV Accuracy: 0.7272\n",
            "Fold 3 CV Accuracy: 0.7018\n",
            "Fold 4 CV Accuracy: 0.7069\n",
            "Fold 5 CV Accuracy: 0.7284\n",
            "Best CV model Training Accuracy: 0.7526\n",
            "Training Classification Report:\n",
            "               precision    recall  f1-score   support\n",
            "\n",
            "          -1       0.68      0.89      0.77      1346\n",
            "           0       0.00      0.00      0.00       567\n",
            "           1       0.81      0.87      0.84      2028\n",
            "\n",
            "    accuracy                           0.75      3941\n",
            "   macro avg       0.50      0.59      0.54      3941\n",
            "weighted avg       0.65      0.75      0.70      3941\n",
            "\n",
            "Test Accuracy: 0.6978\n",
            "Test Classification Report:\n",
            "               precision    recall  f1-score   support\n",
            "\n",
            "          -1       0.64      0.77      0.70       348\n",
            "           0       0.00      0.00      0.00       139\n",
            "           1       0.74      0.84      0.79       499\n",
            "\n",
            "    accuracy                           0.70       986\n",
            "   macro avg       0.46      0.54      0.50       986\n",
            "weighted avg       0.60      0.70      0.65       986\n",
            "\n"
          ]
        }
      ]
    },
    {
      "cell_type": "code",
      "source": [
        "save_models(best_models)  # Call this after training to save models\n"
      ],
      "metadata": {
        "colab": {
          "base_uri": "https://localhost:8080/"
        },
        "id": "36HjBaFpdY7b",
        "outputId": "6780c23b-ed82-4e6a-fc5b-1bfcf3d7c29c"
      },
      "execution_count": null,
      "outputs": [
        {
          "output_type": "stream",
          "name": "stdout",
          "text": [
            "Models saved to final_models.pkl\n"
          ]
        }
      ]
    },
    {
      "cell_type": "code",
      "source": [
        "def predict_all_aspects_from_file(sentence, model_filename=\"final_models.pkl\", maxlen=15): # Added maxlen\n",
        "    \"\"\"Load the saved models and predict aspects for a given sentence.\"\"\"\n",
        "    models = load_models(model_filename)\n",
        "    predictions = {}\n",
        "\n",
        "    for aspect, model_info in models.items():\n",
        "        model = model_info['model']\n",
        "        le = model_info['label_encoder']\n",
        "        tokenizer = model_info['tokenizer']  # Get the tokenizer\n",
        "        # Tokenize and pad the sentence\n",
        "        sequence = tokenizer.texts_to_sequences([sentence])\n",
        "        padded_sequence = pad_sequences(sequence, maxlen=maxlen) # Pad the sequence\n",
        "        # Now predict using the padded sequence\n",
        "        pred_probs = model.predict(padded_sequence, verbose=0) # Use padded_sequence for prediction\n",
        "        pred_encoded = pred_probs.argmax(axis=1)[0]\n",
        "        pred_label = le.inverse_transform([pred_encoded])[0]\n",
        "        predictions[aspect] = pred_label\n",
        "\n",
        "    return predictions\n"
      ],
      "metadata": {
        "id": "VO0kQjU9kL80"
      },
      "execution_count": null,
      "outputs": []
    },
    {
      "cell_type": "code",
      "source": [
        "predictions = predict_all_aspects_from_file(\"i did not like the movie \")"
      ],
      "metadata": {
        "colab": {
          "base_uri": "https://localhost:8080/"
        },
        "collapsed": true,
        "id": "HHebjozRjPPd",
        "outputId": "5273c44a-bfcb-4555-91be-e86ac6c6e7e7"
      },
      "execution_count": null,
      "outputs": [
        {
          "output_type": "stream",
          "name": "stdout",
          "text": [
            "Models loaded from final_models.pkl\n"
          ]
        }
      ]
    },
    {
      "cell_type": "code",
      "source": [
        "predictions"
      ],
      "metadata": {
        "colab": {
          "base_uri": "https://localhost:8080/"
        },
        "id": "lyF7VE5FkjcM",
        "outputId": "00d2cd09-db52-4f84-92f8-f32a4731f0dd"
      },
      "execution_count": null,
      "outputs": [
        {
          "output_type": "execute_result",
          "data": {
            "text/plain": [
              "{'acting': 0,\n",
              " 'direction': 0,\n",
              " 'music': 0,\n",
              " 'genre': 0,\n",
              " 'excitement': 0,\n",
              " 'ovr_sent': 0}"
            ]
          },
          "metadata": {},
          "execution_count": 20
        }
      ]
    },
    {
      "cell_type": "code",
      "source": [
        "import numpy as np\n",
        "import pandas as pd\n",
        "import tensorflow as tf\n",
        "from sklearn.model_selection import StratifiedKFold\n",
        "from sklearn.metrics import accuracy_score, classification_report\n",
        "from sklearn.preprocessing import LabelEncoder\n",
        "from tensorflow.keras.preprocessing.text import Tokenizer\n",
        "from tensorflow.keras.preprocessing.sequence import pad_sequences\n",
        "from sklearn.utils.class_weight import compute_class_weight"
      ],
      "metadata": {
        "id": "huie0J9N4PnN"
      },
      "execution_count": null,
      "outputs": []
    },
    {
      "cell_type": "code",
      "source": [
        "train_df = pd.read_csv(\"train_data.csv\")\n",
        "test_df = pd.read_csv(\"test_data.csv\")\n",
        "\n",
        "# Ensure EMBEDDING_DIM and embeddings_index are defined in your context\n",
        "\n",
        "def train_final_dl_models_from_csv(train_df, test_df, aspects):\n",
        "    \"\"\"\n",
        "    For each aspect, loads training data from train_df and testing data from test_df.\n",
        "    Performs 5-fold cross validation on the training data to select the best deep learning model,\n",
        "    averaging the training accuracy across folds and using class weights to address imbalanced datasets.\n",
        "    Evaluates the best model on both the training and test sets and prints classification reports.\n",
        "\n",
        "    Returns:\n",
        "        best_models: dict of best models (with their label encoder and tokenizer) for each aspect.\n",
        "        train_reports: dict of training classification reports for each aspect.\n",
        "        test_reports: dict of test classification reports for each aspect.\n",
        "    \"\"\"\n",
        "    best_models = {}\n",
        "    train_reports = {}\n",
        "    test_reports = {}\n",
        "    maxlen = 15  # Maximum sequence length\n",
        "\n",
        "    for aspect in aspects:\n",
        "        print(f\"\\n=== Processing aspect: {aspect} ===\")\n",
        "        # Prepare the data for the current aspect\n",
        "        X_train, y_train = prepare_data(train_df, aspect)\n",
        "        X_test, y_test = prepare_data(test_df, aspect)\n",
        "\n",
        "        # Encode target labels\n",
        "        le = LabelEncoder()\n",
        "        y_train_encoded = le.fit_transform(y_train)\n",
        "        y_test_encoded = le.transform(y_test)  # Use the same encoder for test data\n",
        "        target_names = [str(label) for label in le.classes_]\n",
        "\n",
        "        # Tokenize the training texts and pad sequences\n",
        "        tokenizer = Tokenizer()\n",
        "        tokenizer.fit_on_texts(X_train['clean_text'])\n",
        "        train_sequences = tokenizer.texts_to_sequences(X_train['clean_text'])\n",
        "        test_sequences = tokenizer.texts_to_sequences(X_test['clean_text'])\n",
        "        X_train_padded = pad_sequences(train_sequences, maxlen=maxlen)\n",
        "        X_test_padded = pad_sequences(test_sequences, maxlen=maxlen)\n",
        "\n",
        "        # Prepare the embedding matrix using the tokenizer's word index\n",
        "        word_index = tokenizer.word_index\n",
        "        num_words = len(word_index) + 1\n",
        "        embedding_matrix = np.zeros((num_words, EMBEDDING_DIM))\n",
        "        for word, i in word_index.items():\n",
        "            embedding_vector = embeddings_index.get(word)\n",
        "            if embedding_vector is not None:\n",
        "                if len(embedding_vector) == EMBEDDING_DIM:\n",
        "                    embedding_matrix[i] = embedding_vector\n",
        "                else:\n",
        "                    print(f\"Warning: Embedding for '{word}' has unexpected dimension {len(embedding_vector)}. Skipping.\")\n",
        "        vocab_size = num_words\n",
        "\n",
        "        # Cross-validation on the training data to select the best model\n",
        "        skf = StratifiedKFold(n_splits=10, shuffle=True, random_state=42)\n",
        "        best_cv_score = -np.inf\n",
        "        best_model = None\n",
        "        cv_train_scores = []  # To store training accuracies for each fold\n",
        "\n",
        "        for fold, (cv_train_idx, cv_val_idx) in enumerate(skf.split(X_train_padded, y_train_encoded)):\n",
        "            X_cv_train = X_train_padded[cv_train_idx]\n",
        "            y_cv_train = y_train_encoded[cv_train_idx]\n",
        "            X_cv_val = X_train_padded[cv_val_idx]\n",
        "            y_cv_val = y_train_encoded[cv_val_idx]\n",
        "\n",
        "            # Compute class weights to address imbalance\n",
        "            classes = np.unique(y_cv_train)\n",
        "            cw = compute_class_weight(class_weight='balanced', classes=classes, y=y_cv_train)\n",
        "            class_weight = dict(zip(classes, cw))\n",
        "\n",
        "            # Define the model architecture\n",
        "            input_layer = tf.keras.layers.Input(shape=(maxlen,))\n",
        "            embedding_layer = tf.keras.layers.Embedding(\n",
        "                vocab_size,\n",
        "                EMBEDDING_DIM,\n",
        "                weights=[embedding_matrix],\n",
        "                trainable=False\n",
        "            )(input_layer)\n",
        "            lstm = tf.keras.layers.LSTM(128, dropout=0.3, recurrent_dropout=0.2, return_sequences=True)(embedding_layer)\n",
        "            drop = tf.keras.layers.Dropout(0.2)(lstm)\n",
        "            dense = tf.keras.layers.Dense(128, activation='relu',\n",
        "                                          kernel_regularizer=tf.keras.regularizers.l1_l2(l1=0.01, l2=0.01))(drop)\n",
        "            flat = tf.keras.layers.Flatten()(dense)\n",
        "            output_layer = tf.keras.layers.Dense(len(le.classes_), activation='softmax')(flat)\n",
        "\n",
        "            model = tf.keras.Model(input_layer, output_layer)\n",
        "            model.compile(optimizer='adam', loss='sparse_categorical_crossentropy', metrics=['accuracy'])\n",
        "\n",
        "            # Train the model on the current CV fold using class weights\n",
        "            model.fit(X_cv_train, y_cv_train, epochs=5, batch_size=32, verbose=0, class_weight=class_weight)\n",
        "\n",
        "            # Evaluate on the CV training fold for average training score\n",
        "            y_cv_train_pred = model.predict(X_cv_train, verbose=0).argmax(axis=1)\n",
        "            fold_train_accuracy = accuracy_score(y_cv_train, y_cv_train_pred)\n",
        "            cv_train_scores.append(fold_train_accuracy)\n",
        "\n",
        "            # Evaluate on the CV validation fold\n",
        "            y_cv_val_pred = model.predict(X_cv_val, verbose=0).argmax(axis=1)\n",
        "            cv_score = accuracy_score(y_cv_val, y_cv_val_pred)\n",
        "            print(f\"Fold {fold + 1} CV Accuracy: {cv_score:.4f}, Training Accuracy: {fold_train_accuracy:.4f}\")\n",
        "\n",
        "            # Select the best model based on CV validation accuracy\n",
        "            if cv_score > best_cv_score:\n",
        "                best_cv_score = cv_score\n",
        "                best_model = model\n",
        "\n",
        "        avg_cv_train_score = np.mean(cv_train_scores)\n",
        "        print(f\"Average Training Accuracy across folds: {avg_cv_train_score:.4f}\")\n",
        "\n",
        "        # Evaluate the best model on the entire training set\n",
        "        y_train_pred = best_model.predict(X_train_padded, verbose=0).argmax(axis=1)\n",
        "        train_acc = accuracy_score(y_train_encoded, y_train_pred)\n",
        "        train_report = classification_report(y_train_encoded, y_train_pred, target_names=target_names)\n",
        "        print(f\"Best CV model Training Accuracy on full training set: {train_acc:.4f}\")\n",
        "        print(\"Training Classification Report:\\n\", train_report)\n",
        "\n",
        "        # Evaluate on the test set\n",
        "        y_test_pred = best_model.predict(X_test_padded, verbose=0).argmax(axis=1)\n",
        "        test_acc = accuracy_score(y_test_encoded, y_test_pred)\n",
        "        test_report = classification_report(y_test_encoded, y_test_pred, target_names=target_names)\n",
        "        print(f\"Test Accuracy: {test_acc:.4f}\")\n",
        "        print(\"Test Classification Report:\\n\", test_report)\n",
        "\n",
        "        best_models[aspect.lower()] = {\n",
        "            \"model\": best_model,\n",
        "            \"label_encoder\": le,\n",
        "            \"tokenizer\": tokenizer\n",
        "        }\n",
        "        train_reports[aspect.lower()] = train_report\n",
        "        test_reports[aspect.lower()] = test_report\n",
        "\n",
        "    return best_models, train_reports, test_reports\n"
      ],
      "metadata": {
        "id": "JU2-6gGz4LX9"
      },
      "execution_count": null,
      "outputs": []
    },
    {
      "cell_type": "code",
      "source": [
        "aspects = ['Acting', 'direction', 'Music','ovr_sent']"
      ],
      "metadata": {
        "id": "VztHie8a5Xld"
      },
      "execution_count": null,
      "outputs": []
    },
    {
      "cell_type": "code",
      "source": [
        "best_models, train_reports, test_reports = train_final_dl_models_from_csv(train_df,test_df, aspects)"
      ],
      "metadata": {
        "colab": {
          "base_uri": "https://localhost:8080/"
        },
        "id": "EPchiFyh5ae1",
        "outputId": "01f18561-7d6b-4346-dd78-ceb0b0f53f4b"
      },
      "execution_count": null,
      "outputs": [
        {
          "output_type": "stream",
          "name": "stdout",
          "text": [
            "\n",
            "=== Processing aspect: Acting ===\n",
            "Fold 1 CV Accuracy: 0.6380, Training Accuracy: 0.6387\n",
            "Fold 2 CV Accuracy: 0.5888, Training Accuracy: 0.6298\n",
            "Fold 3 CV Accuracy: 0.6269, Training Accuracy: 0.6972\n",
            "Fold 4 CV Accuracy: 0.6751, Training Accuracy: 0.7113\n",
            "Fold 5 CV Accuracy: 0.5305, Training Accuracy: 0.5703\n",
            "Fold 6 CV Accuracy: 0.5152, Training Accuracy: 0.5718\n",
            "Fold 7 CV Accuracy: 0.7056, Training Accuracy: 0.7167\n",
            "Fold 8 CV Accuracy: 0.6954, Training Accuracy: 0.7387\n",
            "Fold 9 CV Accuracy: 0.6751, Training Accuracy: 0.6704\n",
            "Fold 10 CV Accuracy: 0.6320, Training Accuracy: 0.6648\n",
            "Average Training Accuracy across folds: 0.6610\n",
            "Best CV model Training Accuracy on full training set: 0.7156\n",
            "Training Classification Report:\n",
            "               precision    recall  f1-score   support\n",
            "\n",
            "          -1       0.22      0.68      0.34       131\n",
            "           0       0.92      0.69      0.79      2962\n",
            "           1       0.51      0.81      0.63       848\n",
            "\n",
            "    accuracy                           0.72      3941\n",
            "   macro avg       0.55      0.73      0.59      3941\n",
            "weighted avg       0.81      0.72      0.74      3941\n",
            "\n",
            "Test Accuracy: 0.7262\n",
            "Test Classification Report:\n",
            "               precision    recall  f1-score   support\n",
            "\n",
            "          -1       0.19      0.26      0.22        34\n",
            "           0       0.90      0.75      0.81       746\n",
            "           1       0.47      0.73      0.57       206\n",
            "\n",
            "    accuracy                           0.73       986\n",
            "   macro avg       0.52      0.58      0.54       986\n",
            "weighted avg       0.78      0.73      0.74       986\n",
            "\n",
            "\n",
            "=== Processing aspect: direction ===\n",
            "Fold 1 CV Accuracy: 0.5797, Training Accuracy: 0.6548\n",
            "Fold 2 CV Accuracy: 0.6904, Training Accuracy: 0.7384\n",
            "Fold 3 CV Accuracy: 0.7056, Training Accuracy: 0.7048\n",
            "Fold 4 CV Accuracy: 0.6472, Training Accuracy: 0.7274\n",
            "Fold 5 CV Accuracy: 0.7386, Training Accuracy: 0.7722\n",
            "Fold 6 CV Accuracy: 0.6878, Training Accuracy: 0.7260\n",
            "Fold 7 CV Accuracy: 0.7563, Training Accuracy: 0.7787\n",
            "Fold 8 CV Accuracy: 0.7741, Training Accuracy: 0.7967\n",
            "Fold 9 CV Accuracy: 0.7411, Training Accuracy: 0.7781\n",
            "Fold 10 CV Accuracy: 0.6421, Training Accuracy: 0.7074\n",
            "Average Training Accuracy across folds: 0.7384\n",
            "Best CV model Training Accuracy on full training set: 0.7945\n",
            "Training Classification Report:\n",
            "               precision    recall  f1-score   support\n",
            "\n",
            "          -1       0.46      0.73      0.57       568\n",
            "           0       0.93      0.83      0.87      3128\n",
            "           1       0.53      0.55      0.54       245\n",
            "\n",
            "    accuracy                           0.79      3941\n",
            "   macro avg       0.64      0.70      0.66      3941\n",
            "weighted avg       0.83      0.79      0.81      3941\n",
            "\n",
            "Test Accuracy: 0.7982\n",
            "Test Classification Report:\n",
            "               precision    recall  f1-score   support\n",
            "\n",
            "          -1       0.39      0.45      0.42       124\n",
            "           0       0.89      0.88      0.89       804\n",
            "           1       0.45      0.36      0.40        58\n",
            "\n",
            "    accuracy                           0.80       986\n",
            "   macro avg       0.58      0.57      0.57       986\n",
            "weighted avg       0.80      0.80      0.80       986\n",
            "\n",
            "\n",
            "=== Processing aspect: Music ===\n",
            "Fold 1 CV Accuracy: 0.7975, Training Accuracy: 0.8531\n",
            "Fold 2 CV Accuracy: 0.9188, Training Accuracy: 0.9312\n",
            "Fold 3 CV Accuracy: 0.9340, Training Accuracy: 0.9521\n",
            "Fold 4 CV Accuracy: 0.8909, Training Accuracy: 0.9236\n",
            "Fold 5 CV Accuracy: 0.9137, Training Accuracy: 0.9484\n",
            "Fold 6 CV Accuracy: 0.9188, Training Accuracy: 0.9228\n",
            "Fold 7 CV Accuracy: 0.9416, Training Accuracy: 0.9419\n",
            "Fold 8 CV Accuracy: 0.9010, Training Accuracy: 0.9132\n",
            "Fold 9 CV Accuracy: 0.9137, Training Accuracy: 0.9123\n",
            "Fold 10 CV Accuracy: 0.8959, Training Accuracy: 0.9126\n",
            "Average Training Accuracy across folds: 0.9211\n",
            "Best CV model Training Accuracy on full training set: 0.9419\n",
            "Training Classification Report:\n",
            "               precision    recall  f1-score   support\n",
            "\n",
            "          -1       0.51      0.82      0.63        89\n",
            "           0       0.97      0.97      0.97      3446\n",
            "           1       0.80      0.69      0.74       406\n",
            "\n",
            "    accuracy                           0.94      3941\n",
            "   macro avg       0.76      0.83      0.78      3941\n",
            "weighted avg       0.95      0.94      0.94      3941\n",
            "\n",
            "Test Accuracy: 0.9513\n",
            "Test Classification Report:\n",
            "               precision    recall  f1-score   support\n",
            "\n",
            "          -1       0.43      0.56      0.49        18\n",
            "           0       0.98      0.99      0.98       867\n",
            "           1       0.82      0.72      0.77       101\n",
            "\n",
            "    accuracy                           0.95       986\n",
            "   macro avg       0.74      0.75      0.75       986\n",
            "weighted avg       0.95      0.95      0.95       986\n",
            "\n",
            "\n",
            "=== Processing aspect: ovr_sent ===\n",
            "Fold 1 CV Accuracy: 0.6835, Training Accuracy: 0.7205\n",
            "Fold 2 CV Accuracy: 0.6523, Training Accuracy: 0.6930\n",
            "Fold 3 CV Accuracy: 0.6675, Training Accuracy: 0.7392\n",
            "Fold 4 CV Accuracy: 0.6751, Training Accuracy: 0.7220\n",
            "Fold 5 CV Accuracy: 0.6320, Training Accuracy: 0.6995\n",
            "Fold 6 CV Accuracy: 0.6954, Training Accuracy: 0.7223\n",
            "Fold 7 CV Accuracy: 0.6827, Training Accuracy: 0.7043\n",
            "Fold 8 CV Accuracy: 0.5914, Training Accuracy: 0.6811\n",
            "Fold 9 CV Accuracy: 0.6497, Training Accuracy: 0.7313\n",
            "Fold 10 CV Accuracy: 0.6574, Training Accuracy: 0.6589\n",
            "Average Training Accuracy across folds: 0.7072\n",
            "Best CV model Training Accuracy on full training set: 0.7196\n",
            "Training Classification Report:\n",
            "               precision    recall  f1-score   support\n",
            "\n",
            "          -1       0.65      0.88      0.74      1346\n",
            "           0       0.43      0.43      0.43       567\n",
            "           1       0.92      0.70      0.79      2028\n",
            "\n",
            "    accuracy                           0.72      3941\n",
            "   macro avg       0.66      0.67      0.65      3941\n",
            "weighted avg       0.75      0.72      0.72      3941\n",
            "\n",
            "Test Accuracy: 0.6450\n",
            "Test Classification Report:\n",
            "               precision    recall  f1-score   support\n",
            "\n",
            "          -1       0.63      0.74      0.68       348\n",
            "           0       0.27      0.38      0.32       139\n",
            "           1       0.86      0.65      0.74       499\n",
            "\n",
            "    accuracy                           0.65       986\n",
            "   macro avg       0.59      0.59      0.58       986\n",
            "weighted avg       0.69      0.65      0.66       986\n",
            "\n"
          ]
        }
      ]
    },
    {
      "cell_type": "code",
      "source": [
        "def prepare_data(df, aspect_column):\n",
        "    \"\"\"Prepare data for a specific aspect\"\"\"\n",
        "    # Encode text to numerical values if needed\n",
        "    # le = LabelEncoder()\n",
        "    # Changed to return a DataFrame instead of a Series\n",
        "    X = df[['R_clean_text']]\n",
        "    y = df[aspect_column]\n",
        "    return X, y"
      ],
      "metadata": {
        "id": "jHj0zOd0Vp2_"
      },
      "execution_count": null,
      "outputs": []
    },
    {
      "cell_type": "code",
      "source": [
        "train_df = pd.read_csv(\"Romanised_train_data.csv\")\n",
        "test_df = pd.read_csv(\"Romanised_test_data.csv\")\n",
        "\n",
        "# Ensure EMBEDDING_DIM and embeddings_index are defined in your context\n",
        "\n",
        "def train_final_dl_models_from_csv(train_df, test_df, aspects):\n",
        "    \"\"\"\n",
        "    For each aspect, loads training data from train_df and testing data from test_df.\n",
        "    Performs 5-fold cross validation on the training data to select the best deep learning model,\n",
        "    averaging the training accuracy across folds and using class weights to address imbalanced datasets.\n",
        "    Evaluates the best model on both the training and test sets and prints classification reports.\n",
        "\n",
        "    Returns:\n",
        "        best_models: dict of best models (with their label encoder and tokenizer) for each aspect.\n",
        "        train_reports: dict of training classification reports for each aspect.\n",
        "        test_reports: dict of test classification reports for each aspect.\n",
        "    \"\"\"\n",
        "    best_models = {}\n",
        "    train_reports = {}\n",
        "    test_reports = {}\n",
        "    maxlen = 15  # Maximum sequence length\n",
        "\n",
        "    for aspect in aspects:\n",
        "        print(f\"\\n=== Processing aspect: {aspect} ===\")\n",
        "        # Prepare the data for the current aspect\n",
        "        X_train, y_train = prepare_data(train_df, aspect)\n",
        "        X_test, y_test = prepare_data(test_df, aspect)\n",
        "\n",
        "        # Encode target labels\n",
        "        le = LabelEncoder()\n",
        "        y_train_encoded = le.fit_transform(y_train)\n",
        "        y_test_encoded = le.transform(y_test)  # Use the same encoder for test data\n",
        "        target_names = [str(label) for label in le.classes_]\n",
        "\n",
        "        # Tokenize the training texts and pad sequences\n",
        "        tokenizer = Tokenizer()\n",
        "        tokenizer.fit_on_texts(X_train['R_clean_text'])\n",
        "        train_sequences = tokenizer.texts_to_sequences(X_train['R_clean_text'])\n",
        "        test_sequences = tokenizer.texts_to_sequences(X_test['R_clean_text'])\n",
        "        X_train_padded = pad_sequences(train_sequences, maxlen=maxlen)\n",
        "        X_test_padded = pad_sequences(test_sequences, maxlen=maxlen)\n",
        "\n",
        "        # Prepare the embedding matrix using the tokenizer's word index\n",
        "        word_index = tokenizer.word_index\n",
        "        num_words = len(word_index) + 1\n",
        "        embedding_matrix = np.zeros((num_words, EMBEDDING_DIM))\n",
        "        for word, i in word_index.items():\n",
        "            embedding_vector = embeddings_index.get(word)\n",
        "            if embedding_vector is not None:\n",
        "                if len(embedding_vector) == EMBEDDING_DIM:\n",
        "                    embedding_matrix[i] = embedding_vector\n",
        "                else:\n",
        "                    print(f\"Warning: Embedding for '{word}' has unexpected dimension {len(embedding_vector)}. Skipping.\")\n",
        "        vocab_size = num_words\n",
        "\n",
        "        # Cross-validation on the training data to select the best model\n",
        "        skf = StratifiedKFold(n_splits=10, shuffle=True, random_state=42)\n",
        "        best_cv_score = -np.inf\n",
        "        best_model = None\n",
        "        cv_train_scores = []  # To store training accuracies for each fold\n",
        "\n",
        "        for fold, (cv_train_idx, cv_val_idx) in enumerate(skf.split(X_train_padded, y_train_encoded)):\n",
        "            X_cv_train = X_train_padded[cv_train_idx]\n",
        "            y_cv_train = y_train_encoded[cv_train_idx]\n",
        "            X_cv_val = X_train_padded[cv_val_idx]\n",
        "            y_cv_val = y_train_encoded[cv_val_idx]\n",
        "\n",
        "            # Compute class weights to address imbalance\n",
        "            classes = np.unique(y_cv_train)\n",
        "            cw = compute_class_weight(class_weight='balanced', classes=classes, y=y_cv_train)\n",
        "            class_weight = dict(zip(classes, cw))\n",
        "\n",
        "            # Define the model architecture\n",
        "            input_layer = tf.keras.layers.Input(shape=(maxlen,))\n",
        "            embedding_layer = tf.keras.layers.Embedding(\n",
        "                vocab_size,\n",
        "                EMBEDDING_DIM,\n",
        "                weights=[embedding_matrix],\n",
        "                trainable=False\n",
        "            )(input_layer)\n",
        "            lstm = tf.keras.layers.LSTM(128, dropout=0.3, recurrent_dropout=0.2, return_sequences=True)(embedding_layer)\n",
        "            drop = tf.keras.layers.Dropout(0.2)(lstm)\n",
        "            dense = tf.keras.layers.Dense(128, activation='relu',\n",
        "                                          kernel_regularizer=tf.keras.regularizers.l1_l2(l1=0.01, l2=0.01))(drop)\n",
        "            flat = tf.keras.layers.Flatten()(dense)\n",
        "            output_layer = tf.keras.layers.Dense(len(le.classes_), activation='softmax')(flat)\n",
        "\n",
        "            model = tf.keras.Model(input_layer, output_layer)\n",
        "            model.compile(optimizer='adam', loss='sparse_categorical_crossentropy', metrics=['accuracy'])\n",
        "\n",
        "            # Train the model on the current CV fold using class weights\n",
        "            model.fit(X_cv_train, y_cv_train, epochs=5, batch_size=32, verbose=0, class_weight=class_weight)\n",
        "\n",
        "            # Evaluate on the CV training fold for average training score\n",
        "            y_cv_train_pred = model.predict(X_cv_train, verbose=0).argmax(axis=1)\n",
        "            fold_train_accuracy = accuracy_score(y_cv_train, y_cv_train_pred)\n",
        "            cv_train_scores.append(fold_train_accuracy)\n",
        "\n",
        "            # Evaluate on the CV validation fold\n",
        "            y_cv_val_pred = model.predict(X_cv_val, verbose=0).argmax(axis=1)\n",
        "            cv_score = accuracy_score(y_cv_val, y_cv_val_pred)\n",
        "            print(f\"Fold {fold + 1} CV Accuracy: {cv_score:.4f}, Training Accuracy: {fold_train_accuracy:.4f}\")\n",
        "\n",
        "            # Select the best model based on CV validation accuracy\n",
        "            if cv_score > best_cv_score:\n",
        "                best_cv_score = cv_score\n",
        "                best_model = model\n",
        "\n",
        "        avg_cv_train_score = np.mean(cv_train_scores)\n",
        "        print(f\"Average Training Accuracy across folds: {avg_cv_train_score:.4f}\")\n",
        "\n",
        "        # Evaluate the best model on the entire training set\n",
        "        y_train_pred = best_model.predict(X_train_padded, verbose=0).argmax(axis=1)\n",
        "        train_acc = accuracy_score(y_train_encoded, y_train_pred)\n",
        "        train_report = classification_report(y_train_encoded, y_train_pred, target_names=target_names)\n",
        "        print(f\"Best CV model Training Accuracy on full training set: {train_acc:.4f}\")\n",
        "        print(\"Training Classification Report:\\n\", train_report)\n",
        "\n",
        "        # Evaluate on the test set\n",
        "        y_test_pred = best_model.predict(X_test_padded, verbose=0).argmax(axis=1)\n",
        "        test_acc = accuracy_score(y_test_encoded, y_test_pred)\n",
        "        test_report = classification_report(y_test_encoded, y_test_pred, target_names=target_names)\n",
        "        print(f\"Test Accuracy: {test_acc:.4f}\")\n",
        "        print(\"Test Classification Report:\\n\", test_report)\n",
        "\n",
        "        best_models[aspect.lower()] = {\n",
        "            \"model\": best_model,\n",
        "            \"label_encoder\": le,\n",
        "            \"tokenizer\": tokenizer\n",
        "        }\n",
        "        train_reports[aspect.lower()] = train_report\n",
        "        test_reports[aspect.lower()] = test_report\n",
        "\n",
        "    return best_models, train_reports, test_reports\n"
      ],
      "metadata": {
        "id": "msYNlRbXUbeQ"
      },
      "execution_count": null,
      "outputs": []
    },
    {
      "cell_type": "code",
      "source": [
        "best_models, train_reports, test_reports = train_final_dl_models_from_csv(train_df,test_df, aspects)"
      ],
      "metadata": {
        "colab": {
          "base_uri": "https://localhost:8080/"
        },
        "id": "RZn9ui1IWJNP",
        "outputId": "d2b52102-1b34-4720-cdbe-4b11d8686625"
      },
      "execution_count": null,
      "outputs": [
        {
          "output_type": "stream",
          "name": "stdout",
          "text": [
            "\n",
            "=== Processing aspect: Acting ===\n",
            "Fold 1 CV Accuracy: 0.7696, Training Accuracy: 0.7479\n",
            "Fold 2 CV Accuracy: 0.5178, Training Accuracy: 0.5808\n",
            "Fold 3 CV Accuracy: 0.6624, Training Accuracy: 0.7246\n",
            "Fold 4 CV Accuracy: 0.6929, Training Accuracy: 0.7480\n",
            "Fold 5 CV Accuracy: 0.6954, Training Accuracy: 0.7291\n",
            "Fold 6 CV Accuracy: 0.4898, Training Accuracy: 0.5035\n",
            "Fold 7 CV Accuracy: 0.5761, Training Accuracy: 0.5678\n",
            "Fold 8 CV Accuracy: 0.4975, Training Accuracy: 0.5672\n",
            "Fold 9 CV Accuracy: 0.5914, Training Accuracy: 0.5974\n",
            "Fold 10 CV Accuracy: 0.5736, Training Accuracy: 0.6197\n",
            "Average Training Accuracy across folds: 0.6386\n",
            "Best CV model Training Accuracy on full training set: 0.7501\n",
            "Training Classification Report:\n",
            "               precision    recall  f1-score   support\n",
            "\n",
            "          -1       0.17      0.61      0.27       131\n",
            "           0       0.89      0.77      0.83      2962\n",
            "           1       0.64      0.70      0.67       848\n",
            "\n",
            "    accuracy                           0.75      3941\n",
            "   macro avg       0.57      0.69      0.59      3941\n",
            "weighted avg       0.82      0.75      0.78      3941\n",
            "\n",
            "Test Accuracy: 0.7708\n",
            "Test Classification Report:\n",
            "               precision    recall  f1-score   support\n",
            "\n",
            "          -1       0.17      0.41      0.24        34\n",
            "           0       0.89      0.82      0.85       746\n",
            "           1       0.63      0.65      0.64       206\n",
            "\n",
            "    accuracy                           0.77       986\n",
            "   macro avg       0.56      0.63      0.58       986\n",
            "weighted avg       0.81      0.77      0.79       986\n",
            "\n",
            "\n",
            "=== Processing aspect: direction ===\n",
            "Fold 1 CV Accuracy: 0.7671, Training Accuracy: 0.7744\n",
            "Fold 2 CV Accuracy: 0.6421, Training Accuracy: 0.7003\n",
            "Fold 3 CV Accuracy: 0.8020, Training Accuracy: 0.8179\n",
            "Fold 4 CV Accuracy: 0.6802, Training Accuracy: 0.7378\n",
            "Fold 5 CV Accuracy: 0.6523, Training Accuracy: 0.6859\n",
            "Fold 6 CV Accuracy: 0.6345, Training Accuracy: 0.7305\n",
            "Fold 7 CV Accuracy: 0.6954, Training Accuracy: 0.7107\n",
            "Fold 8 CV Accuracy: 0.5533, Training Accuracy: 0.6112\n",
            "Fold 9 CV Accuracy: 0.7030, Training Accuracy: 0.7609\n",
            "Fold 10 CV Accuracy: 0.6827, Training Accuracy: 0.7657\n",
            "Average Training Accuracy across folds: 0.7295\n",
            "Best CV model Training Accuracy on full training set: 0.8163\n",
            "Training Classification Report:\n",
            "               precision    recall  f1-score   support\n",
            "\n",
            "          -1       0.54      0.53      0.53       568\n",
            "           0       0.91      0.88      0.89      3128\n",
            "           1       0.47      0.62      0.53       245\n",
            "\n",
            "    accuracy                           0.82      3941\n",
            "   macro avg       0.64      0.68      0.65      3941\n",
            "weighted avg       0.83      0.82      0.82      3941\n",
            "\n",
            "Test Accuracy: 0.7982\n",
            "Test Classification Report:\n",
            "               precision    recall  f1-score   support\n",
            "\n",
            "          -1       0.40      0.31      0.35       124\n",
            "           0       0.88      0.90      0.89       804\n",
            "           1       0.38      0.45      0.41        58\n",
            "\n",
            "    accuracy                           0.80       986\n",
            "   macro avg       0.55      0.55      0.55       986\n",
            "weighted avg       0.79      0.80      0.79       986\n",
            "\n",
            "\n",
            "=== Processing aspect: Music ===\n",
            "Fold 1 CV Accuracy: 0.9038, Training Accuracy: 0.9236\n",
            "Fold 2 CV Accuracy: 0.9137, Training Accuracy: 0.9273\n",
            "Fold 3 CV Accuracy: 0.9162, Training Accuracy: 0.9343\n",
            "Fold 4 CV Accuracy: 0.9086, Training Accuracy: 0.9349\n",
            "Fold 5 CV Accuracy: 0.8706, Training Accuracy: 0.9047\n",
            "Fold 6 CV Accuracy: 0.9061, Training Accuracy: 0.9239\n",
            "Fold 7 CV Accuracy: 0.8985, Training Accuracy: 0.9236\n",
            "Fold 8 CV Accuracy: 0.9264, Training Accuracy: 0.9298\n",
            "Fold 9 CV Accuracy: 0.9137, Training Accuracy: 0.9233\n",
            "Fold 10 CV Accuracy: 0.8934, Training Accuracy: 0.9197\n",
            "Average Training Accuracy across folds: 0.9245\n",
            "Best CV model Training Accuracy on full training set: 0.9295\n",
            "Training Classification Report:\n",
            "               precision    recall  f1-score   support\n",
            "\n",
            "          -1       0.47      0.83      0.60        89\n",
            "           0       0.98      0.95      0.96      3446\n",
            "           1       0.72      0.76      0.74       406\n",
            "\n",
            "    accuracy                           0.93      3941\n",
            "   macro avg       0.72      0.85      0.77      3941\n",
            "weighted avg       0.94      0.93      0.93      3941\n",
            "\n",
            "Test Accuracy: 0.9310\n",
            "Test Classification Report:\n",
            "               precision    recall  f1-score   support\n",
            "\n",
            "          -1       0.37      0.61      0.46        18\n",
            "           0       0.97      0.96      0.97       867\n",
            "           1       0.73      0.71      0.72       101\n",
            "\n",
            "    accuracy                           0.93       986\n",
            "   macro avg       0.69      0.76      0.72       986\n",
            "weighted avg       0.94      0.93      0.93       986\n",
            "\n",
            "\n",
            "=== Processing aspect: ovr_sent ===\n",
            "Fold 1 CV Accuracy: 0.5671, Training Accuracy: 0.6249\n",
            "Fold 2 CV Accuracy: 0.6675, Training Accuracy: 0.6572\n",
            "Fold 3 CV Accuracy: 0.6421, Training Accuracy: 0.7093\n",
            "Fold 4 CV Accuracy: 0.5838, Training Accuracy: 0.6851\n",
            "Fold 5 CV Accuracy: 0.5888, Training Accuracy: 0.6871\n",
            "Fold 6 CV Accuracy: 0.6701, Training Accuracy: 0.7040\n",
            "Fold 7 CV Accuracy: 0.6624, Training Accuracy: 0.6941\n",
            "Fold 8 CV Accuracy: 0.6218, Training Accuracy: 0.7155\n",
            "Fold 9 CV Accuracy: 0.5863, Training Accuracy: 0.6529\n",
            "Fold 10 CV Accuracy: 0.6853, Training Accuracy: 0.6938\n",
            "Average Training Accuracy across folds: 0.6824\n",
            "Best CV model Training Accuracy on full training set: 0.6930\n",
            "Training Classification Report:\n",
            "               precision    recall  f1-score   support\n",
            "\n",
            "          -1       0.77      0.68      0.72      1346\n",
            "           0       0.33      0.60      0.42       567\n",
            "           1       0.87      0.73      0.79      2028\n",
            "\n",
            "    accuracy                           0.69      3941\n",
            "   macro avg       0.65      0.67      0.65      3941\n",
            "weighted avg       0.76      0.69      0.71      3941\n",
            "\n",
            "Test Accuracy: 0.6034\n",
            "Test Classification Report:\n",
            "               precision    recall  f1-score   support\n",
            "\n",
            "          -1       0.71      0.47      0.57       348\n",
            "           0       0.25      0.61      0.36       139\n",
            "           1       0.83      0.69      0.75       499\n",
            "\n",
            "    accuracy                           0.60       986\n",
            "   macro avg       0.59      0.59      0.56       986\n",
            "weighted avg       0.70      0.60      0.63       986\n",
            "\n"
          ]
        }
      ]
    },
    {
      "cell_type": "code",
      "source": [
        "save_models(best_models)"
      ],
      "metadata": {
        "id": "7n_UbSmME3a4",
        "outputId": "2190572c-0d42-4a12-bb8a-bafa7b20d614",
        "colab": {
          "base_uri": "https://localhost:8080/"
        }
      },
      "execution_count": null,
      "outputs": [
        {
          "output_type": "stream",
          "name": "stdout",
          "text": [
            "Models saved to final_models.pkl\n"
          ]
        }
      ]
    }
  ]
}