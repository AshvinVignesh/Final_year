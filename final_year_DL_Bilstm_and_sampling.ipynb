{
  "cells": [
    {
      "cell_type": "markdown",
      "metadata": {
        "id": "view-in-github",
        "colab_type": "text"
      },
      "source": [
        "<a href=\"https://colab.research.google.com/github/AshvinVignesh/Final_year/blob/main/final_year_DL_Bilstm_and_sampling.ipynb\" target=\"_parent\"><img src=\"https://colab.research.google.com/assets/colab-badge.svg\" alt=\"Open In Colab\"/></a>"
      ]
    },
    {
      "cell_type": "code",
      "execution_count": null,
      "metadata": {
        "id": "lbH9nIR13lUX"
      },
      "outputs": [],
      "source": [
        "import tensorflow as tf\n",
        "from tensorflow.keras.preprocessing.text import Tokenizer\n",
        "from tensorflow.keras.preprocessing.sequence import pad_sequences\n",
        "from tensorflow.keras.models import Sequential\n",
        "from tensorflow.keras.layers import Embedding, LSTM, Dense, Dropout,Input , Layer , Bidirectional ,Reshape,MaxPooling2D, Conv1D, MaxPooling1D,Flatten\n",
        "from tensorflow.keras.optimizers import Adam\n",
        "from tensorflow.keras.utils import to_categorical\n",
        "import tensorflow.keras.backend as K\n",
        "from tensorflow.keras.models import Sequential\n",
        "from tensorflow.keras.layers import LSTM, GRU, Dense, Embedding, Dropout, GlobalAveragePooling1D, Flatten, SpatialDropout1D, Bidirectional\n",
        "from sklearn.utils.class_weight import compute_class_weight"
      ]
    },
    {
      "cell_type": "code",
      "execution_count": null,
      "metadata": {
        "id": "sZZaIzZo4bJG"
      },
      "outputs": [],
      "source": [
        "import pandas as pd\n",
        "# import gensim\n",
        "import numpy as np\n",
        "from sklearn.model_selection import train_test_split\n",
        "import matplotlib.pyplot as plt\n",
        "from sklearn.metrics import classification_report , f1_score, accuracy_score\n",
        "from sklearn.model_selection import StratifiedKFold\n",
        "from sklearn.preprocessing import LabelEncoder\n",
        "from imblearn.over_sampling import SMOTE\n",
        "from imblearn.under_sampling import RandomUnderSampler"
      ]
    },
    {
      "cell_type": "code",
      "execution_count": null,
      "metadata": {
        "colab": {
          "base_uri": "https://localhost:8080/",
          "height": 293
        },
        "id": "ZMSILxB-4biG",
        "outputId": "b80c2691-d5e3-421a-b4d6-52dd76ff8899"
      },
      "outputs": [
        {
          "data": {
            "application/vnd.google.colaboratory.intrinsic+json": {
              "summary": "{\n  \"name\": \"df\",\n  \"rows\": 5121,\n  \"fields\": [\n    {\n      \"column\": \"original_text\",\n      \"properties\": {\n        \"dtype\": \"string\",\n        \"num_unique_values\": 5114,\n        \"samples\": [\n          \"ipl game again ah in movies\",\n          \"thanks gnavel sir other directors should learn how to show my thalaivar beatifully and lovely\",\n          \"if vishal says thev\\u2026.ya paiya it is okay but if vijay na says\"\n        ],\n        \"semantic_type\": \"\",\n        \"description\": \"\"\n      }\n    },\n    {\n      \"column\": \"sentences_with_pos_tags\",\n      \"properties\": {\n        \"dtype\": \"string\",\n        \"num_unique_values\": 5117,\n        \"samples\": [\n          \"ipl/PROPN game/NOUN again/ADV ah/PART in/ADP movies/NOUN\",\n          \"thanks/INTJ gnavel/PROPN sir/NOUN other/ADJ directors/NOUN should/AUX learn/VERB how/ADV to/PART show/VERB my/PRON thalaivar/NOUN beatifully/ADV and/CONJ lovely/ADV\",\n          \"ani/PROPN the/DET rajini/PROPN sir/NOUN movie/NOUN\"\n        ],\n        \"semantic_type\": \"\",\n        \"description\": \"\"\n      }\n    },\n    {\n      \"column\": \"lang\",\n      \"properties\": {\n        \"dtype\": \"category\",\n        \"num_unique_values\": 4,\n        \"samples\": [\n          \"Code-Mixed\",\n          \"english\",\n          \"Tamil\"\n        ],\n        \"semantic_type\": \"\",\n        \"description\": \"\"\n      }\n    },\n    {\n      \"column\": \"sentiment\",\n      \"properties\": {\n        \"dtype\": \"category\",\n        \"num_unique_values\": 3,\n        \"samples\": [\n          \"POSITIVE\",\n          \"NEUTRAL\",\n          \"NEGATIVE\"\n        ],\n        \"semantic_type\": \"\",\n        \"description\": \"\"\n      }\n    },\n    {\n      \"column\": \"clean_text\",\n      \"properties\": {\n        \"dtype\": \"string\",\n        \"num_unique_values\": 5102,\n        \"samples\": [\n          \"finally encounter story perusa onnum illa ott ila parthukulam ellam old age people cast\",\n          \"\\u0ba4\\u0bae\\u0bbf\\u0bb4\\u0bcd\",\n          \"dhoni entry stadium like\"\n        ],\n        \"semantic_type\": \"\",\n        \"description\": \"\"\n      }\n    },\n    {\n      \"column\": \"Acting\",\n      \"properties\": {\n        \"dtype\": \"number\",\n        \"std\": 0,\n        \"min\": -1,\n        \"max\": 1,\n        \"num_unique_values\": 3,\n        \"samples\": [\n          0,\n          1,\n          -1\n        ],\n        \"semantic_type\": \"\",\n        \"description\": \"\"\n      }\n    },\n    {\n      \"column\": \"direction\",\n      \"properties\": {\n        \"dtype\": \"number\",\n        \"std\": 0,\n        \"min\": -1,\n        \"max\": 1,\n        \"num_unique_values\": 3,\n        \"samples\": [\n          0,\n          -1,\n          1\n        ],\n        \"semantic_type\": \"\",\n        \"description\": \"\"\n      }\n    },\n    {\n      \"column\": \"Music\",\n      \"properties\": {\n        \"dtype\": \"number\",\n        \"std\": 0,\n        \"min\": -1,\n        \"max\": 1,\n        \"num_unique_values\": 3,\n        \"samples\": [\n          1,\n          0,\n          -1\n        ],\n        \"semantic_type\": \"\",\n        \"description\": \"\"\n      }\n    },\n    {\n      \"column\": \"VFX\",\n      \"properties\": {\n        \"dtype\": \"number\",\n        \"std\": 0,\n        \"min\": -1,\n        \"max\": 1,\n        \"num_unique_values\": 3,\n        \"samples\": [\n          0,\n          1,\n          -1\n        ],\n        \"semantic_type\": \"\",\n        \"description\": \"\"\n      }\n    },\n    {\n      \"column\": \"Genre\",\n      \"properties\": {\n        \"dtype\": \"number\",\n        \"std\": 0,\n        \"min\": -1,\n        \"max\": 1,\n        \"num_unique_values\": 3,\n        \"samples\": [\n          0,\n          -1,\n          1\n        ],\n        \"semantic_type\": \"\",\n        \"description\": \"\"\n      }\n    },\n    {\n      \"column\": \"excitement\",\n      \"properties\": {\n        \"dtype\": \"number\",\n        \"std\": 0,\n        \"min\": -1,\n        \"max\": 1,\n        \"num_unique_values\": 3,\n        \"samples\": [\n          0,\n          -1,\n          1\n        ],\n        \"semantic_type\": \"\",\n        \"description\": \"\"\n      }\n    },\n    {\n      \"column\": \"ovr_sent\",\n      \"properties\": {\n        \"dtype\": \"number\",\n        \"std\": 0,\n        \"min\": -1,\n        \"max\": 1,\n        \"num_unique_values\": 3,\n        \"samples\": [\n          1,\n          0,\n          -1\n        ],\n        \"semantic_type\": \"\",\n        \"description\": \"\"\n      }\n    },\n    {\n      \"column\": \"stop_words\",\n      \"properties\": {\n        \"dtype\": \"string\",\n        \"num_unique_values\": 4499,\n        \"samples\": [\n          \"\\u0b8e\\u0ba8\\u0bcd\\u0ba4, \\u0b9f\\u0bbe, \\u0b87\\u0bb5\\u0b99\\u0bcd\\u0b95, \\u0b87\\u0bb5\\u0ba9\\u0bc1\\u0b99\\u0bcd\\u0b95\",\n          \"enda, mari\",\n          \"\\u0b86\\u0bb1\\u0bc1, \\u0baa\\u0b9f, \\u0b95\\u0ba4\\u0bc8, panni\"\n        ],\n        \"semantic_type\": \"\",\n        \"description\": \"\"\n      }\n    }\n  ]\n}",
              "type": "dataframe",
              "variable_name": "df"
            },
            "text/html": [
              "\n",
              "  <div id=\"df-65c22f99-15cb-4fab-8b08-bbcc98468ed5\" class=\"colab-df-container\">\n",
              "    <div>\n",
              "<style scoped>\n",
              "    .dataframe tbody tr th:only-of-type {\n",
              "        vertical-align: middle;\n",
              "    }\n",
              "\n",
              "    .dataframe tbody tr th {\n",
              "        vertical-align: top;\n",
              "    }\n",
              "\n",
              "    .dataframe thead th {\n",
              "        text-align: right;\n",
              "    }\n",
              "</style>\n",
              "<table border=\"1\" class=\"dataframe\">\n",
              "  <thead>\n",
              "    <tr style=\"text-align: right;\">\n",
              "      <th></th>\n",
              "      <th>original_text</th>\n",
              "      <th>sentences_with_pos_tags</th>\n",
              "      <th>lang</th>\n",
              "      <th>sentiment</th>\n",
              "      <th>clean_text</th>\n",
              "      <th>Acting</th>\n",
              "      <th>direction</th>\n",
              "      <th>Music</th>\n",
              "      <th>VFX</th>\n",
              "      <th>Genre</th>\n",
              "      <th>excitement</th>\n",
              "      <th>ovr_sent</th>\n",
              "      <th>stop_words</th>\n",
              "    </tr>\n",
              "  </thead>\n",
              "  <tbody>\n",
              "    <tr>\n",
              "      <th>0</th>\n",
              "      <td>இரைச்சல் இல்லாத தெளிவான இசை</td>\n",
              "      <td>இரைச்சல்/NOUN இல்லாத/ADJ தெளிவான/ADJ இசை/NOUN</td>\n",
              "      <td>Tamil</td>\n",
              "      <td>POSITIVE</td>\n",
              "      <td>இரைச்சல் இல்லாத தெளிவான இசை</td>\n",
              "      <td>0</td>\n",
              "      <td>0</td>\n",
              "      <td>1</td>\n",
              "      <td>0</td>\n",
              "      <td>0</td>\n",
              "      <td>0</td>\n",
              "      <td>1</td>\n",
              "      <td>இல்லாத, தெளிவான</td>\n",
              "    </tr>\n",
              "    <tr>\n",
              "      <th>1</th>\n",
              "      <td>harris romba naal kalichu super song</td>\n",
              "      <td>harris/PROPN romba/ADV naal/NOUN kalichu/VERB ...</td>\n",
              "      <td>Code-Mixed</td>\n",
              "      <td>POSITIVE</td>\n",
              "      <td>harris romba naal kalichu super song</td>\n",
              "      <td>0</td>\n",
              "      <td>0</td>\n",
              "      <td>1</td>\n",
              "      <td>0</td>\n",
              "      <td>0</td>\n",
              "      <td>0</td>\n",
              "      <td>1</td>\n",
              "      <td>romba, naal, kalichu</td>\n",
              "    </tr>\n",
              "    <tr>\n",
              "      <th>2</th>\n",
              "      <td>hukum pondra iraichal padalai ketu kaathu vali...</td>\n",
              "      <td>hukum/PROPN pondra/ADP iraichal/NOUN padalai/N...</td>\n",
              "      <td>Code-Mixed</td>\n",
              "      <td>NEUTRAL</td>\n",
              "      <td>hukum pondra iraichal padalai ketu kaathu vali...</td>\n",
              "      <td>0</td>\n",
              "      <td>0</td>\n",
              "      <td>1</td>\n",
              "      <td>0</td>\n",
              "      <td>0</td>\n",
              "      <td>0</td>\n",
              "      <td>1</td>\n",
              "      <td>pondr, iraichal, ketu, kaathu, valichuruchu, a...</td>\n",
              "    </tr>\n",
              "    <tr>\n",
              "      <th>3</th>\n",
              "      <td>youtube la kuda editing nalla pannuvanga</td>\n",
              "      <td>youtube/PROPN la/ADP kuda/ADV editing/NOUN nal...</td>\n",
              "      <td>Code-Mixed</td>\n",
              "      <td>NEUTRAL</td>\n",
              "      <td>youtube kuda editing nalla pannuvanga</td>\n",
              "      <td>0</td>\n",
              "      <td>0</td>\n",
              "      <td>0</td>\n",
              "      <td>1</td>\n",
              "      <td>0</td>\n",
              "      <td>0</td>\n",
              "      <td>1</td>\n",
              "      <td>la, kuda</td>\n",
              "    </tr>\n",
              "    <tr>\n",
              "      <th>4</th>\n",
              "      <td>amaran is also a diwali release</td>\n",
              "      <td>amaran/PROPN is/AUX also/ADV a/DET diwali/PROP...</td>\n",
              "      <td>Code-Mixed</td>\n",
              "      <td>NEUTRAL</td>\n",
              "      <td>amaran diwali release</td>\n",
              "      <td>0</td>\n",
              "      <td>0</td>\n",
              "      <td>0</td>\n",
              "      <td>0</td>\n",
              "      <td>0</td>\n",
              "      <td>0</td>\n",
              "      <td>0</td>\n",
              "      <td>is, also, a</td>\n",
              "    </tr>\n",
              "  </tbody>\n",
              "</table>\n",
              "</div>\n",
              "    <div class=\"colab-df-buttons\">\n",
              "\n",
              "  <div class=\"colab-df-container\">\n",
              "    <button class=\"colab-df-convert\" onclick=\"convertToInteractive('df-65c22f99-15cb-4fab-8b08-bbcc98468ed5')\"\n",
              "            title=\"Convert this dataframe to an interactive table.\"\n",
              "            style=\"display:none;\">\n",
              "\n",
              "  <svg xmlns=\"http://www.w3.org/2000/svg\" height=\"24px\" viewBox=\"0 -960 960 960\">\n",
              "    <path d=\"M120-120v-720h720v720H120Zm60-500h600v-160H180v160Zm220 220h160v-160H400v160Zm0 220h160v-160H400v160ZM180-400h160v-160H180v160Zm440 0h160v-160H620v160ZM180-180h160v-160H180v160Zm440 0h160v-160H620v160Z\"/>\n",
              "  </svg>\n",
              "    </button>\n",
              "\n",
              "  <style>\n",
              "    .colab-df-container {\n",
              "      display:flex;\n",
              "      gap: 12px;\n",
              "    }\n",
              "\n",
              "    .colab-df-convert {\n",
              "      background-color: #E8F0FE;\n",
              "      border: none;\n",
              "      border-radius: 50%;\n",
              "      cursor: pointer;\n",
              "      display: none;\n",
              "      fill: #1967D2;\n",
              "      height: 32px;\n",
              "      padding: 0 0 0 0;\n",
              "      width: 32px;\n",
              "    }\n",
              "\n",
              "    .colab-df-convert:hover {\n",
              "      background-color: #E2EBFA;\n",
              "      box-shadow: 0px 1px 2px rgba(60, 64, 67, 0.3), 0px 1px 3px 1px rgba(60, 64, 67, 0.15);\n",
              "      fill: #174EA6;\n",
              "    }\n",
              "\n",
              "    .colab-df-buttons div {\n",
              "      margin-bottom: 4px;\n",
              "    }\n",
              "\n",
              "    [theme=dark] .colab-df-convert {\n",
              "      background-color: #3B4455;\n",
              "      fill: #D2E3FC;\n",
              "    }\n",
              "\n",
              "    [theme=dark] .colab-df-convert:hover {\n",
              "      background-color: #434B5C;\n",
              "      box-shadow: 0px 1px 3px 1px rgba(0, 0, 0, 0.15);\n",
              "      filter: drop-shadow(0px 1px 2px rgba(0, 0, 0, 0.3));\n",
              "      fill: #FFFFFF;\n",
              "    }\n",
              "  </style>\n",
              "\n",
              "    <script>\n",
              "      const buttonEl =\n",
              "        document.querySelector('#df-65c22f99-15cb-4fab-8b08-bbcc98468ed5 button.colab-df-convert');\n",
              "      buttonEl.style.display =\n",
              "        google.colab.kernel.accessAllowed ? 'block' : 'none';\n",
              "\n",
              "      async function convertToInteractive(key) {\n",
              "        const element = document.querySelector('#df-65c22f99-15cb-4fab-8b08-bbcc98468ed5');\n",
              "        const dataTable =\n",
              "          await google.colab.kernel.invokeFunction('convertToInteractive',\n",
              "                                                    [key], {});\n",
              "        if (!dataTable) return;\n",
              "\n",
              "        const docLinkHtml = 'Like what you see? Visit the ' +\n",
              "          '<a target=\"_blank\" href=https://colab.research.google.com/notebooks/data_table.ipynb>data table notebook</a>'\n",
              "          + ' to learn more about interactive tables.';\n",
              "        element.innerHTML = '';\n",
              "        dataTable['output_type'] = 'display_data';\n",
              "        await google.colab.output.renderOutput(dataTable, element);\n",
              "        const docLink = document.createElement('div');\n",
              "        docLink.innerHTML = docLinkHtml;\n",
              "        element.appendChild(docLink);\n",
              "      }\n",
              "    </script>\n",
              "  </div>\n",
              "\n",
              "\n",
              "<div id=\"df-c4931541-009b-4bbe-849d-36266b72437d\">\n",
              "  <button class=\"colab-df-quickchart\" onclick=\"quickchart('df-c4931541-009b-4bbe-849d-36266b72437d')\"\n",
              "            title=\"Suggest charts\"\n",
              "            style=\"display:none;\">\n",
              "\n",
              "<svg xmlns=\"http://www.w3.org/2000/svg\" height=\"24px\"viewBox=\"0 0 24 24\"\n",
              "     width=\"24px\">\n",
              "    <g>\n",
              "        <path d=\"M19 3H5c-1.1 0-2 .9-2 2v14c0 1.1.9 2 2 2h14c1.1 0 2-.9 2-2V5c0-1.1-.9-2-2-2zM9 17H7v-7h2v7zm4 0h-2V7h2v10zm4 0h-2v-4h2v4z\"/>\n",
              "    </g>\n",
              "</svg>\n",
              "  </button>\n",
              "\n",
              "<style>\n",
              "  .colab-df-quickchart {\n",
              "      --bg-color: #E8F0FE;\n",
              "      --fill-color: #1967D2;\n",
              "      --hover-bg-color: #E2EBFA;\n",
              "      --hover-fill-color: #174EA6;\n",
              "      --disabled-fill-color: #AAA;\n",
              "      --disabled-bg-color: #DDD;\n",
              "  }\n",
              "\n",
              "  [theme=dark] .colab-df-quickchart {\n",
              "      --bg-color: #3B4455;\n",
              "      --fill-color: #D2E3FC;\n",
              "      --hover-bg-color: #434B5C;\n",
              "      --hover-fill-color: #FFFFFF;\n",
              "      --disabled-bg-color: #3B4455;\n",
              "      --disabled-fill-color: #666;\n",
              "  }\n",
              "\n",
              "  .colab-df-quickchart {\n",
              "    background-color: var(--bg-color);\n",
              "    border: none;\n",
              "    border-radius: 50%;\n",
              "    cursor: pointer;\n",
              "    display: none;\n",
              "    fill: var(--fill-color);\n",
              "    height: 32px;\n",
              "    padding: 0;\n",
              "    width: 32px;\n",
              "  }\n",
              "\n",
              "  .colab-df-quickchart:hover {\n",
              "    background-color: var(--hover-bg-color);\n",
              "    box-shadow: 0 1px 2px rgba(60, 64, 67, 0.3), 0 1px 3px 1px rgba(60, 64, 67, 0.15);\n",
              "    fill: var(--button-hover-fill-color);\n",
              "  }\n",
              "\n",
              "  .colab-df-quickchart-complete:disabled,\n",
              "  .colab-df-quickchart-complete:disabled:hover {\n",
              "    background-color: var(--disabled-bg-color);\n",
              "    fill: var(--disabled-fill-color);\n",
              "    box-shadow: none;\n",
              "  }\n",
              "\n",
              "  .colab-df-spinner {\n",
              "    border: 2px solid var(--fill-color);\n",
              "    border-color: transparent;\n",
              "    border-bottom-color: var(--fill-color);\n",
              "    animation:\n",
              "      spin 1s steps(1) infinite;\n",
              "  }\n",
              "\n",
              "  @keyframes spin {\n",
              "    0% {\n",
              "      border-color: transparent;\n",
              "      border-bottom-color: var(--fill-color);\n",
              "      border-left-color: var(--fill-color);\n",
              "    }\n",
              "    20% {\n",
              "      border-color: transparent;\n",
              "      border-left-color: var(--fill-color);\n",
              "      border-top-color: var(--fill-color);\n",
              "    }\n",
              "    30% {\n",
              "      border-color: transparent;\n",
              "      border-left-color: var(--fill-color);\n",
              "      border-top-color: var(--fill-color);\n",
              "      border-right-color: var(--fill-color);\n",
              "    }\n",
              "    40% {\n",
              "      border-color: transparent;\n",
              "      border-right-color: var(--fill-color);\n",
              "      border-top-color: var(--fill-color);\n",
              "    }\n",
              "    60% {\n",
              "      border-color: transparent;\n",
              "      border-right-color: var(--fill-color);\n",
              "    }\n",
              "    80% {\n",
              "      border-color: transparent;\n",
              "      border-right-color: var(--fill-color);\n",
              "      border-bottom-color: var(--fill-color);\n",
              "    }\n",
              "    90% {\n",
              "      border-color: transparent;\n",
              "      border-bottom-color: var(--fill-color);\n",
              "    }\n",
              "  }\n",
              "</style>\n",
              "\n",
              "  <script>\n",
              "    async function quickchart(key) {\n",
              "      const quickchartButtonEl =\n",
              "        document.querySelector('#' + key + ' button');\n",
              "      quickchartButtonEl.disabled = true;  // To prevent multiple clicks.\n",
              "      quickchartButtonEl.classList.add('colab-df-spinner');\n",
              "      try {\n",
              "        const charts = await google.colab.kernel.invokeFunction(\n",
              "            'suggestCharts', [key], {});\n",
              "      } catch (error) {\n",
              "        console.error('Error during call to suggestCharts:', error);\n",
              "      }\n",
              "      quickchartButtonEl.classList.remove('colab-df-spinner');\n",
              "      quickchartButtonEl.classList.add('colab-df-quickchart-complete');\n",
              "    }\n",
              "    (() => {\n",
              "      let quickchartButtonEl =\n",
              "        document.querySelector('#df-c4931541-009b-4bbe-849d-36266b72437d button');\n",
              "      quickchartButtonEl.style.display =\n",
              "        google.colab.kernel.accessAllowed ? 'block' : 'none';\n",
              "    })();\n",
              "  </script>\n",
              "</div>\n",
              "\n",
              "    </div>\n",
              "  </div>\n"
            ],
            "text/plain": [
              "                                       original_text  \\\n",
              "0                        இரைச்சல் இல்லாத தெளிவான இசை   \n",
              "1               harris romba naal kalichu super song   \n",
              "2  hukum pondra iraichal padalai ketu kaathu vali...   \n",
              "3           youtube la kuda editing nalla pannuvanga   \n",
              "4                    amaran is also a diwali release   \n",
              "\n",
              "                             sentences_with_pos_tags        lang sentiment  \\\n",
              "0      இரைச்சல்/NOUN இல்லாத/ADJ தெளிவான/ADJ இசை/NOUN       Tamil  POSITIVE   \n",
              "1  harris/PROPN romba/ADV naal/NOUN kalichu/VERB ...  Code-Mixed  POSITIVE   \n",
              "2  hukum/PROPN pondra/ADP iraichal/NOUN padalai/N...  Code-Mixed   NEUTRAL   \n",
              "3  youtube/PROPN la/ADP kuda/ADV editing/NOUN nal...  Code-Mixed   NEUTRAL   \n",
              "4  amaran/PROPN is/AUX also/ADV a/DET diwali/PROP...  Code-Mixed   NEUTRAL   \n",
              "\n",
              "                                          clean_text  Acting  direction  \\\n",
              "0                        இரைச்சல் இல்லாத தெளிவான இசை       0          0   \n",
              "1               harris romba naal kalichu super song       0          0   \n",
              "2  hukum pondra iraichal padalai ketu kaathu vali...       0          0   \n",
              "3              youtube kuda editing nalla pannuvanga       0          0   \n",
              "4                              amaran diwali release       0          0   \n",
              "\n",
              "   Music  VFX  Genre  excitement  ovr_sent  \\\n",
              "0      1    0      0           0         1   \n",
              "1      1    0      0           0         1   \n",
              "2      1    0      0           0         1   \n",
              "3      0    1      0           0         1   \n",
              "4      0    0      0           0         0   \n",
              "\n",
              "                                          stop_words  \n",
              "0                                    இல்லாத, தெளிவான  \n",
              "1                               romba, naal, kalichu  \n",
              "2  pondr, iraichal, ketu, kaathu, valichuruchu, a...  \n",
              "3                                           la, kuda  \n",
              "4                                        is, also, a  "
            ]
          },
          "execution_count": 3,
          "metadata": {},
          "output_type": "execute_result"
        }
      ],
      "source": [
        "df = pd.read_csv(\"Full_data_aspect_removed_words.csv\")\n",
        "df.head()"
      ]
    },
    {
      "cell_type": "code",
      "execution_count": null,
      "metadata": {
        "id": "pghUW1R14hEu"
      },
      "outputs": [],
      "source": [
        "def prepare_data(df, aspect_column):\n",
        "    \"\"\"Prepare data for a specific aspect\"\"\"\n",
        "    # Encode text to numerical values if needed\n",
        "    # le = LabelEncoder()\n",
        "    # Changed to return a DataFrame instead of a Series\n",
        "    X = df[['clean_text']]\n",
        "    y = df[aspect_column]\n",
        "    return X, y"
      ]
    },
    {
      "cell_type": "code",
      "execution_count": null,
      "metadata": {
        "id": "xp_iJS8P4rEl"
      },
      "outputs": [],
      "source": [
        "X,y = prepare_data(df,'Acting')"
      ]
    },
    {
      "cell_type": "code",
      "execution_count": null,
      "metadata": {
        "id": "1ASKmPf0BJkX"
      },
      "outputs": [],
      "source": [
        "embeddings_index = {}\n",
        "f = open('/content/ft_300_fyp_150epoch_window2.txt')\n",
        "for line in f:\n",
        "    values = line.split()\n",
        "    word = values[0] # Since the word is at the 0th index\n",
        "    coefs = np.asarray(values[1:]) # From the 1st position onwards the values are the embedding values\n",
        "    embeddings_index[word] = coefs\n",
        "f.close()"
      ]
    },
    {
      "cell_type": "code",
      "execution_count": null,
      "metadata": {
        "id": "qcdJvGV8BDoY"
      },
      "outputs": [],
      "source": [
        "EMBEDDING_DIM =300\n",
        "\n",
        "# words not found in embedding index will be all-zeros."
      ]
    },
    {
      "cell_type": "code",
      "execution_count": null,
      "metadata": {
        "id": "1Bd_gQUI_Bih"
      },
      "outputs": [],
      "source": [
        "def analyze_all_aspects_dl(df, aspects, sampling_techniques):\n",
        "    results = {}\n",
        "    for aspect in aspects:\n",
        "        print(f\"\\nAnalyzing aspect: {aspect}\")\n",
        "        X, y = prepare_data(df, aspect)\n",
        "        aspect_results = {}\n",
        "        for technique in sampling_techniques:\n",
        "            print(f\"\\nUsing {technique} sampling:\")\n",
        "            mean_score, std_score, reports = train_evaluate_dl_model(X, y, technique)\n",
        "            aspect_results[technique] = {\n",
        "                'mean_accuracy': mean_score,\n",
        "                'std_accuracy': std_score,\n",
        "                'classification_reports': reports\n",
        "            }\n",
        "            print(f\"Mean Accuracy: {mean_score:.4f} (\\u00b1{std_score:.4f})\")\n",
        "        results[aspect] = aspect_results\n",
        "    return results"
      ]
    },
    {
      "cell_type": "code",
      "execution_count": null,
      "metadata": {
        "id": "Q852Mxdm5R51"
      },
      "outputs": [],
      "source": [
        "def train_evaluate_dl_model(X, y, sampling_strategy='none'):\n",
        "    skf = StratifiedKFold(n_splits=5, shuffle=True, random_state=42)\n",
        "    scores = []\n",
        "    reports = []\n",
        "\n",
        "    # Tokenize and pad sequences\n",
        "    tokenizer = Tokenizer()\n",
        "    tokenizer.fit_on_texts(X['clean_text'])\n",
        "    sequences = tokenizer.texts_to_sequences(X['clean_text'])\n",
        "    padded_sequences = pad_sequences(sequences, maxlen=20)\n",
        "    word_index = tokenizer.word_index\n",
        "    num_words = len(word_index) + 1\n",
        "    embedding_matrix = np.zeros((num_words, EMBEDDING_DIM))\n",
        "    for word, i in word_index.items():\n",
        "        embedding_vector = embeddings_index.get(word)\n",
        "        if embedding_vector is not None:\n",
        "            # Check if the embedding vector has the expected dimension\n",
        "            if len(embedding_vector) == EMBEDDING_DIM:\n",
        "                embedding_matrix[i] = embedding_vector\n",
        "            else:\n",
        "                print(f\"Warning: Embedding for '{word}' has unexpected dimension {len(embedding_vector)}. Skipping.\")\n",
        "    # Encode labels\n",
        "    le = LabelEncoder()\n",
        "    y_encoded = le.fit_transform(y)\n",
        "    target_names = [str(class_label) for class_label in le.classes_]\n",
        "    # Prepare embedding matrix (assuming it's preloaded as `embedding_matrix`)\n",
        "    vocab_size = len(word_index) + 1\n",
        "\n",
        "    for fold, (train_idx, val_idx) in enumerate(skf.split(padded_sequences, y_encoded)):\n",
        "        X_train, X_val = padded_sequences[train_idx], padded_sequences[val_idx]\n",
        "        y_train, y_val = y_encoded[train_idx], y_encoded[val_idx]\n",
        "\n",
        "        # Apply undersampling if required\n",
        "        if sampling_strategy == 'undersample':\n",
        "            sampler = RandomUnderSampler(random_state=42)\n",
        "            X_train_flat = X_train.reshape(X_train.shape[0], -1)\n",
        "            X_train_flat, y_train = sampler.fit_resample(X_train_flat, y_train)\n",
        "            X_train = X_train_flat.reshape(-1, 20)  # Reshape back\n",
        "        elif sampling_strategy == 'oversample':\n",
        "            sampler = SMOTE(random_state=42)\n",
        "            # Flatten `X_train` for SMOTE\n",
        "            X_train_flat = X_train.reshape(X_train.shape[0], -1)\n",
        "            X_train_flat, y_train = sampler.fit_resample(X_train_flat, y_train)\n",
        "            # Reshape back to the original dimensions\n",
        "            X_train = X_train_flat.reshape(-1, 20)\n",
        "\n",
        "        # Define the model\n",
        "        input_layer = tf.keras.layers.Input(shape=(20,))\n",
        "        embedding_layer = tf.keras.layers.Embedding(vocab_size, 300, weights=[embedding_matrix], input_length=20, trainable=False)(input_layer)\n",
        "        # conv = tf.keras.layers.Conv1D(200, kernel_size=3, activation=\"relu\")(embedding_layer)\n",
        "        bi_lstm = tf.keras.layers.Bidirectional(tf.keras.layers.LSTM(128, dropout=0.3, recurrent_dropout=0.2, return_sequences=True))(embedding_layer)\n",
        "        drop = tf.keras.layers.Dropout(0.2)(bi_lstm)\n",
        "        dense = tf.keras.layers.Dense(128, activation='relu')(drop)\n",
        "        flat = tf.keras.layers.Flatten()(dense)\n",
        "        output_layer = tf.keras.layers.Dense(len(le.classes_), activation='softmax')(flat)\n",
        "\n",
        "        model = tf.keras.Model(input_layer, output_layer)\n",
        "        model.compile(optimizer='adam', loss='sparse_categorical_crossentropy', metrics=['accuracy'])\n",
        "\n",
        "        # Train the model\n",
        "        model.fit(\n",
        "            X_train, y_train,\n",
        "            epochs=5,  # You can adjust the number of epochs\n",
        "            batch_size=32,\n",
        "            verbose=0\n",
        "        )\n",
        "\n",
        "        # Evaluate the model\n",
        "        y_pred = model.predict(X_val, verbose=0).argmax(axis=1)\n",
        "        score = accuracy_score(y_val, y_pred)\n",
        "        scores.append(score)\n",
        "\n",
        "        # Generate classification report\n",
        "        report = classification_report(y_val, y_pred, target_names=target_names, output_dict=True)\n",
        "        reports.append(report)\n",
        "\n",
        "        print(f\"\\nFold {fold + 1} Results:\")\n",
        "        print(classification_report(y_val, y_pred, target_names=target_names))\n",
        "\n",
        "    return np.mean(scores), np.std(scores), reports"
      ]
    },
    {
      "cell_type": "markdown",
      "metadata": {
        "id": "ViZvn-hUp4MZ"
      },
      "source": [
        "own embedding word 2 vec"
      ]
    },
    {
      "cell_type": "code",
      "execution_count": null,
      "metadata": {
        "id": "79oPiKv0TPWb"
      },
      "outputs": [],
      "source": [
        "aspects = ['Acting', 'direction', 'Music', 'Genre', 'excitement', 'ovr_sent']"
      ]
    },
    {
      "cell_type": "code",
      "execution_count": null,
      "metadata": {
        "colab": {
          "base_uri": "https://localhost:8080/"
        },
        "collapsed": true,
        "id": "sLxoMXtmDcmm",
        "outputId": "a0b79a7d-b761-44ce-c5fa-ba800b9c42ae"
      },
      "outputs": [
        {
          "name": "stdout",
          "output_type": "stream",
          "text": [
            "\n",
            "Analyzing aspect: Acting\n",
            "\n",
            "Using undersample sampling:\n"
          ]
        },
        {
          "name": "stderr",
          "output_type": "stream",
          "text": [
            "/usr/local/lib/python3.11/dist-packages/keras/src/layers/core/embedding.py:90: UserWarning: Argument `input_length` is deprecated. Just remove it.\n",
            "  warnings.warn(\n"
          ]
        },
        {
          "name": "stdout",
          "output_type": "stream",
          "text": [
            "\n",
            "Fold 1 Results:\n",
            "              precision    recall  f1-score   support\n",
            "\n",
            "          -1       0.05      0.62      0.09        34\n",
            "           0       0.71      0.37      0.49       770\n",
            "           1       0.20      0.19      0.20       221\n",
            "\n",
            "    accuracy                           0.34      1025\n",
            "   macro avg       0.32      0.39      0.26      1025\n",
            "weighted avg       0.58      0.34      0.41      1025\n",
            "\n"
          ]
        },
        {
          "name": "stderr",
          "output_type": "stream",
          "text": [
            "/usr/local/lib/python3.11/dist-packages/keras/src/layers/core/embedding.py:90: UserWarning: Argument `input_length` is deprecated. Just remove it.\n",
            "  warnings.warn(\n"
          ]
        },
        {
          "name": "stdout",
          "output_type": "stream",
          "text": [
            "\n",
            "Fold 2 Results:\n",
            "              precision    recall  f1-score   support\n",
            "\n",
            "          -1       0.07      0.55      0.12        33\n",
            "           0       0.75      0.36      0.48       769\n",
            "           1       0.24      0.41      0.30       222\n",
            "\n",
            "    accuracy                           0.38      1024\n",
            "   macro avg       0.35      0.44      0.30      1024\n",
            "weighted avg       0.62      0.38      0.43      1024\n",
            "\n"
          ]
        },
        {
          "name": "stderr",
          "output_type": "stream",
          "text": [
            "/usr/local/lib/python3.11/dist-packages/keras/src/layers/core/embedding.py:90: UserWarning: Argument `input_length` is deprecated. Just remove it.\n",
            "  warnings.warn(\n"
          ]
        },
        {
          "name": "stdout",
          "output_type": "stream",
          "text": [
            "\n",
            "Fold 3 Results:\n",
            "              precision    recall  f1-score   support\n",
            "\n",
            "          -1       0.06      0.48      0.10        33\n",
            "           0       0.86      0.02      0.05       769\n",
            "           1       0.23      0.76      0.36       222\n",
            "\n",
            "    accuracy                           0.20      1024\n",
            "   macro avg       0.38      0.42      0.17      1024\n",
            "weighted avg       0.70      0.20      0.11      1024\n",
            "\n"
          ]
        },
        {
          "name": "stderr",
          "output_type": "stream",
          "text": [
            "/usr/local/lib/python3.11/dist-packages/keras/src/layers/core/embedding.py:90: UserWarning: Argument `input_length` is deprecated. Just remove it.\n",
            "  warnings.warn(\n"
          ]
        },
        {
          "name": "stdout",
          "output_type": "stream",
          "text": [
            "\n",
            "Fold 4 Results:\n",
            "              precision    recall  f1-score   support\n",
            "\n",
            "          -1       0.06      0.45      0.11        33\n",
            "           0       0.75      0.67      0.71       769\n",
            "           1       0.24      0.09      0.13       222\n",
            "\n",
            "    accuracy                           0.54      1024\n",
            "   macro avg       0.35      0.41      0.31      1024\n",
            "weighted avg       0.61      0.54      0.56      1024\n",
            "\n"
          ]
        },
        {
          "name": "stderr",
          "output_type": "stream",
          "text": [
            "/usr/local/lib/python3.11/dist-packages/keras/src/layers/core/embedding.py:90: UserWarning: Argument `input_length` is deprecated. Just remove it.\n",
            "  warnings.warn(\n"
          ]
        },
        {
          "name": "stdout",
          "output_type": "stream",
          "text": [
            "\n",
            "Fold 5 Results:\n",
            "              precision    recall  f1-score   support\n",
            "\n",
            "          -1       0.05      0.56      0.09        34\n",
            "           0       0.80      0.05      0.10       769\n",
            "           1       0.23      0.57      0.32       221\n",
            "\n",
            "    accuracy                           0.18      1024\n",
            "   macro avg       0.36      0.40      0.17      1024\n",
            "weighted avg       0.65      0.18      0.15      1024\n",
            "\n",
            "Mean Accuracy: 0.3267 (±0.1308)\n",
            "\n",
            "Analyzing aspect: direction\n",
            "\n",
            "Using undersample sampling:\n"
          ]
        },
        {
          "name": "stderr",
          "output_type": "stream",
          "text": [
            "/usr/local/lib/python3.11/dist-packages/keras/src/layers/core/embedding.py:90: UserWarning: Argument `input_length` is deprecated. Just remove it.\n",
            "  warnings.warn(\n"
          ]
        },
        {
          "name": "stdout",
          "output_type": "stream",
          "text": [
            "\n",
            "Fold 1 Results:\n",
            "              precision    recall  f1-score   support\n",
            "\n",
            "          -1       0.26      0.45      0.33       139\n",
            "           0       0.85      0.78      0.81       824\n",
            "           1       0.08      0.03      0.05        62\n",
            "\n",
            "    accuracy                           0.69      1025\n",
            "   macro avg       0.39      0.42      0.39      1025\n",
            "weighted avg       0.72      0.69      0.70      1025\n",
            "\n"
          ]
        },
        {
          "name": "stderr",
          "output_type": "stream",
          "text": [
            "/usr/local/lib/python3.11/dist-packages/keras/src/layers/core/embedding.py:90: UserWarning: Argument `input_length` is deprecated. Just remove it.\n",
            "  warnings.warn(\n"
          ]
        },
        {
          "name": "stdout",
          "output_type": "stream",
          "text": [
            "\n",
            "Fold 2 Results:\n",
            "              precision    recall  f1-score   support\n",
            "\n",
            "          -1       0.27      0.40      0.32       138\n",
            "           0       0.87      0.74      0.80       824\n",
            "           1       0.12      0.23      0.15        62\n",
            "\n",
            "    accuracy                           0.66      1024\n",
            "   macro avg       0.42      0.45      0.42      1024\n",
            "weighted avg       0.74      0.66      0.69      1024\n",
            "\n"
          ]
        },
        {
          "name": "stderr",
          "output_type": "stream",
          "text": [
            "/usr/local/lib/python3.11/dist-packages/keras/src/layers/core/embedding.py:90: UserWarning: Argument `input_length` is deprecated. Just remove it.\n",
            "  warnings.warn(\n"
          ]
        },
        {
          "name": "stdout",
          "output_type": "stream",
          "text": [
            "\n",
            "Fold 3 Results:\n",
            "              precision    recall  f1-score   support\n",
            "\n",
            "          -1       0.25      0.27      0.26       139\n",
            "           0       0.89      0.33      0.48       823\n",
            "           1       0.08      0.71      0.14        62\n",
            "\n",
            "    accuracy                           0.35      1024\n",
            "   macro avg       0.41      0.44      0.30      1024\n",
            "weighted avg       0.76      0.35      0.43      1024\n",
            "\n"
          ]
        },
        {
          "name": "stderr",
          "output_type": "stream",
          "text": [
            "/usr/local/lib/python3.11/dist-packages/keras/src/layers/core/embedding.py:90: UserWarning: Argument `input_length` is deprecated. Just remove it.\n",
            "  warnings.warn(\n"
          ]
        },
        {
          "name": "stdout",
          "output_type": "stream",
          "text": [
            "\n",
            "Fold 4 Results:\n",
            "              precision    recall  f1-score   support\n",
            "\n",
            "          -1       0.21      0.54      0.30       139\n",
            "           0       0.88      0.47      0.61       823\n",
            "           1       0.08      0.29      0.13        62\n",
            "\n",
            "    accuracy                           0.47      1024\n",
            "   macro avg       0.39      0.43      0.35      1024\n",
            "weighted avg       0.74      0.47      0.54      1024\n",
            "\n"
          ]
        },
        {
          "name": "stderr",
          "output_type": "stream",
          "text": [
            "/usr/local/lib/python3.11/dist-packages/keras/src/layers/core/embedding.py:90: UserWarning: Argument `input_length` is deprecated. Just remove it.\n",
            "  warnings.warn(\n"
          ]
        },
        {
          "name": "stdout",
          "output_type": "stream",
          "text": [
            "\n",
            "Fold 5 Results:\n",
            "              precision    recall  f1-score   support\n",
            "\n",
            "          -1       0.25      0.19      0.21       139\n",
            "           0       0.84      0.77      0.80       823\n",
            "           1       0.11      0.31      0.17        62\n",
            "\n",
            "    accuracy                           0.66      1024\n",
            "   macro avg       0.40      0.42      0.39      1024\n",
            "weighted avg       0.72      0.66      0.68      1024\n",
            "\n",
            "Mean Accuracy: 0.5643 (±0.1345)\n",
            "\n",
            "Analyzing aspect: Music\n",
            "\n",
            "Using undersample sampling:\n"
          ]
        },
        {
          "name": "stderr",
          "output_type": "stream",
          "text": [
            "/usr/local/lib/python3.11/dist-packages/keras/src/layers/core/embedding.py:90: UserWarning: Argument `input_length` is deprecated. Just remove it.\n",
            "  warnings.warn(\n"
          ]
        },
        {
          "name": "stdout",
          "output_type": "stream",
          "text": [
            "\n",
            "Fold 1 Results:\n",
            "              precision    recall  f1-score   support\n",
            "\n",
            "          -1       0.04      0.45      0.08        22\n",
            "           0       0.90      0.51      0.65       897\n",
            "           1       0.12      0.32      0.18       106\n",
            "\n",
            "    accuracy                           0.49      1025\n",
            "   macro avg       0.36      0.43      0.30      1025\n",
            "weighted avg       0.80      0.49      0.59      1025\n",
            "\n"
          ]
        },
        {
          "name": "stderr",
          "output_type": "stream",
          "text": [
            "/usr/local/lib/python3.11/dist-packages/keras/src/layers/core/embedding.py:90: UserWarning: Argument `input_length` is deprecated. Just remove it.\n",
            "  warnings.warn(\n"
          ]
        },
        {
          "name": "stdout",
          "output_type": "stream",
          "text": [
            "\n",
            "Fold 2 Results:\n",
            "              precision    recall  f1-score   support\n",
            "\n",
            "          -1       0.03      0.19      0.06        21\n",
            "           0       0.94      0.49      0.65       897\n",
            "           1       0.14      0.58      0.23       106\n",
            "\n",
            "    accuracy                           0.50      1024\n",
            "   macro avg       0.37      0.42      0.31      1024\n",
            "weighted avg       0.84      0.50      0.59      1024\n",
            "\n"
          ]
        },
        {
          "name": "stderr",
          "output_type": "stream",
          "text": [
            "/usr/local/lib/python3.11/dist-packages/keras/src/layers/core/embedding.py:90: UserWarning: Argument `input_length` is deprecated. Just remove it.\n",
            "  warnings.warn(\n"
          ]
        },
        {
          "name": "stdout",
          "output_type": "stream",
          "text": [
            "\n",
            "Fold 3 Results:\n",
            "              precision    recall  f1-score   support\n",
            "\n",
            "          -1       0.03      0.38      0.05        21\n",
            "           0       0.93      0.29      0.45       897\n",
            "           1       0.13      0.54      0.20       106\n",
            "\n",
            "    accuracy                           0.32      1024\n",
            "   macro avg       0.36      0.40      0.23      1024\n",
            "weighted avg       0.83      0.32      0.41      1024\n",
            "\n"
          ]
        },
        {
          "name": "stderr",
          "output_type": "stream",
          "text": [
            "/usr/local/lib/python3.11/dist-packages/keras/src/layers/core/embedding.py:90: UserWarning: Argument `input_length` is deprecated. Just remove it.\n",
            "  warnings.warn(\n"
          ]
        },
        {
          "name": "stdout",
          "output_type": "stream",
          "text": [
            "\n",
            "Fold 4 Results:\n",
            "              precision    recall  f1-score   support\n",
            "\n",
            "          -1       0.04      0.48      0.07        21\n",
            "           0       0.90      0.63      0.74       897\n",
            "           1       0.17      0.21      0.18       106\n",
            "\n",
            "    accuracy                           0.58      1024\n",
            "   macro avg       0.37      0.44      0.33      1024\n",
            "weighted avg       0.81      0.58      0.67      1024\n",
            "\n"
          ]
        },
        {
          "name": "stderr",
          "output_type": "stream",
          "text": [
            "/usr/local/lib/python3.11/dist-packages/keras/src/layers/core/embedding.py:90: UserWarning: Argument `input_length` is deprecated. Just remove it.\n",
            "  warnings.warn(\n"
          ]
        },
        {
          "name": "stdout",
          "output_type": "stream",
          "text": [
            "\n",
            "Fold 5 Results:\n",
            "              precision    recall  f1-score   support\n",
            "\n",
            "          -1       0.04      0.27      0.06        22\n",
            "           0       0.92      0.45      0.61       896\n",
            "           1       0.14      0.56      0.22       106\n",
            "\n",
            "    accuracy                           0.46      1024\n",
            "   macro avg       0.37      0.43      0.30      1024\n",
            "weighted avg       0.82      0.46      0.56      1024\n",
            "\n",
            "Mean Accuracy: 0.4702 (±0.0850)\n",
            "\n",
            "Analyzing aspect: Genre\n",
            "\n",
            "Using undersample sampling:\n"
          ]
        },
        {
          "name": "stderr",
          "output_type": "stream",
          "text": [
            "/usr/local/lib/python3.11/dist-packages/keras/src/layers/core/embedding.py:90: UserWarning: Argument `input_length` is deprecated. Just remove it.\n",
            "  warnings.warn(\n"
          ]
        },
        {
          "name": "stdout",
          "output_type": "stream",
          "text": [
            "\n",
            "Fold 1 Results:\n",
            "              precision    recall  f1-score   support\n",
            "\n",
            "          -1       0.00      0.00      0.00        10\n",
            "           0       0.95      0.06      0.12       975\n",
            "           1       0.03      0.62      0.07        40\n",
            "\n",
            "    accuracy                           0.08      1025\n",
            "   macro avg       0.33      0.23      0.06      1025\n",
            "weighted avg       0.91      0.08      0.12      1025\n",
            "\n"
          ]
        },
        {
          "name": "stderr",
          "output_type": "stream",
          "text": [
            "/usr/local/lib/python3.11/dist-packages/keras/src/layers/core/embedding.py:90: UserWarning: Argument `input_length` is deprecated. Just remove it.\n",
            "  warnings.warn(\n",
            "/usr/local/lib/python3.11/dist-packages/sklearn/metrics/_classification.py:1565: UndefinedMetricWarning: Precision is ill-defined and being set to 0.0 in labels with no predicted samples. Use `zero_division` parameter to control this behavior.\n",
            "  _warn_prf(average, modifier, f\"{metric.capitalize()} is\", len(result))\n",
            "/usr/local/lib/python3.11/dist-packages/sklearn/metrics/_classification.py:1565: UndefinedMetricWarning: Precision is ill-defined and being set to 0.0 in labels with no predicted samples. Use `zero_division` parameter to control this behavior.\n",
            "  _warn_prf(average, modifier, f\"{metric.capitalize()} is\", len(result))\n",
            "/usr/local/lib/python3.11/dist-packages/sklearn/metrics/_classification.py:1565: UndefinedMetricWarning: Precision is ill-defined and being set to 0.0 in labels with no predicted samples. Use `zero_division` parameter to control this behavior.\n",
            "  _warn_prf(average, modifier, f\"{metric.capitalize()} is\", len(result))\n",
            "/usr/local/lib/python3.11/dist-packages/sklearn/metrics/_classification.py:1565: UndefinedMetricWarning: Precision is ill-defined and being set to 0.0 in labels with no predicted samples. Use `zero_division` parameter to control this behavior.\n",
            "  _warn_prf(average, modifier, f\"{metric.capitalize()} is\", len(result))\n",
            "/usr/local/lib/python3.11/dist-packages/sklearn/metrics/_classification.py:1565: UndefinedMetricWarning: Precision is ill-defined and being set to 0.0 in labels with no predicted samples. Use `zero_division` parameter to control this behavior.\n",
            "  _warn_prf(average, modifier, f\"{metric.capitalize()} is\", len(result))\n",
            "/usr/local/lib/python3.11/dist-packages/sklearn/metrics/_classification.py:1565: UndefinedMetricWarning: Precision is ill-defined and being set to 0.0 in labels with no predicted samples. Use `zero_division` parameter to control this behavior.\n",
            "  _warn_prf(average, modifier, f\"{metric.capitalize()} is\", len(result))\n",
            "/usr/local/lib/python3.11/dist-packages/keras/src/layers/core/embedding.py:90: UserWarning: Argument `input_length` is deprecated. Just remove it.\n",
            "  warnings.warn(\n"
          ]
        },
        {
          "name": "stdout",
          "output_type": "stream",
          "text": [
            "\n",
            "Fold 2 Results:\n",
            "              precision    recall  f1-score   support\n",
            "\n",
            "          -1       0.02      0.82      0.04        11\n",
            "           0       0.00      0.00      0.00       974\n",
            "           1       0.04      0.51      0.07        39\n",
            "\n",
            "    accuracy                           0.03      1024\n",
            "   macro avg       0.02      0.44      0.04      1024\n",
            "weighted avg       0.00      0.03      0.00      1024\n",
            "\n",
            "\n",
            "Fold 3 Results:\n",
            "              precision    recall  f1-score   support\n",
            "\n",
            "          -1       0.00      0.00      0.00        11\n",
            "           0       0.96      0.45      0.61       974\n",
            "           1       0.04      0.56      0.08        39\n",
            "\n",
            "    accuracy                           0.45      1024\n",
            "   macro avg       0.33      0.34      0.23      1024\n",
            "weighted avg       0.92      0.45      0.59      1024\n",
            "\n"
          ]
        },
        {
          "name": "stderr",
          "output_type": "stream",
          "text": [
            "/usr/local/lib/python3.11/dist-packages/keras/src/layers/core/embedding.py:90: UserWarning: Argument `input_length` is deprecated. Just remove it.\n",
            "  warnings.warn(\n"
          ]
        },
        {
          "name": "stdout",
          "output_type": "stream",
          "text": [
            "\n",
            "Fold 4 Results:\n",
            "              precision    recall  f1-score   support\n",
            "\n",
            "          -1       0.02      0.27      0.04        11\n",
            "           0       0.98      0.28      0.44       974\n",
            "           1       0.04      0.56      0.07        39\n",
            "\n",
            "    accuracy                           0.29      1024\n",
            "   macro avg       0.34      0.37      0.18      1024\n",
            "weighted avg       0.93      0.29      0.42      1024\n",
            "\n"
          ]
        },
        {
          "name": "stderr",
          "output_type": "stream",
          "text": [
            "/usr/local/lib/python3.11/dist-packages/keras/src/layers/core/embedding.py:90: UserWarning: Argument `input_length` is deprecated. Just remove it.\n",
            "  warnings.warn(\n"
          ]
        },
        {
          "name": "stdout",
          "output_type": "stream",
          "text": [
            "\n",
            "Fold 5 Results:\n",
            "              precision    recall  f1-score   support\n",
            "\n",
            "          -1       0.01      0.10      0.01        10\n",
            "           0       0.97      0.06      0.12       974\n",
            "           1       0.04      0.75      0.07        40\n",
            "\n",
            "    accuracy                           0.09      1024\n",
            "   macro avg       0.34      0.30      0.07      1024\n",
            "weighted avg       0.92      0.09      0.11      1024\n",
            "\n",
            "Mean Accuracy: 0.1890 (±0.1586)\n",
            "\n",
            "Analyzing aspect: excitement\n",
            "\n",
            "Using undersample sampling:\n"
          ]
        },
        {
          "name": "stderr",
          "output_type": "stream",
          "text": [
            "/usr/local/lib/python3.11/dist-packages/keras/src/layers/core/embedding.py:90: UserWarning: Argument `input_length` is deprecated. Just remove it.\n",
            "  warnings.warn(\n"
          ]
        },
        {
          "name": "stdout",
          "output_type": "stream",
          "text": [
            "\n",
            "Fold 1 Results:\n",
            "              precision    recall  f1-score   support\n",
            "\n",
            "          -1       0.19      0.36      0.24       152\n",
            "           0       0.59      0.34      0.43       583\n",
            "           1       0.37      0.51      0.43       290\n",
            "\n",
            "    accuracy                           0.39      1025\n",
            "   macro avg       0.38      0.40      0.37      1025\n",
            "weighted avg       0.47      0.39      0.40      1025\n",
            "\n"
          ]
        },
        {
          "name": "stderr",
          "output_type": "stream",
          "text": [
            "/usr/local/lib/python3.11/dist-packages/keras/src/layers/core/embedding.py:90: UserWarning: Argument `input_length` is deprecated. Just remove it.\n",
            "  warnings.warn(\n"
          ]
        },
        {
          "name": "stdout",
          "output_type": "stream",
          "text": [
            "\n",
            "Fold 2 Results:\n",
            "              precision    recall  f1-score   support\n",
            "\n",
            "          -1       0.22      0.24      0.23       152\n",
            "           0       0.65      0.57      0.61       583\n",
            "           1       0.38      0.46      0.42       289\n",
            "\n",
            "    accuracy                           0.49      1024\n",
            "   macro avg       0.42      0.42      0.42      1024\n",
            "weighted avg       0.51      0.49      0.50      1024\n",
            "\n"
          ]
        },
        {
          "name": "stderr",
          "output_type": "stream",
          "text": [
            "/usr/local/lib/python3.11/dist-packages/keras/src/layers/core/embedding.py:90: UserWarning: Argument `input_length` is deprecated. Just remove it.\n",
            "  warnings.warn(\n"
          ]
        },
        {
          "name": "stdout",
          "output_type": "stream",
          "text": [
            "\n",
            "Fold 3 Results:\n",
            "              precision    recall  f1-score   support\n",
            "\n",
            "          -1       0.21      0.46      0.29       151\n",
            "           0       0.62      0.37      0.46       583\n",
            "           1       0.35      0.42      0.38       290\n",
            "\n",
            "    accuracy                           0.40      1024\n",
            "   macro avg       0.39      0.42      0.38      1024\n",
            "weighted avg       0.48      0.40      0.41      1024\n",
            "\n"
          ]
        },
        {
          "name": "stderr",
          "output_type": "stream",
          "text": [
            "/usr/local/lib/python3.11/dist-packages/keras/src/layers/core/embedding.py:90: UserWarning: Argument `input_length` is deprecated. Just remove it.\n",
            "  warnings.warn(\n"
          ]
        },
        {
          "name": "stdout",
          "output_type": "stream",
          "text": [
            "\n",
            "Fold 4 Results:\n",
            "              precision    recall  f1-score   support\n",
            "\n",
            "          -1       0.22      0.25      0.24       152\n",
            "           0       0.64      0.41      0.50       582\n",
            "           1       0.36      0.59      0.45       290\n",
            "\n",
            "    accuracy                           0.44      1024\n",
            "   macro avg       0.41      0.42      0.39      1024\n",
            "weighted avg       0.50      0.44      0.44      1024\n",
            "\n"
          ]
        },
        {
          "name": "stderr",
          "output_type": "stream",
          "text": [
            "/usr/local/lib/python3.11/dist-packages/keras/src/layers/core/embedding.py:90: UserWarning: Argument `input_length` is deprecated. Just remove it.\n",
            "  warnings.warn(\n"
          ]
        },
        {
          "name": "stdout",
          "output_type": "stream",
          "text": [
            "\n",
            "Fold 5 Results:\n",
            "              precision    recall  f1-score   support\n",
            "\n",
            "          -1       0.22      0.49      0.31       152\n",
            "           0       0.67      0.41      0.51       582\n",
            "           1       0.42      0.50      0.46       290\n",
            "\n",
            "    accuracy                           0.44      1024\n",
            "   macro avg       0.44      0.46      0.42      1024\n",
            "weighted avg       0.54      0.44      0.46      1024\n",
            "\n",
            "Mean Accuracy: 0.4312 (±0.0354)\n",
            "\n",
            "Analyzing aspect: ovr_sent\n",
            "\n",
            "Using undersample sampling:\n"
          ]
        },
        {
          "name": "stderr",
          "output_type": "stream",
          "text": [
            "/usr/local/lib/python3.11/dist-packages/keras/src/layers/core/embedding.py:90: UserWarning: Argument `input_length` is deprecated. Just remove it.\n",
            "  warnings.warn(\n"
          ]
        },
        {
          "name": "stdout",
          "output_type": "stream",
          "text": [
            "\n",
            "Fold 1 Results:\n",
            "              precision    recall  f1-score   support\n",
            "\n",
            "          -1       0.43      0.49      0.46       344\n",
            "           0       0.26      0.44      0.33       152\n",
            "           1       0.63      0.45      0.52       529\n",
            "\n",
            "    accuracy                           0.46      1025\n",
            "   macro avg       0.44      0.46      0.44      1025\n",
            "weighted avg       0.51      0.46      0.47      1025\n",
            "\n"
          ]
        },
        {
          "name": "stderr",
          "output_type": "stream",
          "text": [
            "/usr/local/lib/python3.11/dist-packages/keras/src/layers/core/embedding.py:90: UserWarning: Argument `input_length` is deprecated. Just remove it.\n",
            "  warnings.warn(\n"
          ]
        },
        {
          "name": "stdout",
          "output_type": "stream",
          "text": [
            "\n",
            "Fold 2 Results:\n",
            "              precision    recall  f1-score   support\n",
            "\n",
            "          -1       0.44      0.45      0.45       343\n",
            "           0       0.23      0.72      0.34       152\n",
            "           1       0.65      0.24      0.35       529\n",
            "\n",
            "    accuracy                           0.38      1024\n",
            "   macro avg       0.44      0.47      0.38      1024\n",
            "weighted avg       0.52      0.38      0.38      1024\n",
            "\n"
          ]
        },
        {
          "name": "stderr",
          "output_type": "stream",
          "text": [
            "/usr/local/lib/python3.11/dist-packages/keras/src/layers/core/embedding.py:90: UserWarning: Argument `input_length` is deprecated. Just remove it.\n",
            "  warnings.warn(\n"
          ]
        },
        {
          "name": "stdout",
          "output_type": "stream",
          "text": [
            "\n",
            "Fold 3 Results:\n",
            "              precision    recall  f1-score   support\n",
            "\n",
            "          -1       0.48      0.53      0.50       343\n",
            "           0       0.26      0.49      0.34       153\n",
            "           1       0.66      0.45      0.54       528\n",
            "\n",
            "    accuracy                           0.48      1024\n",
            "   macro avg       0.47      0.49      0.46      1024\n",
            "weighted avg       0.54      0.48      0.50      1024\n",
            "\n"
          ]
        },
        {
          "name": "stderr",
          "output_type": "stream",
          "text": [
            "/usr/local/lib/python3.11/dist-packages/keras/src/layers/core/embedding.py:90: UserWarning: Argument `input_length` is deprecated. Just remove it.\n",
            "  warnings.warn(\n"
          ]
        },
        {
          "name": "stdout",
          "output_type": "stream",
          "text": [
            "\n",
            "Fold 4 Results:\n",
            "              precision    recall  f1-score   support\n",
            "\n",
            "          -1       0.52      0.28      0.37       344\n",
            "           0       0.25      0.51      0.34       152\n",
            "           1       0.64      0.63      0.64       528\n",
            "\n",
            "    accuracy                           0.50      1024\n",
            "   macro avg       0.47      0.48      0.45      1024\n",
            "weighted avg       0.54      0.50      0.50      1024\n",
            "\n"
          ]
        },
        {
          "name": "stderr",
          "output_type": "stream",
          "text": [
            "/usr/local/lib/python3.11/dist-packages/keras/src/layers/core/embedding.py:90: UserWarning: Argument `input_length` is deprecated. Just remove it.\n",
            "  warnings.warn(\n"
          ]
        },
        {
          "name": "stdout",
          "output_type": "stream",
          "text": [
            "\n",
            "Fold 5 Results:\n",
            "              precision    recall  f1-score   support\n",
            "\n",
            "          -1       0.50      0.44      0.47       344\n",
            "           0       0.25      0.46      0.32       152\n",
            "           1       0.62      0.52      0.57       528\n",
            "\n",
            "    accuracy                           0.48      1024\n",
            "   macro avg       0.46      0.47      0.45      1024\n",
            "weighted avg       0.53      0.48      0.50      1024\n",
            "\n",
            "Mean Accuracy: 0.4620 (±0.0422)\n"
          ]
        }
      ],
      "source": [
        "aspects = ['Acting', 'direction', 'Music', 'Genre', 'excitement', 'ovr_sent']\n",
        "sampling_techniques_under = ['undersample']\n",
        "results = analyze_all_aspects_dl(df, aspects, sampling_techniques_under)"
      ]
    },
    {
      "cell_type": "code",
      "execution_count": null,
      "metadata": {
        "colab": {
          "base_uri": "https://localhost:8080/"
        },
        "collapsed": true,
        "id": "-Y10yJARG1aG",
        "outputId": "725c2467-eb94-48b2-d507-f40baed77da9"
      },
      "outputs": [
        {
          "name": "stdout",
          "output_type": "stream",
          "text": [
            "\n",
            "Analyzing aspect: Acting\n",
            "\n",
            "Using oversample sampling:\n"
          ]
        },
        {
          "name": "stderr",
          "output_type": "stream",
          "text": [
            "/usr/local/lib/python3.11/dist-packages/keras/src/layers/core/embedding.py:90: UserWarning: Argument `input_length` is deprecated. Just remove it.\n",
            "  warnings.warn(\n"
          ]
        },
        {
          "name": "stdout",
          "output_type": "stream",
          "text": [
            "\n",
            "Fold 1 Results:\n",
            "              precision    recall  f1-score   support\n",
            "\n",
            "          -1       0.08      0.35      0.13        34\n",
            "           0       0.83      0.54      0.66       770\n",
            "           1       0.31      0.52      0.39       221\n",
            "\n",
            "    accuracy                           0.53      1025\n",
            "   macro avg       0.41      0.47      0.39      1025\n",
            "weighted avg       0.70      0.53      0.58      1025\n",
            "\n"
          ]
        },
        {
          "name": "stderr",
          "output_type": "stream",
          "text": [
            "/usr/local/lib/python3.11/dist-packages/keras/src/layers/core/embedding.py:90: UserWarning: Argument `input_length` is deprecated. Just remove it.\n",
            "  warnings.warn(\n"
          ]
        },
        {
          "name": "stdout",
          "output_type": "stream",
          "text": [
            "\n",
            "Fold 2 Results:\n",
            "              precision    recall  f1-score   support\n",
            "\n",
            "          -1       0.07      0.45      0.12        33\n",
            "           0       0.80      0.53      0.64       769\n",
            "           1       0.32      0.43      0.37       222\n",
            "\n",
            "    accuracy                           0.51      1024\n",
            "   macro avg       0.40      0.47      0.38      1024\n",
            "weighted avg       0.67      0.51      0.56      1024\n",
            "\n"
          ]
        },
        {
          "name": "stderr",
          "output_type": "stream",
          "text": [
            "/usr/local/lib/python3.11/dist-packages/keras/src/layers/core/embedding.py:90: UserWarning: Argument `input_length` is deprecated. Just remove it.\n",
            "  warnings.warn(\n"
          ]
        },
        {
          "name": "stdout",
          "output_type": "stream",
          "text": [
            "\n",
            "Fold 3 Results:\n",
            "              precision    recall  f1-score   support\n",
            "\n",
            "          -1       0.05      0.45      0.09        33\n",
            "           0       0.82      0.33      0.47       769\n",
            "           1       0.26      0.48      0.33       222\n",
            "\n",
            "    accuracy                           0.37      1024\n",
            "   macro avg       0.37      0.42      0.30      1024\n",
            "weighted avg       0.67      0.37      0.43      1024\n",
            "\n"
          ]
        },
        {
          "name": "stderr",
          "output_type": "stream",
          "text": [
            "/usr/local/lib/python3.11/dist-packages/keras/src/layers/core/embedding.py:90: UserWarning: Argument `input_length` is deprecated. Just remove it.\n",
            "  warnings.warn(\n"
          ]
        },
        {
          "name": "stdout",
          "output_type": "stream",
          "text": [
            "\n",
            "Fold 4 Results:\n",
            "              precision    recall  f1-score   support\n",
            "\n",
            "          -1       0.04      0.24      0.07        33\n",
            "           0       0.82      0.58      0.68       769\n",
            "           1       0.35      0.42      0.38       222\n",
            "\n",
            "    accuracy                           0.53      1024\n",
            "   macro avg       0.40      0.41      0.37      1024\n",
            "weighted avg       0.69      0.53      0.59      1024\n",
            "\n"
          ]
        },
        {
          "name": "stderr",
          "output_type": "stream",
          "text": [
            "/usr/local/lib/python3.11/dist-packages/keras/src/layers/core/embedding.py:90: UserWarning: Argument `input_length` is deprecated. Just remove it.\n",
            "  warnings.warn(\n"
          ]
        },
        {
          "name": "stdout",
          "output_type": "stream",
          "text": [
            "\n",
            "Fold 5 Results:\n",
            "              precision    recall  f1-score   support\n",
            "\n",
            "          -1       0.05      0.32      0.09        34\n",
            "           0       0.81      0.47      0.60       769\n",
            "           1       0.29      0.48      0.36       221\n",
            "\n",
            "    accuracy                           0.47      1024\n",
            "   macro avg       0.39      0.43      0.35      1024\n",
            "weighted avg       0.68      0.47      0.53      1024\n",
            "\n",
            "Mean Accuracy: 0.4821 (±0.0616)\n",
            "\n",
            "Analyzing aspect: direction\n",
            "\n",
            "Using oversample sampling:\n"
          ]
        },
        {
          "name": "stderr",
          "output_type": "stream",
          "text": [
            "/usr/local/lib/python3.11/dist-packages/keras/src/layers/core/embedding.py:90: UserWarning: Argument `input_length` is deprecated. Just remove it.\n",
            "  warnings.warn(\n"
          ]
        },
        {
          "name": "stdout",
          "output_type": "stream",
          "text": [
            "\n",
            "Fold 1 Results:\n",
            "              precision    recall  f1-score   support\n",
            "\n",
            "          -1       0.23      0.35      0.28       139\n",
            "           0       0.85      0.61      0.71       824\n",
            "           1       0.07      0.24      0.10        62\n",
            "\n",
            "    accuracy                           0.55      1025\n",
            "   macro avg       0.38      0.40      0.37      1025\n",
            "weighted avg       0.72      0.55      0.62      1025\n",
            "\n"
          ]
        },
        {
          "name": "stderr",
          "output_type": "stream",
          "text": [
            "/usr/local/lib/python3.11/dist-packages/keras/src/layers/core/embedding.py:90: UserWarning: Argument `input_length` is deprecated. Just remove it.\n",
            "  warnings.warn(\n"
          ]
        },
        {
          "name": "stdout",
          "output_type": "stream",
          "text": [
            "\n",
            "Fold 2 Results:\n",
            "              precision    recall  f1-score   support\n",
            "\n",
            "          -1       0.22      0.41      0.29       138\n",
            "           0       0.87      0.50      0.64       824\n",
            "           1       0.08      0.39      0.13        62\n",
            "\n",
            "    accuracy                           0.48      1024\n",
            "   macro avg       0.39      0.43      0.35      1024\n",
            "weighted avg       0.74      0.48      0.56      1024\n",
            "\n"
          ]
        },
        {
          "name": "stderr",
          "output_type": "stream",
          "text": [
            "/usr/local/lib/python3.11/dist-packages/keras/src/layers/core/embedding.py:90: UserWarning: Argument `input_length` is deprecated. Just remove it.\n",
            "  warnings.warn(\n"
          ]
        },
        {
          "name": "stdout",
          "output_type": "stream",
          "text": [
            "\n",
            "Fold 3 Results:\n",
            "              precision    recall  f1-score   support\n",
            "\n",
            "          -1       0.25      0.46      0.32       139\n",
            "           0       0.86      0.63      0.73       823\n",
            "           1       0.10      0.26      0.14        62\n",
            "\n",
            "    accuracy                           0.59      1024\n",
            "   macro avg       0.40      0.45      0.40      1024\n",
            "weighted avg       0.73      0.59      0.64      1024\n",
            "\n"
          ]
        },
        {
          "name": "stderr",
          "output_type": "stream",
          "text": [
            "/usr/local/lib/python3.11/dist-packages/keras/src/layers/core/embedding.py:90: UserWarning: Argument `input_length` is deprecated. Just remove it.\n",
            "  warnings.warn(\n"
          ]
        },
        {
          "name": "stdout",
          "output_type": "stream",
          "text": [
            "\n",
            "Fold 4 Results:\n",
            "              precision    recall  f1-score   support\n",
            "\n",
            "          -1       0.24      0.44      0.31       139\n",
            "           0       0.85      0.62      0.72       823\n",
            "           1       0.08      0.21      0.11        62\n",
            "\n",
            "    accuracy                           0.57      1024\n",
            "   macro avg       0.39      0.42      0.38      1024\n",
            "weighted avg       0.72      0.57      0.63      1024\n",
            "\n"
          ]
        },
        {
          "name": "stderr",
          "output_type": "stream",
          "text": [
            "/usr/local/lib/python3.11/dist-packages/keras/src/layers/core/embedding.py:90: UserWarning: Argument `input_length` is deprecated. Just remove it.\n",
            "  warnings.warn(\n"
          ]
        },
        {
          "name": "stdout",
          "output_type": "stream",
          "text": [
            "\n",
            "Fold 5 Results:\n",
            "              precision    recall  f1-score   support\n",
            "\n",
            "          -1       0.21      0.39      0.27       139\n",
            "           0       0.86      0.56      0.68       823\n",
            "           1       0.06      0.24      0.10        62\n",
            "\n",
            "    accuracy                           0.51      1024\n",
            "   macro avg       0.38      0.40      0.35      1024\n",
            "weighted avg       0.72      0.51      0.59      1024\n",
            "\n",
            "Mean Accuracy: 0.5415 (±0.0390)\n",
            "\n",
            "Analyzing aspect: Music\n",
            "\n",
            "Using oversample sampling:\n"
          ]
        },
        {
          "name": "stderr",
          "output_type": "stream",
          "text": [
            "/usr/local/lib/python3.11/dist-packages/keras/src/layers/core/embedding.py:90: UserWarning: Argument `input_length` is deprecated. Just remove it.\n",
            "  warnings.warn(\n"
          ]
        },
        {
          "name": "stdout",
          "output_type": "stream",
          "text": [
            "\n",
            "Fold 1 Results:\n",
            "              precision    recall  f1-score   support\n",
            "\n",
            "          -1       0.02      0.14      0.04        22\n",
            "           0       0.89      0.64      0.74       897\n",
            "           1       0.14      0.35      0.20       106\n",
            "\n",
            "    accuracy                           0.60      1025\n",
            "   macro avg       0.35      0.37      0.33      1025\n",
            "weighted avg       0.80      0.60      0.67      1025\n",
            "\n"
          ]
        },
        {
          "name": "stderr",
          "output_type": "stream",
          "text": [
            "/usr/local/lib/python3.11/dist-packages/keras/src/layers/core/embedding.py:90: UserWarning: Argument `input_length` is deprecated. Just remove it.\n",
            "  warnings.warn(\n"
          ]
        },
        {
          "name": "stdout",
          "output_type": "stream",
          "text": [
            "\n",
            "Fold 2 Results:\n",
            "              precision    recall  f1-score   support\n",
            "\n",
            "          -1       0.03      0.33      0.06        21\n",
            "           0       0.93      0.54      0.68       897\n",
            "           1       0.15      0.38      0.21       106\n",
            "\n",
            "    accuracy                           0.52      1024\n",
            "   macro avg       0.37      0.42      0.32      1024\n",
            "weighted avg       0.83      0.52      0.62      1024\n",
            "\n"
          ]
        },
        {
          "name": "stderr",
          "output_type": "stream",
          "text": [
            "/usr/local/lib/python3.11/dist-packages/keras/src/layers/core/embedding.py:90: UserWarning: Argument `input_length` is deprecated. Just remove it.\n",
            "  warnings.warn(\n"
          ]
        },
        {
          "name": "stdout",
          "output_type": "stream",
          "text": [
            "\n",
            "Fold 3 Results:\n",
            "              precision    recall  f1-score   support\n",
            "\n",
            "          -1       0.02      0.19      0.03        21\n",
            "           0       0.90      0.55      0.68       897\n",
            "           1       0.15      0.31      0.20       106\n",
            "\n",
            "    accuracy                           0.52      1024\n",
            "   macro avg       0.35      0.35      0.30      1024\n",
            "weighted avg       0.80      0.52      0.62      1024\n",
            "\n"
          ]
        },
        {
          "name": "stderr",
          "output_type": "stream",
          "text": [
            "/usr/local/lib/python3.11/dist-packages/keras/src/layers/core/embedding.py:90: UserWarning: Argument `input_length` is deprecated. Just remove it.\n",
            "  warnings.warn(\n"
          ]
        },
        {
          "name": "stdout",
          "output_type": "stream",
          "text": [
            "\n",
            "Fold 4 Results:\n",
            "              precision    recall  f1-score   support\n",
            "\n",
            "          -1       0.03      0.19      0.05        21\n",
            "           0       0.91      0.63      0.75       897\n",
            "           1       0.14      0.37      0.21       106\n",
            "\n",
            "    accuracy                           0.60      1024\n",
            "   macro avg       0.36      0.40      0.34      1024\n",
            "weighted avg       0.82      0.60      0.68      1024\n",
            "\n"
          ]
        },
        {
          "name": "stderr",
          "output_type": "stream",
          "text": [
            "/usr/local/lib/python3.11/dist-packages/keras/src/layers/core/embedding.py:90: UserWarning: Argument `input_length` is deprecated. Just remove it.\n",
            "  warnings.warn(\n"
          ]
        },
        {
          "name": "stdout",
          "output_type": "stream",
          "text": [
            "\n",
            "Fold 5 Results:\n",
            "              precision    recall  f1-score   support\n",
            "\n",
            "          -1       0.03      0.32      0.06        22\n",
            "           0       0.92      0.54      0.68       896\n",
            "           1       0.15      0.40      0.22       106\n",
            "\n",
            "    accuracy                           0.52      1024\n",
            "   macro avg       0.37      0.42      0.32      1024\n",
            "weighted avg       0.82      0.52      0.62      1024\n",
            "\n",
            "Mean Accuracy: 0.5511 (±0.0367)\n",
            "\n",
            "Analyzing aspect: Genre\n",
            "\n",
            "Using oversample sampling:\n"
          ]
        },
        {
          "name": "stderr",
          "output_type": "stream",
          "text": [
            "/usr/local/lib/python3.11/dist-packages/keras/src/layers/core/embedding.py:90: UserWarning: Argument `input_length` is deprecated. Just remove it.\n",
            "  warnings.warn(\n"
          ]
        },
        {
          "name": "stdout",
          "output_type": "stream",
          "text": [
            "\n",
            "Fold 1 Results:\n",
            "              precision    recall  f1-score   support\n",
            "\n",
            "          -1       0.01      0.10      0.01        10\n",
            "           0       0.96      0.62      0.76       975\n",
            "           1       0.06      0.40      0.11        40\n",
            "\n",
            "    accuracy                           0.61      1025\n",
            "   macro avg       0.34      0.37      0.29      1025\n",
            "weighted avg       0.91      0.61      0.72      1025\n",
            "\n"
          ]
        },
        {
          "name": "stderr",
          "output_type": "stream",
          "text": [
            "/usr/local/lib/python3.11/dist-packages/keras/src/layers/core/embedding.py:90: UserWarning: Argument `input_length` is deprecated. Just remove it.\n",
            "  warnings.warn(\n"
          ]
        },
        {
          "name": "stdout",
          "output_type": "stream",
          "text": [
            "\n",
            "Fold 2 Results:\n",
            "              precision    recall  f1-score   support\n",
            "\n",
            "          -1       0.00      0.00      0.00        11\n",
            "           0       0.95      0.64      0.76       974\n",
            "           1       0.05      0.28      0.09        39\n",
            "\n",
            "    accuracy                           0.62      1024\n",
            "   macro avg       0.33      0.31      0.28      1024\n",
            "weighted avg       0.91      0.62      0.73      1024\n",
            "\n"
          ]
        },
        {
          "name": "stderr",
          "output_type": "stream",
          "text": [
            "/usr/local/lib/python3.11/dist-packages/keras/src/layers/core/embedding.py:90: UserWarning: Argument `input_length` is deprecated. Just remove it.\n",
            "  warnings.warn(\n"
          ]
        },
        {
          "name": "stdout",
          "output_type": "stream",
          "text": [
            "\n",
            "Fold 3 Results:\n",
            "              precision    recall  f1-score   support\n",
            "\n",
            "          -1       0.01      0.09      0.02        11\n",
            "           0       0.95      0.65      0.77       974\n",
            "           1       0.02      0.15      0.04        39\n",
            "\n",
            "    accuracy                           0.62      1024\n",
            "   macro avg       0.33      0.30      0.28      1024\n",
            "weighted avg       0.90      0.62      0.73      1024\n",
            "\n"
          ]
        },
        {
          "name": "stderr",
          "output_type": "stream",
          "text": [
            "/usr/local/lib/python3.11/dist-packages/keras/src/layers/core/embedding.py:90: UserWarning: Argument `input_length` is deprecated. Just remove it.\n",
            "  warnings.warn(\n"
          ]
        },
        {
          "name": "stdout",
          "output_type": "stream",
          "text": [
            "\n",
            "Fold 4 Results:\n",
            "              precision    recall  f1-score   support\n",
            "\n",
            "          -1       0.00      0.00      0.00        11\n",
            "           0       0.97      0.67      0.79       974\n",
            "           1       0.07      0.41      0.11        39\n",
            "\n",
            "    accuracy                           0.65      1024\n",
            "   macro avg       0.34      0.36      0.30      1024\n",
            "weighted avg       0.92      0.65      0.75      1024\n",
            "\n"
          ]
        },
        {
          "name": "stderr",
          "output_type": "stream",
          "text": [
            "/usr/local/lib/python3.11/dist-packages/keras/src/layers/core/embedding.py:90: UserWarning: Argument `input_length` is deprecated. Just remove it.\n",
            "  warnings.warn(\n"
          ]
        },
        {
          "name": "stdout",
          "output_type": "stream",
          "text": [
            "\n",
            "Fold 5 Results:\n",
            "              precision    recall  f1-score   support\n",
            "\n",
            "          -1       0.02      0.30      0.04        10\n",
            "           0       0.95      0.71      0.81       974\n",
            "           1       0.04      0.17      0.07        40\n",
            "\n",
            "    accuracy                           0.68      1024\n",
            "   macro avg       0.34      0.39      0.31      1024\n",
            "weighted avg       0.91      0.68      0.78      1024\n",
            "\n",
            "Mean Accuracy: 0.6370 (±0.0270)\n",
            "\n",
            "Analyzing aspect: excitement\n",
            "\n",
            "Using oversample sampling:\n"
          ]
        },
        {
          "name": "stderr",
          "output_type": "stream",
          "text": [
            "/usr/local/lib/python3.11/dist-packages/keras/src/layers/core/embedding.py:90: UserWarning: Argument `input_length` is deprecated. Just remove it.\n",
            "  warnings.warn(\n"
          ]
        },
        {
          "name": "stdout",
          "output_type": "stream",
          "text": [
            "\n",
            "Fold 1 Results:\n",
            "              precision    recall  f1-score   support\n",
            "\n",
            "          -1       0.18      0.39      0.25       152\n",
            "           0       0.61      0.40      0.48       583\n",
            "           1       0.41      0.46      0.44       290\n",
            "\n",
            "    accuracy                           0.42      1025\n",
            "   macro avg       0.40      0.42      0.39      1025\n",
            "weighted avg       0.49      0.42      0.44      1025\n",
            "\n"
          ]
        },
        {
          "name": "stderr",
          "output_type": "stream",
          "text": [
            "/usr/local/lib/python3.11/dist-packages/keras/src/layers/core/embedding.py:90: UserWarning: Argument `input_length` is deprecated. Just remove it.\n",
            "  warnings.warn(\n"
          ]
        },
        {
          "name": "stdout",
          "output_type": "stream",
          "text": [
            "\n",
            "Fold 2 Results:\n",
            "              precision    recall  f1-score   support\n",
            "\n",
            "          -1       0.20      0.39      0.26       152\n",
            "           0       0.66      0.42      0.51       583\n",
            "           1       0.42      0.52      0.47       289\n",
            "\n",
            "    accuracy                           0.44      1024\n",
            "   macro avg       0.43      0.44      0.41      1024\n",
            "weighted avg       0.53      0.44      0.46      1024\n",
            "\n"
          ]
        },
        {
          "name": "stderr",
          "output_type": "stream",
          "text": [
            "/usr/local/lib/python3.11/dist-packages/keras/src/layers/core/embedding.py:90: UserWarning: Argument `input_length` is deprecated. Just remove it.\n",
            "  warnings.warn(\n"
          ]
        },
        {
          "name": "stdout",
          "output_type": "stream",
          "text": [
            "\n",
            "Fold 3 Results:\n",
            "              precision    recall  f1-score   support\n",
            "\n",
            "          -1       0.23      0.31      0.27       151\n",
            "           0       0.60      0.42      0.50       583\n",
            "           1       0.36      0.51      0.42       290\n",
            "\n",
            "    accuracy                           0.43      1024\n",
            "   macro avg       0.40      0.42      0.40      1024\n",
            "weighted avg       0.48      0.43      0.44      1024\n",
            "\n"
          ]
        },
        {
          "name": "stderr",
          "output_type": "stream",
          "text": [
            "/usr/local/lib/python3.11/dist-packages/keras/src/layers/core/embedding.py:90: UserWarning: Argument `input_length` is deprecated. Just remove it.\n",
            "  warnings.warn(\n"
          ]
        },
        {
          "name": "stdout",
          "output_type": "stream",
          "text": [
            "\n",
            "Fold 4 Results:\n",
            "              precision    recall  f1-score   support\n",
            "\n",
            "          -1       0.20      0.49      0.29       152\n",
            "           0       0.63      0.39      0.48       582\n",
            "           1       0.43      0.42      0.42       290\n",
            "\n",
            "    accuracy                           0.42      1024\n",
            "   macro avg       0.42      0.44      0.40      1024\n",
            "weighted avg       0.51      0.42      0.44      1024\n",
            "\n"
          ]
        },
        {
          "name": "stderr",
          "output_type": "stream",
          "text": [
            "/usr/local/lib/python3.11/dist-packages/keras/src/layers/core/embedding.py:90: UserWarning: Argument `input_length` is deprecated. Just remove it.\n",
            "  warnings.warn(\n"
          ]
        },
        {
          "name": "stdout",
          "output_type": "stream",
          "text": [
            "\n",
            "Fold 5 Results:\n",
            "              precision    recall  f1-score   support\n",
            "\n",
            "          -1       0.20      0.55      0.29       152\n",
            "           0       0.64      0.45      0.53       582\n",
            "           1       0.47      0.32      0.38       290\n",
            "\n",
            "    accuracy                           0.43      1024\n",
            "   macro avg       0.44      0.44      0.40      1024\n",
            "weighted avg       0.53      0.43      0.45      1024\n",
            "\n",
            "Mean Accuracy: 0.4265 (±0.0104)\n",
            "\n",
            "Analyzing aspect: ovr_sent\n",
            "\n",
            "Using oversample sampling:\n"
          ]
        },
        {
          "name": "stderr",
          "output_type": "stream",
          "text": [
            "/usr/local/lib/python3.11/dist-packages/keras/src/layers/core/embedding.py:90: UserWarning: Argument `input_length` is deprecated. Just remove it.\n",
            "  warnings.warn(\n"
          ]
        },
        {
          "name": "stdout",
          "output_type": "stream",
          "text": [
            "\n",
            "Fold 1 Results:\n",
            "              precision    recall  f1-score   support\n",
            "\n",
            "          -1       0.49      0.32      0.39       344\n",
            "           0       0.25      0.53      0.34       152\n",
            "           1       0.65      0.58      0.61       529\n",
            "\n",
            "    accuracy                           0.48      1025\n",
            "   macro avg       0.46      0.48      0.45      1025\n",
            "weighted avg       0.53      0.48      0.50      1025\n",
            "\n"
          ]
        },
        {
          "name": "stderr",
          "output_type": "stream",
          "text": [
            "/usr/local/lib/python3.11/dist-packages/keras/src/layers/core/embedding.py:90: UserWarning: Argument `input_length` is deprecated. Just remove it.\n",
            "  warnings.warn(\n"
          ]
        },
        {
          "name": "stdout",
          "output_type": "stream",
          "text": [
            "\n",
            "Fold 2 Results:\n",
            "              precision    recall  f1-score   support\n",
            "\n",
            "          -1       0.54      0.34      0.42       343\n",
            "           0       0.23      0.56      0.33       152\n",
            "           1       0.63      0.51      0.56       529\n",
            "\n",
            "    accuracy                           0.46      1024\n",
            "   macro avg       0.46      0.47      0.44      1024\n",
            "weighted avg       0.54      0.46      0.48      1024\n",
            "\n"
          ]
        },
        {
          "name": "stderr",
          "output_type": "stream",
          "text": [
            "/usr/local/lib/python3.11/dist-packages/keras/src/layers/core/embedding.py:90: UserWarning: Argument `input_length` is deprecated. Just remove it.\n",
            "  warnings.warn(\n"
          ]
        },
        {
          "name": "stdout",
          "output_type": "stream",
          "text": [
            "\n",
            "Fold 3 Results:\n",
            "              precision    recall  f1-score   support\n",
            "\n",
            "          -1       0.50      0.49      0.50       343\n",
            "           0       0.26      0.51      0.35       153\n",
            "           1       0.69      0.51      0.59       528\n",
            "\n",
            "    accuracy                           0.50      1024\n",
            "   macro avg       0.49      0.50      0.48      1024\n",
            "weighted avg       0.56      0.50      0.52      1024\n",
            "\n"
          ]
        },
        {
          "name": "stderr",
          "output_type": "stream",
          "text": [
            "/usr/local/lib/python3.11/dist-packages/keras/src/layers/core/embedding.py:90: UserWarning: Argument `input_length` is deprecated. Just remove it.\n",
            "  warnings.warn(\n"
          ]
        },
        {
          "name": "stdout",
          "output_type": "stream",
          "text": [
            "\n",
            "Fold 4 Results:\n",
            "              precision    recall  f1-score   support\n",
            "\n",
            "          -1       0.47      0.50      0.49       344\n",
            "           0       0.26      0.41      0.32       152\n",
            "           1       0.70      0.56      0.62       528\n",
            "\n",
            "    accuracy                           0.52      1024\n",
            "   macro avg       0.48      0.49      0.48      1024\n",
            "weighted avg       0.56      0.52      0.53      1024\n",
            "\n"
          ]
        },
        {
          "name": "stderr",
          "output_type": "stream",
          "text": [
            "/usr/local/lib/python3.11/dist-packages/keras/src/layers/core/embedding.py:90: UserWarning: Argument `input_length` is deprecated. Just remove it.\n",
            "  warnings.warn(\n"
          ]
        },
        {
          "name": "stdout",
          "output_type": "stream",
          "text": [
            "\n",
            "Fold 5 Results:\n",
            "              precision    recall  f1-score   support\n",
            "\n",
            "          -1       0.51      0.56      0.53       344\n",
            "           0       0.22      0.51      0.30       152\n",
            "           1       0.71      0.40      0.51       528\n",
            "\n",
            "    accuracy                           0.47      1024\n",
            "   macro avg       0.48      0.49      0.45      1024\n",
            "weighted avg       0.57      0.47      0.49      1024\n",
            "\n",
            "Mean Accuracy: 0.4876 (±0.0202)\n"
          ]
        }
      ],
      "source": [
        "sampling_techniques_over = ['oversample']\n",
        "results = analyze_all_aspects_dl(df, aspects, sampling_techniques_over)"
      ]
    },
    {
      "cell_type": "markdown",
      "metadata": {
        "id": "kLy5oDh8qzIG"
      },
      "source": [
        "Dravidian embedding word 2 vec"
      ]
    },
    {
      "cell_type": "code",
      "execution_count": null,
      "metadata": {
        "colab": {
          "base_uri": "https://localhost:8080/"
        },
        "collapsed": true,
        "id": "wx8XdmZvp8EX",
        "outputId": "9f2c3060-fc1c-4267-e9b2-02a7b2b34a51"
      },
      "outputs": [
        {
          "name": "stdout",
          "output_type": "stream",
          "text": [
            "\n",
            "Analyzing aspect: Acting\n",
            "\n",
            "Using undersample sampling:\n"
          ]
        },
        {
          "name": "stderr",
          "output_type": "stream",
          "text": [
            "/usr/local/lib/python3.11/dist-packages/keras/src/layers/core/embedding.py:90: UserWarning: Argument `input_length` is deprecated. Just remove it.\n",
            "  warnings.warn(\n"
          ]
        },
        {
          "name": "stdout",
          "output_type": "stream",
          "text": [
            "\n",
            "Fold 1 Results:\n",
            "              precision    recall  f1-score   support\n",
            "\n",
            "          -1       0.07      0.35      0.12        34\n",
            "           0       0.93      0.42      0.58       770\n",
            "           1       0.38      0.88      0.53       221\n",
            "\n",
            "    accuracy                           0.52      1025\n",
            "   macro avg       0.46      0.55      0.41      1025\n",
            "weighted avg       0.79      0.52      0.55      1025\n",
            "\n"
          ]
        },
        {
          "name": "stderr",
          "output_type": "stream",
          "text": [
            "/usr/local/lib/python3.11/dist-packages/keras/src/layers/core/embedding.py:90: UserWarning: Argument `input_length` is deprecated. Just remove it.\n",
            "  warnings.warn(\n"
          ]
        },
        {
          "name": "stdout",
          "output_type": "stream",
          "text": [
            "\n",
            "Fold 2 Results:\n",
            "              precision    recall  f1-score   support\n",
            "\n",
            "          -1       0.10      0.67      0.18        33\n",
            "           0       0.93      0.52      0.67       769\n",
            "           1       0.48      0.81      0.60       222\n",
            "\n",
            "    accuracy                           0.59      1024\n",
            "   macro avg       0.50      0.67      0.48      1024\n",
            "weighted avg       0.80      0.59      0.64      1024\n",
            "\n"
          ]
        },
        {
          "name": "stderr",
          "output_type": "stream",
          "text": [
            "/usr/local/lib/python3.11/dist-packages/keras/src/layers/core/embedding.py:90: UserWarning: Argument `input_length` is deprecated. Just remove it.\n",
            "  warnings.warn(\n"
          ]
        },
        {
          "name": "stdout",
          "output_type": "stream",
          "text": [
            "\n",
            "Fold 3 Results:\n",
            "              precision    recall  f1-score   support\n",
            "\n",
            "          -1       0.07      0.85      0.13        33\n",
            "           0       0.93      0.34      0.50       769\n",
            "           1       0.44      0.67      0.53       222\n",
            "\n",
            "    accuracy                           0.43      1024\n",
            "   macro avg       0.48      0.62      0.39      1024\n",
            "weighted avg       0.80      0.43      0.49      1024\n",
            "\n"
          ]
        },
        {
          "name": "stderr",
          "output_type": "stream",
          "text": [
            "/usr/local/lib/python3.11/dist-packages/keras/src/layers/core/embedding.py:90: UserWarning: Argument `input_length` is deprecated. Just remove it.\n",
            "  warnings.warn(\n"
          ]
        },
        {
          "name": "stdout",
          "output_type": "stream",
          "text": [
            "\n",
            "Fold 4 Results:\n",
            "              precision    recall  f1-score   support\n",
            "\n",
            "          -1       0.07      0.58      0.12        33\n",
            "           0       0.93      0.38      0.54       769\n",
            "           1       0.41      0.80      0.54       222\n",
            "\n",
            "    accuracy                           0.48      1024\n",
            "   macro avg       0.47      0.58      0.40      1024\n",
            "weighted avg       0.79      0.48      0.53      1024\n",
            "\n"
          ]
        },
        {
          "name": "stderr",
          "output_type": "stream",
          "text": [
            "/usr/local/lib/python3.11/dist-packages/keras/src/layers/core/embedding.py:90: UserWarning: Argument `input_length` is deprecated. Just remove it.\n",
            "  warnings.warn(\n"
          ]
        },
        {
          "name": "stdout",
          "output_type": "stream",
          "text": [
            "\n",
            "Fold 5 Results:\n",
            "              precision    recall  f1-score   support\n",
            "\n",
            "          -1       0.11      0.47      0.17        34\n",
            "           0       0.89      0.72      0.80       769\n",
            "           1       0.55      0.62      0.58       221\n",
            "\n",
            "    accuracy                           0.69      1024\n",
            "   macro avg       0.52      0.61      0.52      1024\n",
            "weighted avg       0.79      0.69      0.73      1024\n",
            "\n",
            "Mean Accuracy: 0.5409 (±0.0917)\n",
            "\n",
            "Analyzing aspect: direction\n",
            "\n",
            "Using undersample sampling:\n"
          ]
        },
        {
          "name": "stderr",
          "output_type": "stream",
          "text": [
            "/usr/local/lib/python3.11/dist-packages/keras/src/layers/core/embedding.py:90: UserWarning: Argument `input_length` is deprecated. Just remove it.\n",
            "  warnings.warn(\n"
          ]
        },
        {
          "name": "stdout",
          "output_type": "stream",
          "text": [
            "\n",
            "Fold 1 Results:\n",
            "              precision    recall  f1-score   support\n",
            "\n",
            "          -1       0.32      0.53      0.40       139\n",
            "           0       0.91      0.68      0.78       824\n",
            "           1       0.18      0.53      0.27        62\n",
            "\n",
            "    accuracy                           0.65      1025\n",
            "   macro avg       0.47      0.58      0.48      1025\n",
            "weighted avg       0.78      0.65      0.70      1025\n",
            "\n"
          ]
        },
        {
          "name": "stderr",
          "output_type": "stream",
          "text": [
            "/usr/local/lib/python3.11/dist-packages/keras/src/layers/core/embedding.py:90: UserWarning: Argument `input_length` is deprecated. Just remove it.\n",
            "  warnings.warn(\n"
          ]
        },
        {
          "name": "stdout",
          "output_type": "stream",
          "text": [
            "\n",
            "Fold 2 Results:\n",
            "              precision    recall  f1-score   support\n",
            "\n",
            "          -1       0.34      0.64      0.44       138\n",
            "           0       0.94      0.62      0.75       824\n",
            "           1       0.19      0.65      0.29        62\n",
            "\n",
            "    accuracy                           0.63      1024\n",
            "   macro avg       0.49      0.64      0.50      1024\n",
            "weighted avg       0.81      0.63      0.68      1024\n",
            "\n"
          ]
        },
        {
          "name": "stderr",
          "output_type": "stream",
          "text": [
            "/usr/local/lib/python3.11/dist-packages/keras/src/layers/core/embedding.py:90: UserWarning: Argument `input_length` is deprecated. Just remove it.\n",
            "  warnings.warn(\n"
          ]
        },
        {
          "name": "stdout",
          "output_type": "stream",
          "text": [
            "\n",
            "Fold 3 Results:\n",
            "              precision    recall  f1-score   support\n",
            "\n",
            "          -1       0.39      0.48      0.43       139\n",
            "           0       0.93      0.67      0.78       823\n",
            "           1       0.17      0.73      0.28        62\n",
            "\n",
            "    accuracy                           0.65      1024\n",
            "   macro avg       0.50      0.62      0.50      1024\n",
            "weighted avg       0.81      0.65      0.70      1024\n",
            "\n"
          ]
        },
        {
          "name": "stderr",
          "output_type": "stream",
          "text": [
            "/usr/local/lib/python3.11/dist-packages/keras/src/layers/core/embedding.py:90: UserWarning: Argument `input_length` is deprecated. Just remove it.\n",
            "  warnings.warn(\n"
          ]
        },
        {
          "name": "stdout",
          "output_type": "stream",
          "text": [
            "\n",
            "Fold 4 Results:\n",
            "              precision    recall  f1-score   support\n",
            "\n",
            "          -1       0.34      0.66      0.45       139\n",
            "           0       0.94      0.57      0.71       823\n",
            "           1       0.16      0.66      0.26        62\n",
            "\n",
            "    accuracy                           0.59      1024\n",
            "   macro avg       0.48      0.63      0.47      1024\n",
            "weighted avg       0.81      0.59      0.65      1024\n",
            "\n"
          ]
        },
        {
          "name": "stderr",
          "output_type": "stream",
          "text": [
            "/usr/local/lib/python3.11/dist-packages/keras/src/layers/core/embedding.py:90: UserWarning: Argument `input_length` is deprecated. Just remove it.\n",
            "  warnings.warn(\n"
          ]
        },
        {
          "name": "stdout",
          "output_type": "stream",
          "text": [
            "\n",
            "Fold 5 Results:\n",
            "              precision    recall  f1-score   support\n",
            "\n",
            "          -1       0.34      0.70      0.45       139\n",
            "           0       0.93      0.53      0.68       823\n",
            "           1       0.15      0.66      0.25        62\n",
            "\n",
            "    accuracy                           0.56      1024\n",
            "   macro avg       0.47      0.63      0.46      1024\n",
            "weighted avg       0.81      0.56      0.62      1024\n",
            "\n",
            "Mean Accuracy: 0.6157 (±0.0337)\n",
            "\n",
            "Analyzing aspect: Music\n",
            "\n",
            "Using undersample sampling:\n"
          ]
        },
        {
          "name": "stderr",
          "output_type": "stream",
          "text": [
            "/usr/local/lib/python3.11/dist-packages/keras/src/layers/core/embedding.py:90: UserWarning: Argument `input_length` is deprecated. Just remove it.\n",
            "  warnings.warn(\n"
          ]
        },
        {
          "name": "stdout",
          "output_type": "stream",
          "text": [
            "\n",
            "Fold 1 Results:\n",
            "              precision    recall  f1-score   support\n",
            "\n",
            "          -1       0.09      0.68      0.16        22\n",
            "           0       0.99      0.75      0.85       897\n",
            "           1       0.47      0.75      0.58       106\n",
            "\n",
            "    accuracy                           0.75      1025\n",
            "   macro avg       0.52      0.73      0.53      1025\n",
            "weighted avg       0.91      0.75      0.81      1025\n",
            "\n"
          ]
        },
        {
          "name": "stderr",
          "output_type": "stream",
          "text": [
            "/usr/local/lib/python3.11/dist-packages/keras/src/layers/core/embedding.py:90: UserWarning: Argument `input_length` is deprecated. Just remove it.\n",
            "  warnings.warn(\n"
          ]
        },
        {
          "name": "stdout",
          "output_type": "stream",
          "text": [
            "\n",
            "Fold 2 Results:\n",
            "              precision    recall  f1-score   support\n",
            "\n",
            "          -1       0.12      0.71      0.21        21\n",
            "           0       0.98      0.85      0.91       897\n",
            "           1       0.63      0.73      0.68       106\n",
            "\n",
            "    accuracy                           0.84      1024\n",
            "   macro avg       0.58      0.76      0.60      1024\n",
            "weighted avg       0.93      0.84      0.87      1024\n",
            "\n"
          ]
        },
        {
          "name": "stderr",
          "output_type": "stream",
          "text": [
            "/usr/local/lib/python3.11/dist-packages/keras/src/layers/core/embedding.py:90: UserWarning: Argument `input_length` is deprecated. Just remove it.\n",
            "  warnings.warn(\n"
          ]
        },
        {
          "name": "stdout",
          "output_type": "stream",
          "text": [
            "\n",
            "Fold 3 Results:\n",
            "              precision    recall  f1-score   support\n",
            "\n",
            "          -1       0.05      0.76      0.10        21\n",
            "           0       0.98      0.58      0.73       897\n",
            "           1       0.33      0.61      0.43       106\n",
            "\n",
            "    accuracy                           0.59      1024\n",
            "   macro avg       0.45      0.65      0.42      1024\n",
            "weighted avg       0.89      0.59      0.69      1024\n",
            "\n"
          ]
        },
        {
          "name": "stderr",
          "output_type": "stream",
          "text": [
            "/usr/local/lib/python3.11/dist-packages/keras/src/layers/core/embedding.py:90: UserWarning: Argument `input_length` is deprecated. Just remove it.\n",
            "  warnings.warn(\n"
          ]
        },
        {
          "name": "stdout",
          "output_type": "stream",
          "text": [
            "\n",
            "Fold 4 Results:\n",
            "              precision    recall  f1-score   support\n",
            "\n",
            "          -1       0.08      0.62      0.14        21\n",
            "           0       0.97      0.75      0.84       897\n",
            "           1       0.45      0.73      0.56       106\n",
            "\n",
            "    accuracy                           0.74      1024\n",
            "   macro avg       0.50      0.70      0.51      1024\n",
            "weighted avg       0.90      0.74      0.80      1024\n",
            "\n"
          ]
        },
        {
          "name": "stderr",
          "output_type": "stream",
          "text": [
            "/usr/local/lib/python3.11/dist-packages/keras/src/layers/core/embedding.py:90: UserWarning: Argument `input_length` is deprecated. Just remove it.\n",
            "  warnings.warn(\n"
          ]
        },
        {
          "name": "stdout",
          "output_type": "stream",
          "text": [
            "\n",
            "Fold 5 Results:\n",
            "              precision    recall  f1-score   support\n",
            "\n",
            "          -1       0.08      0.68      0.15        22\n",
            "           0       0.98      0.67      0.80       896\n",
            "           1       0.36      0.77      0.49       106\n",
            "\n",
            "    accuracy                           0.68      1024\n",
            "   macro avg       0.47      0.71      0.48      1024\n",
            "weighted avg       0.89      0.68      0.75      1024\n",
            "\n",
            "Mean Accuracy: 0.7209 (±0.0819)\n",
            "\n",
            "Analyzing aspect: Genre\n",
            "\n",
            "Using undersample sampling:\n"
          ]
        },
        {
          "name": "stderr",
          "output_type": "stream",
          "text": [
            "/usr/local/lib/python3.11/dist-packages/keras/src/layers/core/embedding.py:90: UserWarning: Argument `input_length` is deprecated. Just remove it.\n",
            "  warnings.warn(\n"
          ]
        },
        {
          "name": "stdout",
          "output_type": "stream",
          "text": [
            "\n",
            "Fold 1 Results:\n",
            "              precision    recall  f1-score   support\n",
            "\n",
            "          -1       0.00      0.00      0.00        10\n",
            "           0       0.95      0.90      0.92       975\n",
            "           1       0.00      0.00      0.00        40\n",
            "\n",
            "    accuracy                           0.85      1025\n",
            "   macro avg       0.32      0.30      0.31      1025\n",
            "weighted avg       0.91      0.85      0.88      1025\n",
            "\n"
          ]
        },
        {
          "name": "stderr",
          "output_type": "stream",
          "text": [
            "/usr/local/lib/python3.11/dist-packages/keras/src/layers/core/embedding.py:90: UserWarning: Argument `input_length` is deprecated. Just remove it.\n",
            "  warnings.warn(\n"
          ]
        },
        {
          "name": "stdout",
          "output_type": "stream",
          "text": [
            "\n",
            "Fold 2 Results:\n",
            "              precision    recall  f1-score   support\n",
            "\n",
            "          -1       0.05      0.82      0.09        11\n",
            "           0       0.98      0.49      0.65       974\n",
            "           1       0.05      0.49      0.10        39\n",
            "\n",
            "    accuracy                           0.50      1024\n",
            "   macro avg       0.36      0.60      0.28      1024\n",
            "weighted avg       0.93      0.50      0.63      1024\n",
            "\n"
          ]
        },
        {
          "name": "stderr",
          "output_type": "stream",
          "text": [
            "/usr/local/lib/python3.11/dist-packages/keras/src/layers/core/embedding.py:90: UserWarning: Argument `input_length` is deprecated. Just remove it.\n",
            "  warnings.warn(\n"
          ]
        },
        {
          "name": "stdout",
          "output_type": "stream",
          "text": [
            "\n",
            "Fold 3 Results:\n",
            "              precision    recall  f1-score   support\n",
            "\n",
            "          -1       0.02      0.27      0.04        11\n",
            "           0       0.97      0.48      0.64       974\n",
            "           1       0.06      0.59      0.10        39\n",
            "\n",
            "    accuracy                           0.48      1024\n",
            "   macro avg       0.35      0.45      0.26      1024\n",
            "weighted avg       0.93      0.48      0.61      1024\n",
            "\n"
          ]
        },
        {
          "name": "stderr",
          "output_type": "stream",
          "text": [
            "/usr/local/lib/python3.11/dist-packages/keras/src/layers/core/embedding.py:90: UserWarning: Argument `input_length` is deprecated. Just remove it.\n",
            "  warnings.warn(\n"
          ]
        },
        {
          "name": "stdout",
          "output_type": "stream",
          "text": [
            "\n",
            "Fold 4 Results:\n",
            "              precision    recall  f1-score   support\n",
            "\n",
            "          -1       0.03      0.36      0.06        11\n",
            "           0       0.97      0.66      0.79       974\n",
            "           1       0.08      0.49      0.13        39\n",
            "\n",
            "    accuracy                           0.65      1024\n",
            "   macro avg       0.36      0.50      0.33      1024\n",
            "weighted avg       0.93      0.65      0.75      1024\n",
            "\n"
          ]
        },
        {
          "name": "stderr",
          "output_type": "stream",
          "text": [
            "/usr/local/lib/python3.11/dist-packages/keras/src/layers/core/embedding.py:90: UserWarning: Argument `input_length` is deprecated. Just remove it.\n",
            "  warnings.warn(\n"
          ]
        },
        {
          "name": "stdout",
          "output_type": "stream",
          "text": [
            "\n",
            "Fold 5 Results:\n",
            "              precision    recall  f1-score   support\n",
            "\n",
            "          -1       0.03      0.40      0.05        10\n",
            "           0       0.97      0.68      0.80       974\n",
            "           1       0.07      0.38      0.12        40\n",
            "\n",
            "    accuracy                           0.66      1024\n",
            "   macro avg       0.36      0.48      0.33      1024\n",
            "weighted avg       0.92      0.66      0.76      1024\n",
            "\n",
            "Mean Accuracy: 0.6287 (±0.1363)\n",
            "\n",
            "Analyzing aspect: excitement\n",
            "\n",
            "Using undersample sampling:\n"
          ]
        },
        {
          "name": "stderr",
          "output_type": "stream",
          "text": [
            "/usr/local/lib/python3.11/dist-packages/keras/src/layers/core/embedding.py:90: UserWarning: Argument `input_length` is deprecated. Just remove it.\n",
            "  warnings.warn(\n"
          ]
        },
        {
          "name": "stdout",
          "output_type": "stream",
          "text": [
            "\n",
            "Fold 1 Results:\n",
            "              precision    recall  f1-score   support\n",
            "\n",
            "          -1       0.41      0.70      0.51       152\n",
            "           0       0.77      0.55      0.64       583\n",
            "           1       0.54      0.65      0.59       290\n",
            "\n",
            "    accuracy                           0.60      1025\n",
            "   macro avg       0.57      0.63      0.58      1025\n",
            "weighted avg       0.65      0.60      0.61      1025\n",
            "\n"
          ]
        },
        {
          "name": "stderr",
          "output_type": "stream",
          "text": [
            "/usr/local/lib/python3.11/dist-packages/keras/src/layers/core/embedding.py:90: UserWarning: Argument `input_length` is deprecated. Just remove it.\n",
            "  warnings.warn(\n"
          ]
        },
        {
          "name": "stdout",
          "output_type": "stream",
          "text": [
            "\n",
            "Fold 2 Results:\n",
            "              precision    recall  f1-score   support\n",
            "\n",
            "          -1       0.42      0.68      0.52       152\n",
            "           0       0.76      0.61      0.68       583\n",
            "           1       0.62      0.67      0.64       289\n",
            "\n",
            "    accuracy                           0.63      1024\n",
            "   macro avg       0.60      0.65      0.61      1024\n",
            "weighted avg       0.67      0.63      0.64      1024\n",
            "\n"
          ]
        },
        {
          "name": "stderr",
          "output_type": "stream",
          "text": [
            "/usr/local/lib/python3.11/dist-packages/keras/src/layers/core/embedding.py:90: UserWarning: Argument `input_length` is deprecated. Just remove it.\n",
            "  warnings.warn(\n"
          ]
        },
        {
          "name": "stdout",
          "output_type": "stream",
          "text": [
            "\n",
            "Fold 3 Results:\n",
            "              precision    recall  f1-score   support\n",
            "\n",
            "          -1       0.36      0.81      0.50       151\n",
            "           0       0.77      0.50      0.61       583\n",
            "           1       0.63      0.66      0.65       290\n",
            "\n",
            "    accuracy                           0.59      1024\n",
            "   macro avg       0.59      0.66      0.58      1024\n",
            "weighted avg       0.67      0.59      0.60      1024\n",
            "\n"
          ]
        },
        {
          "name": "stderr",
          "output_type": "stream",
          "text": [
            "/usr/local/lib/python3.11/dist-packages/keras/src/layers/core/embedding.py:90: UserWarning: Argument `input_length` is deprecated. Just remove it.\n",
            "  warnings.warn(\n"
          ]
        },
        {
          "name": "stdout",
          "output_type": "stream",
          "text": [
            "\n",
            "Fold 4 Results:\n",
            "              precision    recall  f1-score   support\n",
            "\n",
            "          -1       0.36      0.74      0.49       152\n",
            "           0       0.75      0.54      0.63       582\n",
            "           1       0.59      0.61      0.60       290\n",
            "\n",
            "    accuracy                           0.59      1024\n",
            "   macro avg       0.57      0.63      0.57      1024\n",
            "weighted avg       0.65      0.59      0.60      1024\n",
            "\n"
          ]
        },
        {
          "name": "stderr",
          "output_type": "stream",
          "text": [
            "/usr/local/lib/python3.11/dist-packages/keras/src/layers/core/embedding.py:90: UserWarning: Argument `input_length` is deprecated. Just remove it.\n",
            "  warnings.warn(\n"
          ]
        },
        {
          "name": "stdout",
          "output_type": "stream",
          "text": [
            "\n",
            "Fold 5 Results:\n",
            "              precision    recall  f1-score   support\n",
            "\n",
            "          -1       0.39      0.71      0.50       152\n",
            "           0       0.79      0.51      0.62       582\n",
            "           1       0.58      0.74      0.65       290\n",
            "\n",
            "    accuracy                           0.60      1024\n",
            "   macro avg       0.58      0.65      0.59      1024\n",
            "weighted avg       0.67      0.60      0.61      1024\n",
            "\n",
            "Mean Accuracy: 0.6038 (±0.0165)\n",
            "\n",
            "Analyzing aspect: ovr_sent\n",
            "\n",
            "Using undersample sampling:\n"
          ]
        },
        {
          "name": "stderr",
          "output_type": "stream",
          "text": [
            "/usr/local/lib/python3.11/dist-packages/keras/src/layers/core/embedding.py:90: UserWarning: Argument `input_length` is deprecated. Just remove it.\n",
            "  warnings.warn(\n"
          ]
        },
        {
          "name": "stdout",
          "output_type": "stream",
          "text": [
            "\n",
            "Fold 1 Results:\n",
            "              precision    recall  f1-score   support\n",
            "\n",
            "          -1       0.73      0.56      0.63       344\n",
            "           0       0.33      0.52      0.41       152\n",
            "           1       0.79      0.79      0.79       529\n",
            "\n",
            "    accuracy                           0.67      1025\n",
            "   macro avg       0.62      0.62      0.61      1025\n",
            "weighted avg       0.70      0.67      0.68      1025\n",
            "\n"
          ]
        },
        {
          "name": "stderr",
          "output_type": "stream",
          "text": [
            "/usr/local/lib/python3.11/dist-packages/keras/src/layers/core/embedding.py:90: UserWarning: Argument `input_length` is deprecated. Just remove it.\n",
            "  warnings.warn(\n"
          ]
        },
        {
          "name": "stdout",
          "output_type": "stream",
          "text": [
            "\n",
            "Fold 2 Results:\n",
            "              precision    recall  f1-score   support\n",
            "\n",
            "          -1       0.66      0.76      0.70       343\n",
            "           0       0.31      0.64      0.42       152\n",
            "           1       0.92      0.55      0.69       529\n",
            "\n",
            "    accuracy                           0.63      1024\n",
            "   macro avg       0.63      0.65      0.60      1024\n",
            "weighted avg       0.74      0.63      0.65      1024\n",
            "\n"
          ]
        },
        {
          "name": "stderr",
          "output_type": "stream",
          "text": [
            "/usr/local/lib/python3.11/dist-packages/keras/src/layers/core/embedding.py:90: UserWarning: Argument `input_length` is deprecated. Just remove it.\n",
            "  warnings.warn(\n"
          ]
        },
        {
          "name": "stdout",
          "output_type": "stream",
          "text": [
            "\n",
            "Fold 3 Results:\n",
            "              precision    recall  f1-score   support\n",
            "\n",
            "          -1       0.66      0.78      0.71       343\n",
            "           0       0.33      0.54      0.41       153\n",
            "           1       0.90      0.63      0.74       528\n",
            "\n",
            "    accuracy                           0.67      1024\n",
            "   macro avg       0.63      0.65      0.62      1024\n",
            "weighted avg       0.74      0.67      0.68      1024\n",
            "\n"
          ]
        },
        {
          "name": "stderr",
          "output_type": "stream",
          "text": [
            "/usr/local/lib/python3.11/dist-packages/keras/src/layers/core/embedding.py:90: UserWarning: Argument `input_length` is deprecated. Just remove it.\n",
            "  warnings.warn(\n"
          ]
        },
        {
          "name": "stdout",
          "output_type": "stream",
          "text": [
            "\n",
            "Fold 4 Results:\n",
            "              precision    recall  f1-score   support\n",
            "\n",
            "          -1       0.66      0.62      0.64       344\n",
            "           0       0.31      0.63      0.42       152\n",
            "           1       0.86      0.64      0.73       528\n",
            "\n",
            "    accuracy                           0.63      1024\n",
            "   macro avg       0.61      0.63      0.60      1024\n",
            "weighted avg       0.71      0.63      0.66      1024\n",
            "\n"
          ]
        },
        {
          "name": "stderr",
          "output_type": "stream",
          "text": [
            "/usr/local/lib/python3.11/dist-packages/keras/src/layers/core/embedding.py:90: UserWarning: Argument `input_length` is deprecated. Just remove it.\n",
            "  warnings.warn(\n"
          ]
        },
        {
          "name": "stdout",
          "output_type": "stream",
          "text": [
            "\n",
            "Fold 5 Results:\n",
            "              precision    recall  f1-score   support\n",
            "\n",
            "          -1       0.72      0.67      0.69       344\n",
            "           0       0.30      0.57      0.40       152\n",
            "           1       0.84      0.67      0.75       528\n",
            "\n",
            "    accuracy                           0.65      1024\n",
            "   macro avg       0.62      0.64      0.61      1024\n",
            "weighted avg       0.72      0.65      0.68      1024\n",
            "\n",
            "Mean Accuracy: 0.6516 (±0.0172)\n"
          ]
        }
      ],
      "source": [
        "aspects = ['Acting', 'direction', 'Music', 'Genre', 'excitement', 'ovr_sent']\n",
        "sampling_techniques_under = ['undersample']\n",
        "results = analyze_all_aspects_dl(df, aspects, sampling_techniques_under)"
      ]
    },
    {
      "cell_type": "code",
      "execution_count": null,
      "metadata": {
        "colab": {
          "base_uri": "https://localhost:8080/"
        },
        "collapsed": true,
        "id": "1S-nhu_lqyqZ",
        "outputId": "0e2d3e6f-9578-410e-f180-1c2c64edbfed"
      },
      "outputs": [
        {
          "name": "stdout",
          "output_type": "stream",
          "text": [
            "\n",
            "Analyzing aspect: Acting\n",
            "\n",
            "Using oversample sampling:\n"
          ]
        },
        {
          "name": "stderr",
          "output_type": "stream",
          "text": [
            "/usr/local/lib/python3.11/dist-packages/keras/src/layers/core/embedding.py:90: UserWarning: Argument `input_length` is deprecated. Just remove it.\n",
            "  warnings.warn(\n"
          ]
        },
        {
          "name": "stdout",
          "output_type": "stream",
          "text": [
            "\n",
            "Fold 1 Results:\n",
            "              precision    recall  f1-score   support\n",
            "\n",
            "          -1       0.09      0.12      0.10        34\n",
            "           0       0.90      0.86      0.88       770\n",
            "           1       0.62      0.68      0.65       221\n",
            "\n",
            "    accuracy                           0.79      1025\n",
            "   macro avg       0.53      0.55      0.54      1025\n",
            "weighted avg       0.81      0.79      0.80      1025\n",
            "\n"
          ]
        },
        {
          "name": "stderr",
          "output_type": "stream",
          "text": [
            "/usr/local/lib/python3.11/dist-packages/keras/src/layers/core/embedding.py:90: UserWarning: Argument `input_length` is deprecated. Just remove it.\n",
            "  warnings.warn(\n"
          ]
        },
        {
          "name": "stdout",
          "output_type": "stream",
          "text": [
            "\n",
            "Fold 2 Results:\n",
            "              precision    recall  f1-score   support\n",
            "\n",
            "          -1       0.10      0.15      0.12        33\n",
            "           0       0.87      0.85      0.86       769\n",
            "           1       0.59      0.60      0.60       222\n",
            "\n",
            "    accuracy                           0.77      1024\n",
            "   macro avg       0.52      0.53      0.52      1024\n",
            "weighted avg       0.79      0.77      0.78      1024\n",
            "\n"
          ]
        },
        {
          "name": "stderr",
          "output_type": "stream",
          "text": [
            "/usr/local/lib/python3.11/dist-packages/keras/src/layers/core/embedding.py:90: UserWarning: Argument `input_length` is deprecated. Just remove it.\n",
            "  warnings.warn(\n"
          ]
        },
        {
          "name": "stdout",
          "output_type": "stream",
          "text": [
            "\n",
            "Fold 3 Results:\n",
            "              precision    recall  f1-score   support\n",
            "\n",
            "          -1       0.05      0.06      0.05        33\n",
            "           0       0.88      0.83      0.85       769\n",
            "           1       0.58      0.66      0.61       222\n",
            "\n",
            "    accuracy                           0.77      1024\n",
            "   macro avg       0.50      0.52      0.51      1024\n",
            "weighted avg       0.78      0.77      0.78      1024\n",
            "\n"
          ]
        },
        {
          "name": "stderr",
          "output_type": "stream",
          "text": [
            "/usr/local/lib/python3.11/dist-packages/keras/src/layers/core/embedding.py:90: UserWarning: Argument `input_length` is deprecated. Just remove it.\n",
            "  warnings.warn(\n"
          ]
        },
        {
          "name": "stdout",
          "output_type": "stream",
          "text": [
            "\n",
            "Fold 4 Results:\n",
            "              precision    recall  f1-score   support\n",
            "\n",
            "          -1       0.09      0.15      0.11        33\n",
            "           0       0.87      0.86      0.87       769\n",
            "           1       0.67      0.63      0.65       222\n",
            "\n",
            "    accuracy                           0.79      1024\n",
            "   macro avg       0.54      0.55      0.54      1024\n",
            "weighted avg       0.80      0.79      0.80      1024\n",
            "\n"
          ]
        },
        {
          "name": "stderr",
          "output_type": "stream",
          "text": [
            "/usr/local/lib/python3.11/dist-packages/keras/src/layers/core/embedding.py:90: UserWarning: Argument `input_length` is deprecated. Just remove it.\n",
            "  warnings.warn(\n"
          ]
        },
        {
          "name": "stdout",
          "output_type": "stream",
          "text": [
            "\n",
            "Fold 5 Results:\n",
            "              precision    recall  f1-score   support\n",
            "\n",
            "          -1       0.07      0.09      0.08        34\n",
            "           0       0.89      0.83      0.86       769\n",
            "           1       0.59      0.71      0.64       221\n",
            "\n",
            "    accuracy                           0.78      1024\n",
            "   macro avg       0.52      0.54      0.53      1024\n",
            "weighted avg       0.80      0.78      0.79      1024\n",
            "\n",
            "Mean Accuracy: 0.7805 (±0.0096)\n",
            "\n",
            "Analyzing aspect: direction\n",
            "\n",
            "Using oversample sampling:\n"
          ]
        },
        {
          "name": "stderr",
          "output_type": "stream",
          "text": [
            "/usr/local/lib/python3.11/dist-packages/keras/src/layers/core/embedding.py:90: UserWarning: Argument `input_length` is deprecated. Just remove it.\n",
            "  warnings.warn(\n"
          ]
        },
        {
          "name": "stdout",
          "output_type": "stream",
          "text": [
            "\n",
            "Fold 1 Results:\n",
            "              precision    recall  f1-score   support\n",
            "\n",
            "          -1       0.38      0.27      0.31       139\n",
            "           0       0.86      0.86      0.86       824\n",
            "           1       0.25      0.42      0.32        62\n",
            "\n",
            "    accuracy                           0.75      1025\n",
            "   macro avg       0.50      0.52      0.50      1025\n",
            "weighted avg       0.76      0.75      0.75      1025\n",
            "\n"
          ]
        },
        {
          "name": "stderr",
          "output_type": "stream",
          "text": [
            "/usr/local/lib/python3.11/dist-packages/keras/src/layers/core/embedding.py:90: UserWarning: Argument `input_length` is deprecated. Just remove it.\n",
            "  warnings.warn(\n"
          ]
        },
        {
          "name": "stdout",
          "output_type": "stream",
          "text": [
            "\n",
            "Fold 2 Results:\n",
            "              precision    recall  f1-score   support\n",
            "\n",
            "          -1       0.52      0.29      0.37       138\n",
            "           0       0.85      0.94      0.89       824\n",
            "           1       0.38      0.21      0.27        62\n",
            "\n",
            "    accuracy                           0.81      1024\n",
            "   macro avg       0.58      0.48      0.51      1024\n",
            "weighted avg       0.77      0.81      0.78      1024\n",
            "\n"
          ]
        },
        {
          "name": "stderr",
          "output_type": "stream",
          "text": [
            "/usr/local/lib/python3.11/dist-packages/keras/src/layers/core/embedding.py:90: UserWarning: Argument `input_length` is deprecated. Just remove it.\n",
            "  warnings.warn(\n"
          ]
        },
        {
          "name": "stdout",
          "output_type": "stream",
          "text": [
            "\n",
            "Fold 3 Results:\n",
            "              precision    recall  f1-score   support\n",
            "\n",
            "          -1       0.41      0.45      0.43       139\n",
            "           0       0.87      0.84      0.85       823\n",
            "           1       0.24      0.32      0.28        62\n",
            "\n",
            "    accuracy                           0.75      1024\n",
            "   macro avg       0.51      0.54      0.52      1024\n",
            "weighted avg       0.77      0.75      0.76      1024\n",
            "\n"
          ]
        },
        {
          "name": "stderr",
          "output_type": "stream",
          "text": [
            "/usr/local/lib/python3.11/dist-packages/keras/src/layers/core/embedding.py:90: UserWarning: Argument `input_length` is deprecated. Just remove it.\n",
            "  warnings.warn(\n"
          ]
        },
        {
          "name": "stdout",
          "output_type": "stream",
          "text": [
            "\n",
            "Fold 4 Results:\n",
            "              precision    recall  f1-score   support\n",
            "\n",
            "          -1       0.45      0.15      0.23       139\n",
            "           0       0.84      0.95      0.89       823\n",
            "           1       0.36      0.32      0.34        62\n",
            "\n",
            "    accuracy                           0.80      1024\n",
            "   macro avg       0.55      0.47      0.49      1024\n",
            "weighted avg       0.76      0.80      0.77      1024\n",
            "\n"
          ]
        },
        {
          "name": "stderr",
          "output_type": "stream",
          "text": [
            "/usr/local/lib/python3.11/dist-packages/keras/src/layers/core/embedding.py:90: UserWarning: Argument `input_length` is deprecated. Just remove it.\n",
            "  warnings.warn(\n"
          ]
        },
        {
          "name": "stdout",
          "output_type": "stream",
          "text": [
            "\n",
            "Fold 5 Results:\n",
            "              precision    recall  f1-score   support\n",
            "\n",
            "          -1       0.42      0.37      0.39       139\n",
            "           0       0.87      0.88      0.87       823\n",
            "           1       0.27      0.31      0.29        62\n",
            "\n",
            "    accuracy                           0.77      1024\n",
            "   macro avg       0.52      0.52      0.52      1024\n",
            "weighted avg       0.77      0.77      0.77      1024\n",
            "\n",
            "Mean Accuracy: 0.7772 (±0.0223)\n",
            "\n",
            "Analyzing aspect: Music\n",
            "\n",
            "Using oversample sampling:\n"
          ]
        },
        {
          "name": "stderr",
          "output_type": "stream",
          "text": [
            "/usr/local/lib/python3.11/dist-packages/keras/src/layers/core/embedding.py:90: UserWarning: Argument `input_length` is deprecated. Just remove it.\n",
            "  warnings.warn(\n"
          ]
        },
        {
          "name": "stdout",
          "output_type": "stream",
          "text": [
            "\n",
            "Fold 1 Results:\n",
            "              precision    recall  f1-score   support\n",
            "\n",
            "          -1       0.11      0.14      0.12        22\n",
            "           0       0.97      0.93      0.95       897\n",
            "           1       0.51      0.66      0.58       106\n",
            "\n",
            "    accuracy                           0.89      1025\n",
            "   macro avg       0.53      0.58      0.55      1025\n",
            "weighted avg       0.90      0.89      0.89      1025\n",
            "\n"
          ]
        },
        {
          "name": "stderr",
          "output_type": "stream",
          "text": [
            "/usr/local/lib/python3.11/dist-packages/keras/src/layers/core/embedding.py:90: UserWarning: Argument `input_length` is deprecated. Just remove it.\n",
            "  warnings.warn(\n"
          ]
        },
        {
          "name": "stdout",
          "output_type": "stream",
          "text": [
            "\n",
            "Fold 2 Results:\n",
            "              precision    recall  f1-score   support\n",
            "\n",
            "          -1       0.12      0.19      0.15        21\n",
            "           0       0.96      0.96      0.96       897\n",
            "           1       0.73      0.66      0.69       106\n",
            "\n",
            "    accuracy                           0.92      1024\n",
            "   macro avg       0.60      0.60      0.60      1024\n",
            "weighted avg       0.92      0.92      0.92      1024\n",
            "\n"
          ]
        },
        {
          "name": "stderr",
          "output_type": "stream",
          "text": [
            "/usr/local/lib/python3.11/dist-packages/keras/src/layers/core/embedding.py:90: UserWarning: Argument `input_length` is deprecated. Just remove it.\n",
            "  warnings.warn(\n"
          ]
        },
        {
          "name": "stdout",
          "output_type": "stream",
          "text": [
            "\n",
            "Fold 3 Results:\n",
            "              precision    recall  f1-score   support\n",
            "\n",
            "          -1       0.14      0.52      0.22        21\n",
            "           0       0.98      0.88      0.93       897\n",
            "           1       0.51      0.64      0.57       106\n",
            "\n",
            "    accuracy                           0.85      1024\n",
            "   macro avg       0.54      0.68      0.57      1024\n",
            "weighted avg       0.91      0.85      0.88      1024\n",
            "\n"
          ]
        },
        {
          "name": "stderr",
          "output_type": "stream",
          "text": [
            "/usr/local/lib/python3.11/dist-packages/keras/src/layers/core/embedding.py:90: UserWarning: Argument `input_length` is deprecated. Just remove it.\n",
            "  warnings.warn(\n"
          ]
        },
        {
          "name": "stdout",
          "output_type": "stream",
          "text": [
            "\n",
            "Fold 4 Results:\n",
            "              precision    recall  f1-score   support\n",
            "\n",
            "          -1       0.19      0.29      0.23        21\n",
            "           0       0.97      0.90      0.94       897\n",
            "           1       0.50      0.75      0.60       106\n",
            "\n",
            "    accuracy                           0.88      1024\n",
            "   macro avg       0.55      0.65      0.59      1024\n",
            "weighted avg       0.91      0.88      0.89      1024\n",
            "\n"
          ]
        },
        {
          "name": "stderr",
          "output_type": "stream",
          "text": [
            "/usr/local/lib/python3.11/dist-packages/keras/src/layers/core/embedding.py:90: UserWarning: Argument `input_length` is deprecated. Just remove it.\n",
            "  warnings.warn(\n"
          ]
        },
        {
          "name": "stdout",
          "output_type": "stream",
          "text": [
            "\n",
            "Fold 5 Results:\n",
            "              precision    recall  f1-score   support\n",
            "\n",
            "          -1       0.09      0.18      0.12        22\n",
            "           0       0.95      0.91      0.93       896\n",
            "           1       0.52      0.59      0.56       106\n",
            "\n",
            "    accuracy                           0.86      1024\n",
            "   macro avg       0.52      0.56      0.53      1024\n",
            "weighted avg       0.89      0.86      0.87      1024\n",
            "\n",
            "Mean Accuracy: 0.8781 (±0.0219)\n",
            "\n",
            "Analyzing aspect: Genre\n",
            "\n",
            "Using oversample sampling:\n"
          ]
        },
        {
          "name": "stderr",
          "output_type": "stream",
          "text": [
            "/usr/local/lib/python3.11/dist-packages/keras/src/layers/core/embedding.py:90: UserWarning: Argument `input_length` is deprecated. Just remove it.\n",
            "  warnings.warn(\n"
          ]
        },
        {
          "name": "stdout",
          "output_type": "stream",
          "text": [
            "\n",
            "Fold 1 Results:\n",
            "              precision    recall  f1-score   support\n",
            "\n",
            "          -1       0.00      0.00      0.00        10\n",
            "           0       0.96      0.90      0.93       975\n",
            "           1       0.14      0.30      0.19        40\n",
            "\n",
            "    accuracy                           0.87      1025\n",
            "   macro avg       0.37      0.40      0.37      1025\n",
            "weighted avg       0.92      0.87      0.89      1025\n",
            "\n"
          ]
        },
        {
          "name": "stderr",
          "output_type": "stream",
          "text": [
            "/usr/local/lib/python3.11/dist-packages/keras/src/layers/core/embedding.py:90: UserWarning: Argument `input_length` is deprecated. Just remove it.\n",
            "  warnings.warn(\n"
          ]
        },
        {
          "name": "stdout",
          "output_type": "stream",
          "text": [
            "\n",
            "Fold 2 Results:\n",
            "              precision    recall  f1-score   support\n",
            "\n",
            "          -1       0.00      0.00      0.00        11\n",
            "           0       0.96      0.87      0.91       974\n",
            "           1       0.07      0.15      0.09        39\n",
            "\n",
            "    accuracy                           0.83      1024\n",
            "   macro avg       0.34      0.34      0.33      1024\n",
            "weighted avg       0.91      0.83      0.87      1024\n",
            "\n"
          ]
        },
        {
          "name": "stderr",
          "output_type": "stream",
          "text": [
            "/usr/local/lib/python3.11/dist-packages/keras/src/layers/core/embedding.py:90: UserWarning: Argument `input_length` is deprecated. Just remove it.\n",
            "  warnings.warn(\n"
          ]
        },
        {
          "name": "stdout",
          "output_type": "stream",
          "text": [
            "\n",
            "Fold 3 Results:\n",
            "              precision    recall  f1-score   support\n",
            "\n",
            "          -1       0.00      0.00      0.00        11\n",
            "           0       0.97      0.87      0.91       974\n",
            "           1       0.15      0.38      0.21        39\n",
            "\n",
            "    accuracy                           0.84      1024\n",
            "   macro avg       0.37      0.42      0.38      1024\n",
            "weighted avg       0.93      0.84      0.88      1024\n",
            "\n"
          ]
        },
        {
          "name": "stderr",
          "output_type": "stream",
          "text": [
            "/usr/local/lib/python3.11/dist-packages/keras/src/layers/core/embedding.py:90: UserWarning: Argument `input_length` is deprecated. Just remove it.\n",
            "  warnings.warn(\n"
          ]
        },
        {
          "name": "stdout",
          "output_type": "stream",
          "text": [
            "\n",
            "Fold 4 Results:\n",
            "              precision    recall  f1-score   support\n",
            "\n",
            "          -1       0.00      0.00      0.00        11\n",
            "           0       0.96      0.92      0.94       974\n",
            "           1       0.12      0.15      0.14        39\n",
            "\n",
            "    accuracy                           0.88      1024\n",
            "   macro avg       0.36      0.36      0.36      1024\n",
            "weighted avg       0.92      0.88      0.90      1024\n",
            "\n"
          ]
        },
        {
          "name": "stderr",
          "output_type": "stream",
          "text": [
            "/usr/local/lib/python3.11/dist-packages/keras/src/layers/core/embedding.py:90: UserWarning: Argument `input_length` is deprecated. Just remove it.\n",
            "  warnings.warn(\n"
          ]
        },
        {
          "name": "stdout",
          "output_type": "stream",
          "text": [
            "\n",
            "Fold 5 Results:\n",
            "              precision    recall  f1-score   support\n",
            "\n",
            "          -1       0.05      0.20      0.09        10\n",
            "           0       0.96      0.90      0.93       974\n",
            "           1       0.12      0.23      0.16        40\n",
            "\n",
            "    accuracy                           0.87      1024\n",
            "   macro avg       0.38      0.44      0.39      1024\n",
            "weighted avg       0.92      0.87      0.89      1024\n",
            "\n",
            "Mean Accuracy: 0.8563 (±0.0187)\n",
            "\n",
            "Analyzing aspect: excitement\n",
            "\n",
            "Using oversample sampling:\n"
          ]
        },
        {
          "name": "stderr",
          "output_type": "stream",
          "text": [
            "/usr/local/lib/python3.11/dist-packages/keras/src/layers/core/embedding.py:90: UserWarning: Argument `input_length` is deprecated. Just remove it.\n",
            "  warnings.warn(\n"
          ]
        },
        {
          "name": "stdout",
          "output_type": "stream",
          "text": [
            "\n",
            "Fold 1 Results:\n",
            "              precision    recall  f1-score   support\n",
            "\n",
            "          -1       0.43      0.36      0.39       152\n",
            "           0       0.70      0.82      0.75       583\n",
            "           1       0.69      0.50      0.58       290\n",
            "\n",
            "    accuracy                           0.66      1025\n",
            "   macro avg       0.60      0.56      0.57      1025\n",
            "weighted avg       0.65      0.66      0.65      1025\n",
            "\n"
          ]
        },
        {
          "name": "stderr",
          "output_type": "stream",
          "text": [
            "/usr/local/lib/python3.11/dist-packages/keras/src/layers/core/embedding.py:90: UserWarning: Argument `input_length` is deprecated. Just remove it.\n",
            "  warnings.warn(\n"
          ]
        },
        {
          "name": "stdout",
          "output_type": "stream",
          "text": [
            "\n",
            "Fold 2 Results:\n",
            "              precision    recall  f1-score   support\n",
            "\n",
            "          -1       0.37      0.49      0.42       152\n",
            "           0       0.73      0.56      0.63       583\n",
            "           1       0.53      0.69      0.60       289\n",
            "\n",
            "    accuracy                           0.59      1024\n",
            "   macro avg       0.54      0.58      0.55      1024\n",
            "weighted avg       0.62      0.59      0.59      1024\n",
            "\n"
          ]
        },
        {
          "name": "stderr",
          "output_type": "stream",
          "text": [
            "/usr/local/lib/python3.11/dist-packages/keras/src/layers/core/embedding.py:90: UserWarning: Argument `input_length` is deprecated. Just remove it.\n",
            "  warnings.warn(\n"
          ]
        },
        {
          "name": "stdout",
          "output_type": "stream",
          "text": [
            "\n",
            "Fold 3 Results:\n",
            "              precision    recall  f1-score   support\n",
            "\n",
            "          -1       0.44      0.44      0.44       151\n",
            "           0       0.72      0.71      0.72       583\n",
            "           1       0.61      0.62      0.62       290\n",
            "\n",
            "    accuracy                           0.65      1024\n",
            "   macro avg       0.59      0.59      0.59      1024\n",
            "weighted avg       0.65      0.65      0.65      1024\n",
            "\n"
          ]
        },
        {
          "name": "stderr",
          "output_type": "stream",
          "text": [
            "/usr/local/lib/python3.11/dist-packages/keras/src/layers/core/embedding.py:90: UserWarning: Argument `input_length` is deprecated. Just remove it.\n",
            "  warnings.warn(\n"
          ]
        },
        {
          "name": "stdout",
          "output_type": "stream",
          "text": [
            "\n",
            "Fold 4 Results:\n",
            "              precision    recall  f1-score   support\n",
            "\n",
            "          -1       0.38      0.57      0.46       152\n",
            "           0       0.72      0.62      0.67       582\n",
            "           1       0.57      0.58      0.58       290\n",
            "\n",
            "    accuracy                           0.60      1024\n",
            "   macro avg       0.56      0.59      0.57      1024\n",
            "weighted avg       0.63      0.60      0.61      1024\n",
            "\n"
          ]
        },
        {
          "name": "stderr",
          "output_type": "stream",
          "text": [
            "/usr/local/lib/python3.11/dist-packages/keras/src/layers/core/embedding.py:90: UserWarning: Argument `input_length` is deprecated. Just remove it.\n",
            "  warnings.warn(\n"
          ]
        },
        {
          "name": "stdout",
          "output_type": "stream",
          "text": [
            "\n",
            "Fold 5 Results:\n",
            "              precision    recall  f1-score   support\n",
            "\n",
            "          -1       0.39      0.56      0.46       152\n",
            "           0       0.74      0.67      0.70       582\n",
            "           1       0.64      0.62      0.63       290\n",
            "\n",
            "    accuracy                           0.64      1024\n",
            "   macro avg       0.59      0.61      0.60      1024\n",
            "weighted avg       0.66      0.64      0.64      1024\n",
            "\n",
            "Mean Accuracy: 0.6264 (±0.0282)\n",
            "\n",
            "Analyzing aspect: ovr_sent\n",
            "\n",
            "Using oversample sampling:\n"
          ]
        },
        {
          "name": "stderr",
          "output_type": "stream",
          "text": [
            "/usr/local/lib/python3.11/dist-packages/keras/src/layers/core/embedding.py:90: UserWarning: Argument `input_length` is deprecated. Just remove it.\n",
            "  warnings.warn(\n"
          ]
        },
        {
          "name": "stdout",
          "output_type": "stream",
          "text": [
            "\n",
            "Fold 1 Results:\n",
            "              precision    recall  f1-score   support\n",
            "\n",
            "          -1       0.63      0.77      0.70       344\n",
            "           0       0.38      0.42      0.40       152\n",
            "           1       0.84      0.70      0.76       529\n",
            "\n",
            "    accuracy                           0.68      1025\n",
            "   macro avg       0.62      0.63      0.62      1025\n",
            "weighted avg       0.70      0.68      0.68      1025\n",
            "\n"
          ]
        },
        {
          "name": "stderr",
          "output_type": "stream",
          "text": [
            "/usr/local/lib/python3.11/dist-packages/keras/src/layers/core/embedding.py:90: UserWarning: Argument `input_length` is deprecated. Just remove it.\n",
            "  warnings.warn(\n"
          ]
        },
        {
          "name": "stdout",
          "output_type": "stream",
          "text": [
            "\n",
            "Fold 2 Results:\n",
            "              precision    recall  f1-score   support\n",
            "\n",
            "          -1       0.67      0.76      0.71       343\n",
            "           0       0.33      0.37      0.35       152\n",
            "           1       0.82      0.72      0.76       529\n",
            "\n",
            "    accuracy                           0.68      1024\n",
            "   macro avg       0.60      0.61      0.61      1024\n",
            "weighted avg       0.69      0.68      0.68      1024\n",
            "\n"
          ]
        },
        {
          "name": "stderr",
          "output_type": "stream",
          "text": [
            "/usr/local/lib/python3.11/dist-packages/keras/src/layers/core/embedding.py:90: UserWarning: Argument `input_length` is deprecated. Just remove it.\n",
            "  warnings.warn(\n"
          ]
        },
        {
          "name": "stdout",
          "output_type": "stream",
          "text": [
            "\n",
            "Fold 3 Results:\n",
            "              precision    recall  f1-score   support\n",
            "\n",
            "          -1       0.72      0.68      0.70       343\n",
            "           0       0.37      0.38      0.38       153\n",
            "           1       0.79      0.82      0.81       528\n",
            "\n",
            "    accuracy                           0.71      1024\n",
            "   macro avg       0.63      0.63      0.63      1024\n",
            "weighted avg       0.71      0.71      0.71      1024\n",
            "\n"
          ]
        },
        {
          "name": "stderr",
          "output_type": "stream",
          "text": [
            "/usr/local/lib/python3.11/dist-packages/keras/src/layers/core/embedding.py:90: UserWarning: Argument `input_length` is deprecated. Just remove it.\n",
            "  warnings.warn(\n"
          ]
        },
        {
          "name": "stdout",
          "output_type": "stream",
          "text": [
            "\n",
            "Fold 4 Results:\n",
            "              precision    recall  f1-score   support\n",
            "\n",
            "          -1       0.58      0.76      0.65       344\n",
            "           0       0.32      0.43      0.36       152\n",
            "           1       0.88      0.61      0.72       528\n",
            "\n",
            "    accuracy                           0.63      1024\n",
            "   macro avg       0.59      0.60      0.58      1024\n",
            "weighted avg       0.69      0.63      0.64      1024\n",
            "\n"
          ]
        },
        {
          "name": "stderr",
          "output_type": "stream",
          "text": [
            "/usr/local/lib/python3.11/dist-packages/keras/src/layers/core/embedding.py:90: UserWarning: Argument `input_length` is deprecated. Just remove it.\n",
            "  warnings.warn(\n"
          ]
        },
        {
          "name": "stdout",
          "output_type": "stream",
          "text": [
            "\n",
            "Fold 5 Results:\n",
            "              precision    recall  f1-score   support\n",
            "\n",
            "          -1       0.70      0.78      0.74       344\n",
            "           0       0.39      0.32      0.35       152\n",
            "           1       0.81      0.79      0.80       528\n",
            "\n",
            "    accuracy                           0.71      1024\n",
            "   macro avg       0.63      0.63      0.63      1024\n",
            "weighted avg       0.71      0.71      0.71      1024\n",
            "\n",
            "Mean Accuracy: 0.6823 (±0.0291)\n"
          ]
        }
      ],
      "source": [
        "sampling_techniques_over = ['oversample']\n",
        "results = analyze_all_aspects_dl(df, aspects, sampling_techniques_over)"
      ]
    },
    {
      "cell_type": "markdown",
      "metadata": {
        "id": "vUK937Nw4vXH"
      },
      "source": [
        "Dravidian embedding Fast text"
      ]
    },
    {
      "cell_type": "code",
      "execution_count": null,
      "metadata": {
        "colab": {
          "base_uri": "https://localhost:8080/"
        },
        "collapsed": true,
        "id": "bDVFwK5y4u_A",
        "outputId": "e3a62a7c-00e3-4b87-dda2-e4998e488b26"
      },
      "outputs": [
        {
          "name": "stdout",
          "output_type": "stream",
          "text": [
            "\n",
            "Analyzing aspect: Acting\n",
            "\n",
            "Using undersample sampling:\n"
          ]
        },
        {
          "name": "stderr",
          "output_type": "stream",
          "text": [
            "/usr/local/lib/python3.11/dist-packages/keras/src/layers/core/embedding.py:90: UserWarning: Argument `input_length` is deprecated. Just remove it.\n",
            "  warnings.warn(\n"
          ]
        },
        {
          "name": "stdout",
          "output_type": "stream",
          "text": [
            "\n",
            "Fold 1 Results:\n",
            "              precision    recall  f1-score   support\n",
            "\n",
            "          -1       0.07      0.74      0.12        34\n",
            "           0       0.92      0.37      0.53       770\n",
            "           1       0.49      0.72      0.58       221\n",
            "\n",
            "    accuracy                           0.46      1025\n",
            "   macro avg       0.49      0.61      0.41      1025\n",
            "weighted avg       0.80      0.46      0.53      1025\n",
            "\n"
          ]
        },
        {
          "name": "stderr",
          "output_type": "stream",
          "text": [
            "/usr/local/lib/python3.11/dist-packages/keras/src/layers/core/embedding.py:90: UserWarning: Argument `input_length` is deprecated. Just remove it.\n",
            "  warnings.warn(\n"
          ]
        },
        {
          "name": "stdout",
          "output_type": "stream",
          "text": [
            "\n",
            "Fold 2 Results:\n",
            "              precision    recall  f1-score   support\n",
            "\n",
            "          -1       0.08      0.70      0.15        33\n",
            "           0       0.92      0.54      0.68       769\n",
            "           1       0.52      0.68      0.59       222\n",
            "\n",
            "    accuracy                           0.58      1024\n",
            "   macro avg       0.51      0.64      0.47      1024\n",
            "weighted avg       0.81      0.58      0.65      1024\n",
            "\n"
          ]
        },
        {
          "name": "stderr",
          "output_type": "stream",
          "text": [
            "/usr/local/lib/python3.11/dist-packages/keras/src/layers/core/embedding.py:90: UserWarning: Argument `input_length` is deprecated. Just remove it.\n",
            "  warnings.warn(\n"
          ]
        },
        {
          "name": "stdout",
          "output_type": "stream",
          "text": [
            "\n",
            "Fold 3 Results:\n",
            "              precision    recall  f1-score   support\n",
            "\n",
            "          -1       0.08      0.85      0.15        33\n",
            "           0       0.91      0.52      0.66       769\n",
            "           1       0.58      0.64      0.61       222\n",
            "\n",
            "    accuracy                           0.56      1024\n",
            "   macro avg       0.52      0.67      0.47      1024\n",
            "weighted avg       0.81      0.56      0.63      1024\n",
            "\n"
          ]
        },
        {
          "name": "stderr",
          "output_type": "stream",
          "text": [
            "/usr/local/lib/python3.11/dist-packages/keras/src/layers/core/embedding.py:90: UserWarning: Argument `input_length` is deprecated. Just remove it.\n",
            "  warnings.warn(\n"
          ]
        },
        {
          "name": "stdout",
          "output_type": "stream",
          "text": [
            "\n",
            "Fold 4 Results:\n",
            "              precision    recall  f1-score   support\n",
            "\n",
            "          -1       0.06      0.61      0.11        33\n",
            "           0       0.90      0.43      0.58       769\n",
            "           1       0.45      0.66      0.54       222\n",
            "\n",
            "    accuracy                           0.49      1024\n",
            "   macro avg       0.47      0.57      0.41      1024\n",
            "weighted avg       0.77      0.49      0.56      1024\n",
            "\n"
          ]
        },
        {
          "name": "stderr",
          "output_type": "stream",
          "text": [
            "/usr/local/lib/python3.11/dist-packages/keras/src/layers/core/embedding.py:90: UserWarning: Argument `input_length` is deprecated. Just remove it.\n",
            "  warnings.warn(\n"
          ]
        },
        {
          "name": "stdout",
          "output_type": "stream",
          "text": [
            "\n",
            "Fold 5 Results:\n",
            "              precision    recall  f1-score   support\n",
            "\n",
            "          -1       0.08      0.71      0.14        34\n",
            "           0       0.93      0.53      0.67       769\n",
            "           1       0.54      0.67      0.60       221\n",
            "\n",
            "    accuracy                           0.56      1024\n",
            "   macro avg       0.51      0.63      0.47      1024\n",
            "weighted avg       0.81      0.56      0.64      1024\n",
            "\n",
            "Mean Accuracy: 0.5294 (±0.0466)\n",
            "\n",
            "Analyzing aspect: direction\n",
            "\n",
            "Using undersample sampling:\n"
          ]
        },
        {
          "name": "stderr",
          "output_type": "stream",
          "text": [
            "/usr/local/lib/python3.11/dist-packages/keras/src/layers/core/embedding.py:90: UserWarning: Argument `input_length` is deprecated. Just remove it.\n",
            "  warnings.warn(\n"
          ]
        },
        {
          "name": "stdout",
          "output_type": "stream",
          "text": [
            "\n",
            "Fold 1 Results:\n",
            "              precision    recall  f1-score   support\n",
            "\n",
            "          -1       0.28      0.71      0.40       139\n",
            "           0       0.93      0.63      0.75       824\n",
            "           1       0.28      0.52      0.36        62\n",
            "\n",
            "    accuracy                           0.63      1025\n",
            "   macro avg       0.50      0.62      0.51      1025\n",
            "weighted avg       0.80      0.63      0.68      1025\n",
            "\n"
          ]
        },
        {
          "name": "stderr",
          "output_type": "stream",
          "text": [
            "/usr/local/lib/python3.11/dist-packages/keras/src/layers/core/embedding.py:90: UserWarning: Argument `input_length` is deprecated. Just remove it.\n",
            "  warnings.warn(\n"
          ]
        },
        {
          "name": "stdout",
          "output_type": "stream",
          "text": [
            "\n",
            "Fold 2 Results:\n",
            "              precision    recall  f1-score   support\n",
            "\n",
            "          -1       0.35      0.71      0.47       138\n",
            "           0       0.93      0.75      0.83       824\n",
            "           1       0.40      0.50      0.45        62\n",
            "\n",
            "    accuracy                           0.73      1024\n",
            "   macro avg       0.56      0.65      0.58      1024\n",
            "weighted avg       0.82      0.73      0.76      1024\n",
            "\n"
          ]
        },
        {
          "name": "stderr",
          "output_type": "stream",
          "text": [
            "/usr/local/lib/python3.11/dist-packages/keras/src/layers/core/embedding.py:90: UserWarning: Argument `input_length` is deprecated. Just remove it.\n",
            "  warnings.warn(\n"
          ]
        },
        {
          "name": "stdout",
          "output_type": "stream",
          "text": [
            "\n",
            "Fold 3 Results:\n",
            "              precision    recall  f1-score   support\n",
            "\n",
            "          -1       0.30      0.68      0.42       139\n",
            "           0       0.95      0.57      0.71       823\n",
            "           1       0.18      0.66      0.29        62\n",
            "\n",
            "    accuracy                           0.59      1024\n",
            "   macro avg       0.48      0.64      0.47      1024\n",
            "weighted avg       0.82      0.59      0.65      1024\n",
            "\n"
          ]
        },
        {
          "name": "stderr",
          "output_type": "stream",
          "text": [
            "/usr/local/lib/python3.11/dist-packages/keras/src/layers/core/embedding.py:90: UserWarning: Argument `input_length` is deprecated. Just remove it.\n",
            "  warnings.warn(\n"
          ]
        },
        {
          "name": "stdout",
          "output_type": "stream",
          "text": [
            "\n",
            "Fold 4 Results:\n",
            "              precision    recall  f1-score   support\n",
            "\n",
            "          -1       0.33      0.81      0.47       139\n",
            "           0       0.95      0.64      0.77       823\n",
            "           1       0.27      0.52      0.35        62\n",
            "\n",
            "    accuracy                           0.66      1024\n",
            "   macro avg       0.51      0.66      0.53      1024\n",
            "weighted avg       0.82      0.66      0.70      1024\n",
            "\n"
          ]
        },
        {
          "name": "stderr",
          "output_type": "stream",
          "text": [
            "/usr/local/lib/python3.11/dist-packages/keras/src/layers/core/embedding.py:90: UserWarning: Argument `input_length` is deprecated. Just remove it.\n",
            "  warnings.warn(\n"
          ]
        },
        {
          "name": "stdout",
          "output_type": "stream",
          "text": [
            "\n",
            "Fold 5 Results:\n",
            "              precision    recall  f1-score   support\n",
            "\n",
            "          -1       0.29      0.76      0.42       139\n",
            "           0       0.94      0.59      0.73       823\n",
            "           1       0.26      0.61      0.37        62\n",
            "\n",
            "    accuracy                           0.62      1024\n",
            "   macro avg       0.50      0.65      0.51      1024\n",
            "weighted avg       0.81      0.62      0.66      1024\n",
            "\n",
            "Mean Accuracy: 0.6464 (±0.0492)\n",
            "\n",
            "Analyzing aspect: Music\n",
            "\n",
            "Using undersample sampling:\n"
          ]
        },
        {
          "name": "stderr",
          "output_type": "stream",
          "text": [
            "/usr/local/lib/python3.11/dist-packages/keras/src/layers/core/embedding.py:90: UserWarning: Argument `input_length` is deprecated. Just remove it.\n",
            "  warnings.warn(\n"
          ]
        },
        {
          "name": "stdout",
          "output_type": "stream",
          "text": [
            "\n",
            "Fold 1 Results:\n",
            "              precision    recall  f1-score   support\n",
            "\n",
            "          -1       0.08      0.73      0.15        22\n",
            "           0       0.98      0.80      0.88       897\n",
            "           1       0.64      0.64      0.64       106\n",
            "\n",
            "    accuracy                           0.78      1025\n",
            "   macro avg       0.57      0.72      0.56      1025\n",
            "weighted avg       0.93      0.78      0.84      1025\n",
            "\n"
          ]
        },
        {
          "name": "stderr",
          "output_type": "stream",
          "text": [
            "/usr/local/lib/python3.11/dist-packages/keras/src/layers/core/embedding.py:90: UserWarning: Argument `input_length` is deprecated. Just remove it.\n",
            "  warnings.warn(\n"
          ]
        },
        {
          "name": "stdout",
          "output_type": "stream",
          "text": [
            "\n",
            "Fold 2 Results:\n",
            "              precision    recall  f1-score   support\n",
            "\n",
            "          -1       0.08      0.86      0.15        21\n",
            "           0       0.99      0.60      0.75       897\n",
            "           1       0.32      0.81      0.46       106\n",
            "\n",
            "    accuracy                           0.63      1024\n",
            "   macro avg       0.47      0.76      0.46      1024\n",
            "weighted avg       0.90      0.63      0.71      1024\n",
            "\n"
          ]
        },
        {
          "name": "stderr",
          "output_type": "stream",
          "text": [
            "/usr/local/lib/python3.11/dist-packages/keras/src/layers/core/embedding.py:90: UserWarning: Argument `input_length` is deprecated. Just remove it.\n",
            "  warnings.warn(\n"
          ]
        },
        {
          "name": "stdout",
          "output_type": "stream",
          "text": [
            "\n",
            "Fold 3 Results:\n",
            "              precision    recall  f1-score   support\n",
            "\n",
            "          -1       0.15      0.81      0.25        21\n",
            "           0       0.97      0.87      0.92       897\n",
            "           1       0.62      0.62      0.62       106\n",
            "\n",
            "    accuracy                           0.84      1024\n",
            "   macro avg       0.58      0.77      0.60      1024\n",
            "weighted avg       0.92      0.84      0.88      1024\n",
            "\n"
          ]
        },
        {
          "name": "stderr",
          "output_type": "stream",
          "text": [
            "/usr/local/lib/python3.11/dist-packages/keras/src/layers/core/embedding.py:90: UserWarning: Argument `input_length` is deprecated. Just remove it.\n",
            "  warnings.warn(\n"
          ]
        },
        {
          "name": "stdout",
          "output_type": "stream",
          "text": [
            "\n",
            "Fold 4 Results:\n",
            "              precision    recall  f1-score   support\n",
            "\n",
            "          -1       0.13      0.57      0.21        21\n",
            "           0       0.97      0.81      0.88       897\n",
            "           1       0.45      0.79      0.58       106\n",
            "\n",
            "    accuracy                           0.80      1024\n",
            "   macro avg       0.52      0.72      0.56      1024\n",
            "weighted avg       0.90      0.80      0.84      1024\n",
            "\n"
          ]
        },
        {
          "name": "stderr",
          "output_type": "stream",
          "text": [
            "/usr/local/lib/python3.11/dist-packages/keras/src/layers/core/embedding.py:90: UserWarning: Argument `input_length` is deprecated. Just remove it.\n",
            "  warnings.warn(\n"
          ]
        },
        {
          "name": "stdout",
          "output_type": "stream",
          "text": [
            "\n",
            "Fold 5 Results:\n",
            "              precision    recall  f1-score   support\n",
            "\n",
            "          -1       0.09      0.73      0.16        22\n",
            "           0       0.98      0.78      0.86       896\n",
            "           1       0.45      0.59      0.51       106\n",
            "\n",
            "    accuracy                           0.76      1024\n",
            "   macro avg       0.51      0.70      0.51      1024\n",
            "weighted avg       0.90      0.76      0.81      1024\n",
            "\n",
            "Mean Accuracy: 0.7620 (±0.0727)\n",
            "\n",
            "Analyzing aspect: Genre\n",
            "\n",
            "Using undersample sampling:\n"
          ]
        },
        {
          "name": "stderr",
          "output_type": "stream",
          "text": [
            "/usr/local/lib/python3.11/dist-packages/keras/src/layers/core/embedding.py:90: UserWarning: Argument `input_length` is deprecated. Just remove it.\n",
            "  warnings.warn(\n"
          ]
        },
        {
          "name": "stdout",
          "output_type": "stream",
          "text": [
            "\n",
            "Fold 1 Results:\n",
            "              precision    recall  f1-score   support\n",
            "\n",
            "          -1       0.01      0.50      0.02        10\n",
            "           0       0.98      0.45      0.62       975\n",
            "           1       0.09      0.20      0.12        40\n",
            "\n",
            "    accuracy                           0.44      1025\n",
            "   macro avg       0.36      0.38      0.25      1025\n",
            "weighted avg       0.94      0.44      0.59      1025\n",
            "\n"
          ]
        },
        {
          "name": "stderr",
          "output_type": "stream",
          "text": [
            "/usr/local/lib/python3.11/dist-packages/keras/src/layers/core/embedding.py:90: UserWarning: Argument `input_length` is deprecated. Just remove it.\n",
            "  warnings.warn(\n"
          ]
        },
        {
          "name": "stdout",
          "output_type": "stream",
          "text": [
            "\n",
            "Fold 2 Results:\n",
            "              precision    recall  f1-score   support\n",
            "\n",
            "          -1       0.05      0.73      0.09        11\n",
            "           0       0.98      0.47      0.63       974\n",
            "           1       0.06      0.56      0.10        39\n",
            "\n",
            "    accuracy                           0.47      1024\n",
            "   macro avg       0.36      0.59      0.27      1024\n",
            "weighted avg       0.94      0.47      0.60      1024\n",
            "\n"
          ]
        },
        {
          "name": "stderr",
          "output_type": "stream",
          "text": [
            "/usr/local/lib/python3.11/dist-packages/keras/src/layers/core/embedding.py:90: UserWarning: Argument `input_length` is deprecated. Just remove it.\n",
            "  warnings.warn(\n"
          ]
        },
        {
          "name": "stdout",
          "output_type": "stream",
          "text": [
            "\n",
            "Fold 3 Results:\n",
            "              precision    recall  f1-score   support\n",
            "\n",
            "          -1       0.02      0.36      0.04        11\n",
            "           0       0.97      0.58      0.73       974\n",
            "           1       0.07      0.46      0.12        39\n",
            "\n",
            "    accuracy                           0.58      1024\n",
            "   macro avg       0.35      0.47      0.30      1024\n",
            "weighted avg       0.93      0.58      0.70      1024\n",
            "\n"
          ]
        },
        {
          "name": "stderr",
          "output_type": "stream",
          "text": [
            "/usr/local/lib/python3.11/dist-packages/keras/src/layers/core/embedding.py:90: UserWarning: Argument `input_length` is deprecated. Just remove it.\n",
            "  warnings.warn(\n"
          ]
        },
        {
          "name": "stdout",
          "output_type": "stream",
          "text": [
            "\n",
            "Fold 4 Results:\n",
            "              precision    recall  f1-score   support\n",
            "\n",
            "          -1       0.03      0.55      0.05        11\n",
            "           0       0.98      0.23      0.37       974\n",
            "           1       0.04      0.62      0.08        39\n",
            "\n",
            "    accuracy                           0.25      1024\n",
            "   macro avg       0.35      0.46      0.17      1024\n",
            "weighted avg       0.94      0.25      0.36      1024\n",
            "\n"
          ]
        },
        {
          "name": "stderr",
          "output_type": "stream",
          "text": [
            "/usr/local/lib/python3.11/dist-packages/keras/src/layers/core/embedding.py:90: UserWarning: Argument `input_length` is deprecated. Just remove it.\n",
            "  warnings.warn(\n"
          ]
        },
        {
          "name": "stdout",
          "output_type": "stream",
          "text": [
            "\n",
            "Fold 5 Results:\n",
            "              precision    recall  f1-score   support\n",
            "\n",
            "          -1       0.02      0.40      0.04        10\n",
            "           0       0.98      0.69      0.81       974\n",
            "           1       0.08      0.28      0.13        40\n",
            "\n",
            "    accuracy                           0.67      1024\n",
            "   macro avg       0.36      0.45      0.32      1024\n",
            "weighted avg       0.93      0.67      0.77      1024\n",
            "\n",
            "Mean Accuracy: 0.4812 (±0.1424)\n",
            "\n",
            "Analyzing aspect: excitement\n",
            "\n",
            "Using undersample sampling:\n"
          ]
        },
        {
          "name": "stderr",
          "output_type": "stream",
          "text": [
            "/usr/local/lib/python3.11/dist-packages/keras/src/layers/core/embedding.py:90: UserWarning: Argument `input_length` is deprecated. Just remove it.\n",
            "  warnings.warn(\n"
          ]
        },
        {
          "name": "stdout",
          "output_type": "stream",
          "text": [
            "\n",
            "Fold 1 Results:\n",
            "              precision    recall  f1-score   support\n",
            "\n",
            "          -1       0.36      0.78      0.49       152\n",
            "           0       0.80      0.44      0.57       583\n",
            "           1       0.53      0.69      0.60       290\n",
            "\n",
            "    accuracy                           0.56      1025\n",
            "   macro avg       0.56      0.64      0.55      1025\n",
            "weighted avg       0.66      0.56      0.57      1025\n",
            "\n"
          ]
        },
        {
          "name": "stderr",
          "output_type": "stream",
          "text": [
            "/usr/local/lib/python3.11/dist-packages/keras/src/layers/core/embedding.py:90: UserWarning: Argument `input_length` is deprecated. Just remove it.\n",
            "  warnings.warn(\n"
          ]
        },
        {
          "name": "stdout",
          "output_type": "stream",
          "text": [
            "\n",
            "Fold 2 Results:\n",
            "              precision    recall  f1-score   support\n",
            "\n",
            "          -1       0.34      0.86      0.48       152\n",
            "           0       0.81      0.40      0.53       583\n",
            "           1       0.59      0.71      0.64       289\n",
            "\n",
            "    accuracy                           0.55      1024\n",
            "   macro avg       0.58      0.65      0.55      1024\n",
            "weighted avg       0.67      0.55      0.56      1024\n",
            "\n"
          ]
        },
        {
          "name": "stderr",
          "output_type": "stream",
          "text": [
            "/usr/local/lib/python3.11/dist-packages/keras/src/layers/core/embedding.py:90: UserWarning: Argument `input_length` is deprecated. Just remove it.\n",
            "  warnings.warn(\n"
          ]
        },
        {
          "name": "stdout",
          "output_type": "stream",
          "text": [
            "\n",
            "Fold 3 Results:\n",
            "              precision    recall  f1-score   support\n",
            "\n",
            "          -1       0.40      0.75      0.52       151\n",
            "           0       0.76      0.49      0.60       583\n",
            "           1       0.56      0.70      0.62       290\n",
            "\n",
            "    accuracy                           0.59      1024\n",
            "   macro avg       0.57      0.65      0.58      1024\n",
            "weighted avg       0.65      0.59      0.59      1024\n",
            "\n"
          ]
        },
        {
          "name": "stderr",
          "output_type": "stream",
          "text": [
            "/usr/local/lib/python3.11/dist-packages/keras/src/layers/core/embedding.py:90: UserWarning: Argument `input_length` is deprecated. Just remove it.\n",
            "  warnings.warn(\n"
          ]
        },
        {
          "name": "stdout",
          "output_type": "stream",
          "text": [
            "\n",
            "Fold 4 Results:\n",
            "              precision    recall  f1-score   support\n",
            "\n",
            "          -1       0.33      0.83      0.48       152\n",
            "           0       0.76      0.47      0.58       582\n",
            "           1       0.62      0.61      0.61       290\n",
            "\n",
            "    accuracy                           0.56      1024\n",
            "   macro avg       0.57      0.64      0.56      1024\n",
            "weighted avg       0.66      0.56      0.58      1024\n",
            "\n"
          ]
        },
        {
          "name": "stderr",
          "output_type": "stream",
          "text": [
            "/usr/local/lib/python3.11/dist-packages/keras/src/layers/core/embedding.py:90: UserWarning: Argument `input_length` is deprecated. Just remove it.\n",
            "  warnings.warn(\n"
          ]
        },
        {
          "name": "stdout",
          "output_type": "stream",
          "text": [
            "\n",
            "Fold 5 Results:\n",
            "              precision    recall  f1-score   support\n",
            "\n",
            "          -1       0.37      0.74      0.49       152\n",
            "           0       0.76      0.60      0.67       582\n",
            "           1       0.70      0.63      0.66       290\n",
            "\n",
            "    accuracy                           0.63      1024\n",
            "   macro avg       0.61      0.66      0.61      1024\n",
            "weighted avg       0.69      0.63      0.64      1024\n",
            "\n",
            "Mean Accuracy: 0.5800 (±0.0280)\n",
            "\n",
            "Analyzing aspect: ovr_sent\n",
            "\n",
            "Using undersample sampling:\n"
          ]
        },
        {
          "name": "stderr",
          "output_type": "stream",
          "text": [
            "/usr/local/lib/python3.11/dist-packages/keras/src/layers/core/embedding.py:90: UserWarning: Argument `input_length` is deprecated. Just remove it.\n",
            "  warnings.warn(\n"
          ]
        },
        {
          "name": "stdout",
          "output_type": "stream",
          "text": [
            "\n",
            "Fold 1 Results:\n",
            "              precision    recall  f1-score   support\n",
            "\n",
            "          -1       0.65      0.77      0.71       344\n",
            "           0       0.43      0.43      0.43       152\n",
            "           1       0.83      0.73      0.77       529\n",
            "\n",
            "    accuracy                           0.70      1025\n",
            "   macro avg       0.64      0.64      0.64      1025\n",
            "weighted avg       0.71      0.70      0.70      1025\n",
            "\n"
          ]
        },
        {
          "name": "stderr",
          "output_type": "stream",
          "text": [
            "/usr/local/lib/python3.11/dist-packages/keras/src/layers/core/embedding.py:90: UserWarning: Argument `input_length` is deprecated. Just remove it.\n",
            "  warnings.warn(\n"
          ]
        },
        {
          "name": "stdout",
          "output_type": "stream",
          "text": [
            "\n",
            "Fold 2 Results:\n",
            "              precision    recall  f1-score   support\n",
            "\n",
            "          -1       0.66      0.78      0.71       343\n",
            "           0       0.31      0.59      0.40       152\n",
            "           1       0.89      0.55      0.68       529\n",
            "\n",
            "    accuracy                           0.63      1024\n",
            "   macro avg       0.62      0.64      0.60      1024\n",
            "weighted avg       0.73      0.63      0.65      1024\n",
            "\n"
          ]
        },
        {
          "name": "stderr",
          "output_type": "stream",
          "text": [
            "/usr/local/lib/python3.11/dist-packages/keras/src/layers/core/embedding.py:90: UserWarning: Argument `input_length` is deprecated. Just remove it.\n",
            "  warnings.warn(\n"
          ]
        },
        {
          "name": "stdout",
          "output_type": "stream",
          "text": [
            "\n",
            "Fold 3 Results:\n",
            "              precision    recall  f1-score   support\n",
            "\n",
            "          -1       0.74      0.67      0.70       343\n",
            "           0       0.33      0.49      0.39       153\n",
            "           1       0.85      0.78      0.82       528\n",
            "\n",
            "    accuracy                           0.70      1024\n",
            "   macro avg       0.64      0.65      0.64      1024\n",
            "weighted avg       0.74      0.70      0.71      1024\n",
            "\n"
          ]
        },
        {
          "name": "stderr",
          "output_type": "stream",
          "text": [
            "/usr/local/lib/python3.11/dist-packages/keras/src/layers/core/embedding.py:90: UserWarning: Argument `input_length` is deprecated. Just remove it.\n",
            "  warnings.warn(\n"
          ]
        },
        {
          "name": "stdout",
          "output_type": "stream",
          "text": [
            "\n",
            "Fold 4 Results:\n",
            "              precision    recall  f1-score   support\n",
            "\n",
            "          -1       0.65      0.78      0.71       344\n",
            "           0       0.42      0.36      0.39       152\n",
            "           1       0.83      0.75      0.79       528\n",
            "\n",
            "    accuracy                           0.70      1024\n",
            "   macro avg       0.63      0.63      0.63      1024\n",
            "weighted avg       0.71      0.70      0.70      1024\n",
            "\n"
          ]
        },
        {
          "name": "stderr",
          "output_type": "stream",
          "text": [
            "/usr/local/lib/python3.11/dist-packages/keras/src/layers/core/embedding.py:90: UserWarning: Argument `input_length` is deprecated. Just remove it.\n",
            "  warnings.warn(\n"
          ]
        },
        {
          "name": "stdout",
          "output_type": "stream",
          "text": [
            "\n",
            "Fold 5 Results:\n",
            "              precision    recall  f1-score   support\n",
            "\n",
            "          -1       0.75      0.57      0.65       344\n",
            "           0       0.31      0.60      0.41       152\n",
            "           1       0.83      0.74      0.78       528\n",
            "\n",
            "    accuracy                           0.66      1024\n",
            "   macro avg       0.63      0.64      0.61      1024\n",
            "weighted avg       0.73      0.66      0.68      1024\n",
            "\n",
            "Mean Accuracy: 0.6788 (±0.0280)\n"
          ]
        }
      ],
      "source": [
        "aspects = ['Acting', 'direction', 'Music', 'Genre', 'excitement', 'ovr_sent']\n",
        "sampling_techniques_under = ['undersample']\n",
        "results = analyze_all_aspects_dl(df, aspects, sampling_techniques_under)"
      ]
    },
    {
      "cell_type": "code",
      "execution_count": null,
      "metadata": {
        "colab": {
          "base_uri": "https://localhost:8080/"
        },
        "collapsed": true,
        "id": "N-yT4Erd8h9U",
        "outputId": "fe2294a6-3c28-4a53-a4bf-f8daa90ec550"
      },
      "outputs": [
        {
          "name": "stdout",
          "output_type": "stream",
          "text": [
            "\n",
            "Analyzing aspect: Acting\n",
            "\n",
            "Using oversample sampling:\n"
          ]
        },
        {
          "name": "stderr",
          "output_type": "stream",
          "text": [
            "/usr/local/lib/python3.11/dist-packages/keras/src/layers/core/embedding.py:90: UserWarning: Argument `input_length` is deprecated. Just remove it.\n",
            "  warnings.warn(\n"
          ]
        },
        {
          "name": "stdout",
          "output_type": "stream",
          "text": [
            "\n",
            "Fold 1 Results:\n",
            "              precision    recall  f1-score   support\n",
            "\n",
            "          -1       0.08      0.09      0.08        34\n",
            "           0       0.89      0.90      0.90       770\n",
            "           1       0.67      0.66      0.67       221\n",
            "\n",
            "    accuracy                           0.82      1025\n",
            "   macro avg       0.55      0.55      0.55      1025\n",
            "weighted avg       0.82      0.82      0.82      1025\n",
            "\n"
          ]
        },
        {
          "name": "stderr",
          "output_type": "stream",
          "text": [
            "/usr/local/lib/python3.11/dist-packages/keras/src/layers/core/embedding.py:90: UserWarning: Argument `input_length` is deprecated. Just remove it.\n",
            "  warnings.warn(\n"
          ]
        },
        {
          "name": "stdout",
          "output_type": "stream",
          "text": [
            "\n",
            "Fold 2 Results:\n",
            "              precision    recall  f1-score   support\n",
            "\n",
            "          -1       0.10      0.27      0.15        33\n",
            "           0       0.89      0.77      0.83       769\n",
            "           1       0.54      0.67      0.60       222\n",
            "\n",
            "    accuracy                           0.73      1024\n",
            "   macro avg       0.51      0.57      0.53      1024\n",
            "weighted avg       0.79      0.73      0.76      1024\n",
            "\n"
          ]
        },
        {
          "name": "stderr",
          "output_type": "stream",
          "text": [
            "/usr/local/lib/python3.11/dist-packages/keras/src/layers/core/embedding.py:90: UserWarning: Argument `input_length` is deprecated. Just remove it.\n",
            "  warnings.warn(\n"
          ]
        },
        {
          "name": "stdout",
          "output_type": "stream",
          "text": [
            "\n",
            "Fold 3 Results:\n",
            "              precision    recall  f1-score   support\n",
            "\n",
            "          -1       0.10      0.18      0.13        33\n",
            "           0       0.90      0.82      0.86       769\n",
            "           1       0.59      0.70      0.64       222\n",
            "\n",
            "    accuracy                           0.77      1024\n",
            "   macro avg       0.53      0.57      0.54      1024\n",
            "weighted avg       0.80      0.77      0.79      1024\n",
            "\n"
          ]
        },
        {
          "name": "stderr",
          "output_type": "stream",
          "text": [
            "/usr/local/lib/python3.11/dist-packages/keras/src/layers/core/embedding.py:90: UserWarning: Argument `input_length` is deprecated. Just remove it.\n",
            "  warnings.warn(\n"
          ]
        },
        {
          "name": "stdout",
          "output_type": "stream",
          "text": [
            "\n",
            "Fold 4 Results:\n",
            "              precision    recall  f1-score   support\n",
            "\n",
            "          -1       0.04      0.03      0.03        33\n",
            "           0       0.87      0.89      0.88       769\n",
            "           1       0.66      0.64      0.65       222\n",
            "\n",
            "    accuracy                           0.80      1024\n",
            "   macro avg       0.52      0.52      0.52      1024\n",
            "weighted avg       0.80      0.80      0.80      1024\n",
            "\n"
          ]
        },
        {
          "name": "stderr",
          "output_type": "stream",
          "text": [
            "/usr/local/lib/python3.11/dist-packages/keras/src/layers/core/embedding.py:90: UserWarning: Argument `input_length` is deprecated. Just remove it.\n",
            "  warnings.warn(\n"
          ]
        },
        {
          "name": "stdout",
          "output_type": "stream",
          "text": [
            "\n",
            "Fold 5 Results:\n",
            "              precision    recall  f1-score   support\n",
            "\n",
            "          -1       0.04      0.06      0.05        34\n",
            "           0       0.89      0.84      0.86       769\n",
            "           1       0.58      0.64      0.61       221\n",
            "\n",
            "    accuracy                           0.77      1024\n",
            "   macro avg       0.50      0.51      0.51      1024\n",
            "weighted avg       0.79      0.77      0.78      1024\n",
            "\n",
            "Mean Accuracy: 0.7799 (±0.0298)\n",
            "\n",
            "Analyzing aspect: direction\n",
            "\n",
            "Using oversample sampling:\n"
          ]
        },
        {
          "name": "stderr",
          "output_type": "stream",
          "text": [
            "/usr/local/lib/python3.11/dist-packages/keras/src/layers/core/embedding.py:90: UserWarning: Argument `input_length` is deprecated. Just remove it.\n",
            "  warnings.warn(\n"
          ]
        },
        {
          "name": "stdout",
          "output_type": "stream",
          "text": [
            "\n",
            "Fold 1 Results:\n",
            "              precision    recall  f1-score   support\n",
            "\n",
            "          -1       0.37      0.42      0.39       139\n",
            "           0       0.88      0.86      0.87       824\n",
            "           1       0.37      0.34      0.35        62\n",
            "\n",
            "    accuracy                           0.77      1025\n",
            "   macro avg       0.54      0.54      0.54      1025\n",
            "weighted avg       0.78      0.77      0.78      1025\n",
            "\n"
          ]
        },
        {
          "name": "stderr",
          "output_type": "stream",
          "text": [
            "/usr/local/lib/python3.11/dist-packages/keras/src/layers/core/embedding.py:90: UserWarning: Argument `input_length` is deprecated. Just remove it.\n",
            "  warnings.warn(\n"
          ]
        },
        {
          "name": "stdout",
          "output_type": "stream",
          "text": [
            "\n",
            "Fold 2 Results:\n",
            "              precision    recall  f1-score   support\n",
            "\n",
            "          -1       0.40      0.44      0.42       138\n",
            "           0       0.88      0.88      0.88       824\n",
            "           1       0.39      0.27      0.32        62\n",
            "\n",
            "    accuracy                           0.78      1024\n",
            "   macro avg       0.55      0.53      0.54      1024\n",
            "weighted avg       0.78      0.78      0.78      1024\n",
            "\n"
          ]
        },
        {
          "name": "stderr",
          "output_type": "stream",
          "text": [
            "/usr/local/lib/python3.11/dist-packages/keras/src/layers/core/embedding.py:90: UserWarning: Argument `input_length` is deprecated. Just remove it.\n",
            "  warnings.warn(\n"
          ]
        },
        {
          "name": "stdout",
          "output_type": "stream",
          "text": [
            "\n",
            "Fold 3 Results:\n",
            "              precision    recall  f1-score   support\n",
            "\n",
            "          -1       0.48      0.22      0.30       139\n",
            "           0       0.85      0.94      0.89       823\n",
            "           1       0.41      0.35      0.38        62\n",
            "\n",
            "    accuracy                           0.80      1024\n",
            "   macro avg       0.58      0.50      0.52      1024\n",
            "weighted avg       0.77      0.80      0.78      1024\n",
            "\n"
          ]
        },
        {
          "name": "stderr",
          "output_type": "stream",
          "text": [
            "/usr/local/lib/python3.11/dist-packages/keras/src/layers/core/embedding.py:90: UserWarning: Argument `input_length` is deprecated. Just remove it.\n",
            "  warnings.warn(\n"
          ]
        },
        {
          "name": "stdout",
          "output_type": "stream",
          "text": [
            "\n",
            "Fold 4 Results:\n",
            "              precision    recall  f1-score   support\n",
            "\n",
            "          -1       0.45      0.27      0.33       139\n",
            "           0       0.86      0.91      0.88       823\n",
            "           1       0.32      0.39      0.35        62\n",
            "\n",
            "    accuracy                           0.79      1024\n",
            "   macro avg       0.54      0.52      0.52      1024\n",
            "weighted avg       0.77      0.79      0.78      1024\n",
            "\n"
          ]
        },
        {
          "name": "stderr",
          "output_type": "stream",
          "text": [
            "/usr/local/lib/python3.11/dist-packages/keras/src/layers/core/embedding.py:90: UserWarning: Argument `input_length` is deprecated. Just remove it.\n",
            "  warnings.warn(\n"
          ]
        },
        {
          "name": "stdout",
          "output_type": "stream",
          "text": [
            "\n",
            "Fold 5 Results:\n",
            "              precision    recall  f1-score   support\n",
            "\n",
            "          -1       0.36      0.40      0.38       139\n",
            "           0       0.86      0.86      0.86       823\n",
            "           1       0.33      0.24      0.28        62\n",
            "\n",
            "    accuracy                           0.76      1024\n",
            "   macro avg       0.51      0.50      0.50      1024\n",
            "weighted avg       0.76      0.76      0.76      1024\n",
            "\n",
            "Mean Accuracy: 0.7815 (±0.0143)\n",
            "\n",
            "Analyzing aspect: Music\n",
            "\n",
            "Using oversample sampling:\n"
          ]
        },
        {
          "name": "stderr",
          "output_type": "stream",
          "text": [
            "/usr/local/lib/python3.11/dist-packages/keras/src/layers/core/embedding.py:90: UserWarning: Argument `input_length` is deprecated. Just remove it.\n",
            "  warnings.warn(\n"
          ]
        },
        {
          "name": "stdout",
          "output_type": "stream",
          "text": [
            "\n",
            "Fold 1 Results:\n",
            "              precision    recall  f1-score   support\n",
            "\n",
            "          -1       0.12      0.18      0.15        22\n",
            "           0       0.97      0.93      0.95       897\n",
            "           1       0.55      0.70      0.62       106\n",
            "\n",
            "    accuracy                           0.89      1025\n",
            "   macro avg       0.55      0.60      0.57      1025\n",
            "weighted avg       0.91      0.89      0.90      1025\n",
            "\n"
          ]
        },
        {
          "name": "stderr",
          "output_type": "stream",
          "text": [
            "/usr/local/lib/python3.11/dist-packages/keras/src/layers/core/embedding.py:90: UserWarning: Argument `input_length` is deprecated. Just remove it.\n",
            "  warnings.warn(\n"
          ]
        },
        {
          "name": "stdout",
          "output_type": "stream",
          "text": [
            "\n",
            "Fold 2 Results:\n",
            "              precision    recall  f1-score   support\n",
            "\n",
            "          -1       0.19      0.57      0.29        21\n",
            "           0       0.97      0.90      0.94       897\n",
            "           1       0.56      0.70      0.62       106\n",
            "\n",
            "    accuracy                           0.87      1024\n",
            "   macro avg       0.57      0.72      0.61      1024\n",
            "weighted avg       0.92      0.87      0.89      1024\n",
            "\n"
          ]
        },
        {
          "name": "stderr",
          "output_type": "stream",
          "text": [
            "/usr/local/lib/python3.11/dist-packages/keras/src/layers/core/embedding.py:90: UserWarning: Argument `input_length` is deprecated. Just remove it.\n",
            "  warnings.warn(\n"
          ]
        },
        {
          "name": "stdout",
          "output_type": "stream",
          "text": [
            "\n",
            "Fold 3 Results:\n",
            "              precision    recall  f1-score   support\n",
            "\n",
            "          -1       0.20      0.52      0.29        21\n",
            "           0       0.96      0.97      0.96       897\n",
            "           1       0.77      0.50      0.61       106\n",
            "\n",
            "    accuracy                           0.91      1024\n",
            "   macro avg       0.64      0.66      0.62      1024\n",
            "weighted avg       0.93      0.91      0.91      1024\n",
            "\n"
          ]
        },
        {
          "name": "stderr",
          "output_type": "stream",
          "text": [
            "/usr/local/lib/python3.11/dist-packages/keras/src/layers/core/embedding.py:90: UserWarning: Argument `input_length` is deprecated. Just remove it.\n",
            "  warnings.warn(\n"
          ]
        },
        {
          "name": "stdout",
          "output_type": "stream",
          "text": [
            "\n",
            "Fold 4 Results:\n",
            "              precision    recall  f1-score   support\n",
            "\n",
            "          -1       0.05      0.14      0.07        21\n",
            "           0       0.98      0.88      0.93       897\n",
            "           1       0.52      0.77      0.62       106\n",
            "\n",
            "    accuracy                           0.86      1024\n",
            "   macro avg       0.52      0.60      0.54      1024\n",
            "weighted avg       0.91      0.86      0.88      1024\n",
            "\n"
          ]
        },
        {
          "name": "stderr",
          "output_type": "stream",
          "text": [
            "/usr/local/lib/python3.11/dist-packages/keras/src/layers/core/embedding.py:90: UserWarning: Argument `input_length` is deprecated. Just remove it.\n",
            "  warnings.warn(\n"
          ]
        },
        {
          "name": "stdout",
          "output_type": "stream",
          "text": [
            "\n",
            "Fold 5 Results:\n",
            "              precision    recall  f1-score   support\n",
            "\n",
            "          -1       0.12      0.23      0.16        22\n",
            "           0       0.96      0.94      0.95       896\n",
            "           1       0.63      0.61      0.62       106\n",
            "\n",
            "    accuracy                           0.89      1024\n",
            "   macro avg       0.57      0.59      0.58      1024\n",
            "weighted avg       0.91      0.89      0.90      1024\n",
            "\n",
            "Mean Accuracy: 0.8834 (±0.0181)\n",
            "\n",
            "Analyzing aspect: Genre\n",
            "\n",
            "Using oversample sampling:\n"
          ]
        },
        {
          "name": "stderr",
          "output_type": "stream",
          "text": [
            "/usr/local/lib/python3.11/dist-packages/keras/src/layers/core/embedding.py:90: UserWarning: Argument `input_length` is deprecated. Just remove it.\n",
            "  warnings.warn(\n"
          ]
        },
        {
          "name": "stdout",
          "output_type": "stream",
          "text": [
            "\n",
            "Fold 1 Results:\n",
            "              precision    recall  f1-score   support\n",
            "\n",
            "          -1       0.00      0.00      0.00        10\n",
            "           0       0.96      0.95      0.95       975\n",
            "           1       0.15      0.10      0.12        40\n",
            "\n",
            "    accuracy                           0.90      1025\n",
            "   macro avg       0.37      0.35      0.36      1025\n",
            "weighted avg       0.92      0.90      0.91      1025\n",
            "\n"
          ]
        },
        {
          "name": "stderr",
          "output_type": "stream",
          "text": [
            "/usr/local/lib/python3.11/dist-packages/keras/src/layers/core/embedding.py:90: UserWarning: Argument `input_length` is deprecated. Just remove it.\n",
            "  warnings.warn(\n"
          ]
        },
        {
          "name": "stdout",
          "output_type": "stream",
          "text": [
            "\n",
            "Fold 2 Results:\n",
            "              precision    recall  f1-score   support\n",
            "\n",
            "          -1       0.00      0.00      0.00        11\n",
            "           0       0.96      0.92      0.94       974\n",
            "           1       0.06      0.08      0.07        39\n",
            "\n",
            "    accuracy                           0.88      1024\n",
            "   macro avg       0.34      0.33      0.34      1024\n",
            "weighted avg       0.91      0.88      0.90      1024\n",
            "\n"
          ]
        },
        {
          "name": "stderr",
          "output_type": "stream",
          "text": [
            "/usr/local/lib/python3.11/dist-packages/keras/src/layers/core/embedding.py:90: UserWarning: Argument `input_length` is deprecated. Just remove it.\n",
            "  warnings.warn(\n"
          ]
        },
        {
          "name": "stdout",
          "output_type": "stream",
          "text": [
            "\n",
            "Fold 3 Results:\n",
            "              precision    recall  f1-score   support\n",
            "\n",
            "          -1       0.00      0.00      0.00        11\n",
            "           0       0.97      0.89      0.93       974\n",
            "           1       0.17      0.33      0.23        39\n",
            "\n",
            "    accuracy                           0.86      1024\n",
            "   macro avg       0.38      0.41      0.38      1024\n",
            "weighted avg       0.93      0.86      0.89      1024\n",
            "\n"
          ]
        },
        {
          "name": "stderr",
          "output_type": "stream",
          "text": [
            "/usr/local/lib/python3.11/dist-packages/keras/src/layers/core/embedding.py:90: UserWarning: Argument `input_length` is deprecated. Just remove it.\n",
            "  warnings.warn(\n"
          ]
        },
        {
          "name": "stdout",
          "output_type": "stream",
          "text": [
            "\n",
            "Fold 4 Results:\n",
            "              precision    recall  f1-score   support\n",
            "\n",
            "          -1       0.02      0.09      0.03        11\n",
            "           0       0.97      0.83      0.89       974\n",
            "           1       0.12      0.38      0.18        39\n",
            "\n",
            "    accuracy                           0.80      1024\n",
            "   macro avg       0.37      0.43      0.37      1024\n",
            "weighted avg       0.92      0.80      0.85      1024\n",
            "\n"
          ]
        },
        {
          "name": "stderr",
          "output_type": "stream",
          "text": [
            "/usr/local/lib/python3.11/dist-packages/keras/src/layers/core/embedding.py:90: UserWarning: Argument `input_length` is deprecated. Just remove it.\n",
            "  warnings.warn(\n"
          ]
        },
        {
          "name": "stdout",
          "output_type": "stream",
          "text": [
            "\n",
            "Fold 5 Results:\n",
            "              precision    recall  f1-score   support\n",
            "\n",
            "          -1       0.01      0.10      0.02        10\n",
            "           0       0.96      0.79      0.87       974\n",
            "           1       0.08      0.25      0.13        40\n",
            "\n",
            "    accuracy                           0.76      1024\n",
            "   macro avg       0.35      0.38      0.34      1024\n",
            "weighted avg       0.92      0.76      0.83      1024\n",
            "\n",
            "Mean Accuracy: 0.8422 (±0.0519)\n",
            "\n",
            "Analyzing aspect: excitement\n",
            "\n",
            "Using oversample sampling:\n"
          ]
        },
        {
          "name": "stderr",
          "output_type": "stream",
          "text": [
            "/usr/local/lib/python3.11/dist-packages/keras/src/layers/core/embedding.py:90: UserWarning: Argument `input_length` is deprecated. Just remove it.\n",
            "  warnings.warn(\n"
          ]
        },
        {
          "name": "stdout",
          "output_type": "stream",
          "text": [
            "\n",
            "Fold 1 Results:\n",
            "              precision    recall  f1-score   support\n",
            "\n",
            "          -1       0.40      0.45      0.42       152\n",
            "           0       0.71      0.72      0.72       583\n",
            "           1       0.61      0.56      0.58       290\n",
            "\n",
            "    accuracy                           0.63      1025\n",
            "   macro avg       0.58      0.57      0.57      1025\n",
            "weighted avg       0.64      0.63      0.63      1025\n",
            "\n"
          ]
        },
        {
          "name": "stderr",
          "output_type": "stream",
          "text": [
            "/usr/local/lib/python3.11/dist-packages/keras/src/layers/core/embedding.py:90: UserWarning: Argument `input_length` is deprecated. Just remove it.\n",
            "  warnings.warn(\n"
          ]
        },
        {
          "name": "stdout",
          "output_type": "stream",
          "text": [
            "\n",
            "Fold 2 Results:\n",
            "              precision    recall  f1-score   support\n",
            "\n",
            "          -1       0.34      0.46      0.39       152\n",
            "           0       0.70      0.70      0.70       583\n",
            "           1       0.68      0.56      0.61       289\n",
            "\n",
            "    accuracy                           0.62      1024\n",
            "   macro avg       0.57      0.57      0.57      1024\n",
            "weighted avg       0.64      0.62      0.63      1024\n",
            "\n"
          ]
        },
        {
          "name": "stderr",
          "output_type": "stream",
          "text": [
            "/usr/local/lib/python3.11/dist-packages/keras/src/layers/core/embedding.py:90: UserWarning: Argument `input_length` is deprecated. Just remove it.\n",
            "  warnings.warn(\n"
          ]
        },
        {
          "name": "stdout",
          "output_type": "stream",
          "text": [
            "\n",
            "Fold 3 Results:\n",
            "              precision    recall  f1-score   support\n",
            "\n",
            "          -1       0.38      0.60      0.46       151\n",
            "           0       0.76      0.55      0.63       583\n",
            "           1       0.53      0.67      0.59       290\n",
            "\n",
            "    accuracy                           0.59      1024\n",
            "   macro avg       0.56      0.60      0.56      1024\n",
            "weighted avg       0.64      0.59      0.60      1024\n",
            "\n"
          ]
        },
        {
          "name": "stderr",
          "output_type": "stream",
          "text": [
            "/usr/local/lib/python3.11/dist-packages/keras/src/layers/core/embedding.py:90: UserWarning: Argument `input_length` is deprecated. Just remove it.\n",
            "  warnings.warn(\n"
          ]
        },
        {
          "name": "stdout",
          "output_type": "stream",
          "text": [
            "\n",
            "Fold 4 Results:\n",
            "              precision    recall  f1-score   support\n",
            "\n",
            "          -1       0.42      0.38      0.39       152\n",
            "           0       0.69      0.80      0.74       582\n",
            "           1       0.70      0.52      0.60       290\n",
            "\n",
            "    accuracy                           0.66      1024\n",
            "   macro avg       0.60      0.56      0.58      1024\n",
            "weighted avg       0.65      0.66      0.65      1024\n",
            "\n"
          ]
        },
        {
          "name": "stderr",
          "output_type": "stream",
          "text": [
            "/usr/local/lib/python3.11/dist-packages/keras/src/layers/core/embedding.py:90: UserWarning: Argument `input_length` is deprecated. Just remove it.\n",
            "  warnings.warn(\n"
          ]
        },
        {
          "name": "stdout",
          "output_type": "stream",
          "text": [
            "\n",
            "Fold 5 Results:\n",
            "              precision    recall  f1-score   support\n",
            "\n",
            "          -1       0.41      0.36      0.38       152\n",
            "           0       0.70      0.75      0.72       582\n",
            "           1       0.66      0.62      0.64       290\n",
            "\n",
            "    accuracy                           0.65      1024\n",
            "   macro avg       0.59      0.57      0.58      1024\n",
            "weighted avg       0.65      0.65      0.65      1024\n",
            "\n",
            "Mean Accuracy: 0.6305 (±0.0244)\n",
            "\n",
            "Analyzing aspect: ovr_sent\n",
            "\n",
            "Using oversample sampling:\n"
          ]
        },
        {
          "name": "stderr",
          "output_type": "stream",
          "text": [
            "/usr/local/lib/python3.11/dist-packages/keras/src/layers/core/embedding.py:90: UserWarning: Argument `input_length` is deprecated. Just remove it.\n",
            "  warnings.warn(\n"
          ]
        },
        {
          "name": "stdout",
          "output_type": "stream",
          "text": [
            "\n",
            "Fold 1 Results:\n",
            "              precision    recall  f1-score   support\n",
            "\n",
            "          -1       0.73      0.47      0.57       344\n",
            "           0       0.31      0.53      0.40       152\n",
            "           1       0.76      0.78      0.77       529\n",
            "\n",
            "    accuracy                           0.64      1025\n",
            "   macro avg       0.60      0.59      0.58      1025\n",
            "weighted avg       0.68      0.64      0.65      1025\n",
            "\n"
          ]
        },
        {
          "name": "stderr",
          "output_type": "stream",
          "text": [
            "/usr/local/lib/python3.11/dist-packages/keras/src/layers/core/embedding.py:90: UserWarning: Argument `input_length` is deprecated. Just remove it.\n",
            "  warnings.warn(\n"
          ]
        },
        {
          "name": "stdout",
          "output_type": "stream",
          "text": [
            "\n",
            "Fold 2 Results:\n",
            "              precision    recall  f1-score   support\n",
            "\n",
            "          -1       0.70      0.76      0.73       343\n",
            "           0       0.40      0.35      0.37       152\n",
            "           1       0.80      0.78      0.79       529\n",
            "\n",
            "    accuracy                           0.71      1024\n",
            "   macro avg       0.63      0.63      0.63      1024\n",
            "weighted avg       0.70      0.71      0.71      1024\n",
            "\n"
          ]
        },
        {
          "name": "stderr",
          "output_type": "stream",
          "text": [
            "/usr/local/lib/python3.11/dist-packages/keras/src/layers/core/embedding.py:90: UserWarning: Argument `input_length` is deprecated. Just remove it.\n",
            "  warnings.warn(\n"
          ]
        },
        {
          "name": "stdout",
          "output_type": "stream",
          "text": [
            "\n",
            "Fold 3 Results:\n",
            "              precision    recall  f1-score   support\n",
            "\n",
            "          -1       0.68      0.78      0.73       343\n",
            "           0       0.35      0.29      0.32       153\n",
            "           1       0.83      0.79      0.81       528\n",
            "\n",
            "    accuracy                           0.72      1024\n",
            "   macro avg       0.62      0.62      0.62      1024\n",
            "weighted avg       0.71      0.72      0.71      1024\n",
            "\n"
          ]
        },
        {
          "name": "stderr",
          "output_type": "stream",
          "text": [
            "/usr/local/lib/python3.11/dist-packages/keras/src/layers/core/embedding.py:90: UserWarning: Argument `input_length` is deprecated. Just remove it.\n",
            "  warnings.warn(\n"
          ]
        },
        {
          "name": "stdout",
          "output_type": "stream",
          "text": [
            "\n",
            "Fold 4 Results:\n",
            "              precision    recall  f1-score   support\n",
            "\n",
            "          -1       0.63      0.73      0.68       344\n",
            "           0       0.34      0.53      0.41       152\n",
            "           1       0.89      0.66      0.76       528\n",
            "\n",
            "    accuracy                           0.66      1024\n",
            "   macro avg       0.62      0.64      0.61      1024\n",
            "weighted avg       0.72      0.66      0.68      1024\n",
            "\n"
          ]
        },
        {
          "name": "stderr",
          "output_type": "stream",
          "text": [
            "/usr/local/lib/python3.11/dist-packages/keras/src/layers/core/embedding.py:90: UserWarning: Argument `input_length` is deprecated. Just remove it.\n",
            "  warnings.warn(\n"
          ]
        },
        {
          "name": "stdout",
          "output_type": "stream",
          "text": [
            "\n",
            "Fold 5 Results:\n",
            "              precision    recall  f1-score   support\n",
            "\n",
            "          -1       0.79      0.60      0.69       344\n",
            "           0       0.40      0.47      0.43       152\n",
            "           1       0.74      0.82      0.78       528\n",
            "\n",
            "    accuracy                           0.70      1024\n",
            "   macro avg       0.65      0.63      0.63      1024\n",
            "weighted avg       0.71      0.70      0.70      1024\n",
            "\n",
            "Mean Accuracy: 0.6846 (±0.0294)\n"
          ]
        }
      ],
      "source": [
        "aspects = ['Acting', 'direction', 'Music', 'Genre', 'excitement', 'ovr_sent']\n",
        "sampling_techniques_over = ['oversample']\n",
        "results = analyze_all_aspects_dl(df, aspects, sampling_techniques_over)"
      ]
    },
    {
      "cell_type": "code",
      "execution_count": null,
      "metadata": {
        "id": "KUvjoSH_muAT"
      },
      "outputs": [],
      "source": [
        "train_df = pd.read_csv(\"train_data.csv\")\n",
        "test_df = pd.read_csv(\"test_data.csv\")\n",
        "\n",
        "# Ensure EMBEDDING_DIM and embeddings_index are defined in your context\n",
        "\n",
        "def train_final_dl_models_from_csv(train_df, test_df, aspects):\n",
        "    \"\"\"\n",
        "    For each aspect, loads training data from train_df and testing data from test_df.\n",
        "    Performs 5-fold cross validation on the training data to select the best deep learning model,\n",
        "    averaging the training accuracy across folds and using class weights to address imbalanced datasets.\n",
        "    Evaluates the best model on both the training and test sets and prints classification reports.\n",
        "\n",
        "    Returns:\n",
        "        best_models: dict of best models (with their label encoder and tokenizer) for each aspect.\n",
        "        train_reports: dict of training classification reports for each aspect.\n",
        "        test_reports: dict of test classification reports for each aspect.\n",
        "    \"\"\"\n",
        "    best_models = {}\n",
        "    train_reports = {}\n",
        "    test_reports = {}\n",
        "    maxlen = 15  # Maximum sequence length\n",
        "\n",
        "    for aspect in aspects:\n",
        "        print(f\"\\n=== Processing aspect: {aspect} ===\")\n",
        "        # Prepare the data for the current aspect\n",
        "        X_train, y_train = prepare_data(train_df, aspect)\n",
        "        X_test, y_test = prepare_data(test_df, aspect)\n",
        "\n",
        "        # Encode target labels\n",
        "        le = LabelEncoder()\n",
        "        y_train_encoded = le.fit_transform(y_train)\n",
        "        y_test_encoded = le.transform(y_test)  # Use the same encoder for test data\n",
        "        target_names = [str(label) for label in le.classes_]\n",
        "\n",
        "        # Tokenize the training texts and pad sequences\n",
        "        tokenizer = Tokenizer()\n",
        "        tokenizer.fit_on_texts(X_train['clean_text'])\n",
        "        train_sequences = tokenizer.texts_to_sequences(X_train['clean_text'])\n",
        "        test_sequences = tokenizer.texts_to_sequences(X_test['clean_text'])\n",
        "        X_train_padded = pad_sequences(train_sequences, maxlen=maxlen)\n",
        "        X_test_padded = pad_sequences(test_sequences, maxlen=maxlen)\n",
        "\n",
        "        # Prepare the embedding matrix using the tokenizer's word index\n",
        "        word_index = tokenizer.word_index\n",
        "        num_words = len(word_index) + 1\n",
        "        embedding_matrix = np.zeros((num_words, EMBEDDING_DIM))\n",
        "        for word, i in word_index.items():\n",
        "            embedding_vector = embeddings_index.get(word)\n",
        "            if embedding_vector is not None:\n",
        "                if len(embedding_vector) == EMBEDDING_DIM:\n",
        "                    embedding_matrix[i] = embedding_vector\n",
        "                else:\n",
        "                    print(f\"Warning: Embedding for '{word}' has unexpected dimension {len(embedding_vector)}. Skipping.\")\n",
        "        vocab_size = num_words\n",
        "\n",
        "        # Cross-validation on the training data to select the best model\n",
        "        skf = StratifiedKFold(n_splits=10, shuffle=True, random_state=42)\n",
        "        best_cv_score = -np.inf\n",
        "        best_model = None\n",
        "        cv_train_scores = []  # To store training accuracies for each fold\n",
        "\n",
        "        for fold, (cv_train_idx, cv_val_idx) in enumerate(skf.split(X_train_padded, y_train_encoded)):\n",
        "            X_cv_train = X_train_padded[cv_train_idx]\n",
        "            y_cv_train = y_train_encoded[cv_train_idx]\n",
        "            X_cv_val = X_train_padded[cv_val_idx]\n",
        "            y_cv_val = y_train_encoded[cv_val_idx]\n",
        "\n",
        "            # Compute class weights to address imbalance\n",
        "            classes = np.unique(y_cv_train)\n",
        "            cw = compute_class_weight(class_weight='balanced', classes=classes, y=y_cv_train)\n",
        "            class_weight = dict(zip(classes, cw))\n",
        "\n",
        "            # Define the model architecture\n",
        "            input_layer = tf.keras.layers.Input(shape=(maxlen,))\n",
        "            embedding_layer = tf.keras.layers.Embedding(\n",
        "                vocab_size,\n",
        "                EMBEDDING_DIM,\n",
        "                weights=[embedding_matrix],\n",
        "                trainable=False\n",
        "            )(input_layer)\n",
        "            bi_lstm = tf.keras.layers.Bidirectional(tf.keras.layers.LSTM(128, dropout=0.3, recurrent_dropout=0.2, return_sequences=True))(embedding_layer)\n",
        "            drop = tf.keras.layers.Dropout(0.2)(bi_lstm)\n",
        "            dense = tf.keras.layers.Dense(128, activation='relu',\n",
        "                                          kernel_regularizer=tf.keras.regularizers.l1_l2(l1=0.01, l2=0.01))(drop)\n",
        "            flat = tf.keras.layers.Flatten()(dense)\n",
        "            output_layer = tf.keras.layers.Dense(len(le.classes_), activation='softmax')(flat)\n",
        "\n",
        "            model = tf.keras.Model(input_layer, output_layer)\n",
        "            model.compile(optimizer='adam', loss='sparse_categorical_crossentropy', metrics=['accuracy'])\n",
        "\n",
        "            # Train the model on the current CV fold using class weights\n",
        "            model.fit(X_cv_train, y_cv_train, epochs=5, batch_size=32, verbose=0, class_weight=class_weight)\n",
        "\n",
        "            # Evaluate on the CV training fold for average training score\n",
        "            y_cv_train_pred = model.predict(X_cv_train, verbose=0).argmax(axis=1)\n",
        "            fold_train_accuracy = accuracy_score(y_cv_train, y_cv_train_pred)\n",
        "            cv_train_scores.append(fold_train_accuracy)\n",
        "\n",
        "            # Evaluate on the CV validation fold\n",
        "            y_cv_val_pred = model.predict(X_cv_val, verbose=0).argmax(axis=1)\n",
        "            cv_score = accuracy_score(y_cv_val, y_cv_val_pred)\n",
        "            print(f\"Fold {fold + 1} CV Accuracy: {cv_score:.4f}, Training Accuracy: {fold_train_accuracy:.4f}\")\n",
        "\n",
        "            # Select the best model based on CV validation accuracy\n",
        "            if cv_score > best_cv_score:\n",
        "                best_cv_score = cv_score\n",
        "                best_model = model\n",
        "\n",
        "        avg_cv_train_score = np.mean(cv_train_scores)\n",
        "        print(f\"Average Training Accuracy across folds: {avg_cv_train_score:.4f}\")\n",
        "\n",
        "        # Evaluate the best model on the entire training set\n",
        "        y_train_pred = best_model.predict(X_train_padded, verbose=0).argmax(axis=1)\n",
        "        train_acc = accuracy_score(y_train_encoded, y_train_pred)\n",
        "        train_report = classification_report(y_train_encoded, y_train_pred, target_names=target_names)\n",
        "        print(f\"Best CV model Training Accuracy on full training set: {train_acc:.4f}\")\n",
        "        print(\"Training Classification Report:\\n\", train_report)\n",
        "\n",
        "        # Evaluate on the test set\n",
        "        y_test_pred = best_model.predict(X_test_padded, verbose=0).argmax(axis=1)\n",
        "        test_acc = accuracy_score(y_test_encoded, y_test_pred)\n",
        "        test_report = classification_report(y_test_encoded, y_test_pred, target_names=target_names)\n",
        "        print(f\"Test Accuracy: {test_acc:.4f}\")\n",
        "        print(\"Test Classification Report:\\n\", test_report)\n",
        "\n",
        "        best_models[aspect.lower()] = {\n",
        "            \"model\": best_model,\n",
        "            \"label_encoder\": le,\n",
        "            \"tokenizer\": tokenizer\n",
        "        }\n",
        "        train_reports[aspect.lower()] = train_report\n",
        "        test_reports[aspect.lower()] = test_report\n",
        "\n",
        "    return best_models, train_reports, test_reports\n"
      ]
    },
    {
      "cell_type": "code",
      "execution_count": null,
      "metadata": {
        "id": "YHxLRRj5mvJ7"
      },
      "outputs": [],
      "source": [
        "aspects = ['Acting', 'direction', 'Music','ovr_sent']"
      ]
    },
    {
      "cell_type": "code",
      "execution_count": null,
      "metadata": {
        "colab": {
          "base_uri": "https://localhost:8080/"
        },
        "id": "xbsmL2KLmxV8",
        "outputId": "3efd4085-648a-4ea7-f3eb-7a595a87ee0f"
      },
      "outputs": [
        {
          "name": "stdout",
          "output_type": "stream",
          "text": [
            "\n",
            "=== Processing aspect: Acting ===\n",
            "Fold 1 CV Accuracy: 0.7797, Training Accuracy: 0.7798\n",
            "Fold 2 CV Accuracy: 0.6650, Training Accuracy: 0.7158\n",
            "Fold 3 CV Accuracy: 0.6345, Training Accuracy: 0.6845\n",
            "Fold 4 CV Accuracy: 0.7690, Training Accuracy: 0.8218\n",
            "Fold 5 CV Accuracy: 0.4289, Training Accuracy: 0.4426\n",
            "Fold 6 CV Accuracy: 0.7030, Training Accuracy: 0.7389\n",
            "Fold 7 CV Accuracy: 0.5838, Training Accuracy: 0.5957\n",
            "Fold 8 CV Accuracy: 0.4848, Training Accuracy: 0.5898\n",
            "Fold 9 CV Accuracy: 0.6574, Training Accuracy: 0.7153\n",
            "Fold 10 CV Accuracy: 0.7487, Training Accuracy: 0.7902\n",
            "Average Training Accuracy across folds: 0.6874\n",
            "Best CV model Training Accuracy on full training set: 0.7798\n",
            "Training Classification Report:\n",
            "               precision    recall  f1-score   support\n",
            "\n",
            "          -1       0.19      0.81      0.30       131\n",
            "           0       0.90      0.81      0.85      2962\n",
            "           1       0.79      0.67      0.72       848\n",
            "\n",
            "    accuracy                           0.78      3941\n",
            "   macro avg       0.63      0.76      0.63      3941\n",
            "weighted avg       0.86      0.78      0.81      3941\n",
            "\n",
            "Test Accuracy: 0.7992\n",
            "Test Classification Report:\n",
            "               precision    recall  f1-score   support\n",
            "\n",
            "          -1       0.17      0.44      0.24        34\n",
            "           0       0.88      0.87      0.88       746\n",
            "           1       0.78      0.59      0.67       206\n",
            "\n",
            "    accuracy                           0.80       986\n",
            "   macro avg       0.61      0.64      0.60       986\n",
            "weighted avg       0.83      0.80      0.81       986\n",
            "\n",
            "\n",
            "=== Processing aspect: direction ===\n",
            "Fold 1 CV Accuracy: 0.5975, Training Accuracy: 0.6478\n",
            "Fold 2 CV Accuracy: 0.6574, Training Accuracy: 0.7305\n",
            "Fold 3 CV Accuracy: 0.7335, Training Accuracy: 0.7350\n",
            "Fold 4 CV Accuracy: 0.6574, Training Accuracy: 0.6809\n",
            "Fold 5 CV Accuracy: 0.6726, Training Accuracy: 0.7090\n",
            "Fold 6 CV Accuracy: 0.6980, Training Accuracy: 0.7716\n",
            "Fold 7 CV Accuracy: 0.7005, Training Accuracy: 0.7559\n",
            "Fold 8 CV Accuracy: 0.6371, Training Accuracy: 0.6944\n",
            "Fold 9 CV Accuracy: 0.6523, Training Accuracy: 0.7161\n",
            "Fold 10 CV Accuracy: 0.6853, Training Accuracy: 0.7745\n",
            "Average Training Accuracy across folds: 0.7216\n",
            "Best CV model Training Accuracy on full training set: 0.7348\n",
            "Training Classification Report:\n",
            "               precision    recall  f1-score   support\n",
            "\n",
            "          -1       0.38      0.89      0.53       568\n",
            "           0       0.97      0.71      0.82      3128\n",
            "           1       0.53      0.73      0.62       245\n",
            "\n",
            "    accuracy                           0.73      3941\n",
            "   macro avg       0.63      0.77      0.66      3941\n",
            "weighted avg       0.86      0.73      0.76      3941\n",
            "\n",
            "Test Accuracy: 0.6704\n",
            "Test Classification Report:\n",
            "               precision    recall  f1-score   support\n",
            "\n",
            "          -1       0.27      0.69      0.39       124\n",
            "           0       0.93      0.68      0.78       804\n",
            "           1       0.38      0.53      0.44        58\n",
            "\n",
            "    accuracy                           0.67       986\n",
            "   macro avg       0.53      0.63      0.54       986\n",
            "weighted avg       0.81      0.67      0.71       986\n",
            "\n",
            "\n",
            "=== Processing aspect: Music ===\n",
            "Fold 1 CV Accuracy: 0.8608, Training Accuracy: 0.8923\n",
            "Fold 2 CV Accuracy: 0.9036, Training Accuracy: 0.9416\n",
            "Fold 3 CV Accuracy: 0.9188, Training Accuracy: 0.9462\n",
            "Fold 4 CV Accuracy: 0.9188, Training Accuracy: 0.9543\n",
            "Fold 5 CV Accuracy: 0.8579, Training Accuracy: 0.9098\n",
            "Fold 6 CV Accuracy: 0.8782, Training Accuracy: 0.9053\n",
            "Fold 7 CV Accuracy: 0.9188, Training Accuracy: 0.9476\n",
            "Fold 8 CV Accuracy: 0.8985, Training Accuracy: 0.8844\n",
            "Fold 9 CV Accuracy: 0.9137, Training Accuracy: 0.9298\n",
            "Fold 10 CV Accuracy: 0.9061, Training Accuracy: 0.9185\n",
            "Average Training Accuracy across folds: 0.9230\n",
            "Best CV model Training Accuracy on full training set: 0.9434\n",
            "Training Classification Report:\n",
            "               precision    recall  f1-score   support\n",
            "\n",
            "          -1       0.44      0.85      0.58        89\n",
            "           0       0.98      0.96      0.97      3446\n",
            "           1       0.82      0.79      0.80       406\n",
            "\n",
            "    accuracy                           0.94      3941\n",
            "   macro avg       0.75      0.87      0.79      3941\n",
            "weighted avg       0.95      0.94      0.95      3941\n",
            "\n",
            "Test Accuracy: 0.9371\n",
            "Test Classification Report:\n",
            "               precision    recall  f1-score   support\n",
            "\n",
            "          -1       0.25      0.50      0.33        18\n",
            "           0       0.98      0.96      0.97       867\n",
            "           1       0.79      0.79      0.79       101\n",
            "\n",
            "    accuracy                           0.94       986\n",
            "   macro avg       0.68      0.75      0.70       986\n",
            "weighted avg       0.95      0.94      0.94       986\n",
            "\n",
            "\n",
            "=== Processing aspect: ovr_sent ===\n",
            "Fold 1 CV Accuracy: 0.7266, Training Accuracy: 0.7831\n",
            "Fold 2 CV Accuracy: 0.7208, Training Accuracy: 0.7832\n",
            "Fold 3 CV Accuracy: 0.5914, Training Accuracy: 0.6735\n",
            "Fold 4 CV Accuracy: 0.6599, Training Accuracy: 0.7372\n",
            "Fold 5 CV Accuracy: 0.6675, Training Accuracy: 0.7308\n",
            "Fold 6 CV Accuracy: 0.6954, Training Accuracy: 0.7511\n",
            "Fold 7 CV Accuracy: 0.7259, Training Accuracy: 0.7747\n",
            "Fold 8 CV Accuracy: 0.6447, Training Accuracy: 0.7714\n",
            "Fold 9 CV Accuracy: 0.6701, Training Accuracy: 0.7725\n",
            "Fold 10 CV Accuracy: 0.7234, Training Accuracy: 0.7451\n",
            "Average Training Accuracy across folds: 0.7523\n",
            "Best CV model Training Accuracy on full training set: 0.7775\n",
            "Training Classification Report:\n",
            "               precision    recall  f1-score   support\n",
            "\n",
            "          -1       0.79      0.80      0.80      1346\n",
            "           0       0.48      0.64      0.55       567\n",
            "           1       0.89      0.80      0.84      2028\n",
            "\n",
            "    accuracy                           0.78      3941\n",
            "   macro avg       0.72      0.75      0.73      3941\n",
            "weighted avg       0.80      0.78      0.78      3941\n",
            "\n",
            "Test Accuracy: 0.6947\n",
            "Test Classification Report:\n",
            "               precision    recall  f1-score   support\n",
            "\n",
            "          -1       0.79      0.64      0.71       348\n",
            "           0       0.33      0.55      0.42       139\n",
            "           1       0.81      0.77      0.79       499\n",
            "\n",
            "    accuracy                           0.69       986\n",
            "   macro avg       0.65      0.66      0.64       986\n",
            "weighted avg       0.74      0.69      0.71       986\n",
            "\n"
          ]
        }
      ],
      "source": [
        "best_models, train_reports, test_reports = train_final_dl_models_from_csv(train_df,test_df, aspects)"
      ]
    },
    {
      "cell_type": "code",
      "execution_count": null,
      "metadata": {
        "id": "bF-GgSvtTKcR"
      },
      "outputs": [],
      "source": [
        "def prepare_data(df, aspect_column):\n",
        "    \"\"\"Prepare data for a specific aspect\"\"\"\n",
        "    # Encode text to numerical values if needed\n",
        "    # le = LabelEncoder()\n",
        "    # Changed to return a DataFrame instead of a Series\n",
        "    X = df[['R_clean_text']]\n",
        "    y = df[aspect_column]\n",
        "    return X, y"
      ]
    },
    {
      "cell_type": "code",
      "execution_count": null,
      "metadata": {
        "id": "Ot2RE9bBTOzR"
      },
      "outputs": [],
      "source": [
        "train_df = pd.read_csv(\"Romanised_train_data.csv\")\n",
        "test_df = pd.read_csv(\"Romanised_test_data.csv\")\n",
        "\n",
        "# Ensure EMBEDDING_DIM and embeddings_index are defined in your context\n",
        "\n",
        "def train_final_dl_models_from_csv(train_df, test_df, aspects):\n",
        "    \"\"\"\n",
        "    For each aspect, loads training data from train_df and testing data from test_df.\n",
        "    Performs 5-fold cross validation on the training data to select the best deep learning model,\n",
        "    averaging the training accuracy across folds and using class weights to address imbalanced datasets.\n",
        "    Evaluates the best model on both the training and test sets and prints classification reports.\n",
        "\n",
        "    Returns:\n",
        "        best_models: dict of best models (with their label encoder and tokenizer) for each aspect.\n",
        "        train_reports: dict of training classification reports for each aspect.\n",
        "        test_reports: dict of test classification reports for each aspect.\n",
        "    \"\"\"\n",
        "    best_models = {}\n",
        "    train_reports = {}\n",
        "    test_reports = {}\n",
        "    maxlen = 15  # Maximum sequence length\n",
        "\n",
        "    for aspect in aspects:\n",
        "        print(f\"\\n=== Processing aspect: {aspect} ===\")\n",
        "        # Prepare the data for the current aspect\n",
        "        X_train, y_train = prepare_data(train_df, aspect)\n",
        "        X_test, y_test = prepare_data(test_df, aspect)\n",
        "\n",
        "        # Encode target labels\n",
        "        le = LabelEncoder()\n",
        "        y_train_encoded = le.fit_transform(y_train)\n",
        "        y_test_encoded = le.transform(y_test)  # Use the same encoder for test data\n",
        "        target_names = [str(label) for label in le.classes_]\n",
        "\n",
        "        # Tokenize the training texts and pad sequences\n",
        "        tokenizer = Tokenizer()\n",
        "        tokenizer.fit_on_texts(X_train['R_clean_text'])\n",
        "        train_sequences = tokenizer.texts_to_sequences(X_train['R_clean_text'])\n",
        "        test_sequences = tokenizer.texts_to_sequences(X_test['R_clean_text'])\n",
        "        X_train_padded = pad_sequences(train_sequences, maxlen=maxlen)\n",
        "        X_test_padded = pad_sequences(test_sequences, maxlen=maxlen)\n",
        "\n",
        "        # Prepare the embedding matrix using the tokenizer's word index\n",
        "        word_index = tokenizer.word_index\n",
        "        num_words = len(word_index) + 1\n",
        "        embedding_matrix = np.zeros((num_words, EMBEDDING_DIM))\n",
        "        for word, i in word_index.items():\n",
        "            embedding_vector = embeddings_index.get(word)\n",
        "            if embedding_vector is not None:\n",
        "                if len(embedding_vector) == EMBEDDING_DIM:\n",
        "                    embedding_matrix[i] = embedding_vector\n",
        "                else:\n",
        "                    print(f\"Warning: Embedding for '{word}' has unexpected dimension {len(embedding_vector)}. Skipping.\")\n",
        "        vocab_size = num_words\n",
        "\n",
        "        # Cross-validation on the training data to select the best model\n",
        "        skf = StratifiedKFold(n_splits=10, shuffle=True, random_state=42)\n",
        "        best_cv_score = -np.inf\n",
        "        best_model = None\n",
        "        cv_train_scores = []  # To store training accuracies for each fold\n",
        "\n",
        "        for fold, (cv_train_idx, cv_val_idx) in enumerate(skf.split(X_train_padded, y_train_encoded)):\n",
        "            X_cv_train = X_train_padded[cv_train_idx]\n",
        "            y_cv_train = y_train_encoded[cv_train_idx]\n",
        "            X_cv_val = X_train_padded[cv_val_idx]\n",
        "            y_cv_val = y_train_encoded[cv_val_idx]\n",
        "\n",
        "            # Compute class weights to address imbalance\n",
        "            classes = np.unique(y_cv_train)\n",
        "            cw = compute_class_weight(class_weight='balanced', classes=classes, y=y_cv_train)\n",
        "            class_weight = dict(zip(classes, cw))\n",
        "\n",
        "            # Define the model architecture\n",
        "            input_layer = tf.keras.layers.Input(shape=(maxlen,))\n",
        "            embedding_layer = tf.keras.layers.Embedding(\n",
        "                vocab_size,\n",
        "                EMBEDDING_DIM,\n",
        "                weights=[embedding_matrix],\n",
        "                trainable=False\n",
        "            )(input_layer)\n",
        "            bi_lstm = tf.keras.layers.Bidirectional(tf.keras.layers.LSTM(128, dropout=0.3, recurrent_dropout=0.2, return_sequences=True))(embedding_layer)\n",
        "            drop = tf.keras.layers.Dropout(0.2)(bi_lstm)\n",
        "            dense = tf.keras.layers.Dense(128, activation='relu',\n",
        "                                          kernel_regularizer=tf.keras.regularizers.l1_l2(l1=0.01, l2=0.01))(drop)\n",
        "            flat = tf.keras.layers.Flatten()(dense)\n",
        "            output_layer = tf.keras.layers.Dense(len(le.classes_), activation='softmax')(flat)\n",
        "\n",
        "            model = tf.keras.Model(input_layer, output_layer)\n",
        "            model.compile(optimizer='adam', loss='sparse_categorical_crossentropy', metrics=['accuracy'])\n",
        "\n",
        "            # Train the model on the current CV fold using class weights\n",
        "            model.fit(X_cv_train, y_cv_train, epochs=5, batch_size=32, verbose=0, class_weight=class_weight)\n",
        "\n",
        "            # Evaluate on the CV training fold for average training score\n",
        "            y_cv_train_pred = model.predict(X_cv_train, verbose=0).argmax(axis=1)\n",
        "            fold_train_accuracy = accuracy_score(y_cv_train, y_cv_train_pred)\n",
        "            cv_train_scores.append(fold_train_accuracy)\n",
        "\n",
        "            # Evaluate on the CV validation fold\n",
        "            y_cv_val_pred = model.predict(X_cv_val, verbose=0).argmax(axis=1)\n",
        "            cv_score = accuracy_score(y_cv_val, y_cv_val_pred)\n",
        "            print(f\"Fold {fold + 1} CV Accuracy: {cv_score:.4f}, Training Accuracy: {fold_train_accuracy:.4f}\")\n",
        "\n",
        "            # Select the best model based on CV validation accuracy\n",
        "            if cv_score > best_cv_score:\n",
        "                best_cv_score = cv_score\n",
        "                best_model = model\n",
        "\n",
        "        avg_cv_train_score = np.mean(cv_train_scores)\n",
        "        print(f\"Average Training Accuracy across folds: {avg_cv_train_score:.4f}\")\n",
        "\n",
        "        # Evaluate the best model on the entire training set\n",
        "        y_train_pred = best_model.predict(X_train_padded, verbose=0).argmax(axis=1)\n",
        "        train_acc = accuracy_score(y_train_encoded, y_train_pred)\n",
        "        train_report = classification_report(y_train_encoded, y_train_pred, target_names=target_names)\n",
        "        print(f\"Best CV model Training Accuracy on full training set: {train_acc:.4f}\")\n",
        "        print(\"Training Classification Report:\\n\", train_report)\n",
        "\n",
        "        # Evaluate on the test set\n",
        "        y_test_pred = best_model.predict(X_test_padded, verbose=0).argmax(axis=1)\n",
        "        test_acc = accuracy_score(y_test_encoded, y_test_pred)\n",
        "        test_report = classification_report(y_test_encoded, y_test_pred, target_names=target_names)\n",
        "        print(f\"Test Accuracy: {test_acc:.4f}\")\n",
        "        print(\"Test Classification Report:\\n\", test_report)\n",
        "\n",
        "        best_models[aspect.lower()] = {\n",
        "            \"model\": best_model,\n",
        "            \"label_encoder\": le,\n",
        "            \"tokenizer\": tokenizer\n",
        "        }\n",
        "        train_reports[aspect.lower()] = train_report\n",
        "        test_reports[aspect.lower()] = test_report\n",
        "\n",
        "    return best_models, train_reports, test_reports\n"
      ]
    },
    {
      "cell_type": "code",
      "execution_count": null,
      "metadata": {
        "colab": {
          "base_uri": "https://localhost:8080/"
        },
        "id": "N8RbQfuQTrtR",
        "outputId": "74b050f1-d5cc-4172-8d9a-38d5f15eda9a"
      },
      "outputs": [
        {
          "name": "stdout",
          "output_type": "stream",
          "text": [
            "\n",
            "=== Processing aspect: Acting ===\n",
            "Fold 1 CV Accuracy: 0.7215, Training Accuracy: 0.7628\n",
            "Fold 2 CV Accuracy: 0.6650, Training Accuracy: 0.7341\n",
            "Fold 3 CV Accuracy: 0.7690, Training Accuracy: 0.8427\n",
            "Fold 4 CV Accuracy: 0.7843, Training Accuracy: 0.7798\n",
            "Fold 5 CV Accuracy: 0.4569, Training Accuracy: 0.5007\n",
            "Fold 6 CV Accuracy: 0.8046, Training Accuracy: 0.8255\n",
            "Fold 7 CV Accuracy: 0.5102, Training Accuracy: 0.5145\n",
            "Fold 8 CV Accuracy: 0.7614, Training Accuracy: 0.8275\n",
            "Fold 9 CV Accuracy: 0.6650, Training Accuracy: 0.7398\n",
            "Fold 10 CV Accuracy: 0.5355, Training Accuracy: 0.5898\n",
            "Average Training Accuracy across folds: 0.7117\n",
            "Best CV model Training Accuracy on full training set: 0.8234\n",
            "Training Classification Report:\n",
            "               precision    recall  f1-score   support\n",
            "\n",
            "          -1       0.39      0.54      0.45       131\n",
            "           0       0.90      0.87      0.88      2962\n",
            "           1       0.67      0.72      0.69       848\n",
            "\n",
            "    accuracy                           0.82      3941\n",
            "   macro avg       0.65      0.71      0.68      3941\n",
            "weighted avg       0.83      0.82      0.83      3941\n",
            "\n",
            "Test Accuracy: 0.8154\n",
            "Test Classification Report:\n",
            "               precision    recall  f1-score   support\n",
            "\n",
            "          -1       0.21      0.21      0.21        34\n",
            "           0       0.89      0.88      0.88       746\n",
            "           1       0.65      0.70      0.67       206\n",
            "\n",
            "    accuracy                           0.82       986\n",
            "   macro avg       0.58      0.59      0.59       986\n",
            "weighted avg       0.82      0.82      0.82       986\n",
            "\n",
            "\n",
            "=== Processing aspect: direction ===\n",
            "Fold 1 CV Accuracy: 0.6608, Training Accuracy: 0.7140\n",
            "Fold 2 CV Accuracy: 0.6853, Training Accuracy: 0.7432\n",
            "Fold 3 CV Accuracy: 0.6777, Training Accuracy: 0.7000\n",
            "Fold 4 CV Accuracy: 0.6599, Training Accuracy: 0.7243\n",
            "Fold 5 CV Accuracy: 0.6777, Training Accuracy: 0.7198\n",
            "Fold 6 CV Accuracy: 0.6574, Training Accuracy: 0.7217\n",
            "Fold 7 CV Accuracy: 0.6421, Training Accuracy: 0.7251\n",
            "Fold 8 CV Accuracy: 0.6320, Training Accuracy: 0.6546\n",
            "Fold 9 CV Accuracy: 0.6294, Training Accuracy: 0.6969\n",
            "Fold 10 CV Accuracy: 0.5558, Training Accuracy: 0.6377\n",
            "Average Training Accuracy across folds: 0.7037\n",
            "Best CV model Training Accuracy on full training set: 0.7374\n",
            "Training Classification Report:\n",
            "               precision    recall  f1-score   support\n",
            "\n",
            "          -1       0.41      0.79      0.54       568\n",
            "           0       0.95      0.73      0.82      3128\n",
            "           1       0.40      0.73      0.52       245\n",
            "\n",
            "    accuracy                           0.74      3941\n",
            "   macro avg       0.59      0.75      0.63      3941\n",
            "weighted avg       0.83      0.74      0.76      3941\n",
            "\n",
            "Test Accuracy: 0.7211\n",
            "Test Classification Report:\n",
            "               precision    recall  f1-score   support\n",
            "\n",
            "          -1       0.30      0.51      0.38       124\n",
            "           0       0.91      0.77      0.83       804\n",
            "           1       0.31      0.52      0.39        58\n",
            "\n",
            "    accuracy                           0.72       986\n",
            "   macro avg       0.51      0.60      0.53       986\n",
            "weighted avg       0.80      0.72      0.75       986\n",
            "\n",
            "\n",
            "=== Processing aspect: Music ===\n",
            "Fold 1 CV Accuracy: 0.9013, Training Accuracy: 0.9292\n",
            "Fold 2 CV Accuracy: 0.9036, Training Accuracy: 0.9199\n",
            "Fold 3 CV Accuracy: 0.9036, Training Accuracy: 0.9281\n",
            "Fold 4 CV Accuracy: 0.9010, Training Accuracy: 0.9337\n",
            "Fold 5 CV Accuracy: 0.8832, Training Accuracy: 0.9380\n",
            "Fold 6 CV Accuracy: 0.8959, Training Accuracy: 0.9134\n",
            "Fold 7 CV Accuracy: 0.8680, Training Accuracy: 0.9047\n",
            "Fold 8 CV Accuracy: 0.9188, Training Accuracy: 0.9233\n",
            "Fold 9 CV Accuracy: 0.9137, Training Accuracy: 0.9377\n",
            "Fold 10 CV Accuracy: 0.9213, Training Accuracy: 0.9467\n",
            "Average Training Accuracy across folds: 0.9275\n",
            "Best CV model Training Accuracy on full training set: 0.9442\n",
            "Training Classification Report:\n",
            "               precision    recall  f1-score   support\n",
            "\n",
            "          -1       0.55      0.87      0.67        89\n",
            "           0       0.98      0.96      0.97      3446\n",
            "           1       0.76      0.79      0.78       406\n",
            "\n",
            "    accuracy                           0.94      3941\n",
            "   macro avg       0.76      0.87      0.81      3941\n",
            "weighted avg       0.95      0.94      0.95      3941\n",
            "\n",
            "Test Accuracy: 0.9320\n",
            "Test Classification Report:\n",
            "               precision    recall  f1-score   support\n",
            "\n",
            "          -1       0.40      0.67      0.50        18\n",
            "           0       0.98      0.96      0.97       867\n",
            "           1       0.70      0.76      0.73       101\n",
            "\n",
            "    accuracy                           0.93       986\n",
            "   macro avg       0.69      0.80      0.73       986\n",
            "weighted avg       0.94      0.93      0.94       986\n",
            "\n",
            "\n",
            "=== Processing aspect: ovr_sent ===\n",
            "Fold 1 CV Accuracy: 0.6430, Training Accuracy: 0.6988\n",
            "Fold 2 CV Accuracy: 0.6929, Training Accuracy: 0.7243\n",
            "Fold 3 CV Accuracy: 0.6523, Training Accuracy: 0.7429\n",
            "Fold 4 CV Accuracy: 0.6396, Training Accuracy: 0.7401\n",
            "Fold 5 CV Accuracy: 0.6269, Training Accuracy: 0.7144\n",
            "Fold 6 CV Accuracy: 0.6624, Training Accuracy: 0.7209\n",
            "Fold 7 CV Accuracy: 0.6802, Training Accuracy: 0.7364\n",
            "Fold 8 CV Accuracy: 0.5990, Training Accuracy: 0.7375\n",
            "Fold 9 CV Accuracy: 0.7005, Training Accuracy: 0.7440\n",
            "Fold 10 CV Accuracy: 0.6751, Training Accuracy: 0.7054\n",
            "Average Training Accuracy across folds: 0.7265\n",
            "Best CV model Training Accuracy on full training set: 0.7397\n",
            "Training Classification Report:\n",
            "               precision    recall  f1-score   support\n",
            "\n",
            "          -1       0.76      0.79      0.77      1346\n",
            "           0       0.43      0.66      0.52       567\n",
            "           1       0.89      0.73      0.80      2028\n",
            "\n",
            "    accuracy                           0.74      3941\n",
            "   macro avg       0.69      0.73      0.70      3941\n",
            "weighted avg       0.78      0.74      0.75      3941\n",
            "\n",
            "Test Accuracy: 0.6552\n",
            "Test Classification Report:\n",
            "               precision    recall  f1-score   support\n",
            "\n",
            "          -1       0.70      0.64      0.67       348\n",
            "           0       0.32      0.50      0.39       139\n",
            "           1       0.79      0.71      0.75       499\n",
            "\n",
            "    accuracy                           0.66       986\n",
            "   macro avg       0.60      0.62      0.60       986\n",
            "weighted avg       0.69      0.66      0.67       986\n",
            "\n"
          ]
        }
      ],
      "source": [
        "best_models, train_reports, test_reports = train_final_dl_models_from_csv(train_df,test_df, aspects)"
      ]
    },
    {
      "cell_type": "code",
      "execution_count": null,
      "metadata": {
        "id": "blszAZ_pcYWa"
      },
      "outputs": [],
      "source": [
        "train_df = pd.read_csv(\"Romanised_train_data.csv\")\n",
        "test_df = pd.read_csv(\"Romanised_test_data.csv\")\n",
        "\n",
        "# Ensure EMBEDDING_DIM and embeddings_index are defined in your context\n",
        "\n",
        "def train_final_dl_models_from_csv(train_df, test_df, aspects):\n",
        "    \"\"\"\n",
        "    For each aspect, loads training data from train_df and testing data from test_df.\n",
        "    Performs 5-fold cross validation on the training data to select the best deep learning model,\n",
        "    averaging the training accuracy across folds and using class weights to address imbalanced datasets.\n",
        "    Evaluates the best model on both the training and test sets and prints classification reports.\n",
        "\n",
        "    Returns:\n",
        "        best_models: dict of best models (with their label encoder and tokenizer) for each aspect.\n",
        "        train_reports: dict of training classification reports for each aspect.\n",
        "        test_reports: dict of test classification reports for each aspect.\n",
        "    \"\"\"\n",
        "    best_models = {}\n",
        "    train_reports = {}\n",
        "    test_reports = {}\n",
        "    maxlen = 15  # Maximum sequence length\n",
        "\n",
        "    for aspect in aspects:\n",
        "        print(f\"\\n=== Processing aspect: {aspect} ===\")\n",
        "        # Prepare the data for the current aspect\n",
        "        X_train, y_train = prepare_data(train_df, aspect)\n",
        "        X_test, y_test = prepare_data(test_df, aspect)\n",
        "\n",
        "        # Encode target labels\n",
        "        le = LabelEncoder()\n",
        "        y_train_encoded = le.fit_transform(y_train)\n",
        "        y_test_encoded = le.transform(y_test)  # Use the same encoder for test data\n",
        "        target_names = [str(label) for label in le.classes_]\n",
        "\n",
        "        # Tokenize the training texts and pad sequences\n",
        "        tokenizer = Tokenizer()\n",
        "        tokenizer.fit_on_texts(X_train['R_clean_text'])\n",
        "        train_sequences = tokenizer.texts_to_sequences(X_train['R_clean_text'])\n",
        "        test_sequences = tokenizer.texts_to_sequences(X_test['R_clean_text'])\n",
        "        X_train_padded = pad_sequences(train_sequences, maxlen=maxlen)\n",
        "        X_test_padded = pad_sequences(test_sequences, maxlen=maxlen)\n",
        "\n",
        "        # Prepare the embedding matrix using the tokenizer's word index\n",
        "        word_index = tokenizer.word_index\n",
        "        num_words = len(word_index) + 1\n",
        "        embedding_matrix = np.zeros((num_words, EMBEDDING_DIM))\n",
        "        for word, i in word_index.items():\n",
        "            embedding_vector = embeddings_index.get(word)\n",
        "            if embedding_vector is not None:\n",
        "                if len(embedding_vector) == EMBEDDING_DIM:\n",
        "                    embedding_matrix[i] = embedding_vector\n",
        "                else:\n",
        "                    print(f\"Warning: Embedding for '{word}' has unexpected dimension {len(embedding_vector)}. Skipping.\")\n",
        "        vocab_size = num_words\n",
        "\n",
        "        # Cross-validation on the training data to select the best model\n",
        "        skf = StratifiedKFold(n_splits=10, shuffle=True, random_state=42)\n",
        "        best_cv_score = -np.inf\n",
        "        best_model = None\n",
        "        cv_train_scores = []  # To store training accuracies for each fold\n",
        "\n",
        "        for fold, (cv_train_idx, cv_val_idx) in enumerate(skf.split(X_train_padded, y_train_encoded)):\n",
        "            X_cv_train = X_train_padded[cv_train_idx]\n",
        "            y_cv_train = y_train_encoded[cv_train_idx]\n",
        "            X_cv_val = X_train_padded[cv_val_idx]\n",
        "            y_cv_val = y_train_encoded[cv_val_idx]\n",
        "\n",
        "            # Compute class weights to address imbalance\n",
        "            classes = np.unique(y_cv_train)\n",
        "            cw = compute_class_weight(class_weight='balanced', classes=classes, y=y_cv_train)\n",
        "            class_weight = dict(zip(classes, cw))\n",
        "\n",
        "            # Define the model architecture\n",
        "            input_layer = tf.keras.layers.Input(shape=(maxlen,))\n",
        "            embedding_layer = tf.keras.layers.Embedding(\n",
        "                vocab_size,\n",
        "                EMBEDDING_DIM,\n",
        "                weights=[embedding_matrix],\n",
        "                trainable=False\n",
        "            )(input_layer)\n",
        "            bi_lstm = tf.keras.layers.Bidirectional(tf.keras.layers.LSTM(128, dropout=0.3, recurrent_dropout=0.2, return_sequences=True))(embedding_layer)\n",
        "            drop = tf.keras.layers.Dropout(0.2)(bi_lstm)\n",
        "            dense = tf.keras.layers.Dense(128, activation='relu',\n",
        "                                          kernel_regularizer=tf.keras.regularizers.l1_l2(l1=0.01, l2=0.01))(drop)\n",
        "            flat = tf.keras.layers.Flatten()(dense)\n",
        "            output_layer = tf.keras.layers.Dense(len(le.classes_), activation='softmax')(flat)\n",
        "\n",
        "            model = tf.keras.Model(input_layer, output_layer)\n",
        "            model.compile(optimizer='adam', loss='sparse_categorical_crossentropy', metrics=['accuracy'])\n",
        "\n",
        "            # Train the model on the current CV fold using class weights\n",
        "            model.fit(X_cv_train, y_cv_train, epochs=5, batch_size=32, verbose=0, class_weight=class_weight)\n",
        "\n",
        "            # Evaluate on the CV training fold for average training score\n",
        "            y_cv_train_pred = model.predict(X_cv_train, verbose=0).argmax(axis=1)\n",
        "            fold_train_accuracy = accuracy_score(y_cv_train, y_cv_train_pred)\n",
        "            cv_train_scores.append(fold_train_accuracy)\n",
        "\n",
        "            # Evaluate on the CV validation fold\n",
        "            y_cv_val_pred = model.predict(X_cv_val, verbose=0).argmax(axis=1)\n",
        "            cv_score = accuracy_score(y_cv_val, y_cv_val_pred)\n",
        "            print(f\"Fold {fold + 1} CV Accuracy: {cv_score:.4f}, Training Accuracy: {fold_train_accuracy:.4f}\")\n",
        "\n",
        "            # Select the best model based on CV validation accuracy\n",
        "            if cv_score > best_cv_score:\n",
        "                best_cv_score = cv_score\n",
        "                best_model = model\n",
        "\n",
        "        avg_cv_train_score = np.mean(cv_train_scores)\n",
        "        print(f\"Average Training Accuracy across folds: {avg_cv_train_score:.4f}\")\n",
        "\n",
        "        # Evaluate the best model on the entire training set\n",
        "        y_train_pred = best_model.predict(X_train_padded, verbose=0).argmax(axis=1)\n",
        "        train_acc = accuracy_score(y_train_encoded, y_train_pred)\n",
        "        train_report = classification_report(y_train_encoded, y_train_pred, target_names=target_names)\n",
        "        print(f\"Best CV model Training Accuracy on full training set: {train_acc:.4f}\")\n",
        "        print(\"Training Classification Report:\\n\", train_report)\n",
        "\n",
        "        # Evaluate on the test set\n",
        "        y_test_pred = best_model.predict(X_test_padded, verbose=0).argmax(axis=1)\n",
        "        test_acc = accuracy_score(y_test_encoded, y_test_pred)\n",
        "        test_report = classification_report(y_test_encoded, y_test_pred, target_names=target_names)\n",
        "        print(f\"Test Accuracy: {test_acc:.4f}\")\n",
        "        print(\"Test Classification Report:\\n\", test_report)\n",
        "\n",
        "        best_models[aspect.lower()] = {\n",
        "            \"model\": best_model,\n",
        "            \"label_encoder\": le,\n",
        "            \"tokenizer\": tokenizer\n",
        "        }\n",
        "        train_reports[aspect.lower()] = train_report\n",
        "        test_reports[aspect.lower()] = test_report\n",
        "\n",
        "    return best_models, train_reports, test_reports\n"
      ]
    },
    {
      "cell_type": "markdown",
      "metadata": {
        "id": "PnDvOWjJclNC"
      },
      "source": [
        "Modert Bert contexiualised embedding"
      ]
    },
    {
      "cell_type": "code",
      "execution_count": null,
      "metadata": {
        "colab": {
          "base_uri": "https://localhost:8080/"
        },
        "id": "2N7HCxZdeYma",
        "outputId": "cace585b-15aa-45cb-cbd7-ecb95ccdda66"
      },
      "outputs": [
        {
          "name": "stdout",
          "output_type": "stream",
          "text": [
            "Mounted at /content/drive\n"
          ]
        }
      ],
      "source": [
        "from google.colab import drive\n",
        "import os\n",
        "drive.mount('/content/drive')"
      ]
    },
    {
      "cell_type": "code",
      "execution_count": null,
      "metadata": {
        "id": "3u1TFRkKe-Kp"
      },
      "outputs": [],
      "source": [
        "X_train_embedding = np.load(\"/content/drive/MyDrive/rom_contexualised_embedding/Rom_Train_modernbert_token_embeddings.npy\")\n",
        "X_test_embedding = np.load(\"/content/drive/MyDrive/rom_contexualised_embedding/Rom_Test_modernbert_token_embeddings.npy\")"
      ]
    },
    {
      "cell_type": "code",
      "execution_count": null,
      "metadata": {
        "id": "Fq5Vu7RxhFHD"
      },
      "outputs": [],
      "source": [
        "train_df = pd.read_csv(\"Romanised_train_data.csv\")\n",
        "test_df = pd.read_csv(\"Romanised_test_data.csv\")"
      ]
    },
    {
      "cell_type": "code",
      "execution_count": null,
      "metadata": {
        "id": "eetsOIJzcjqS"
      },
      "outputs": [],
      "source": [
        "def train_final_dl_models_from_csv(train_df, test_df, aspects, X_train_embedding, X_test_embedding):\n",
        "    \"\"\"\n",
        "    For each aspect, uses precomputed embedding arrays (X_train_embedding and X_test_embedding)\n",
        "    as input features. The corresponding target labels are taken from the CSV files.\n",
        "    Performs 10-fold cross validation on the training data to select the best deep learning model,\n",
        "    and evaluates the best model on both the training and test sets, printing classification reports.\n",
        "\n",
        "    Parameters:\n",
        "        train_df (pd.DataFrame): Training data CSV with target columns (aspects).\n",
        "        test_df (pd.DataFrame): Test data CSV with target columns.\n",
        "        aspects (list of str): List of aspect column names to process.\n",
        "        X_train_embedding (np.array): Precomputed training embeddings of shape (n_train, seq_length, hidden_size).\n",
        "        X_test_embedding (np.array): Precomputed test embeddings of shape (n_test, seq_length, hidden_size).\n",
        "\n",
        "    Returns:\n",
        "        best_models: dict of best models (with their label encoder) for each aspect.\n",
        "        train_reports: dict of training classification reports for each aspect.\n",
        "        test_reports: dict of test classification reports for each aspect.\n",
        "    \"\"\"\n",
        "    best_models = {}\n",
        "    train_reports = {}\n",
        "    test_reports = {}\n",
        "\n",
        "    # Use the sequence length and hidden size from the precomputed embeddings.\n",
        "    maxlen = X_train_embedding.shape[1]       # e.g., number of tokens (predefined in your embedding process)\n",
        "    hidden_size = X_train_embedding.shape[2]    # e.g., 768 for BERT-base variants\n",
        "\n",
        "    for aspect in aspects:\n",
        "        print(f\"\\n=== Processing aspect: {aspect} ===\")\n",
        "        # Extract the target labels for the current aspect from the CSV files.\n",
        "        # It is assumed that the aspect is a column in your CSV files.\n",
        "        y_train = train_df[aspect].values\n",
        "        y_test = test_df[aspect].values\n",
        "\n",
        "        # Encode target labels\n",
        "        le = LabelEncoder()\n",
        "        y_train_encoded = le.fit_transform(y_train)\n",
        "        y_test_encoded = le.transform(y_test)\n",
        "        target_names = [str(label) for label in le.classes_]\n",
        "\n",
        "        # Use the precomputed embeddings directly as features.\n",
        "        X_train_padded = X_train_embedding  # Already of shape (n_train, maxlen, hidden_size)\n",
        "        X_test_padded = X_test_embedding    # Already of shape (n_test, maxlen, hidden_size)\n",
        "\n",
        "        # Set up cross-validation on the training data.\n",
        "        skf = StratifiedKFold(n_splits=10, shuffle=True, random_state=42)\n",
        "        best_cv_score = -np.inf\n",
        "        best_model = None\n",
        "        cv_train_scores = []  # To store training accuracies for each fold\n",
        "\n",
        "        for fold, (cv_train_idx, cv_val_idx) in enumerate(skf.split(X_train_padded, y_train_encoded)):\n",
        "            X_cv_train = X_train_padded[cv_train_idx]\n",
        "            y_cv_train = y_train_encoded[cv_train_idx]\n",
        "            X_cv_val = X_train_padded[cv_val_idx]\n",
        "            y_cv_val = y_train_encoded[cv_val_idx]\n",
        "\n",
        "            # Compute class weights to address imbalanced classes.\n",
        "            classes = np.unique(y_cv_train)\n",
        "            cw = compute_class_weight(class_weight='balanced', classes=classes, y=y_cv_train)\n",
        "            class_weight = dict(zip(classes, cw))\n",
        "\n",
        "            # Define the model architecture using the precomputed embeddings as input.\n",
        "            input_layer = tf.keras.layers.Input(shape=(maxlen, hidden_size))\n",
        "            bi_lstm = tf.keras.layers.Bidirectional(\n",
        "                tf.keras.layers.LSTM(128, dropout=0.3, recurrent_dropout=0.2, return_sequences=True)\n",
        "            )(input_layer)\n",
        "            drop = tf.keras.layers.Dropout(0.2)(bi_lstm)\n",
        "            dense = tf.keras.layers.Dense(128, activation='relu',\n",
        "                                          kernel_regularizer=tf.keras.regularizers.l1_l2(l1=0.01, l2=0.01))(drop)\n",
        "            flat = tf.keras.layers.Flatten()(dense)\n",
        "            output_layer = tf.keras.layers.Dense(len(le.classes_), activation='softmax')(flat)\n",
        "\n",
        "            model = tf.keras.Model(inputs=input_layer, outputs=output_layer)\n",
        "            model.compile(optimizer='adam', loss='sparse_categorical_crossentropy', metrics=['accuracy'])\n",
        "\n",
        "            # Train on the current CV fold using class weights.\n",
        "            model.fit(X_cv_train, y_cv_train, epochs=5, batch_size=32, verbose=0, class_weight=class_weight)\n",
        "\n",
        "            # Evaluate on the CV training fold.\n",
        "            y_cv_train_pred = model.predict(X_cv_train, verbose=0).argmax(axis=1)\n",
        "            fold_train_accuracy = accuracy_score(y_cv_train, y_cv_train_pred)\n",
        "            cv_train_scores.append(fold_train_accuracy)\n",
        "\n",
        "            # Evaluate on the CV validation fold.\n",
        "            y_cv_val_pred = model.predict(X_cv_val, verbose=0).argmax(axis=1)\n",
        "            cv_score = accuracy_score(y_cv_val, y_cv_val_pred)\n",
        "            print(f\"Fold {fold + 1} CV Accuracy: {cv_score:.4f}, Training Accuracy: {fold_train_accuracy:.4f}\")\n",
        "\n",
        "            # Select the best model based on CV validation accuracy.\n",
        "            if cv_score > best_cv_score:\n",
        "                best_cv_score = cv_score\n",
        "                best_model = model\n",
        "\n",
        "        avg_cv_train_score = np.mean(cv_train_scores)\n",
        "        print(f\"Average Training Accuracy across folds: {avg_cv_train_score:.4f}\")\n",
        "\n",
        "        # Evaluate the best model on the full training set.\n",
        "        y_train_pred = best_model.predict(X_train_padded, verbose=0).argmax(axis=1)\n",
        "        train_acc = accuracy_score(y_train_encoded, y_train_pred)\n",
        "        train_report = classification_report(y_train_encoded, y_train_pred, target_names=target_names)\n",
        "        print(f\"Best CV model Training Accuracy on full training set: {train_acc:.4f}\")\n",
        "        print(\"Training Classification Report:\\n\", train_report)\n",
        "\n",
        "        # Evaluate on the test set.\n",
        "        y_test_pred = best_model.predict(X_test_padded, verbose=0).argmax(axis=1)\n",
        "        test_acc = accuracy_score(y_test_encoded, y_test_pred)\n",
        "        test_report = classification_report(y_test_encoded, y_test_pred, target_names=target_names)\n",
        "        print(f\"Test Accuracy: {test_acc:.4f}\")\n",
        "        print(\"Test Classification Report:\\n\", test_report)\n",
        "\n",
        "        best_models[aspect.lower()] = {\n",
        "            \"model\": best_model,\n",
        "            \"label_encoder\": le\n",
        "        }\n",
        "        train_reports[aspect.lower()] = train_report\n",
        "        test_reports[aspect.lower()] = test_report\n",
        "\n",
        "    return best_models, train_reports, test_reports"
      ]
    },
    {
      "cell_type": "code",
      "execution_count": null,
      "metadata": {
        "id": "6ZroYjWU0lDy"
      },
      "outputs": [],
      "source": [
        "aspects = ['Acting', 'direction', 'Music','ovr_sent']"
      ]
    },
    {
      "cell_type": "code",
      "execution_count": null,
      "metadata": {
        "colab": {
          "base_uri": "https://localhost:8080/"
        },
        "collapsed": true,
        "id": "VaewOMOG0dQS",
        "outputId": "291250c3-2880-412b-b446-b4c53e312027"
      },
      "outputs": [
        {
          "name": "stdout",
          "output_type": "stream",
          "text": [
            "\n",
            "=== Processing aspect: Acting ===\n",
            "Fold 1 CV Accuracy: 0.0987, Training Accuracy: 0.0953\n",
            "Fold 2 CV Accuracy: 0.1371, Training Accuracy: 0.1331\n",
            "Fold 3 CV Accuracy: 0.2030, Training Accuracy: 0.2021\n",
            "Fold 4 CV Accuracy: 0.3680, Training Accuracy: 0.3589\n",
            "Fold 5 CV Accuracy: 0.1142, Training Accuracy: 0.1215\n",
            "Fold 6 CV Accuracy: 0.1168, Training Accuracy: 0.1334\n",
            "Fold 7 CV Accuracy: 0.1853, Training Accuracy: 0.1432\n",
            "Fold 8 CV Accuracy: 0.1675, Training Accuracy: 0.1711\n",
            "Fold 9 CV Accuracy: 0.2081, Training Accuracy: 0.1985\n",
            "Fold 10 CV Accuracy: 0.1447, Training Accuracy: 0.1336\n",
            "Average Training Accuracy across folds: 0.1691\n",
            "Best CV model Training Accuracy on full training set: 0.3598\n",
            "Training Classification Report:\n",
            "               precision    recall  f1-score   support\n",
            "\n",
            "          -1       0.05      0.24      0.08       131\n",
            "           0       0.77      0.29      0.43      2962\n",
            "           1       0.24      0.61      0.34       848\n",
            "\n",
            "    accuracy                           0.36      3941\n",
            "   macro avg       0.35      0.38      0.28      3941\n",
            "weighted avg       0.63      0.36      0.40      3941\n",
            "\n",
            "Test Accuracy: 0.3286\n",
            "Test Classification Report:\n",
            "               precision    recall  f1-score   support\n",
            "\n",
            "          -1       0.04      0.18      0.06        34\n",
            "           0       0.72      0.27      0.39       746\n",
            "           1       0.22      0.58      0.32       206\n",
            "\n",
            "    accuracy                           0.33       986\n",
            "   macro avg       0.33      0.34      0.26       986\n",
            "weighted avg       0.59      0.33      0.36       986\n",
            "\n",
            "\n",
            "=== Processing aspect: direction ===\n",
            "Fold 1 CV Accuracy: 0.5342, Training Accuracy: 0.5392\n",
            "Fold 2 CV Accuracy: 0.5051, Training Accuracy: 0.5190\n",
            "Fold 3 CV Accuracy: 0.5558, Training Accuracy: 0.5035\n",
            "Fold 4 CV Accuracy: 0.5406, Training Accuracy: 0.5399\n",
            "Fold 5 CV Accuracy: 0.5355, Training Accuracy: 0.5371\n",
            "Fold 6 CV Accuracy: 0.5482, Training Accuracy: 0.5320\n",
            "Fold 7 CV Accuracy: 0.5609, Training Accuracy: 0.5365\n",
            "Fold 8 CV Accuracy: 0.5355, Training Accuracy: 0.5433\n",
            "Fold 9 CV Accuracy: 0.5025, Training Accuracy: 0.5419\n",
            "Fold 10 CV Accuracy: 0.5888, Training Accuracy: 0.5966\n",
            "Average Training Accuracy across folds: 0.5389\n",
            "Best CV model Training Accuracy on full training set: 0.5958\n",
            "Training Classification Report:\n",
            "               precision    recall  f1-score   support\n",
            "\n",
            "          -1       0.22      0.00      0.01       568\n",
            "           0       0.85      0.72      0.78      3128\n",
            "           1       0.07      0.36      0.12       245\n",
            "\n",
            "    accuracy                           0.60      3941\n",
            "   macro avg       0.38      0.36      0.30      3941\n",
            "weighted avg       0.71      0.60      0.63      3941\n",
            "\n",
            "Test Accuracy: 0.6146\n",
            "Test Classification Report:\n",
            "               precision    recall  f1-score   support\n",
            "\n",
            "          -1       0.60      0.02      0.05       124\n",
            "           0       0.85      0.72      0.78       804\n",
            "           1       0.07      0.38      0.12        58\n",
            "\n",
            "    accuracy                           0.61       986\n",
            "   macro avg       0.51      0.38      0.32       986\n",
            "weighted avg       0.77      0.61      0.65       986\n",
            "\n",
            "\n",
            "=== Processing aspect: Music ===\n",
            "Fold 1 CV Accuracy: 0.2456, Training Accuracy: 0.2149\n",
            "Fold 2 CV Accuracy: 0.3985, Training Accuracy: 0.4370\n",
            "Fold 3 CV Accuracy: 0.2183, Training Accuracy: 0.2165\n",
            "Fold 4 CV Accuracy: 0.5330, Training Accuracy: 0.5686\n",
            "Fold 5 CV Accuracy: 0.2310, Training Accuracy: 0.2160\n",
            "Fold 6 CV Accuracy: 0.1015, Training Accuracy: 0.1043\n",
            "Fold 7 CV Accuracy: 0.1954, Training Accuracy: 0.2019\n",
            "Fold 8 CV Accuracy: 0.0228, Training Accuracy: 0.0237\n",
            "Fold 9 CV Accuracy: 0.0457, Training Accuracy: 0.0510\n",
            "Fold 10 CV Accuracy: 0.2589, Training Accuracy: 0.2529\n",
            "Average Training Accuracy across folds: 0.2287\n",
            "Best CV model Training Accuracy on full training set: 0.5651\n",
            "Training Classification Report:\n",
            "               precision    recall  f1-score   support\n",
            "\n",
            "          -1       0.19      0.13      0.16        89\n",
            "           0       0.89      0.59      0.71      3446\n",
            "           1       0.12      0.48      0.19       406\n",
            "\n",
            "    accuracy                           0.57      3941\n",
            "   macro avg       0.40      0.40      0.35      3941\n",
            "weighted avg       0.79      0.57      0.64      3941\n",
            "\n",
            "Test Accuracy: 0.5842\n",
            "Test Classification Report:\n",
            "               precision    recall  f1-score   support\n",
            "\n",
            "          -1       0.05      0.06      0.05        18\n",
            "           0       0.90      0.60      0.72       867\n",
            "           1       0.14      0.53      0.22       101\n",
            "\n",
            "    accuracy                           0.58       986\n",
            "   macro avg       0.36      0.40      0.33       986\n",
            "weighted avg       0.81      0.58      0.66       986\n",
            "\n",
            "\n",
            "=== Processing aspect: ovr_sent ===\n",
            "Fold 1 CV Accuracy: 0.5595, Training Accuracy: 0.5161\n",
            "Fold 2 CV Accuracy: 0.4340, Training Accuracy: 0.4384\n",
            "Fold 3 CV Accuracy: 0.5533, Training Accuracy: 0.5221\n",
            "Fold 4 CV Accuracy: 0.5228, Training Accuracy: 0.5424\n",
            "Fold 5 CV Accuracy: 0.3807, Training Accuracy: 0.3854\n",
            "Fold 6 CV Accuracy: 0.3985, Training Accuracy: 0.3930\n",
            "Fold 7 CV Accuracy: 0.3858, Training Accuracy: 0.3972\n",
            "Fold 8 CV Accuracy: 0.4594, Training Accuracy: 0.5072\n",
            "Fold 9 CV Accuracy: 0.4949, Training Accuracy: 0.5452\n",
            "Fold 10 CV Accuracy: 0.4036, Training Accuracy: 0.3792\n",
            "Average Training Accuracy across folds: 0.4626\n",
            "Best CV model Training Accuracy on full training set: 0.5204\n",
            "Training Classification Report:\n",
            "               precision    recall  f1-score   support\n",
            "\n",
            "          -1       0.45      0.66      0.53      1346\n",
            "           0       0.00      0.00      0.00       567\n",
            "           1       0.59      0.57      0.58      2028\n",
            "\n",
            "    accuracy                           0.52      3941\n",
            "   macro avg       0.35      0.41      0.37      3941\n",
            "weighted avg       0.46      0.52      0.48      3941\n",
            "\n",
            "Test Accuracy: 0.4899\n",
            "Test Classification Report:\n",
            "               precision    recall  f1-score   support\n",
            "\n",
            "          -1       0.42      0.61      0.50       348\n",
            "           0       0.00      0.00      0.00       139\n",
            "           1       0.56      0.54      0.55       499\n",
            "\n",
            "    accuracy                           0.49       986\n",
            "   macro avg       0.33      0.38      0.35       986\n",
            "weighted avg       0.43      0.49      0.45       986\n",
            "\n"
          ]
        },
        {
          "name": "stderr",
          "output_type": "stream",
          "text": [
            "/usr/local/lib/python3.11/dist-packages/sklearn/metrics/_classification.py:1565: UndefinedMetricWarning: Precision is ill-defined and being set to 0.0 in labels with no predicted samples. Use `zero_division` parameter to control this behavior.\n",
            "  _warn_prf(average, modifier, f\"{metric.capitalize()} is\", len(result))\n",
            "/usr/local/lib/python3.11/dist-packages/sklearn/metrics/_classification.py:1565: UndefinedMetricWarning: Precision is ill-defined and being set to 0.0 in labels with no predicted samples. Use `zero_division` parameter to control this behavior.\n",
            "  _warn_prf(average, modifier, f\"{metric.capitalize()} is\", len(result))\n",
            "/usr/local/lib/python3.11/dist-packages/sklearn/metrics/_classification.py:1565: UndefinedMetricWarning: Precision is ill-defined and being set to 0.0 in labels with no predicted samples. Use `zero_division` parameter to control this behavior.\n",
            "  _warn_prf(average, modifier, f\"{metric.capitalize()} is\", len(result))\n"
          ]
        }
      ],
      "source": [
        "best_models, train_reports, test_reports = train_final_dl_models_from_csv(train_df, test_df, aspects, X_train_embedding, X_test_embedding)"
      ]
    },
    {
      "cell_type": "markdown",
      "metadata": {
        "id": "YfhOup5tx44P"
      },
      "source": [
        "Mbert contexulised embeddings"
      ]
    },
    {
      "cell_type": "code",
      "execution_count": null,
      "metadata": {
        "id": "eQ6oQAwQxFwg"
      },
      "outputs": [],
      "source": [
        "embeddings_index = {}\n",
        "f = open('/content/drive/My Drive/Mbert_contexualised_embedding/rom_Mbert/mbert_embeddings.txt')\n",
        "for line in f:\n",
        "    values = line.split()\n",
        "    word = values[0] # Since the word is at the 0th index\n",
        "    coefs = np.asarray(values[1:]) # From the 1st position onwards the values are the embedding values\n",
        "    embeddings_index[word] = coefs\n",
        "f.close()"
      ]
    },
    {
      "cell_type": "code",
      "execution_count": null,
      "metadata": {
        "id": "AuwYkc4wxDsw"
      },
      "outputs": [],
      "source": [
        "train_df = pd.read_csv(\"Romanised_train_data.csv\")\n",
        "test_df = pd.read_csv(\"Romanised_test_data.csv\")\n",
        "\n",
        "# Ensure EMBEDDING_DIM and embeddings_index are defined in your context\n",
        "\n",
        "def train_final_dl_models_from_csv(train_df, test_df, aspects , EMBEDDING_DIM):\n",
        "    \"\"\"\n",
        "    For each aspect, loads training data from train_df and testing data from test_df.\n",
        "    Performs 5-fold cross validation on the training data to select the best deep learning model,\n",
        "    averaging the training accuracy across folds and using class weights to address imbalanced datasets.\n",
        "    Evaluates the best model on both the training and test sets and prints classification reports.\n",
        "\n",
        "    Returns:\n",
        "        best_models: dict of best models (with their label encoder and tokenizer) for each aspect.\n",
        "        train_reports: dict of training classification reports for each aspect.\n",
        "        test_reports: dict of test classification reports for each aspect.\n",
        "    \"\"\"\n",
        "    best_models = {}\n",
        "    train_reports = {}\n",
        "    test_reports = {}\n",
        "    maxlen = 15  # Maximum sequence length\n",
        "\n",
        "    for aspect in aspects:\n",
        "        print(f\"\\n=== Processing aspect: {aspect} ===\")\n",
        "        # Prepare the data for the current aspect\n",
        "        X_train, y_train = prepare_data(train_df, aspect)\n",
        "        X_test, y_test = prepare_data(test_df, aspect)\n",
        "\n",
        "        # Encode target labels\n",
        "        le = LabelEncoder()\n",
        "        y_train_encoded = le.fit_transform(y_train)\n",
        "        y_test_encoded = le.transform(y_test)  # Use the same encoder for test data\n",
        "        target_names = [str(label) for label in le.classes_]\n",
        "\n",
        "        # Tokenize the training texts and pad sequences\n",
        "        tokenizer = Tokenizer()\n",
        "        tokenizer.fit_on_texts(X_train['R_clean_text'])\n",
        "        train_sequences = tokenizer.texts_to_sequences(X_train['R_clean_text'])\n",
        "        test_sequences = tokenizer.texts_to_sequences(X_test['R_clean_text'])\n",
        "        X_train_padded = pad_sequences(train_sequences, maxlen=maxlen)\n",
        "        X_test_padded = pad_sequences(test_sequences, maxlen=maxlen)\n",
        "\n",
        "        # Prepare the embedding matrix using the tokenizer's word index\n",
        "        word_index = tokenizer.word_index\n",
        "        num_words = len(word_index) + 1\n",
        "        embedding_matrix = np.zeros((num_words, EMBEDDING_DIM))\n",
        "        for word, i in word_index.items():\n",
        "            embedding_vector = embeddings_index.get(word)\n",
        "            if embedding_vector is not None:\n",
        "                if len(embedding_vector) == EMBEDDING_DIM:\n",
        "                    embedding_matrix[i] = embedding_vector\n",
        "                else:\n",
        "                    print(f\"Warning: Embedding for '{word}' has unexpected dimension {len(embedding_vector)}. Skipping.\")\n",
        "        vocab_size = num_words\n",
        "\n",
        "        # Cross-validation on the training data to select the best model\n",
        "        skf = StratifiedKFold(n_splits=10, shuffle=True, random_state=42)\n",
        "        best_cv_score = -np.inf\n",
        "        best_model = None\n",
        "        cv_train_scores = []  # To store training accuracies for each fold\n",
        "\n",
        "        for fold, (cv_train_idx, cv_val_idx) in enumerate(skf.split(X_train_padded, y_train_encoded)):\n",
        "            X_cv_train = X_train_padded[cv_train_idx]\n",
        "            y_cv_train = y_train_encoded[cv_train_idx]\n",
        "            X_cv_val = X_train_padded[cv_val_idx]\n",
        "            y_cv_val = y_train_encoded[cv_val_idx]\n",
        "\n",
        "            # Compute class weights to address imbalance\n",
        "            classes = np.unique(y_cv_train)\n",
        "            cw = compute_class_weight(class_weight='balanced', classes=classes, y=y_cv_train)\n",
        "            class_weight = dict(zip(classes, cw))\n",
        "\n",
        "            # Define the model architecture\n",
        "            input_layer = tf.keras.layers.Input(shape=(maxlen,))\n",
        "            embedding_layer = tf.keras.layers.Embedding(\n",
        "                vocab_size,\n",
        "                EMBEDDING_DIM,\n",
        "                weights=[embedding_matrix],\n",
        "                trainable=False\n",
        "            )(input_layer)\n",
        "            bi_lstm = tf.keras.layers.Bidirectional(tf.keras.layers.LSTM(128, dropout=0.3, recurrent_dropout=0.2, return_sequences=True))(embedding_layer)\n",
        "            drop = tf.keras.layers.Dropout(0.2)(bi_lstm)\n",
        "            dense = tf.keras.layers.Dense(128, activation='relu',\n",
        "                                          kernel_regularizer=tf.keras.regularizers.l1_l2(l1=0.01, l2=0.01))(drop)\n",
        "            flat = tf.keras.layers.Flatten()(dense)\n",
        "            output_layer = tf.keras.layers.Dense(len(le.classes_), activation='softmax')(flat)\n",
        "\n",
        "            model = tf.keras.Model(input_layer, output_layer)\n",
        "            model.compile(optimizer='adam', loss='sparse_categorical_crossentropy', metrics=['accuracy'])\n",
        "\n",
        "            # Train the model on the current CV fold using class weights\n",
        "            model.fit(X_cv_train, y_cv_train, epochs=5, batch_size=32, verbose=0, class_weight=class_weight)\n",
        "\n",
        "            # Evaluate on the CV training fold for average training score\n",
        "            y_cv_train_pred = model.predict(X_cv_train, verbose=0).argmax(axis=1)\n",
        "            fold_train_accuracy = accuracy_score(y_cv_train, y_cv_train_pred)\n",
        "            cv_train_scores.append(fold_train_accuracy)\n",
        "\n",
        "            # Evaluate on the CV validation fold\n",
        "            y_cv_val_pred = model.predict(X_cv_val, verbose=0).argmax(axis=1)\n",
        "            cv_score = accuracy_score(y_cv_val, y_cv_val_pred)\n",
        "            print(f\"Fold {fold + 1} CV Accuracy: {cv_score:.4f}, Training Accuracy: {fold_train_accuracy:.4f}\")\n",
        "\n",
        "            # Select the best model based on CV validation accuracy\n",
        "            if cv_score > best_cv_score:\n",
        "                best_cv_score = cv_score\n",
        "                best_model = model\n",
        "\n",
        "        avg_cv_train_score = np.mean(cv_train_scores)\n",
        "        print(f\"Average Training Accuracy across folds: {avg_cv_train_score:.4f}\")\n",
        "\n",
        "        # Evaluate the best model on the entire training set\n",
        "        y_train_pred = best_model.predict(X_train_padded, verbose=0).argmax(axis=1)\n",
        "        train_acc = accuracy_score(y_train_encoded, y_train_pred)\n",
        "        train_report = classification_report(y_train_encoded, y_train_pred, target_names=target_names)\n",
        "        print(f\"Best CV model Training Accuracy on full training set: {train_acc:.4f}\")\n",
        "        print(\"Training Classification Report:\\n\", train_report)\n",
        "\n",
        "        # Evaluate on the test set\n",
        "        y_test_pred = best_model.predict(X_test_padded, verbose=0).argmax(axis=1)\n",
        "        test_acc = accuracy_score(y_test_encoded, y_test_pred)\n",
        "        test_report = classification_report(y_test_encoded, y_test_pred, target_names=target_names)\n",
        "        print(f\"Test Accuracy: {test_acc:.4f}\")\n",
        "        print(\"Test Classification Report:\\n\", test_report)\n",
        "\n",
        "        best_models[aspect.lower()] = {\n",
        "            \"model\": best_model,\n",
        "            \"label_encoder\": le,\n",
        "            \"tokenizer\": tokenizer\n",
        "        }\n",
        "        train_reports[aspect.lower()] = train_report\n",
        "        test_reports[aspect.lower()] = test_report\n",
        "\n",
        "    return best_models, train_reports, test_reports\n"
      ]
    },
    {
      "cell_type": "code",
      "execution_count": null,
      "metadata": {
        "colab": {
          "base_uri": "https://localhost:8080/"
        },
        "id": "nk8qBA-u2YuQ",
        "outputId": "58e220b1-5cf5-45fc-e651-81fc62144cc1"
      },
      "outputs": [
        {
          "name": "stdout",
          "output_type": "stream",
          "text": [
            "\n",
            "=== Processing aspect: Acting ===\n",
            "Fold 1 CV Accuracy: 0.2937, Training Accuracy: 0.3122\n",
            "Fold 2 CV Accuracy: 0.4492, Training Accuracy: 0.4638\n",
            "Fold 3 CV Accuracy: 0.2716, Training Accuracy: 0.2870\n",
            "Fold 4 CV Accuracy: 0.3350, Training Accuracy: 0.3152\n",
            "Fold 5 CV Accuracy: 0.4949, Training Accuracy: 0.5072\n",
            "Fold 6 CV Accuracy: 0.3350, Training Accuracy: 0.3423\n",
            "Fold 7 CV Accuracy: 0.2919, Training Accuracy: 0.2836\n",
            "Fold 8 CV Accuracy: 0.3706, Training Accuracy: 0.3910\n",
            "Fold 9 CV Accuracy: 0.2538, Training Accuracy: 0.2549\n",
            "Fold 10 CV Accuracy: 0.3883, Training Accuracy: 0.3685\n",
            "Average Training Accuracy across folds: 0.3526\n",
            "Best CV model Training Accuracy on full training set: 0.5060\n",
            "Training Classification Report:\n",
            "               precision    recall  f1-score   support\n",
            "\n",
            "          -1       0.07      0.63      0.12       131\n",
            "           0       0.87      0.47      0.61      2962\n",
            "           1       0.46      0.60      0.52       848\n",
            "\n",
            "    accuracy                           0.51      3941\n",
            "   macro avg       0.47      0.57      0.42      3941\n",
            "weighted avg       0.76      0.51      0.58      3941\n",
            "\n",
            "Test Accuracy: 0.5751\n",
            "Test Classification Report:\n",
            "               precision    recall  f1-score   support\n",
            "\n",
            "          -1       0.07      0.35      0.12        34\n",
            "           0       0.87      0.58      0.69       746\n",
            "           1       0.39      0.61      0.48       206\n",
            "\n",
            "    accuracy                           0.58       986\n",
            "   macro avg       0.44      0.51      0.43       986\n",
            "weighted avg       0.74      0.58      0.63       986\n",
            "\n",
            "\n",
            "=== Processing aspect: direction ===\n",
            "Fold 1 CV Accuracy: 0.4709, Training Accuracy: 0.4735\n",
            "Fold 2 CV Accuracy: 0.4239, Training Accuracy: 0.4522\n",
            "Fold 3 CV Accuracy: 0.3096, Training Accuracy: 0.3028\n",
            "Fold 4 CV Accuracy: 0.5178, Training Accuracy: 0.5171\n",
            "Fold 5 CV Accuracy: 0.4086, Training Accuracy: 0.4212\n",
            "Fold 6 CV Accuracy: 0.6396, Training Accuracy: 0.6222\n",
            "Fold 7 CV Accuracy: 0.5990, Training Accuracy: 0.6135\n",
            "Fold 8 CV Accuracy: 0.4518, Training Accuracy: 0.4638\n",
            "Fold 9 CV Accuracy: 0.4188, Training Accuracy: 0.4508\n",
            "Fold 10 CV Accuracy: 0.2538, Training Accuracy: 0.2771\n",
            "Average Training Accuracy across folds: 0.4594\n",
            "Best CV model Training Accuracy on full training set: 0.6240\n",
            "Training Classification Report:\n",
            "               precision    recall  f1-score   support\n",
            "\n",
            "          -1       0.29      0.73      0.41       568\n",
            "           0       0.88      0.65      0.74      3128\n",
            "           1       0.12      0.10      0.11       245\n",
            "\n",
            "    accuracy                           0.62      3941\n",
            "   macro avg       0.43      0.49      0.42      3941\n",
            "weighted avg       0.75      0.62      0.66      3941\n",
            "\n",
            "Test Accuracy: 0.6724\n",
            "Test Classification Report:\n",
            "               precision    recall  f1-score   support\n",
            "\n",
            "          -1       0.22      0.41      0.29       124\n",
            "           0       0.85      0.75      0.80       804\n",
            "           1       0.12      0.10      0.11        58\n",
            "\n",
            "    accuracy                           0.67       986\n",
            "   macro avg       0.40      0.42      0.40       986\n",
            "weighted avg       0.73      0.67      0.70       986\n",
            "\n",
            "\n",
            "=== Processing aspect: Music ===\n",
            "Fold 1 CV Accuracy: 0.8709, Training Accuracy: 0.8920\n",
            "Fold 2 CV Accuracy: 0.8858, Training Accuracy: 0.9008\n",
            "Fold 3 CV Accuracy: 0.8096, Training Accuracy: 0.8486\n",
            "Fold 4 CV Accuracy: 0.8096, Training Accuracy: 0.7902\n",
            "Fold 5 CV Accuracy: 0.8223, Training Accuracy: 0.8557\n",
            "Fold 6 CV Accuracy: 0.8985, Training Accuracy: 0.9036\n",
            "Fold 7 CV Accuracy: 0.8782, Training Accuracy: 0.9112\n",
            "Fold 8 CV Accuracy: 0.9188, Training Accuracy: 0.9118\n",
            "Fold 9 CV Accuracy: 0.8985, Training Accuracy: 0.9098\n",
            "Fold 10 CV Accuracy: 0.8452, Training Accuracy: 0.8300\n",
            "Average Training Accuracy across folds: 0.8754\n",
            "Best CV model Training Accuracy on full training set: 0.9125\n",
            "Training Classification Report:\n",
            "               precision    recall  f1-score   support\n",
            "\n",
            "          -1       0.32      0.71      0.44        89\n",
            "           0       0.96      0.97      0.96      3446\n",
            "           1       0.70      0.50      0.58       406\n",
            "\n",
            "    accuracy                           0.91      3941\n",
            "   macro avg       0.66      0.72      0.66      3941\n",
            "weighted avg       0.92      0.91      0.91      3941\n",
            "\n",
            "Test Accuracy: 0.9047\n",
            "Test Classification Report:\n",
            "               precision    recall  f1-score   support\n",
            "\n",
            "          -1       0.19      0.50      0.27        18\n",
            "           0       0.97      0.96      0.96       867\n",
            "           1       0.66      0.53      0.59       101\n",
            "\n",
            "    accuracy                           0.90       986\n",
            "   macro avg       0.60      0.66      0.61       986\n",
            "weighted avg       0.92      0.90      0.91       986\n",
            "\n",
            "\n",
            "=== Processing aspect: ovr_sent ===\n",
            "Fold 1 CV Accuracy: 0.5722, Training Accuracy: 0.6235\n",
            "Fold 2 CV Accuracy: 0.5863, Training Accuracy: 0.6011\n",
            "Fold 3 CV Accuracy: 0.4746, Training Accuracy: 0.5123\n",
            "Fold 4 CV Accuracy: 0.5355, Training Accuracy: 0.5692\n",
            "Fold 5 CV Accuracy: 0.5305, Training Accuracy: 0.5861\n",
            "Fold 6 CV Accuracy: 0.5787, Training Accuracy: 0.5799\n",
            "Fold 7 CV Accuracy: 0.6091, Training Accuracy: 0.5999\n",
            "Fold 8 CV Accuracy: 0.5609, Training Accuracy: 0.6366\n",
            "Fold 9 CV Accuracy: 0.5736, Training Accuracy: 0.6087\n",
            "Fold 10 CV Accuracy: 0.5711, Training Accuracy: 0.6231\n",
            "Average Training Accuracy across folds: 0.5940\n",
            "Best CV model Training Accuracy on full training set: 0.6009\n",
            "Training Classification Report:\n",
            "               precision    recall  f1-score   support\n",
            "\n",
            "          -1       0.63      0.72      0.67      1346\n",
            "           0       0.27      0.56      0.36       567\n",
            "           1       0.90      0.53      0.67      2028\n",
            "\n",
            "    accuracy                           0.60      3941\n",
            "   macro avg       0.60      0.60      0.57      3941\n",
            "weighted avg       0.71      0.60      0.63      3941\n",
            "\n",
            "Test Accuracy: 0.5264\n",
            "Test Classification Report:\n",
            "               precision    recall  f1-score   support\n",
            "\n",
            "          -1       0.59      0.49      0.54       348\n",
            "           0       0.22      0.60      0.32       139\n",
            "           1       0.85      0.53      0.65       499\n",
            "\n",
            "    accuracy                           0.53       986\n",
            "   macro avg       0.55      0.54      0.50       986\n",
            "weighted avg       0.67      0.53      0.57       986\n",
            "\n"
          ]
        }
      ],
      "source": [
        "best_models, train_reports, test_reports = train_final_dl_models_from_csv(train_df,test_df, aspects,768)"
      ]
    },
    {
      "cell_type": "code",
      "execution_count": null,
      "metadata": {
        "id": "eW65qG3BSfDT"
      },
      "outputs": [],
      "source": [
        "train_df = pd.read_csv(\"train_data.csv\")\n",
        "test_df = pd.read_csv(\"test_data.csv\")\n",
        "\n",
        "# Ensure EMBEDDING_DIM and embeddings_index are defined in your context\n",
        "train_df = pd.read_csv(\"train_data.csv\")\n",
        "test_df = pd.read_csv(\"test_data.csv\")\n",
        "\n",
        "# Ensure EMBEDDING_DIM and embeddings_index are defined in your context\n",
        "\n",
        "def train_final_dl_models_from_csv(train_df, test_df, aspects,EMBEDDING_DIM ):\n",
        "    \"\"\"\n",
        "    For each aspect, loads training data from train_df and testing data from test_df.\n",
        "    Performs 5-fold cross validation on the training data to select the best deep learning model,\n",
        "    averaging the training accuracy across folds and using class weights to address imbalanced datasets.\n",
        "    Evaluates the best model on both the training and test sets and prints classification reports.\n",
        "\n",
        "    Returns:\n",
        "        best_models: dict of best models (with their label encoder and tokenizer) for each aspect.\n",
        "        train_reports: dict of training classification reports for each aspect.\n",
        "        test_reports: dict of test classification reports for each aspect.\n",
        "    \"\"\"\n",
        "    best_models = {}\n",
        "    train_reports = {}\n",
        "    test_reports = {}\n",
        "    maxlen = 15  # Maximum sequence length\n",
        "\n",
        "    for aspect in aspects:\n",
        "        print(f\"\\n=== Processing aspect: {aspect} ===\")\n",
        "        # Prepare the data for the current aspect\n",
        "        X_train, y_train = prepare_data(train_df, aspect)\n",
        "        X_test, y_test = prepare_data(test_df, aspect)\n",
        "\n",
        "        # Encode target labels\n",
        "        le = LabelEncoder()\n",
        "        y_train_encoded = le.fit_transform(y_train)\n",
        "        y_test_encoded = le.transform(y_test)  # Use the same encoder for test data\n",
        "        target_names = [str(label) for label in le.classes_]\n",
        "\n",
        "        # Tokenize the training texts and pad sequences\n",
        "        tokenizer = Tokenizer()\n",
        "        tokenizer.fit_on_texts(X_train['clean_text'])\n",
        "        train_sequences = tokenizer.texts_to_sequences(X_train['clean_text'])\n",
        "        test_sequences = tokenizer.texts_to_sequences(X_test['clean_text'])\n",
        "        X_train_padded = pad_sequences(train_sequences, maxlen=maxlen)\n",
        "        X_test_padded = pad_sequences(test_sequences, maxlen=maxlen)\n",
        "\n",
        "        # Prepare the embedding matrix using the tokenizer's word index\n",
        "        word_index = tokenizer.word_index\n",
        "        num_words = len(word_index) + 1\n",
        "        embedding_matrix = np.zeros((num_words, EMBEDDING_DIM))\n",
        "        for word, i in word_index.items():\n",
        "            embedding_vector = embeddings_index.get(word)\n",
        "            if embedding_vector is not None:\n",
        "                if len(embedding_vector) == EMBEDDING_DIM:\n",
        "                    embedding_matrix[i] = embedding_vector\n",
        "                else:\n",
        "                    print(f\"Warning: Embedding for '{word}' has unexpected dimension {len(embedding_vector)}. Skipping.\")\n",
        "        vocab_size = num_words\n",
        "\n",
        "        # Cross-validation on the training data to select the best model\n",
        "        skf = StratifiedKFold(n_splits=10, shuffle=True, random_state=42)\n",
        "        best_cv_score = -np.inf\n",
        "        best_model = None\n",
        "        cv_train_scores = []  # To store training accuracies for each fold\n",
        "\n",
        "        for fold, (cv_train_idx, cv_val_idx) in enumerate(skf.split(X_train_padded, y_train_encoded)):\n",
        "            X_cv_train = X_train_padded[cv_train_idx]\n",
        "            y_cv_train = y_train_encoded[cv_train_idx]\n",
        "            X_cv_val = X_train_padded[cv_val_idx]\n",
        "            y_cv_val = y_train_encoded[cv_val_idx]\n",
        "\n",
        "            # Compute class weights to address imbalance\n",
        "            classes = np.unique(y_cv_train)\n",
        "            cw = compute_class_weight(class_weight='balanced', classes=classes, y=y_cv_train)\n",
        "            class_weight = dict(zip(classes, cw))\n",
        "\n",
        "            # Define the model architecture\n",
        "            input_layer = tf.keras.layers.Input(shape=(maxlen,))\n",
        "            embedding_layer = tf.keras.layers.Embedding(\n",
        "                vocab_size,\n",
        "                EMBEDDING_DIM,\n",
        "                weights=[embedding_matrix],\n",
        "                trainable=False\n",
        "            )(input_layer)\n",
        "            bi_lstm = tf.keras.layers.Bidirectional(tf.keras.layers.LSTM(128, dropout=0.3, recurrent_dropout=0.2, return_sequences=True))(embedding_layer)\n",
        "            drop = tf.keras.layers.Dropout(0.2)(bi_lstm)\n",
        "            dense = tf.keras.layers.Dense(128, activation='relu',\n",
        "                                          kernel_regularizer=tf.keras.regularizers.l1_l2(l1=0.01, l2=0.01))(drop)\n",
        "            flat = tf.keras.layers.Flatten()(dense)\n",
        "            output_layer = tf.keras.layers.Dense(len(le.classes_), activation='softmax')(flat)\n",
        "\n",
        "            model = tf.keras.Model(input_layer, output_layer)\n",
        "            model.compile(optimizer='adam', loss='sparse_categorical_crossentropy', metrics=['accuracy'])\n",
        "\n",
        "            # Train the model on the current CV fold using class weights\n",
        "            model.fit(X_cv_train, y_cv_train, epochs=5, batch_size=32, verbose=0, class_weight=class_weight)\n",
        "\n",
        "            # Evaluate on the CV training fold for average training score\n",
        "            y_cv_train_pred = model.predict(X_cv_train, verbose=0).argmax(axis=1)\n",
        "            fold_train_accuracy = accuracy_score(y_cv_train, y_cv_train_pred)\n",
        "            cv_train_scores.append(fold_train_accuracy)\n",
        "\n",
        "            # Evaluate on the CV validation fold\n",
        "            y_cv_val_pred = model.predict(X_cv_val, verbose=0).argmax(axis=1)\n",
        "            cv_score = accuracy_score(y_cv_val, y_cv_val_pred)\n",
        "            print(f\"Fold {fold + 1} CV Accuracy: {cv_score:.4f}, Training Accuracy: {fold_train_accuracy:.4f}\")\n",
        "\n",
        "            # Select the best model based on CV validation accuracy\n",
        "            if cv_score > best_cv_score:\n",
        "                best_cv_score = cv_score\n",
        "                best_model = model\n",
        "\n",
        "        avg_cv_train_score = np.mean(cv_train_scores)\n",
        "        print(f\"Average Training Accuracy across folds: {avg_cv_train_score:.4f}\")\n",
        "\n",
        "        # Evaluate the best model on the entire training set\n",
        "        y_train_pred = best_model.predict(X_train_padded, verbose=0).argmax(axis=1)\n",
        "        train_acc = accuracy_score(y_train_encoded, y_train_pred)\n",
        "        train_report = classification_report(y_train_encoded, y_train_pred, target_names=target_names)\n",
        "        print(f\"Best CV model Training Accuracy on full training set: {train_acc:.4f}\")\n",
        "        print(\"Training Classification Report:\\n\", train_report)\n",
        "\n",
        "        # Evaluate on the test set\n",
        "        y_test_pred = best_model.predict(X_test_padded, verbose=0).argmax(axis=1)\n",
        "        test_acc = accuracy_score(y_test_encoded, y_test_pred)\n",
        "        test_report = classification_report(y_test_encoded, y_test_pred, target_names=target_names)\n",
        "        print(f\"Test Accuracy: {test_acc:.4f}\")\n",
        "        print(\"Test Classification Report:\\n\", test_report)\n",
        "\n",
        "        best_models[aspect.lower()] = {\n",
        "            \"model\": best_model,\n",
        "            \"label_encoder\": le,\n",
        "            \"tokenizer\": tokenizer\n",
        "        }\n",
        "        train_reports[aspect.lower()] = train_report\n",
        "        test_reports[aspect.lower()] = test_report\n",
        "\n",
        "    return best_models, train_reports, test_reports\n",
        "\n",
        "\n"
      ]
    },
    {
      "cell_type": "code",
      "execution_count": null,
      "metadata": {
        "colab": {
          "background_save": true,
          "base_uri": "https://localhost:8080/"
        },
        "id": "HovXIXg4SxcB",
        "outputId": "b52f2e7a-501a-41fd-b575-d7047a235e49"
      },
      "outputs": [
        {
          "name": "stdout",
          "output_type": "stream",
          "text": [
            "\n",
            "=== Processing aspect: Acting ===\n",
            "Fold 1 CV Accuracy: 0.2456, Training Accuracy: 0.2327\n",
            "Fold 2 CV Accuracy: 0.2183, Training Accuracy: 0.2247\n",
            "Fold 3 CV Accuracy: 0.6599, Training Accuracy: 0.6465\n",
            "Fold 4 CV Accuracy: 0.2056, Training Accuracy: 0.2114\n",
            "Fold 5 CV Accuracy: 0.6320, Training Accuracy: 0.5808\n",
            "Fold 6 CV Accuracy: 0.1827, Training Accuracy: 0.1816\n",
            "Fold 7 CV Accuracy: 0.2690, Training Accuracy: 0.2470\n",
            "Fold 8 CV Accuracy: 0.1827, Training Accuracy: 0.1725\n",
            "Fold 9 CV Accuracy: 0.6421, Training Accuracy: 0.6256\n",
            "Fold 10 CV Accuracy: 0.2741, Training Accuracy: 0.2831\n",
            "Average Training Accuracy across folds: 0.3406\n"
          ]
        },
        {
          "name": "stderr",
          "output_type": "stream",
          "text": [
            "/usr/local/lib/python3.11/dist-packages/sklearn/metrics/_classification.py:1565: UndefinedMetricWarning: Precision is ill-defined and being set to 0.0 in labels with no predicted samples. Use `zero_division` parameter to control this behavior.\n",
            "  _warn_prf(average, modifier, f\"{metric.capitalize()} is\", len(result))\n",
            "/usr/local/lib/python3.11/dist-packages/sklearn/metrics/_classification.py:1565: UndefinedMetricWarning: Precision is ill-defined and being set to 0.0 in labels with no predicted samples. Use `zero_division` parameter to control this behavior.\n",
            "  _warn_prf(average, modifier, f\"{metric.capitalize()} is\", len(result))\n",
            "/usr/local/lib/python3.11/dist-packages/sklearn/metrics/_classification.py:1565: UndefinedMetricWarning: Precision is ill-defined and being set to 0.0 in labels with no predicted samples. Use `zero_division` parameter to control this behavior.\n",
            "  _warn_prf(average, modifier, f\"{metric.capitalize()} is\", len(result))\n"
          ]
        },
        {
          "name": "stdout",
          "output_type": "stream",
          "text": [
            "Best CV model Training Accuracy on full training set: 0.6478\n",
            "Training Classification Report:\n",
            "               precision    recall  f1-score   support\n",
            "\n",
            "          -1       0.00      0.00      0.00       131\n",
            "           0       0.78      0.75      0.76      2962\n",
            "           1       0.31      0.40      0.35       848\n",
            "\n",
            "    accuracy                           0.65      3941\n",
            "   macro avg       0.36      0.38      0.37      3941\n",
            "weighted avg       0.65      0.65      0.65      3941\n",
            "\n"
          ]
        },
        {
          "name": "stderr",
          "output_type": "stream",
          "text": [
            "/usr/local/lib/python3.11/dist-packages/sklearn/metrics/_classification.py:1565: UndefinedMetricWarning: Precision is ill-defined and being set to 0.0 in labels with no predicted samples. Use `zero_division` parameter to control this behavior.\n",
            "  _warn_prf(average, modifier, f\"{metric.capitalize()} is\", len(result))\n",
            "/usr/local/lib/python3.11/dist-packages/sklearn/metrics/_classification.py:1565: UndefinedMetricWarning: Precision is ill-defined and being set to 0.0 in labels with no predicted samples. Use `zero_division` parameter to control this behavior.\n",
            "  _warn_prf(average, modifier, f\"{metric.capitalize()} is\", len(result))\n",
            "/usr/local/lib/python3.11/dist-packages/sklearn/metrics/_classification.py:1565: UndefinedMetricWarning: Precision is ill-defined and being set to 0.0 in labels with no predicted samples. Use `zero_division` parameter to control this behavior.\n",
            "  _warn_prf(average, modifier, f\"{metric.capitalize()} is\", len(result))\n"
          ]
        },
        {
          "name": "stdout",
          "output_type": "stream",
          "text": [
            "Test Accuracy: 0.6318\n",
            "Test Classification Report:\n",
            "               precision    recall  f1-score   support\n",
            "\n",
            "          -1       0.00      0.00      0.00        34\n",
            "           0       0.81      0.70      0.75       746\n",
            "           1       0.30      0.49      0.37       206\n",
            "\n",
            "    accuracy                           0.63       986\n",
            "   macro avg       0.37      0.40      0.37       986\n",
            "weighted avg       0.67      0.63      0.64       986\n",
            "\n",
            "\n",
            "=== Processing aspect: direction ===\n",
            "Fold 1 CV Accuracy: 0.3570, Training Accuracy: 0.3601\n"
          ]
        }
      ],
      "source": [
        "best_models, train_reports, test_reports = train_final_dl_models_from_csv(train_df,test_df, aspects,768)"
      ]
    }
  ],
  "metadata": {
    "accelerator": "GPU",
    "colab": {
      "gpuType": "T4",
      "provenance": [],
      "mount_file_id": "1u-n9p45QmKwQjrOP-Fx7-c1IdwsUIqr8",
      "authorship_tag": "ABX9TyOk909fryS+a9BN2F4D/ylG",
      "include_colab_link": true
    },
    "kernelspec": {
      "display_name": "Python 3",
      "name": "python3"
    },
    "language_info": {
      "name": "python"
    }
  },
  "nbformat": 4,
  "nbformat_minor": 0
}